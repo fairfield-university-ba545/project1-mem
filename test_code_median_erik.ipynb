{
 "cells": [
  {
   "cell_type": "code",
   "execution_count": null,
   "metadata": {},
   "outputs": [],
   "source": [
    "#Here we have normalization---change imputiation method(mean,median,mode)"
   ]
  },
  {
   "cell_type": "code",
   "execution_count": 1,
   "metadata": {},
   "outputs": [],
   "source": [
    "# imports\n",
    "import pandas as pd\n",
    "import numpy as np"
   ]
  },
  {
   "cell_type": "code",
   "execution_count": 2,
   "metadata": {},
   "outputs": [],
   "source": [
    "# NOTE WHAT COLUMN TO INCLUDE AND WHAT NOT TO INCLUDE"
   ]
  },
  {
   "cell_type": "markdown",
   "metadata": {},
   "source": [
    "- C Column can be 0 and less than 0, no dash\n",
    "- S can be 0 CANNOT be less than 0, no dash\n",
    "- T3-T5 --> can be 0, and less than 0, no dash\n",
    "- T1 --> CANNOT be 0, less than 0, no dashes \n",
    "- T2 --> CANNOT be 0, less than 0, no dashes\n",
    "- P --> CANNOT be 0, less than 0, no dashes"
   ]
  },
  {
   "cell_type": "code",
   "execution_count": 3,
   "metadata": {},
   "outputs": [
    {
     "data": {
      "text/html": [
       "<div>\n",
       "<style scoped>\n",
       "    .dataframe tbody tr th:only-of-type {\n",
       "        vertical-align: middle;\n",
       "    }\n",
       "\n",
       "    .dataframe tbody tr th {\n",
       "        vertical-align: top;\n",
       "    }\n",
       "\n",
       "    .dataframe thead th {\n",
       "        text-align: right;\n",
       "    }\n",
       "</style>\n",
       "<table border=\"1\" class=\"dataframe\">\n",
       "  <thead>\n",
       "    <tr style=\"text-align: right;\">\n",
       "      <th></th>\n",
       "      <th>I1</th>\n",
       "      <th>I2</th>\n",
       "      <th>I3</th>\n",
       "      <th>P(IPO)</th>\n",
       "      <th>P(H)</th>\n",
       "      <th>P(L)</th>\n",
       "      <th>P(1Day)</th>\n",
       "      <th>C1</th>\n",
       "      <th>C2</th>\n",
       "      <th>C3</th>\n",
       "      <th>...</th>\n",
       "      <th>C6</th>\n",
       "      <th>C7</th>\n",
       "      <th>T1</th>\n",
       "      <th>T2</th>\n",
       "      <th>T3</th>\n",
       "      <th>T4</th>\n",
       "      <th>T5</th>\n",
       "      <th>S1</th>\n",
       "      <th>S2</th>\n",
       "      <th>S3</th>\n",
       "    </tr>\n",
       "  </thead>\n",
       "  <tbody>\n",
       "    <tr>\n",
       "      <th>0</th>\n",
       "      <td>AATI</td>\n",
       "      <td>ADVANCED ANALOGIC TECHNOLOGIES INC</td>\n",
       "      <td>3674</td>\n",
       "      <td>10.0</td>\n",
       "      <td>9.5</td>\n",
       "      <td>8.5</td>\n",
       "      <td>11.870000</td>\n",
       "      <td>122.0</td>\n",
       "      <td>1.0</td>\n",
       "      <td>3.43</td>\n",
       "      <td>...</td>\n",
       "      <td>10600000.0</td>\n",
       "      <td>51.345</td>\n",
       "      <td>470.0</td>\n",
       "      <td>12719.0</td>\n",
       "      <td>11560.0</td>\n",
       "      <td>301.0</td>\n",
       "      <td>690.0</td>\n",
       "      <td>62.0</td>\n",
       "      <td>117.0</td>\n",
       "      <td>139.0</td>\n",
       "    </tr>\n",
       "    <tr>\n",
       "      <th>1</th>\n",
       "      <td>ABPI</td>\n",
       "      <td>ACCENTIA BIOPHARMACEUTICALS INC</td>\n",
       "      <td>2834</td>\n",
       "      <td>8.0</td>\n",
       "      <td>10.0</td>\n",
       "      <td>8.0</td>\n",
       "      <td>7.250000</td>\n",
       "      <td>259.0</td>\n",
       "      <td>0.0</td>\n",
       "      <td>-1.62</td>\n",
       "      <td>...</td>\n",
       "      <td>2400000.0</td>\n",
       "      <td>25.936</td>\n",
       "      <td>791.0</td>\n",
       "      <td>21792.0</td>\n",
       "      <td>19585.0</td>\n",
       "      <td>510.0</td>\n",
       "      <td>1120.0</td>\n",
       "      <td>71.0</td>\n",
       "      <td>242.0</td>\n",
       "      <td>237.0</td>\n",
       "    </tr>\n",
       "    <tr>\n",
       "      <th>2</th>\n",
       "      <td>ACAD</td>\n",
       "      <td>ACADIA PHARMACEUTICALS INC</td>\n",
       "      <td>2834</td>\n",
       "      <td>7.0</td>\n",
       "      <td>14.0</td>\n",
       "      <td>12.0</td>\n",
       "      <td>6.700000</td>\n",
       "      <td>90.0</td>\n",
       "      <td>1.0</td>\n",
       "      <td>-1.24</td>\n",
       "      <td>...</td>\n",
       "      <td>5000000.0</td>\n",
       "      <td>7.378</td>\n",
       "      <td>201.0</td>\n",
       "      <td>5262.0</td>\n",
       "      <td>4785.0</td>\n",
       "      <td>128.0</td>\n",
       "      <td>325.0</td>\n",
       "      <td>61.0</td>\n",
       "      <td>33.0</td>\n",
       "      <td>60.0</td>\n",
       "    </tr>\n",
       "    <tr>\n",
       "      <th>3</th>\n",
       "      <td>ACHN</td>\n",
       "      <td>ACHILLION PHARMACEUTICALS INC</td>\n",
       "      <td>2834</td>\n",
       "      <td>11.5</td>\n",
       "      <td>16.0</td>\n",
       "      <td>14.0</td>\n",
       "      <td>12.390000</td>\n",
       "      <td>209.0</td>\n",
       "      <td>1.0</td>\n",
       "      <td>-0.91</td>\n",
       "      <td>...</td>\n",
       "      <td>4500000.0</td>\n",
       "      <td>8.526</td>\n",
       "      <td>328.0</td>\n",
       "      <td>8259.0</td>\n",
       "      <td>7574.0</td>\n",
       "      <td>177.0</td>\n",
       "      <td>509.0</td>\n",
       "      <td>80.0</td>\n",
       "      <td>59.0</td>\n",
       "      <td>110.0</td>\n",
       "    </tr>\n",
       "    <tr>\n",
       "      <th>4</th>\n",
       "      <td>ACLI</td>\n",
       "      <td>AMERICAN COMMERCIAL LINES INC.</td>\n",
       "      <td>4492</td>\n",
       "      <td>21.0</td>\n",
       "      <td>21.0</td>\n",
       "      <td>19.0</td>\n",
       "      <td>56.599998</td>\n",
       "      <td>80.0</td>\n",
       "      <td>1.0</td>\n",
       "      <td>0.07</td>\n",
       "      <td>...</td>\n",
       "      <td>8250000.0</td>\n",
       "      <td>632.298</td>\n",
       "      <td>572.0</td>\n",
       "      <td>14830.0</td>\n",
       "      <td>13176.0</td>\n",
       "      <td>336.0</td>\n",
       "      <td>720.0</td>\n",
       "      <td>67.0</td>\n",
       "      <td>149.0</td>\n",
       "      <td>167.0</td>\n",
       "    </tr>\n",
       "  </tbody>\n",
       "</table>\n",
       "<p>5 rows × 22 columns</p>\n",
       "</div>"
      ],
      "text/plain": [
       "     I1                                  I2    I3  P(IPO)  P(H)  P(L)  \\\n",
       "0  AATI  ADVANCED ANALOGIC TECHNOLOGIES INC  3674    10.0   9.5   8.5   \n",
       "1  ABPI     ACCENTIA BIOPHARMACEUTICALS INC  2834     8.0  10.0   8.0   \n",
       "2  ACAD          ACADIA PHARMACEUTICALS INC  2834     7.0  14.0  12.0   \n",
       "3  ACHN       ACHILLION PHARMACEUTICALS INC  2834    11.5  16.0  14.0   \n",
       "4  ACLI     AMERICAN COMMERCIAL LINES INC.   4492    21.0  21.0  19.0   \n",
       "\n",
       "     P(1Day)     C1   C2    C3  ...          C6       C7     T1       T2  \\\n",
       "0  11.870000  122.0  1.0  3.43  ...  10600000.0   51.345  470.0  12719.0   \n",
       "1   7.250000  259.0  0.0 -1.62  ...   2400000.0   25.936  791.0  21792.0   \n",
       "2   6.700000   90.0  1.0 -1.24  ...   5000000.0    7.378  201.0   5262.0   \n",
       "3  12.390000  209.0  1.0 -0.91  ...   4500000.0    8.526  328.0   8259.0   \n",
       "4  56.599998   80.0  1.0  0.07  ...   8250000.0  632.298  572.0  14830.0   \n",
       "\n",
       "        T3     T4      T5    S1     S2     S3  \n",
       "0  11560.0  301.0   690.0  62.0  117.0  139.0  \n",
       "1  19585.0  510.0  1120.0  71.0  242.0  237.0  \n",
       "2   4785.0  128.0   325.0  61.0   33.0   60.0  \n",
       "3   7574.0  177.0   509.0  80.0   59.0  110.0  \n",
       "4  13176.0  336.0   720.0  67.0  149.0  167.0  \n",
       "\n",
       "[5 rows x 22 columns]"
      ]
     },
     "execution_count": 3,
     "metadata": {},
     "output_type": "execute_result"
    }
   ],
   "source": [
    "# read in the whole file and '-' as NA values \n",
    "data = pd.read_excel('Competition1_raw_data.xlsx', na_values=r'-')\n",
    "                    #dtype={'P(IPO)': float, 'P(1Day)': float})\n",
    "# define dashes as missing --> 0 or NaN\n",
    "data.head(5)"
   ]
  },
  {
   "cell_type": "markdown",
   "metadata": {},
   "source": [
    "We see there are missing values in all columns but I1 and I3. Moreover, some do not have the correct data type."
   ]
  },
  {
   "cell_type": "code",
   "execution_count": 4,
   "metadata": {},
   "outputs": [
    {
     "name": "stdout",
     "output_type": "stream",
     "text": [
      "<class 'pandas.core.frame.DataFrame'>\n",
      "RangeIndex: 682 entries, 0 to 681\n",
      "Data columns (total 22 columns):\n",
      "I1         682 non-null object\n",
      "I2         682 non-null object\n",
      "I3         674 non-null object\n",
      "P(IPO)     677 non-null float64\n",
      "P(H)       672 non-null float64\n",
      "P(L)       672 non-null float64\n",
      "P(1Day)    660 non-null float64\n",
      "C1         660 non-null float64\n",
      "C2         660 non-null float64\n",
      "C3         646 non-null float64\n",
      "C4         660 non-null float64\n",
      "C5         676 non-null float64\n",
      "C6         676 non-null float64\n",
      "C7         610 non-null float64\n",
      "T1         681 non-null float64\n",
      "T2         681 non-null float64\n",
      "T3         681 non-null float64\n",
      "T4         681 non-null float64\n",
      "T5         681 non-null float64\n",
      "S1         681 non-null float64\n",
      "S2         681 non-null float64\n",
      "S3         681 non-null float64\n",
      "dtypes: float64(19), object(3)\n",
      "memory usage: 117.3+ KB\n"
     ]
    }
   ],
   "source": [
    "data.info()"
   ]
  },
  {
   "cell_type": "markdown",
   "metadata": {},
   "source": [
    "The P columns look quite consistent. "
   ]
  },
  {
   "cell_type": "code",
   "execution_count": 5,
   "metadata": {},
   "outputs": [
    {
     "data": {
      "text/html": [
       "<div>\n",
       "<style scoped>\n",
       "    .dataframe tbody tr th:only-of-type {\n",
       "        vertical-align: middle;\n",
       "    }\n",
       "\n",
       "    .dataframe tbody tr th {\n",
       "        vertical-align: top;\n",
       "    }\n",
       "\n",
       "    .dataframe thead th {\n",
       "        text-align: right;\n",
       "    }\n",
       "</style>\n",
       "<table border=\"1\" class=\"dataframe\">\n",
       "  <thead>\n",
       "    <tr style=\"text-align: right;\">\n",
       "      <th></th>\n",
       "      <th>P(IPO)</th>\n",
       "      <th>P(H)</th>\n",
       "      <th>P(L)</th>\n",
       "      <th>P(1Day)</th>\n",
       "      <th>C1</th>\n",
       "      <th>C2</th>\n",
       "      <th>C3</th>\n",
       "      <th>C4</th>\n",
       "      <th>C5</th>\n",
       "      <th>C6</th>\n",
       "      <th>C7</th>\n",
       "      <th>T1</th>\n",
       "      <th>T2</th>\n",
       "      <th>T3</th>\n",
       "      <th>T4</th>\n",
       "      <th>T5</th>\n",
       "      <th>S1</th>\n",
       "      <th>S2</th>\n",
       "      <th>S3</th>\n",
       "    </tr>\n",
       "  </thead>\n",
       "  <tbody>\n",
       "    <tr>\n",
       "      <th>count</th>\n",
       "      <td>677.000000</td>\n",
       "      <td>672.000000</td>\n",
       "      <td>672.000000</td>\n",
       "      <td>660.000000</td>\n",
       "      <td>660.000000</td>\n",
       "      <td>660.000000</td>\n",
       "      <td>646.000000</td>\n",
       "      <td>660.000000</td>\n",
       "      <td>6.760000e+02</td>\n",
       "      <td>6.760000e+02</td>\n",
       "      <td>610.000000</td>\n",
       "      <td>681.000000</td>\n",
       "      <td>681.000000</td>\n",
       "      <td>681.000000</td>\n",
       "      <td>681.000000</td>\n",
       "      <td>681.000000</td>\n",
       "      <td>681.000000</td>\n",
       "      <td>681.000000</td>\n",
       "      <td>681.000000</td>\n",
       "    </tr>\n",
       "    <tr>\n",
       "      <th>mean</th>\n",
       "      <td>13.837666</td>\n",
       "      <td>15.481190</td>\n",
       "      <td>13.515045</td>\n",
       "      <td>25.934766</td>\n",
       "      <td>149.728788</td>\n",
       "      <td>0.859091</td>\n",
       "      <td>1.788904</td>\n",
       "      <td>0.007282</td>\n",
       "      <td>4.935776e+07</td>\n",
       "      <td>1.241519e+07</td>\n",
       "      <td>500.459962</td>\n",
       "      <td>465.634361</td>\n",
       "      <td>12758.606461</td>\n",
       "      <td>11395.844347</td>\n",
       "      <td>294.353891</td>\n",
       "      <td>679.220264</td>\n",
       "      <td>68.421439</td>\n",
       "      <td>120.104258</td>\n",
       "      <td>144.759178</td>\n",
       "    </tr>\n",
       "    <tr>\n",
       "      <th>std</th>\n",
       "      <td>6.053731</td>\n",
       "      <td>6.653429</td>\n",
       "      <td>5.835646</td>\n",
       "      <td>73.234948</td>\n",
       "      <td>152.817467</td>\n",
       "      <td>0.348192</td>\n",
       "      <td>162.666532</td>\n",
       "      <td>0.033318</td>\n",
       "      <td>1.043764e+08</td>\n",
       "      <td>2.512855e+07</td>\n",
       "      <td>1648.337634</td>\n",
       "      <td>175.741647</td>\n",
       "      <td>5449.644597</td>\n",
       "      <td>4839.670179</td>\n",
       "      <td>121.532637</td>\n",
       "      <td>472.914323</td>\n",
       "      <td>39.096525</td>\n",
       "      <td>84.828959</td>\n",
       "      <td>69.276285</td>\n",
       "    </tr>\n",
       "    <tr>\n",
       "      <th>min</th>\n",
       "      <td>3.000000</td>\n",
       "      <td>0.000000</td>\n",
       "      <td>3.000000</td>\n",
       "      <td>0.000000</td>\n",
       "      <td>10.000000</td>\n",
       "      <td>0.000000</td>\n",
       "      <td>-786.239000</td>\n",
       "      <td>-0.162352</td>\n",
       "      <td>3.693227e+06</td>\n",
       "      <td>5.250000e+05</td>\n",
       "      <td>0.074000</td>\n",
       "      <td>132.000000</td>\n",
       "      <td>0.000000</td>\n",
       "      <td>0.000000</td>\n",
       "      <td>0.000000</td>\n",
       "      <td>-1.000000</td>\n",
       "      <td>-1.000000</td>\n",
       "      <td>20.000000</td>\n",
       "      <td>26.000000</td>\n",
       "    </tr>\n",
       "    <tr>\n",
       "      <th>25%</th>\n",
       "      <td>10.000000</td>\n",
       "      <td>12.500000</td>\n",
       "      <td>11.000000</td>\n",
       "      <td>11.000000</td>\n",
       "      <td>85.000000</td>\n",
       "      <td>1.000000</td>\n",
       "      <td>-0.852500</td>\n",
       "      <td>-0.013927</td>\n",
       "      <td>1.871417e+07</td>\n",
       "      <td>5.000000e+06</td>\n",
       "      <td>37.245750</td>\n",
       "      <td>351.000000</td>\n",
       "      <td>9195.000000</td>\n",
       "      <td>8162.000000</td>\n",
       "      <td>213.000000</td>\n",
       "      <td>462.000000</td>\n",
       "      <td>45.000000</td>\n",
       "      <td>73.000000</td>\n",
       "      <td>100.000000</td>\n",
       "    </tr>\n",
       "    <tr>\n",
       "      <th>50%</th>\n",
       "      <td>13.500000</td>\n",
       "      <td>15.000000</td>\n",
       "      <td>13.000000</td>\n",
       "      <td>14.845000</td>\n",
       "      <td>107.000000</td>\n",
       "      <td>1.000000</td>\n",
       "      <td>0.010000</td>\n",
       "      <td>0.009125</td>\n",
       "      <td>2.740018e+07</td>\n",
       "      <td>7.398704e+06</td>\n",
       "      <td>103.833000</td>\n",
       "      <td>444.000000</td>\n",
       "      <td>12045.000000</td>\n",
       "      <td>10785.000000</td>\n",
       "      <td>279.000000</td>\n",
       "      <td>624.000000</td>\n",
       "      <td>60.000000</td>\n",
       "      <td>100.000000</td>\n",
       "      <td>134.000000</td>\n",
       "    </tr>\n",
       "    <tr>\n",
       "      <th>75%</th>\n",
       "      <td>17.000000</td>\n",
       "      <td>17.000000</td>\n",
       "      <td>15.000000</td>\n",
       "      <td>20.485000</td>\n",
       "      <td>155.250000</td>\n",
       "      <td>1.000000</td>\n",
       "      <td>0.470000</td>\n",
       "      <td>0.031571</td>\n",
       "      <td>4.980786e+07</td>\n",
       "      <td>1.200000e+07</td>\n",
       "      <td>331.138000</td>\n",
       "      <td>551.000000</td>\n",
       "      <td>15241.000000</td>\n",
       "      <td>13760.000000</td>\n",
       "      <td>354.000000</td>\n",
       "      <td>795.000000</td>\n",
       "      <td>85.000000</td>\n",
       "      <td>142.000000</td>\n",
       "      <td>173.000000</td>\n",
       "    </tr>\n",
       "    <tr>\n",
       "      <th>max</th>\n",
       "      <td>85.000000</td>\n",
       "      <td>135.000000</td>\n",
       "      <td>108.000000</td>\n",
       "      <td>1159.200562</td>\n",
       "      <td>2087.000000</td>\n",
       "      <td>1.000000</td>\n",
       "      <td>3864.500000</td>\n",
       "      <td>0.092896</td>\n",
       "      <td>2.138085e+09</td>\n",
       "      <td>4.212336e+08</td>\n",
       "      <td>30683.000000</td>\n",
       "      <td>1750.000000</td>\n",
       "      <td>49056.000000</td>\n",
       "      <td>43952.000000</td>\n",
       "      <td>1058.000000</td>\n",
       "      <td>10277.000000</td>\n",
       "      <td>309.000000</td>\n",
       "      <td>944.000000</td>\n",
       "      <td>883.000000</td>\n",
       "    </tr>\n",
       "  </tbody>\n",
       "</table>\n",
       "</div>"
      ],
      "text/plain": [
       "           P(IPO)        P(H)        P(L)      P(1Day)           C1  \\\n",
       "count  677.000000  672.000000  672.000000   660.000000   660.000000   \n",
       "mean    13.837666   15.481190   13.515045    25.934766   149.728788   \n",
       "std      6.053731    6.653429    5.835646    73.234948   152.817467   \n",
       "min      3.000000    0.000000    3.000000     0.000000    10.000000   \n",
       "25%     10.000000   12.500000   11.000000    11.000000    85.000000   \n",
       "50%     13.500000   15.000000   13.000000    14.845000   107.000000   \n",
       "75%     17.000000   17.000000   15.000000    20.485000   155.250000   \n",
       "max     85.000000  135.000000  108.000000  1159.200562  2087.000000   \n",
       "\n",
       "               C2           C3          C4            C5            C6  \\\n",
       "count  660.000000   646.000000  660.000000  6.760000e+02  6.760000e+02   \n",
       "mean     0.859091     1.788904    0.007282  4.935776e+07  1.241519e+07   \n",
       "std      0.348192   162.666532    0.033318  1.043764e+08  2.512855e+07   \n",
       "min      0.000000  -786.239000   -0.162352  3.693227e+06  5.250000e+05   \n",
       "25%      1.000000    -0.852500   -0.013927  1.871417e+07  5.000000e+06   \n",
       "50%      1.000000     0.010000    0.009125  2.740018e+07  7.398704e+06   \n",
       "75%      1.000000     0.470000    0.031571  4.980786e+07  1.200000e+07   \n",
       "max      1.000000  3864.500000    0.092896  2.138085e+09  4.212336e+08   \n",
       "\n",
       "                 C7           T1            T2            T3           T4  \\\n",
       "count    610.000000   681.000000    681.000000    681.000000   681.000000   \n",
       "mean     500.459962   465.634361  12758.606461  11395.844347   294.353891   \n",
       "std     1648.337634   175.741647   5449.644597   4839.670179   121.532637   \n",
       "min        0.074000   132.000000      0.000000      0.000000     0.000000   \n",
       "25%       37.245750   351.000000   9195.000000   8162.000000   213.000000   \n",
       "50%      103.833000   444.000000  12045.000000  10785.000000   279.000000   \n",
       "75%      331.138000   551.000000  15241.000000  13760.000000   354.000000   \n",
       "max    30683.000000  1750.000000  49056.000000  43952.000000  1058.000000   \n",
       "\n",
       "                 T5          S1          S2          S3  \n",
       "count    681.000000  681.000000  681.000000  681.000000  \n",
       "mean     679.220264   68.421439  120.104258  144.759178  \n",
       "std      472.914323   39.096525   84.828959   69.276285  \n",
       "min       -1.000000   -1.000000   20.000000   26.000000  \n",
       "25%      462.000000   45.000000   73.000000  100.000000  \n",
       "50%      624.000000   60.000000  100.000000  134.000000  \n",
       "75%      795.000000   85.000000  142.000000  173.000000  \n",
       "max    10277.000000  309.000000  944.000000  883.000000  "
      ]
     },
     "execution_count": 5,
     "metadata": {},
     "output_type": "execute_result"
    }
   ],
   "source": [
    "data.describe()"
   ]
  },
  {
   "cell_type": "code",
   "execution_count": 6,
   "metadata": {},
   "outputs": [],
   "source": [
    "# replace with nan\n",
    "data.loc[(data['S1'] < 0),'S1'] = np.nan\n",
    "data.loc[(data['T2'] == 0),'T2'] = np.nan\n",
    "data.loc[(data['T5'] < 0),'T5'] = np.nan\n",
    "\n",
    "# drop - for P values \n",
    "data.dropna(subset=['P(IPO)', 'P(H)', 'P(L)', 'P(1Day)'], inplace=True)\n",
    "\n",
    "# impute \n",
    "data['S1'] = data['S1'].fillna(data['S1'].median())\n",
    "data['T2'] = data['T2'].fillna(data['T2'].median())\n",
    "data['T5'] = data['T5'].fillna(data['T5'].median())\n",
    "data['C3_impute'] = data['C3'].fillna(data['C3'].median())\n",
    "data['C7_impute'] = data['C7'].fillna(data['C7'].median())\n",
    "\n",
    "# exclude not imputed C3 and C7\n",
    "data = data[['I1', 'I2', 'I3', 'P(IPO)', 'P(H)', 'P(L)', 'P(1Day)', 'C1', 'C2',\n",
    "       'C4', 'C5', 'C6', 'T1', 'T2', 'T3', 'T4', 'T5', 'S1', 'S2', 'S3',\n",
    "       'C3_impute', 'C7_impute']]"
   ]
  },
  {
   "cell_type": "code",
   "execution_count": 7,
   "metadata": {},
   "outputs": [
    {
     "data": {
      "text/html": [
       "<div>\n",
       "<style scoped>\n",
       "    .dataframe tbody tr th:only-of-type {\n",
       "        vertical-align: middle;\n",
       "    }\n",
       "\n",
       "    .dataframe tbody tr th {\n",
       "        vertical-align: top;\n",
       "    }\n",
       "\n",
       "    .dataframe thead th {\n",
       "        text-align: right;\n",
       "    }\n",
       "</style>\n",
       "<table border=\"1\" class=\"dataframe\">\n",
       "  <thead>\n",
       "    <tr style=\"text-align: right;\">\n",
       "      <th></th>\n",
       "      <th>I1</th>\n",
       "      <th>I2</th>\n",
       "      <th>I3</th>\n",
       "      <th>P(IPO)</th>\n",
       "      <th>P(H)</th>\n",
       "      <th>P(L)</th>\n",
       "      <th>P(1Day)</th>\n",
       "      <th>C1</th>\n",
       "      <th>C2</th>\n",
       "      <th>C4</th>\n",
       "      <th>...</th>\n",
       "      <th>T1</th>\n",
       "      <th>T2</th>\n",
       "      <th>T3</th>\n",
       "      <th>T4</th>\n",
       "      <th>T5</th>\n",
       "      <th>S1</th>\n",
       "      <th>S2</th>\n",
       "      <th>S3</th>\n",
       "      <th>C3_impute</th>\n",
       "      <th>C7_impute</th>\n",
       "    </tr>\n",
       "  </thead>\n",
       "  <tbody>\n",
       "  </tbody>\n",
       "</table>\n",
       "<p>0 rows × 22 columns</p>\n",
       "</div>"
      ],
      "text/plain": [
       "Empty DataFrame\n",
       "Columns: [I1, I2, I3, P(IPO), P(H), P(L), P(1Day), C1, C2, C4, C5, C6, T1, T2, T3, T4, T5, S1, S2, S3, C3_impute, C7_impute]\n",
       "Index: []\n",
       "\n",
       "[0 rows x 22 columns]"
      ]
     },
     "execution_count": 7,
     "metadata": {},
     "output_type": "execute_result"
    }
   ],
   "source": [
    "data[data['T5']==0]"
   ]
  },
  {
   "cell_type": "code",
   "execution_count": 8,
   "metadata": {},
   "outputs": [
    {
     "name": "stdout",
     "output_type": "stream",
     "text": [
      "<class 'pandas.core.frame.DataFrame'>\n",
      "Int64Index: 660 entries, 0 to 681\n",
      "Data columns (total 22 columns):\n",
      "I1           660 non-null object\n",
      "I2           660 non-null object\n",
      "I3           660 non-null object\n",
      "P(IPO)       660 non-null float64\n",
      "P(H)         660 non-null float64\n",
      "P(L)         660 non-null float64\n",
      "P(1Day)      660 non-null float64\n",
      "C1           660 non-null float64\n",
      "C2           660 non-null float64\n",
      "C4           660 non-null float64\n",
      "C5           660 non-null float64\n",
      "C6           660 non-null float64\n",
      "T1           660 non-null float64\n",
      "T2           660 non-null float64\n",
      "T3           660 non-null float64\n",
      "T4           660 non-null float64\n",
      "T5           660 non-null float64\n",
      "S1           660 non-null float64\n",
      "S2           660 non-null float64\n",
      "S3           660 non-null float64\n",
      "C3_impute    660 non-null float64\n",
      "C7_impute    660 non-null float64\n",
      "dtypes: float64(19), object(3)\n",
      "memory usage: 118.6+ KB\n"
     ]
    }
   ],
   "source": [
    "data.info()"
   ]
  },
  {
   "cell_type": "code",
   "execution_count": 9,
   "metadata": {},
   "outputs": [
    {
     "data": {
      "text/plain": [
       "I1           0\n",
       "I2           0\n",
       "I3           0\n",
       "P(IPO)       0\n",
       "P(H)         0\n",
       "P(L)         0\n",
       "P(1Day)      0\n",
       "C1           0\n",
       "C2           0\n",
       "C4           0\n",
       "C5           0\n",
       "C6           0\n",
       "T1           0\n",
       "T2           0\n",
       "T3           0\n",
       "T4           0\n",
       "T5           0\n",
       "S1           0\n",
       "S2           0\n",
       "S3           0\n",
       "C3_impute    0\n",
       "C7_impute    0\n",
       "dtype: int64"
      ]
     },
     "execution_count": 9,
     "metadata": {},
     "output_type": "execute_result"
    }
   ],
   "source": [
    "data.isnull().sum()"
   ]
  },
  {
   "cell_type": "code",
   "execution_count": 10,
   "metadata": {},
   "outputs": [
    {
     "data": {
      "text/html": [
       "<div>\n",
       "<style scoped>\n",
       "    .dataframe tbody tr th:only-of-type {\n",
       "        vertical-align: middle;\n",
       "    }\n",
       "\n",
       "    .dataframe tbody tr th {\n",
       "        vertical-align: top;\n",
       "    }\n",
       "\n",
       "    .dataframe thead th {\n",
       "        text-align: right;\n",
       "    }\n",
       "</style>\n",
       "<table border=\"1\" class=\"dataframe\">\n",
       "  <thead>\n",
       "    <tr style=\"text-align: right;\">\n",
       "      <th></th>\n",
       "      <th>I1</th>\n",
       "      <th>I2</th>\n",
       "      <th>I3</th>\n",
       "      <th>P(IPO)</th>\n",
       "      <th>P(H)</th>\n",
       "      <th>P(L)</th>\n",
       "      <th>P(1Day)</th>\n",
       "      <th>C1</th>\n",
       "      <th>C2</th>\n",
       "      <th>C4</th>\n",
       "      <th>...</th>\n",
       "      <th>T1</th>\n",
       "      <th>T2</th>\n",
       "      <th>T3</th>\n",
       "      <th>T4</th>\n",
       "      <th>T5</th>\n",
       "      <th>S1</th>\n",
       "      <th>S2</th>\n",
       "      <th>S3</th>\n",
       "      <th>C3_impute</th>\n",
       "      <th>C7_impute</th>\n",
       "    </tr>\n",
       "  </thead>\n",
       "  <tbody>\n",
       "  </tbody>\n",
       "</table>\n",
       "<p>0 rows × 22 columns</p>\n",
       "</div>"
      ],
      "text/plain": [
       "Empty DataFrame\n",
       "Columns: [I1, I2, I3, P(IPO), P(H), P(L), P(1Day), C1, C2, C4, C5, C6, T1, T2, T3, T4, T5, S1, S2, S3, C3_impute, C7_impute]\n",
       "Index: []\n",
       "\n",
       "[0 rows x 22 columns]"
      ]
     },
     "execution_count": 10,
     "metadata": {},
     "output_type": "execute_result"
    }
   ],
   "source": [
    "data[data['P(1Day)']<0]"
   ]
  },
  {
   "cell_type": "markdown",
   "metadata": {},
   "source": [
    "## ERROR WITH C3`"
   ]
  },
  {
   "cell_type": "code",
   "execution_count": 11,
   "metadata": {},
   "outputs": [],
   "source": [
    "# C2 to int (booleon)\n",
    "data['C2'] = data['C2'].astype(int)\n",
    "\n",
    "# P(mid) calculation and add it to the column \n",
    "# P(mid) = (P(H)+P(L))/2\n",
    "data['P(mid)'] = (data['P(H)'] + data['P(L)'])/2\n",
    "\n",
    "# targets to be calculated\n",
    "# make it equal to P(IPO) then we will just replace\n",
    "#data['Y1'] = data['P(IPO)']\n",
    "#data['Y2'] = data['P(IPO)']\n",
    "\n",
    "# replace Y1 and change dtype to binary\n",
    "data['Y1'] = np.where((data['P(IPO)'] < data['P(mid)']), 1, 0)\n",
    "data['Y2'] = np.where((data['P(IPO)'] > data['P(mid)']), 1, 0)\n",
    "#data.loc[(data['Y1'] < data['P(mid)']),'Y1'] = 1\n",
    "#data.loc[(data['Y1'] > data['P(mid)']),'Y1'] = 0\n",
    "#data['Y1'] = data['Y1'].astype(int)\n",
    "\n",
    "# replace Y2\n",
    "#data.loc[(data['Y2'] < data['P(1Day)']),'Y2'] = 1\n",
    "#data.loc[(data['Y2'] > data['P(1Day)']),'Y2'] = 0\n",
    "#data['Y2'] = data['Y2'].astype(int)\n",
    "\n",
    "# Control values to be calculated\n",
    "#data['C3`'] = data['C3_impute']\n",
    "#df['Event'] = np.where((df.Event == 'Painting'),'Art',df.Event)\n",
    "#data['C3`'] = np.where((data['C3_impute'] > 0),1,data['C3_impute'])\n",
    "#data['C3`'] = np.where((data['C3_impute'] < 0),0,data['C3_impute'])\n",
    "#data['C3`'] = np.where((data['C3_impute'] == 0),1,data['C3_impute'])\n",
    "#data['C3`'] = data['C3_impute']\n",
    "def c3_prime(c3_impute):\n",
    "    if c3_impute > 0:\n",
    "        return (1)\n",
    "    else:\n",
    "        return (0)\n",
    "    \n",
    "data['C3`'] = data['C3_impute'].apply(c3_prime)\n",
    "data['C3`'] = data['C3`'].astype(int)\n",
    "\n",
    "# C5`\n",
    "data['C5`'] = data['C5']/data['C6']\n",
    "data['C5`'] = data['C5`'].astype(float)\n",
    "\n",
    "# C6`\n",
    "data['C6calc'] = ((data['P(IPO)'] - data['P(mid)']) / data['P(mid)']) * 1\n",
    "data['C6`'] = 0\n",
    "data['C6`'] = np.where((data['P(IPO)'] > data['P(mid)']),data['C6calc'],data['C6`'])\n",
    "data['C6`'] = np.where((data['P(IPO)'] < data['P(mid)']),0,data['C6`'])\n",
    "data['C6`'] = np.where((data['P(mid)']==0),0,data['C6`'])\n",
    "data['C6`'] = data['C6`'].astype(float)"
   ]
  },
  {
   "cell_type": "code",
   "execution_count": 12,
   "metadata": {},
   "outputs": [
    {
     "data": {
      "text/plain": [
       "0    345\n",
       "1    315\n",
       "Name: C3`, dtype: int64"
      ]
     },
     "execution_count": 12,
     "metadata": {},
     "output_type": "execute_result"
    }
   ],
   "source": [
    "data['C3`'].value_counts()"
   ]
  },
  {
   "cell_type": "code",
   "execution_count": 13,
   "metadata": {},
   "outputs": [],
   "source": [
    "# replace T3, and T4\n",
    "data.loc[(data['T3'] == 0),'T3'] = np.nan\n",
    "data.loc[(data['T4'] == 0),'T4'] = np.nan\n",
    "\n",
    "# fillna\n",
    "data['T3'] = data['T3'].fillna(data['T3'].median())\n",
    "data['T4'] = data['T4'].fillna(data['T4'].median())"
   ]
  },
  {
   "cell_type": "code",
   "execution_count": 14,
   "metadata": {},
   "outputs": [],
   "source": [
    "#data.loc[data['T4'] == '-'] \n",
    "#data.drop(217,inplace=True)\n",
    "#percent of long sentences\n",
    "data[\"T1prime\"] = data[\"T4\"].astype(float)/data[\"T1\"].astype(float)\n",
    "# T2\n",
    "data['T2prime'] = data['T5'].astype(float)/data['T2'].astype(float)\n",
    "#percent of real words\n",
    "data[\"T3prime\"] = data[\"T3\"].astype(float)/data[\"T2\"].astype(float)\n",
    "#percent of long sentences\n",
    "data[\"T4prime\"] = data[\"T1\"].astype(float)/data[\"T4\"].astype(float)\n",
    "# percent of long words \n",
    "data[\"T5prime\"] = data[\"T5\"].astype(float)/data[\"T2\"].astype(float)\n",
    "#percent of positive words\n",
    "data[\"S1prime\"] = data[\"S1\"].astype(float)/data[\"T2\"].astype(float)\n",
    "#percent of negative words\n",
    "data[\"S2prime\"] = data[\"S2\"].astype(float)/data[\"T2\"].astype(float)\n",
    "#percent of uncertain words\n",
    "data[\"S3prime\"] = data[\"S3\"].astype(float)/data[\"T2\"].astype(float)"
   ]
  },
  {
   "cell_type": "code",
   "execution_count": 15,
   "metadata": {},
   "outputs": [
    {
     "name": "stdout",
     "output_type": "stream",
     "text": [
      "<class 'pandas.core.frame.DataFrame'>\n",
      "Int64Index: 660 entries, 0 to 681\n",
      "Data columns (total 37 columns):\n",
      "I1           660 non-null object\n",
      "I2           660 non-null object\n",
      "I3           660 non-null object\n",
      "P(IPO)       660 non-null float64\n",
      "P(H)         660 non-null float64\n",
      "P(L)         660 non-null float64\n",
      "P(1Day)      660 non-null float64\n",
      "C1           660 non-null float64\n",
      "C2           660 non-null int64\n",
      "C4           660 non-null float64\n",
      "C5           660 non-null float64\n",
      "C6           660 non-null float64\n",
      "T1           660 non-null float64\n",
      "T2           660 non-null float64\n",
      "T3           660 non-null float64\n",
      "T4           660 non-null float64\n",
      "T5           660 non-null float64\n",
      "S1           660 non-null float64\n",
      "S2           660 non-null float64\n",
      "S3           660 non-null float64\n",
      "C3_impute    660 non-null float64\n",
      "C7_impute    660 non-null float64\n",
      "P(mid)       660 non-null float64\n",
      "Y1           660 non-null int64\n",
      "Y2           660 non-null int64\n",
      "C3`          660 non-null int64\n",
      "C5`          660 non-null float64\n",
      "C6calc       660 non-null float64\n",
      "C6`          660 non-null float64\n",
      "T1prime      660 non-null float64\n",
      "T2prime      660 non-null float64\n",
      "T3prime      660 non-null float64\n",
      "T4prime      660 non-null float64\n",
      "T5prime      660 non-null float64\n",
      "S1prime      660 non-null float64\n",
      "S2prime      660 non-null float64\n",
      "S3prime      660 non-null float64\n",
      "dtypes: float64(30), int64(4), object(3)\n",
      "memory usage: 195.9+ KB\n"
     ]
    }
   ],
   "source": [
    "data.info()"
   ]
  },
  {
   "cell_type": "code",
   "execution_count": 16,
   "metadata": {},
   "outputs": [],
   "source": [
    "# exclude C6Calc, C6' and put Y1, Y2 at the end\n",
    "# only include continous \n",
    "data_copy = data.copy()\n",
    "data1 = data_copy[['C1', 'C4',\n",
    "       'C5', 'C6', 'C3_impute',\n",
    "       'C7_impute', 'C5`',\n",
    "       'T1prime', 'T2prime','T3prime', 'T4prime', 'T5prime', 'S1prime',\n",
    "       'S2prime', 'S3prime','Y1', 'Y2']]"
   ]
  },
  {
   "cell_type": "code",
   "execution_count": 17,
   "metadata": {},
   "outputs": [],
   "source": [
    "# make a csv file\n",
    "data1.to_csv('omg2.csv')"
   ]
  },
  {
   "cell_type": "markdown",
   "metadata": {},
   "source": [
    "# Descriptive"
   ]
  },
  {
   "cell_type": "markdown",
   "metadata": {},
   "source": [
    "REPORT IT with interpretation "
   ]
  },
  {
   "cell_type": "code",
   "execution_count": 18,
   "metadata": {},
   "outputs": [
    {
     "data": {
      "text/html": [
       "<div>\n",
       "<style scoped>\n",
       "    .dataframe tbody tr th:only-of-type {\n",
       "        vertical-align: middle;\n",
       "    }\n",
       "\n",
       "    .dataframe tbody tr th {\n",
       "        vertical-align: top;\n",
       "    }\n",
       "\n",
       "    .dataframe thead th {\n",
       "        text-align: right;\n",
       "    }\n",
       "</style>\n",
       "<table border=\"1\" class=\"dataframe\">\n",
       "  <thead>\n",
       "    <tr style=\"text-align: right;\">\n",
       "      <th></th>\n",
       "      <th>C1</th>\n",
       "      <th>C4</th>\n",
       "      <th>C5</th>\n",
       "      <th>C6</th>\n",
       "      <th>C3_impute</th>\n",
       "      <th>C7_impute</th>\n",
       "      <th>C5`</th>\n",
       "      <th>T1prime</th>\n",
       "      <th>T2prime</th>\n",
       "      <th>T3prime</th>\n",
       "      <th>T4prime</th>\n",
       "      <th>T5prime</th>\n",
       "      <th>S1prime</th>\n",
       "      <th>S2prime</th>\n",
       "      <th>S3prime</th>\n",
       "      <th>Y1</th>\n",
       "      <th>Y2</th>\n",
       "    </tr>\n",
       "  </thead>\n",
       "  <tbody>\n",
       "    <tr>\n",
       "      <th>count</th>\n",
       "      <td>660.000000</td>\n",
       "      <td>660.000000</td>\n",
       "      <td>6.600000e+02</td>\n",
       "      <td>6.600000e+02</td>\n",
       "      <td>660.000000</td>\n",
       "      <td>660.000000</td>\n",
       "      <td>660.000000</td>\n",
       "      <td>660.000000</td>\n",
       "      <td>660.000000</td>\n",
       "      <td>660.000000</td>\n",
       "      <td>660.000000</td>\n",
       "      <td>660.000000</td>\n",
       "      <td>660.000000</td>\n",
       "      <td>660.000000</td>\n",
       "      <td>660.000000</td>\n",
       "      <td>660.000000</td>\n",
       "      <td>660.000000</td>\n",
       "    </tr>\n",
       "    <tr>\n",
       "      <th>mean</th>\n",
       "      <td>149.728788</td>\n",
       "      <td>0.007282</td>\n",
       "      <td>4.996285e+07</td>\n",
       "      <td>1.258248e+07</td>\n",
       "      <td>0.066724</td>\n",
       "      <td>470.631368</td>\n",
       "      <td>4.417255</td>\n",
       "      <td>0.628496</td>\n",
       "      <td>0.052271</td>\n",
       "      <td>0.895157</td>\n",
       "      <td>1.611520</td>\n",
       "      <td>0.052271</td>\n",
       "      <td>0.005318</td>\n",
       "      <td>0.009059</td>\n",
       "      <td>0.011519</td>\n",
       "      <td>0.500000</td>\n",
       "      <td>0.383333</td>\n",
       "    </tr>\n",
       "    <tr>\n",
       "      <th>std</th>\n",
       "      <td>152.817467</td>\n",
       "      <td>0.033318</td>\n",
       "      <td>1.055377e+08</td>\n",
       "      <td>2.539940e+07</td>\n",
       "      <td>158.390378</td>\n",
       "      <td>1587.801852</td>\n",
       "      <td>5.133537</td>\n",
       "      <td>0.069606</td>\n",
       "      <td>0.007144</td>\n",
       "      <td>0.044090</td>\n",
       "      <td>0.187237</td>\n",
       "      <td>0.007144</td>\n",
       "      <td>0.001744</td>\n",
       "      <td>0.003000</td>\n",
       "      <td>0.002851</td>\n",
       "      <td>0.500379</td>\n",
       "      <td>0.486567</td>\n",
       "    </tr>\n",
       "    <tr>\n",
       "      <th>min</th>\n",
       "      <td>10.000000</td>\n",
       "      <td>-0.162352</td>\n",
       "      <td>3.693227e+06</td>\n",
       "      <td>8.000000e+05</td>\n",
       "      <td>-786.239000</td>\n",
       "      <td>0.074000</td>\n",
       "      <td>0.283223</td>\n",
       "      <td>0.395480</td>\n",
       "      <td>0.031595</td>\n",
       "      <td>0.669838</td>\n",
       "      <td>1.210145</td>\n",
       "      <td>0.031595</td>\n",
       "      <td>0.001602</td>\n",
       "      <td>0.002152</td>\n",
       "      <td>0.005326</td>\n",
       "      <td>0.000000</td>\n",
       "      <td>0.000000</td>\n",
       "    </tr>\n",
       "    <tr>\n",
       "      <th>25%</th>\n",
       "      <td>85.000000</td>\n",
       "      <td>-0.013927</td>\n",
       "      <td>1.877568e+07</td>\n",
       "      <td>5.124546e+06</td>\n",
       "      <td>-0.795000</td>\n",
       "      <td>41.458000</td>\n",
       "      <td>2.850622</td>\n",
       "      <td>0.580706</td>\n",
       "      <td>0.047562</td>\n",
       "      <td>0.883417</td>\n",
       "      <td>1.482666</td>\n",
       "      <td>0.047562</td>\n",
       "      <td>0.004134</td>\n",
       "      <td>0.006966</td>\n",
       "      <td>0.009579</td>\n",
       "      <td>0.000000</td>\n",
       "      <td>0.000000</td>\n",
       "    </tr>\n",
       "    <tr>\n",
       "      <th>50%</th>\n",
       "      <td>107.000000</td>\n",
       "      <td>0.009125</td>\n",
       "      <td>2.745438e+07</td>\n",
       "      <td>7.500000e+06</td>\n",
       "      <td>0.000000</td>\n",
       "      <td>107.462000</td>\n",
       "      <td>3.731035</td>\n",
       "      <td>0.628861</td>\n",
       "      <td>0.051943</td>\n",
       "      <td>0.897294</td>\n",
       "      <td>1.590177</td>\n",
       "      <td>0.051943</td>\n",
       "      <td>0.005041</td>\n",
       "      <td>0.008577</td>\n",
       "      <td>0.011301</td>\n",
       "      <td>0.500000</td>\n",
       "      <td>0.000000</td>\n",
       "    </tr>\n",
       "    <tr>\n",
       "      <th>75%</th>\n",
       "      <td>155.250000</td>\n",
       "      <td>0.031571</td>\n",
       "      <td>5.003986e+07</td>\n",
       "      <td>1.200000e+07</td>\n",
       "      <td>0.402500</td>\n",
       "      <td>300.764000</td>\n",
       "      <td>4.857904</td>\n",
       "      <td>0.674461</td>\n",
       "      <td>0.056489</td>\n",
       "      <td>0.909693</td>\n",
       "      <td>1.722041</td>\n",
       "      <td>0.056489</td>\n",
       "      <td>0.006256</td>\n",
       "      <td>0.010521</td>\n",
       "      <td>0.012848</td>\n",
       "      <td>1.000000</td>\n",
       "      <td>1.000000</td>\n",
       "    </tr>\n",
       "    <tr>\n",
       "      <th>max</th>\n",
       "      <td>2087.000000</td>\n",
       "      <td>0.092896</td>\n",
       "      <td>2.138085e+09</td>\n",
       "      <td>4.212336e+08</td>\n",
       "      <td>3864.500000</td>\n",
       "      <td>30683.000000</td>\n",
       "      <td>99.787255</td>\n",
       "      <td>0.826347</td>\n",
       "      <td>0.093585</td>\n",
       "      <td>1.579238</td>\n",
       "      <td>2.528571</td>\n",
       "      <td>0.093585</td>\n",
       "      <td>0.012839</td>\n",
       "      <td>0.024605</td>\n",
       "      <td>0.029397</td>\n",
       "      <td>1.000000</td>\n",
       "      <td>1.000000</td>\n",
       "    </tr>\n",
       "  </tbody>\n",
       "</table>\n",
       "</div>"
      ],
      "text/plain": [
       "                C1          C4            C5            C6    C3_impute  \\\n",
       "count   660.000000  660.000000  6.600000e+02  6.600000e+02   660.000000   \n",
       "mean    149.728788    0.007282  4.996285e+07  1.258248e+07     0.066724   \n",
       "std     152.817467    0.033318  1.055377e+08  2.539940e+07   158.390378   \n",
       "min      10.000000   -0.162352  3.693227e+06  8.000000e+05  -786.239000   \n",
       "25%      85.000000   -0.013927  1.877568e+07  5.124546e+06    -0.795000   \n",
       "50%     107.000000    0.009125  2.745438e+07  7.500000e+06     0.000000   \n",
       "75%     155.250000    0.031571  5.003986e+07  1.200000e+07     0.402500   \n",
       "max    2087.000000    0.092896  2.138085e+09  4.212336e+08  3864.500000   \n",
       "\n",
       "          C7_impute         C5`     T1prime     T2prime     T3prime  \\\n",
       "count    660.000000  660.000000  660.000000  660.000000  660.000000   \n",
       "mean     470.631368    4.417255    0.628496    0.052271    0.895157   \n",
       "std     1587.801852    5.133537    0.069606    0.007144    0.044090   \n",
       "min        0.074000    0.283223    0.395480    0.031595    0.669838   \n",
       "25%       41.458000    2.850622    0.580706    0.047562    0.883417   \n",
       "50%      107.462000    3.731035    0.628861    0.051943    0.897294   \n",
       "75%      300.764000    4.857904    0.674461    0.056489    0.909693   \n",
       "max    30683.000000   99.787255    0.826347    0.093585    1.579238   \n",
       "\n",
       "          T4prime     T5prime     S1prime     S2prime     S3prime          Y1  \\\n",
       "count  660.000000  660.000000  660.000000  660.000000  660.000000  660.000000   \n",
       "mean     1.611520    0.052271    0.005318    0.009059    0.011519    0.500000   \n",
       "std      0.187237    0.007144    0.001744    0.003000    0.002851    0.500379   \n",
       "min      1.210145    0.031595    0.001602    0.002152    0.005326    0.000000   \n",
       "25%      1.482666    0.047562    0.004134    0.006966    0.009579    0.000000   \n",
       "50%      1.590177    0.051943    0.005041    0.008577    0.011301    0.500000   \n",
       "75%      1.722041    0.056489    0.006256    0.010521    0.012848    1.000000   \n",
       "max      2.528571    0.093585    0.012839    0.024605    0.029397    1.000000   \n",
       "\n",
       "               Y2  \n",
       "count  660.000000  \n",
       "mean     0.383333  \n",
       "std      0.486567  \n",
       "min      0.000000  \n",
       "25%      0.000000  \n",
       "50%      0.000000  \n",
       "75%      1.000000  \n",
       "max      1.000000  "
      ]
     },
     "execution_count": 18,
     "metadata": {},
     "output_type": "execute_result"
    }
   ],
   "source": [
    "data1.describe()"
   ]
  },
  {
   "cell_type": "code",
   "execution_count": 19,
   "metadata": {},
   "outputs": [
    {
     "name": "stdout",
     "output_type": "stream",
     "text": [
      "<class 'pandas.core.frame.DataFrame'>\n",
      "Int64Index: 660 entries, 0 to 681\n",
      "Data columns (total 17 columns):\n",
      "C1           660 non-null float64\n",
      "C4           660 non-null float64\n",
      "C5           660 non-null float64\n",
      "C6           660 non-null float64\n",
      "C3_impute    660 non-null float64\n",
      "C7_impute    660 non-null float64\n",
      "C5`          660 non-null float64\n",
      "T1prime      660 non-null float64\n",
      "T2prime      660 non-null float64\n",
      "T3prime      660 non-null float64\n",
      "T4prime      660 non-null float64\n",
      "T5prime      660 non-null float64\n",
      "S1prime      660 non-null float64\n",
      "S2prime      660 non-null float64\n",
      "S3prime      660 non-null float64\n",
      "Y1           660 non-null int64\n",
      "Y2           660 non-null int64\n",
      "dtypes: float64(15), int64(2)\n",
      "memory usage: 92.8 KB\n"
     ]
    }
   ],
   "source": [
    "data1.info()"
   ]
  },
  {
   "cell_type": "markdown",
   "metadata": {},
   "source": [
    "# Normality test"
   ]
  },
  {
   "cell_type": "code",
   "execution_count": 20,
   "metadata": {},
   "outputs": [],
   "source": [
    "# categorical no standardization, normalization\n",
    "# if skew is between -0.5 and 0.5 it will be consider normalized "
   ]
  },
  {
   "cell_type": "code",
   "execution_count": 21,
   "metadata": {},
   "outputs": [
    {
     "data": {
      "text/plain": [
       "array([[<matplotlib.axes._subplots.AxesSubplot object at 0x7f82d8546c88>,\n",
       "        <matplotlib.axes._subplots.AxesSubplot object at 0x7f82d645af98>,\n",
       "        <matplotlib.axes._subplots.AxesSubplot object at 0x7f82d640c400>],\n",
       "       [<matplotlib.axes._subplots.AxesSubplot object at 0x7f82d6431a90>,\n",
       "        <matplotlib.axes._subplots.AxesSubplot object at 0x7f82d63e1160>,\n",
       "        <matplotlib.axes._subplots.AxesSubplot object at 0x7f82d63e1198>],\n",
       "       [<matplotlib.axes._subplots.AxesSubplot object at 0x7f82d63ace80>,\n",
       "        <matplotlib.axes._subplots.AxesSubplot object at 0x7f82d635b550>,\n",
       "        <matplotlib.axes._subplots.AxesSubplot object at 0x7f82d6380be0>]],\n",
       "      dtype=object)"
      ]
     },
     "execution_count": 21,
     "metadata": {},
     "output_type": "execute_result"
    }
   ],
   "source": [
    "pd.plotting.scatter_matrix(data1[['S1prime', 'S2prime', 'S3prime']], figsize=(14,14), hist_kwds={'bins':8}, alpha=.5, marker='o', s=50)"
   ]
  },
  {
   "cell_type": "code",
   "execution_count": 22,
   "metadata": {},
   "outputs": [
    {
     "name": "stdout",
     "output_type": "stream",
     "text": [
      "S1prime:  0.9358231221598661\n",
      "S2prime:  1.2066602274774798\n",
      "S3prime:  1.395926086688986\n"
     ]
    }
   ],
   "source": [
    "print('S1prime: ',data1['S1prime'].skew())\n",
    "print('S2prime: ',data1['S2prime'].skew())\n",
    "print('S3prime: ',data1['S3prime'].skew())"
   ]
  },
  {
   "cell_type": "code",
   "execution_count": 23,
   "metadata": {},
   "outputs": [
    {
     "name": "stdout",
     "output_type": "stream",
     "text": [
      "Statistics=0.954, p=0.000\n",
      "Sample does not look Gaussian (reject H0)\n"
     ]
    }
   ],
   "source": [
    "# alternative use Shapiro but its too strict\n",
    "# only for the continous \n",
    "# another skewness test --> request skewness from pandas \n",
    "# and look at the histograms \n",
    "from scipy.stats import shapiro\n",
    "stat, p = shapiro(data['S1prime'])\n",
    "print('Statistics=%.3f, p=%.3f' % (stat, p))\n",
    "\n",
    "# interpret\n",
    "alpha = 0.05\n",
    "if p > alpha:\n",
    "    print('Sample looks Gaussian (fail to reject H0)')\n",
    "else:\n",
    "    print('Sample does not look Gaussian (reject H0)')"
   ]
  },
  {
   "cell_type": "code",
   "execution_count": 24,
   "metadata": {},
   "outputs": [
    {
     "name": "stderr",
     "output_type": "stream",
     "text": [
      "/opt/tljh/user/lib/python3.6/site-packages/ipykernel_launcher.py:1: SettingWithCopyWarning: \n",
      "A value is trying to be set on a copy of a slice from a DataFrame.\n",
      "Try using .loc[row_indexer,col_indexer] = value instead\n",
      "\n",
      "See the caveats in the documentation: http://pandas.pydata.org/pandas-docs/stable/user_guide/indexing.html#returning-a-view-versus-a-copy\n",
      "  \"\"\"Entry point for launching an IPython kernel.\n",
      "/opt/tljh/user/lib/python3.6/site-packages/ipykernel_launcher.py:2: SettingWithCopyWarning: \n",
      "A value is trying to be set on a copy of a slice from a DataFrame.\n",
      "Try using .loc[row_indexer,col_indexer] = value instead\n",
      "\n",
      "See the caveats in the documentation: http://pandas.pydata.org/pandas-docs/stable/user_guide/indexing.html#returning-a-view-versus-a-copy\n",
      "  \n",
      "/opt/tljh/user/lib/python3.6/site-packages/ipykernel_launcher.py:3: SettingWithCopyWarning: \n",
      "A value is trying to be set on a copy of a slice from a DataFrame.\n",
      "Try using .loc[row_indexer,col_indexer] = value instead\n",
      "\n",
      "See the caveats in the documentation: http://pandas.pydata.org/pandas-docs/stable/user_guide/indexing.html#returning-a-view-versus-a-copy\n",
      "  This is separate from the ipykernel package so we can avoid doing imports until\n"
     ]
    }
   ],
   "source": [
    "data1['S1prime_norm']=np.log((data1['S1prime']))\n",
    "data1['S2prime_norm']=np.log((data1['S2prime']))\n",
    "data1['S3prime_norm'] = np.log(data1['S3prime'])"
   ]
  },
  {
   "cell_type": "code",
   "execution_count": 25,
   "metadata": {},
   "outputs": [
    {
     "data": {
      "text/plain": [
       "<matplotlib.axes._subplots.AxesSubplot at 0x7f82d3d9a470>"
      ]
     },
     "execution_count": 25,
     "metadata": {},
     "output_type": "execute_result"
    },
    {
     "data": {
      "image/png": "[encoded data removed]",
      "text/plain": [
       "<Figure size 432x288 with 1 Axes>"
      ]
     },
     "metadata": {
      "needs_background": "light"
     },
     "output_type": "display_data"
    }
   ],
   "source": [
    "data1['S1prime_norm'].hist()\n",
    "data1['S2prime_norm'].hist()\n",
    "data1['S3prime_norm'].hist()"
   ]
  },
  {
   "cell_type": "code",
   "execution_count": 26,
   "metadata": {},
   "outputs": [
    {
     "name": "stdout",
     "output_type": "stream",
     "text": [
      "S1prime normalized:  -0.12556376950788897\n",
      "S2prime normalized:  0.08438832634954983\n",
      "S3prime normalized:  0.2235856617352291\n"
     ]
    }
   ],
   "source": [
    "print('S1prime normalized: ' , data1['S1prime_norm'].skew())\n",
    "print('S2prime normalized: ' , data1['S2prime_norm'].skew())\n",
    "print('S3prime normalized: ' , data1['S3prime_norm'].skew())"
   ]
  },
  {
   "cell_type": "code",
   "execution_count": 27,
   "metadata": {},
   "outputs": [],
   "source": [
    "# outliers --> IQR and 3st dev method \n",
    "# we standardize all but Y's right? \n",
    "# binning? \n",
    "# select only continous variables to put into evaluation code"
   ]
  },
  {
   "cell_type": "code",
   "execution_count": 28,
   "metadata": {},
   "outputs": [
    {
     "data": {
      "text/plain": [
       "array([[<matplotlib.axes._subplots.AxesSubplot object at 0x7f82d8a4ed30>,\n",
       "        <matplotlib.axes._subplots.AxesSubplot object at 0x7f82d3c9a518>,\n",
       "        <matplotlib.axes._subplots.AxesSubplot object at 0x7f82d3cc3b70>,\n",
       "        <matplotlib.axes._subplots.AxesSubplot object at 0x7f82d3c76240>,\n",
       "        <matplotlib.axes._subplots.AxesSubplot object at 0x7f82d3c1d8d0>,\n",
       "        <matplotlib.axes._subplots.AxesSubplot object at 0x7f82d3c1d908>,\n",
       "        <matplotlib.axes._subplots.AxesSubplot object at 0x7f82d3bf8630>],\n",
       "       [<matplotlib.axes._subplots.AxesSubplot object at 0x7f82d3b9fcc0>,\n",
       "        <matplotlib.axes._subplots.AxesSubplot object at 0x7f82d3bd0390>,\n",
       "        <matplotlib.axes._subplots.AxesSubplot object at 0x7f82d3b77a20>,\n",
       "        <matplotlib.axes._subplots.AxesSubplot object at 0x7f82d3b2b0f0>,\n",
       "        <matplotlib.axes._subplots.AxesSubplot object at 0x7f82d3b53780>,\n",
       "        <matplotlib.axes._subplots.AxesSubplot object at 0x7f82d3afae10>,\n",
       "        <matplotlib.axes._subplots.AxesSubplot object at 0x7f82d3aac4e0>],\n",
       "       [<matplotlib.axes._subplots.AxesSubplot object at 0x7f82d3ad3b70>,\n",
       "        <matplotlib.axes._subplots.AxesSubplot object at 0x7f82d3a86240>,\n",
       "        <matplotlib.axes._subplots.AxesSubplot object at 0x7f82d3a2e8d0>,\n",
       "        <matplotlib.axes._subplots.AxesSubplot object at 0x7f82d39d7f60>,\n",
       "        <matplotlib.axes._subplots.AxesSubplot object at 0x7f82d3a0a630>,\n",
       "        <matplotlib.axes._subplots.AxesSubplot object at 0x7f82d39b2cc0>,\n",
       "        <matplotlib.axes._subplots.AxesSubplot object at 0x7f82d3962390>],\n",
       "       [<matplotlib.axes._subplots.AxesSubplot object at 0x7f82d3988a20>,\n",
       "        <matplotlib.axes._subplots.AxesSubplot object at 0x7f82d393c0f0>,\n",
       "        <matplotlib.axes._subplots.AxesSubplot object at 0x7f82d38e2780>,\n",
       "        <matplotlib.axes._subplots.AxesSubplot object at 0x7f82d390ce10>,\n",
       "        <matplotlib.axes._subplots.AxesSubplot object at 0x7f82d38be4e0>,\n",
       "        <matplotlib.axes._subplots.AxesSubplot object at 0x7f82d3866b70>,\n",
       "        <matplotlib.axes._subplots.AxesSubplot object at 0x7f82d381a240>],\n",
       "       [<matplotlib.axes._subplots.AxesSubplot object at 0x7f82d383f8d0>,\n",
       "        <matplotlib.axes._subplots.AxesSubplot object at 0x7f82d37ebf60>,\n",
       "        <matplotlib.axes._subplots.AxesSubplot object at 0x7f82d379c630>,\n",
       "        <matplotlib.axes._subplots.AxesSubplot object at 0x7f82d37c2cc0>,\n",
       "        <matplotlib.axes._subplots.AxesSubplot object at 0x7f82d3774390>,\n",
       "        <matplotlib.axes._subplots.AxesSubplot object at 0x7f82d371da20>,\n",
       "        <matplotlib.axes._subplots.AxesSubplot object at 0x7f82d374f0f0>],\n",
       "       [<matplotlib.axes._subplots.AxesSubplot object at 0x7f82d36f5780>,\n",
       "        <matplotlib.axes._subplots.AxesSubplot object at 0x7f82d369fe10>,\n",
       "        <matplotlib.axes._subplots.AxesSubplot object at 0x7f82d36d04e0>,\n",
       "        <matplotlib.axes._subplots.AxesSubplot object at 0x7f82d3677b70>,\n",
       "        <matplotlib.axes._subplots.AxesSubplot object at 0x7f82d3629240>,\n",
       "        <matplotlib.axes._subplots.AxesSubplot object at 0x7f82d36528d0>,\n",
       "        <matplotlib.axes._subplots.AxesSubplot object at 0x7f82d35faf60>],\n",
       "       [<matplotlib.axes._subplots.AxesSubplot object at 0x7f82d35ac630>,\n",
       "        <matplotlib.axes._subplots.AxesSubplot object at 0x7f82d35d5cc0>,\n",
       "        <matplotlib.axes._subplots.AxesSubplot object at 0x7f82d3586390>,\n",
       "        <matplotlib.axes._subplots.AxesSubplot object at 0x7f82d352ea20>,\n",
       "        <matplotlib.axes._subplots.AxesSubplot object at 0x7f82d34e00f0>,\n",
       "        <matplotlib.axes._subplots.AxesSubplot object at 0x7f82d3507780>,\n",
       "        <matplotlib.axes._subplots.AxesSubplot object at 0x7f82d34afe10>]],\n",
       "      dtype=object)"
      ]
     },
     "execution_count": 28,
     "metadata": {},
     "output_type": "execute_result"
    },
    {
     "data": {
      "image/png": "[encoded data removed]",
      "text/plain": [
       "<Figure size 1008x1008 with 49 Axes>"
      ]
     },
     "metadata": {
      "needs_background": "light"
     },
     "output_type": "display_data"
    }
   ],
   "source": [
    "pd.plotting.scatter_matrix(data1[['C1', 'C4',\n",
    "       'C5', 'C6', 'C3_impute',\n",
    "       'C7_impute', 'C5`']], figsize=(14,14), hist_kwds={'bins':8}, alpha=.5, marker='o', s=50)"
   ]
  },
  {
   "cell_type": "code",
   "execution_count": 29,
   "metadata": {},
   "outputs": [
    {
     "name": "stdout",
     "output_type": "stream",
     "text": [
      "C1:  5.649484948760403\n",
      "C3_impute:  21.727253451311732\n",
      "C4:  -0.4778924619388421\n",
      "C5:  13.461311505350828\n",
      "C6:  12.439170657119098\n",
      "C7_impute:  12.163784427357575\n",
      "C5prime:  13.405535814317505\n"
     ]
    }
   ],
   "source": [
    "# test\n",
    "print('C1: ',data1['C1'].skew())\n",
    "print('C3_impute: ',data1['C3_impute'].skew())\n",
    "print('C4: ',data1['C4'].skew())\n",
    "print('C5: ',data1['C5'].skew())\n",
    "print('C6: ',data1['C6'].skew())\n",
    "print('C7_impute: ',data1['C7_impute'].skew())\n",
    "print('C5prime: ',data1['C5`'].skew())\n",
    "#print('C6prime: ',data1['C6`'].skew())"
   ]
  },
  {
   "cell_type": "code",
   "execution_count": 30,
   "metadata": {},
   "outputs": [
    {
     "name": "stderr",
     "output_type": "stream",
     "text": [
      "/opt/tljh/user/lib/python3.6/site-packages/ipykernel_launcher.py:1: SettingWithCopyWarning: \n",
      "A value is trying to be set on a copy of a slice from a DataFrame.\n",
      "Try using .loc[row_indexer,col_indexer] = value instead\n",
      "\n",
      "See the caveats in the documentation: http://pandas.pydata.org/pandas-docs/stable/user_guide/indexing.html#returning-a-view-versus-a-copy\n",
      "  \"\"\"Entry point for launching an IPython kernel.\n",
      "/opt/tljh/user/lib/python3.6/site-packages/ipykernel_launcher.py:2: SettingWithCopyWarning: \n",
      "A value is trying to be set on a copy of a slice from a DataFrame.\n",
      "Try using .loc[row_indexer,col_indexer] = value instead\n",
      "\n",
      "See the caveats in the documentation: http://pandas.pydata.org/pandas-docs/stable/user_guide/indexing.html#returning-a-view-versus-a-copy\n",
      "  \n",
      "/opt/tljh/user/lib/python3.6/site-packages/ipykernel_launcher.py:3: SettingWithCopyWarning: \n",
      "A value is trying to be set on a copy of a slice from a DataFrame.\n",
      "Try using .loc[row_indexer,col_indexer] = value instead\n",
      "\n",
      "See the caveats in the documentation: http://pandas.pydata.org/pandas-docs/stable/user_guide/indexing.html#returning-a-view-versus-a-copy\n",
      "  This is separate from the ipykernel package so we can avoid doing imports until\n",
      "/opt/tljh/user/lib/python3.6/site-packages/ipykernel_launcher.py:4: SettingWithCopyWarning: \n",
      "A value is trying to be set on a copy of a slice from a DataFrame.\n",
      "Try using .loc[row_indexer,col_indexer] = value instead\n",
      "\n",
      "See the caveats in the documentation: http://pandas.pydata.org/pandas-docs/stable/user_guide/indexing.html#returning-a-view-versus-a-copy\n",
      "  after removing the cwd from sys.path.\n",
      "/opt/tljh/user/lib/python3.6/site-packages/ipykernel_launcher.py:5: SettingWithCopyWarning: \n",
      "A value is trying to be set on a copy of a slice from a DataFrame.\n",
      "Try using .loc[row_indexer,col_indexer] = value instead\n",
      "\n",
      "See the caveats in the documentation: http://pandas.pydata.org/pandas-docs/stable/user_guide/indexing.html#returning-a-view-versus-a-copy\n",
      "  \"\"\"\n",
      "/opt/tljh/user/lib/python3.6/site-packages/ipykernel_launcher.py:6: SettingWithCopyWarning: \n",
      "A value is trying to be set on a copy of a slice from a DataFrame.\n",
      "Try using .loc[row_indexer,col_indexer] = value instead\n",
      "\n",
      "See the caveats in the documentation: http://pandas.pydata.org/pandas-docs/stable/user_guide/indexing.html#returning-a-view-versus-a-copy\n",
      "  \n"
     ]
    }
   ],
   "source": [
    "data1['C1_norm'] = np.log(data1['C1'])\n",
    "data1['C3_norm'] = np.tanh(data1['C3_impute']+1)\n",
    "data1['C5_norm'] = 1/(np.log(data1['C5']))\n",
    "data1['C6_norm'] = 1/(np.log(data1['C6']))\n",
    "data1['C7_norm'] = np.log(data1['C7_impute']+1)\n",
    "data1['C5prime_norm'] = np.log(data1['C5`'])\n",
    "#data1['C6prime_norm'] = np.sqrt(np.log(data1['C6`']+1))"
   ]
  },
  {
   "cell_type": "code",
   "execution_count": 31,
   "metadata": {},
   "outputs": [
    {
     "data": {
      "text/plain": [
       "<matplotlib.axes._subplots.AxesSubplot at 0x7f82d2c83cf8>"
      ]
     },
     "execution_count": 31,
     "metadata": {},
     "output_type": "execute_result"
    },
    {
     "data": {
      "image/png": "[encoded data removed]",
      "text/plain": [
       "<Figure size 432x288 with 1 Axes>"
      ]
     },
     "metadata": {
      "needs_background": "light"
     },
     "output_type": "display_data"
    }
   ],
   "source": [
    "data1['C1_norm'].hist()\n",
    "data1['C3_norm'].hist()\n",
    "data1['C5_norm'].hist()\n",
    "data1['C6_norm'].hist()\n",
    "data1['C7_norm'].hist()\n",
    "data1['C5prime_norm'].hist()\n",
    "#data1['C6prime_norm'].hist()"
   ]
  },
  {
   "cell_type": "code",
   "execution_count": 32,
   "metadata": {},
   "outputs": [
    {
     "name": "stdout",
     "output_type": "stream",
     "text": [
      "C1_normalized:  0.13206924296483574\n",
      "C3_normalized:  -1.221996884528623\n",
      "C5_normalized:  -0.3913588014366576\n",
      "C6_normalized:  -0.3936679536459565\n",
      "C7_normalized:  -0.19508055631888138\n",
      "C5prime_normalized:  0.4273718005667461\n"
     ]
    }
   ],
   "source": [
    "print('C1_normalized: ', data1['C1_norm'].skew())\n",
    "print('C3_normalized: ', data1['C3_norm'].skew())\n",
    "print('C5_normalized: ', data1['C5_norm'].skew())\n",
    "print('C6_normalized: ', data1['C6_norm'].skew())\n",
    "print('C7_normalized: ', data1['C7_norm'].skew())\n",
    "print('C5prime_normalized: ', data1['C5prime_norm'].skew())\n",
    "#print('C6prime_normalized: ', data1['C6prime_norm'].skew())"
   ]
  },
  {
   "cell_type": "code",
   "execution_count": 33,
   "metadata": {},
   "outputs": [
    {
     "data": {
      "text/plain": [
       "array([[<matplotlib.axes._subplots.AxesSubplot object at 0x7f82d2c8bcc0>,\n",
       "        <matplotlib.axes._subplots.AxesSubplot object at 0x7f82d2fda1d0>,\n",
       "        <matplotlib.axes._subplots.AxesSubplot object at 0x7f82d3001860>,\n",
       "        <matplotlib.axes._subplots.AxesSubplot object at 0x7f82d2fa9ef0>,\n",
       "        <matplotlib.axes._subplots.AxesSubplot object at 0x7f82d2f585c0>],\n",
       "       [<matplotlib.axes._subplots.AxesSubplot object at 0x7f82d2f585f8>,\n",
       "        <matplotlib.axes._subplots.AxesSubplot object at 0x7f82d2f30320>,\n",
       "        <matplotlib.axes._subplots.AxesSubplot object at 0x7f82d2ed89b0>,\n",
       "        <matplotlib.axes._subplots.AxesSubplot object at 0x7f82d2f0b080>,\n",
       "        <matplotlib.axes._subplots.AxesSubplot object at 0x7f82d2eb3710>],\n",
       "       [<matplotlib.axes._subplots.AxesSubplot object at 0x7f82d2e5dda0>,\n",
       "        <matplotlib.axes._subplots.AxesSubplot object at 0x7f82d2e90470>,\n",
       "        <matplotlib.axes._subplots.AxesSubplot object at 0x7f82d2e37b00>,\n",
       "        <matplotlib.axes._subplots.AxesSubplot object at 0x7f82d2deb1d0>,\n",
       "        <matplotlib.axes._subplots.AxesSubplot object at 0x7f82d2e11860>],\n",
       "       [<matplotlib.axes._subplots.AxesSubplot object at 0x7f82d2db9ef0>,\n",
       "        <matplotlib.axes._subplots.AxesSubplot object at 0x7f82d2d695c0>,\n",
       "        <matplotlib.axes._subplots.AxesSubplot object at 0x7f82d2d92c50>,\n",
       "        <matplotlib.axes._subplots.AxesSubplot object at 0x7f82d2d44320>,\n",
       "        <matplotlib.axes._subplots.AxesSubplot object at 0x7f82d115e9b0>],\n",
       "       [<matplotlib.axes._subplots.AxesSubplot object at 0x7f82d110f080>,\n",
       "        <matplotlib.axes._subplots.AxesSubplot object at 0x7f82d1137710>,\n",
       "        <matplotlib.axes._subplots.AxesSubplot object at 0x7f82d10dfda0>,\n",
       "        <matplotlib.axes._subplots.AxesSubplot object at 0x7f82d1091470>,\n",
       "        <matplotlib.axes._subplots.AxesSubplot object at 0x7f82d10b9b00>]],\n",
       "      dtype=object)"
      ]
     },
     "execution_count": 33,
     "metadata": {},
     "output_type": "execute_result"
    },
    {
     "data": {
      "image/png": "[encoded data removed]",
      "text/plain": [
       "<Figure size 1008x1008 with 25 Axes>"
      ]
     },
     "metadata": {
      "needs_background": "light"
     },
     "output_type": "display_data"
    }
   ],
   "source": [
    "pd.plotting.scatter_matrix(data1[['T1prime','T3prime', 'T4prime', 'T2prime','T5prime']], figsize=(14,14), hist_kwds={'bins':8}, alpha=.5, marker='o', s=50)"
   ]
  },
  {
   "cell_type": "code",
   "execution_count": 34,
   "metadata": {},
   "outputs": [],
   "source": [
    "# T1 looks good "
   ]
  },
  {
   "cell_type": "code",
   "execution_count": 35,
   "metadata": {},
   "outputs": [
    {
     "name": "stdout",
     "output_type": "stream",
     "text": [
      "T1prime:  -0.07334306343078599\n",
      "T2prime:  0.5833786957119567\n",
      "T3prime:  9.101177497494934\n",
      "T4prime:  0.8229552871858807\n",
      "T5prime:  0.5833786957119567\n"
     ]
    }
   ],
   "source": [
    "print('T1prime: ', data1['T1prime'].skew())\n",
    "print('T2prime: ', data1['T2prime'].skew())\n",
    "print('T3prime: ', data1['T3prime'].skew())\n",
    "print('T4prime: ', data1['T4prime'].skew())\n",
    "print('T5prime: ', data1['T5prime'].skew())"
   ]
  },
  {
   "cell_type": "code",
   "execution_count": 36,
   "metadata": {},
   "outputs": [
    {
     "name": "stderr",
     "output_type": "stream",
     "text": [
      "/opt/tljh/user/lib/python3.6/site-packages/ipykernel_launcher.py:1: SettingWithCopyWarning: \n",
      "A value is trying to be set on a copy of a slice from a DataFrame.\n",
      "Try using .loc[row_indexer,col_indexer] = value instead\n",
      "\n",
      "See the caveats in the documentation: http://pandas.pydata.org/pandas-docs/stable/user_guide/indexing.html#returning-a-view-versus-a-copy\n",
      "  \"\"\"Entry point for launching an IPython kernel.\n",
      "/opt/tljh/user/lib/python3.6/site-packages/ipykernel_launcher.py:2: SettingWithCopyWarning: \n",
      "A value is trying to be set on a copy of a slice from a DataFrame.\n",
      "Try using .loc[row_indexer,col_indexer] = value instead\n",
      "\n",
      "See the caveats in the documentation: http://pandas.pydata.org/pandas-docs/stable/user_guide/indexing.html#returning-a-view-versus-a-copy\n",
      "  \n",
      "/opt/tljh/user/lib/python3.6/site-packages/ipykernel_launcher.py:3: SettingWithCopyWarning: \n",
      "A value is trying to be set on a copy of a slice from a DataFrame.\n",
      "Try using .loc[row_indexer,col_indexer] = value instead\n",
      "\n",
      "See the caveats in the documentation: http://pandas.pydata.org/pandas-docs/stable/user_guide/indexing.html#returning-a-view-versus-a-copy\n",
      "  This is separate from the ipykernel package so we can avoid doing imports until\n",
      "/opt/tljh/user/lib/python3.6/site-packages/ipykernel_launcher.py:4: SettingWithCopyWarning: \n",
      "A value is trying to be set on a copy of a slice from a DataFrame.\n",
      "Try using .loc[row_indexer,col_indexer] = value instead\n",
      "\n",
      "See the caveats in the documentation: http://pandas.pydata.org/pandas-docs/stable/user_guide/indexing.html#returning-a-view-versus-a-copy\n",
      "  after removing the cwd from sys.path.\n"
     ]
    }
   ],
   "source": [
    "data1['T2prime_norm'] = np.sqrt(data1['T2prime'])\n",
    "data1['T3prime_norm'] = 1/(np.log(data1['T3prime']))\n",
    "data1['T4prime_norm'] = np.log(data1['T4prime'])\n",
    "data1['T5prime_norm'] = np.sqrt(data1['T5prime'])"
   ]
  },
  {
   "cell_type": "code",
   "execution_count": 37,
   "metadata": {},
   "outputs": [
    {
     "name": "stdout",
     "output_type": "stream",
     "text": [
      "T2prime_norm:  0.2039439029069943\n",
      "T3prime_norm:  -0.5010146548567442\n",
      "T4prime_norm:  0.42138586072652406\n",
      "T5prime_norm:  0.2039439029069943\n"
     ]
    }
   ],
   "source": [
    "print('T2prime_norm: ', data1['T2prime_norm'].skew())\n",
    "print('T3prime_norm: ', data1['T3prime_norm'].skew())\n",
    "print('T4prime_norm: ', data1['T4prime_norm'].skew())\n",
    "print('T5prime_norm: ', data1['T5prime_norm'].skew())"
   ]
  },
  {
   "cell_type": "code",
   "execution_count": 38,
   "metadata": {},
   "outputs": [
    {
     "data": {
      "text/plain": [
       "Index(['C1', 'C4', 'C5', 'C6', 'C3_impute', 'C7_impute', 'C5`', 'T1prime',\n",
       "       'T2prime', 'T3prime', 'T4prime', 'T5prime', 'S1prime', 'S2prime',\n",
       "       'S3prime', 'Y1', 'Y2', 'S1prime_norm', 'S2prime_norm', 'S3prime_norm',\n",
       "       'C1_norm', 'C3_norm', 'C5_norm', 'C6_norm', 'C7_norm', 'C5prime_norm',\n",
       "       'T2prime_norm', 'T3prime_norm', 'T4prime_norm', 'T5prime_norm'],\n",
       "      dtype='object')"
      ]
     },
     "execution_count": 38,
     "metadata": {},
     "output_type": "execute_result"
    }
   ],
   "source": [
    "data1.columns"
   ]
  },
  {
   "cell_type": "code",
   "execution_count": 39,
   "metadata": {},
   "outputs": [
    {
     "data": {
      "text/html": [
       "<div>\n",
       "<style scoped>\n",
       "    .dataframe tbody tr th:only-of-type {\n",
       "        vertical-align: middle;\n",
       "    }\n",
       "\n",
       "    .dataframe tbody tr th {\n",
       "        vertical-align: top;\n",
       "    }\n",
       "\n",
       "    .dataframe thead th {\n",
       "        text-align: right;\n",
       "    }\n",
       "</style>\n",
       "<table border=\"1\" class=\"dataframe\">\n",
       "  <thead>\n",
       "    <tr style=\"text-align: right;\">\n",
       "      <th></th>\n",
       "      <th>S1prime_norm</th>\n",
       "      <th>S2prime_norm</th>\n",
       "      <th>S3prime_norm</th>\n",
       "      <th>C1_norm</th>\n",
       "      <th>C3_norm</th>\n",
       "      <th>C4</th>\n",
       "      <th>C5_norm</th>\n",
       "      <th>C6_norm</th>\n",
       "      <th>C7_norm</th>\n",
       "      <th>C5prime_norm</th>\n",
       "      <th>T1prime</th>\n",
       "      <th>T2prime_norm</th>\n",
       "      <th>T3prime_norm</th>\n",
       "      <th>T4prime_norm</th>\n",
       "      <th>T5prime_norm</th>\n",
       "      <th>Y1</th>\n",
       "      <th>Y2</th>\n",
       "    </tr>\n",
       "  </thead>\n",
       "  <tbody>\n",
       "    <tr>\n",
       "      <th>0</th>\n",
       "      <td>-5.323718</td>\n",
       "      <td>-4.688678</td>\n",
       "      <td>-4.516378</td>\n",
       "      <td>4.804021</td>\n",
       "      <td>0.999716</td>\n",
       "      <td>0.029074</td>\n",
       "      <td>0.057051</td>\n",
       "      <td>0.061819</td>\n",
       "      <td>3.957856</td>\n",
       "      <td>1.351792</td>\n",
       "      <td>0.640426</td>\n",
       "      <td>0.232915</td>\n",
       "      <td>-10.466155</td>\n",
       "      <td>0.445622</td>\n",
       "      <td>0.232915</td>\n",
       "      <td>0</td>\n",
       "      <td>1</td>\n",
       "    </tr>\n",
       "    <tr>\n",
       "      <th>1</th>\n",
       "      <td>-5.726618</td>\n",
       "      <td>-4.500360</td>\n",
       "      <td>-4.521238</td>\n",
       "      <td>5.556828</td>\n",
       "      <td>-0.551128</td>\n",
       "      <td>-0.013352</td>\n",
       "      <td>0.058213</td>\n",
       "      <td>0.068069</td>\n",
       "      <td>3.293464</td>\n",
       "      <td>2.487306</td>\n",
       "      <td>0.644753</td>\n",
       "      <td>0.226705</td>\n",
       "      <td>-9.365141</td>\n",
       "      <td>0.438887</td>\n",
       "      <td>0.226705</td>\n",
       "      <td>1</td>\n",
       "      <td>0</td>\n",
       "    </tr>\n",
       "    <tr>\n",
       "      <th>2</th>\n",
       "      <td>-4.457393</td>\n",
       "      <td>-5.071759</td>\n",
       "      <td>-4.473922</td>\n",
       "      <td>4.499810</td>\n",
       "      <td>-0.235496</td>\n",
       "      <td>0.020715</td>\n",
       "      <td>0.060098</td>\n",
       "      <td>0.064830</td>\n",
       "      <td>2.125609</td>\n",
       "      <td>1.214656</td>\n",
       "      <td>0.636816</td>\n",
       "      <td>0.248523</td>\n",
       "      <td>-10.523529</td>\n",
       "      <td>0.451275</td>\n",
       "      <td>0.248523</td>\n",
       "      <td>1</td>\n",
       "      <td>0</td>\n",
       "    </tr>\n",
       "    <tr>\n",
       "      <th>3</th>\n",
       "      <td>-4.637032</td>\n",
       "      <td>-4.941521</td>\n",
       "      <td>-4.318578</td>\n",
       "      <td>5.342334</td>\n",
       "      <td>0.089758</td>\n",
       "      <td>0.020023</td>\n",
       "      <td>0.060557</td>\n",
       "      <td>0.065276</td>\n",
       "      <td>2.254025</td>\n",
       "      <td>1.193831</td>\n",
       "      <td>0.539634</td>\n",
       "      <td>0.248253</td>\n",
       "      <td>-11.549720</td>\n",
       "      <td>0.616864</td>\n",
       "      <td>0.248253</td>\n",
       "      <td>1</td>\n",
       "      <td>0</td>\n",
       "    </tr>\n",
       "    <tr>\n",
       "      <th>4</th>\n",
       "      <td>-5.399715</td>\n",
       "      <td>-4.600461</td>\n",
       "      <td>-4.486414</td>\n",
       "      <td>4.382027</td>\n",
       "      <td>0.789461</td>\n",
       "      <td>-0.034895</td>\n",
       "      <td>0.058001</td>\n",
       "      <td>0.062791</td>\n",
       "      <td>6.450941</td>\n",
       "      <td>1.315407</td>\n",
       "      <td>0.587413</td>\n",
       "      <td>0.220341</td>\n",
       "      <td>-8.456290</td>\n",
       "      <td>0.532028</td>\n",
       "      <td>0.220341</td>\n",
       "      <td>0</td>\n",
       "      <td>1</td>\n",
       "    </tr>\n",
       "  </tbody>\n",
       "</table>\n",
       "</div>"
      ],
      "text/plain": [
       "   S1prime_norm  S2prime_norm  S3prime_norm   C1_norm   C3_norm        C4  \\\n",
       "0     -5.323718     -4.688678     -4.516378  4.804021  0.999716  0.029074   \n",
       "1     -5.726618     -4.500360     -4.521238  5.556828 -0.551128 -0.013352   \n",
       "2     -4.457393     -5.071759     -4.473922  4.499810 -0.235496  0.020715   \n",
       "3     -4.637032     -4.941521     -4.318578  5.342334  0.089758  0.020023   \n",
       "4     -5.399715     -4.600461     -4.486414  4.382027  0.789461 -0.034895   \n",
       "\n",
       "    C5_norm   C6_norm   C7_norm  C5prime_norm   T1prime  T2prime_norm  \\\n",
       "0  0.057051  0.061819  3.957856      1.351792  0.640426      0.232915   \n",
       "1  0.058213  0.068069  3.293464      2.487306  0.644753      0.226705   \n",
       "2  0.060098  0.064830  2.125609      1.214656  0.636816      0.248523   \n",
       "3  0.060557  0.065276  2.254025      1.193831  0.539634      0.248253   \n",
       "4  0.058001  0.062791  6.450941      1.315407  0.587413      0.220341   \n",
       "\n",
       "   T3prime_norm  T4prime_norm  T5prime_norm  Y1  Y2  \n",
       "0    -10.466155      0.445622      0.232915   0   1  \n",
       "1     -9.365141      0.438887      0.226705   1   0  \n",
       "2    -10.523529      0.451275      0.248523   1   0  \n",
       "3    -11.549720      0.616864      0.248253   1   0  \n",
       "4     -8.456290      0.532028      0.220341   0   1  "
      ]
     },
     "execution_count": 39,
     "metadata": {},
     "output_type": "execute_result"
    }
   ],
   "source": [
    "data1 = data1[['S1prime_norm', 'S2prime_norm',\n",
    "       'S3prime_norm', 'C1_norm', 'C3_norm','C4', 'C5_norm', 'C6_norm', 'C7_norm',\n",
    "       'C5prime_norm', 'T1prime','T2prime_norm', 'T3prime_norm',\n",
    "       'T4prime_norm', 'T5prime_norm','Y1','Y2']]\n",
    "data1.head()"
   ]
  },
  {
   "cell_type": "code",
   "execution_count": 40,
   "metadata": {},
   "outputs": [],
   "source": [
    "data1.to_csv('normalized.csv')"
   ]
  },
  {
   "cell_type": "markdown",
   "metadata": {},
   "source": [
    "# Outliers"
   ]
  },
  {
   "cell_type": "code",
   "execution_count": 41,
   "metadata": {},
   "outputs": [],
   "source": [
    "# try running before doing outliers and make assumption to why you would do this and maybe only for some columns \n",
    "# 3 standard deviation for normalization, IQR normalization not needed"
   ]
  },
  {
   "cell_type": "code",
   "execution_count": 42,
   "metadata": {},
   "outputs": [],
   "source": [
    "# exclude target variables\n",
    "data2 = data1[['S1prime_norm', 'S2prime_norm',\n",
    "       'S3prime_norm', 'C1_norm', 'C3_norm','C4', 'C5_norm', 'C6_norm', 'C7_norm',\n",
    "       'C5prime_norm', 'T1prime','T2prime_norm', 'T3prime_norm',\n",
    "       'T4prime_norm', 'T5prime_norm']]"
   ]
  },
  {
   "cell_type": "code",
   "execution_count": 43,
   "metadata": {},
   "outputs": [
    {
     "name": "stdout",
     "output_type": "stream",
     "text": [
      "Upper Bound:  -4.316107279769483\n",
      "S1prime_norm Series([], Name: S1prime_norm, dtype: float64) \n",
      "\n",
      "Upper Bound:  -3.8067280407937485\n",
      "S2prime_norm 275   -3.704811\n",
      "425   -3.789398\n",
      "Name: S2prime_norm, dtype: float64 \n",
      "\n",
      "Upper Bound:  -3.789625089864377\n",
      "S3prime_norm 50    -3.717956\n",
      "188   -3.666246\n",
      "271   -3.784827\n",
      "382   -3.526857\n",
      "416   -3.704075\n",
      "Name: S3prime_norm, dtype: float64 \n",
      "\n",
      "Upper Bound:  6.768811483082619\n",
      "C1_norm 65     7.643483\n",
      "391    7.193686\n",
      "665    7.144407\n",
      "Name: C1_norm, dtype: float64 \n",
      "\n",
      "Upper Bound:  2.4651591547137874\n",
      "C3_norm Series([], Name: C3_norm, dtype: float64) \n",
      "\n",
      "Upper Bound:  0.10723513361722141\n",
      "C4 Series([], Name: C4, dtype: float64) \n",
      "\n",
      "Upper Bound:  0.06611599225840087\n",
      "C5_norm 313    0.066129\n",
      "Name: C5_norm, dtype: float64 \n",
      "\n",
      "Upper Bound:  0.07156774142647779\n",
      "C6_norm 58     0.073571\n",
      "78     0.071886\n",
      "204    0.073571\n",
      "Name: C6_norm, dtype: float64 \n",
      "\n",
      "Upper Bound:  9.938065584914217\n",
      "C7_norm 275    10.331497\n",
      "Name: C7_norm, dtype: float64 \n",
      "\n",
      "Upper Bound:  2.846098026634757\n",
      "C5prime_norm 58     4.603040\n",
      "161    4.234466\n",
      "204    3.690051\n",
      "265    2.902682\n",
      "Name: C5prime_norm, dtype: float64 \n",
      "\n",
      "Upper Bound:  0.8373146581058543\n",
      "T1prime Series([], Name: T1prime, dtype: float64) \n",
      "\n",
      "Upper Bound:  0.274664084867352\n",
      "T2prime_norm 125    0.305917\n",
      "199    0.302256\n",
      "Name: T2prime_norm, dtype: float64 \n",
      "\n",
      "Upper Bound:  -2.5240092384008808\n",
      "T3prime_norm 125    2.472676\n",
      "199    2.188459\n",
      "484   -2.495508\n",
      "Name: T3prime_norm, dtype: float64 \n",
      "\n",
      "Upper Bound:  0.8096633136685799\n",
      "T4prime_norm 464    0.821176\n",
      "479    0.927654\n",
      "492    0.916291\n",
      "Name: T4prime_norm, dtype: float64 \n",
      "\n",
      "Upper Bound:  0.274664084867352\n",
      "T5prime_norm 125    0.305917\n",
      "199    0.302256\n",
      "Name: T5prime_norm, dtype: float64 \n",
      "\n",
      "Upper Bound:  2.0011376565912995\n",
      "Y1 Series([], Name: Y1, dtype: int64) \n",
      "\n",
      "Upper Bound:  1.843034801554753\n",
      "Y2 Series([], Name: Y2, dtype: int64) \n",
      "\n",
      "Lower Bound:  -6.260820920064223\n",
      "S1prime_norm 635   -6.436265\n",
      "Name: S1prime_norm, dtype: float64 \n",
      "\n",
      "Lower Bound:  -5.702177645769526\n",
      "S2prime_norm 407   -6.141157\n",
      "Name: S2prime_norm, dtype: float64 \n",
      "\n",
      "Lower Bound:  -5.193776189924881\n",
      "S3prime_norm 454   -5.235159\n",
      "Name: S3prime_norm, dtype: float64 \n",
      "\n",
      "Lower Bound:  2.7466173986600495\n",
      "C1_norm 92     2.639057\n",
      "148    2.397895\n",
      "337    2.564949\n",
      "518    2.564949\n",
      "575    2.302585\n",
      "577    2.639057\n",
      "589    2.302585\n",
      "Name: C1_norm, dtype: float64 \n",
      "\n",
      "Lower Bound:  -1.628062869908115\n",
      "C3_norm Series([], Name: C3_norm, dtype: float64) \n",
      "\n",
      "Lower Bound:  -0.09267073079434433\n",
      "C4 107   -0.162352\n",
      "312   -0.092879\n",
      "Name: C4, dtype: float64 \n",
      "\n",
      "Lower Bound:  0.049969807841227405\n",
      "C5_norm 226    0.046548\n",
      "265    0.049325\n",
      "275    0.049850\n",
      "622    0.048361\n",
      "Name: C5_norm, dtype: float64 \n",
      "\n",
      "Lower Bound:  0.054139021377404783\n",
      "C6_norm 226    0.050356\n",
      "275    0.053610\n",
      "622    0.050449\n",
      "Name: C6_norm, dtype: float64 \n",
      "\n",
      "Lower Bound:  -0.5909826077097753\n",
      "C7_norm Series([], Name: C7_norm, dtype: float64) \n",
      "\n",
      "Lower Bound:  -0.20274677774616912\n",
      "C5prime_norm 169   -1.261521\n",
      "302   -0.828708\n",
      "536   -0.287682\n",
      "558   -0.804902\n",
      "Name: C5prime_norm, dtype: float64 \n",
      "\n",
      "Lower Bound:  0.41967634709366586\n",
      "T1prime 479    0.39548\n",
      "492    0.40000\n",
      "Name: T1prime, dtype: float64 \n",
      "\n",
      "Lower Bound:  0.18154075054608942\n",
      "T2prime_norm 106    0.177751\n",
      "298    0.178659\n",
      "454    0.180903\n",
      "Name: T2prime_norm, dtype: float64 \n",
      "\n",
      "Lower Bound:  -16.066200675913507\n",
      "T3prime_norm 63    -25.848291\n",
      "191   -16.189223\n",
      "397   -16.889482\n",
      "431   -19.137155\n",
      "575   -17.837720\n",
      "Name: T3prime_norm, dtype: float64 \n",
      "\n",
      "Lower Bound:  0.13173925042043144\n",
      "T4prime_norm Series([], Name: T4prime_norm, dtype: float64) \n",
      "\n",
      "Lower Bound:  0.18154075054608942\n",
      "T5prime_norm 106    0.177751\n",
      "298    0.178659\n",
      "454    0.180903\n",
      "Name: T5prime_norm, dtype: float64 \n",
      "\n",
      "Lower Bound:  -1.0011376565912997\n",
      "Y1 Series([], Name: Y1, dtype: int64) \n",
      "\n",
      "Lower Bound:  -1.0763681348880865\n",
      "Y2 Series([], Name: Y2, dtype: int64) \n",
      "\n"
     ]
    }
   ],
   "source": [
    "# investigating the nature of the outliers - upper bound\n",
    "for cols in data1.columns:\n",
    "    u_bound = data1[cols].mean() + 3* data1[cols].std()\n",
    "    print('Upper Bound: ', u_bound)\n",
    "    print(cols, data1[cols][data1[cols]>u_bound],'\\n')\n",
    "#my_col[my_col>u_bound]\n",
    "# investigating the nature of the outliers - lower bound\n",
    "for cols in data1.columns:\n",
    "    l_bound = data1[cols].mean() - 3* data1[cols].std()\n",
    "    print('Lower Bound: ', l_bound)\n",
    "    print(cols, data1[cols][data1[cols]<l_bound],'\\n')"
   ]
  },
  {
   "cell_type": "code",
   "execution_count": 44,
   "metadata": {},
   "outputs": [],
   "source": [
    "# going for all the columns - upper bound\n",
    "for col in data1.columns:\n",
    "    u_bound = data1[col].mean() + 3* data1[col].std()\n",
    "    data1[col][data1[col] > u_bound] = u_bound"
   ]
  },
  {
   "cell_type": "code",
   "execution_count": 45,
   "metadata": {},
   "outputs": [
    {
     "name": "stderr",
     "output_type": "stream",
     "text": [
      "/opt/tljh/user/lib/python3.6/site-packages/ipykernel_launcher.py:4: SettingWithCopyWarning: \n",
      "A value is trying to be set on a copy of a slice from a DataFrame\n",
      "\n",
      "See the caveats in the documentation: http://pandas.pydata.org/pandas-docs/stable/user_guide/indexing.html#returning-a-view-versus-a-copy\n",
      "  after removing the cwd from sys.path.\n"
     ]
    }
   ],
   "source": [
    "# going for all the columns - lower bound\n",
    "for col in data1.columns:\n",
    "    l_bound = data1[col].mean() - 3* data1[col].std()\n",
    "    data1[col][data1[col] < l_bound] = l_bound"
   ]
  },
  {
   "cell_type": "code",
   "execution_count": 46,
   "metadata": {},
   "outputs": [
    {
     "name": "stdout",
     "output_type": "stream",
     "text": [
      "S1prime_norm False    660\n",
      "Name: S1prime_norm, dtype: int64 \n",
      "\n",
      "S2prime_norm False    660\n",
      "Name: S2prime_norm, dtype: int64 \n",
      "\n",
      "S3prime_norm False    660\n",
      "Name: S3prime_norm, dtype: int64 \n",
      "\n",
      "C1_norm True    660\n",
      "Name: C1_norm, dtype: int64 \n",
      "\n",
      "C3_norm False    660\n",
      "Name: C3_norm, dtype: int64 \n",
      "\n",
      "C4 False    660\n",
      "Name: C4, dtype: int64 \n",
      "\n",
      "C5_norm False    660\n",
      "Name: C5_norm, dtype: int64 \n",
      "\n",
      "C6_norm False    660\n",
      "Name: C6_norm, dtype: int64 \n",
      "\n",
      "C7_norm True     608\n",
      "False     52\n",
      "Name: C7_norm, dtype: int64 \n",
      "\n",
      "C5prime_norm False    585\n",
      "True      75\n",
      "Name: C5prime_norm, dtype: int64 \n",
      "\n",
      "T1prime False    660\n",
      "Name: T1prime, dtype: int64 \n",
      "\n",
      "T2prime_norm False    660\n",
      "Name: T2prime_norm, dtype: int64 \n",
      "\n",
      "T3prime_norm False    660\n",
      "Name: T3prime_norm, dtype: int64 \n",
      "\n",
      "T4prime_norm False    660\n",
      "Name: T4prime_norm, dtype: int64 \n",
      "\n",
      "T5prime_norm False    660\n",
      "Name: T5prime_norm, dtype: int64 \n",
      "\n",
      "Y1 False    660\n",
      "Name: Y1, dtype: int64 \n",
      "\n",
      "Y2 False    660\n",
      "Name: Y2, dtype: int64 \n",
      "\n",
      "S1prime_norm True    660\n",
      "Name: S1prime_norm, dtype: int64 \n",
      "\n",
      "S2prime_norm True    660\n",
      "Name: S2prime_norm, dtype: int64 \n",
      "\n",
      "S3prime_norm True    660\n",
      "Name: S3prime_norm, dtype: int64 \n",
      "\n",
      "C1_norm False    660\n",
      "Name: C1_norm, dtype: int64 \n",
      "\n",
      "C3_norm False    660\n",
      "Name: C3_norm, dtype: int64 \n",
      "\n",
      "C4 False    660\n",
      "Name: C4, dtype: int64 \n",
      "\n",
      "C5_norm False    660\n",
      "Name: C5_norm, dtype: int64 \n",
      "\n",
      "C6_norm False    660\n",
      "Name: C6_norm, dtype: int64 \n",
      "\n",
      "C7_norm False    660\n",
      "Name: C7_norm, dtype: int64 \n",
      "\n",
      "C5prime_norm False    660\n",
      "Name: C5prime_norm, dtype: int64 \n",
      "\n",
      "T1prime False    660\n",
      "Name: T1prime, dtype: int64 \n",
      "\n",
      "T2prime_norm False    660\n",
      "Name: T2prime_norm, dtype: int64 \n",
      "\n",
      "T3prime_norm True    660\n",
      "Name: T3prime_norm, dtype: int64 \n",
      "\n",
      "T4prime_norm False    660\n",
      "Name: T4prime_norm, dtype: int64 \n",
      "\n",
      "T5prime_norm False    660\n",
      "Name: T5prime_norm, dtype: int64 \n",
      "\n",
      "Y1 False    660\n",
      "Name: Y1, dtype: int64 \n",
      "\n",
      "Y2 False    660\n",
      "Name: Y2, dtype: int64 \n",
      "\n"
     ]
    }
   ],
   "source": [
    "# verifying there is no value greater than the upper boundary\n",
    "for cols in data1.columns:\n",
    "    print(cols, (data1[cols]>u_bound).value_counts(),'\\n')\n",
    "    #print(cols,data1[cols]>u_bound.value_counts())\n",
    "#pd.Series(my_col>u_bound).value_counts()\n",
    "# checkin lower bound \n",
    "for cols in data1.columns:\n",
    "    print(cols, (data1[cols]<l_bound).value_counts(),'\\n')"
   ]
  },
  {
   "cell_type": "code",
   "execution_count": 47,
   "metadata": {},
   "outputs": [
    {
     "name": "stdout",
     "output_type": "stream",
     "text": [
      "<class 'pandas.core.frame.DataFrame'>\n",
      "Int64Index: 660 entries, 0 to 681\n",
      "Data columns (total 15 columns):\n",
      "S1prime_norm    660 non-null float64\n",
      "S2prime_norm    660 non-null float64\n",
      "S3prime_norm    660 non-null float64\n",
      "C1_norm         660 non-null float64\n",
      "C3_norm         660 non-null float64\n",
      "C4              660 non-null float64\n",
      "C5_norm         660 non-null float64\n",
      "C6_norm         660 non-null float64\n",
      "C7_norm         660 non-null float64\n",
      "C5prime_norm    660 non-null float64\n",
      "T1prime         660 non-null float64\n",
      "T2prime_norm    660 non-null float64\n",
      "T3prime_norm    660 non-null float64\n",
      "T4prime_norm    660 non-null float64\n",
      "T5prime_norm    660 non-null float64\n",
      "dtypes: float64(15)\n",
      "memory usage: 82.5 KB\n"
     ]
    }
   ],
   "source": [
    "data2.info()"
   ]
  },
  {
   "cell_type": "code",
   "execution_count": 48,
   "metadata": {},
   "outputs": [
    {
     "data": {
      "text/plain": [
       "S1prime_norm    0\n",
       "S2prime_norm    0\n",
       "S3prime_norm    0\n",
       "C1_norm         0\n",
       "C3_norm         0\n",
       "C4              0\n",
       "C5_norm         0\n",
       "C6_norm         0\n",
       "C7_norm         0\n",
       "C5prime_norm    0\n",
       "T1prime         0\n",
       "T2prime_norm    0\n",
       "T3prime_norm    0\n",
       "T4prime_norm    0\n",
       "T5prime_norm    0\n",
       "dtype: int64"
      ]
     },
     "execution_count": 48,
     "metadata": {},
     "output_type": "execute_result"
    }
   ],
   "source": [
    "data2.isnull().sum()"
   ]
  },
  {
   "cell_type": "code",
   "execution_count": 49,
   "metadata": {},
   "outputs": [],
   "source": [
    "# add Y1 and Y2\n",
    "data3 = pd.concat([data2,data1[['Y1','Y2']]], axis = 1)"
   ]
  },
  {
   "cell_type": "code",
   "execution_count": 50,
   "metadata": {},
   "outputs": [
    {
     "data": {
      "text/html": [
       "<div>\n",
       "<style scoped>\n",
       "    .dataframe tbody tr th:only-of-type {\n",
       "        vertical-align: middle;\n",
       "    }\n",
       "\n",
       "    .dataframe tbody tr th {\n",
       "        vertical-align: top;\n",
       "    }\n",
       "\n",
       "    .dataframe thead th {\n",
       "        text-align: right;\n",
       "    }\n",
       "</style>\n",
       "<table border=\"1\" class=\"dataframe\">\n",
       "  <thead>\n",
       "    <tr style=\"text-align: right;\">\n",
       "      <th></th>\n",
       "      <th>S1prime_norm</th>\n",
       "      <th>S2prime_norm</th>\n",
       "      <th>S3prime_norm</th>\n",
       "      <th>C1_norm</th>\n",
       "      <th>C3_norm</th>\n",
       "      <th>C4</th>\n",
       "      <th>C5_norm</th>\n",
       "      <th>C6_norm</th>\n",
       "      <th>C7_norm</th>\n",
       "      <th>C5prime_norm</th>\n",
       "      <th>T1prime</th>\n",
       "      <th>T2prime_norm</th>\n",
       "      <th>T3prime_norm</th>\n",
       "      <th>T4prime_norm</th>\n",
       "      <th>T5prime_norm</th>\n",
       "      <th>Y1</th>\n",
       "      <th>Y2</th>\n",
       "    </tr>\n",
       "  </thead>\n",
       "  <tbody>\n",
       "    <tr>\n",
       "      <th>0</th>\n",
       "      <td>-5.323718</td>\n",
       "      <td>-4.688678</td>\n",
       "      <td>-4.516378</td>\n",
       "      <td>4.804021</td>\n",
       "      <td>0.999716</td>\n",
       "      <td>0.029074</td>\n",
       "      <td>0.057051</td>\n",
       "      <td>0.061819</td>\n",
       "      <td>3.957856</td>\n",
       "      <td>1.351792</td>\n",
       "      <td>0.640426</td>\n",
       "      <td>0.232915</td>\n",
       "      <td>-10.466155</td>\n",
       "      <td>0.445622</td>\n",
       "      <td>0.232915</td>\n",
       "      <td>0</td>\n",
       "      <td>1</td>\n",
       "    </tr>\n",
       "    <tr>\n",
       "      <th>1</th>\n",
       "      <td>-5.726618</td>\n",
       "      <td>-4.500360</td>\n",
       "      <td>-4.521238</td>\n",
       "      <td>5.556828</td>\n",
       "      <td>-0.551128</td>\n",
       "      <td>-0.013352</td>\n",
       "      <td>0.058213</td>\n",
       "      <td>0.068069</td>\n",
       "      <td>3.293464</td>\n",
       "      <td>2.487306</td>\n",
       "      <td>0.644753</td>\n",
       "      <td>0.226705</td>\n",
       "      <td>-9.365141</td>\n",
       "      <td>0.438887</td>\n",
       "      <td>0.226705</td>\n",
       "      <td>1</td>\n",
       "      <td>0</td>\n",
       "    </tr>\n",
       "    <tr>\n",
       "      <th>2</th>\n",
       "      <td>-4.457393</td>\n",
       "      <td>-5.071759</td>\n",
       "      <td>-4.473922</td>\n",
       "      <td>4.499810</td>\n",
       "      <td>-0.235496</td>\n",
       "      <td>0.020715</td>\n",
       "      <td>0.060098</td>\n",
       "      <td>0.064830</td>\n",
       "      <td>2.125609</td>\n",
       "      <td>1.214656</td>\n",
       "      <td>0.636816</td>\n",
       "      <td>0.248523</td>\n",
       "      <td>-10.523529</td>\n",
       "      <td>0.451275</td>\n",
       "      <td>0.248523</td>\n",
       "      <td>1</td>\n",
       "      <td>0</td>\n",
       "    </tr>\n",
       "    <tr>\n",
       "      <th>3</th>\n",
       "      <td>-4.637032</td>\n",
       "      <td>-4.941521</td>\n",
       "      <td>-4.318578</td>\n",
       "      <td>5.342334</td>\n",
       "      <td>0.089758</td>\n",
       "      <td>0.020023</td>\n",
       "      <td>0.060557</td>\n",
       "      <td>0.065276</td>\n",
       "      <td>2.254025</td>\n",
       "      <td>1.193831</td>\n",
       "      <td>0.539634</td>\n",
       "      <td>0.248253</td>\n",
       "      <td>-11.549720</td>\n",
       "      <td>0.616864</td>\n",
       "      <td>0.248253</td>\n",
       "      <td>1</td>\n",
       "      <td>0</td>\n",
       "    </tr>\n",
       "    <tr>\n",
       "      <th>4</th>\n",
       "      <td>-5.399715</td>\n",
       "      <td>-4.600461</td>\n",
       "      <td>-4.486414</td>\n",
       "      <td>4.382027</td>\n",
       "      <td>0.789461</td>\n",
       "      <td>-0.034895</td>\n",
       "      <td>0.058001</td>\n",
       "      <td>0.062791</td>\n",
       "      <td>6.450941</td>\n",
       "      <td>1.315407</td>\n",
       "      <td>0.587413</td>\n",
       "      <td>0.220341</td>\n",
       "      <td>-8.456290</td>\n",
       "      <td>0.532028</td>\n",
       "      <td>0.220341</td>\n",
       "      <td>0</td>\n",
       "      <td>1</td>\n",
       "    </tr>\n",
       "  </tbody>\n",
       "</table>\n",
       "</div>"
      ],
      "text/plain": [
       "   S1prime_norm  S2prime_norm  S3prime_norm   C1_norm   C3_norm        C4  \\\n",
       "0     -5.323718     -4.688678     -4.516378  4.804021  0.999716  0.029074   \n",
       "1     -5.726618     -4.500360     -4.521238  5.556828 -0.551128 -0.013352   \n",
       "2     -4.457393     -5.071759     -4.473922  4.499810 -0.235496  0.020715   \n",
       "3     -4.637032     -4.941521     -4.318578  5.342334  0.089758  0.020023   \n",
       "4     -5.399715     -4.600461     -4.486414  4.382027  0.789461 -0.034895   \n",
       "\n",
       "    C5_norm   C6_norm   C7_norm  C5prime_norm   T1prime  T2prime_norm  \\\n",
       "0  0.057051  0.061819  3.957856      1.351792  0.640426      0.232915   \n",
       "1  0.058213  0.068069  3.293464      2.487306  0.644753      0.226705   \n",
       "2  0.060098  0.064830  2.125609      1.214656  0.636816      0.248523   \n",
       "3  0.060557  0.065276  2.254025      1.193831  0.539634      0.248253   \n",
       "4  0.058001  0.062791  6.450941      1.315407  0.587413      0.220341   \n",
       "\n",
       "   T3prime_norm  T4prime_norm  T5prime_norm  Y1  Y2  \n",
       "0    -10.466155      0.445622      0.232915   0   1  \n",
       "1     -9.365141      0.438887      0.226705   1   0  \n",
       "2    -10.523529      0.451275      0.248523   1   0  \n",
       "3    -11.549720      0.616864      0.248253   1   0  \n",
       "4     -8.456290      0.532028      0.220341   0   1  "
      ]
     },
     "execution_count": 50,
     "metadata": {},
     "output_type": "execute_result"
    }
   ],
   "source": [
    "data3.head()"
   ]
  },
  {
   "cell_type": "code",
   "execution_count": 51,
   "metadata": {},
   "outputs": [
    {
     "name": "stdout",
     "output_type": "stream",
     "text": [
      "<class 'pandas.core.frame.DataFrame'>\n",
      "Int64Index: 660 entries, 0 to 681\n",
      "Data columns (total 17 columns):\n",
      "S1prime_norm    660 non-null float64\n",
      "S2prime_norm    660 non-null float64\n",
      "S3prime_norm    660 non-null float64\n",
      "C1_norm         660 non-null float64\n",
      "C3_norm         660 non-null float64\n",
      "C4              660 non-null float64\n",
      "C5_norm         660 non-null float64\n",
      "C6_norm         660 non-null float64\n",
      "C7_norm         660 non-null float64\n",
      "C5prime_norm    660 non-null float64\n",
      "T1prime         660 non-null float64\n",
      "T2prime_norm    660 non-null float64\n",
      "T3prime_norm    660 non-null float64\n",
      "T4prime_norm    660 non-null float64\n",
      "T5prime_norm    660 non-null float64\n",
      "Y1              660 non-null int64\n",
      "Y2              660 non-null int64\n",
      "dtypes: float64(15), int64(2)\n",
      "memory usage: 92.8 KB\n"
     ]
    }
   ],
   "source": [
    "data3.info()"
   ]
  },
  {
   "cell_type": "code",
   "execution_count": 52,
   "metadata": {},
   "outputs": [
    {
     "data": {
      "text/plain": [
       "S1prime_norm    0\n",
       "S2prime_norm    0\n",
       "S3prime_norm    0\n",
       "C1_norm         0\n",
       "C3_norm         0\n",
       "C4              0\n",
       "C5_norm         0\n",
       "C6_norm         0\n",
       "C7_norm         0\n",
       "C5prime_norm    0\n",
       "T1prime         0\n",
       "T2prime_norm    0\n",
       "T3prime_norm    0\n",
       "T4prime_norm    0\n",
       "T5prime_norm    0\n",
       "Y1              0\n",
       "Y2              0\n",
       "dtype: int64"
      ]
     },
     "execution_count": 52,
     "metadata": {},
     "output_type": "execute_result"
    }
   ],
   "source": [
    "data3.isnull().sum()"
   ]
  },
  {
   "cell_type": "code",
   "execution_count": 53,
   "metadata": {},
   "outputs": [],
   "source": [
    "data3.to_csv('Outlier_normalized.csv')"
   ]
  },
  {
   "cell_type": "code",
   "execution_count": 54,
   "metadata": {},
   "outputs": [
    {
     "data": {
      "text/plain": [
       "Index(['S1prime_norm', 'S2prime_norm', 'S3prime_norm', 'C1_norm', 'C3_norm',\n",
       "       'C4', 'C5_norm', 'C6_norm', 'C7_norm', 'C5prime_norm', 'T1prime',\n",
       "       'T2prime_norm', 'T3prime_norm', 'T4prime_norm', 'T5prime_norm', 'Y1',\n",
       "       'Y2'],\n",
       "      dtype='object')"
      ]
     },
     "execution_count": 54,
     "metadata": {},
     "output_type": "execute_result"
    }
   ],
   "source": [
    "data3.columns"
   ]
  },
  {
   "cell_type": "code",
   "execution_count": 55,
   "metadata": {},
   "outputs": [],
   "source": [
    "# IQR, minmax, normalize, z-score "
   ]
  },
  {
   "cell_type": "markdown",
   "metadata": {},
   "source": [
    "# Standardization - zscore"
   ]
  },
  {
   "cell_type": "code",
   "execution_count": 56,
   "metadata": {},
   "outputs": [],
   "source": [
    "# exclude the Y1, Y2"
   ]
  },
  {
   "cell_type": "code",
   "execution_count": 57,
   "metadata": {},
   "outputs": [
    {
     "data": {
      "text/html": [
       "<div>\n",
       "<style scoped>\n",
       "    .dataframe tbody tr th:only-of-type {\n",
       "        vertical-align: middle;\n",
       "    }\n",
       "\n",
       "    .dataframe tbody tr th {\n",
       "        vertical-align: top;\n",
       "    }\n",
       "\n",
       "    .dataframe thead th {\n",
       "        text-align: right;\n",
       "    }\n",
       "</style>\n",
       "<table border=\"1\" class=\"dataframe\">\n",
       "  <thead>\n",
       "    <tr style=\"text-align: right;\">\n",
       "      <th></th>\n",
       "      <th>S1prime_norm</th>\n",
       "      <th>S2prime_norm</th>\n",
       "      <th>S3prime_norm</th>\n",
       "      <th>C1_norm</th>\n",
       "      <th>C3_norm</th>\n",
       "      <th>C4</th>\n",
       "      <th>C5_norm</th>\n",
       "      <th>C6_norm</th>\n",
       "      <th>C7_norm</th>\n",
       "      <th>C5prime_norm</th>\n",
       "      <th>T1prime</th>\n",
       "      <th>T2prime_norm</th>\n",
       "      <th>T3prime_norm</th>\n",
       "      <th>T4prime_norm</th>\n",
       "      <th>T5prime_norm</th>\n",
       "    </tr>\n",
       "  </thead>\n",
       "  <tbody>\n",
       "    <tr>\n",
       "      <th>0</th>\n",
       "      <td>0.108850</td>\n",
       "      <td>0.208366</td>\n",
       "      <td>0.105529</td>\n",
       "      <td>0.069129</td>\n",
       "      <td>0.852544</td>\n",
       "      <td>0.654566</td>\n",
       "      <td>0.368850</td>\n",
       "      <td>0.356508</td>\n",
       "      <td>0.408144</td>\n",
       "      <td>0.059313</td>\n",
       "      <td>0.171523</td>\n",
       "      <td>0.310334</td>\n",
       "      <td>0.519239</td>\n",
       "      <td>0.222130</td>\n",
       "      <td>0.310334</td>\n",
       "    </tr>\n",
       "    <tr>\n",
       "      <th>1</th>\n",
       "      <td>1.352857</td>\n",
       "      <td>0.804933</td>\n",
       "      <td>0.126310</td>\n",
       "      <td>1.192960</td>\n",
       "      <td>1.422466</td>\n",
       "      <td>0.619777</td>\n",
       "      <td>0.063268</td>\n",
       "      <td>1.796881</td>\n",
       "      <td>0.787037</td>\n",
       "      <td>2.295653</td>\n",
       "      <td>0.233747</td>\n",
       "      <td>0.090126</td>\n",
       "      <td>0.031054</td>\n",
       "      <td>0.281785</td>\n",
       "      <td>0.090126</td>\n",
       "    </tr>\n",
       "    <tr>\n",
       "      <th>2</th>\n",
       "      <td>2.566039</td>\n",
       "      <td>1.005186</td>\n",
       "      <td>0.076027</td>\n",
       "      <td>0.385014</td>\n",
       "      <td>0.959449</td>\n",
       "      <td>0.403480</td>\n",
       "      <td>0.764109</td>\n",
       "      <td>0.680999</td>\n",
       "      <td>1.453046</td>\n",
       "      <td>0.210771</td>\n",
       "      <td>0.119626</td>\n",
       "      <td>1.316698</td>\n",
       "      <td>0.544678</td>\n",
       "      <td>0.172067</td>\n",
       "      <td>1.316698</td>\n",
       "    </tr>\n",
       "    <tr>\n",
       "      <th>3</th>\n",
       "      <td>2.011379</td>\n",
       "      <td>0.592610</td>\n",
       "      <td>0.740320</td>\n",
       "      <td>0.872752</td>\n",
       "      <td>0.482319</td>\n",
       "      <td>0.382698</td>\n",
       "      <td>0.934891</td>\n",
       "      <td>0.834610</td>\n",
       "      <td>1.379812</td>\n",
       "      <td>0.251784</td>\n",
       "      <td>1.277595</td>\n",
       "      <td>1.299325</td>\n",
       "      <td>0.999687</td>\n",
       "      <td>1.294600</td>\n",
       "      <td>1.299325</td>\n",
       "    </tr>\n",
       "    <tr>\n",
       "      <th>4</th>\n",
       "      <td>0.343501</td>\n",
       "      <td>0.487827</td>\n",
       "      <td>0.022609</td>\n",
       "      <td>0.560847</td>\n",
       "      <td>0.544111</td>\n",
       "      <td>1.266863</td>\n",
       "      <td>0.015643</td>\n",
       "      <td>0.021321</td>\n",
       "      <td>1.013623</td>\n",
       "      <td>0.012345</td>\n",
       "      <td>0.590665</td>\n",
       "      <td>0.500441</td>\n",
       "      <td>0.371927</td>\n",
       "      <td>0.543185</td>\n",
       "      <td>0.500441</td>\n",
       "    </tr>\n",
       "  </tbody>\n",
       "</table>\n",
       "</div>"
      ],
      "text/plain": [
       "   S1prime_norm  S2prime_norm  S3prime_norm   C1_norm   C3_norm        C4  \\\n",
       "0      0.108850      0.208366      0.105529  0.069129  0.852544  0.654566   \n",
       "1      1.352857      0.804933      0.126310  1.192960  1.422466  0.619777   \n",
       "2      2.566039      1.005186      0.076027  0.385014  0.959449  0.403480   \n",
       "3      2.011379      0.592610      0.740320  0.872752  0.482319  0.382698   \n",
       "4      0.343501      0.487827      0.022609  0.560847  0.544111  1.266863   \n",
       "\n",
       "    C5_norm   C6_norm   C7_norm  C5prime_norm   T1prime  T2prime_norm  \\\n",
       "0  0.368850  0.356508  0.408144      0.059313  0.171523      0.310334   \n",
       "1  0.063268  1.796881  0.787037      2.295653  0.233747      0.090126   \n",
       "2  0.764109  0.680999  1.453046      0.210771  0.119626      1.316698   \n",
       "3  0.934891  0.834610  1.379812      0.251784  1.277595      1.299325   \n",
       "4  0.015643  0.021321  1.013623      0.012345  0.590665      0.500441   \n",
       "\n",
       "   T3prime_norm  T4prime_norm  T5prime_norm  \n",
       "0      0.519239      0.222130      0.310334  \n",
       "1      0.031054      0.281785      0.090126  \n",
       "2      0.544678      0.172067      1.316698  \n",
       "3      0.999687      1.294600      1.299325  \n",
       "4      0.371927      0.543185      0.500441  "
      ]
     },
     "execution_count": 57,
     "metadata": {},
     "output_type": "execute_result"
    }
   ],
   "source": [
    "# import z score\n",
    "from scipy import stats\n",
    "\n",
    "data4 = data3[['S1prime_norm', 'S2prime_norm', 'S3prime_norm', 'C1_norm', 'C3_norm',\n",
    "       'C4', 'C5_norm', 'C6_norm', 'C7_norm', 'C5prime_norm',\n",
    "       'T1prime', 'T2prime_norm', 'T3prime_norm', 'T4prime_norm',\n",
    "       'T5prime_norm']]\n",
    "\n",
    "# make sure to exclude the Y1 and Y2\n",
    "data4 = np.abs(stats.zscore(data4))\n",
    "data4 = pd.DataFrame(data4)\n",
    "data4.columns = ['S1prime_norm', 'S2prime_norm', 'S3prime_norm', 'C1_norm', 'C3_norm',\n",
    "       'C4', 'C5_norm', 'C6_norm', 'C7_norm', 'C5prime_norm',\n",
    "       'T1prime', 'T2prime_norm', 'T3prime_norm', 'T4prime_norm',\n",
    "       'T5prime_norm']\n",
    "data4.head()"
   ]
  },
  {
   "cell_type": "code",
   "execution_count": 58,
   "metadata": {},
   "outputs": [
    {
     "name": "stdout",
     "output_type": "stream",
     "text": [
      "<class 'pandas.core.frame.DataFrame'>\n",
      "RangeIndex: 660 entries, 0 to 659\n",
      "Data columns (total 15 columns):\n",
      "S1prime_norm    660 non-null float64\n",
      "S2prime_norm    660 non-null float64\n",
      "S3prime_norm    660 non-null float64\n",
      "C1_norm         660 non-null float64\n",
      "C3_norm         660 non-null float64\n",
      "C4              660 non-null float64\n",
      "C5_norm         660 non-null float64\n",
      "C6_norm         660 non-null float64\n",
      "C7_norm         660 non-null float64\n",
      "C5prime_norm    660 non-null float64\n",
      "T1prime         660 non-null float64\n",
      "T2prime_norm    660 non-null float64\n",
      "T3prime_norm    660 non-null float64\n",
      "T4prime_norm    660 non-null float64\n",
      "T5prime_norm    660 non-null float64\n",
      "dtypes: float64(15)\n",
      "memory usage: 77.5 KB\n"
     ]
    }
   ],
   "source": [
    "data4.info()"
   ]
  },
  {
   "cell_type": "code",
   "execution_count": 59,
   "metadata": {},
   "outputs": [
    {
     "data": {
      "text/plain": [
       "S1prime_norm    0\n",
       "S2prime_norm    0\n",
       "S3prime_norm    0\n",
       "C1_norm         0\n",
       "C3_norm         0\n",
       "C4              0\n",
       "C5_norm         0\n",
       "C6_norm         0\n",
       "C7_norm         0\n",
       "C5prime_norm    0\n",
       "T1prime         0\n",
       "T2prime_norm    0\n",
       "T3prime_norm    0\n",
       "T4prime_norm    0\n",
       "T5prime_norm    0\n",
       "dtype: int64"
      ]
     },
     "execution_count": 59,
     "metadata": {},
     "output_type": "execute_result"
    }
   ],
   "source": [
    "data4.isnull().sum()"
   ]
  },
  {
   "cell_type": "code",
   "execution_count": 60,
   "metadata": {},
   "outputs": [],
   "source": [
    "data3 = data3.reset_index()\n",
    "data3 = data3.drop('index',axis=1)\n",
    "data4 = data4.reset_index()\n",
    "data4 = data4.drop('index',axis=1)"
   ]
  },
  {
   "cell_type": "code",
   "execution_count": 61,
   "metadata": {},
   "outputs": [
    {
     "data": {
      "text/html": [
       "<div>\n",
       "<style scoped>\n",
       "    .dataframe tbody tr th:only-of-type {\n",
       "        vertical-align: middle;\n",
       "    }\n",
       "\n",
       "    .dataframe tbody tr th {\n",
       "        vertical-align: top;\n",
       "    }\n",
       "\n",
       "    .dataframe thead th {\n",
       "        text-align: right;\n",
       "    }\n",
       "</style>\n",
       "<table border=\"1\" class=\"dataframe\">\n",
       "  <thead>\n",
       "    <tr style=\"text-align: right;\">\n",
       "      <th></th>\n",
       "      <th>S1prime_norm</th>\n",
       "      <th>S2prime_norm</th>\n",
       "      <th>S3prime_norm</th>\n",
       "      <th>C1_norm</th>\n",
       "      <th>C3_norm</th>\n",
       "      <th>C4</th>\n",
       "      <th>C5_norm</th>\n",
       "      <th>C6_norm</th>\n",
       "      <th>C7_norm</th>\n",
       "      <th>C5prime_norm</th>\n",
       "      <th>T1prime</th>\n",
       "      <th>T2prime_norm</th>\n",
       "      <th>T3prime_norm</th>\n",
       "      <th>T4prime_norm</th>\n",
       "      <th>T5prime_norm</th>\n",
       "      <th>Y1</th>\n",
       "      <th>Y2</th>\n",
       "    </tr>\n",
       "  </thead>\n",
       "  <tbody>\n",
       "    <tr>\n",
       "      <th>0</th>\n",
       "      <td>0.108850</td>\n",
       "      <td>0.208366</td>\n",
       "      <td>0.105529</td>\n",
       "      <td>0.069129</td>\n",
       "      <td>0.852544</td>\n",
       "      <td>0.654566</td>\n",
       "      <td>0.368850</td>\n",
       "      <td>0.356508</td>\n",
       "      <td>0.408144</td>\n",
       "      <td>0.059313</td>\n",
       "      <td>0.171523</td>\n",
       "      <td>0.310334</td>\n",
       "      <td>0.519239</td>\n",
       "      <td>0.222130</td>\n",
       "      <td>0.310334</td>\n",
       "      <td>0</td>\n",
       "      <td>1</td>\n",
       "    </tr>\n",
       "    <tr>\n",
       "      <th>1</th>\n",
       "      <td>1.352857</td>\n",
       "      <td>0.804933</td>\n",
       "      <td>0.126310</td>\n",
       "      <td>1.192960</td>\n",
       "      <td>1.422466</td>\n",
       "      <td>0.619777</td>\n",
       "      <td>0.063268</td>\n",
       "      <td>1.796881</td>\n",
       "      <td>0.787037</td>\n",
       "      <td>2.295653</td>\n",
       "      <td>0.233747</td>\n",
       "      <td>0.090126</td>\n",
       "      <td>0.031054</td>\n",
       "      <td>0.281785</td>\n",
       "      <td>0.090126</td>\n",
       "      <td>1</td>\n",
       "      <td>0</td>\n",
       "    </tr>\n",
       "    <tr>\n",
       "      <th>2</th>\n",
       "      <td>2.566039</td>\n",
       "      <td>1.005186</td>\n",
       "      <td>0.076027</td>\n",
       "      <td>0.385014</td>\n",
       "      <td>0.959449</td>\n",
       "      <td>0.403480</td>\n",
       "      <td>0.764109</td>\n",
       "      <td>0.680999</td>\n",
       "      <td>1.453046</td>\n",
       "      <td>0.210771</td>\n",
       "      <td>0.119626</td>\n",
       "      <td>1.316698</td>\n",
       "      <td>0.544678</td>\n",
       "      <td>0.172067</td>\n",
       "      <td>1.316698</td>\n",
       "      <td>1</td>\n",
       "      <td>0</td>\n",
       "    </tr>\n",
       "    <tr>\n",
       "      <th>3</th>\n",
       "      <td>2.011379</td>\n",
       "      <td>0.592610</td>\n",
       "      <td>0.740320</td>\n",
       "      <td>0.872752</td>\n",
       "      <td>0.482319</td>\n",
       "      <td>0.382698</td>\n",
       "      <td>0.934891</td>\n",
       "      <td>0.834610</td>\n",
       "      <td>1.379812</td>\n",
       "      <td>0.251784</td>\n",
       "      <td>1.277595</td>\n",
       "      <td>1.299325</td>\n",
       "      <td>0.999687</td>\n",
       "      <td>1.294600</td>\n",
       "      <td>1.299325</td>\n",
       "      <td>1</td>\n",
       "      <td>0</td>\n",
       "    </tr>\n",
       "    <tr>\n",
       "      <th>4</th>\n",
       "      <td>0.343501</td>\n",
       "      <td>0.487827</td>\n",
       "      <td>0.022609</td>\n",
       "      <td>0.560847</td>\n",
       "      <td>0.544111</td>\n",
       "      <td>1.266863</td>\n",
       "      <td>0.015643</td>\n",
       "      <td>0.021321</td>\n",
       "      <td>1.013623</td>\n",
       "      <td>0.012345</td>\n",
       "      <td>0.590665</td>\n",
       "      <td>0.500441</td>\n",
       "      <td>0.371927</td>\n",
       "      <td>0.543185</td>\n",
       "      <td>0.500441</td>\n",
       "      <td>0</td>\n",
       "      <td>1</td>\n",
       "    </tr>\n",
       "  </tbody>\n",
       "</table>\n",
       "</div>"
      ],
      "text/plain": [
       "   S1prime_norm  S2prime_norm  S3prime_norm   C1_norm   C3_norm        C4  \\\n",
       "0      0.108850      0.208366      0.105529  0.069129  0.852544  0.654566   \n",
       "1      1.352857      0.804933      0.126310  1.192960  1.422466  0.619777   \n",
       "2      2.566039      1.005186      0.076027  0.385014  0.959449  0.403480   \n",
       "3      2.011379      0.592610      0.740320  0.872752  0.482319  0.382698   \n",
       "4      0.343501      0.487827      0.022609  0.560847  0.544111  1.266863   \n",
       "\n",
       "    C5_norm   C6_norm   C7_norm  C5prime_norm   T1prime  T2prime_norm  \\\n",
       "0  0.368850  0.356508  0.408144      0.059313  0.171523      0.310334   \n",
       "1  0.063268  1.796881  0.787037      2.295653  0.233747      0.090126   \n",
       "2  0.764109  0.680999  1.453046      0.210771  0.119626      1.316698   \n",
       "3  0.934891  0.834610  1.379812      0.251784  1.277595      1.299325   \n",
       "4  0.015643  0.021321  1.013623      0.012345  0.590665      0.500441   \n",
       "\n",
       "   T3prime_norm  T4prime_norm  T5prime_norm  Y1  Y2  \n",
       "0      0.519239      0.222130      0.310334   0   1  \n",
       "1      0.031054      0.281785      0.090126   1   0  \n",
       "2      0.544678      0.172067      1.316698   1   0  \n",
       "3      0.999687      1.294600      1.299325   1   0  \n",
       "4      0.371927      0.543185      0.500441   0   1  "
      ]
     },
     "execution_count": 61,
     "metadata": {},
     "output_type": "execute_result"
    }
   ],
   "source": [
    "# add back the Y1 and Y2 (maybe also the categoricals)\n",
    "data4 = pd.concat([data4, data3[['Y1','Y2']]],axis = 1)\n",
    "data4.head()"
   ]
  },
  {
   "cell_type": "code",
   "execution_count": 62,
   "metadata": {},
   "outputs": [
    {
     "name": "stdout",
     "output_type": "stream",
     "text": [
      "<class 'pandas.core.frame.DataFrame'>\n",
      "RangeIndex: 660 entries, 0 to 659\n",
      "Data columns (total 17 columns):\n",
      "S1prime_norm    660 non-null float64\n",
      "S2prime_norm    660 non-null float64\n",
      "S3prime_norm    660 non-null float64\n",
      "C1_norm         660 non-null float64\n",
      "C3_norm         660 non-null float64\n",
      "C4              660 non-null float64\n",
      "C5_norm         660 non-null float64\n",
      "C6_norm         660 non-null float64\n",
      "C7_norm         660 non-null float64\n",
      "C5prime_norm    660 non-null float64\n",
      "T1prime         660 non-null float64\n",
      "T2prime_norm    660 non-null float64\n",
      "T3prime_norm    660 non-null float64\n",
      "T4prime_norm    660 non-null float64\n",
      "T5prime_norm    660 non-null float64\n",
      "Y1              660 non-null int64\n",
      "Y2              660 non-null int64\n",
      "dtypes: float64(15), int64(2)\n",
      "memory usage: 87.8 KB\n"
     ]
    }
   ],
   "source": [
    "data4.info()"
   ]
  },
  {
   "cell_type": "code",
   "execution_count": 63,
   "metadata": {},
   "outputs": [
    {
     "data": {
      "text/plain": [
       "S1prime_norm    0\n",
       "S2prime_norm    0\n",
       "S3prime_norm    0\n",
       "C1_norm         0\n",
       "C3_norm         0\n",
       "C4              0\n",
       "C5_norm         0\n",
       "C6_norm         0\n",
       "C7_norm         0\n",
       "C5prime_norm    0\n",
       "T1prime         0\n",
       "T2prime_norm    0\n",
       "T3prime_norm    0\n",
       "T4prime_norm    0\n",
       "T5prime_norm    0\n",
       "Y1              0\n",
       "Y2              0\n",
       "dtype: int64"
      ]
     },
     "execution_count": 63,
     "metadata": {},
     "output_type": "execute_result"
    }
   ],
   "source": [
    "data4.isnull().sum()"
   ]
  },
  {
   "cell_type": "code",
   "execution_count": 64,
   "metadata": {},
   "outputs": [],
   "source": [
    "data4.to_csv('norm_outlier_zscore.csv')"
   ]
  },
  {
   "cell_type": "code",
   "execution_count": null,
   "metadata": {},
   "outputs": [],
   "source": []
  },
  {
   "cell_type": "code",
   "execution_count": 65,
   "metadata": {},
   "outputs": [],
   "source": [
    "# add back categoricals: C3` and C2 \n",
    "# Bin I3 and add it back to the dataframe"
   ]
  },
  {
   "cell_type": "markdown",
   "metadata": {},
   "source": [
    "Binning and including categorical values in a dataframe"
   ]
  },
  {
   "cell_type": "code",
   "execution_count": 66,
   "metadata": {},
   "outputs": [
    {
     "data": {
      "text/plain": [
       "0    345\n",
       "1    315\n",
       "Name: C3`, dtype: int64"
      ]
     },
     "execution_count": 66,
     "metadata": {},
     "output_type": "execute_result"
    }
   ],
   "source": [
    "data['C3`'].value_counts()"
   ]
  },
  {
   "cell_type": "code",
   "execution_count": 67,
   "metadata": {},
   "outputs": [
    {
     "data": {
      "text/plain": [
       "660"
      ]
     },
     "execution_count": 67,
     "metadata": {},
     "output_type": "execute_result"
    }
   ],
   "source": [
    "data['C3`'].count()"
   ]
  },
  {
   "cell_type": "markdown",
   "metadata": {},
   "source": [
    "# Here"
   ]
  },
  {
   "cell_type": "markdown",
   "metadata": {},
   "source": [
    "## ADD C3` later"
   ]
  },
  {
   "cell_type": "code",
   "execution_count": 68,
   "metadata": {},
   "outputs": [],
   "source": [
    "data = data.reset_index()\n",
    "data = data.drop('index',axis=1)"
   ]
  },
  {
   "cell_type": "code",
   "execution_count": 69,
   "metadata": {},
   "outputs": [
    {
     "data": {
      "text/html": [
       "<div>\n",
       "<style scoped>\n",
       "    .dataframe tbody tr th:only-of-type {\n",
       "        vertical-align: middle;\n",
       "    }\n",
       "\n",
       "    .dataframe tbody tr th {\n",
       "        vertical-align: top;\n",
       "    }\n",
       "\n",
       "    .dataframe thead th {\n",
       "        text-align: right;\n",
       "    }\n",
       "</style>\n",
       "<table border=\"1\" class=\"dataframe\">\n",
       "  <thead>\n",
       "    <tr style=\"text-align: right;\">\n",
       "      <th></th>\n",
       "      <th>S1prime_norm</th>\n",
       "      <th>S2prime_norm</th>\n",
       "      <th>S3prime_norm</th>\n",
       "      <th>C1_norm</th>\n",
       "      <th>C3_norm</th>\n",
       "      <th>C4</th>\n",
       "      <th>C5_norm</th>\n",
       "      <th>C6_norm</th>\n",
       "      <th>C7_norm</th>\n",
       "      <th>C5prime_norm</th>\n",
       "      <th>T1prime</th>\n",
       "      <th>T2prime_norm</th>\n",
       "      <th>T3prime_norm</th>\n",
       "      <th>T4prime_norm</th>\n",
       "      <th>T5prime_norm</th>\n",
       "      <th>Y1</th>\n",
       "      <th>Y2</th>\n",
       "      <th>C2</th>\n",
       "      <th>I3</th>\n",
       "      <th>C3`</th>\n",
       "    </tr>\n",
       "  </thead>\n",
       "  <tbody>\n",
       "    <tr>\n",
       "      <th>0</th>\n",
       "      <td>0.108850</td>\n",
       "      <td>0.208366</td>\n",
       "      <td>0.105529</td>\n",
       "      <td>0.069129</td>\n",
       "      <td>0.852544</td>\n",
       "      <td>0.654566</td>\n",
       "      <td>0.368850</td>\n",
       "      <td>0.356508</td>\n",
       "      <td>0.408144</td>\n",
       "      <td>0.059313</td>\n",
       "      <td>0.171523</td>\n",
       "      <td>0.310334</td>\n",
       "      <td>0.519239</td>\n",
       "      <td>0.222130</td>\n",
       "      <td>0.310334</td>\n",
       "      <td>0</td>\n",
       "      <td>1</td>\n",
       "      <td>1</td>\n",
       "      <td>3674</td>\n",
       "      <td>1</td>\n",
       "    </tr>\n",
       "    <tr>\n",
       "      <th>1</th>\n",
       "      <td>1.352857</td>\n",
       "      <td>0.804933</td>\n",
       "      <td>0.126310</td>\n",
       "      <td>1.192960</td>\n",
       "      <td>1.422466</td>\n",
       "      <td>0.619777</td>\n",
       "      <td>0.063268</td>\n",
       "      <td>1.796881</td>\n",
       "      <td>0.787037</td>\n",
       "      <td>2.295653</td>\n",
       "      <td>0.233747</td>\n",
       "      <td>0.090126</td>\n",
       "      <td>0.031054</td>\n",
       "      <td>0.281785</td>\n",
       "      <td>0.090126</td>\n",
       "      <td>1</td>\n",
       "      <td>0</td>\n",
       "      <td>0</td>\n",
       "      <td>2834</td>\n",
       "      <td>0</td>\n",
       "    </tr>\n",
       "    <tr>\n",
       "      <th>2</th>\n",
       "      <td>2.566039</td>\n",
       "      <td>1.005186</td>\n",
       "      <td>0.076027</td>\n",
       "      <td>0.385014</td>\n",
       "      <td>0.959449</td>\n",
       "      <td>0.403480</td>\n",
       "      <td>0.764109</td>\n",
       "      <td>0.680999</td>\n",
       "      <td>1.453046</td>\n",
       "      <td>0.210771</td>\n",
       "      <td>0.119626</td>\n",
       "      <td>1.316698</td>\n",
       "      <td>0.544678</td>\n",
       "      <td>0.172067</td>\n",
       "      <td>1.316698</td>\n",
       "      <td>1</td>\n",
       "      <td>0</td>\n",
       "      <td>1</td>\n",
       "      <td>2834</td>\n",
       "      <td>0</td>\n",
       "    </tr>\n",
       "    <tr>\n",
       "      <th>3</th>\n",
       "      <td>2.011379</td>\n",
       "      <td>0.592610</td>\n",
       "      <td>0.740320</td>\n",
       "      <td>0.872752</td>\n",
       "      <td>0.482319</td>\n",
       "      <td>0.382698</td>\n",
       "      <td>0.934891</td>\n",
       "      <td>0.834610</td>\n",
       "      <td>1.379812</td>\n",
       "      <td>0.251784</td>\n",
       "      <td>1.277595</td>\n",
       "      <td>1.299325</td>\n",
       "      <td>0.999687</td>\n",
       "      <td>1.294600</td>\n",
       "      <td>1.299325</td>\n",
       "      <td>1</td>\n",
       "      <td>0</td>\n",
       "      <td>1</td>\n",
       "      <td>2834</td>\n",
       "      <td>0</td>\n",
       "    </tr>\n",
       "    <tr>\n",
       "      <th>4</th>\n",
       "      <td>0.343501</td>\n",
       "      <td>0.487827</td>\n",
       "      <td>0.022609</td>\n",
       "      <td>0.560847</td>\n",
       "      <td>0.544111</td>\n",
       "      <td>1.266863</td>\n",
       "      <td>0.015643</td>\n",
       "      <td>0.021321</td>\n",
       "      <td>1.013623</td>\n",
       "      <td>0.012345</td>\n",
       "      <td>0.590665</td>\n",
       "      <td>0.500441</td>\n",
       "      <td>0.371927</td>\n",
       "      <td>0.543185</td>\n",
       "      <td>0.500441</td>\n",
       "      <td>0</td>\n",
       "      <td>1</td>\n",
       "      <td>1</td>\n",
       "      <td>4492</td>\n",
       "      <td>1</td>\n",
       "    </tr>\n",
       "  </tbody>\n",
       "</table>\n",
       "</div>"
      ],
      "text/plain": [
       "   S1prime_norm  S2prime_norm  S3prime_norm   C1_norm   C3_norm        C4  \\\n",
       "0      0.108850      0.208366      0.105529  0.069129  0.852544  0.654566   \n",
       "1      1.352857      0.804933      0.126310  1.192960  1.422466  0.619777   \n",
       "2      2.566039      1.005186      0.076027  0.385014  0.959449  0.403480   \n",
       "3      2.011379      0.592610      0.740320  0.872752  0.482319  0.382698   \n",
       "4      0.343501      0.487827      0.022609  0.560847  0.544111  1.266863   \n",
       "\n",
       "    C5_norm   C6_norm   C7_norm  C5prime_norm   T1prime  T2prime_norm  \\\n",
       "0  0.368850  0.356508  0.408144      0.059313  0.171523      0.310334   \n",
       "1  0.063268  1.796881  0.787037      2.295653  0.233747      0.090126   \n",
       "2  0.764109  0.680999  1.453046      0.210771  0.119626      1.316698   \n",
       "3  0.934891  0.834610  1.379812      0.251784  1.277595      1.299325   \n",
       "4  0.015643  0.021321  1.013623      0.012345  0.590665      0.500441   \n",
       "\n",
       "   T3prime_norm  T4prime_norm  T5prime_norm  Y1  Y2  C2    I3  C3`  \n",
       "0      0.519239      0.222130      0.310334   0   1   1  3674    1  \n",
       "1      0.031054      0.281785      0.090126   1   0   0  2834    0  \n",
       "2      0.544678      0.172067      1.316698   1   0   1  2834    0  \n",
       "3      0.999687      1.294600      1.299325   1   0   1  2834    0  \n",
       "4      0.371927      0.543185      0.500441   0   1   1  4492    1  "
      ]
     },
     "execution_count": 69,
     "metadata": {},
     "output_type": "execute_result"
    }
   ],
   "source": [
    "data4 = pd.concat([data4, data[['C2','I3','C3`']]], axis=1)\n",
    "data4.head()"
   ]
  },
  {
   "cell_type": "code",
   "execution_count": 70,
   "metadata": {},
   "outputs": [
    {
     "name": "stdout",
     "output_type": "stream",
     "text": [
      "<class 'pandas.core.frame.DataFrame'>\n",
      "RangeIndex: 660 entries, 0 to 659\n",
      "Data columns (total 20 columns):\n",
      "S1prime_norm    660 non-null float64\n",
      "S2prime_norm    660 non-null float64\n",
      "S3prime_norm    660 non-null float64\n",
      "C1_norm         660 non-null float64\n",
      "C3_norm         660 non-null float64\n",
      "C4              660 non-null float64\n",
      "C5_norm         660 non-null float64\n",
      "C6_norm         660 non-null float64\n",
      "C7_norm         660 non-null float64\n",
      "C5prime_norm    660 non-null float64\n",
      "T1prime         660 non-null float64\n",
      "T2prime_norm    660 non-null float64\n",
      "T3prime_norm    660 non-null float64\n",
      "T4prime_norm    660 non-null float64\n",
      "T5prime_norm    660 non-null float64\n",
      "Y1              660 non-null int64\n",
      "Y2              660 non-null int64\n",
      "C2              660 non-null int64\n",
      "I3              660 non-null object\n",
      "C3`             660 non-null int64\n",
      "dtypes: float64(15), int64(4), object(1)\n",
      "memory usage: 103.2+ KB\n"
     ]
    }
   ],
   "source": [
    "data4.info()"
   ]
  },
  {
   "cell_type": "code",
   "execution_count": 71,
   "metadata": {},
   "outputs": [
    {
     "data": {
      "text/plain": [
       "S1prime_norm    0\n",
       "S2prime_norm    0\n",
       "S3prime_norm    0\n",
       "C1_norm         0\n",
       "C3_norm         0\n",
       "C4              0\n",
       "C5_norm         0\n",
       "C6_norm         0\n",
       "C7_norm         0\n",
       "C5prime_norm    0\n",
       "T1prime         0\n",
       "T2prime_norm    0\n",
       "T3prime_norm    0\n",
       "T4prime_norm    0\n",
       "T5prime_norm    0\n",
       "Y1              0\n",
       "Y2              0\n",
       "C2              0\n",
       "I3              0\n",
       "C3`             0\n",
       "dtype: int64"
      ]
     },
     "execution_count": 71,
     "metadata": {},
     "output_type": "execute_result"
    }
   ],
   "source": [
    "data4.isnull().sum()"
   ]
  },
  {
   "cell_type": "markdown",
   "metadata": {},
   "source": [
    "1\n",
    "0100-0999\tAgriculture, Forestry and Fishing\n",
    "1000-1499\tMining\n",
    "4000-4999\tTransportation, Communications, Electric, Gas and Sanitary service\n",
    "1500-1799\tConstruction\n",
    "2000-3999\tManufacturing\n",
    "2\n",
    "5000-5199\tWholesale Trade\n",
    "5200-5999\tRetail Trade\n",
    "6000-6799\tFinance, Insurance and Real Estate\n",
    "7000-8999\tServices\n",
    "9100-9729\tPublic Administration\n",
    "3\n",
    "9900-9999\tNonclassifiable"
   ]
  },
  {
   "cell_type": "markdown",
   "metadata": {},
   "source": [
    "We notice an error in I3 for Dolby Laboratories. It seems they are participating in many industries. However, when searching online we found out that the its a company specializing in audio noise reduction and audio encoding/compression. Dolby licenses its technologies to consumer electronics manufacturers. Therefore we will change its I3 to 4000. "
   ]
  },
  {
   "cell_type": "markdown",
   "metadata": {},
   "source": [
    "DTS, Inc. is an American company that makes multichannel audio technologies for film and video. Based in Calabasas, California, the company introduced its DTS technology in 1993 as a higher-quality competitor to Dolby Laboratories. So we will change it to 4000. "
   ]
  },
  {
   "cell_type": "markdown",
   "metadata": {},
   "source": [
    "RealD Inc. is a private company known for its RealD 3D system, which is used for projecting films in stereoscopic 3D using circularly polarized light."
   ]
  },
  {
   "cell_type": "markdown",
   "metadata": {},
   "source": [
    "UPG's energy storage solutions"
   ]
  },
  {
   "cell_type": "code",
   "execution_count": 72,
   "metadata": {},
   "outputs": [
    {
     "data": {
      "text/html": [
       "<div>\n",
       "<style scoped>\n",
       "    .dataframe tbody tr th:only-of-type {\n",
       "        vertical-align: middle;\n",
       "    }\n",
       "\n",
       "    .dataframe tbody tr th {\n",
       "        vertical-align: top;\n",
       "    }\n",
       "\n",
       "    .dataframe thead th {\n",
       "        text-align: right;\n",
       "    }\n",
       "</style>\n",
       "<table border=\"1\" class=\"dataframe\">\n",
       "  <thead>\n",
       "    <tr style=\"text-align: right;\">\n",
       "      <th></th>\n",
       "      <th>S1prime_norm</th>\n",
       "      <th>S2prime_norm</th>\n",
       "      <th>S3prime_norm</th>\n",
       "      <th>C1_norm</th>\n",
       "      <th>C3_norm</th>\n",
       "      <th>C4</th>\n",
       "      <th>C5_norm</th>\n",
       "      <th>C6_norm</th>\n",
       "      <th>C7_norm</th>\n",
       "      <th>C5prime_norm</th>\n",
       "      <th>T1prime</th>\n",
       "      <th>T2prime_norm</th>\n",
       "      <th>T3prime_norm</th>\n",
       "      <th>T4prime_norm</th>\n",
       "      <th>T5prime_norm</th>\n",
       "      <th>Y1</th>\n",
       "      <th>Y2</th>\n",
       "      <th>C2</th>\n",
       "      <th>I3</th>\n",
       "      <th>C3`</th>\n",
       "    </tr>\n",
       "  </thead>\n",
       "  <tbody>\n",
       "    <tr>\n",
       "      <th>170</th>\n",
       "      <td>0.346595</td>\n",
       "      <td>0.241866</td>\n",
       "      <td>0.158981</td>\n",
       "      <td>0.385014</td>\n",
       "      <td>0.705646</td>\n",
       "      <td>0.384696</td>\n",
       "      <td>1.367499</td>\n",
       "      <td>1.541809</td>\n",
       "      <td>0.568277</td>\n",
       "      <td>0.113094</td>\n",
       "      <td>1.315596</td>\n",
       "      <td>1.040736</td>\n",
       "      <td>2.141008</td>\n",
       "      <td>1.259478</td>\n",
       "      <td>1.040736</td>\n",
       "      <td>0</td>\n",
       "      <td>1</td>\n",
       "      <td>1</td>\n",
       "      <td>6794, 3861, 3663, 7819</td>\n",
       "      <td>1</td>\n",
       "    </tr>\n",
       "  </tbody>\n",
       "</table>\n",
       "</div>"
      ],
      "text/plain": [
       "     S1prime_norm  S2prime_norm  S3prime_norm   C1_norm   C3_norm        C4  \\\n",
       "170      0.346595      0.241866      0.158981  0.385014  0.705646  0.384696   \n",
       "\n",
       "      C5_norm   C6_norm   C7_norm  C5prime_norm   T1prime  T2prime_norm  \\\n",
       "170  1.367499  1.541809  0.568277      0.113094  1.315596      1.040736   \n",
       "\n",
       "     T3prime_norm  T4prime_norm  T5prime_norm  Y1  Y2  C2  \\\n",
       "170      2.141008      1.259478      1.040736   0   1   1   \n",
       "\n",
       "                         I3  C3`  \n",
       "170  6794, 3861, 3663, 7819    1  "
      ]
     },
     "execution_count": 72,
     "metadata": {},
     "output_type": "execute_result"
    }
   ],
   "source": [
    "data4[data4['I3']=='6794, 3861, 3663, 7819']"
   ]
  },
  {
   "cell_type": "code",
   "execution_count": 73,
   "metadata": {},
   "outputs": [
    {
     "data": {
      "text/plain": [
       "174    D. MEDICAL INDUSTRIES LTD. \n",
       "175              Diamond Foods Inc\n",
       "176    DUNKIN' BRANDS GROUP, INC. \n",
       "177               DOLE FOOD CO INC\n",
       "178             DOMINOS PIZZA INC \n",
       "                  ...             \n",
       "655                     ZIPCAR INC\n",
       "656         Zeltiq Aesthetics Inc \n",
       "657     ZST Digital Networks, Inc.\n",
       "658                    Zumiez Inc \n",
       "659                     SEALY CORP\n",
       "Name: I2, Length: 486, dtype: object"
      ]
     },
     "execution_count": 73,
     "metadata": {},
     "output_type": "execute_result"
    }
   ],
   "source": [
    "data['I2'].loc[174:,]"
   ]
  },
  {
   "cell_type": "code",
   "execution_count": 74,
   "metadata": {},
   "outputs": [
    {
     "data": {
      "text/html": [
       "<div>\n",
       "<style scoped>\n",
       "    .dataframe tbody tr th:only-of-type {\n",
       "        vertical-align: middle;\n",
       "    }\n",
       "\n",
       "    .dataframe tbody tr th {\n",
       "        vertical-align: top;\n",
       "    }\n",
       "\n",
       "    .dataframe thead th {\n",
       "        text-align: right;\n",
       "    }\n",
       "</style>\n",
       "<table border=\"1\" class=\"dataframe\">\n",
       "  <thead>\n",
       "    <tr style=\"text-align: right;\">\n",
       "      <th></th>\n",
       "      <th>S1prime_norm</th>\n",
       "      <th>S2prime_norm</th>\n",
       "      <th>S3prime_norm</th>\n",
       "      <th>C1_norm</th>\n",
       "      <th>C3_norm</th>\n",
       "      <th>C4</th>\n",
       "      <th>C5_norm</th>\n",
       "      <th>C6_norm</th>\n",
       "      <th>C7_norm</th>\n",
       "      <th>C5prime_norm</th>\n",
       "      <th>T1prime</th>\n",
       "      <th>T2prime_norm</th>\n",
       "      <th>T3prime_norm</th>\n",
       "      <th>T4prime_norm</th>\n",
       "      <th>T5prime_norm</th>\n",
       "      <th>Y1</th>\n",
       "      <th>Y2</th>\n",
       "      <th>C2</th>\n",
       "      <th>I3</th>\n",
       "      <th>C3`</th>\n",
       "    </tr>\n",
       "  </thead>\n",
       "  <tbody>\n",
       "    <tr>\n",
       "      <th>183</th>\n",
       "      <td>0.492202</td>\n",
       "      <td>0.910626</td>\n",
       "      <td>1.200257</td>\n",
       "      <td>0.637421</td>\n",
       "      <td>0.799144</td>\n",
       "      <td>1.103217</td>\n",
       "      <td>1.107354</td>\n",
       "      <td>1.069875</td>\n",
       "      <td>0.532953</td>\n",
       "      <td>0.186588</td>\n",
       "      <td>0.384244</td>\n",
       "      <td>0.163224</td>\n",
       "      <td>0.314771</td>\n",
       "      <td>0.329303</td>\n",
       "      <td>0.163224</td>\n",
       "      <td>0</td>\n",
       "      <td>1</td>\n",
       "      <td>0</td>\n",
       "      <td>3651, 6794, 7819</td>\n",
       "      <td>1</td>\n",
       "    </tr>\n",
       "  </tbody>\n",
       "</table>\n",
       "</div>"
      ],
      "text/plain": [
       "     S1prime_norm  S2prime_norm  S3prime_norm   C1_norm   C3_norm        C4  \\\n",
       "183      0.492202      0.910626      1.200257  0.637421  0.799144  1.103217   \n",
       "\n",
       "      C5_norm   C6_norm   C7_norm  C5prime_norm   T1prime  T2prime_norm  \\\n",
       "183  1.107354  1.069875  0.532953      0.186588  0.384244      0.163224   \n",
       "\n",
       "     T3prime_norm  T4prime_norm  T5prime_norm  Y1  Y2  C2                I3  \\\n",
       "183      0.314771      0.329303      0.163224   0   1   0  3651, 6794, 7819   \n",
       "\n",
       "     C3`  \n",
       "183    1  "
      ]
     },
     "execution_count": 74,
     "metadata": {},
     "output_type": "execute_result"
    }
   ],
   "source": [
    "data4[data4['I3']=='3651, 6794, 7819']"
   ]
  },
  {
   "cell_type": "code",
   "execution_count": 75,
   "metadata": {},
   "outputs": [
    {
     "data": {
      "text/plain": [
       "187     DreamWorks Animation, LLC\n",
       "188                Demandware Inc\n",
       "189       DESIGN WITHIN REACH INC\n",
       "190                    DEXCOM INC\n",
       "191        DUOYUAN PRINTING, INC.\n",
       "                  ...            \n",
       "655                    ZIPCAR INC\n",
       "656        Zeltiq Aesthetics Inc \n",
       "657    ZST Digital Networks, Inc.\n",
       "658                   Zumiez Inc \n",
       "659                    SEALY CORP\n",
       "Name: I2, Length: 473, dtype: object"
      ]
     },
     "execution_count": 75,
     "metadata": {},
     "output_type": "execute_result"
    }
   ],
   "source": [
    "data['I2'].loc[187:,]"
   ]
  },
  {
   "cell_type": "code",
   "execution_count": 76,
   "metadata": {},
   "outputs": [
    {
     "data": {
      "text/html": [
       "<div>\n",
       "<style scoped>\n",
       "    .dataframe tbody tr th:only-of-type {\n",
       "        vertical-align: middle;\n",
       "    }\n",
       "\n",
       "    .dataframe tbody tr th {\n",
       "        vertical-align: top;\n",
       "    }\n",
       "\n",
       "    .dataframe thead th {\n",
       "        text-align: right;\n",
       "    }\n",
       "</style>\n",
       "<table border=\"1\" class=\"dataframe\">\n",
       "  <thead>\n",
       "    <tr style=\"text-align: right;\">\n",
       "      <th></th>\n",
       "      <th>S1prime_norm</th>\n",
       "      <th>S2prime_norm</th>\n",
       "      <th>S3prime_norm</th>\n",
       "      <th>C1_norm</th>\n",
       "      <th>C3_norm</th>\n",
       "      <th>C4</th>\n",
       "      <th>C5_norm</th>\n",
       "      <th>C6_norm</th>\n",
       "      <th>C7_norm</th>\n",
       "      <th>C5prime_norm</th>\n",
       "      <th>T1prime</th>\n",
       "      <th>T2prime_norm</th>\n",
       "      <th>T3prime_norm</th>\n",
       "      <th>T4prime_norm</th>\n",
       "      <th>T5prime_norm</th>\n",
       "      <th>Y1</th>\n",
       "      <th>Y2</th>\n",
       "      <th>C2</th>\n",
       "      <th>I3</th>\n",
       "      <th>C3`</th>\n",
       "    </tr>\n",
       "  </thead>\n",
       "  <tbody>\n",
       "    <tr>\n",
       "      <th>483</th>\n",
       "      <td>0.798241</td>\n",
       "      <td>0.046254</td>\n",
       "      <td>1.03625</td>\n",
       "      <td>0.257886</td>\n",
       "      <td>0.244147</td>\n",
       "      <td>0.14346</td>\n",
       "      <td>0.550055</td>\n",
       "      <td>0.571391</td>\n",
       "      <td>0.551994</td>\n",
       "      <td>0.031973</td>\n",
       "      <td>0.715982</td>\n",
       "      <td>0.622288</td>\n",
       "      <td>1.717514</td>\n",
       "      <td>0.675597</td>\n",
       "      <td>0.622288</td>\n",
       "      <td>0</td>\n",
       "      <td>1</td>\n",
       "      <td>1</td>\n",
       "      <td>3663, 3861, 6794</td>\n",
       "      <td>0</td>\n",
       "    </tr>\n",
       "  </tbody>\n",
       "</table>\n",
       "</div>"
      ],
      "text/plain": [
       "     S1prime_norm  S2prime_norm  S3prime_norm   C1_norm   C3_norm       C4  \\\n",
       "483      0.798241      0.046254       1.03625  0.257886  0.244147  0.14346   \n",
       "\n",
       "      C5_norm   C6_norm   C7_norm  C5prime_norm   T1prime  T2prime_norm  \\\n",
       "483  0.550055  0.571391  0.551994      0.031973  0.715982      0.622288   \n",
       "\n",
       "     T3prime_norm  T4prime_norm  T5prime_norm  Y1  Y2  C2                I3  \\\n",
       "483      1.717514      0.675597      0.622288   0   1   1  3663, 3861, 6794   \n",
       "\n",
       "     C3`  \n",
       "483    0  "
      ]
     },
     "execution_count": 76,
     "metadata": {},
     "output_type": "execute_result"
    }
   ],
   "source": [
    "data4[data4['I3']=='3663, 3861, 6794']"
   ]
  },
  {
   "cell_type": "code",
   "execution_count": 77,
   "metadata": {},
   "outputs": [
    {
     "data": {
      "text/plain": [
       "499            Leidos Holdings, Inc. \n",
       "500              Spirit Airlines, Inc\n",
       "501               SAFE BULKERS, INC. \n",
       "502    Sucampo Pharmaceuticals, Inc. \n",
       "503       Scopus Video Networks Ltd. \n",
       "                    ...              \n",
       "655                        ZIPCAR INC\n",
       "656            Zeltiq Aesthetics Inc \n",
       "657        ZST Digital Networks, Inc.\n",
       "658                       Zumiez Inc \n",
       "659                        SEALY CORP\n",
       "Name: I2, Length: 161, dtype: object"
      ]
     },
     "execution_count": 77,
     "metadata": {},
     "output_type": "execute_result"
    }
   ],
   "source": [
    "data['I2'].loc[499:,]"
   ]
  },
  {
   "cell_type": "code",
   "execution_count": 78,
   "metadata": {},
   "outputs": [
    {
     "data": {
      "text/html": [
       "<div>\n",
       "<style scoped>\n",
       "    .dataframe tbody tr th:only-of-type {\n",
       "        vertical-align: middle;\n",
       "    }\n",
       "\n",
       "    .dataframe tbody tr th {\n",
       "        vertical-align: top;\n",
       "    }\n",
       "\n",
       "    .dataframe thead th {\n",
       "        text-align: right;\n",
       "    }\n",
       "</style>\n",
       "<table border=\"1\" class=\"dataframe\">\n",
       "  <thead>\n",
       "    <tr style=\"text-align: right;\">\n",
       "      <th></th>\n",
       "      <th>S1prime_norm</th>\n",
       "      <th>S2prime_norm</th>\n",
       "      <th>S3prime_norm</th>\n",
       "      <th>C1_norm</th>\n",
       "      <th>C3_norm</th>\n",
       "      <th>C4</th>\n",
       "      <th>C5_norm</th>\n",
       "      <th>C6_norm</th>\n",
       "      <th>C7_norm</th>\n",
       "      <th>C5prime_norm</th>\n",
       "      <th>T1prime</th>\n",
       "      <th>T2prime_norm</th>\n",
       "      <th>T3prime_norm</th>\n",
       "      <th>T4prime_norm</th>\n",
       "      <th>T5prime_norm</th>\n",
       "      <th>Y1</th>\n",
       "      <th>Y2</th>\n",
       "      <th>C2</th>\n",
       "      <th>I3</th>\n",
       "      <th>C3`</th>\n",
       "    </tr>\n",
       "  </thead>\n",
       "  <tbody>\n",
       "    <tr>\n",
       "      <th>599</th>\n",
       "      <td>0.568421</td>\n",
       "      <td>0.080687</td>\n",
       "      <td>0.677795</td>\n",
       "      <td>0.212872</td>\n",
       "      <td>0.678322</td>\n",
       "      <td>0.223859</td>\n",
       "      <td>2.524046</td>\n",
       "      <td>1.446007</td>\n",
       "      <td>0.150255</td>\n",
       "      <td>1.596929</td>\n",
       "      <td>2.083901</td>\n",
       "      <td>1.561368</td>\n",
       "      <td>0.222082</td>\n",
       "      <td>2.266519</td>\n",
       "      <td>1.561368</td>\n",
       "      <td>1</td>\n",
       "      <td>0</td>\n",
       "      <td>0</td>\n",
       "      <td>7389, 5063</td>\n",
       "      <td>1</td>\n",
       "    </tr>\n",
       "  </tbody>\n",
       "</table>\n",
       "</div>"
      ],
      "text/plain": [
       "     S1prime_norm  S2prime_norm  S3prime_norm   C1_norm   C3_norm        C4  \\\n",
       "599      0.568421      0.080687      0.677795  0.212872  0.678322  0.223859   \n",
       "\n",
       "      C5_norm   C6_norm   C7_norm  C5prime_norm   T1prime  T2prime_norm  \\\n",
       "599  2.524046  1.446007  0.150255      1.596929  2.083901      1.561368   \n",
       "\n",
       "     T3prime_norm  T4prime_norm  T5prime_norm  Y1  Y2  C2          I3  C3`  \n",
       "599      0.222082      2.266519      1.561368   1   0   0  7389, 5063    1  "
      ]
     },
     "execution_count": 78,
     "metadata": {},
     "output_type": "execute_result"
    }
   ],
   "source": [
    "data4[data4['I3']=='7389, 5063']"
   ]
  },
  {
   "cell_type": "code",
   "execution_count": 79,
   "metadata": {},
   "outputs": [
    {
     "data": {
      "text/plain": [
       "620                         Dialogic Inc. \n",
       "621                           Verigy Ltd. \n",
       "622                Verisk Analytics, Inc. \n",
       "623                          VIRTUSA CORP \n",
       "624                    VERASUN ENERGY CORP\n",
       "625                  Vitamin Shoppe, Inc. \n",
       "626                         Verastem, Inc.\n",
       "627            ASSEMBLY BIOSCIENCES, INC. \n",
       "628                       WAGEWORKS, INC. \n",
       "629           Wesco Aircraft Holdings, Inc\n",
       "630                     WebMD Health Corp.\n",
       "631                         WCA WASTE CORP\n",
       "632           WELLCARE HEALTH PLANS, INC. \n",
       "633                   Warner Chilcott plc \n",
       "634                         Workday, Inc. \n",
       "635                    BOINGO WIRELESS INC\n",
       "636                   Willdan Group, Inc. \n",
       "637                 WESTLAKE CHEMICAL CORP\n",
       "638                WHITING PETROLEUM CORP \n",
       "639    WILLIAMS SCOTSMAN INTERNATIONAL INC\n",
       "640              Warner Music Group Corp. \n",
       "641                 Western Refining, Inc.\n",
       "642               Great Wolf Resorts, Inc.\n",
       "643                  VISUAL SCIENCES, INC.\n",
       "644                              WEST CORP\n",
       "645                      W&T OFFSHORE INC \n",
       "646          Cyclacel Pharmaceuticals, Inc\n",
       "647                          XENOGEN CORP \n",
       "648                             LECG CORP \n",
       "649                XERIUM TECHNOLOGIES INC\n",
       "650                              XTENT INC\n",
       "651                 ENLINK MIDSTREAM, INC.\n",
       "652                             ZILLOW INC\n",
       "653                           EnSync, Inc.\n",
       "654                Horsehead Holding Corp \n",
       "655                             ZIPCAR INC\n",
       "656                 Zeltiq Aesthetics Inc \n",
       "657             ZST Digital Networks, Inc.\n",
       "658                            Zumiez Inc \n",
       "659                             SEALY CORP\n",
       "Name: I2, dtype: object"
      ]
     },
     "execution_count": 79,
     "metadata": {},
     "output_type": "execute_result"
    }
   ],
   "source": [
    "data['I2'].loc[620:,]"
   ]
  },
  {
   "cell_type": "code",
   "execution_count": 80,
   "metadata": {},
   "outputs": [],
   "source": [
    "data4['I3'] = pd.to_numeric(data4['I3'], errors = 'coerce')\n",
    "data4['I3'] = data4['I3'].fillna(4000)\n",
    "data4['I3'] = data4['I3'].astype(int)"
   ]
  },
  {
   "cell_type": "code",
   "execution_count": 81,
   "metadata": {},
   "outputs": [
    {
     "name": "stdout",
     "output_type": "stream",
     "text": [
      "<class 'pandas.core.frame.DataFrame'>\n",
      "RangeIndex: 660 entries, 0 to 659\n",
      "Data columns (total 20 columns):\n",
      "S1prime_norm    660 non-null float64\n",
      "S2prime_norm    660 non-null float64\n",
      "S3prime_norm    660 non-null float64\n",
      "C1_norm         660 non-null float64\n",
      "C3_norm         660 non-null float64\n",
      "C4              660 non-null float64\n",
      "C5_norm         660 non-null float64\n",
      "C6_norm         660 non-null float64\n",
      "C7_norm         660 non-null float64\n",
      "C5prime_norm    660 non-null float64\n",
      "T1prime         660 non-null float64\n",
      "T2prime_norm    660 non-null float64\n",
      "T3prime_norm    660 non-null float64\n",
      "T4prime_norm    660 non-null float64\n",
      "T5prime_norm    660 non-null float64\n",
      "Y1              660 non-null int64\n",
      "Y2              660 non-null int64\n",
      "C2              660 non-null int64\n",
      "I3              660 non-null int64\n",
      "C3`             660 non-null int64\n",
      "dtypes: float64(15), int64(5)\n",
      "memory usage: 103.2 KB\n"
     ]
    }
   ],
   "source": [
    "# convert to numeric\n",
    "#all_data['I3'] = all_data['I3'].astype(int)\n",
    "data4.info()"
   ]
  },
  {
   "cell_type": "code",
   "execution_count": 82,
   "metadata": {},
   "outputs": [
    {
     "data": {
      "text/plain": [
       "S1prime_norm    0\n",
       "S2prime_norm    0\n",
       "S3prime_norm    0\n",
       "C1_norm         0\n",
       "C3_norm         0\n",
       "C4              0\n",
       "C5_norm         0\n",
       "C6_norm         0\n",
       "C7_norm         0\n",
       "C5prime_norm    0\n",
       "T1prime         0\n",
       "T2prime_norm    0\n",
       "T3prime_norm    0\n",
       "T4prime_norm    0\n",
       "T5prime_norm    0\n",
       "Y1              0\n",
       "Y2              0\n",
       "C2              0\n",
       "I3              0\n",
       "C3`             0\n",
       "dtype: int64"
      ]
     },
     "execution_count": 82,
     "metadata": {},
     "output_type": "execute_result"
    }
   ],
   "source": [
    "data4.isnull().sum()"
   ]
  },
  {
   "cell_type": "code",
   "execution_count": 83,
   "metadata": {},
   "outputs": [
    {
     "data": {
      "text/html": [
       "<div>\n",
       "<style scoped>\n",
       "    .dataframe tbody tr th:only-of-type {\n",
       "        vertical-align: middle;\n",
       "    }\n",
       "\n",
       "    .dataframe tbody tr th {\n",
       "        vertical-align: top;\n",
       "    }\n",
       "\n",
       "    .dataframe thead th {\n",
       "        text-align: right;\n",
       "    }\n",
       "</style>\n",
       "<table border=\"1\" class=\"dataframe\">\n",
       "  <thead>\n",
       "    <tr style=\"text-align: right;\">\n",
       "      <th></th>\n",
       "      <th>S1prime_norm</th>\n",
       "      <th>S2prime_norm</th>\n",
       "      <th>S3prime_norm</th>\n",
       "      <th>C1_norm</th>\n",
       "      <th>C3_norm</th>\n",
       "      <th>C4</th>\n",
       "      <th>C5_norm</th>\n",
       "      <th>C6_norm</th>\n",
       "      <th>C7_norm</th>\n",
       "      <th>C5prime_norm</th>\n",
       "      <th>...</th>\n",
       "      <th>T2prime_norm</th>\n",
       "      <th>T3prime_norm</th>\n",
       "      <th>T4prime_norm</th>\n",
       "      <th>T5prime_norm</th>\n",
       "      <th>Y1</th>\n",
       "      <th>Y2</th>\n",
       "      <th>C2</th>\n",
       "      <th>I3</th>\n",
       "      <th>C3`</th>\n",
       "      <th>I3_bin</th>\n",
       "    </tr>\n",
       "  </thead>\n",
       "  <tbody>\n",
       "    <tr>\n",
       "      <th>0</th>\n",
       "      <td>0.108850</td>\n",
       "      <td>0.208366</td>\n",
       "      <td>0.105529</td>\n",
       "      <td>0.069129</td>\n",
       "      <td>0.852544</td>\n",
       "      <td>0.654566</td>\n",
       "      <td>0.368850</td>\n",
       "      <td>0.356508</td>\n",
       "      <td>0.408144</td>\n",
       "      <td>0.059313</td>\n",
       "      <td>...</td>\n",
       "      <td>0.310334</td>\n",
       "      <td>0.519239</td>\n",
       "      <td>0.222130</td>\n",
       "      <td>0.310334</td>\n",
       "      <td>0</td>\n",
       "      <td>1</td>\n",
       "      <td>1</td>\n",
       "      <td>3674</td>\n",
       "      <td>1</td>\n",
       "      <td>1</td>\n",
       "    </tr>\n",
       "    <tr>\n",
       "      <th>1</th>\n",
       "      <td>1.352857</td>\n",
       "      <td>0.804933</td>\n",
       "      <td>0.126310</td>\n",
       "      <td>1.192960</td>\n",
       "      <td>1.422466</td>\n",
       "      <td>0.619777</td>\n",
       "      <td>0.063268</td>\n",
       "      <td>1.796881</td>\n",
       "      <td>0.787037</td>\n",
       "      <td>2.295653</td>\n",
       "      <td>...</td>\n",
       "      <td>0.090126</td>\n",
       "      <td>0.031054</td>\n",
       "      <td>0.281785</td>\n",
       "      <td>0.090126</td>\n",
       "      <td>1</td>\n",
       "      <td>0</td>\n",
       "      <td>0</td>\n",
       "      <td>2834</td>\n",
       "      <td>0</td>\n",
       "      <td>1</td>\n",
       "    </tr>\n",
       "    <tr>\n",
       "      <th>2</th>\n",
       "      <td>2.566039</td>\n",
       "      <td>1.005186</td>\n",
       "      <td>0.076027</td>\n",
       "      <td>0.385014</td>\n",
       "      <td>0.959449</td>\n",
       "      <td>0.403480</td>\n",
       "      <td>0.764109</td>\n",
       "      <td>0.680999</td>\n",
       "      <td>1.453046</td>\n",
       "      <td>0.210771</td>\n",
       "      <td>...</td>\n",
       "      <td>1.316698</td>\n",
       "      <td>0.544678</td>\n",
       "      <td>0.172067</td>\n",
       "      <td>1.316698</td>\n",
       "      <td>1</td>\n",
       "      <td>0</td>\n",
       "      <td>1</td>\n",
       "      <td>2834</td>\n",
       "      <td>0</td>\n",
       "      <td>1</td>\n",
       "    </tr>\n",
       "    <tr>\n",
       "      <th>3</th>\n",
       "      <td>2.011379</td>\n",
       "      <td>0.592610</td>\n",
       "      <td>0.740320</td>\n",
       "      <td>0.872752</td>\n",
       "      <td>0.482319</td>\n",
       "      <td>0.382698</td>\n",
       "      <td>0.934891</td>\n",
       "      <td>0.834610</td>\n",
       "      <td>1.379812</td>\n",
       "      <td>0.251784</td>\n",
       "      <td>...</td>\n",
       "      <td>1.299325</td>\n",
       "      <td>0.999687</td>\n",
       "      <td>1.294600</td>\n",
       "      <td>1.299325</td>\n",
       "      <td>1</td>\n",
       "      <td>0</td>\n",
       "      <td>1</td>\n",
       "      <td>2834</td>\n",
       "      <td>0</td>\n",
       "      <td>1</td>\n",
       "    </tr>\n",
       "    <tr>\n",
       "      <th>4</th>\n",
       "      <td>0.343501</td>\n",
       "      <td>0.487827</td>\n",
       "      <td>0.022609</td>\n",
       "      <td>0.560847</td>\n",
       "      <td>0.544111</td>\n",
       "      <td>1.266863</td>\n",
       "      <td>0.015643</td>\n",
       "      <td>0.021321</td>\n",
       "      <td>1.013623</td>\n",
       "      <td>0.012345</td>\n",
       "      <td>...</td>\n",
       "      <td>0.500441</td>\n",
       "      <td>0.371927</td>\n",
       "      <td>0.543185</td>\n",
       "      <td>0.500441</td>\n",
       "      <td>0</td>\n",
       "      <td>1</td>\n",
       "      <td>1</td>\n",
       "      <td>4492</td>\n",
       "      <td>1</td>\n",
       "      <td>1</td>\n",
       "    </tr>\n",
       "  </tbody>\n",
       "</table>\n",
       "<p>5 rows × 21 columns</p>\n",
       "</div>"
      ],
      "text/plain": [
       "   S1prime_norm  S2prime_norm  S3prime_norm   C1_norm   C3_norm        C4  \\\n",
       "0      0.108850      0.208366      0.105529  0.069129  0.852544  0.654566   \n",
       "1      1.352857      0.804933      0.126310  1.192960  1.422466  0.619777   \n",
       "2      2.566039      1.005186      0.076027  0.385014  0.959449  0.403480   \n",
       "3      2.011379      0.592610      0.740320  0.872752  0.482319  0.382698   \n",
       "4      0.343501      0.487827      0.022609  0.560847  0.544111  1.266863   \n",
       "\n",
       "    C5_norm   C6_norm   C7_norm  C5prime_norm  ...  T2prime_norm  \\\n",
       "0  0.368850  0.356508  0.408144      0.059313  ...      0.310334   \n",
       "1  0.063268  1.796881  0.787037      2.295653  ...      0.090126   \n",
       "2  0.764109  0.680999  1.453046      0.210771  ...      1.316698   \n",
       "3  0.934891  0.834610  1.379812      0.251784  ...      1.299325   \n",
       "4  0.015643  0.021321  1.013623      0.012345  ...      0.500441   \n",
       "\n",
       "   T3prime_norm  T4prime_norm  T5prime_norm  Y1  Y2  C2    I3  C3`  I3_bin  \n",
       "0      0.519239      0.222130      0.310334   0   1   1  3674    1       1  \n",
       "1      0.031054      0.281785      0.090126   1   0   0  2834    0       1  \n",
       "2      0.544678      0.172067      1.316698   1   0   1  2834    0       1  \n",
       "3      0.999687      1.294600      1.299325   1   0   1  2834    0       1  \n",
       "4      0.371927      0.543185      0.500441   0   1   1  4492    1       1  \n",
       "\n",
       "[5 rows x 21 columns]"
      ]
     },
     "execution_count": 83,
     "metadata": {},
     "output_type": "execute_result"
    }
   ],
   "source": [
    "# bin I3 into 4 quantiles \n",
    "#all_data['I3_cat'] = pd.qcut(all_data.I3, q=4, labels=False )\n",
    "def assign_bins(I3):\n",
    "    if I3 >= 100 and I3 <= 4999:       \n",
    "        return 1 \n",
    "    elif (I3 >= 5000) and (I3 <= 9729):       \n",
    "        return 2\n",
    "    elif (I3 >= 5200) and (I3 <= 5999):       \n",
    "        return 2\n",
    "    elif (I3 >= 9900) and (I3 <= 9999):       \n",
    "        return 3\n",
    "    else:       \n",
    "        return 0\n",
    "\n",
    "data4['I3_bin'] = data4['I3'].apply(assign_bins)\n",
    "data4.head()"
   ]
  },
  {
   "cell_type": "code",
   "execution_count": 84,
   "metadata": {},
   "outputs": [
    {
     "data": {
      "text/plain": [
       "S1prime_norm    0\n",
       "S2prime_norm    0\n",
       "S3prime_norm    0\n",
       "C1_norm         0\n",
       "C3_norm         0\n",
       "C4              0\n",
       "C5_norm         0\n",
       "C6_norm         0\n",
       "C7_norm         0\n",
       "C5prime_norm    0\n",
       "T1prime         0\n",
       "T2prime_norm    0\n",
       "T3prime_norm    0\n",
       "T4prime_norm    0\n",
       "T5prime_norm    0\n",
       "Y1              0\n",
       "Y2              0\n",
       "C2              0\n",
       "I3              0\n",
       "C3`             0\n",
       "I3_bin          0\n",
       "dtype: int64"
      ]
     },
     "execution_count": 84,
     "metadata": {},
     "output_type": "execute_result"
    }
   ],
   "source": [
    "data4.isnull().sum()"
   ]
  },
  {
   "cell_type": "markdown",
   "metadata": {},
   "source": [
    "# One-hot encoding (another option)\n",
    "all_data_one_hot = all_data.copy()\n",
    "\n",
    "all_data_one_hot = pd.get_dummies(all_data_one_hot, columns=['I3'], prefix = ['industry'])\n",
    "\n",
    "all_data_one_hot.head()"
   ]
  },
  {
   "cell_type": "code",
   "execution_count": 85,
   "metadata": {},
   "outputs": [],
   "source": [
    "# we drop I3 because we have bins now and we do not need the I3 column anymore\n",
    "data4 = data4.drop('I3',axis=1)"
   ]
  },
  {
   "cell_type": "code",
   "execution_count": 86,
   "metadata": {},
   "outputs": [
    {
     "name": "stdout",
     "output_type": "stream",
     "text": [
      "<class 'pandas.core.frame.DataFrame'>\n",
      "RangeIndex: 660 entries, 0 to 659\n",
      "Data columns (total 20 columns):\n",
      "S1prime_norm    660 non-null float64\n",
      "S2prime_norm    660 non-null float64\n",
      "S3prime_norm    660 non-null float64\n",
      "C1_norm         660 non-null float64\n",
      "C3_norm         660 non-null float64\n",
      "C4              660 non-null float64\n",
      "C5_norm         660 non-null float64\n",
      "C6_norm         660 non-null float64\n",
      "C7_norm         660 non-null float64\n",
      "C5prime_norm    660 non-null float64\n",
      "T1prime         660 non-null float64\n",
      "T2prime_norm    660 non-null float64\n",
      "T3prime_norm    660 non-null float64\n",
      "T4prime_norm    660 non-null float64\n",
      "T5prime_norm    660 non-null float64\n",
      "Y1              660 non-null int64\n",
      "Y2              660 non-null int64\n",
      "C2              660 non-null int64\n",
      "C3`             660 non-null int64\n",
      "I3_bin          660 non-null int64\n",
      "dtypes: float64(15), int64(5)\n",
      "memory usage: 103.2 KB\n"
     ]
    }
   ],
   "source": [
    "data4.info()"
   ]
  },
  {
   "cell_type": "code",
   "execution_count": 87,
   "metadata": {},
   "outputs": [
    {
     "data": {
      "text/plain": [
       "S1prime_norm    0\n",
       "S2prime_norm    0\n",
       "S3prime_norm    0\n",
       "C1_norm         0\n",
       "C3_norm         0\n",
       "C4              0\n",
       "C5_norm         0\n",
       "C6_norm         0\n",
       "C7_norm         0\n",
       "C5prime_norm    0\n",
       "T1prime         0\n",
       "T2prime_norm    0\n",
       "T3prime_norm    0\n",
       "T4prime_norm    0\n",
       "T5prime_norm    0\n",
       "Y1              0\n",
       "Y2              0\n",
       "C2              0\n",
       "C3`             0\n",
       "I3_bin          0\n",
       "dtype: int64"
      ]
     },
     "execution_count": 87,
     "metadata": {},
     "output_type": "execute_result"
    }
   ],
   "source": [
    "data4.isnull().sum()"
   ]
  },
  {
   "cell_type": "code",
   "execution_count": 88,
   "metadata": {},
   "outputs": [
    {
     "data": {
      "text/html": [
       "<div>\n",
       "<style scoped>\n",
       "    .dataframe tbody tr th:only-of-type {\n",
       "        vertical-align: middle;\n",
       "    }\n",
       "\n",
       "    .dataframe tbody tr th {\n",
       "        vertical-align: top;\n",
       "    }\n",
       "\n",
       "    .dataframe thead th {\n",
       "        text-align: right;\n",
       "    }\n",
       "</style>\n",
       "<table border=\"1\" class=\"dataframe\">\n",
       "  <thead>\n",
       "    <tr style=\"text-align: right;\">\n",
       "      <th></th>\n",
       "      <th>S1prime_norm</th>\n",
       "      <th>S2prime_norm</th>\n",
       "      <th>S3prime_norm</th>\n",
       "      <th>C1_norm</th>\n",
       "      <th>C3_norm</th>\n",
       "      <th>C4</th>\n",
       "      <th>C5_norm</th>\n",
       "      <th>C6_norm</th>\n",
       "      <th>C7_norm</th>\n",
       "      <th>C5prime_norm</th>\n",
       "      <th>T1prime</th>\n",
       "      <th>T2prime_norm</th>\n",
       "      <th>T3prime_norm</th>\n",
       "      <th>T4prime_norm</th>\n",
       "      <th>T5prime_norm</th>\n",
       "      <th>Y1</th>\n",
       "      <th>Y2</th>\n",
       "      <th>C2</th>\n",
       "      <th>C3`</th>\n",
       "      <th>I3_bin</th>\n",
       "    </tr>\n",
       "  </thead>\n",
       "  <tbody>\n",
       "    <tr>\n",
       "      <th>count</th>\n",
       "      <td>660.000000</td>\n",
       "      <td>660.000000</td>\n",
       "      <td>660.000000</td>\n",
       "      <td>660.000000</td>\n",
       "      <td>660.000000</td>\n",
       "      <td>660.000000</td>\n",
       "      <td>660.000000</td>\n",
       "      <td>660.000000</td>\n",
       "      <td>660.000000</td>\n",
       "      <td>660.000000</td>\n",
       "      <td>660.000000</td>\n",
       "      <td>660.000000</td>\n",
       "      <td>660.000000</td>\n",
       "      <td>660.000000</td>\n",
       "      <td>660.000000</td>\n",
       "      <td>660.000000</td>\n",
       "      <td>660.000000</td>\n",
       "      <td>660.000000</td>\n",
       "      <td>660.000000</td>\n",
       "      <td>660.000000</td>\n",
       "    </tr>\n",
       "    <tr>\n",
       "      <th>mean</th>\n",
       "      <td>0.788808</td>\n",
       "      <td>0.786166</td>\n",
       "      <td>0.772393</td>\n",
       "      <td>0.695735</td>\n",
       "      <td>0.817828</td>\n",
       "      <td>0.801209</td>\n",
       "      <td>0.767458</td>\n",
       "      <td>0.756162</td>\n",
       "      <td>0.739539</td>\n",
       "      <td>0.703080</td>\n",
       "      <td>0.793295</td>\n",
       "      <td>0.772797</td>\n",
       "      <td>0.728111</td>\n",
       "      <td>0.786977</td>\n",
       "      <td>0.772797</td>\n",
       "      <td>0.500000</td>\n",
       "      <td>0.383333</td>\n",
       "      <td>0.859091</td>\n",
       "      <td>0.477273</td>\n",
       "      <td>1.400000</td>\n",
       "    </tr>\n",
       "    <tr>\n",
       "      <th>std</th>\n",
       "      <td>0.615106</td>\n",
       "      <td>0.618484</td>\n",
       "      <td>0.635626</td>\n",
       "      <td>0.718843</td>\n",
       "      <td>0.575900</td>\n",
       "      <td>0.598839</td>\n",
       "      <td>0.641586</td>\n",
       "      <td>0.654881</td>\n",
       "      <td>0.673624</td>\n",
       "      <td>0.711650</td>\n",
       "      <td>0.609299</td>\n",
       "      <td>0.635135</td>\n",
       "      <td>0.685979</td>\n",
       "      <td>0.617451</td>\n",
       "      <td>0.635135</td>\n",
       "      <td>0.500379</td>\n",
       "      <td>0.486567</td>\n",
       "      <td>0.348192</td>\n",
       "      <td>0.499862</td>\n",
       "      <td>0.496421</td>\n",
       "    </tr>\n",
       "    <tr>\n",
       "      <th>min</th>\n",
       "      <td>0.000169</td>\n",
       "      <td>0.000251</td>\n",
       "      <td>0.004151</td>\n",
       "      <td>0.006157</td>\n",
       "      <td>0.004916</td>\n",
       "      <td>0.002729</td>\n",
       "      <td>0.002108</td>\n",
       "      <td>0.006411</td>\n",
       "      <td>0.004090</td>\n",
       "      <td>0.003462</td>\n",
       "      <td>0.000046</td>\n",
       "      <td>0.000314</td>\n",
       "      <td>0.001130</td>\n",
       "      <td>0.001427</td>\n",
       "      <td>0.000314</td>\n",
       "      <td>0.000000</td>\n",
       "      <td>0.000000</td>\n",
       "      <td>0.000000</td>\n",
       "      <td>0.000000</td>\n",
       "      <td>0.000000</td>\n",
       "    </tr>\n",
       "    <tr>\n",
       "      <th>25%</th>\n",
       "      <td>0.333168</td>\n",
       "      <td>0.310240</td>\n",
       "      <td>0.280862</td>\n",
       "      <td>0.227726</td>\n",
       "      <td>0.503231</td>\n",
       "      <td>0.334753</td>\n",
       "      <td>0.289990</td>\n",
       "      <td>0.279514</td>\n",
       "      <td>0.203305</td>\n",
       "      <td>0.234644</td>\n",
       "      <td>0.300255</td>\n",
       "      <td>0.301485</td>\n",
       "      <td>0.277000</td>\n",
       "      <td>0.292149</td>\n",
       "      <td>0.301485</td>\n",
       "      <td>0.000000</td>\n",
       "      <td>0.000000</td>\n",
       "      <td>1.000000</td>\n",
       "      <td>0.000000</td>\n",
       "      <td>1.000000</td>\n",
       "    </tr>\n",
       "    <tr>\n",
       "      <th>50%</th>\n",
       "      <td>0.647128</td>\n",
       "      <td>0.646385</td>\n",
       "      <td>0.627409</td>\n",
       "      <td>0.470343</td>\n",
       "      <td>0.657539</td>\n",
       "      <td>0.696636</td>\n",
       "      <td>0.614215</td>\n",
       "      <td>0.578639</td>\n",
       "      <td>0.563795</td>\n",
       "      <td>0.528655</td>\n",
       "      <td>0.672682</td>\n",
       "      <td>0.639848</td>\n",
       "      <td>0.555438</td>\n",
       "      <td>0.662280</td>\n",
       "      <td>0.639848</td>\n",
       "      <td>0.500000</td>\n",
       "      <td>0.000000</td>\n",
       "      <td>1.000000</td>\n",
       "      <td>0.000000</td>\n",
       "      <td>1.000000</td>\n",
       "    </tr>\n",
       "    <tr>\n",
       "      <th>75%</th>\n",
       "      <td>1.113817</td>\n",
       "      <td>1.121069</td>\n",
       "      <td>1.089437</td>\n",
       "      <td>0.816339</td>\n",
       "      <td>0.848307</td>\n",
       "      <td>1.202282</td>\n",
       "      <td>1.046389</td>\n",
       "      <td>1.008853</td>\n",
       "      <td>1.096545</td>\n",
       "      <td>0.936384</td>\n",
       "      <td>1.181316</td>\n",
       "      <td>1.067979</td>\n",
       "      <td>1.040975</td>\n",
       "      <td>1.151796</td>\n",
       "      <td>1.067979</td>\n",
       "      <td>1.000000</td>\n",
       "      <td>1.000000</td>\n",
       "      <td>1.000000</td>\n",
       "      <td>1.000000</td>\n",
       "      <td>2.000000</td>\n",
       "    </tr>\n",
       "    <tr>\n",
       "      <th>max</th>\n",
       "      <td>3.543981</td>\n",
       "      <td>4.392909</td>\n",
       "      <td>4.125947</td>\n",
       "      <td>4.308033</td>\n",
       "      <td>2.080939</td>\n",
       "      <td>5.095282</td>\n",
       "      <td>4.274781</td>\n",
       "      <td>4.305683</td>\n",
       "      <td>3.226643</td>\n",
       "      <td>6.462487</td>\n",
       "      <td>3.350152</td>\n",
       "      <td>5.017437</td>\n",
       "      <td>7.339613</td>\n",
       "      <td>4.047354</td>\n",
       "      <td>5.017437</td>\n",
       "      <td>1.000000</td>\n",
       "      <td>1.000000</td>\n",
       "      <td>1.000000</td>\n",
       "      <td>1.000000</td>\n",
       "      <td>2.000000</td>\n",
       "    </tr>\n",
       "  </tbody>\n",
       "</table>\n",
       "</div>"
      ],
      "text/plain": [
       "       S1prime_norm  S2prime_norm  S3prime_norm     C1_norm     C3_norm  \\\n",
       "count    660.000000    660.000000    660.000000  660.000000  660.000000   \n",
       "mean       0.788808      0.786166      0.772393    0.695735    0.817828   \n",
       "std        0.615106      0.618484      0.635626    0.718843    0.575900   \n",
       "min        0.000169      0.000251      0.004151    0.006157    0.004916   \n",
       "25%        0.333168      0.310240      0.280862    0.227726    0.503231   \n",
       "50%        0.647128      0.646385      0.627409    0.470343    0.657539   \n",
       "75%        1.113817      1.121069      1.089437    0.816339    0.848307   \n",
       "max        3.543981      4.392909      4.125947    4.308033    2.080939   \n",
       "\n",
       "               C4     C5_norm     C6_norm     C7_norm  C5prime_norm  \\\n",
       "count  660.000000  660.000000  660.000000  660.000000    660.000000   \n",
       "mean     0.801209    0.767458    0.756162    0.739539      0.703080   \n",
       "std      0.598839    0.641586    0.654881    0.673624      0.711650   \n",
       "min      0.002729    0.002108    0.006411    0.004090      0.003462   \n",
       "25%      0.334753    0.289990    0.279514    0.203305      0.234644   \n",
       "50%      0.696636    0.614215    0.578639    0.563795      0.528655   \n",
       "75%      1.202282    1.046389    1.008853    1.096545      0.936384   \n",
       "max      5.095282    4.274781    4.305683    3.226643      6.462487   \n",
       "\n",
       "          T1prime  T2prime_norm  T3prime_norm  T4prime_norm  T5prime_norm  \\\n",
       "count  660.000000    660.000000    660.000000    660.000000    660.000000   \n",
       "mean     0.793295      0.772797      0.728111      0.786977      0.772797   \n",
       "std      0.609299      0.635135      0.685979      0.617451      0.635135   \n",
       "min      0.000046      0.000314      0.001130      0.001427      0.000314   \n",
       "25%      0.300255      0.301485      0.277000      0.292149      0.301485   \n",
       "50%      0.672682      0.639848      0.555438      0.662280      0.639848   \n",
       "75%      1.181316      1.067979      1.040975      1.151796      1.067979   \n",
       "max      3.350152      5.017437      7.339613      4.047354      5.017437   \n",
       "\n",
       "               Y1          Y2          C2         C3`      I3_bin  \n",
       "count  660.000000  660.000000  660.000000  660.000000  660.000000  \n",
       "mean     0.500000    0.383333    0.859091    0.477273    1.400000  \n",
       "std      0.500379    0.486567    0.348192    0.499862    0.496421  \n",
       "min      0.000000    0.000000    0.000000    0.000000    0.000000  \n",
       "25%      0.000000    0.000000    1.000000    0.000000    1.000000  \n",
       "50%      0.500000    0.000000    1.000000    0.000000    1.000000  \n",
       "75%      1.000000    1.000000    1.000000    1.000000    2.000000  \n",
       "max      1.000000    1.000000    1.000000    1.000000    2.000000  "
      ]
     },
     "execution_count": 88,
     "metadata": {},
     "output_type": "execute_result"
    }
   ],
   "source": [
    "data4.describe()"
   ]
  },
  {
   "cell_type": "code",
   "execution_count": 89,
   "metadata": {},
   "outputs": [
    {
     "data": {
      "text/plain": [
       "Index(['S1prime_norm', 'S2prime_norm', 'S3prime_norm', 'C1_norm', 'C3_norm',\n",
       "       'C4', 'C5_norm', 'C6_norm', 'C7_norm', 'C5prime_norm', 'T1prime',\n",
       "       'T2prime_norm', 'T3prime_norm', 'T4prime_norm', 'T5prime_norm', 'Y1',\n",
       "       'Y2', 'C2', 'C3`', 'I3_bin'],\n",
       "      dtype='object')"
      ]
     },
     "execution_count": 89,
     "metadata": {},
     "output_type": "execute_result"
    }
   ],
   "source": [
    "data4.columns"
   ]
  },
  {
   "cell_type": "code",
   "execution_count": 90,
   "metadata": {},
   "outputs": [],
   "source": [
    "# order of columns doesnt matter the ONLY thing that matters is that columns Y1 and Y2 are on the right \n",
    "# target columns\n",
    "data4 = data4[['C2', 'C3`', 'S1prime_norm', 'S2prime_norm', 'S3prime_norm', 'C1_norm',\n",
    "       'C3_norm', 'C4', 'C5_norm', 'C6_norm', 'C7_norm', 'C5prime_norm',\n",
    "       'T1prime', 'T2prime_norm', 'T3prime_norm', 'T4prime_norm',\n",
    "       'T5prime_norm','I3_bin', 'Y1', 'Y2']]"
   ]
  },
  {
   "cell_type": "code",
   "execution_count": 91,
   "metadata": {},
   "outputs": [
    {
     "name": "stdout",
     "output_type": "stream",
     "text": [
      "<class 'pandas.core.frame.DataFrame'>\n",
      "RangeIndex: 660 entries, 0 to 659\n",
      "Data columns (total 20 columns):\n",
      "C2              660 non-null int64\n",
      "C3`             660 non-null int64\n",
      "S1prime_norm    660 non-null float64\n",
      "S2prime_norm    660 non-null float64\n",
      "S3prime_norm    660 non-null float64\n",
      "C1_norm         660 non-null float64\n",
      "C3_norm         660 non-null float64\n",
      "C4              660 non-null float64\n",
      "C5_norm         660 non-null float64\n",
      "C6_norm         660 non-null float64\n",
      "C7_norm         660 non-null float64\n",
      "C5prime_norm    660 non-null float64\n",
      "T1prime         660 non-null float64\n",
      "T2prime_norm    660 non-null float64\n",
      "T3prime_norm    660 non-null float64\n",
      "T4prime_norm    660 non-null float64\n",
      "T5prime_norm    660 non-null float64\n",
      "I3_bin          660 non-null int64\n",
      "Y1              660 non-null int64\n",
      "Y2              660 non-null int64\n",
      "dtypes: float64(15), int64(5)\n",
      "memory usage: 103.2 KB\n"
     ]
    }
   ],
   "source": [
    "data4.info()"
   ]
  },
  {
   "cell_type": "code",
   "execution_count": 92,
   "metadata": {},
   "outputs": [
    {
     "data": {
      "text/plain": [
       "C2              0\n",
       "C3`             0\n",
       "S1prime_norm    0\n",
       "S2prime_norm    0\n",
       "S3prime_norm    0\n",
       "C1_norm         0\n",
       "C3_norm         0\n",
       "C4              0\n",
       "C5_norm         0\n",
       "C6_norm         0\n",
       "C7_norm         0\n",
       "C5prime_norm    0\n",
       "T1prime         0\n",
       "T2prime_norm    0\n",
       "T3prime_norm    0\n",
       "T4prime_norm    0\n",
       "T5prime_norm    0\n",
       "I3_bin          0\n",
       "Y1              0\n",
       "Y2              0\n",
       "dtype: int64"
      ]
     },
     "execution_count": 92,
     "metadata": {},
     "output_type": "execute_result"
    }
   ],
   "source": [
    "data4.isnull().sum()"
   ]
  },
  {
   "cell_type": "markdown",
   "metadata": {},
   "source": [
    "# Correlation"
   ]
  },
  {
   "cell_type": "code",
   "execution_count": 93,
   "metadata": {},
   "outputs": [
    {
     "data": {
      "text/plain": [
       "C2              False\n",
       "C3`             False\n",
       "S1prime_norm    False\n",
       "S2prime_norm    False\n",
       "S3prime_norm    False\n",
       "C1_norm         False\n",
       "C3_norm         False\n",
       "C4              False\n",
       "C5_norm         False\n",
       "C6_norm         False\n",
       "C7_norm         False\n",
       "C5prime_norm    False\n",
       "T1prime         False\n",
       "T2prime_norm    False\n",
       "T3prime_norm    False\n",
       "T4prime_norm    False\n",
       "T5prime_norm    False\n",
       "I3_bin          False\n",
       "Y1               True\n",
       "Y2               True\n",
       "Name: Y1, dtype: bool"
      ]
     },
     "execution_count": 93,
     "metadata": {},
     "output_type": "execute_result"
    }
   ],
   "source": [
    "s1 = data4.corr()['Y1'] > 0.5 \n",
    "s2 = data4.corr()['Y1'] < -0.5\n",
    "s1 | s2 # logical OR"
   ]
  },
  {
   "cell_type": "code",
   "execution_count": 94,
   "metadata": {},
   "outputs": [
    {
     "data": {
      "text/plain": [
       "C2              False\n",
       "C3`             False\n",
       "S1prime_norm    False\n",
       "S2prime_norm    False\n",
       "S3prime_norm    False\n",
       "C1_norm         False\n",
       "C3_norm         False\n",
       "C4              False\n",
       "C5_norm         False\n",
       "C6_norm         False\n",
       "C7_norm         False\n",
       "C5prime_norm    False\n",
       "T1prime         False\n",
       "T2prime_norm    False\n",
       "T3prime_norm    False\n",
       "T4prime_norm    False\n",
       "T5prime_norm    False\n",
       "I3_bin          False\n",
       "Y1               True\n",
       "Y2               True\n",
       "Name: Y2, dtype: bool"
      ]
     },
     "execution_count": 94,
     "metadata": {},
     "output_type": "execute_result"
    }
   ],
   "source": [
    "s3 = data4.corr()['Y2'] > 0.5 \n",
    "s4 = data4.corr()['Y2'] < -0.5\n",
    "s3 | s4 # logical OR"
   ]
  },
  {
   "cell_type": "code",
   "execution_count": 95,
   "metadata": {},
   "outputs": [],
   "source": [
    "# S1, S2, S3, C3, T2, T5 have decent correlation"
   ]
  },
  {
   "cell_type": "code",
   "execution_count": 96,
   "metadata": {},
   "outputs": [
    {
     "data": {
      "image/png": "[encoded data removed]",
      "text/plain": [
       "<Figure size 1152x720 with 2 Axes>"
      ]
     },
     "metadata": {},
     "output_type": "display_data"
    }
   ],
   "source": [
    "import seaborn as sns\n",
    "import matplotlib.pyplot as plt\n",
    "\n",
    "corrMatrix = data4.corr()\n",
    "\n",
    "mask = np.zeros_like(corrMatrix)\n",
    "with sns.axes_style(\"white\"):\n",
    "    f, ax = plt.subplots(figsize=(16, 10))\n",
    "    ax = sns.heatmap(corrMatrix, mask=mask, vmax=.3, square=True,annot=True)"
   ]
  },
  {
   "cell_type": "code",
   "execution_count": 97,
   "metadata": {},
   "outputs": [],
   "source": [
    "# feature selections "
   ]
  },
  {
   "cell_type": "code",
   "execution_count": 98,
   "metadata": {},
   "outputs": [
    {
     "data": {
      "text/plain": [
       "C2              0\n",
       "C3`             0\n",
       "S1prime_norm    0\n",
       "S2prime_norm    0\n",
       "S3prime_norm    0\n",
       "C1_norm         0\n",
       "C3_norm         0\n",
       "C4              0\n",
       "C5_norm         0\n",
       "C6_norm         0\n",
       "C7_norm         0\n",
       "C5prime_norm    0\n",
       "T1prime         0\n",
       "T2prime_norm    0\n",
       "T3prime_norm    0\n",
       "T4prime_norm    0\n",
       "T5prime_norm    0\n",
       "I3_bin          0\n",
       "Y1              0\n",
       "Y2              0\n",
       "dtype: int64"
      ]
     },
     "execution_count": 98,
     "metadata": {},
     "output_type": "execute_result"
    }
   ],
   "source": [
    "data4.isnull().sum()"
   ]
  },
  {
   "cell_type": "code",
   "execution_count": 99,
   "metadata": {},
   "outputs": [],
   "source": [
    "# Import your necessary dependencies\n",
    "from sklearn.feature_selection import RFE\n",
    "from sklearn.linear_model import LogisticRegression"
   ]
  },
  {
   "cell_type": "code",
   "execution_count": 100,
   "metadata": {},
   "outputs": [],
   "source": [
    "# because we add 3 this will be different \n",
    "# X = array[:,0:17] #features\n",
    "# Y1 = array[:,18] #target\n",
    "# Y2 = array[:,19]\n",
    "array = data4.values\n",
    "X = array[:,0:17] #features\n",
    "Y1 = array[:,18] #target\n",
    "Y2 = array[:,19]"
   ]
  },
  {
   "cell_type": "code",
   "execution_count": 101,
   "metadata": {},
   "outputs": [
    {
     "data": {
      "text/plain": [
       "(660, 17)"
      ]
     },
     "execution_count": 101,
     "metadata": {},
     "output_type": "execute_result"
    }
   ],
   "source": [
    "X.shape"
   ]
  },
  {
   "cell_type": "code",
   "execution_count": 102,
   "metadata": {},
   "outputs": [
    {
     "data": {
      "text/plain": [
       "(660,)"
      ]
     },
     "execution_count": 102,
     "metadata": {},
     "output_type": "execute_result"
    }
   ],
   "source": [
    "Y1.shape"
   ]
  },
  {
   "cell_type": "code",
   "execution_count": 103,
   "metadata": {},
   "outputs": [
    {
     "data": {
      "text/plain": [
       "(660,)"
      ]
     },
     "execution_count": 103,
     "metadata": {},
     "output_type": "execute_result"
    }
   ],
   "source": [
    "Y2.shape"
   ]
  },
  {
   "cell_type": "code",
   "execution_count": 104,
   "metadata": {},
   "outputs": [],
   "source": [
    "# test and add to see if performance is going up or down "
   ]
  },
  {
   "cell_type": "code",
   "execution_count": 105,
   "metadata": {},
   "outputs": [],
   "source": [
    "data4.to_csv('all.csv')"
   ]
  },
  {
   "cell_type": "code",
   "execution_count": 106,
   "metadata": {},
   "outputs": [
    {
     "data": {
      "text/plain": [
       "Index(['C2', 'C3`', 'S1prime_norm', 'S2prime_norm', 'S3prime_norm', 'C1_norm',\n",
       "       'C3_norm', 'C4', 'C5_norm', 'C6_norm', 'C7_norm', 'C5prime_norm',\n",
       "       'T1prime', 'T2prime_norm', 'T3prime_norm', 'T4prime_norm',\n",
       "       'T5prime_norm', 'I3_bin', 'Y1', 'Y2'],\n",
       "      dtype='object')"
      ]
     },
     "execution_count": 106,
     "metadata": {},
     "output_type": "execute_result"
    }
   ],
   "source": [
    "data4.columns"
   ]
  },
  {
   "cell_type": "code",
   "execution_count": 107,
   "metadata": {},
   "outputs": [
    {
     "name": "stdout",
     "output_type": "stream",
     "text": [
      "Num Features: 5\n",
      "Selected Features: [ True False False False False False  True False False False  True False\n",
      "  True False False  True False]\n",
      "Feature Ranking: [ 1  3 13  9  8  5  1  4  2 11  1  6  1  7 12  1 10]\n"
     ]
    }
   ],
   "source": [
    "# Feature extraction\n",
    "model = LogisticRegression()\n",
    "rfe = RFE(model, 5)\n",
    "fit = rfe.fit(X, Y1)\n",
    "print(\"Num Features: %s\" % (fit.n_features_))\n",
    "print(\"Selected Features: %s\" % (fit.support_))\n",
    "print(\"Feature Ranking: %s\" % (fit.ranking_))"
   ]
  },
  {
   "cell_type": "code",
   "execution_count": 108,
   "metadata": {},
   "outputs": [],
   "source": [
    "# select y1 features\n",
    "y1_features = data4[['C2','C3_norm','C7_norm','T5prime_norm','T2prime_norm','Y1']]\n",
    "\n",
    "y1_features.to_csv('y1_features.csv')"
   ]
  },
  {
   "cell_type": "code",
   "execution_count": 109,
   "metadata": {},
   "outputs": [
    {
     "data": {
      "text/plain": [
       "Index(['C2', 'C3`', 'S1prime_norm', 'S2prime_norm', 'S3prime_norm', 'C1_norm',\n",
       "       'C3_norm', 'C4', 'C5_norm', 'C6_norm', 'C7_norm', 'C5prime_norm',\n",
       "       'T1prime', 'T2prime_norm', 'T3prime_norm', 'T4prime_norm',\n",
       "       'T5prime_norm', 'I3_bin', 'Y1', 'Y2'],\n",
       "      dtype='object')"
      ]
     },
     "execution_count": 109,
     "metadata": {},
     "output_type": "execute_result"
    }
   ],
   "source": [
    "data4.columns"
   ]
  },
  {
   "cell_type": "code",
   "execution_count": 110,
   "metadata": {},
   "outputs": [
    {
     "name": "stdout",
     "output_type": "stream",
     "text": [
      "Num Features: 5\n",
      "Selected Features: [ True  True False False False False  True False False False False False\n",
      "  True False False  True False]\n",
      "Feature Ranking: [ 1  1 11 13  7  9  1  4  2 12  3  5  1  8 10  1  6]\n"
     ]
    }
   ],
   "source": [
    "# Feature extraction\n",
    "model = LogisticRegression()\n",
    "rfe = RFE(model, 5)\n",
    "fit = rfe.fit(X, Y2)\n",
    "print(\"Num Features: %s\" % (fit.n_features_))\n",
    "print(\"Selected Features: %s\" % (fit.support_))\n",
    "print(\"Feature Ranking: %s\" % (fit.ranking_))"
   ]
  },
  {
   "cell_type": "code",
   "execution_count": 111,
   "metadata": {},
   "outputs": [],
   "source": [
    "y2_features = data4[['C2','C3`','C3_norm','T2prime_norm','T5prime_norm','Y2']]\n",
    "y2_features.to_csv('y2_features.csv')"
   ]
  },
  {
   "cell_type": "code",
   "execution_count": null,
   "metadata": {},
   "outputs": [],
   "source": []
  },
  {
   "cell_type": "markdown",
   "metadata": {},
   "source": [
    "# END"
   ]
  },
  {
   "cell_type": "code",
   "execution_count": 112,
   "metadata": {},
   "outputs": [
    {
     "ename": "NameError",
     "evalue": "name 'SelectKBest' is not defined",
     "output_type": "error",
     "traceback": [
      "\u001b[0;31m---------------------------------------------------------------------------\u001b[0m",
      "\u001b[0;31mNameError\u001b[0m                                 Traceback (most recent call last)",
      "\u001b[0;32m<ipython-input-112-f060238d2c40>\u001b[0m in \u001b[0;36m<module>\u001b[0;34m\u001b[0m\n\u001b[1;32m      1\u001b[0m \u001b[0;31m# Feature extraction\u001b[0m\u001b[0;34m\u001b[0m\u001b[0;34m\u001b[0m\u001b[0;34m\u001b[0m\u001b[0m\n\u001b[0;32m----> 2\u001b[0;31m \u001b[0mtest\u001b[0m \u001b[0;34m=\u001b[0m \u001b[0mSelectKBest\u001b[0m\u001b[0;34m(\u001b[0m\u001b[0mscore_func\u001b[0m\u001b[0;34m=\u001b[0m\u001b[0mchi2\u001b[0m\u001b[0;34m,\u001b[0m \u001b[0mk\u001b[0m\u001b[0;34m=\u001b[0m\u001b[0;36m4\u001b[0m\u001b[0;34m)\u001b[0m\u001b[0;34m\u001b[0m\u001b[0;34m\u001b[0m\u001b[0m\n\u001b[0m\u001b[1;32m      3\u001b[0m \u001b[0mfit\u001b[0m \u001b[0;34m=\u001b[0m \u001b[0mtest\u001b[0m\u001b[0;34m.\u001b[0m\u001b[0mfit\u001b[0m\u001b[0;34m(\u001b[0m\u001b[0mX\u001b[0m\u001b[0;34m,\u001b[0m \u001b[0mY\u001b[0m\u001b[0;34m)\u001b[0m\u001b[0;34m\u001b[0m\u001b[0;34m\u001b[0m\u001b[0m\n\u001b[1;32m      4\u001b[0m \u001b[0;34m\u001b[0m\u001b[0m\n\u001b[1;32m      5\u001b[0m \u001b[0;31m# Summarize scores\u001b[0m\u001b[0;34m\u001b[0m\u001b[0;34m\u001b[0m\u001b[0;34m\u001b[0m\u001b[0m\n",
      "\u001b[0;31mNameError\u001b[0m: name 'SelectKBest' is not defined"
     ]
    }
   ],
   "source": [
    "# Feature extraction\n",
    "test = SelectKBest(score_func=chi2, k=4)\n",
    "fit = test.fit(X, Y)\n",
    "\n",
    "# Summarize scores\n",
    "np.set_printoptions(precision=3)\n",
    "print(fit.scores_)\n",
    "\n",
    "features = fit.transform(X)\n",
    "# Summarize selected features\n",
    "print(features[0:5,:])"
   ]
  },
  {
   "cell_type": "code",
   "execution_count": null,
   "metadata": {},
   "outputs": [],
   "source": []
  },
  {
   "cell_type": "code",
   "execution_count": null,
   "metadata": {},
   "outputs": [],
   "source": []
  },
  {
   "cell_type": "code",
   "execution_count": null,
   "metadata": {},
   "outputs": [],
   "source": [
    "Y"
   ]
  },
  {
   "cell_type": "code",
   "execution_count": null,
   "metadata": {},
   "outputs": [],
   "source": [
    "sklearn.feature_selection.f_classif(X, Y)"
   ]
  },
  {
   "cell_type": "code",
   "execution_count": null,
   "metadata": {},
   "outputs": [],
   "source": [
    "X_1 = sm.add_constant(X)\n",
    "#Fitting sm.OLS model\n",
    "model = sm.OLS(Y,X_1).fit()\n",
    "model.pvalues"
   ]
  },
  {
   "cell_type": "code",
   "execution_count": null,
   "metadata": {},
   "outputs": [],
   "source": [
    "model = LinearRegression()\n",
    "#Initializing RFE model\n",
    "rfe = RFE(model, 7)\n",
    "#Transforming data using RFE\n",
    "X_rfe = rfe.fit_transform(X,Y)  \n",
    "#Fitting the data to model\n",
    "model.fit(X_rfe,Y)\n",
    "print(rfe.support_)\n",
    "print(rfe.ranking_)"
   ]
  },
  {
   "cell_type": "code",
   "execution_count": null,
   "metadata": {},
   "outputs": [],
   "source": []
  }
 ],
 "metadata": {
  "kernelspec": {
   "display_name": "Python 3",
   "language": "python",
   "name": "python3"
  },
  "language_info": {
   "codemirror_mode": {
    "name": "ipython",
    "version": 3
   },
   "file_extension": ".py",
   "mimetype": "text/x-python",
   "name": "python",
   "nbconvert_exporter": "python",
   "pygments_lexer": "ipython3",
   "version": "3.6.7"
  }
 },
 "nbformat": 4,
 "nbformat_minor": 4
}
