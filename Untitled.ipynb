{
 "cells": [
  {
   "cell_type": "code",
   "execution_count": null,
   "metadata": {},
   "outputs": [],
   "source": [
    "Median--\n",
    "standardization--NO NORMALIZATION--\n",
    "Y1: ['C5','C3_impute','I3_bin','C3`','S3prime','Y1']0.542\n",
    "Y2:['C4','C5`','I3_bin','C3`','S3prime','Y2'] 0.545\n",
    "\n",
    "Y1: ['C3_impute','I3_bin','C3`','S3prime','Y1']0.561 ***\n",
    "Y2:['C4','I3_bin','C3`','S3prime','Y2'] 0.573\n",
    "    \n",
    "Y1: ['C5','C3_impute','C3`','S3prime','Y1'] 0.564\n",
    "Y2: ['C4','C5`','C3`','S3prime','Y2'] 0.573\n",
    "    \n",
    "Y1: ['C5','C3_impute','I3_bin','S3prime','Y1']0.538\n",
    "Y2: ['C4','C5`','I3_bin','S3prime','Y2']0.497\n",
    "    \n",
    "normalization\n",
    "Y1: ['C2','C3_norm','C7_norm','T5prime_norm','T2prime_norm','Y1']0.559\n",
    "Y2: ['C2','C3`','C3_norm','T2prime_norm','T5prime_norm','Y2']0.569\n",
    "\n",
    "Y1: ['C3_norm','C7_norm','T5prime_norm','T2prime_norm','Y1']0.570***\n",
    "Y2: ['C3`','C3_norm','T2prime_norm','T5prime_norm','Y2']0.564\n",
    "    \n",
    "Y1: ['C3_norm','C7_norm','T5prime_norm','Y1']0.570\n",
    "Y2: ['C3`','C3_norm','T5prime_norm','Y2']0.506 \n",
    "    \n",
    "Y1: ['C2','C7_norm','T5prime_norm','T2prime_norm','Y1']0.559\n",
    "Y2: ['C2','C3`','T2prime_norm','T5prime_norm','Y2']0.573   \n",
    "    \n",
    "    \n",
    "    \n",
    "Mode--\n",
    "standardization--NO NORMALIZATION--    \n",
    "Y1: ['C5','C3_impute','I3_bin','C3`','S3prime','Y1']\n",
    "Y2:['C4','C5`','I3_bin','C3`','S3prime','Y2'] \n",
    "    \n",
    "normalization\n",
    "Y1: ['C2','C3_norm','C7_norm','T5prime_norm','T2prime_norm','Y1']\n",
    "Y2: ['C2','C3`','C3_norm','T2prime_norm','T5prime_norm','Y2']"
   ]
  }
 ],
 "metadata": {
  "kernelspec": {
   "display_name": "Python 3",
   "language": "python",
   "name": "python3"
  },
  "language_info": {
   "codemirror_mode": {
    "name": "ipython",
    "version": 3
   },
   "file_extension": ".py",
   "mimetype": "text/x-python",
   "name": "python",
   "nbconvert_exporter": "python",
   "pygments_lexer": "ipython3",
   "version": "3.6.7"
  }
 },
 "nbformat": 4,
 "nbformat_minor": 4
}
