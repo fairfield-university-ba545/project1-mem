{
 "cells": [
  {
   "cell_type": "code",
   "execution_count": 1,
   "metadata": {},
   "outputs": [],
   "source": [
    "# imports\n",
    "import pandas as pd\n",
    "import numpy as np"
   ]
  },
  {
   "cell_type": "code",
   "execution_count": 2,
   "metadata": {},
   "outputs": [],
   "source": [
    "# NOTE WHAT COLUMN TO INCLUDE AND WHAT NOT TO INCLUDE"
   ]
  },
  {
   "cell_type": "markdown",
   "metadata": {},
   "source": [
    "- C Column can be 0 and less than 0, no dash\n",
    "- S can be 0 CANNOT be less than 0, no dash\n",
    "- T3-T5 --> can be 0, and less than 0, no dash\n",
    "- T1 --> CANNOT be 0, less than 0, no dashes \n",
    "- T2 --> CANNOT be 0, less than 0, no dashes\n",
    "- P --> CANNOT be 0, less than 0, no dashes"
   ]
  },
  {
   "cell_type": "code",
   "execution_count": 3,
   "metadata": {},
   "outputs": [
    {
     "data": {
      "text/html": [
       "<div>\n",
       "<style scoped>\n",
       "    .dataframe tbody tr th:only-of-type {\n",
       "        vertical-align: middle;\n",
       "    }\n",
       "\n",
       "    .dataframe tbody tr th {\n",
       "        vertical-align: top;\n",
       "    }\n",
       "\n",
       "    .dataframe thead th {\n",
       "        text-align: right;\n",
       "    }\n",
       "</style>\n",
       "<table border=\"1\" class=\"dataframe\">\n",
       "  <thead>\n",
       "    <tr style=\"text-align: right;\">\n",
       "      <th></th>\n",
       "      <th>I1</th>\n",
       "      <th>I2</th>\n",
       "      <th>I3</th>\n",
       "      <th>P(IPO)</th>\n",
       "      <th>P(H)</th>\n",
       "      <th>P(L)</th>\n",
       "      <th>P(1Day)</th>\n",
       "      <th>C1</th>\n",
       "      <th>C2</th>\n",
       "      <th>C3</th>\n",
       "      <th>...</th>\n",
       "      <th>C6</th>\n",
       "      <th>C7</th>\n",
       "      <th>T1</th>\n",
       "      <th>T2</th>\n",
       "      <th>T3</th>\n",
       "      <th>T4</th>\n",
       "      <th>T5</th>\n",
       "      <th>S1</th>\n",
       "      <th>S2</th>\n",
       "      <th>S3</th>\n",
       "    </tr>\n",
       "  </thead>\n",
       "  <tbody>\n",
       "    <tr>\n",
       "      <th>0</th>\n",
       "      <td>AATI</td>\n",
       "      <td>ADVANCED ANALOGIC TECHNOLOGIES INC</td>\n",
       "      <td>3674</td>\n",
       "      <td>10.0</td>\n",
       "      <td>9.5</td>\n",
       "      <td>8.5</td>\n",
       "      <td>11.870000</td>\n",
       "      <td>122.0</td>\n",
       "      <td>1.0</td>\n",
       "      <td>3.43</td>\n",
       "      <td>...</td>\n",
       "      <td>10600000.0</td>\n",
       "      <td>51.345</td>\n",
       "      <td>470.0</td>\n",
       "      <td>12719.0</td>\n",
       "      <td>11560.0</td>\n",
       "      <td>301.0</td>\n",
       "      <td>690.0</td>\n",
       "      <td>62.0</td>\n",
       "      <td>117.0</td>\n",
       "      <td>139.0</td>\n",
       "    </tr>\n",
       "    <tr>\n",
       "      <th>1</th>\n",
       "      <td>ABPI</td>\n",
       "      <td>ACCENTIA BIOPHARMACEUTICALS INC</td>\n",
       "      <td>2834</td>\n",
       "      <td>8.0</td>\n",
       "      <td>10.0</td>\n",
       "      <td>8.0</td>\n",
       "      <td>7.250000</td>\n",
       "      <td>259.0</td>\n",
       "      <td>0.0</td>\n",
       "      <td>-1.62</td>\n",
       "      <td>...</td>\n",
       "      <td>2400000.0</td>\n",
       "      <td>25.936</td>\n",
       "      <td>791.0</td>\n",
       "      <td>21792.0</td>\n",
       "      <td>19585.0</td>\n",
       "      <td>510.0</td>\n",
       "      <td>1120.0</td>\n",
       "      <td>71.0</td>\n",
       "      <td>242.0</td>\n",
       "      <td>237.0</td>\n",
       "    </tr>\n",
       "    <tr>\n",
       "      <th>2</th>\n",
       "      <td>ACAD</td>\n",
       "      <td>ACADIA PHARMACEUTICALS INC</td>\n",
       "      <td>2834</td>\n",
       "      <td>7.0</td>\n",
       "      <td>14.0</td>\n",
       "      <td>12.0</td>\n",
       "      <td>6.700000</td>\n",
       "      <td>90.0</td>\n",
       "      <td>1.0</td>\n",
       "      <td>-1.24</td>\n",
       "      <td>...</td>\n",
       "      <td>5000000.0</td>\n",
       "      <td>7.378</td>\n",
       "      <td>201.0</td>\n",
       "      <td>5262.0</td>\n",
       "      <td>4785.0</td>\n",
       "      <td>128.0</td>\n",
       "      <td>325.0</td>\n",
       "      <td>61.0</td>\n",
       "      <td>33.0</td>\n",
       "      <td>60.0</td>\n",
       "    </tr>\n",
       "    <tr>\n",
       "      <th>3</th>\n",
       "      <td>ACHN</td>\n",
       "      <td>ACHILLION PHARMACEUTICALS INC</td>\n",
       "      <td>2834</td>\n",
       "      <td>11.5</td>\n",
       "      <td>16.0</td>\n",
       "      <td>14.0</td>\n",
       "      <td>12.390000</td>\n",
       "      <td>209.0</td>\n",
       "      <td>1.0</td>\n",
       "      <td>-0.91</td>\n",
       "      <td>...</td>\n",
       "      <td>4500000.0</td>\n",
       "      <td>8.526</td>\n",
       "      <td>328.0</td>\n",
       "      <td>8259.0</td>\n",
       "      <td>7574.0</td>\n",
       "      <td>177.0</td>\n",
       "      <td>509.0</td>\n",
       "      <td>80.0</td>\n",
       "      <td>59.0</td>\n",
       "      <td>110.0</td>\n",
       "    </tr>\n",
       "    <tr>\n",
       "      <th>4</th>\n",
       "      <td>ACLI</td>\n",
       "      <td>AMERICAN COMMERCIAL LINES INC.</td>\n",
       "      <td>4492</td>\n",
       "      <td>21.0</td>\n",
       "      <td>21.0</td>\n",
       "      <td>19.0</td>\n",
       "      <td>56.599998</td>\n",
       "      <td>80.0</td>\n",
       "      <td>1.0</td>\n",
       "      <td>0.07</td>\n",
       "      <td>...</td>\n",
       "      <td>8250000.0</td>\n",
       "      <td>632.298</td>\n",
       "      <td>572.0</td>\n",
       "      <td>14830.0</td>\n",
       "      <td>13176.0</td>\n",
       "      <td>336.0</td>\n",
       "      <td>720.0</td>\n",
       "      <td>67.0</td>\n",
       "      <td>149.0</td>\n",
       "      <td>167.0</td>\n",
       "    </tr>\n",
       "  </tbody>\n",
       "</table>\n",
       "<p>5 rows × 22 columns</p>\n",
       "</div>"
      ],
      "text/plain": [
       "     I1                                  I2    I3  P(IPO)  P(H)  P(L)  \\\n",
       "0  AATI  ADVANCED ANALOGIC TECHNOLOGIES INC  3674    10.0   9.5   8.5   \n",
       "1  ABPI     ACCENTIA BIOPHARMACEUTICALS INC  2834     8.0  10.0   8.0   \n",
       "2  ACAD          ACADIA PHARMACEUTICALS INC  2834     7.0  14.0  12.0   \n",
       "3  ACHN       ACHILLION PHARMACEUTICALS INC  2834    11.5  16.0  14.0   \n",
       "4  ACLI     AMERICAN COMMERCIAL LINES INC.   4492    21.0  21.0  19.0   \n",
       "\n",
       "     P(1Day)     C1   C2    C3  ...          C6       C7     T1       T2  \\\n",
       "0  11.870000  122.0  1.0  3.43  ...  10600000.0   51.345  470.0  12719.0   \n",
       "1   7.250000  259.0  0.0 -1.62  ...   2400000.0   25.936  791.0  21792.0   \n",
       "2   6.700000   90.0  1.0 -1.24  ...   5000000.0    7.378  201.0   5262.0   \n",
       "3  12.390000  209.0  1.0 -0.91  ...   4500000.0    8.526  328.0   8259.0   \n",
       "4  56.599998   80.0  1.0  0.07  ...   8250000.0  632.298  572.0  14830.0   \n",
       "\n",
       "        T3     T4      T5    S1     S2     S3  \n",
       "0  11560.0  301.0   690.0  62.0  117.0  139.0  \n",
       "1  19585.0  510.0  1120.0  71.0  242.0  237.0  \n",
       "2   4785.0  128.0   325.0  61.0   33.0   60.0  \n",
       "3   7574.0  177.0   509.0  80.0   59.0  110.0  \n",
       "4  13176.0  336.0   720.0  67.0  149.0  167.0  \n",
       "\n",
       "[5 rows x 22 columns]"
      ]
     },
     "execution_count": 3,
     "metadata": {},
     "output_type": "execute_result"
    }
   ],
   "source": [
    "# read in the whole file and '-' as NA values \n",
    "data = pd.read_excel('Competition1_raw_data.xlsx', na_values=r'-')\n",
    "                    #dtype={'P(IPO)': float, 'P(1Day)': float})\n",
    "# define dashes as missing --> 0 or NaN\n",
    "data.head(5)"
   ]
  },
  {
   "cell_type": "markdown",
   "metadata": {},
   "source": [
    "We see there are missing values in all columns but I1 and I3. Moreover, some do not have the correct data type."
   ]
  },
  {
   "cell_type": "code",
   "execution_count": 4,
   "metadata": {},
   "outputs": [
    {
     "name": "stdout",
     "output_type": "stream",
     "text": [
      "<class 'pandas.core.frame.DataFrame'>\n",
      "RangeIndex: 682 entries, 0 to 681\n",
      "Data columns (total 22 columns):\n",
      "I1         682 non-null object\n",
      "I2         682 non-null object\n",
      "I3         674 non-null object\n",
      "P(IPO)     677 non-null float64\n",
      "P(H)       672 non-null float64\n",
      "P(L)       672 non-null float64\n",
      "P(1Day)    660 non-null float64\n",
      "C1         660 non-null float64\n",
      "C2         660 non-null float64\n",
      "C3         646 non-null float64\n",
      "C4         660 non-null float64\n",
      "C5         676 non-null float64\n",
      "C6         676 non-null float64\n",
      "C7         610 non-null float64\n",
      "T1         681 non-null float64\n",
      "T2         681 non-null float64\n",
      "T3         681 non-null float64\n",
      "T4         681 non-null float64\n",
      "T5         681 non-null float64\n",
      "S1         681 non-null float64\n",
      "S2         681 non-null float64\n",
      "S3         681 non-null float64\n",
      "dtypes: float64(19), object(3)\n",
      "memory usage: 117.3+ KB\n"
     ]
    }
   ],
   "source": [
    "data.info()"
   ]
  },
  {
   "cell_type": "markdown",
   "metadata": {},
   "source": [
    "The P columns look quite consistent. "
   ]
  },
  {
   "cell_type": "code",
   "execution_count": 5,
   "metadata": {},
   "outputs": [
    {
     "data": {
      "text/html": [
       "<div>\n",
       "<style scoped>\n",
       "    .dataframe tbody tr th:only-of-type {\n",
       "        vertical-align: middle;\n",
       "    }\n",
       "\n",
       "    .dataframe tbody tr th {\n",
       "        vertical-align: top;\n",
       "    }\n",
       "\n",
       "    .dataframe thead th {\n",
       "        text-align: right;\n",
       "    }\n",
       "</style>\n",
       "<table border=\"1\" class=\"dataframe\">\n",
       "  <thead>\n",
       "    <tr style=\"text-align: right;\">\n",
       "      <th></th>\n",
       "      <th>P(IPO)</th>\n",
       "      <th>P(H)</th>\n",
       "      <th>P(L)</th>\n",
       "      <th>P(1Day)</th>\n",
       "      <th>C1</th>\n",
       "      <th>C2</th>\n",
       "      <th>C3</th>\n",
       "      <th>C4</th>\n",
       "      <th>C5</th>\n",
       "      <th>C6</th>\n",
       "      <th>C7</th>\n",
       "      <th>T1</th>\n",
       "      <th>T2</th>\n",
       "      <th>T3</th>\n",
       "      <th>T4</th>\n",
       "      <th>T5</th>\n",
       "      <th>S1</th>\n",
       "      <th>S2</th>\n",
       "      <th>S3</th>\n",
       "    </tr>\n",
       "  </thead>\n",
       "  <tbody>\n",
       "    <tr>\n",
       "      <th>count</th>\n",
       "      <td>677.000000</td>\n",
       "      <td>672.000000</td>\n",
       "      <td>672.000000</td>\n",
       "      <td>660.000000</td>\n",
       "      <td>660.000000</td>\n",
       "      <td>660.000000</td>\n",
       "      <td>646.000000</td>\n",
       "      <td>660.000000</td>\n",
       "      <td>6.760000e+02</td>\n",
       "      <td>6.760000e+02</td>\n",
       "      <td>610.000000</td>\n",
       "      <td>681.000000</td>\n",
       "      <td>681.000000</td>\n",
       "      <td>681.000000</td>\n",
       "      <td>681.000000</td>\n",
       "      <td>681.000000</td>\n",
       "      <td>681.000000</td>\n",
       "      <td>681.000000</td>\n",
       "      <td>681.000000</td>\n",
       "    </tr>\n",
       "    <tr>\n",
       "      <th>mean</th>\n",
       "      <td>13.837666</td>\n",
       "      <td>15.481190</td>\n",
       "      <td>13.515045</td>\n",
       "      <td>25.934766</td>\n",
       "      <td>149.728788</td>\n",
       "      <td>0.859091</td>\n",
       "      <td>1.788904</td>\n",
       "      <td>0.007282</td>\n",
       "      <td>4.935776e+07</td>\n",
       "      <td>1.241519e+07</td>\n",
       "      <td>500.459962</td>\n",
       "      <td>465.634361</td>\n",
       "      <td>12758.606461</td>\n",
       "      <td>11395.844347</td>\n",
       "      <td>294.353891</td>\n",
       "      <td>679.220264</td>\n",
       "      <td>68.421439</td>\n",
       "      <td>120.104258</td>\n",
       "      <td>144.759178</td>\n",
       "    </tr>\n",
       "    <tr>\n",
       "      <th>std</th>\n",
       "      <td>6.053731</td>\n",
       "      <td>6.653429</td>\n",
       "      <td>5.835646</td>\n",
       "      <td>73.234948</td>\n",
       "      <td>152.817467</td>\n",
       "      <td>0.348192</td>\n",
       "      <td>162.666532</td>\n",
       "      <td>0.033318</td>\n",
       "      <td>1.043764e+08</td>\n",
       "      <td>2.512855e+07</td>\n",
       "      <td>1648.337634</td>\n",
       "      <td>175.741647</td>\n",
       "      <td>5449.644597</td>\n",
       "      <td>4839.670179</td>\n",
       "      <td>121.532637</td>\n",
       "      <td>472.914323</td>\n",
       "      <td>39.096525</td>\n",
       "      <td>84.828959</td>\n",
       "      <td>69.276285</td>\n",
       "    </tr>\n",
       "    <tr>\n",
       "      <th>min</th>\n",
       "      <td>3.000000</td>\n",
       "      <td>0.000000</td>\n",
       "      <td>3.000000</td>\n",
       "      <td>0.000000</td>\n",
       "      <td>10.000000</td>\n",
       "      <td>0.000000</td>\n",
       "      <td>-786.239000</td>\n",
       "      <td>-0.162352</td>\n",
       "      <td>3.693227e+06</td>\n",
       "      <td>5.250000e+05</td>\n",
       "      <td>0.074000</td>\n",
       "      <td>132.000000</td>\n",
       "      <td>0.000000</td>\n",
       "      <td>0.000000</td>\n",
       "      <td>0.000000</td>\n",
       "      <td>-1.000000</td>\n",
       "      <td>-1.000000</td>\n",
       "      <td>20.000000</td>\n",
       "      <td>26.000000</td>\n",
       "    </tr>\n",
       "    <tr>\n",
       "      <th>25%</th>\n",
       "      <td>10.000000</td>\n",
       "      <td>12.500000</td>\n",
       "      <td>11.000000</td>\n",
       "      <td>11.000000</td>\n",
       "      <td>85.000000</td>\n",
       "      <td>1.000000</td>\n",
       "      <td>-0.852500</td>\n",
       "      <td>-0.013927</td>\n",
       "      <td>1.871417e+07</td>\n",
       "      <td>5.000000e+06</td>\n",
       "      <td>37.245750</td>\n",
       "      <td>351.000000</td>\n",
       "      <td>9195.000000</td>\n",
       "      <td>8162.000000</td>\n",
       "      <td>213.000000</td>\n",
       "      <td>462.000000</td>\n",
       "      <td>45.000000</td>\n",
       "      <td>73.000000</td>\n",
       "      <td>100.000000</td>\n",
       "    </tr>\n",
       "    <tr>\n",
       "      <th>50%</th>\n",
       "      <td>13.500000</td>\n",
       "      <td>15.000000</td>\n",
       "      <td>13.000000</td>\n",
       "      <td>14.845000</td>\n",
       "      <td>107.000000</td>\n",
       "      <td>1.000000</td>\n",
       "      <td>0.010000</td>\n",
       "      <td>0.009125</td>\n",
       "      <td>2.740018e+07</td>\n",
       "      <td>7.398704e+06</td>\n",
       "      <td>103.833000</td>\n",
       "      <td>444.000000</td>\n",
       "      <td>12045.000000</td>\n",
       "      <td>10785.000000</td>\n",
       "      <td>279.000000</td>\n",
       "      <td>624.000000</td>\n",
       "      <td>60.000000</td>\n",
       "      <td>100.000000</td>\n",
       "      <td>134.000000</td>\n",
       "    </tr>\n",
       "    <tr>\n",
       "      <th>75%</th>\n",
       "      <td>17.000000</td>\n",
       "      <td>17.000000</td>\n",
       "      <td>15.000000</td>\n",
       "      <td>20.485000</td>\n",
       "      <td>155.250000</td>\n",
       "      <td>1.000000</td>\n",
       "      <td>0.470000</td>\n",
       "      <td>0.031571</td>\n",
       "      <td>4.980786e+07</td>\n",
       "      <td>1.200000e+07</td>\n",
       "      <td>331.138000</td>\n",
       "      <td>551.000000</td>\n",
       "      <td>15241.000000</td>\n",
       "      <td>13760.000000</td>\n",
       "      <td>354.000000</td>\n",
       "      <td>795.000000</td>\n",
       "      <td>85.000000</td>\n",
       "      <td>142.000000</td>\n",
       "      <td>173.000000</td>\n",
       "    </tr>\n",
       "    <tr>\n",
       "      <th>max</th>\n",
       "      <td>85.000000</td>\n",
       "      <td>135.000000</td>\n",
       "      <td>108.000000</td>\n",
       "      <td>1159.200562</td>\n",
       "      <td>2087.000000</td>\n",
       "      <td>1.000000</td>\n",
       "      <td>3864.500000</td>\n",
       "      <td>0.092896</td>\n",
       "      <td>2.138085e+09</td>\n",
       "      <td>4.212336e+08</td>\n",
       "      <td>30683.000000</td>\n",
       "      <td>1750.000000</td>\n",
       "      <td>49056.000000</td>\n",
       "      <td>43952.000000</td>\n",
       "      <td>1058.000000</td>\n",
       "      <td>10277.000000</td>\n",
       "      <td>309.000000</td>\n",
       "      <td>944.000000</td>\n",
       "      <td>883.000000</td>\n",
       "    </tr>\n",
       "  </tbody>\n",
       "</table>\n",
       "</div>"
      ],
      "text/plain": [
       "           P(IPO)        P(H)        P(L)      P(1Day)           C1  \\\n",
       "count  677.000000  672.000000  672.000000   660.000000   660.000000   \n",
       "mean    13.837666   15.481190   13.515045    25.934766   149.728788   \n",
       "std      6.053731    6.653429    5.835646    73.234948   152.817467   \n",
       "min      3.000000    0.000000    3.000000     0.000000    10.000000   \n",
       "25%     10.000000   12.500000   11.000000    11.000000    85.000000   \n",
       "50%     13.500000   15.000000   13.000000    14.845000   107.000000   \n",
       "75%     17.000000   17.000000   15.000000    20.485000   155.250000   \n",
       "max     85.000000  135.000000  108.000000  1159.200562  2087.000000   \n",
       "\n",
       "               C2           C3          C4            C5            C6  \\\n",
       "count  660.000000   646.000000  660.000000  6.760000e+02  6.760000e+02   \n",
       "mean     0.859091     1.788904    0.007282  4.935776e+07  1.241519e+07   \n",
       "std      0.348192   162.666532    0.033318  1.043764e+08  2.512855e+07   \n",
       "min      0.000000  -786.239000   -0.162352  3.693227e+06  5.250000e+05   \n",
       "25%      1.000000    -0.852500   -0.013927  1.871417e+07  5.000000e+06   \n",
       "50%      1.000000     0.010000    0.009125  2.740018e+07  7.398704e+06   \n",
       "75%      1.000000     0.470000    0.031571  4.980786e+07  1.200000e+07   \n",
       "max      1.000000  3864.500000    0.092896  2.138085e+09  4.212336e+08   \n",
       "\n",
       "                 C7           T1            T2            T3           T4  \\\n",
       "count    610.000000   681.000000    681.000000    681.000000   681.000000   \n",
       "mean     500.459962   465.634361  12758.606461  11395.844347   294.353891   \n",
       "std     1648.337634   175.741647   5449.644597   4839.670179   121.532637   \n",
       "min        0.074000   132.000000      0.000000      0.000000     0.000000   \n",
       "25%       37.245750   351.000000   9195.000000   8162.000000   213.000000   \n",
       "50%      103.833000   444.000000  12045.000000  10785.000000   279.000000   \n",
       "75%      331.138000   551.000000  15241.000000  13760.000000   354.000000   \n",
       "max    30683.000000  1750.000000  49056.000000  43952.000000  1058.000000   \n",
       "\n",
       "                 T5          S1          S2          S3  \n",
       "count    681.000000  681.000000  681.000000  681.000000  \n",
       "mean     679.220264   68.421439  120.104258  144.759178  \n",
       "std      472.914323   39.096525   84.828959   69.276285  \n",
       "min       -1.000000   -1.000000   20.000000   26.000000  \n",
       "25%      462.000000   45.000000   73.000000  100.000000  \n",
       "50%      624.000000   60.000000  100.000000  134.000000  \n",
       "75%      795.000000   85.000000  142.000000  173.000000  \n",
       "max    10277.000000  309.000000  944.000000  883.000000  "
      ]
     },
     "execution_count": 5,
     "metadata": {},
     "output_type": "execute_result"
    }
   ],
   "source": [
    "data.describe()"
   ]
  },
  {
   "cell_type": "code",
   "execution_count": 6,
   "metadata": {},
   "outputs": [],
   "source": [
    "# replace with nan\n",
    "data.loc[(data['S1'] < 0),'S1'] = np.nan\n",
    "data.loc[(data['T2'] == 0),'T2'] = np.nan\n",
    "data.loc[(data['T5'] < 0),'T5'] = np.nan\n",
    "\n",
    "# drop - for P values \n",
    "data.dropna(subset=['P(IPO)', 'P(H)', 'P(L)', 'P(1Day)'], inplace=True)\n",
    "\n",
    "# impute \n",
    "data['S1'] = data['S1'].fillna(data['S1'].median())\n",
    "data['T2'] = data['T2'].fillna(data['T2'].median())\n",
    "data['T5'] = data['T5'].fillna(data['T5'].median())\n",
    "data['C3_impute'] = data['C3'].fillna(data['C3'].median())\n",
    "data['C7_impute'] = data['C7'].fillna(data['C7'].median())\n",
    "\n",
    "# exclude not imputed C3 and C7\n",
    "data = data[['I1', 'I2', 'I3', 'P(IPO)', 'P(H)', 'P(L)', 'P(1Day)', 'C1', 'C2',\n",
    "       'C4', 'C5', 'C6', 'T1', 'T2', 'T3', 'T4', 'T5', 'S1', 'S2', 'S3',\n",
    "       'C3_impute', 'C7_impute']]"
   ]
  },
  {
   "cell_type": "code",
   "execution_count": 7,
   "metadata": {},
   "outputs": [
    {
     "data": {
      "text/html": [
       "<div>\n",
       "<style scoped>\n",
       "    .dataframe tbody tr th:only-of-type {\n",
       "        vertical-align: middle;\n",
       "    }\n",
       "\n",
       "    .dataframe tbody tr th {\n",
       "        vertical-align: top;\n",
       "    }\n",
       "\n",
       "    .dataframe thead th {\n",
       "        text-align: right;\n",
       "    }\n",
       "</style>\n",
       "<table border=\"1\" class=\"dataframe\">\n",
       "  <thead>\n",
       "    <tr style=\"text-align: right;\">\n",
       "      <th></th>\n",
       "      <th>I1</th>\n",
       "      <th>I2</th>\n",
       "      <th>I3</th>\n",
       "      <th>P(IPO)</th>\n",
       "      <th>P(H)</th>\n",
       "      <th>P(L)</th>\n",
       "      <th>P(1Day)</th>\n",
       "      <th>C1</th>\n",
       "      <th>C2</th>\n",
       "      <th>C4</th>\n",
       "      <th>...</th>\n",
       "      <th>T1</th>\n",
       "      <th>T2</th>\n",
       "      <th>T3</th>\n",
       "      <th>T4</th>\n",
       "      <th>T5</th>\n",
       "      <th>S1</th>\n",
       "      <th>S2</th>\n",
       "      <th>S3</th>\n",
       "      <th>C3_impute</th>\n",
       "      <th>C7_impute</th>\n",
       "    </tr>\n",
       "  </thead>\n",
       "  <tbody>\n",
       "  </tbody>\n",
       "</table>\n",
       "<p>0 rows × 22 columns</p>\n",
       "</div>"
      ],
      "text/plain": [
       "Empty DataFrame\n",
       "Columns: [I1, I2, I3, P(IPO), P(H), P(L), P(1Day), C1, C2, C4, C5, C6, T1, T2, T3, T4, T5, S1, S2, S3, C3_impute, C7_impute]\n",
       "Index: []\n",
       "\n",
       "[0 rows x 22 columns]"
      ]
     },
     "execution_count": 7,
     "metadata": {},
     "output_type": "execute_result"
    }
   ],
   "source": [
    "data[data['T5']==0]"
   ]
  },
  {
   "cell_type": "code",
   "execution_count": 8,
   "metadata": {},
   "outputs": [
    {
     "name": "stdout",
     "output_type": "stream",
     "text": [
      "<class 'pandas.core.frame.DataFrame'>\n",
      "Int64Index: 660 entries, 0 to 681\n",
      "Data columns (total 22 columns):\n",
      "I1           660 non-null object\n",
      "I2           660 non-null object\n",
      "I3           660 non-null object\n",
      "P(IPO)       660 non-null float64\n",
      "P(H)         660 non-null float64\n",
      "P(L)         660 non-null float64\n",
      "P(1Day)      660 non-null float64\n",
      "C1           660 non-null float64\n",
      "C2           660 non-null float64\n",
      "C4           660 non-null float64\n",
      "C5           660 non-null float64\n",
      "C6           660 non-null float64\n",
      "T1           660 non-null float64\n",
      "T2           660 non-null float64\n",
      "T3           660 non-null float64\n",
      "T4           660 non-null float64\n",
      "T5           660 non-null float64\n",
      "S1           660 non-null float64\n",
      "S2           660 non-null float64\n",
      "S3           660 non-null float64\n",
      "C3_impute    660 non-null float64\n",
      "C7_impute    660 non-null float64\n",
      "dtypes: float64(19), object(3)\n",
      "memory usage: 118.6+ KB\n"
     ]
    }
   ],
   "source": [
    "data.info()"
   ]
  },
  {
   "cell_type": "code",
   "execution_count": 9,
   "metadata": {},
   "outputs": [
    {
     "data": {
      "text/plain": [
       "I1           0\n",
       "I2           0\n",
       "I3           0\n",
       "P(IPO)       0\n",
       "P(H)         0\n",
       "P(L)         0\n",
       "P(1Day)      0\n",
       "C1           0\n",
       "C2           0\n",
       "C4           0\n",
       "C5           0\n",
       "C6           0\n",
       "T1           0\n",
       "T2           0\n",
       "T3           0\n",
       "T4           0\n",
       "T5           0\n",
       "S1           0\n",
       "S2           0\n",
       "S3           0\n",
       "C3_impute    0\n",
       "C7_impute    0\n",
       "dtype: int64"
      ]
     },
     "execution_count": 9,
     "metadata": {},
     "output_type": "execute_result"
    }
   ],
   "source": [
    "data.isnull().sum()"
   ]
  },
  {
   "cell_type": "code",
   "execution_count": 10,
   "metadata": {},
   "outputs": [
    {
     "data": {
      "text/html": [
       "<div>\n",
       "<style scoped>\n",
       "    .dataframe tbody tr th:only-of-type {\n",
       "        vertical-align: middle;\n",
       "    }\n",
       "\n",
       "    .dataframe tbody tr th {\n",
       "        vertical-align: top;\n",
       "    }\n",
       "\n",
       "    .dataframe thead th {\n",
       "        text-align: right;\n",
       "    }\n",
       "</style>\n",
       "<table border=\"1\" class=\"dataframe\">\n",
       "  <thead>\n",
       "    <tr style=\"text-align: right;\">\n",
       "      <th></th>\n",
       "      <th>I1</th>\n",
       "      <th>I2</th>\n",
       "      <th>I3</th>\n",
       "      <th>P(IPO)</th>\n",
       "      <th>P(H)</th>\n",
       "      <th>P(L)</th>\n",
       "      <th>P(1Day)</th>\n",
       "      <th>C1</th>\n",
       "      <th>C2</th>\n",
       "      <th>C4</th>\n",
       "      <th>...</th>\n",
       "      <th>T1</th>\n",
       "      <th>T2</th>\n",
       "      <th>T3</th>\n",
       "      <th>T4</th>\n",
       "      <th>T5</th>\n",
       "      <th>S1</th>\n",
       "      <th>S2</th>\n",
       "      <th>S3</th>\n",
       "      <th>C3_impute</th>\n",
       "      <th>C7_impute</th>\n",
       "    </tr>\n",
       "  </thead>\n",
       "  <tbody>\n",
       "  </tbody>\n",
       "</table>\n",
       "<p>0 rows × 22 columns</p>\n",
       "</div>"
      ],
      "text/plain": [
       "Empty DataFrame\n",
       "Columns: [I1, I2, I3, P(IPO), P(H), P(L), P(1Day), C1, C2, C4, C5, C6, T1, T2, T3, T4, T5, S1, S2, S3, C3_impute, C7_impute]\n",
       "Index: []\n",
       "\n",
       "[0 rows x 22 columns]"
      ]
     },
     "execution_count": 10,
     "metadata": {},
     "output_type": "execute_result"
    }
   ],
   "source": [
    "data[data['P(1Day)']<0]"
   ]
  },
  {
   "cell_type": "markdown",
   "metadata": {},
   "source": [
    "## ERROR WITH C3`"
   ]
  },
  {
   "cell_type": "code",
   "execution_count": 11,
   "metadata": {},
   "outputs": [],
   "source": [
    "# C2 to int (booleon)\n",
    "data['C2'] = data['C2'].astype(int)\n",
    "\n",
    "# P(mid) calculation and add it to the column \n",
    "# P(mid) = (P(H)+P(L))/2\n",
    "data['P(mid)'] = (data['P(H)'] + data['P(L)'])/2\n",
    "\n",
    "# targets to be calculated\n",
    "# make it equal to P(IPO) then we will just replace\n",
    "#data['Y1'] = data['P(IPO)']\n",
    "#data['Y2'] = data['P(IPO)']\n",
    "\n",
    "# replace Y1 and change dtype to binary\n",
    "data['Y1'] = np.where((data['P(IPO)'] < data['P(mid)']), 1, 0)\n",
    "data['Y2'] = np.where((data['P(IPO)'] > data['P(mid)']), 1, 0)\n",
    "#data.loc[(data['Y1'] < data['P(mid)']),'Y1'] = 1\n",
    "#data.loc[(data['Y1'] > data['P(mid)']),'Y1'] = 0\n",
    "#data['Y1'] = data['Y1'].astype(int)\n",
    "\n",
    "# replace Y2\n",
    "#data.loc[(data['Y2'] < data['P(1Day)']),'Y2'] = 1\n",
    "#data.loc[(data['Y2'] > data['P(1Day)']),'Y2'] = 0\n",
    "#data['Y2'] = data['Y2'].astype(int)\n",
    "\n",
    "# Control values to be calculated\n",
    "#data['C3`'] = data['C3_impute']\n",
    "#df['Event'] = np.where((df.Event == 'Painting'),'Art',df.Event)\n",
    "#data['C3`'] = np.where((data['C3_impute'] > 0),1,data['C3_impute'])\n",
    "#data['C3`'] = np.where((data['C3_impute'] < 0),0,data['C3_impute'])\n",
    "#data['C3`'] = np.where((data['C3_impute'] == 0),1,data['C3_impute'])\n",
    "#data['C3`'] = data['C3_impute']\n",
    "def c3_prime(c3_impute):\n",
    "    if c3_impute > 0:\n",
    "        return (1)\n",
    "    else:\n",
    "        return (0)\n",
    "    \n",
    "data['C3`'] = data['C3_impute'].apply(c3_prime)\n",
    "data['C3`'] = data['C3`'].astype(int)\n",
    "\n",
    "# C5`\n",
    "data['C5`'] = data['C5']/data['C6']\n",
    "data['C5`'] = data['C5`'].astype(float)\n",
    "\n",
    "# C6`\n",
    "data['C6calc'] = ((data['P(IPO)'] - data['P(mid)']) / data['P(mid)']) * 1\n",
    "data['C6`'] = 0\n",
    "data['C6`'] = np.where((data['P(IPO)'] > data['P(mid)']),data['C6calc'],data['C6`'])\n",
    "data['C6`'] = np.where((data['P(IPO)'] < data['P(mid)']),0,data['C6`'])\n",
    "data['C6`'] = np.where((data['P(mid)']==0),0,data['C6`'])\n",
    "data['C6`'] = data['C6`'].astype(float)"
   ]
  },
  {
   "cell_type": "code",
   "execution_count": 12,
   "metadata": {},
   "outputs": [
    {
     "data": {
      "text/plain": [
       "0    345\n",
       "1    315\n",
       "Name: C3`, dtype: int64"
      ]
     },
     "execution_count": 12,
     "metadata": {},
     "output_type": "execute_result"
    }
   ],
   "source": [
    "data['C3`'].value_counts()"
   ]
  },
  {
   "cell_type": "code",
   "execution_count": 13,
   "metadata": {},
   "outputs": [],
   "source": [
    "# replace T3, and T4\n",
    "data.loc[(data['T3'] == 0),'T3'] = np.nan\n",
    "data.loc[(data['T4'] == 0),'T4'] = np.nan\n",
    "\n",
    "# fillna\n",
    "data['T3'] = data['T3'].fillna(data['T3'].median())\n",
    "data['T4'] = data['T4'].fillna(data['T4'].median())"
   ]
  },
  {
   "cell_type": "code",
   "execution_count": 14,
   "metadata": {},
   "outputs": [],
   "source": [
    "#data.loc[data['T4'] == '-'] \n",
    "#data.drop(217,inplace=True)\n",
    "#percent of long sentences\n",
    "data[\"T1prime\"] = data[\"T4\"].astype(float)/data[\"T1\"].astype(float)\n",
    "# T2\n",
    "data['T2prime'] = data['T5'].astype(float)/data['T2'].astype(float)\n",
    "#percent of real words\n",
    "data[\"T3prime\"] = data[\"T3\"].astype(float)/data[\"T2\"].astype(float)\n",
    "#percent of long sentences\n",
    "data[\"T4prime\"] = data[\"T1\"].astype(float)/data[\"T4\"].astype(float)\n",
    "# percent of long words \n",
    "data[\"T5prime\"] = data[\"T5\"].astype(float)/data[\"T2\"].astype(float)\n",
    "#percent of positive words\n",
    "data[\"S1prime\"] = data[\"S1\"].astype(float)/data[\"T2\"].astype(float)\n",
    "#percent of negative words\n",
    "data[\"S2prime\"] = data[\"S2\"].astype(float)/data[\"T2\"].astype(float)\n",
    "#percent of uncertain words\n",
    "data[\"S3prime\"] = data[\"S3\"].astype(float)/data[\"T2\"].astype(float)"
   ]
  },
  {
   "cell_type": "code",
   "execution_count": 15,
   "metadata": {},
   "outputs": [
    {
     "name": "stdout",
     "output_type": "stream",
     "text": [
      "<class 'pandas.core.frame.DataFrame'>\n",
      "Int64Index: 660 entries, 0 to 681\n",
      "Data columns (total 37 columns):\n",
      "I1           660 non-null object\n",
      "I2           660 non-null object\n",
      "I3           660 non-null object\n",
      "P(IPO)       660 non-null float64\n",
      "P(H)         660 non-null float64\n",
      "P(L)         660 non-null float64\n",
      "P(1Day)      660 non-null float64\n",
      "C1           660 non-null float64\n",
      "C2           660 non-null int64\n",
      "C4           660 non-null float64\n",
      "C5           660 non-null float64\n",
      "C6           660 non-null float64\n",
      "T1           660 non-null float64\n",
      "T2           660 non-null float64\n",
      "T3           660 non-null float64\n",
      "T4           660 non-null float64\n",
      "T5           660 non-null float64\n",
      "S1           660 non-null float64\n",
      "S2           660 non-null float64\n",
      "S3           660 non-null float64\n",
      "C3_impute    660 non-null float64\n",
      "C7_impute    660 non-null float64\n",
      "P(mid)       660 non-null float64\n",
      "Y1           660 non-null int64\n",
      "Y2           660 non-null int64\n",
      "C3`          660 non-null int64\n",
      "C5`          660 non-null float64\n",
      "C6calc       660 non-null float64\n",
      "C6`          660 non-null float64\n",
      "T1prime      660 non-null float64\n",
      "T2prime      660 non-null float64\n",
      "T3prime      660 non-null float64\n",
      "T4prime      660 non-null float64\n",
      "T5prime      660 non-null float64\n",
      "S1prime      660 non-null float64\n",
      "S2prime      660 non-null float64\n",
      "S3prime      660 non-null float64\n",
      "dtypes: float64(30), int64(4), object(3)\n",
      "memory usage: 195.9+ KB\n"
     ]
    }
   ],
   "source": [
    "data.info()"
   ]
  },
  {
   "cell_type": "code",
   "execution_count": 16,
   "metadata": {},
   "outputs": [],
   "source": [
    "# exclude C6Calc, C6' and put Y1, Y2 at the end\n",
    "# only include continous \n",
    "data_copy = data.copy()\n",
    "data1 = data_copy[['C1', 'C4',\n",
    "       'C5', 'C6', 'C3_impute',\n",
    "       'C7_impute', 'C5`',\n",
    "       'T1prime', 'T2prime','T3prime', 'T4prime', 'T5prime', 'S1prime',\n",
    "       'S2prime', 'S3prime','Y1', 'Y2']]"
   ]
  },
  {
   "cell_type": "code",
   "execution_count": 17,
   "metadata": {},
   "outputs": [],
   "source": [
    "# make a csv file\n",
    "data1.to_csv('omg2.csv')"
   ]
  },
  {
   "cell_type": "markdown",
   "metadata": {},
   "source": [
    "# Descriptive"
   ]
  },
  {
   "cell_type": "markdown",
   "metadata": {},
   "source": [
    "REPORT IT with interpretation "
   ]
  },
  {
   "cell_type": "code",
   "execution_count": 18,
   "metadata": {},
   "outputs": [
    {
     "data": {
      "text/html": [
       "<div>\n",
       "<style scoped>\n",
       "    .dataframe tbody tr th:only-of-type {\n",
       "        vertical-align: middle;\n",
       "    }\n",
       "\n",
       "    .dataframe tbody tr th {\n",
       "        vertical-align: top;\n",
       "    }\n",
       "\n",
       "    .dataframe thead th {\n",
       "        text-align: right;\n",
       "    }\n",
       "</style>\n",
       "<table border=\"1\" class=\"dataframe\">\n",
       "  <thead>\n",
       "    <tr style=\"text-align: right;\">\n",
       "      <th></th>\n",
       "      <th>C1</th>\n",
       "      <th>C4</th>\n",
       "      <th>C5</th>\n",
       "      <th>C6</th>\n",
       "      <th>C3_impute</th>\n",
       "      <th>C7_impute</th>\n",
       "      <th>C5`</th>\n",
       "      <th>T1prime</th>\n",
       "      <th>T2prime</th>\n",
       "      <th>T3prime</th>\n",
       "      <th>T4prime</th>\n",
       "      <th>T5prime</th>\n",
       "      <th>S1prime</th>\n",
       "      <th>S2prime</th>\n",
       "      <th>S3prime</th>\n",
       "      <th>Y1</th>\n",
       "      <th>Y2</th>\n",
       "    </tr>\n",
       "  </thead>\n",
       "  <tbody>\n",
       "    <tr>\n",
       "      <th>count</th>\n",
       "      <td>660.000000</td>\n",
       "      <td>660.000000</td>\n",
       "      <td>6.600000e+02</td>\n",
       "      <td>6.600000e+02</td>\n",
       "      <td>660.000000</td>\n",
       "      <td>660.000000</td>\n",
       "      <td>660.000000</td>\n",
       "      <td>660.000000</td>\n",
       "      <td>660.000000</td>\n",
       "      <td>660.000000</td>\n",
       "      <td>660.000000</td>\n",
       "      <td>660.000000</td>\n",
       "      <td>660.000000</td>\n",
       "      <td>660.000000</td>\n",
       "      <td>660.000000</td>\n",
       "      <td>660.000000</td>\n",
       "      <td>660.000000</td>\n",
       "    </tr>\n",
       "    <tr>\n",
       "      <th>mean</th>\n",
       "      <td>149.728788</td>\n",
       "      <td>0.007282</td>\n",
       "      <td>4.996285e+07</td>\n",
       "      <td>1.258248e+07</td>\n",
       "      <td>0.066724</td>\n",
       "      <td>470.631368</td>\n",
       "      <td>4.417255</td>\n",
       "      <td>0.628496</td>\n",
       "      <td>0.052271</td>\n",
       "      <td>0.895157</td>\n",
       "      <td>1.611520</td>\n",
       "      <td>0.052271</td>\n",
       "      <td>0.005318</td>\n",
       "      <td>0.009059</td>\n",
       "      <td>0.011519</td>\n",
       "      <td>0.500000</td>\n",
       "      <td>0.383333</td>\n",
       "    </tr>\n",
       "    <tr>\n",
       "      <th>std</th>\n",
       "      <td>152.817467</td>\n",
       "      <td>0.033318</td>\n",
       "      <td>1.055377e+08</td>\n",
       "      <td>2.539940e+07</td>\n",
       "      <td>158.390378</td>\n",
       "      <td>1587.801852</td>\n",
       "      <td>5.133537</td>\n",
       "      <td>0.069606</td>\n",
       "      <td>0.007144</td>\n",
       "      <td>0.044090</td>\n",
       "      <td>0.187237</td>\n",
       "      <td>0.007144</td>\n",
       "      <td>0.001744</td>\n",
       "      <td>0.003000</td>\n",
       "      <td>0.002851</td>\n",
       "      <td>0.500379</td>\n",
       "      <td>0.486567</td>\n",
       "    </tr>\n",
       "    <tr>\n",
       "      <th>min</th>\n",
       "      <td>10.000000</td>\n",
       "      <td>-0.162352</td>\n",
       "      <td>3.693227e+06</td>\n",
       "      <td>8.000000e+05</td>\n",
       "      <td>-786.239000</td>\n",
       "      <td>0.074000</td>\n",
       "      <td>0.283223</td>\n",
       "      <td>0.395480</td>\n",
       "      <td>0.031595</td>\n",
       "      <td>0.669838</td>\n",
       "      <td>1.210145</td>\n",
       "      <td>0.031595</td>\n",
       "      <td>0.001602</td>\n",
       "      <td>0.002152</td>\n",
       "      <td>0.005326</td>\n",
       "      <td>0.000000</td>\n",
       "      <td>0.000000</td>\n",
       "    </tr>\n",
       "    <tr>\n",
       "      <th>25%</th>\n",
       "      <td>85.000000</td>\n",
       "      <td>-0.013927</td>\n",
       "      <td>1.877568e+07</td>\n",
       "      <td>5.124546e+06</td>\n",
       "      <td>-0.795000</td>\n",
       "      <td>41.458000</td>\n",
       "      <td>2.850622</td>\n",
       "      <td>0.580706</td>\n",
       "      <td>0.047562</td>\n",
       "      <td>0.883417</td>\n",
       "      <td>1.482666</td>\n",
       "      <td>0.047562</td>\n",
       "      <td>0.004134</td>\n",
       "      <td>0.006966</td>\n",
       "      <td>0.009579</td>\n",
       "      <td>0.000000</td>\n",
       "      <td>0.000000</td>\n",
       "    </tr>\n",
       "    <tr>\n",
       "      <th>50%</th>\n",
       "      <td>107.000000</td>\n",
       "      <td>0.009125</td>\n",
       "      <td>2.745438e+07</td>\n",
       "      <td>7.500000e+06</td>\n",
       "      <td>0.000000</td>\n",
       "      <td>107.462000</td>\n",
       "      <td>3.731035</td>\n",
       "      <td>0.628861</td>\n",
       "      <td>0.051943</td>\n",
       "      <td>0.897294</td>\n",
       "      <td>1.590177</td>\n",
       "      <td>0.051943</td>\n",
       "      <td>0.005041</td>\n",
       "      <td>0.008577</td>\n",
       "      <td>0.011301</td>\n",
       "      <td>0.500000</td>\n",
       "      <td>0.000000</td>\n",
       "    </tr>\n",
       "    <tr>\n",
       "      <th>75%</th>\n",
       "      <td>155.250000</td>\n",
       "      <td>0.031571</td>\n",
       "      <td>5.003986e+07</td>\n",
       "      <td>1.200000e+07</td>\n",
       "      <td>0.402500</td>\n",
       "      <td>300.764000</td>\n",
       "      <td>4.857904</td>\n",
       "      <td>0.674461</td>\n",
       "      <td>0.056489</td>\n",
       "      <td>0.909693</td>\n",
       "      <td>1.722041</td>\n",
       "      <td>0.056489</td>\n",
       "      <td>0.006256</td>\n",
       "      <td>0.010521</td>\n",
       "      <td>0.012848</td>\n",
       "      <td>1.000000</td>\n",
       "      <td>1.000000</td>\n",
       "    </tr>\n",
       "    <tr>\n",
       "      <th>max</th>\n",
       "      <td>2087.000000</td>\n",
       "      <td>0.092896</td>\n",
       "      <td>2.138085e+09</td>\n",
       "      <td>4.212336e+08</td>\n",
       "      <td>3864.500000</td>\n",
       "      <td>30683.000000</td>\n",
       "      <td>99.787255</td>\n",
       "      <td>0.826347</td>\n",
       "      <td>0.093585</td>\n",
       "      <td>1.579238</td>\n",
       "      <td>2.528571</td>\n",
       "      <td>0.093585</td>\n",
       "      <td>0.012839</td>\n",
       "      <td>0.024605</td>\n",
       "      <td>0.029397</td>\n",
       "      <td>1.000000</td>\n",
       "      <td>1.000000</td>\n",
       "    </tr>\n",
       "  </tbody>\n",
       "</table>\n",
       "</div>"
      ],
      "text/plain": [
       "                C1          C4            C5            C6    C3_impute  \\\n",
       "count   660.000000  660.000000  6.600000e+02  6.600000e+02   660.000000   \n",
       "mean    149.728788    0.007282  4.996285e+07  1.258248e+07     0.066724   \n",
       "std     152.817467    0.033318  1.055377e+08  2.539940e+07   158.390378   \n",
       "min      10.000000   -0.162352  3.693227e+06  8.000000e+05  -786.239000   \n",
       "25%      85.000000   -0.013927  1.877568e+07  5.124546e+06    -0.795000   \n",
       "50%     107.000000    0.009125  2.745438e+07  7.500000e+06     0.000000   \n",
       "75%     155.250000    0.031571  5.003986e+07  1.200000e+07     0.402500   \n",
       "max    2087.000000    0.092896  2.138085e+09  4.212336e+08  3864.500000   \n",
       "\n",
       "          C7_impute         C5`     T1prime     T2prime     T3prime  \\\n",
       "count    660.000000  660.000000  660.000000  660.000000  660.000000   \n",
       "mean     470.631368    4.417255    0.628496    0.052271    0.895157   \n",
       "std     1587.801852    5.133537    0.069606    0.007144    0.044090   \n",
       "min        0.074000    0.283223    0.395480    0.031595    0.669838   \n",
       "25%       41.458000    2.850622    0.580706    0.047562    0.883417   \n",
       "50%      107.462000    3.731035    0.628861    0.051943    0.897294   \n",
       "75%      300.764000    4.857904    0.674461    0.056489    0.909693   \n",
       "max    30683.000000   99.787255    0.826347    0.093585    1.579238   \n",
       "\n",
       "          T4prime     T5prime     S1prime     S2prime     S3prime          Y1  \\\n",
       "count  660.000000  660.000000  660.000000  660.000000  660.000000  660.000000   \n",
       "mean     1.611520    0.052271    0.005318    0.009059    0.011519    0.500000   \n",
       "std      0.187237    0.007144    0.001744    0.003000    0.002851    0.500379   \n",
       "min      1.210145    0.031595    0.001602    0.002152    0.005326    0.000000   \n",
       "25%      1.482666    0.047562    0.004134    0.006966    0.009579    0.000000   \n",
       "50%      1.590177    0.051943    0.005041    0.008577    0.011301    0.500000   \n",
       "75%      1.722041    0.056489    0.006256    0.010521    0.012848    1.000000   \n",
       "max      2.528571    0.093585    0.012839    0.024605    0.029397    1.000000   \n",
       "\n",
       "               Y2  \n",
       "count  660.000000  \n",
       "mean     0.383333  \n",
       "std      0.486567  \n",
       "min      0.000000  \n",
       "25%      0.000000  \n",
       "50%      0.000000  \n",
       "75%      1.000000  \n",
       "max      1.000000  "
      ]
     },
     "execution_count": 18,
     "metadata": {},
     "output_type": "execute_result"
    }
   ],
   "source": [
    "data1.describe()"
   ]
  },
  {
   "cell_type": "code",
   "execution_count": 19,
   "metadata": {},
   "outputs": [
    {
     "name": "stdout",
     "output_type": "stream",
     "text": [
      "<class 'pandas.core.frame.DataFrame'>\n",
      "Int64Index: 660 entries, 0 to 681\n",
      "Data columns (total 17 columns):\n",
      "C1           660 non-null float64\n",
      "C4           660 non-null float64\n",
      "C5           660 non-null float64\n",
      "C6           660 non-null float64\n",
      "C3_impute    660 non-null float64\n",
      "C7_impute    660 non-null float64\n",
      "C5`          660 non-null float64\n",
      "T1prime      660 non-null float64\n",
      "T2prime      660 non-null float64\n",
      "T3prime      660 non-null float64\n",
      "T4prime      660 non-null float64\n",
      "T5prime      660 non-null float64\n",
      "S1prime      660 non-null float64\n",
      "S2prime      660 non-null float64\n",
      "S3prime      660 non-null float64\n",
      "Y1           660 non-null int64\n",
      "Y2           660 non-null int64\n",
      "dtypes: float64(15), int64(2)\n",
      "memory usage: 92.8 KB\n"
     ]
    }
   ],
   "source": [
    "data1.info()"
   ]
  },
  {
   "cell_type": "code",
   "execution_count": null,
   "metadata": {},
   "outputs": [],
   "source": []
  },
  {
   "cell_type": "markdown",
   "metadata": {},
   "source": [
    "# Normality test"
   ]
  },
  {
   "cell_type": "code",
   "execution_count": 20,
   "metadata": {},
   "outputs": [],
   "source": [
    "# categorical no standardization, normalization\n",
    "# if skew is between -0.5 and 0.5 it will be consider normalized "
   ]
  },
  {
   "cell_type": "code",
   "execution_count": 21,
   "metadata": {},
   "outputs": [
    {
     "data": {
      "text/plain": [
       "array([[<matplotlib.axes._subplots.AxesSubplot object at 0x7f511dd76be0>,\n",
       "        <matplotlib.axes._subplots.AxesSubplot object at 0x7f511bc8cef0>,\n",
       "        <matplotlib.axes._subplots.AxesSubplot object at 0x7f511bc3d358>],\n",
       "       [<matplotlib.axes._subplots.AxesSubplot object at 0x7f511bc629e8>,\n",
       "        <matplotlib.axes._subplots.AxesSubplot object at 0x7f511bc120b8>,\n",
       "        <matplotlib.axes._subplots.AxesSubplot object at 0x7f511bc120f0>],\n",
       "       [<matplotlib.axes._subplots.AxesSubplot object at 0x7f511bbdddd8>,\n",
       "        <matplotlib.axes._subplots.AxesSubplot object at 0x7f511bb8d4a8>,\n",
       "        <matplotlib.axes._subplots.AxesSubplot object at 0x7f511bbb1b38>]],\n",
       "      dtype=object)"
      ]
     },
     "execution_count": 21,
     "metadata": {},
     "output_type": "execute_result"
    }
   ],
   "source": [
    "pd.plotting.scatter_matrix(data1[['S1prime', 'S2prime', 'S3prime']], figsize=(14,14), hist_kwds={'bins':8}, alpha=.5, marker='o', s=50)"
   ]
  },
  {
   "cell_type": "code",
   "execution_count": 22,
   "metadata": {},
   "outputs": [
    {
     "name": "stdout",
     "output_type": "stream",
     "text": [
      "S1prime:  0.9358231221598661\n",
      "S2prime:  1.2066602274774798\n",
      "S3prime:  1.395926086688986\n"
     ]
    }
   ],
   "source": [
    "print('S1prime: ',data1['S1prime'].skew())\n",
    "print('S2prime: ',data1['S2prime'].skew())\n",
    "print('S3prime: ',data1['S3prime'].skew())"
   ]
  },
  {
   "cell_type": "code",
   "execution_count": 23,
   "metadata": {},
   "outputs": [
    {
     "name": "stdout",
     "output_type": "stream",
     "text": [
      "Statistics=0.954, p=0.000\n",
      "Sample does not look Gaussian (reject H0)\n"
     ]
    }
   ],
   "source": [
    "# alternative use Shapiro but its too strict\n",
    "# only for the continous \n",
    "# another skewness test --> request skewness from pandas \n",
    "# and look at the histograms \n",
    "from scipy.stats import shapiro\n",
    "stat, p = shapiro(data['S1prime'])\n",
    "print('Statistics=%.3f, p=%.3f' % (stat, p))\n",
    "\n",
    "# interpret\n",
    "alpha = 0.05\n",
    "if p > alpha:\n",
    "    print('Sample looks Gaussian (fail to reject H0)')\n",
    "else:\n",
    "    print('Sample does not look Gaussian (reject H0)')"
   ]
  },
  {
   "cell_type": "code",
   "execution_count": 24,
   "metadata": {},
   "outputs": [
    {
     "name": "stderr",
     "output_type": "stream",
     "text": [
      "/opt/tljh/user/lib/python3.6/site-packages/ipykernel_launcher.py:1: SettingWithCopyWarning: \n",
      "A value is trying to be set on a copy of a slice from a DataFrame.\n",
      "Try using .loc[row_indexer,col_indexer] = value instead\n",
      "\n",
      "See the caveats in the documentation: http://pandas.pydata.org/pandas-docs/stable/user_guide/indexing.html#returning-a-view-versus-a-copy\n",
      "  \"\"\"Entry point for launching an IPython kernel.\n",
      "/opt/tljh/user/lib/python3.6/site-packages/ipykernel_launcher.py:2: SettingWithCopyWarning: \n",
      "A value is trying to be set on a copy of a slice from a DataFrame.\n",
      "Try using .loc[row_indexer,col_indexer] = value instead\n",
      "\n",
      "See the caveats in the documentation: http://pandas.pydata.org/pandas-docs/stable/user_guide/indexing.html#returning-a-view-versus-a-copy\n",
      "  \n",
      "/opt/tljh/user/lib/python3.6/site-packages/ipykernel_launcher.py:3: SettingWithCopyWarning: \n",
      "A value is trying to be set on a copy of a slice from a DataFrame.\n",
      "Try using .loc[row_indexer,col_indexer] = value instead\n",
      "\n",
      "See the caveats in the documentation: http://pandas.pydata.org/pandas-docs/stable/user_guide/indexing.html#returning-a-view-versus-a-copy\n",
      "  This is separate from the ipykernel package so we can avoid doing imports until\n"
     ]
    }
   ],
   "source": [
    "data1['S1prime_norm']=np.log((data1['S1prime']))\n",
    "data1['S2prime_norm']=np.log((data1['S2prime']))\n",
    "data1['S3prime_norm'] = np.log(data1['S3prime'])"
   ]
  },
  {
   "cell_type": "code",
   "execution_count": 25,
   "metadata": {},
   "outputs": [
    {
     "data": {
      "text/plain": [
       "<matplotlib.axes._subplots.AxesSubplot at 0x7f51195c6390>"
      ]
     },
     "execution_count": 25,
     "metadata": {},
     "output_type": "execute_result"
    },
    {
     "data": {
      "image/png": "[encoded data removed]",
      "text/plain": [
       "<Figure size 432x288 with 1 Axes>"
      ]
     },
     "metadata": {
      "needs_background": "light"
     },
     "output_type": "display_data"
    }
   ],
   "source": [
    "data1['S1prime_norm'].hist()\n",
    "data1['S2prime_norm'].hist()\n",
    "data1['S3prime_norm'].hist()"
   ]
  },
  {
   "cell_type": "code",
   "execution_count": 26,
   "metadata": {},
   "outputs": [
    {
     "name": "stdout",
     "output_type": "stream",
     "text": [
      "S1prime normalized:  -0.12556376950788897\n",
      "S2prime normalized:  0.08438832634954983\n",
      "S3prime normalized:  0.2235856617352291\n"
     ]
    }
   ],
   "source": [
    "print('S1prime normalized: ' , data1['S1prime_norm'].skew())\n",
    "print('S2prime normalized: ' , data1['S2prime_norm'].skew())\n",
    "print('S3prime normalized: ' , data1['S3prime_norm'].skew())"
   ]
  },
  {
   "cell_type": "code",
   "execution_count": 27,
   "metadata": {},
   "outputs": [],
   "source": [
    "# outliers --> IQR and 3st dev method \n",
    "# we standardize all but Y's right? \n",
    "# binning? \n",
    "# select only continous variables to put into evaluation code"
   ]
  },
  {
   "cell_type": "code",
   "execution_count": 28,
   "metadata": {},
   "outputs": [
    {
     "data": {
      "text/plain": [
       "array([[<matplotlib.axes._subplots.AxesSubplot object at 0x7f5119517a20>,\n",
       "        <matplotlib.axes._subplots.AxesSubplot object at 0x7f51194c4470>,\n",
       "        <matplotlib.axes._subplots.AxesSubplot object at 0x7f51194ebb00>,\n",
       "        <matplotlib.axes._subplots.AxesSubplot object at 0x7f511949e1d0>,\n",
       "        <matplotlib.axes._subplots.AxesSubplot object at 0x7f5119445860>,\n",
       "        <matplotlib.axes._subplots.AxesSubplot object at 0x7f5119445898>,\n",
       "        <matplotlib.axes._subplots.AxesSubplot object at 0x7f51194215c0>],\n",
       "       [<matplotlib.axes._subplots.AxesSubplot object at 0x7f51193c8c50>,\n",
       "        <matplotlib.axes._subplots.AxesSubplot object at 0x7f51193fa320>,\n",
       "        <matplotlib.axes._subplots.AxesSubplot object at 0x7f51193a09b0>,\n",
       "        <matplotlib.axes._subplots.AxesSubplot object at 0x7f5119355080>,\n",
       "        <matplotlib.axes._subplots.AxesSubplot object at 0x7f511937c710>,\n",
       "        <matplotlib.axes._subplots.AxesSubplot object at 0x7f5119324da0>,\n",
       "        <matplotlib.axes._subplots.AxesSubplot object at 0x7f51192d7470>],\n",
       "       [<matplotlib.axes._subplots.AxesSubplot object at 0x7f51192fdb00>,\n",
       "        <matplotlib.axes._subplots.AxesSubplot object at 0x7f51192af1d0>,\n",
       "        <matplotlib.axes._subplots.AxesSubplot object at 0x7f5119258860>,\n",
       "        <matplotlib.axes._subplots.AxesSubplot object at 0x7f5119200ef0>,\n",
       "        <matplotlib.axes._subplots.AxesSubplot object at 0x7f51192325c0>,\n",
       "        <matplotlib.axes._subplots.AxesSubplot object at 0x7f51191dcc50>,\n",
       "        <matplotlib.axes._subplots.AxesSubplot object at 0x7f511918b320>],\n",
       "       [<matplotlib.axes._subplots.AxesSubplot object at 0x7f51191b29b0>,\n",
       "        <matplotlib.axes._subplots.AxesSubplot object at 0x7f5119167080>,\n",
       "        <matplotlib.axes._subplots.AxesSubplot object at 0x7f511910e710>,\n",
       "        <matplotlib.axes._subplots.AxesSubplot object at 0x7f5119135da0>,\n",
       "        <matplotlib.axes._subplots.AxesSubplot object at 0x7f51190e7470>,\n",
       "        <matplotlib.axes._subplots.AxesSubplot object at 0x7f5119091b00>,\n",
       "        <matplotlib.axes._subplots.AxesSubplot object at 0x7f51190431d0>],\n",
       "       [<matplotlib.axes._subplots.AxesSubplot object at 0x7f5119069860>,\n",
       "        <matplotlib.axes._subplots.AxesSubplot object at 0x7f5119015ef0>,\n",
       "        <matplotlib.axes._subplots.AxesSubplot object at 0x7f5118fc55c0>,\n",
       "        <matplotlib.axes._subplots.AxesSubplot object at 0x7f5118febc50>,\n",
       "        <matplotlib.axes._subplots.AxesSubplot object at 0x7f5118f9f320>,\n",
       "        <matplotlib.axes._subplots.AxesSubplot object at 0x7f5118f469b0>,\n",
       "        <matplotlib.axes._subplots.AxesSubplot object at 0x7f5118f78080>],\n",
       "       [<matplotlib.axes._subplots.AxesSubplot object at 0x7f5118f1f710>,\n",
       "        <matplotlib.axes._subplots.AxesSubplot object at 0x7f5118ec8da0>,\n",
       "        <matplotlib.axes._subplots.AxesSubplot object at 0x7f5118efa470>,\n",
       "        <matplotlib.axes._subplots.AxesSubplot object at 0x7f5118ea1b00>,\n",
       "        <matplotlib.axes._subplots.AxesSubplot object at 0x7f5118e551d0>,\n",
       "        <matplotlib.axes._subplots.AxesSubplot object at 0x7f5118e7b860>,\n",
       "        <matplotlib.axes._subplots.AxesSubplot object at 0x7f5118e25ef0>],\n",
       "       [<matplotlib.axes._subplots.AxesSubplot object at 0x7f5118dd65c0>,\n",
       "        <matplotlib.axes._subplots.AxesSubplot object at 0x7f5118dfec50>,\n",
       "        <matplotlib.axes._subplots.AxesSubplot object at 0x7f5118db1320>,\n",
       "        <matplotlib.axes._subplots.AxesSubplot object at 0x7f5118d599b0>,\n",
       "        <matplotlib.axes._subplots.AxesSubplot object at 0x7f5118d09080>,\n",
       "        <matplotlib.axes._subplots.AxesSubplot object at 0x7f5118d32710>,\n",
       "        <matplotlib.axes._subplots.AxesSubplot object at 0x7f5118cd9da0>]],\n",
       "      dtype=object)"
      ]
     },
     "execution_count": 28,
     "metadata": {},
     "output_type": "execute_result"
    },
    {
     "data": {
      "image/png": "[encoded data removed]",
      "text/plain": [
       "<Figure size 1008x1008 with 49 Axes>"
      ]
     },
     "metadata": {
      "needs_background": "light"
     },
     "output_type": "display_data"
    }
   ],
   "source": [
    "pd.plotting.scatter_matrix(data1[['C1', 'C4',\n",
    "       'C5', 'C6', 'C3_impute',\n",
    "       'C7_impute', 'C5`']], figsize=(14,14), hist_kwds={'bins':8}, alpha=.5, marker='o', s=50)"
   ]
  },
  {
   "cell_type": "code",
   "execution_count": 29,
   "metadata": {},
   "outputs": [
    {
     "name": "stdout",
     "output_type": "stream",
     "text": [
      "C1:  5.649484948760403\n",
      "C3_impute:  21.727253451311732\n",
      "C4:  -0.4778924619388421\n",
      "C5:  13.461311505350828\n",
      "C6:  12.439170657119098\n",
      "C7_impute:  12.163784427357575\n",
      "C5prime:  13.405535814317505\n"
     ]
    }
   ],
   "source": [
    "# test\n",
    "print('C1: ',data1['C1'].skew())\n",
    "print('C3_impute: ',data1['C3_impute'].skew())\n",
    "print('C4: ',data1['C4'].skew())\n",
    "print('C5: ',data1['C5'].skew())\n",
    "print('C6: ',data1['C6'].skew())\n",
    "print('C7_impute: ',data1['C7_impute'].skew())\n",
    "print('C5prime: ',data1['C5`'].skew())\n",
    "#print('C6prime: ',data1['C6`'].skew())"
   ]
  },
  {
   "cell_type": "code",
   "execution_count": 30,
   "metadata": {},
   "outputs": [
    {
     "name": "stderr",
     "output_type": "stream",
     "text": [
      "/opt/tljh/user/lib/python3.6/site-packages/ipykernel_launcher.py:1: SettingWithCopyWarning: \n",
      "A value is trying to be set on a copy of a slice from a DataFrame.\n",
      "Try using .loc[row_indexer,col_indexer] = value instead\n",
      "\n",
      "See the caveats in the documentation: http://pandas.pydata.org/pandas-docs/stable/user_guide/indexing.html#returning-a-view-versus-a-copy\n",
      "  \"\"\"Entry point for launching an IPython kernel.\n",
      "/opt/tljh/user/lib/python3.6/site-packages/ipykernel_launcher.py:2: SettingWithCopyWarning: \n",
      "A value is trying to be set on a copy of a slice from a DataFrame.\n",
      "Try using .loc[row_indexer,col_indexer] = value instead\n",
      "\n",
      "See the caveats in the documentation: http://pandas.pydata.org/pandas-docs/stable/user_guide/indexing.html#returning-a-view-versus-a-copy\n",
      "  \n",
      "/opt/tljh/user/lib/python3.6/site-packages/ipykernel_launcher.py:3: SettingWithCopyWarning: \n",
      "A value is trying to be set on a copy of a slice from a DataFrame.\n",
      "Try using .loc[row_indexer,col_indexer] = value instead\n",
      "\n",
      "See the caveats in the documentation: http://pandas.pydata.org/pandas-docs/stable/user_guide/indexing.html#returning-a-view-versus-a-copy\n",
      "  This is separate from the ipykernel package so we can avoid doing imports until\n",
      "/opt/tljh/user/lib/python3.6/site-packages/ipykernel_launcher.py:4: SettingWithCopyWarning: \n",
      "A value is trying to be set on a copy of a slice from a DataFrame.\n",
      "Try using .loc[row_indexer,col_indexer] = value instead\n",
      "\n",
      "See the caveats in the documentation: http://pandas.pydata.org/pandas-docs/stable/user_guide/indexing.html#returning-a-view-versus-a-copy\n",
      "  after removing the cwd from sys.path.\n",
      "/opt/tljh/user/lib/python3.6/site-packages/ipykernel_launcher.py:5: SettingWithCopyWarning: \n",
      "A value is trying to be set on a copy of a slice from a DataFrame.\n",
      "Try using .loc[row_indexer,col_indexer] = value instead\n",
      "\n",
      "See the caveats in the documentation: http://pandas.pydata.org/pandas-docs/stable/user_guide/indexing.html#returning-a-view-versus-a-copy\n",
      "  \"\"\"\n",
      "/opt/tljh/user/lib/python3.6/site-packages/ipykernel_launcher.py:6: SettingWithCopyWarning: \n",
      "A value is trying to be set on a copy of a slice from a DataFrame.\n",
      "Try using .loc[row_indexer,col_indexer] = value instead\n",
      "\n",
      "See the caveats in the documentation: http://pandas.pydata.org/pandas-docs/stable/user_guide/indexing.html#returning-a-view-versus-a-copy\n",
      "  \n"
     ]
    }
   ],
   "source": [
    "data1['C1_norm'] = np.log(data1['C1'])\n",
    "data1['C3_norm'] = np.tanh(data1['C3_impute']+1)\n",
    "data1['C5_norm'] = 1/(np.log(data1['C5']))\n",
    "data1['C6_norm'] = 1/(np.log(data1['C6']))\n",
    "data1['C7_norm'] = np.log(data1['C7_impute']+1)\n",
    "data1['C5prime_norm'] = np.log(data1['C5`'])\n",
    "#data1['C6prime_norm'] = np.sqrt(np.log(data1['C6`']+1))"
   ]
  },
  {
   "cell_type": "code",
   "execution_count": 31,
   "metadata": {},
   "outputs": [
    {
     "data": {
      "text/plain": [
       "<matplotlib.axes._subplots.AxesSubplot at 0x7f51184e02b0>"
      ]
     },
     "execution_count": 31,
     "metadata": {},
     "output_type": "execute_result"
    },
    {
     "data": {
      "image/png": "[encoded data removed]",
      "text/plain": [
       "<Figure size 432x288 with 1 Axes>"
      ]
     },
     "metadata": {
      "needs_background": "light"
     },
     "output_type": "display_data"
    }
   ],
   "source": [
    "data1['C1_norm'].hist()\n",
    "data1['C3_norm'].hist()\n",
    "data1['C5_norm'].hist()\n",
    "data1['C6_norm'].hist()\n",
    "data1['C7_norm'].hist()\n",
    "data1['C5prime_norm'].hist()\n",
    "#data1['C6prime_norm'].hist()"
   ]
  },
  {
   "cell_type": "code",
   "execution_count": 32,
   "metadata": {},
   "outputs": [
    {
     "name": "stdout",
     "output_type": "stream",
     "text": [
      "C1_normalized:  0.13206924296483574\n",
      "C3_normalized:  -1.221996884528623\n",
      "C5_normalized:  -0.3913588014366576\n",
      "C6_normalized:  -0.3936679536459565\n",
      "C7_normalized:  -0.19508055631888138\n",
      "C5prime_normalized:  0.4273718005667461\n"
     ]
    }
   ],
   "source": [
    "print('C1_normalized: ', data1['C1_norm'].skew())\n",
    "print('C3_normalized: ', data1['C3_norm'].skew())\n",
    "print('C5_normalized: ', data1['C5_norm'].skew())\n",
    "print('C6_normalized: ', data1['C6_norm'].skew())\n",
    "print('C7_normalized: ', data1['C7_norm'].skew())\n",
    "print('C5prime_normalized: ', data1['C5prime_norm'].skew())\n",
    "#print('C6prime_normalized: ', data1['C6prime_norm'].skew())"
   ]
  },
  {
   "cell_type": "code",
   "execution_count": 33,
   "metadata": {},
   "outputs": [
    {
     "data": {
      "text/plain": [
       "array([[<matplotlib.axes._subplots.AxesSubplot object at 0x7f511885bda0>,\n",
       "        <matplotlib.axes._subplots.AxesSubplot object at 0x7f5118806128>,\n",
       "        <matplotlib.axes._subplots.AxesSubplot object at 0x7f511882c7b8>,\n",
       "        <matplotlib.axes._subplots.AxesSubplot object at 0x7f51187d5e48>,\n",
       "        <matplotlib.axes._subplots.AxesSubplot object at 0x7f5118784518>],\n",
       "       [<matplotlib.axes._subplots.AxesSubplot object at 0x7f5118784550>,\n",
       "        <matplotlib.axes._subplots.AxesSubplot object at 0x7f511875a278>,\n",
       "        <matplotlib.axes._subplots.AxesSubplot object at 0x7f5118704908>,\n",
       "        <matplotlib.axes._subplots.AxesSubplot object at 0x7f511872df98>,\n",
       "        <matplotlib.axes._subplots.AxesSubplot object at 0x7f51186dd668>],\n",
       "       [<matplotlib.axes._subplots.AxesSubplot object at 0x7f5118687cf8>,\n",
       "        <matplotlib.axes._subplots.AxesSubplot object at 0x7f51186b93c8>,\n",
       "        <matplotlib.axes._subplots.AxesSubplot object at 0x7f511865fa58>,\n",
       "        <matplotlib.axes._subplots.AxesSubplot object at 0x7f5118614128>,\n",
       "        <matplotlib.axes._subplots.AxesSubplot object at 0x7f511863c7b8>],\n",
       "       [<matplotlib.axes._subplots.AxesSubplot object at 0x7f51185e4e48>,\n",
       "        <matplotlib.axes._subplots.AxesSubplot object at 0x7f5118595518>,\n",
       "        <matplotlib.axes._subplots.AxesSubplot object at 0x7f51185bbba8>,\n",
       "        <matplotlib.axes._subplots.AxesSubplot object at 0x7f511856f278>,\n",
       "        <matplotlib.axes._subplots.AxesSubplot object at 0x7f5116987908>],\n",
       "       [<matplotlib.axes._subplots.AxesSubplot object at 0x7f5116932f98>,\n",
       "        <matplotlib.axes._subplots.AxesSubplot object at 0x7f5116962668>,\n",
       "        <matplotlib.axes._subplots.AxesSubplot object at 0x7f5116909cf8>,\n",
       "        <matplotlib.axes._subplots.AxesSubplot object at 0x7f51168bc3c8>,\n",
       "        <matplotlib.axes._subplots.AxesSubplot object at 0x7f51168e3a58>]],\n",
       "      dtype=object)"
      ]
     },
     "execution_count": 33,
     "metadata": {},
     "output_type": "execute_result"
    },
    {
     "data": {
      "image/png": "[encoded data removed]",
      "text/plain": [
       "<Figure size 1008x1008 with 25 Axes>"
      ]
     },
     "metadata": {
      "needs_background": "light"
     },
     "output_type": "display_data"
    }
   ],
   "source": [
    "pd.plotting.scatter_matrix(data1[['T1prime','T3prime', 'T4prime', 'T2prime','T5prime']], figsize=(14,14), hist_kwds={'bins':8}, alpha=.5, marker='o', s=50)"
   ]
  },
  {
   "cell_type": "code",
   "execution_count": 34,
   "metadata": {},
   "outputs": [],
   "source": [
    "# T1 looks good "
   ]
  },
  {
   "cell_type": "code",
   "execution_count": 35,
   "metadata": {},
   "outputs": [
    {
     "name": "stdout",
     "output_type": "stream",
     "text": [
      "T1prime:  -0.07334306343078599\n",
      "T2prime:  0.5833786957119567\n",
      "T3prime:  9.101177497494934\n",
      "T4prime:  0.8229552871858807\n",
      "T5prime:  0.5833786957119567\n"
     ]
    }
   ],
   "source": [
    "print('T1prime: ', data1['T1prime'].skew())\n",
    "print('T2prime: ', data1['T2prime'].skew())\n",
    "print('T3prime: ', data1['T3prime'].skew())\n",
    "print('T4prime: ', data1['T4prime'].skew())\n",
    "print('T5prime: ', data1['T5prime'].skew())"
   ]
  },
  {
   "cell_type": "code",
   "execution_count": 36,
   "metadata": {},
   "outputs": [
    {
     "name": "stderr",
     "output_type": "stream",
     "text": [
      "/opt/tljh/user/lib/python3.6/site-packages/ipykernel_launcher.py:1: SettingWithCopyWarning: \n",
      "A value is trying to be set on a copy of a slice from a DataFrame.\n",
      "Try using .loc[row_indexer,col_indexer] = value instead\n",
      "\n",
      "See the caveats in the documentation: http://pandas.pydata.org/pandas-docs/stable/user_guide/indexing.html#returning-a-view-versus-a-copy\n",
      "  \"\"\"Entry point for launching an IPython kernel.\n",
      "/opt/tljh/user/lib/python3.6/site-packages/ipykernel_launcher.py:2: SettingWithCopyWarning: \n",
      "A value is trying to be set on a copy of a slice from a DataFrame.\n",
      "Try using .loc[row_indexer,col_indexer] = value instead\n",
      "\n",
      "See the caveats in the documentation: http://pandas.pydata.org/pandas-docs/stable/user_guide/indexing.html#returning-a-view-versus-a-copy\n",
      "  \n",
      "/opt/tljh/user/lib/python3.6/site-packages/ipykernel_launcher.py:3: SettingWithCopyWarning: \n",
      "A value is trying to be set on a copy of a slice from a DataFrame.\n",
      "Try using .loc[row_indexer,col_indexer] = value instead\n",
      "\n",
      "See the caveats in the documentation: http://pandas.pydata.org/pandas-docs/stable/user_guide/indexing.html#returning-a-view-versus-a-copy\n",
      "  This is separate from the ipykernel package so we can avoid doing imports until\n",
      "/opt/tljh/user/lib/python3.6/site-packages/ipykernel_launcher.py:4: SettingWithCopyWarning: \n",
      "A value is trying to be set on a copy of a slice from a DataFrame.\n",
      "Try using .loc[row_indexer,col_indexer] = value instead\n",
      "\n",
      "See the caveats in the documentation: http://pandas.pydata.org/pandas-docs/stable/user_guide/indexing.html#returning-a-view-versus-a-copy\n",
      "  after removing the cwd from sys.path.\n"
     ]
    }
   ],
   "source": [
    "data1['T2prime_norm'] = np.sqrt(data1['T2prime'])\n",
    "data1['T3prime_norm'] = 1/(np.log(data1['T3prime']))\n",
    "data1['T4prime_norm'] = np.log(data1['T4prime'])\n",
    "data1['T5prime_norm'] = np.sqrt(data1['T5prime'])"
   ]
  },
  {
   "cell_type": "code",
   "execution_count": 37,
   "metadata": {},
   "outputs": [
    {
     "name": "stdout",
     "output_type": "stream",
     "text": [
      "T2prime_norm:  0.2039439029069943\n",
      "T3prime_norm:  -0.5010146548567442\n",
      "T4prime_norm:  0.42138586072652406\n",
      "T5prime_norm:  0.2039439029069943\n"
     ]
    }
   ],
   "source": [
    "print('T2prime_norm: ', data1['T2prime_norm'].skew())\n",
    "print('T3prime_norm: ', data1['T3prime_norm'].skew())\n",
    "print('T4prime_norm: ', data1['T4prime_norm'].skew())\n",
    "print('T5prime_norm: ', data1['T5prime_norm'].skew())"
   ]
  },
  {
   "cell_type": "code",
   "execution_count": 38,
   "metadata": {},
   "outputs": [
    {
     "data": {
      "text/plain": [
       "Index(['C1', 'C4', 'C5', 'C6', 'C3_impute', 'C7_impute', 'C5`', 'T1prime',\n",
       "       'T2prime', 'T3prime', 'T4prime', 'T5prime', 'S1prime', 'S2prime',\n",
       "       'S3prime', 'Y1', 'Y2', 'S1prime_norm', 'S2prime_norm', 'S3prime_norm',\n",
       "       'C1_norm', 'C3_norm', 'C5_norm', 'C6_norm', 'C7_norm', 'C5prime_norm',\n",
       "       'T2prime_norm', 'T3prime_norm', 'T4prime_norm', 'T5prime_norm'],\n",
       "      dtype='object')"
      ]
     },
     "execution_count": 38,
     "metadata": {},
     "output_type": "execute_result"
    }
   ],
   "source": [
    "data1.columns"
   ]
  },
  {
   "cell_type": "code",
   "execution_count": 39,
   "metadata": {},
   "outputs": [
    {
     "data": {
      "text/html": [
       "<div>\n",
       "<style scoped>\n",
       "    .dataframe tbody tr th:only-of-type {\n",
       "        vertical-align: middle;\n",
       "    }\n",
       "\n",
       "    .dataframe tbody tr th {\n",
       "        vertical-align: top;\n",
       "    }\n",
       "\n",
       "    .dataframe thead th {\n",
       "        text-align: right;\n",
       "    }\n",
       "</style>\n",
       "<table border=\"1\" class=\"dataframe\">\n",
       "  <thead>\n",
       "    <tr style=\"text-align: right;\">\n",
       "      <th></th>\n",
       "      <th>S1prime_norm</th>\n",
       "      <th>S2prime_norm</th>\n",
       "      <th>S3prime_norm</th>\n",
       "      <th>C1_norm</th>\n",
       "      <th>C3_norm</th>\n",
       "      <th>C4</th>\n",
       "      <th>C5_norm</th>\n",
       "      <th>C6_norm</th>\n",
       "      <th>C7_norm</th>\n",
       "      <th>C5prime_norm</th>\n",
       "      <th>T1prime</th>\n",
       "      <th>T2prime_norm</th>\n",
       "      <th>T3prime_norm</th>\n",
       "      <th>T4prime_norm</th>\n",
       "      <th>T5prime_norm</th>\n",
       "      <th>Y1</th>\n",
       "      <th>Y2</th>\n",
       "    </tr>\n",
       "  </thead>\n",
       "  <tbody>\n",
       "    <tr>\n",
       "      <th>0</th>\n",
       "      <td>-5.323718</td>\n",
       "      <td>-4.688678</td>\n",
       "      <td>-4.516378</td>\n",
       "      <td>4.804021</td>\n",
       "      <td>0.999716</td>\n",
       "      <td>0.029074</td>\n",
       "      <td>0.057051</td>\n",
       "      <td>0.061819</td>\n",
       "      <td>3.957856</td>\n",
       "      <td>1.351792</td>\n",
       "      <td>0.640426</td>\n",
       "      <td>0.232915</td>\n",
       "      <td>-10.466155</td>\n",
       "      <td>0.445622</td>\n",
       "      <td>0.232915</td>\n",
       "      <td>0</td>\n",
       "      <td>1</td>\n",
       "    </tr>\n",
       "    <tr>\n",
       "      <th>1</th>\n",
       "      <td>-5.726618</td>\n",
       "      <td>-4.500360</td>\n",
       "      <td>-4.521238</td>\n",
       "      <td>5.556828</td>\n",
       "      <td>-0.551128</td>\n",
       "      <td>-0.013352</td>\n",
       "      <td>0.058213</td>\n",
       "      <td>0.068069</td>\n",
       "      <td>3.293464</td>\n",
       "      <td>2.487306</td>\n",
       "      <td>0.644753</td>\n",
       "      <td>0.226705</td>\n",
       "      <td>-9.365141</td>\n",
       "      <td>0.438887</td>\n",
       "      <td>0.226705</td>\n",
       "      <td>1</td>\n",
       "      <td>0</td>\n",
       "    </tr>\n",
       "    <tr>\n",
       "      <th>2</th>\n",
       "      <td>-4.457393</td>\n",
       "      <td>-5.071759</td>\n",
       "      <td>-4.473922</td>\n",
       "      <td>4.499810</td>\n",
       "      <td>-0.235496</td>\n",
       "      <td>0.020715</td>\n",
       "      <td>0.060098</td>\n",
       "      <td>0.064830</td>\n",
       "      <td>2.125609</td>\n",
       "      <td>1.214656</td>\n",
       "      <td>0.636816</td>\n",
       "      <td>0.248523</td>\n",
       "      <td>-10.523529</td>\n",
       "      <td>0.451275</td>\n",
       "      <td>0.248523</td>\n",
       "      <td>1</td>\n",
       "      <td>0</td>\n",
       "    </tr>\n",
       "    <tr>\n",
       "      <th>3</th>\n",
       "      <td>-4.637032</td>\n",
       "      <td>-4.941521</td>\n",
       "      <td>-4.318578</td>\n",
       "      <td>5.342334</td>\n",
       "      <td>0.089758</td>\n",
       "      <td>0.020023</td>\n",
       "      <td>0.060557</td>\n",
       "      <td>0.065276</td>\n",
       "      <td>2.254025</td>\n",
       "      <td>1.193831</td>\n",
       "      <td>0.539634</td>\n",
       "      <td>0.248253</td>\n",
       "      <td>-11.549720</td>\n",
       "      <td>0.616864</td>\n",
       "      <td>0.248253</td>\n",
       "      <td>1</td>\n",
       "      <td>0</td>\n",
       "    </tr>\n",
       "    <tr>\n",
       "      <th>4</th>\n",
       "      <td>-5.399715</td>\n",
       "      <td>-4.600461</td>\n",
       "      <td>-4.486414</td>\n",
       "      <td>4.382027</td>\n",
       "      <td>0.789461</td>\n",
       "      <td>-0.034895</td>\n",
       "      <td>0.058001</td>\n",
       "      <td>0.062791</td>\n",
       "      <td>6.450941</td>\n",
       "      <td>1.315407</td>\n",
       "      <td>0.587413</td>\n",
       "      <td>0.220341</td>\n",
       "      <td>-8.456290</td>\n",
       "      <td>0.532028</td>\n",
       "      <td>0.220341</td>\n",
       "      <td>0</td>\n",
       "      <td>1</td>\n",
       "    </tr>\n",
       "  </tbody>\n",
       "</table>\n",
       "</div>"
      ],
      "text/plain": [
       "   S1prime_norm  S2prime_norm  S3prime_norm   C1_norm   C3_norm        C4  \\\n",
       "0     -5.323718     -4.688678     -4.516378  4.804021  0.999716  0.029074   \n",
       "1     -5.726618     -4.500360     -4.521238  5.556828 -0.551128 -0.013352   \n",
       "2     -4.457393     -5.071759     -4.473922  4.499810 -0.235496  0.020715   \n",
       "3     -4.637032     -4.941521     -4.318578  5.342334  0.089758  0.020023   \n",
       "4     -5.399715     -4.600461     -4.486414  4.382027  0.789461 -0.034895   \n",
       "\n",
       "    C5_norm   C6_norm   C7_norm  C5prime_norm   T1prime  T2prime_norm  \\\n",
       "0  0.057051  0.061819  3.957856      1.351792  0.640426      0.232915   \n",
       "1  0.058213  0.068069  3.293464      2.487306  0.644753      0.226705   \n",
       "2  0.060098  0.064830  2.125609      1.214656  0.636816      0.248523   \n",
       "3  0.060557  0.065276  2.254025      1.193831  0.539634      0.248253   \n",
       "4  0.058001  0.062791  6.450941      1.315407  0.587413      0.220341   \n",
       "\n",
       "   T3prime_norm  T4prime_norm  T5prime_norm  Y1  Y2  \n",
       "0    -10.466155      0.445622      0.232915   0   1  \n",
       "1     -9.365141      0.438887      0.226705   1   0  \n",
       "2    -10.523529      0.451275      0.248523   1   0  \n",
       "3    -11.549720      0.616864      0.248253   1   0  \n",
       "4     -8.456290      0.532028      0.220341   0   1  "
      ]
     },
     "execution_count": 39,
     "metadata": {},
     "output_type": "execute_result"
    }
   ],
   "source": [
    "data1 = data1[['S1prime_norm', 'S2prime_norm',\n",
    "       'S3prime_norm', 'C1_norm', 'C3_norm','C4', 'C5_norm', 'C6_norm', 'C7_norm',\n",
    "       'C5prime_norm', 'T1prime','T2prime_norm', 'T3prime_norm',\n",
    "       'T4prime_norm', 'T5prime_norm','Y1','Y2']]\n",
    "data1.head()"
   ]
  },
  {
   "cell_type": "code",
   "execution_count": 40,
   "metadata": {},
   "outputs": [],
   "source": [
    "data1.to_csv('normalized.csv')"
   ]
  },
  {
   "cell_type": "markdown",
   "metadata": {},
   "source": [
    "# Outliers"
   ]
  },
  {
   "cell_type": "code",
   "execution_count": 41,
   "metadata": {},
   "outputs": [],
   "source": [
    "# try running before doing outliers and make assumption to why you would do this and maybe only for some columns \n",
    "# 3 standard deviation for normalization, IQR normalization not needed"
   ]
  },
  {
   "cell_type": "code",
   "execution_count": 21,
   "metadata": {},
   "outputs": [],
   "source": [
    "# exclude target variables\n",
    "#data2 = data1[['S1prime_norm', 'S2prime_norm',\n",
    "       #'S3prime_norm', 'C1_norm', 'C3_norm','C4', 'C5_norm', 'C6_norm', 'C7_norm',\n",
    "      # 'C5prime_norm', 'T1prime','T2prime_norm', 'T3prime_norm',\n",
    "      # 'T4prime_norm', 'T5prime_norm']]\n",
    "data2 = data1[['C1', 'C4',\n",
    "       'C5', 'C6', 'C3_impute',\n",
    "       'C7_impute', 'C5`',\n",
    "       'T1prime', 'T2prime','T3prime', 'T4prime', 'T5prime', 'S1prime',\n",
    "       'S2prime', 'S3prime']]"
   ]
  },
  {
   "cell_type": "code",
   "execution_count": 22,
   "metadata": {},
   "outputs": [
    {
     "name": "stdout",
     "output_type": "stream",
     "text": [
      "Upper Bound:  608.1811889659992\n",
      "C1 65     2087.0\n",
      "82      660.0\n",
      "141     833.0\n",
      "200     651.0\n",
      "221     683.0\n",
      "228     869.0\n",
      "391    1331.0\n",
      "396     690.0\n",
      "413     736.0\n",
      "435     638.0\n",
      "477     628.0\n",
      "512     658.0\n",
      "553     615.0\n",
      "628     827.0\n",
      "665    1267.0\n",
      "Name: C1, dtype: float64 \n",
      "\n",
      "Upper Bound:  0.10723513361722141\n",
      "C4 Series([], Name: C4, dtype: float64) \n",
      "\n",
      "Upper Bound:  366575884.1439209\n",
      "C5 226    2.138085e+09\n",
      "265    6.378033e+08\n",
      "275    5.152051e+08\n",
      "622    9.557177e+08\n",
      "Name: C5, dtype: float64 \n",
      "\n",
      "Upper Bound:  88780673.91599578\n",
      "C6 226    421233615.0\n",
      "275    126200000.0\n",
      "302     96500000.0\n",
      "622    406000000.0\n",
      "Name: C6, dtype: float64 \n",
      "\n",
      "Upper Bound:  475.23785819051875\n",
      "C3_impute 659    3864.5\n",
      "Name: C3_impute, dtype: float64 \n",
      "\n",
      "Upper Bound:  5234.036924055642\n",
      "C7_impute 161     8834.500\n",
      "170     9495.246\n",
      "181     7619.952\n",
      "275    30683.000\n",
      "291     7469.200\n",
      "292    11485.000\n",
      "516     7187.000\n",
      "Name: C7_impute, dtype: float64 \n",
      "\n",
      "Upper Bound:  19.817864925003583\n",
      "C5` 58     99.787255\n",
      "161    69.024790\n",
      "204    40.046892\n",
      "Name: C5`, dtype: float64 \n",
      "\n",
      "Upper Bound:  0.8373146581058543\n",
      "T1prime Series([], Name: T1prime, dtype: float64) \n",
      "\n",
      "Upper Bound:  0.07370346121211549\n",
      "T2prime 125    0.093585\n",
      "199    0.091359\n",
      "Name: T2prime, dtype: float64 \n",
      "\n",
      "Upper Bound:  1.0274259760292976\n",
      "T3prime 125    1.498433\n",
      "199    1.579238\n",
      "Name: T3prime, dtype: float64 \n",
      "\n",
      "Upper Bound:  2.173230174048639\n",
      "T4prime 464    2.273171\n",
      "479    2.528571\n",
      "492    2.500000\n",
      "Name: T4prime, dtype: float64 \n",
      "\n",
      "Upper Bound:  0.07370346121211549\n",
      "T5prime 125    0.093585\n",
      "199    0.091359\n",
      "Name: T5prime, dtype: float64 \n",
      "\n",
      "Upper Bound:  0.01055060652245176\n",
      "S1prime 2      0.011593\n",
      "81     0.010880\n",
      "181    0.010907\n",
      "188    0.011343\n",
      "259    0.010586\n",
      "385    0.012502\n",
      "543    0.012839\n",
      "581    0.011291\n",
      "Name: S1prime, dtype: float64 \n",
      "\n",
      "Upper Bound:  0.018058124575375777\n",
      "S2prime 48     0.019159\n",
      "114    0.018762\n",
      "125    0.018882\n",
      "161    0.018358\n",
      "199    0.018470\n",
      "275    0.024605\n",
      "299    0.019243\n",
      "425    0.022609\n",
      "516    0.018687\n",
      "586    0.018248\n",
      "599    0.019927\n",
      "Name: S2prime, dtype: float64 \n",
      "\n",
      "Upper Bound:  0.02007151125514606\n",
      "S3prime 50     0.024284\n",
      "111    0.022573\n",
      "188    0.025572\n",
      "199    0.020861\n",
      "271    0.022713\n",
      "382    0.029397\n",
      "416    0.024623\n",
      "439    0.020586\n",
      "632    0.021596\n",
      "Name: S3prime, dtype: float64 \n",
      "\n",
      "Upper Bound:  2.0011376565912995\n",
      "Y1 Series([], Name: Y1, dtype: int64) \n",
      "\n",
      "Upper Bound:  1.843034801554753\n",
      "Y2 Series([], Name: Y2, dtype: int64) \n",
      "\n",
      "Lower Bound:  -308.72361320842344\n",
      "C1 Series([], Name: C1, dtype: float64) \n",
      "\n",
      "Lower Bound:  -0.09267073079434433\n",
      "C4 107   -0.162352\n",
      "312   -0.092879\n",
      "Name: C4, dtype: float64 \n",
      "\n",
      "Lower Bound:  -266650178.98331487\n",
      "C5 Series([], Name: C5, dtype: float64) \n",
      "\n",
      "Lower Bound:  -63615718.76145032\n",
      "C6 Series([], Name: C6, dtype: float64) \n",
      "\n",
      "Lower Bound:  -475.10440970567026\n",
      "C3_impute 259   -731.840\n",
      "423   -786.239\n",
      "Name: C3_impute, dtype: float64 \n",
      "\n",
      "Lower Bound:  -4292.774187692005\n",
      "C7_impute Series([], Name: C7_impute, dtype: float64) \n",
      "\n",
      "Lower Bound:  -10.983354491890008\n",
      "C5` Series([], Name: C5`, dtype: float64) \n",
      "\n",
      "Lower Bound:  0.41967634709366586\n",
      "T1prime 479    0.39548\n",
      "492    0.40000\n",
      "Name: T1prime, dtype: float64 \n",
      "\n",
      "Lower Bound:  0.030839010052340098\n",
      "T2prime Series([], Name: T2prime, dtype: float64) \n",
      "\n",
      "Lower Bound:  0.7628874181831341\n",
      "T3prime 27     0.722644\n",
      "484    0.669838\n",
      "Name: T3prime, dtype: float64 \n",
      "\n",
      "Lower Bound:  1.049810488280212\n",
      "T4prime Series([], Name: T4prime, dtype: float64) \n",
      "\n",
      "Lower Bound:  0.030839010052340098\n",
      "T5prime Series([], Name: T5prime, dtype: float64) \n",
      "\n",
      "Lower Bound:  8.592851574196463e-05\n",
      "S1prime Series([], Name: S1prime, dtype: float64) \n",
      "\n",
      "Lower Bound:  5.916114647312558e-05\n",
      "S2prime Series([], Name: S2prime, dtype: float64) \n",
      "\n",
      "Lower Bound:  0.0029663950125906786\n",
      "S3prime Series([], Name: S3prime, dtype: float64) \n",
      "\n",
      "Lower Bound:  -1.0011376565912997\n",
      "Y1 Series([], Name: Y1, dtype: int64) \n",
      "\n",
      "Lower Bound:  -1.0763681348880865\n",
      "Y2 Series([], Name: Y2, dtype: int64) \n",
      "\n"
     ]
    }
   ],
   "source": [
    "# investigating the nature of the outliers - upper bound\n",
    "for cols in data1.columns:\n",
    "    u_bound = data1[cols].mean() + 3* data1[cols].std()\n",
    "    print('Upper Bound: ', u_bound)\n",
    "    print(cols, data1[cols][data1[cols]>u_bound],'\\n')\n",
    "#my_col[my_col>u_bound]\n",
    "# investigating the nature of the outliers - lower bound\n",
    "for cols in data1.columns:\n",
    "    l_bound = data1[cols].mean() - 3* data1[cols].std()\n",
    "    print('Lower Bound: ', l_bound)\n",
    "    print(cols, data1[cols][data1[cols]<l_bound],'\\n')"
   ]
  },
  {
   "cell_type": "code",
   "execution_count": 23,
   "metadata": {},
   "outputs": [
    {
     "name": "stderr",
     "output_type": "stream",
     "text": [
      "/opt/tljh/user/lib/python3.6/site-packages/ipykernel_launcher.py:4: SettingWithCopyWarning: \n",
      "A value is trying to be set on a copy of a slice from a DataFrame\n",
      "\n",
      "See the caveats in the documentation: http://pandas.pydata.org/pandas-docs/stable/user_guide/indexing.html#returning-a-view-versus-a-copy\n",
      "  after removing the cwd from sys.path.\n",
      "/opt/tljh/user/lib/python3.6/site-packages/pandas/core/generic.py:9114: SettingWithCopyWarning: \n",
      "A value is trying to be set on a copy of a slice from a DataFrame\n",
      "\n",
      "See the caveats in the documentation: http://pandas.pydata.org/pandas-docs/stable/user_guide/indexing.html#returning-a-view-versus-a-copy\n",
      "  self._update_inplace(new_data)\n",
      "/opt/tljh/user/lib/python3.6/site-packages/IPython/core/interactiveshell.py:3319: SettingWithCopyWarning: \n",
      "A value is trying to be set on a copy of a slice from a DataFrame\n",
      "\n",
      "See the caveats in the documentation: http://pandas.pydata.org/pandas-docs/stable/user_guide/indexing.html#returning-a-view-versus-a-copy\n",
      "  exec(code_obj, self.user_global_ns, self.user_ns)\n"
     ]
    }
   ],
   "source": [
    "# going for all the columns - upper bound\n",
    "for col in data1.columns:\n",
    "    u_bound = data1[col].mean() + 3* data1[col].std()\n",
    "    data1[col][data1[col] > u_bound] = u_bound"
   ]
  },
  {
   "cell_type": "code",
   "execution_count": 24,
   "metadata": {},
   "outputs": [
    {
     "name": "stderr",
     "output_type": "stream",
     "text": [
      "/opt/tljh/user/lib/python3.6/site-packages/ipykernel_launcher.py:4: SettingWithCopyWarning: \n",
      "A value is trying to be set on a copy of a slice from a DataFrame\n",
      "\n",
      "See the caveats in the documentation: http://pandas.pydata.org/pandas-docs/stable/user_guide/indexing.html#returning-a-view-versus-a-copy\n",
      "  after removing the cwd from sys.path.\n"
     ]
    }
   ],
   "source": [
    "# going for all the columns - lower bound\n",
    "for col in data1.columns:\n",
    "    l_bound = data1[col].mean() - 3* data1[col].std()\n",
    "    data1[col][data1[col] < l_bound] = l_bound"
   ]
  },
  {
   "cell_type": "code",
   "execution_count": 25,
   "metadata": {},
   "outputs": [
    {
     "name": "stdout",
     "output_type": "stream",
     "text": [
      "C1 True    660\n",
      "Name: C1, dtype: int64 \n",
      "\n",
      "C4 False    660\n",
      "Name: C4, dtype: int64 \n",
      "\n",
      "C5 True    660\n",
      "Name: C5, dtype: int64 \n",
      "\n",
      "C6 True    660\n",
      "Name: C6, dtype: int64 \n",
      "\n",
      "C3_impute False    623\n",
      "True      37\n",
      "Name: C3_impute, dtype: int64 \n",
      "\n",
      "C7_impute True     634\n",
      "False     26\n",
      "Name: C7_impute, dtype: int64 \n",
      "\n",
      "C5` True     626\n",
      "False     34\n",
      "Name: C5`, dtype: int64 \n",
      "\n",
      "T1prime False    660\n",
      "Name: T1prime, dtype: int64 \n",
      "\n",
      "T2prime False    660\n",
      "Name: T2prime, dtype: int64 \n",
      "\n",
      "T3prime False    660\n",
      "Name: T3prime, dtype: int64 \n",
      "\n",
      "T4prime False    582\n",
      "True      78\n",
      "Name: T4prime, dtype: int64 \n",
      "\n",
      "T5prime False    660\n",
      "Name: T5prime, dtype: int64 \n",
      "\n",
      "S1prime False    660\n",
      "Name: S1prime, dtype: int64 \n",
      "\n",
      "S2prime False    660\n",
      "Name: S2prime, dtype: int64 \n",
      "\n",
      "S3prime False    660\n",
      "Name: S3prime, dtype: int64 \n",
      "\n",
      "Y1 False    660\n",
      "Name: Y1, dtype: int64 \n",
      "\n",
      "Y2 False    660\n",
      "Name: Y2, dtype: int64 \n",
      "\n",
      "C1 False    660\n",
      "Name: C1, dtype: int64 \n",
      "\n",
      "C4 False    660\n",
      "Name: C4, dtype: int64 \n",
      "\n",
      "C5 False    660\n",
      "Name: C5, dtype: int64 \n",
      "\n",
      "C6 False    660\n",
      "Name: C6, dtype: int64 \n",
      "\n",
      "C3_impute False    519\n",
      "True     141\n",
      "Name: C3_impute, dtype: int64 \n",
      "\n",
      "C7_impute False    660\n",
      "Name: C7_impute, dtype: int64 \n",
      "\n",
      "C5` False    660\n",
      "Name: C5`, dtype: int64 \n",
      "\n",
      "T1prime False    660\n",
      "Name: T1prime, dtype: int64 \n",
      "\n",
      "T2prime False    660\n",
      "Name: T2prime, dtype: int64 \n",
      "\n",
      "T3prime False    660\n",
      "Name: T3prime, dtype: int64 \n",
      "\n",
      "T4prime False    660\n",
      "Name: T4prime, dtype: int64 \n",
      "\n",
      "T5prime False    660\n",
      "Name: T5prime, dtype: int64 \n",
      "\n",
      "S1prime False    660\n",
      "Name: S1prime, dtype: int64 \n",
      "\n",
      "S2prime False    660\n",
      "Name: S2prime, dtype: int64 \n",
      "\n",
      "S3prime False    660\n",
      "Name: S3prime, dtype: int64 \n",
      "\n",
      "Y1 False    660\n",
      "Name: Y1, dtype: int64 \n",
      "\n",
      "Y2 False    660\n",
      "Name: Y2, dtype: int64 \n",
      "\n"
     ]
    }
   ],
   "source": [
    "# verifying there is no value greater than the upper boundary\n",
    "for cols in data1.columns:\n",
    "    print(cols, (data1[cols]>u_bound).value_counts(),'\\n')\n",
    "    #print(cols,data1[cols]>u_bound.value_counts())\n",
    "#pd.Series(my_col>u_bound).value_counts()\n",
    "# checkin lower bound \n",
    "for cols in data1.columns:\n",
    "    print(cols, (data1[cols]<l_bound).value_counts(),'\\n')"
   ]
  },
  {
   "cell_type": "code",
   "execution_count": 26,
   "metadata": {},
   "outputs": [],
   "source": [
    "# add Y1 and Y2\n",
    "data3 = pd.concat([data2,data1[['Y1','Y2']]], axis = 1)"
   ]
  },
  {
   "cell_type": "code",
   "execution_count": 27,
   "metadata": {},
   "outputs": [
    {
     "data": {
      "text/html": [
       "<div>\n",
       "<style scoped>\n",
       "    .dataframe tbody tr th:only-of-type {\n",
       "        vertical-align: middle;\n",
       "    }\n",
       "\n",
       "    .dataframe tbody tr th {\n",
       "        vertical-align: top;\n",
       "    }\n",
       "\n",
       "    .dataframe thead th {\n",
       "        text-align: right;\n",
       "    }\n",
       "</style>\n",
       "<table border=\"1\" class=\"dataframe\">\n",
       "  <thead>\n",
       "    <tr style=\"text-align: right;\">\n",
       "      <th></th>\n",
       "      <th>C1</th>\n",
       "      <th>C4</th>\n",
       "      <th>C5</th>\n",
       "      <th>C6</th>\n",
       "      <th>C3_impute</th>\n",
       "      <th>C7_impute</th>\n",
       "      <th>C5`</th>\n",
       "      <th>T1prime</th>\n",
       "      <th>T2prime</th>\n",
       "      <th>T3prime</th>\n",
       "      <th>T4prime</th>\n",
       "      <th>T5prime</th>\n",
       "      <th>S1prime</th>\n",
       "      <th>S2prime</th>\n",
       "      <th>S3prime</th>\n",
       "      <th>Y1</th>\n",
       "      <th>Y2</th>\n",
       "    </tr>\n",
       "  </thead>\n",
       "  <tbody>\n",
       "    <tr>\n",
       "      <th>0</th>\n",
       "      <td>122.0</td>\n",
       "      <td>0.029074</td>\n",
       "      <td>40962052.0</td>\n",
       "      <td>10600000.0</td>\n",
       "      <td>3.43</td>\n",
       "      <td>51.345</td>\n",
       "      <td>3.864345</td>\n",
       "      <td>0.640426</td>\n",
       "      <td>0.054250</td>\n",
       "      <td>0.908876</td>\n",
       "      <td>1.561462</td>\n",
       "      <td>0.054250</td>\n",
       "      <td>0.004875</td>\n",
       "      <td>0.009199</td>\n",
       "      <td>0.010929</td>\n",
       "      <td>0</td>\n",
       "      <td>1</td>\n",
       "    </tr>\n",
       "    <tr>\n",
       "      <th>1</th>\n",
       "      <td>259.0</td>\n",
       "      <td>-0.013352</td>\n",
       "      <td>28869196.0</td>\n",
       "      <td>2400000.0</td>\n",
       "      <td>-1.62</td>\n",
       "      <td>25.936</td>\n",
       "      <td>12.028832</td>\n",
       "      <td>0.644753</td>\n",
       "      <td>0.051395</td>\n",
       "      <td>0.898724</td>\n",
       "      <td>1.550980</td>\n",
       "      <td>0.051395</td>\n",
       "      <td>0.003258</td>\n",
       "      <td>0.011105</td>\n",
       "      <td>0.010876</td>\n",
       "      <td>1</td>\n",
       "      <td>0</td>\n",
       "    </tr>\n",
       "    <tr>\n",
       "      <th>2</th>\n",
       "      <td>90.0</td>\n",
       "      <td>0.020715</td>\n",
       "      <td>16845668.0</td>\n",
       "      <td>5000000.0</td>\n",
       "      <td>-1.24</td>\n",
       "      <td>7.378</td>\n",
       "      <td>3.369134</td>\n",
       "      <td>0.636816</td>\n",
       "      <td>0.061764</td>\n",
       "      <td>0.909350</td>\n",
       "      <td>1.570312</td>\n",
       "      <td>0.061764</td>\n",
       "      <td>0.011593</td>\n",
       "      <td>0.006271</td>\n",
       "      <td>0.011403</td>\n",
       "      <td>1</td>\n",
       "      <td>0</td>\n",
       "    </tr>\n",
       "    <tr>\n",
       "      <th>3</th>\n",
       "      <td>209.0</td>\n",
       "      <td>0.020023</td>\n",
       "      <td>14848637.0</td>\n",
       "      <td>4500000.0</td>\n",
       "      <td>-0.91</td>\n",
       "      <td>8.526</td>\n",
       "      <td>3.299697</td>\n",
       "      <td>0.539634</td>\n",
       "      <td>0.061630</td>\n",
       "      <td>0.917060</td>\n",
       "      <td>1.853107</td>\n",
       "      <td>0.061630</td>\n",
       "      <td>0.009686</td>\n",
       "      <td>0.007144</td>\n",
       "      <td>0.013319</td>\n",
       "      <td>1</td>\n",
       "      <td>0</td>\n",
       "    </tr>\n",
       "    <tr>\n",
       "      <th>4</th>\n",
       "      <td>80.0</td>\n",
       "      <td>-0.034895</td>\n",
       "      <td>30741716.0</td>\n",
       "      <td>8250000.0</td>\n",
       "      <td>0.07</td>\n",
       "      <td>632.298</td>\n",
       "      <td>3.726269</td>\n",
       "      <td>0.587413</td>\n",
       "      <td>0.048550</td>\n",
       "      <td>0.888469</td>\n",
       "      <td>1.702381</td>\n",
       "      <td>0.048550</td>\n",
       "      <td>0.004518</td>\n",
       "      <td>0.010047</td>\n",
       "      <td>0.011261</td>\n",
       "      <td>0</td>\n",
       "      <td>1</td>\n",
       "    </tr>\n",
       "  </tbody>\n",
       "</table>\n",
       "</div>"
      ],
      "text/plain": [
       "      C1        C4          C5          C6  C3_impute  C7_impute        C5`  \\\n",
       "0  122.0  0.029074  40962052.0  10600000.0       3.43     51.345   3.864345   \n",
       "1  259.0 -0.013352  28869196.0   2400000.0      -1.62     25.936  12.028832   \n",
       "2   90.0  0.020715  16845668.0   5000000.0      -1.24      7.378   3.369134   \n",
       "3  209.0  0.020023  14848637.0   4500000.0      -0.91      8.526   3.299697   \n",
       "4   80.0 -0.034895  30741716.0   8250000.0       0.07    632.298   3.726269   \n",
       "\n",
       "    T1prime   T2prime   T3prime   T4prime   T5prime   S1prime   S2prime  \\\n",
       "0  0.640426  0.054250  0.908876  1.561462  0.054250  0.004875  0.009199   \n",
       "1  0.644753  0.051395  0.898724  1.550980  0.051395  0.003258  0.011105   \n",
       "2  0.636816  0.061764  0.909350  1.570312  0.061764  0.011593  0.006271   \n",
       "3  0.539634  0.061630  0.917060  1.853107  0.061630  0.009686  0.007144   \n",
       "4  0.587413  0.048550  0.888469  1.702381  0.048550  0.004518  0.010047   \n",
       "\n",
       "    S3prime  Y1  Y2  \n",
       "0  0.010929   0   1  \n",
       "1  0.010876   1   0  \n",
       "2  0.011403   1   0  \n",
       "3  0.013319   1   0  \n",
       "4  0.011261   0   1  "
      ]
     },
     "execution_count": 27,
     "metadata": {},
     "output_type": "execute_result"
    }
   ],
   "source": [
    "data3.head()"
   ]
  },
  {
   "cell_type": "code",
   "execution_count": 28,
   "metadata": {},
   "outputs": [],
   "source": [
    "data3.to_csv('Outlier_normalized.csv')"
   ]
  },
  {
   "cell_type": "code",
   "execution_count": 29,
   "metadata": {},
   "outputs": [
    {
     "data": {
      "text/plain": [
       "Index(['C1', 'C4', 'C5', 'C6', 'C3_impute', 'C7_impute', 'C5`', 'T1prime',\n",
       "       'T2prime', 'T3prime', 'T4prime', 'T5prime', 'S1prime', 'S2prime',\n",
       "       'S3prime', 'Y1', 'Y2'],\n",
       "      dtype='object')"
      ]
     },
     "execution_count": 29,
     "metadata": {},
     "output_type": "execute_result"
    }
   ],
   "source": [
    "data3.columns"
   ]
  },
  {
   "cell_type": "code",
   "execution_count": 30,
   "metadata": {},
   "outputs": [],
   "source": [
    "# IQR, minmax, normalize, z-score "
   ]
  },
  {
   "cell_type": "markdown",
   "metadata": {},
   "source": [
    "# Standardization - zscore"
   ]
  },
  {
   "cell_type": "code",
   "execution_count": 31,
   "metadata": {},
   "outputs": [],
   "source": [
    "# exclude the Y1, Y2"
   ]
  },
  {
   "cell_type": "code",
   "execution_count": 34,
   "metadata": {},
   "outputs": [
    {
     "data": {
      "text/html": [
       "<div>\n",
       "<style scoped>\n",
       "    .dataframe tbody tr th:only-of-type {\n",
       "        vertical-align: middle;\n",
       "    }\n",
       "\n",
       "    .dataframe tbody tr th {\n",
       "        vertical-align: top;\n",
       "    }\n",
       "\n",
       "    .dataframe thead th {\n",
       "        text-align: right;\n",
       "    }\n",
       "</style>\n",
       "<table border=\"1\" class=\"dataframe\">\n",
       "  <thead>\n",
       "    <tr style=\"text-align: right;\">\n",
       "      <th></th>\n",
       "      <th>C1</th>\n",
       "      <th>C4</th>\n",
       "      <th>C5</th>\n",
       "      <th>C6</th>\n",
       "      <th>C3_impute</th>\n",
       "      <th>C7_impute</th>\n",
       "      <th>C5`</th>\n",
       "      <th>T1prime</th>\n",
       "      <th>T2prime</th>\n",
       "      <th>T3prime</th>\n",
       "      <th>T4prime</th>\n",
       "      <th>T5prime</th>\n",
       "      <th>S1prime</th>\n",
       "      <th>S2prime</th>\n",
       "      <th>S3prime</th>\n",
       "    </tr>\n",
       "  </thead>\n",
       "  <tbody>\n",
       "    <tr>\n",
       "      <th>0</th>\n",
       "      <td>-0.181588</td>\n",
       "      <td>0.654566</td>\n",
       "      <td>-0.085350</td>\n",
       "      <td>-0.078111</td>\n",
       "      <td>0.021250</td>\n",
       "      <td>-0.264267</td>\n",
       "      <td>-0.107787</td>\n",
       "      <td>0.171523</td>\n",
       "      <td>0.277127</td>\n",
       "      <td>0.311415</td>\n",
       "      <td>-0.267557</td>\n",
       "      <td>0.277127</td>\n",
       "      <td>-0.254575</td>\n",
       "      <td>0.046769</td>\n",
       "      <td>-0.207260</td>\n",
       "    </tr>\n",
       "    <tr>\n",
       "      <th>1</th>\n",
       "      <td>0.715586</td>\n",
       "      <td>-0.619777</td>\n",
       "      <td>-0.200020</td>\n",
       "      <td>-0.401198</td>\n",
       "      <td>-0.010657</td>\n",
       "      <td>-0.280282</td>\n",
       "      <td>1.483840</td>\n",
       "      <td>0.233747</td>\n",
       "      <td>-0.122744</td>\n",
       "      <td>0.080978</td>\n",
       "      <td>-0.323579</td>\n",
       "      <td>-0.122744</td>\n",
       "      <td>-1.182122</td>\n",
       "      <td>0.682673</td>\n",
       "      <td>-0.225859</td>\n",
       "    </tr>\n",
       "    <tr>\n",
       "      <th>2</th>\n",
       "      <td>-0.391147</td>\n",
       "      <td>0.403480</td>\n",
       "      <td>-0.314033</td>\n",
       "      <td>-0.298756</td>\n",
       "      <td>-0.008256</td>\n",
       "      <td>-0.291979</td>\n",
       "      <td>-0.204326</td>\n",
       "      <td>0.119626</td>\n",
       "      <td>1.329710</td>\n",
       "      <td>0.322164</td>\n",
       "      <td>-0.220251</td>\n",
       "      <td>1.329710</td>\n",
       "      <td>3.600135</td>\n",
       "      <td>-0.929846</td>\n",
       "      <td>-0.040877</td>\n",
       "    </tr>\n",
       "    <tr>\n",
       "      <th>3</th>\n",
       "      <td>0.388150</td>\n",
       "      <td>0.382698</td>\n",
       "      <td>-0.332970</td>\n",
       "      <td>-0.318457</td>\n",
       "      <td>-0.006171</td>\n",
       "      <td>-0.291255</td>\n",
       "      <td>-0.217863</td>\n",
       "      <td>-1.277595</td>\n",
       "      <td>1.310960</td>\n",
       "      <td>0.497170</td>\n",
       "      <td>1.291255</td>\n",
       "      <td>1.310960</td>\n",
       "      <td>2.506402</td>\n",
       "      <td>-0.638828</td>\n",
       "      <td>0.631816</td>\n",
       "    </tr>\n",
       "    <tr>\n",
       "      <th>4</th>\n",
       "      <td>-0.456634</td>\n",
       "      <td>-1.266863</td>\n",
       "      <td>-0.182264</td>\n",
       "      <td>-0.170703</td>\n",
       "      <td>0.000021</td>\n",
       "      <td>0.101895</td>\n",
       "      <td>-0.134705</td>\n",
       "      <td>-0.590665</td>\n",
       "      <td>-0.521246</td>\n",
       "      <td>-0.151791</td>\n",
       "      <td>0.485640</td>\n",
       "      <td>-0.521246</td>\n",
       "      <td>-0.459262</td>\n",
       "      <td>0.329788</td>\n",
       "      <td>-0.090566</td>\n",
       "    </tr>\n",
       "  </tbody>\n",
       "</table>\n",
       "</div>"
      ],
      "text/plain": [
       "         C1        C4        C5        C6  C3_impute  C7_impute       C5`  \\\n",
       "0 -0.181588  0.654566 -0.085350 -0.078111   0.021250  -0.264267 -0.107787   \n",
       "1  0.715586 -0.619777 -0.200020 -0.401198  -0.010657  -0.280282  1.483840   \n",
       "2 -0.391147  0.403480 -0.314033 -0.298756  -0.008256  -0.291979 -0.204326   \n",
       "3  0.388150  0.382698 -0.332970 -0.318457  -0.006171  -0.291255 -0.217863   \n",
       "4 -0.456634 -1.266863 -0.182264 -0.170703   0.000021   0.101895 -0.134705   \n",
       "\n",
       "    T1prime   T2prime   T3prime   T4prime   T5prime   S1prime   S2prime  \\\n",
       "0  0.171523  0.277127  0.311415 -0.267557  0.277127 -0.254575  0.046769   \n",
       "1  0.233747 -0.122744  0.080978 -0.323579 -0.122744 -1.182122  0.682673   \n",
       "2  0.119626  1.329710  0.322164 -0.220251  1.329710  3.600135 -0.929846   \n",
       "3 -1.277595  1.310960  0.497170  1.291255  1.310960  2.506402 -0.638828   \n",
       "4 -0.590665 -0.521246 -0.151791  0.485640 -0.521246 -0.459262  0.329788   \n",
       "\n",
       "    S3prime  \n",
       "0 -0.207260  \n",
       "1 -0.225859  \n",
       "2 -0.040877  \n",
       "3  0.631816  \n",
       "4 -0.090566  "
      ]
     },
     "execution_count": 34,
     "metadata": {},
     "output_type": "execute_result"
    }
   ],
   "source": [
    "# import z score\n",
    "from scipy.stats import zscore\n",
    "#data4 = data3[['S1prime_norm', 'S2prime_norm', 'S3prime_norm', 'C1_norm', 'C3_norm',\n",
    "      # 'C4', 'C5_norm', 'C6_norm', 'C7_norm', 'C5prime_norm',\n",
    "      # 'T1prime', 'T2prime_norm', 'T3prime_norm', 'T4prime_norm',\n",
    "     #  'T5prime_norm']]\n",
    "# make sure to exclude the Y1 and Y2\n",
    "data4 = data3[['C1', 'C4', 'C5', 'C6', 'C3_impute', 'C7_impute', 'C5`', 'T1prime',\n",
    "       'T2prime', 'T3prime', 'T4prime', 'T5prime', 'S1prime', 'S2prime',\n",
    "       'S3prime']]\n",
    "\n",
    "data4 = data4.apply(zscore)\n",
    "data4.head()"
   ]
  },
  {
   "cell_type": "code",
   "execution_count": 35,
   "metadata": {},
   "outputs": [
    {
     "data": {
      "text/html": [
       "<div>\n",
       "<style scoped>\n",
       "    .dataframe tbody tr th:only-of-type {\n",
       "        vertical-align: middle;\n",
       "    }\n",
       "\n",
       "    .dataframe tbody tr th {\n",
       "        vertical-align: top;\n",
       "    }\n",
       "\n",
       "    .dataframe thead th {\n",
       "        text-align: right;\n",
       "    }\n",
       "</style>\n",
       "<table border=\"1\" class=\"dataframe\">\n",
       "  <thead>\n",
       "    <tr style=\"text-align: right;\">\n",
       "      <th></th>\n",
       "      <th>C1</th>\n",
       "      <th>C4</th>\n",
       "      <th>C5</th>\n",
       "      <th>C6</th>\n",
       "      <th>C3_impute</th>\n",
       "      <th>C7_impute</th>\n",
       "      <th>C5`</th>\n",
       "      <th>T1prime</th>\n",
       "      <th>T2prime</th>\n",
       "      <th>T3prime</th>\n",
       "      <th>T4prime</th>\n",
       "      <th>T5prime</th>\n",
       "      <th>S1prime</th>\n",
       "      <th>S2prime</th>\n",
       "      <th>S3prime</th>\n",
       "      <th>Y1</th>\n",
       "      <th>Y2</th>\n",
       "    </tr>\n",
       "  </thead>\n",
       "  <tbody>\n",
       "    <tr>\n",
       "      <th>0</th>\n",
       "      <td>-0.181588</td>\n",
       "      <td>0.654566</td>\n",
       "      <td>-0.085350</td>\n",
       "      <td>-0.078111</td>\n",
       "      <td>0.021250</td>\n",
       "      <td>-0.264267</td>\n",
       "      <td>-0.107787</td>\n",
       "      <td>0.171523</td>\n",
       "      <td>0.277127</td>\n",
       "      <td>0.311415</td>\n",
       "      <td>-0.267557</td>\n",
       "      <td>0.277127</td>\n",
       "      <td>-0.254575</td>\n",
       "      <td>0.046769</td>\n",
       "      <td>-0.207260</td>\n",
       "      <td>0</td>\n",
       "      <td>1</td>\n",
       "    </tr>\n",
       "    <tr>\n",
       "      <th>1</th>\n",
       "      <td>0.715586</td>\n",
       "      <td>-0.619777</td>\n",
       "      <td>-0.200020</td>\n",
       "      <td>-0.401198</td>\n",
       "      <td>-0.010657</td>\n",
       "      <td>-0.280282</td>\n",
       "      <td>1.483840</td>\n",
       "      <td>0.233747</td>\n",
       "      <td>-0.122744</td>\n",
       "      <td>0.080978</td>\n",
       "      <td>-0.323579</td>\n",
       "      <td>-0.122744</td>\n",
       "      <td>-1.182122</td>\n",
       "      <td>0.682673</td>\n",
       "      <td>-0.225859</td>\n",
       "      <td>1</td>\n",
       "      <td>0</td>\n",
       "    </tr>\n",
       "    <tr>\n",
       "      <th>2</th>\n",
       "      <td>-0.391147</td>\n",
       "      <td>0.403480</td>\n",
       "      <td>-0.314033</td>\n",
       "      <td>-0.298756</td>\n",
       "      <td>-0.008256</td>\n",
       "      <td>-0.291979</td>\n",
       "      <td>-0.204326</td>\n",
       "      <td>0.119626</td>\n",
       "      <td>1.329710</td>\n",
       "      <td>0.322164</td>\n",
       "      <td>-0.220251</td>\n",
       "      <td>1.329710</td>\n",
       "      <td>3.600135</td>\n",
       "      <td>-0.929846</td>\n",
       "      <td>-0.040877</td>\n",
       "      <td>1</td>\n",
       "      <td>0</td>\n",
       "    </tr>\n",
       "    <tr>\n",
       "      <th>3</th>\n",
       "      <td>0.388150</td>\n",
       "      <td>0.382698</td>\n",
       "      <td>-0.332970</td>\n",
       "      <td>-0.318457</td>\n",
       "      <td>-0.006171</td>\n",
       "      <td>-0.291255</td>\n",
       "      <td>-0.217863</td>\n",
       "      <td>-1.277595</td>\n",
       "      <td>1.310960</td>\n",
       "      <td>0.497170</td>\n",
       "      <td>1.291255</td>\n",
       "      <td>1.310960</td>\n",
       "      <td>2.506402</td>\n",
       "      <td>-0.638828</td>\n",
       "      <td>0.631816</td>\n",
       "      <td>1</td>\n",
       "      <td>0</td>\n",
       "    </tr>\n",
       "    <tr>\n",
       "      <th>4</th>\n",
       "      <td>-0.456634</td>\n",
       "      <td>-1.266863</td>\n",
       "      <td>-0.182264</td>\n",
       "      <td>-0.170703</td>\n",
       "      <td>0.000021</td>\n",
       "      <td>0.101895</td>\n",
       "      <td>-0.134705</td>\n",
       "      <td>-0.590665</td>\n",
       "      <td>-0.521246</td>\n",
       "      <td>-0.151791</td>\n",
       "      <td>0.485640</td>\n",
       "      <td>-0.521246</td>\n",
       "      <td>-0.459262</td>\n",
       "      <td>0.329788</td>\n",
       "      <td>-0.090566</td>\n",
       "      <td>0</td>\n",
       "      <td>1</td>\n",
       "    </tr>\n",
       "  </tbody>\n",
       "</table>\n",
       "</div>"
      ],
      "text/plain": [
       "         C1        C4        C5        C6  C3_impute  C7_impute       C5`  \\\n",
       "0 -0.181588  0.654566 -0.085350 -0.078111   0.021250  -0.264267 -0.107787   \n",
       "1  0.715586 -0.619777 -0.200020 -0.401198  -0.010657  -0.280282  1.483840   \n",
       "2 -0.391147  0.403480 -0.314033 -0.298756  -0.008256  -0.291979 -0.204326   \n",
       "3  0.388150  0.382698 -0.332970 -0.318457  -0.006171  -0.291255 -0.217863   \n",
       "4 -0.456634 -1.266863 -0.182264 -0.170703   0.000021   0.101895 -0.134705   \n",
       "\n",
       "    T1prime   T2prime   T3prime   T4prime   T5prime   S1prime   S2prime  \\\n",
       "0  0.171523  0.277127  0.311415 -0.267557  0.277127 -0.254575  0.046769   \n",
       "1  0.233747 -0.122744  0.080978 -0.323579 -0.122744 -1.182122  0.682673   \n",
       "2  0.119626  1.329710  0.322164 -0.220251  1.329710  3.600135 -0.929846   \n",
       "3 -1.277595  1.310960  0.497170  1.291255  1.310960  2.506402 -0.638828   \n",
       "4 -0.590665 -0.521246 -0.151791  0.485640 -0.521246 -0.459262  0.329788   \n",
       "\n",
       "    S3prime  Y1  Y2  \n",
       "0 -0.207260   0   1  \n",
       "1 -0.225859   1   0  \n",
       "2 -0.040877   1   0  \n",
       "3  0.631816   1   0  \n",
       "4 -0.090566   0   1  "
      ]
     },
     "execution_count": 35,
     "metadata": {},
     "output_type": "execute_result"
    }
   ],
   "source": [
    "# add back the Y1 and Y2 (maybe also the categoricals)\n",
    "data4 = pd.concat([data4, data3[['Y1','Y2']]],axis = 1)\n",
    "data4.head()"
   ]
  },
  {
   "cell_type": "code",
   "execution_count": 36,
   "metadata": {},
   "outputs": [
    {
     "data": {
      "text/plain": [
       "C1           0\n",
       "C4           0\n",
       "C5           0\n",
       "C6           0\n",
       "C3_impute    0\n",
       "C7_impute    0\n",
       "C5`          0\n",
       "T1prime      0\n",
       "T2prime      0\n",
       "T3prime      0\n",
       "T4prime      0\n",
       "T5prime      0\n",
       "S1prime      0\n",
       "S2prime      0\n",
       "S3prime      0\n",
       "Y1           0\n",
       "Y2           0\n",
       "dtype: int64"
      ]
     },
     "execution_count": 36,
     "metadata": {},
     "output_type": "execute_result"
    }
   ],
   "source": [
    "data4.isnull().sum()"
   ]
  },
  {
   "cell_type": "code",
   "execution_count": 37,
   "metadata": {},
   "outputs": [],
   "source": [
    "data4.to_csv('norm_outlier_zscore.csv')"
   ]
  },
  {
   "cell_type": "code",
   "execution_count": null,
   "metadata": {},
   "outputs": [],
   "source": []
  },
  {
   "cell_type": "code",
   "execution_count": 38,
   "metadata": {},
   "outputs": [],
   "source": [
    "# add back categoricals: C3` and C2 \n",
    "# Bin I3 and add it back to the dataframe"
   ]
  },
  {
   "cell_type": "markdown",
   "metadata": {},
   "source": [
    "Binning and including categorical values in a dataframe"
   ]
  },
  {
   "cell_type": "code",
   "execution_count": 39,
   "metadata": {},
   "outputs": [
    {
     "name": "stdout",
     "output_type": "stream",
     "text": [
      "<class 'pandas.core.frame.DataFrame'>\n",
      "Int64Index: 660 entries, 0 to 681\n",
      "Data columns (total 17 columns):\n",
      "C1           660 non-null float64\n",
      "C4           660 non-null float64\n",
      "C5           660 non-null float64\n",
      "C6           660 non-null float64\n",
      "C3_impute    660 non-null float64\n",
      "C7_impute    660 non-null float64\n",
      "C5`          660 non-null float64\n",
      "T1prime      660 non-null float64\n",
      "T2prime      660 non-null float64\n",
      "T3prime      660 non-null float64\n",
      "T4prime      660 non-null float64\n",
      "T5prime      660 non-null float64\n",
      "S1prime      660 non-null float64\n",
      "S2prime      660 non-null float64\n",
      "S3prime      660 non-null float64\n",
      "Y1           660 non-null int64\n",
      "Y2           660 non-null int64\n",
      "dtypes: float64(15), int64(2)\n",
      "memory usage: 92.8 KB\n"
     ]
    }
   ],
   "source": [
    "data4.info()"
   ]
  },
  {
   "cell_type": "code",
   "execution_count": 40,
   "metadata": {},
   "outputs": [
    {
     "data": {
      "text/plain": [
       "0    345\n",
       "1    315\n",
       "Name: C3`, dtype: int64"
      ]
     },
     "execution_count": 40,
     "metadata": {},
     "output_type": "execute_result"
    }
   ],
   "source": [
    "data['C3`'].value_counts()"
   ]
  },
  {
   "cell_type": "markdown",
   "metadata": {},
   "source": [
    "## ADD C3` later"
   ]
  },
  {
   "cell_type": "code",
   "execution_count": 41,
   "metadata": {},
   "outputs": [
    {
     "data": {
      "text/html": [
       "<div>\n",
       "<style scoped>\n",
       "    .dataframe tbody tr th:only-of-type {\n",
       "        vertical-align: middle;\n",
       "    }\n",
       "\n",
       "    .dataframe tbody tr th {\n",
       "        vertical-align: top;\n",
       "    }\n",
       "\n",
       "    .dataframe thead th {\n",
       "        text-align: right;\n",
       "    }\n",
       "</style>\n",
       "<table border=\"1\" class=\"dataframe\">\n",
       "  <thead>\n",
       "    <tr style=\"text-align: right;\">\n",
       "      <th></th>\n",
       "      <th>C2</th>\n",
       "      <th>I3</th>\n",
       "      <th>C3`</th>\n",
       "      <th>C1</th>\n",
       "      <th>C4</th>\n",
       "      <th>C5</th>\n",
       "      <th>C6</th>\n",
       "      <th>C3_impute</th>\n",
       "      <th>C7_impute</th>\n",
       "      <th>C5`</th>\n",
       "      <th>T1prime</th>\n",
       "      <th>T2prime</th>\n",
       "      <th>T3prime</th>\n",
       "      <th>T4prime</th>\n",
       "      <th>T5prime</th>\n",
       "      <th>S1prime</th>\n",
       "      <th>S2prime</th>\n",
       "      <th>S3prime</th>\n",
       "      <th>Y1</th>\n",
       "      <th>Y2</th>\n",
       "    </tr>\n",
       "  </thead>\n",
       "  <tbody>\n",
       "    <tr>\n",
       "      <th>0</th>\n",
       "      <td>1</td>\n",
       "      <td>3674</td>\n",
       "      <td>1</td>\n",
       "      <td>-0.181588</td>\n",
       "      <td>0.654566</td>\n",
       "      <td>-0.085350</td>\n",
       "      <td>-0.078111</td>\n",
       "      <td>0.021250</td>\n",
       "      <td>-0.264267</td>\n",
       "      <td>-0.107787</td>\n",
       "      <td>0.171523</td>\n",
       "      <td>0.277127</td>\n",
       "      <td>0.311415</td>\n",
       "      <td>-0.267557</td>\n",
       "      <td>0.277127</td>\n",
       "      <td>-0.254575</td>\n",
       "      <td>0.046769</td>\n",
       "      <td>-0.207260</td>\n",
       "      <td>0</td>\n",
       "      <td>1</td>\n",
       "    </tr>\n",
       "    <tr>\n",
       "      <th>1</th>\n",
       "      <td>0</td>\n",
       "      <td>2834</td>\n",
       "      <td>0</td>\n",
       "      <td>0.715586</td>\n",
       "      <td>-0.619777</td>\n",
       "      <td>-0.200020</td>\n",
       "      <td>-0.401198</td>\n",
       "      <td>-0.010657</td>\n",
       "      <td>-0.280282</td>\n",
       "      <td>1.483840</td>\n",
       "      <td>0.233747</td>\n",
       "      <td>-0.122744</td>\n",
       "      <td>0.080978</td>\n",
       "      <td>-0.323579</td>\n",
       "      <td>-0.122744</td>\n",
       "      <td>-1.182122</td>\n",
       "      <td>0.682673</td>\n",
       "      <td>-0.225859</td>\n",
       "      <td>1</td>\n",
       "      <td>0</td>\n",
       "    </tr>\n",
       "    <tr>\n",
       "      <th>2</th>\n",
       "      <td>1</td>\n",
       "      <td>2834</td>\n",
       "      <td>0</td>\n",
       "      <td>-0.391147</td>\n",
       "      <td>0.403480</td>\n",
       "      <td>-0.314033</td>\n",
       "      <td>-0.298756</td>\n",
       "      <td>-0.008256</td>\n",
       "      <td>-0.291979</td>\n",
       "      <td>-0.204326</td>\n",
       "      <td>0.119626</td>\n",
       "      <td>1.329710</td>\n",
       "      <td>0.322164</td>\n",
       "      <td>-0.220251</td>\n",
       "      <td>1.329710</td>\n",
       "      <td>3.600135</td>\n",
       "      <td>-0.929846</td>\n",
       "      <td>-0.040877</td>\n",
       "      <td>1</td>\n",
       "      <td>0</td>\n",
       "    </tr>\n",
       "    <tr>\n",
       "      <th>3</th>\n",
       "      <td>1</td>\n",
       "      <td>2834</td>\n",
       "      <td>0</td>\n",
       "      <td>0.388150</td>\n",
       "      <td>0.382698</td>\n",
       "      <td>-0.332970</td>\n",
       "      <td>-0.318457</td>\n",
       "      <td>-0.006171</td>\n",
       "      <td>-0.291255</td>\n",
       "      <td>-0.217863</td>\n",
       "      <td>-1.277595</td>\n",
       "      <td>1.310960</td>\n",
       "      <td>0.497170</td>\n",
       "      <td>1.291255</td>\n",
       "      <td>1.310960</td>\n",
       "      <td>2.506402</td>\n",
       "      <td>-0.638828</td>\n",
       "      <td>0.631816</td>\n",
       "      <td>1</td>\n",
       "      <td>0</td>\n",
       "    </tr>\n",
       "    <tr>\n",
       "      <th>4</th>\n",
       "      <td>1</td>\n",
       "      <td>4492</td>\n",
       "      <td>1</td>\n",
       "      <td>-0.456634</td>\n",
       "      <td>-1.266863</td>\n",
       "      <td>-0.182264</td>\n",
       "      <td>-0.170703</td>\n",
       "      <td>0.000021</td>\n",
       "      <td>0.101895</td>\n",
       "      <td>-0.134705</td>\n",
       "      <td>-0.590665</td>\n",
       "      <td>-0.521246</td>\n",
       "      <td>-0.151791</td>\n",
       "      <td>0.485640</td>\n",
       "      <td>-0.521246</td>\n",
       "      <td>-0.459262</td>\n",
       "      <td>0.329788</td>\n",
       "      <td>-0.090566</td>\n",
       "      <td>0</td>\n",
       "      <td>1</td>\n",
       "    </tr>\n",
       "  </tbody>\n",
       "</table>\n",
       "</div>"
      ],
      "text/plain": [
       "   C2    I3  C3`        C1        C4        C5        C6  C3_impute  \\\n",
       "0   1  3674    1 -0.181588  0.654566 -0.085350 -0.078111   0.021250   \n",
       "1   0  2834    0  0.715586 -0.619777 -0.200020 -0.401198  -0.010657   \n",
       "2   1  2834    0 -0.391147  0.403480 -0.314033 -0.298756  -0.008256   \n",
       "3   1  2834    0  0.388150  0.382698 -0.332970 -0.318457  -0.006171   \n",
       "4   1  4492    1 -0.456634 -1.266863 -0.182264 -0.170703   0.000021   \n",
       "\n",
       "   C7_impute       C5`   T1prime   T2prime   T3prime   T4prime   T5prime  \\\n",
       "0  -0.264267 -0.107787  0.171523  0.277127  0.311415 -0.267557  0.277127   \n",
       "1  -0.280282  1.483840  0.233747 -0.122744  0.080978 -0.323579 -0.122744   \n",
       "2  -0.291979 -0.204326  0.119626  1.329710  0.322164 -0.220251  1.329710   \n",
       "3  -0.291255 -0.217863 -1.277595  1.310960  0.497170  1.291255  1.310960   \n",
       "4   0.101895 -0.134705 -0.590665 -0.521246 -0.151791  0.485640 -0.521246   \n",
       "\n",
       "    S1prime   S2prime   S3prime  Y1  Y2  \n",
       "0 -0.254575  0.046769 -0.207260   0   1  \n",
       "1 -1.182122  0.682673 -0.225859   1   0  \n",
       "2  3.600135 -0.929846 -0.040877   1   0  \n",
       "3  2.506402 -0.638828  0.631816   1   0  \n",
       "4 -0.459262  0.329788 -0.090566   0   1  "
      ]
     },
     "execution_count": 41,
     "metadata": {},
     "output_type": "execute_result"
    }
   ],
   "source": [
    "all_data = pd.concat([data[['C2','I3','C3`']], data4], axis=1)\n",
    "all_data.head()"
   ]
  },
  {
   "cell_type": "code",
   "execution_count": 42,
   "metadata": {},
   "outputs": [
    {
     "name": "stdout",
     "output_type": "stream",
     "text": [
      "<class 'pandas.core.frame.DataFrame'>\n",
      "Int64Index: 660 entries, 0 to 681\n",
      "Data columns (total 20 columns):\n",
      "C2           660 non-null int64\n",
      "I3           660 non-null object\n",
      "C3`          660 non-null int64\n",
      "C1           660 non-null float64\n",
      "C4           660 non-null float64\n",
      "C5           660 non-null float64\n",
      "C6           660 non-null float64\n",
      "C3_impute    660 non-null float64\n",
      "C7_impute    660 non-null float64\n",
      "C5`          660 non-null float64\n",
      "T1prime      660 non-null float64\n",
      "T2prime      660 non-null float64\n",
      "T3prime      660 non-null float64\n",
      "T4prime      660 non-null float64\n",
      "T5prime      660 non-null float64\n",
      "S1prime      660 non-null float64\n",
      "S2prime      660 non-null float64\n",
      "S3prime      660 non-null float64\n",
      "Y1           660 non-null int64\n",
      "Y2           660 non-null int64\n",
      "dtypes: float64(15), int64(4), object(1)\n",
      "memory usage: 108.3+ KB\n"
     ]
    }
   ],
   "source": [
    "all_data.info()"
   ]
  },
  {
   "cell_type": "markdown",
   "metadata": {},
   "source": [
    "0100-0999\tAgriculture, Forestry and Fishing\n",
    "1000-1499\tMining\n",
    "1500-1799\tConstruction\n",
    "2000-3999\tManufacturing\n",
    "4000-4999\tTransportation, Communications, Electric, Gas and Sanitary service\n",
    "5000-5199\tWholesale Trade\n",
    "5200-5999\tRetail Trade\n",
    "6000-6799\tFinance, Insurance and Real Estate\n",
    "7000-8999\tServices\n",
    "9100-9729\tPublic Administration\n",
    "9900-9999\tNonclassifiable"
   ]
  },
  {
   "cell_type": "markdown",
   "metadata": {},
   "source": [
    "We notice an error in I3 for Dolby Laboratories. It seems they are participating in many industries. However, when searching online we found out that the its a company specializing in audio noise reduction and audio encoding/compression. Dolby licenses its technologies to consumer electronics manufacturers. Therefore we will change its I3 to 4000. "
   ]
  },
  {
   "cell_type": "markdown",
   "metadata": {},
   "source": [
    "DTS, Inc. is an American company that makes multichannel audio technologies for film and video. Based in Calabasas, California, the company introduced its DTS technology in 1993 as a higher-quality competitor to Dolby Laboratories. So we will change it to 4000. "
   ]
  },
  {
   "cell_type": "markdown",
   "metadata": {},
   "source": [
    "RealD Inc. is a private company known for its RealD 3D system, which is used for projecting films in stereoscopic 3D using circularly polarized light."
   ]
  },
  {
   "cell_type": "markdown",
   "metadata": {},
   "source": [
    "UPG's energy storage solutions"
   ]
  },
  {
   "cell_type": "code",
   "execution_count": 43,
   "metadata": {},
   "outputs": [],
   "source": [
    "#all_data[all_data['I3']=='6794, 3861, 3663, 7819']"
   ]
  },
  {
   "cell_type": "code",
   "execution_count": 44,
   "metadata": {},
   "outputs": [],
   "source": [
    "#data['I2'].loc[174:,]"
   ]
  },
  {
   "cell_type": "code",
   "execution_count": 45,
   "metadata": {},
   "outputs": [],
   "source": [
    "#all_data[all_data['I3']=='3651, 6794, 7819']"
   ]
  },
  {
   "cell_type": "code",
   "execution_count": 46,
   "metadata": {},
   "outputs": [],
   "source": [
    "#data['I2'].loc[187:,]"
   ]
  },
  {
   "cell_type": "code",
   "execution_count": 47,
   "metadata": {},
   "outputs": [],
   "source": [
    "#all_data[all_data['I3']=='3663, 3861, 6794']"
   ]
  },
  {
   "cell_type": "code",
   "execution_count": 48,
   "metadata": {},
   "outputs": [],
   "source": [
    "#data['I2'].loc[499:,]"
   ]
  },
  {
   "cell_type": "code",
   "execution_count": 49,
   "metadata": {},
   "outputs": [],
   "source": [
    "#all_data[all_data['I3']=='7389, 5063']"
   ]
  },
  {
   "cell_type": "code",
   "execution_count": 50,
   "metadata": {},
   "outputs": [],
   "source": [
    "#data['I2'].loc[620:,]"
   ]
  },
  {
   "cell_type": "code",
   "execution_count": 51,
   "metadata": {},
   "outputs": [],
   "source": [
    "# replace\n",
    "#all_data['I3'] = np.where((data['I3'] == '6794, 3861, 3663, 7819'),'4000',data['I3'])\n",
    "# all_data['I3'] = np.where((data['I3'] == '3651, 6794, 7819'),'4000',data['I3'])\n",
    "#all_data['I3'].loc[(all_data['I3'] == '6794, 3861, 3663, 7819')] = '4000'\n",
    "#all_data['I3'].loc[(all_data['I3'] == '3651, 6794, 7819')] = '4000'\n",
    "#all_data['I3'].loc[(all_data['I3'] == '3663, 3861, 6794')] = '4000'\n",
    "#all_data['I3'].loc[(all_data['I3'] == '7389, 5063')] = '4000'"
   ]
  },
  {
   "cell_type": "code",
   "execution_count": null,
   "metadata": {},
   "outputs": [],
   "source": []
  },
  {
   "cell_type": "code",
   "execution_count": 52,
   "metadata": {},
   "outputs": [],
   "source": [
    "# check\n",
    "#all_data[all_data['I3']=='3651, 6794, 7819']"
   ]
  },
  {
   "cell_type": "code",
   "execution_count": 53,
   "metadata": {},
   "outputs": [],
   "source": [
    "#all_data[all_data['I3']=='6794, 3861, 3663, 7819']"
   ]
  },
  {
   "cell_type": "code",
   "execution_count": 54,
   "metadata": {},
   "outputs": [],
   "source": [
    "all_data['I3'] = pd.to_numeric(all_data['I3'], errors = 'coerce')\n",
    "all_data['I3'] = all_data['I3'].fillna(4000)\n",
    "all_data['I3'] = all_data['I3'].astype(int)"
   ]
  },
  {
   "cell_type": "code",
   "execution_count": 55,
   "metadata": {},
   "outputs": [
    {
     "name": "stdout",
     "output_type": "stream",
     "text": [
      "<class 'pandas.core.frame.DataFrame'>\n",
      "Int64Index: 660 entries, 0 to 681\n",
      "Data columns (total 20 columns):\n",
      "C2           660 non-null int64\n",
      "I3           660 non-null int64\n",
      "C3`          660 non-null int64\n",
      "C1           660 non-null float64\n",
      "C4           660 non-null float64\n",
      "C5           660 non-null float64\n",
      "C6           660 non-null float64\n",
      "C3_impute    660 non-null float64\n",
      "C7_impute    660 non-null float64\n",
      "C5`          660 non-null float64\n",
      "T1prime      660 non-null float64\n",
      "T2prime      660 non-null float64\n",
      "T3prime      660 non-null float64\n",
      "T4prime      660 non-null float64\n",
      "T5prime      660 non-null float64\n",
      "S1prime      660 non-null float64\n",
      "S2prime      660 non-null float64\n",
      "S3prime      660 non-null float64\n",
      "Y1           660 non-null int64\n",
      "Y2           660 non-null int64\n",
      "dtypes: float64(15), int64(5)\n",
      "memory usage: 108.3 KB\n"
     ]
    }
   ],
   "source": [
    "# convert to numeric\n",
    "#all_data['I3'] = all_data['I3'].astype(int)\n",
    "all_data.info()"
   ]
  },
  {
   "cell_type": "code",
   "execution_count": 58,
   "metadata": {},
   "outputs": [
    {
     "data": {
      "text/html": [
       "<div>\n",
       "<style scoped>\n",
       "    .dataframe tbody tr th:only-of-type {\n",
       "        vertical-align: middle;\n",
       "    }\n",
       "\n",
       "    .dataframe tbody tr th {\n",
       "        vertical-align: top;\n",
       "    }\n",
       "\n",
       "    .dataframe thead th {\n",
       "        text-align: right;\n",
       "    }\n",
       "</style>\n",
       "<table border=\"1\" class=\"dataframe\">\n",
       "  <thead>\n",
       "    <tr style=\"text-align: right;\">\n",
       "      <th></th>\n",
       "      <th>C2</th>\n",
       "      <th>I3</th>\n",
       "      <th>C3`</th>\n",
       "      <th>C1</th>\n",
       "      <th>C4</th>\n",
       "      <th>C5</th>\n",
       "      <th>C6</th>\n",
       "      <th>C3_impute</th>\n",
       "      <th>C7_impute</th>\n",
       "      <th>C5`</th>\n",
       "      <th>...</th>\n",
       "      <th>T2prime</th>\n",
       "      <th>T3prime</th>\n",
       "      <th>T4prime</th>\n",
       "      <th>T5prime</th>\n",
       "      <th>S1prime</th>\n",
       "      <th>S2prime</th>\n",
       "      <th>S3prime</th>\n",
       "      <th>Y1</th>\n",
       "      <th>Y2</th>\n",
       "      <th>I3_bin</th>\n",
       "    </tr>\n",
       "  </thead>\n",
       "  <tbody>\n",
       "    <tr>\n",
       "      <th>0</th>\n",
       "      <td>1</td>\n",
       "      <td>3674</td>\n",
       "      <td>1</td>\n",
       "      <td>-0.181588</td>\n",
       "      <td>0.654566</td>\n",
       "      <td>-0.085350</td>\n",
       "      <td>-0.078111</td>\n",
       "      <td>0.021250</td>\n",
       "      <td>-0.264267</td>\n",
       "      <td>-0.107787</td>\n",
       "      <td>...</td>\n",
       "      <td>0.277127</td>\n",
       "      <td>0.311415</td>\n",
       "      <td>-0.267557</td>\n",
       "      <td>0.277127</td>\n",
       "      <td>-0.254575</td>\n",
       "      <td>0.046769</td>\n",
       "      <td>-0.207260</td>\n",
       "      <td>0</td>\n",
       "      <td>1</td>\n",
       "      <td>2</td>\n",
       "    </tr>\n",
       "    <tr>\n",
       "      <th>1</th>\n",
       "      <td>0</td>\n",
       "      <td>2834</td>\n",
       "      <td>0</td>\n",
       "      <td>0.715586</td>\n",
       "      <td>-0.619777</td>\n",
       "      <td>-0.200020</td>\n",
       "      <td>-0.401198</td>\n",
       "      <td>-0.010657</td>\n",
       "      <td>-0.280282</td>\n",
       "      <td>1.483840</td>\n",
       "      <td>...</td>\n",
       "      <td>-0.122744</td>\n",
       "      <td>0.080978</td>\n",
       "      <td>-0.323579</td>\n",
       "      <td>-0.122744</td>\n",
       "      <td>-1.182122</td>\n",
       "      <td>0.682673</td>\n",
       "      <td>-0.225859</td>\n",
       "      <td>1</td>\n",
       "      <td>0</td>\n",
       "      <td>2</td>\n",
       "    </tr>\n",
       "    <tr>\n",
       "      <th>2</th>\n",
       "      <td>1</td>\n",
       "      <td>2834</td>\n",
       "      <td>0</td>\n",
       "      <td>-0.391147</td>\n",
       "      <td>0.403480</td>\n",
       "      <td>-0.314033</td>\n",
       "      <td>-0.298756</td>\n",
       "      <td>-0.008256</td>\n",
       "      <td>-0.291979</td>\n",
       "      <td>-0.204326</td>\n",
       "      <td>...</td>\n",
       "      <td>1.329710</td>\n",
       "      <td>0.322164</td>\n",
       "      <td>-0.220251</td>\n",
       "      <td>1.329710</td>\n",
       "      <td>3.600135</td>\n",
       "      <td>-0.929846</td>\n",
       "      <td>-0.040877</td>\n",
       "      <td>1</td>\n",
       "      <td>0</td>\n",
       "      <td>2</td>\n",
       "    </tr>\n",
       "    <tr>\n",
       "      <th>3</th>\n",
       "      <td>1</td>\n",
       "      <td>2834</td>\n",
       "      <td>0</td>\n",
       "      <td>0.388150</td>\n",
       "      <td>0.382698</td>\n",
       "      <td>-0.332970</td>\n",
       "      <td>-0.318457</td>\n",
       "      <td>-0.006171</td>\n",
       "      <td>-0.291255</td>\n",
       "      <td>-0.217863</td>\n",
       "      <td>...</td>\n",
       "      <td>1.310960</td>\n",
       "      <td>0.497170</td>\n",
       "      <td>1.291255</td>\n",
       "      <td>1.310960</td>\n",
       "      <td>2.506402</td>\n",
       "      <td>-0.638828</td>\n",
       "      <td>0.631816</td>\n",
       "      <td>1</td>\n",
       "      <td>0</td>\n",
       "      <td>2</td>\n",
       "    </tr>\n",
       "    <tr>\n",
       "      <th>4</th>\n",
       "      <td>1</td>\n",
       "      <td>4492</td>\n",
       "      <td>1</td>\n",
       "      <td>-0.456634</td>\n",
       "      <td>-1.266863</td>\n",
       "      <td>-0.182264</td>\n",
       "      <td>-0.170703</td>\n",
       "      <td>0.000021</td>\n",
       "      <td>0.101895</td>\n",
       "      <td>-0.134705</td>\n",
       "      <td>...</td>\n",
       "      <td>-0.521246</td>\n",
       "      <td>-0.151791</td>\n",
       "      <td>0.485640</td>\n",
       "      <td>-0.521246</td>\n",
       "      <td>-0.459262</td>\n",
       "      <td>0.329788</td>\n",
       "      <td>-0.090566</td>\n",
       "      <td>0</td>\n",
       "      <td>1</td>\n",
       "      <td>2</td>\n",
       "    </tr>\n",
       "  </tbody>\n",
       "</table>\n",
       "<p>5 rows × 21 columns</p>\n",
       "</div>"
      ],
      "text/plain": [
       "   C2    I3  C3`        C1        C4        C5        C6  C3_impute  \\\n",
       "0   1  3674    1 -0.181588  0.654566 -0.085350 -0.078111   0.021250   \n",
       "1   0  2834    0  0.715586 -0.619777 -0.200020 -0.401198  -0.010657   \n",
       "2   1  2834    0 -0.391147  0.403480 -0.314033 -0.298756  -0.008256   \n",
       "3   1  2834    0  0.388150  0.382698 -0.332970 -0.318457  -0.006171   \n",
       "4   1  4492    1 -0.456634 -1.266863 -0.182264 -0.170703   0.000021   \n",
       "\n",
       "   C7_impute       C5`  ...   T2prime   T3prime   T4prime   T5prime   S1prime  \\\n",
       "0  -0.264267 -0.107787  ...  0.277127  0.311415 -0.267557  0.277127 -0.254575   \n",
       "1  -0.280282  1.483840  ... -0.122744  0.080978 -0.323579 -0.122744 -1.182122   \n",
       "2  -0.291979 -0.204326  ...  1.329710  0.322164 -0.220251  1.329710  3.600135   \n",
       "3  -0.291255 -0.217863  ...  1.310960  0.497170  1.291255  1.310960  2.506402   \n",
       "4   0.101895 -0.134705  ... -0.521246 -0.151791  0.485640 -0.521246 -0.459262   \n",
       "\n",
       "    S2prime   S3prime  Y1  Y2  I3_bin  \n",
       "0  0.046769 -0.207260   0   1       2  \n",
       "1  0.682673 -0.225859   1   0       2  \n",
       "2 -0.929846 -0.040877   1   0       2  \n",
       "3 -0.638828  0.631816   1   0       2  \n",
       "4  0.329788 -0.090566   0   1       2  \n",
       "\n",
       "[5 rows x 21 columns]"
      ]
     },
     "execution_count": 58,
     "metadata": {},
     "output_type": "execute_result"
    }
   ],
   "source": [
    "# bin I3 into 4 quantiles \n",
    "#all_data['I3_cat'] = pd.qcut(all_data.I3, q=4, labels=False )\n",
    "def assign_bins(I3):\n",
    "    if I3 >= 100 and I3 <= 1799:       \n",
    "        return 1 \n",
    "    elif I3 >= 2000 and I3 <= 5199:       \n",
    "        return 2\n",
    "    elif (I3 >= 5200) and (I3 <= 8999):       \n",
    "        return 3\n",
    "    elif (I3 >= 9100) and (I3 <= 9999):       \n",
    "        return 4\n",
    "    else:       \n",
    "        return 0\n",
    "\n",
    "all_data['I3_bin'] = all_data['I3'].apply(assign_bins)\n",
    "all_data.head()"
   ]
  },
  {
   "cell_type": "code",
   "execution_count": 59,
   "metadata": {},
   "outputs": [],
   "source": [
    "all_data = all_data.drop('I3',axis=1)"
   ]
  },
  {
   "cell_type": "code",
   "execution_count": 60,
   "metadata": {},
   "outputs": [
    {
     "name": "stdout",
     "output_type": "stream",
     "text": [
      "<class 'pandas.core.frame.DataFrame'>\n",
      "Int64Index: 660 entries, 0 to 681\n",
      "Data columns (total 20 columns):\n",
      "C2           660 non-null int64\n",
      "C3`          660 non-null int64\n",
      "C1           660 non-null float64\n",
      "C4           660 non-null float64\n",
      "C5           660 non-null float64\n",
      "C6           660 non-null float64\n",
      "C3_impute    660 non-null float64\n",
      "C7_impute    660 non-null float64\n",
      "C5`          660 non-null float64\n",
      "T1prime      660 non-null float64\n",
      "T2prime      660 non-null float64\n",
      "T3prime      660 non-null float64\n",
      "T4prime      660 non-null float64\n",
      "T5prime      660 non-null float64\n",
      "S1prime      660 non-null float64\n",
      "S2prime      660 non-null float64\n",
      "S3prime      660 non-null float64\n",
      "Y1           660 non-null int64\n",
      "Y2           660 non-null int64\n",
      "I3_bin       660 non-null int64\n",
      "dtypes: float64(15), int64(5)\n",
      "memory usage: 108.3 KB\n"
     ]
    }
   ],
   "source": [
    "all_data.info()"
   ]
  },
  {
   "cell_type": "code",
   "execution_count": 61,
   "metadata": {},
   "outputs": [
    {
     "data": {
      "text/html": [
       "<div>\n",
       "<style scoped>\n",
       "    .dataframe tbody tr th:only-of-type {\n",
       "        vertical-align: middle;\n",
       "    }\n",
       "\n",
       "    .dataframe tbody tr th {\n",
       "        vertical-align: top;\n",
       "    }\n",
       "\n",
       "    .dataframe thead th {\n",
       "        text-align: right;\n",
       "    }\n",
       "</style>\n",
       "<table border=\"1\" class=\"dataframe\">\n",
       "  <thead>\n",
       "    <tr style=\"text-align: right;\">\n",
       "      <th></th>\n",
       "      <th>C2</th>\n",
       "      <th>C3`</th>\n",
       "      <th>C1</th>\n",
       "      <th>C4</th>\n",
       "      <th>C5</th>\n",
       "      <th>C6</th>\n",
       "      <th>C3_impute</th>\n",
       "      <th>C7_impute</th>\n",
       "      <th>C5`</th>\n",
       "      <th>T1prime</th>\n",
       "      <th>T2prime</th>\n",
       "      <th>T3prime</th>\n",
       "      <th>T4prime</th>\n",
       "      <th>T5prime</th>\n",
       "      <th>S1prime</th>\n",
       "      <th>S2prime</th>\n",
       "      <th>S3prime</th>\n",
       "      <th>Y1</th>\n",
       "      <th>Y2</th>\n",
       "      <th>I3_bin</th>\n",
       "    </tr>\n",
       "  </thead>\n",
       "  <tbody>\n",
       "    <tr>\n",
       "      <th>count</th>\n",
       "      <td>660.000000</td>\n",
       "      <td>660.000000</td>\n",
       "      <td>6.600000e+02</td>\n",
       "      <td>6.600000e+02</td>\n",
       "      <td>6.600000e+02</td>\n",
       "      <td>6.600000e+02</td>\n",
       "      <td>6.600000e+02</td>\n",
       "      <td>660.000000</td>\n",
       "      <td>6.600000e+02</td>\n",
       "      <td>6.600000e+02</td>\n",
       "      <td>6.600000e+02</td>\n",
       "      <td>6.600000e+02</td>\n",
       "      <td>6.600000e+02</td>\n",
       "      <td>6.600000e+02</td>\n",
       "      <td>6.600000e+02</td>\n",
       "      <td>6.600000e+02</td>\n",
       "      <td>6.600000e+02</td>\n",
       "      <td>660.000000</td>\n",
       "      <td>660.000000</td>\n",
       "      <td>660.000000</td>\n",
       "    </tr>\n",
       "    <tr>\n",
       "      <th>mean</th>\n",
       "      <td>0.859091</td>\n",
       "      <td>0.477273</td>\n",
       "      <td>5.382900e-17</td>\n",
       "      <td>1.211152e-17</td>\n",
       "      <td>2.287732e-17</td>\n",
       "      <td>-4.979182e-17</td>\n",
       "      <td>2.691450e-18</td>\n",
       "      <td>0.000000</td>\n",
       "      <td>1.264981e-16</td>\n",
       "      <td>6.647881e-16</td>\n",
       "      <td>-9.891078e-16</td>\n",
       "      <td>-7.805204e-16</td>\n",
       "      <td>9.150929e-17</td>\n",
       "      <td>-9.891078e-16</td>\n",
       "      <td>-3.714201e-16</td>\n",
       "      <td>-1.614870e-16</td>\n",
       "      <td>2.906766e-16</td>\n",
       "      <td>0.500000</td>\n",
       "      <td>0.383333</td>\n",
       "      <td>2.325758</td>\n",
       "    </tr>\n",
       "    <tr>\n",
       "      <th>std</th>\n",
       "      <td>0.348192</td>\n",
       "      <td>0.499862</td>\n",
       "      <td>1.000758e+00</td>\n",
       "      <td>1.000758e+00</td>\n",
       "      <td>1.000758e+00</td>\n",
       "      <td>1.000758e+00</td>\n",
       "      <td>1.000758e+00</td>\n",
       "      <td>1.000758</td>\n",
       "      <td>1.000758e+00</td>\n",
       "      <td>1.000758e+00</td>\n",
       "      <td>1.000758e+00</td>\n",
       "      <td>1.000758e+00</td>\n",
       "      <td>1.000758e+00</td>\n",
       "      <td>1.000758e+00</td>\n",
       "      <td>1.000758e+00</td>\n",
       "      <td>1.000758e+00</td>\n",
       "      <td>1.000758e+00</td>\n",
       "      <td>0.500379</td>\n",
       "      <td>0.486567</td>\n",
       "      <td>0.584268</td>\n",
       "    </tr>\n",
       "    <tr>\n",
       "      <th>min</th>\n",
       "      <td>0.000000</td>\n",
       "      <td>0.000000</td>\n",
       "      <td>-9.150444e-01</td>\n",
       "      <td>-5.095282e+00</td>\n",
       "      <td>-4.387506e-01</td>\n",
       "      <td>-4.642399e-01</td>\n",
       "      <td>-4.968118e+00</td>\n",
       "      <td>-0.296583</td>\n",
       "      <td>-8.059098e-01</td>\n",
       "      <td>-3.350152e+00</td>\n",
       "      <td>-2.896318e+00</td>\n",
       "      <td>-5.114341e+00</td>\n",
       "      <td>-2.145306e+00</td>\n",
       "      <td>-2.896318e+00</td>\n",
       "      <td>-2.132147e+00</td>\n",
       "      <td>-2.303949e+00</td>\n",
       "      <td>-2.173972e+00</td>\n",
       "      <td>0.000000</td>\n",
       "      <td>0.000000</td>\n",
       "      <td>0.000000</td>\n",
       "    </tr>\n",
       "    <tr>\n",
       "      <th>25%</th>\n",
       "      <td>1.000000</td>\n",
       "      <td>0.000000</td>\n",
       "      <td>-4.238906e-01</td>\n",
       "      <td>-6.370592e-01</td>\n",
       "      <td>-2.957316e-01</td>\n",
       "      <td>-2.938490e-01</td>\n",
       "      <td>-5.444635e-03</td>\n",
       "      <td>-0.270499</td>\n",
       "      <td>-3.054076e-01</td>\n",
       "      <td>-6.870864e-01</td>\n",
       "      <td>-6.597440e-01</td>\n",
       "      <td>-2.664714e-01</td>\n",
       "      <td>-6.887110e-01</td>\n",
       "      <td>-6.597440e-01</td>\n",
       "      <td>-6.794258e-01</td>\n",
       "      <td>-6.982401e-01</td>\n",
       "      <td>-6.809211e-01</td>\n",
       "      <td>0.000000</td>\n",
       "      <td>0.000000</td>\n",
       "      <td>2.000000</td>\n",
       "    </tr>\n",
       "    <tr>\n",
       "      <th>50%</th>\n",
       "      <td>1.000000</td>\n",
       "      <td>0.000000</td>\n",
       "      <td>-2.798188e-01</td>\n",
       "      <td>5.533966e-02</td>\n",
       "      <td>-2.134361e-01</td>\n",
       "      <td>-2.002540e-01</td>\n",
       "      <td>-4.215840e-04</td>\n",
       "      <td>-0.228898</td>\n",
       "      <td>-1.337754e-01</td>\n",
       "      <td>5.253591e-03</td>\n",
       "      <td>-4.603700e-02</td>\n",
       "      <td>4.850971e-02</td>\n",
       "      <td>-1.140788e-01</td>\n",
       "      <td>-4.603700e-02</td>\n",
       "      <td>-1.591743e-01</td>\n",
       "      <td>-1.605954e-01</td>\n",
       "      <td>-7.663150e-02</td>\n",
       "      <td>0.500000</td>\n",
       "      <td>0.000000</td>\n",
       "      <td>2.000000</td>\n",
       "    </tr>\n",
       "    <tr>\n",
       "      <th>75%</th>\n",
       "      <td>1.000000</td>\n",
       "      <td>1.000000</td>\n",
       "      <td>3.615686e-02</td>\n",
       "      <td>7.295521e-01</td>\n",
       "      <td>7.302684e-04</td>\n",
       "      <td>-2.295012e-02</td>\n",
       "      <td>2.121533e-03</td>\n",
       "      <td>-0.107064</td>\n",
       "      <td>8.590234e-02</td>\n",
       "      <td>6.608603e-01</td>\n",
       "      <td>5.908875e-01</td>\n",
       "      <td>3.299455e-01</td>\n",
       "      <td>5.907226e-01</td>\n",
       "      <td>5.908875e-01</td>\n",
       "      <td>5.382781e-01</td>\n",
       "      <td>4.877858e-01</td>\n",
       "      <td>4.666196e-01</td>\n",
       "      <td>1.000000</td>\n",
       "      <td>1.000000</td>\n",
       "      <td>3.000000</td>\n",
       "    </tr>\n",
       "    <tr>\n",
       "      <th>max</th>\n",
       "      <td>1.000000</td>\n",
       "      <td>1.000000</td>\n",
       "      <td>1.268664e+01</td>\n",
       "      <td>2.571566e+00</td>\n",
       "      <td>1.980057e+01</td>\n",
       "      <td>1.610121e+01</td>\n",
       "      <td>2.441666e+01</td>\n",
       "      <td>19.042227</td>\n",
       "      <td>1.859193e+01</td>\n",
       "      <td>2.844593e+00</td>\n",
       "      <td>5.787340e+00</td>\n",
       "      <td>1.552742e+01</td>\n",
       "      <td>4.901534e+00</td>\n",
       "      <td>5.787340e+00</td>\n",
       "      <td>4.315355e+00</td>\n",
       "      <td>5.186305e+00</td>\n",
       "      <td>6.275939e+00</td>\n",
       "      <td>1.000000</td>\n",
       "      <td>1.000000</td>\n",
       "      <td>3.000000</td>\n",
       "    </tr>\n",
       "  </tbody>\n",
       "</table>\n",
       "</div>"
      ],
      "text/plain": [
       "               C2         C3`            C1            C4            C5  \\\n",
       "count  660.000000  660.000000  6.600000e+02  6.600000e+02  6.600000e+02   \n",
       "mean     0.859091    0.477273  5.382900e-17  1.211152e-17  2.287732e-17   \n",
       "std      0.348192    0.499862  1.000758e+00  1.000758e+00  1.000758e+00   \n",
       "min      0.000000    0.000000 -9.150444e-01 -5.095282e+00 -4.387506e-01   \n",
       "25%      1.000000    0.000000 -4.238906e-01 -6.370592e-01 -2.957316e-01   \n",
       "50%      1.000000    0.000000 -2.798188e-01  5.533966e-02 -2.134361e-01   \n",
       "75%      1.000000    1.000000  3.615686e-02  7.295521e-01  7.302684e-04   \n",
       "max      1.000000    1.000000  1.268664e+01  2.571566e+00  1.980057e+01   \n",
       "\n",
       "                 C6     C3_impute   C7_impute           C5`       T1prime  \\\n",
       "count  6.600000e+02  6.600000e+02  660.000000  6.600000e+02  6.600000e+02   \n",
       "mean  -4.979182e-17  2.691450e-18    0.000000  1.264981e-16  6.647881e-16   \n",
       "std    1.000758e+00  1.000758e+00    1.000758  1.000758e+00  1.000758e+00   \n",
       "min   -4.642399e-01 -4.968118e+00   -0.296583 -8.059098e-01 -3.350152e+00   \n",
       "25%   -2.938490e-01 -5.444635e-03   -0.270499 -3.054076e-01 -6.870864e-01   \n",
       "50%   -2.002540e-01 -4.215840e-04   -0.228898 -1.337754e-01  5.253591e-03   \n",
       "75%   -2.295012e-02  2.121533e-03   -0.107064  8.590234e-02  6.608603e-01   \n",
       "max    1.610121e+01  2.441666e+01   19.042227  1.859193e+01  2.844593e+00   \n",
       "\n",
       "            T2prime       T3prime       T4prime       T5prime       S1prime  \\\n",
       "count  6.600000e+02  6.600000e+02  6.600000e+02  6.600000e+02  6.600000e+02   \n",
       "mean  -9.891078e-16 -7.805204e-16  9.150929e-17 -9.891078e-16 -3.714201e-16   \n",
       "std    1.000758e+00  1.000758e+00  1.000758e+00  1.000758e+00  1.000758e+00   \n",
       "min   -2.896318e+00 -5.114341e+00 -2.145306e+00 -2.896318e+00 -2.132147e+00   \n",
       "25%   -6.597440e-01 -2.664714e-01 -6.887110e-01 -6.597440e-01 -6.794258e-01   \n",
       "50%   -4.603700e-02  4.850971e-02 -1.140788e-01 -4.603700e-02 -1.591743e-01   \n",
       "75%    5.908875e-01  3.299455e-01  5.907226e-01  5.908875e-01  5.382781e-01   \n",
       "max    5.787340e+00  1.552742e+01  4.901534e+00  5.787340e+00  4.315355e+00   \n",
       "\n",
       "            S2prime       S3prime          Y1          Y2      I3_bin  \n",
       "count  6.600000e+02  6.600000e+02  660.000000  660.000000  660.000000  \n",
       "mean  -1.614870e-16  2.906766e-16    0.500000    0.383333    2.325758  \n",
       "std    1.000758e+00  1.000758e+00    0.500379    0.486567    0.584268  \n",
       "min   -2.303949e+00 -2.173972e+00    0.000000    0.000000    0.000000  \n",
       "25%   -6.982401e-01 -6.809211e-01    0.000000    0.000000    2.000000  \n",
       "50%   -1.605954e-01 -7.663150e-02    0.500000    0.000000    2.000000  \n",
       "75%    4.877858e-01  4.666196e-01    1.000000    1.000000    3.000000  \n",
       "max    5.186305e+00  6.275939e+00    1.000000    1.000000    3.000000  "
      ]
     },
     "execution_count": 61,
     "metadata": {},
     "output_type": "execute_result"
    }
   ],
   "source": [
    "all_data.describe()"
   ]
  },
  {
   "cell_type": "code",
   "execution_count": 62,
   "metadata": {},
   "outputs": [
    {
     "data": {
      "text/plain": [
       "Index(['C2', 'C3`', 'C1', 'C4', 'C5', 'C6', 'C3_impute', 'C7_impute', 'C5`',\n",
       "       'T1prime', 'T2prime', 'T3prime', 'T4prime', 'T5prime', 'S1prime',\n",
       "       'S2prime', 'S3prime', 'Y1', 'Y2', 'I3_bin'],\n",
       "      dtype='object')"
      ]
     },
     "execution_count": 62,
     "metadata": {},
     "output_type": "execute_result"
    }
   ],
   "source": [
    "all_data.columns"
   ]
  },
  {
   "cell_type": "code",
   "execution_count": 64,
   "metadata": {},
   "outputs": [],
   "source": [
    "all_data = all_data[['C2', 'C3`', 'C1', 'C4', 'C5', 'C6', 'C3_impute', 'C7_impute', 'C5`',\n",
    "       'T1prime', 'T2prime', 'T3prime', 'T4prime', 'T5prime', 'S1prime',\n",
    "       'S2prime', 'S3prime', 'I3_bin','Y1', 'Y2']]"
   ]
  },
  {
   "cell_type": "code",
   "execution_count": 65,
   "metadata": {},
   "outputs": [
    {
     "name": "stdout",
     "output_type": "stream",
     "text": [
      "<class 'pandas.core.frame.DataFrame'>\n",
      "Int64Index: 660 entries, 0 to 681\n",
      "Data columns (total 20 columns):\n",
      "C2           660 non-null int64\n",
      "C3`          660 non-null int64\n",
      "C1           660 non-null float64\n",
      "C4           660 non-null float64\n",
      "C5           660 non-null float64\n",
      "C6           660 non-null float64\n",
      "C3_impute    660 non-null float64\n",
      "C7_impute    660 non-null float64\n",
      "C5`          660 non-null float64\n",
      "T1prime      660 non-null float64\n",
      "T2prime      660 non-null float64\n",
      "T3prime      660 non-null float64\n",
      "T4prime      660 non-null float64\n",
      "T5prime      660 non-null float64\n",
      "S1prime      660 non-null float64\n",
      "S2prime      660 non-null float64\n",
      "S3prime      660 non-null float64\n",
      "I3_bin       660 non-null int64\n",
      "Y1           660 non-null int64\n",
      "Y2           660 non-null int64\n",
      "dtypes: float64(15), int64(5)\n",
      "memory usage: 108.3 KB\n"
     ]
    }
   ],
   "source": [
    "all_data.info()"
   ]
  },
  {
   "cell_type": "markdown",
   "metadata": {},
   "source": [
    "# Correlation"
   ]
  },
  {
   "cell_type": "code",
   "execution_count": 66,
   "metadata": {},
   "outputs": [
    {
     "data": {
      "text/plain": [
       "C1           False\n",
       "C4           False\n",
       "C5           False\n",
       "C6           False\n",
       "C3_impute    False\n",
       "C7_impute    False\n",
       "C5`          False\n",
       "T1prime      False\n",
       "T2prime      False\n",
       "T3prime      False\n",
       "T4prime      False\n",
       "T5prime      False\n",
       "S1prime      False\n",
       "S2prime      False\n",
       "S3prime      False\n",
       "Y1            True\n",
       "Y2            True\n",
       "Name: Y1, dtype: bool"
      ]
     },
     "execution_count": 66,
     "metadata": {},
     "output_type": "execute_result"
    }
   ],
   "source": [
    "s1 = data4.corr()['Y1'] > 0.5 \n",
    "s2 = data4.corr()['Y1'] < -0.5\n",
    "s1 | s2 # logical OR"
   ]
  },
  {
   "cell_type": "code",
   "execution_count": 67,
   "metadata": {},
   "outputs": [
    {
     "data": {
      "text/plain": [
       "C1           False\n",
       "C4           False\n",
       "C5           False\n",
       "C6           False\n",
       "C3_impute    False\n",
       "C7_impute    False\n",
       "C5`          False\n",
       "T1prime      False\n",
       "T2prime      False\n",
       "T3prime      False\n",
       "T4prime      False\n",
       "T5prime      False\n",
       "S1prime      False\n",
       "S2prime      False\n",
       "S3prime      False\n",
       "Y1            True\n",
       "Y2            True\n",
       "Name: Y2, dtype: bool"
      ]
     },
     "execution_count": 67,
     "metadata": {},
     "output_type": "execute_result"
    }
   ],
   "source": [
    "s3 = data4.corr()['Y2'] > 0.5 \n",
    "s4 = data4.corr()['Y2'] < -0.5\n",
    "s3 | s4 # logical OR"
   ]
  },
  {
   "cell_type": "code",
   "execution_count": 68,
   "metadata": {},
   "outputs": [],
   "source": [
    "# S1, S2, S3, C3, T2, T5 have decent correlation"
   ]
  },
  {
   "cell_type": "code",
   "execution_count": 70,
   "metadata": {},
   "outputs": [
    {
     "data": {
      "image/png": "[encoded data removed]",
      "text/plain": [
       "<Figure size 720x1008 with 2 Axes>"
      ]
     },
     "metadata": {},
     "output_type": "display_data"
    }
   ],
   "source": [
    "import seaborn as sns\n",
    "import matplotlib.pyplot as plt\n",
    "\n",
    "corrMatrix = data4.corr()\n",
    "\n",
    "mask = np.zeros_like(corrMatrix)\n",
    "with sns.axes_style(\"white\"):\n",
    "    f, ax = plt.subplots(figsize=(10, 14))\n",
    "    ax = sns.heatmap(corrMatrix, mask=mask, vmax=.3, square=True,annot=True)"
   ]
  },
  {
   "cell_type": "code",
   "execution_count": 71,
   "metadata": {},
   "outputs": [],
   "source": [
    "# feature selections "
   ]
  },
  {
   "cell_type": "code",
   "execution_count": 72,
   "metadata": {},
   "outputs": [],
   "source": [
    "# Import your necessary dependencies\n",
    "from sklearn.feature_selection import RFE\n",
    "from sklearn.linear_model import LogisticRegression"
   ]
  },
  {
   "cell_type": "code",
   "execution_count": 73,
   "metadata": {},
   "outputs": [],
   "source": [
    "# because we add 3 this will be different \n",
    "# X = array[:,0:17] #features\n",
    "# Y1 = array[:,18] #target\n",
    "# Y2 = array[:,19]\n",
    "array = all_data.values\n",
    "X = array[:,0:17] #features\n",
    "Y1 = array[:,18] #target\n",
    "Y2 = array[:,19]"
   ]
  },
  {
   "cell_type": "markdown",
   "metadata": {},
   "source": [
    "# Skew"
   ]
  },
  {
   "cell_type": "code",
   "execution_count": 87,
   "metadata": {},
   "outputs": [
    {
     "data": {
      "text/plain": [
       "array([0, 1, 1, 1, 0, 0, 1, 1, 1, 1, 1, 0, 0, 1, 1, 0, 1, 1, 0, 1, 0, 0,\n",
       "       1, 0, 1, 1, 0, 1, 1, 1, 0, 1, 0, 0, 0, 0, 0, 0, 0, 0, 1, 0, 1, 1,\n",
       "       1, 0, 1, 1, 0, 1, 1, 0, 1, 0, 1, 0, 1, 0, 1, 0, 1, 1, 1, 0, 0, 0,\n",
       "       0, 0, 1, 0, 0, 0, 1, 1, 0, 0, 1, 1, 0, 1, 0, 0, 1, 0, 1, 1, 0, 1,\n",
       "       1, 1, 0, 1, 0, 0, 0, 0, 0, 1, 0, 0, 1, 0, 0, 0, 0, 1, 1, 1, 0, 1,\n",
       "       0, 1, 1, 1, 0, 1, 0, 0, 0, 0, 0, 1, 1, 1, 0, 0, 1, 1, 1, 1, 0, 0,\n",
       "       0, 0, 0, 1, 0, 0, 0, 1, 1, 0, 1, 0, 1, 1, 0, 0, 1, 0, 0, 0, 1, 0,\n",
       "       1, 0, 0, 0, 0, 1, 1, 1, 0, 0, 0, 1, 1, 0, 0, 0, 0, 0, 0, 0, 1, 0,\n",
       "       0, 1, 1, 0, 1, 1, 0, 0, 1, 1, 1, 0, 0, 0, 1, 1, 1, 0, 1, 1, 1, 1,\n",
       "       0, 0, 0, 1, 1, 1, 1, 1, 1, 1, 0, 0, 1, 1, 1, 1, 0, 1, 0, 0, 1, 0,\n",
       "       0, 1, 0, 0, 0, 1, 0, 1, 1, 0, 0, 0, 1, 1, 0, 1, 0, 0, 0, 1, 1, 0,\n",
       "       0, 1, 0, 1, 1, 1, 0, 1, 1, 1, 0, 1, 1, 1, 1, 1, 0, 0, 1, 1, 1, 0,\n",
       "       1, 1, 0, 0, 0, 0, 1, 0, 1, 1, 0, 0, 0, 1, 1, 0, 1, 0, 1, 0, 0, 1,\n",
       "       1, 0, 1, 0, 0, 1, 0, 1, 1, 1, 1, 1, 0, 1, 0, 1, 0, 0, 1, 0, 0, 1,\n",
       "       0, 0, 1, 0, 0, 1, 0, 0, 1, 1, 1, 0, 1, 1, 0, 1, 1, 1, 0, 0, 1, 0,\n",
       "       1, 0, 0, 1, 0, 0, 1, 0, 1, 0, 1, 1, 0, 0, 0, 1, 0, 1, 1, 1, 1, 1,\n",
       "       0, 1, 0, 1, 1, 0, 1, 0, 1, 1, 1, 1, 1, 1, 1, 0, 1, 0, 0, 0, 0, 0,\n",
       "       1, 0, 1, 1, 1, 0, 1, 0, 0, 1, 0, 0, 0, 1, 0, 1, 0, 1, 1, 1, 0, 0,\n",
       "       0, 1, 0, 1, 0, 0, 0, 1, 1, 0, 1, 0, 0, 1, 0, 1, 1, 1, 0, 0, 1, 1,\n",
       "       1, 0, 1, 1, 1, 1, 1, 0, 1, 1, 0, 1, 1, 0, 1, 0, 1, 0, 1, 0, 0, 1,\n",
       "       0, 1, 0, 1, 1, 1, 1, 1, 1, 1, 0, 1, 0, 1, 0, 0, 0, 0, 0, 0, 0, 1,\n",
       "       0, 1, 1, 0, 0, 0, 0, 0, 1, 0, 1, 0, 0, 0, 1, 0, 1, 1, 1, 0, 0, 0,\n",
       "       1, 1, 1, 1, 1, 1, 1, 0, 1, 1, 0, 1, 0, 0, 0, 0, 1, 1, 1, 1, 0, 1,\n",
       "       0, 1, 1, 0, 0, 1, 0, 1, 0, 1, 0, 0, 0, 0, 0, 0, 0, 1, 1, 1, 1, 1,\n",
       "       0, 0, 0, 0, 1, 0, 1, 0, 0, 0, 1, 0, 0, 1, 1, 1, 1, 1, 1, 0, 0, 0,\n",
       "       0, 0, 1, 1, 1, 0, 0, 1, 0, 1, 1, 1, 1, 0, 0, 0, 1, 1, 1, 1, 0, 0,\n",
       "       1, 0, 1, 1, 0, 1, 0, 1, 1, 1, 1, 0, 0, 0, 0, 1, 0, 1, 0, 0, 1, 0,\n",
       "       1, 0, 0, 1, 0, 1, 1, 0, 0, 1, 0, 0, 1, 0, 0, 1, 1, 1, 0, 0, 1, 1,\n",
       "       0, 1, 0, 0, 1, 1, 0, 1, 0, 0, 0, 1, 1, 1, 0, 1, 0, 1, 0, 0, 0, 1,\n",
       "       0, 1, 1, 0, 0, 0, 1, 0, 1, 1, 0, 1, 1, 0, 0, 0, 1, 0, 1, 0, 0, 0])"
      ]
     },
     "execution_count": 87,
     "metadata": {},
     "output_type": "execute_result"
    }
   ],
   "source": [
    "#perform for y1\n",
    "y1 = pd.Series(Y1)\n",
    "from sklearn.preprocessing import LabelEncoder\n",
    "\n",
    "label_encoder =LabelEncoder()\n",
    "label_encoder = label_encoder.fit(y)\n",
    "y1 = label_encoder.transform(y)\n",
    "y1"
   ]
  },
  {
   "cell_type": "code",
   "execution_count": 88,
   "metadata": {},
   "outputs": [
    {
     "data": {
      "image/png": "[encoded data removed]",
      "text/plain": [
       "<Figure size 1440x360 with 2 Axes>"
      ]
     },
     "metadata": {
      "needs_background": "light"
     },
     "output_type": "display_data"
    }
   ],
   "source": [
    "# plot histograms of original target variable\n",
    "# and aggregated target variable\n",
    "plt.figure(figsize=(20,5));\n",
    "plt.subplot(1, 2, 1 );\n",
    "plt.hist(Y1);\n",
    "plt.xlabel('original target value')\n",
    "plt.ylabel('count')\n",
    "plt.subplot(1, 2, 2);\n",
    "plt.hist(y)\n",
    "plt.xlabel('aggregated target value')\n",
    "plt.show()"
   ]
  },
  {
   "cell_type": "code",
   "execution_count": 89,
   "metadata": {},
   "outputs": [
    {
     "name": "stdout",
     "output_type": "stream",
     "text": [
      "k-NN accuracy for test set: 0.628788\n"
     ]
    }
   ],
   "source": [
    "from sklearn.model_selection import train_test_split\n",
    "X_train, X_test, y_train, y_test = train_test_split(X, y1, test_size=0.2, random_state=2019) #creating a random state\n",
    "\n",
    "from sklearn import neighbors, linear_model\n",
    "knn = neighbors.KNeighborsClassifier(n_neighbors = 5)\n",
    "knn_model_1 = knn.fit(X_train, y_train)\n",
    "print('k-NN accuracy for test set: %f' % knn_model_1.score(X_test, y_test))\n",
    "\n",
    "#without scaling we have about 63% accuracy"
   ]
  },
  {
   "cell_type": "code",
   "execution_count": 97,
   "metadata": {},
   "outputs": [
    {
     "name": "stdout",
     "output_type": "stream",
     "text": [
      "k-NN score for test set: 0.621212\n"
     ]
    }
   ],
   "source": [
    "#scaling model\n",
    "from sklearn.preprocessing import scale\n",
    "Xs = scale(X)\n",
    "from sklearn.model_selection import train_test_split\n",
    "Xs_train, Xs_test, y_train, y_test = train_test_split(Xs, y1, test_size=0.2, random_state=2019)\n",
    "knn_model_2 = knn.fit(Xs_train, y_train)\n",
    "print('k-NN score for test set: %f' % knn_model_2.score(Xs_test, y_test))\n",
    "#print('k-NN score for training set: %f' % knn_model_2.score(Xs_train, y_train))"
   ]
  },
  {
   "cell_type": "code",
   "execution_count": 93,
   "metadata": {},
   "outputs": [
    {
     "data": {
      "text/plain": [
       "array([0, 1, 1, 1, 0, 0, 1, 1, 1, 1, 1, 0, 0, 1, 1, 0, 1, 1, 0, 1, 0, 0,\n",
       "       1, 0, 1, 1, 0, 1, 1, 1, 0, 1, 0, 0, 0, 0, 0, 0, 0, 0, 1, 0, 1, 1,\n",
       "       1, 0, 1, 1, 0, 1, 1, 0, 1, 0, 1, 0, 1, 0, 1, 0, 1, 1, 1, 0, 0, 0,\n",
       "       0, 0, 1, 0, 0, 0, 1, 1, 0, 0, 1, 1, 0, 1, 0, 0, 1, 0, 1, 1, 0, 1,\n",
       "       1, 1, 0, 1, 0, 0, 0, 0, 0, 1, 0, 0, 1, 0, 0, 0, 0, 1, 1, 1, 0, 1,\n",
       "       0, 1, 1, 1, 0, 1, 0, 0, 0, 0, 0, 1, 1, 1, 0, 0, 1, 1, 1, 1, 0, 0,\n",
       "       0, 0, 0, 1, 0, 0, 0, 1, 1, 0, 1, 0, 1, 1, 0, 0, 1, 0, 0, 0, 1, 0,\n",
       "       1, 0, 0, 0, 0, 1, 1, 1, 0, 0, 0, 1, 1, 0, 0, 0, 0, 0, 0, 0, 1, 0,\n",
       "       0, 1, 1, 0, 1, 1, 0, 0, 1, 1, 1, 0, 0, 0, 1, 1, 1, 0, 1, 1, 1, 1,\n",
       "       0, 0, 0, 1, 1, 1, 1, 1, 1, 1, 0, 0, 1, 1, 1, 1, 0, 1, 0, 0, 1, 0,\n",
       "       0, 1, 0, 0, 0, 1, 0, 1, 1, 0, 0, 0, 1, 1, 0, 1, 0, 0, 0, 1, 1, 0,\n",
       "       0, 1, 0, 1, 1, 1, 0, 1, 1, 1, 0, 1, 1, 1, 1, 1, 0, 0, 1, 1, 1, 0,\n",
       "       1, 1, 0, 0, 0, 0, 1, 0, 1, 1, 0, 0, 0, 1, 1, 0, 1, 0, 1, 0, 0, 1,\n",
       "       1, 0, 1, 0, 0, 1, 0, 1, 1, 1, 1, 1, 0, 1, 0, 1, 0, 0, 1, 0, 0, 1,\n",
       "       0, 0, 1, 0, 0, 1, 0, 0, 1, 1, 1, 0, 1, 1, 0, 1, 1, 1, 0, 0, 1, 0,\n",
       "       1, 0, 0, 1, 0, 0, 1, 0, 1, 0, 1, 1, 0, 0, 0, 1, 0, 1, 1, 1, 1, 1,\n",
       "       0, 1, 0, 1, 1, 0, 1, 0, 1, 1, 1, 1, 1, 1, 1, 0, 1, 0, 0, 0, 0, 0,\n",
       "       1, 0, 1, 1, 1, 0, 1, 0, 0, 1, 0, 0, 0, 1, 0, 1, 0, 1, 1, 1, 0, 0,\n",
       "       0, 1, 0, 1, 0, 0, 0, 1, 1, 0, 1, 0, 0, 1, 0, 1, 1, 1, 0, 0, 1, 1,\n",
       "       1, 0, 1, 1, 1, 1, 1, 0, 1, 1, 0, 1, 1, 0, 1, 0, 1, 0, 1, 0, 0, 1,\n",
       "       0, 1, 0, 1, 1, 1, 1, 1, 1, 1, 0, 1, 0, 1, 0, 0, 0, 0, 0, 0, 0, 1,\n",
       "       0, 1, 1, 0, 0, 0, 0, 0, 1, 0, 1, 0, 0, 0, 1, 0, 1, 1, 1, 0, 0, 0,\n",
       "       1, 1, 1, 1, 1, 1, 1, 0, 1, 1, 0, 1, 0, 0, 0, 0, 1, 1, 1, 1, 0, 1,\n",
       "       0, 1, 1, 0, 0, 1, 0, 1, 0, 1, 0, 0, 0, 0, 0, 0, 0, 1, 1, 1, 1, 1,\n",
       "       0, 0, 0, 0, 1, 0, 1, 0, 0, 0, 1, 0, 0, 1, 1, 1, 1, 1, 1, 0, 0, 0,\n",
       "       0, 0, 1, 1, 1, 0, 0, 1, 0, 1, 1, 1, 1, 0, 0, 0, 1, 1, 1, 1, 0, 0,\n",
       "       1, 0, 1, 1, 0, 1, 0, 1, 1, 1, 1, 0, 0, 0, 0, 1, 0, 1, 0, 0, 1, 0,\n",
       "       1, 0, 0, 1, 0, 1, 1, 0, 0, 1, 0, 0, 1, 0, 0, 1, 1, 1, 0, 0, 1, 1,\n",
       "       0, 1, 0, 0, 1, 1, 0, 1, 0, 0, 0, 1, 1, 1, 0, 1, 0, 1, 0, 0, 0, 1,\n",
       "       0, 1, 1, 0, 0, 0, 1, 0, 1, 1, 0, 1, 1, 0, 0, 0, 1, 0, 1, 0, 0, 0])"
      ]
     },
     "execution_count": 93,
     "metadata": {},
     "output_type": "execute_result"
    }
   ],
   "source": [
    "#perform for y2\n",
    "y2 = pd.Series(Y2)\n",
    "from sklearn.preprocessing import LabelEncoder\n",
    "\n",
    "label_encoder =LabelEncoder()\n",
    "label_encoder = label_encoder.fit(y)\n",
    "y2 = label_encoder.transform(y)\n",
    "y2"
   ]
  },
  {
   "cell_type": "code",
   "execution_count": 94,
   "metadata": {},
   "outputs": [
    {
     "name": "stdout",
     "output_type": "stream",
     "text": [
      "k-NN accuracy for test set: 0.628788\n"
     ]
    }
   ],
   "source": [
    "from sklearn.model_selection import train_test_split\n",
    "X_train, X_test, y_train, y_test = train_test_split(X, y2, test_size=0.2, random_state=2019) #creating a random state\n",
    "\n",
    "from sklearn import neighbors, linear_model\n",
    "knn = neighbors.KNeighborsClassifier(n_neighbors = 5)\n",
    "knn_model_1 = knn.fit(X_train, y_train)\n",
    "print('k-NN accuracy for test set: %f' % knn_model_1.score(X_test, y_test))\n",
    "\n",
    "#without scaling we have about 63% accuracy"
   ]
  },
  {
   "cell_type": "code",
   "execution_count": 95,
   "metadata": {},
   "outputs": [
    {
     "name": "stdout",
     "output_type": "stream",
     "text": [
      "k-NN score for test set: 0.621212\n"
     ]
    }
   ],
   "source": [
    "#scaling model\n",
    "from sklearn.preprocessing import scale\n",
    "Xs = scale(X)\n",
    "from sklearn.model_selection import train_test_split\n",
    "Xs_train, Xs_test, y_train, y_test = train_test_split(Xs, y2, test_size=0.2, random_state=2019)\n",
    "knn_model_2 = knn.fit(Xs_train, y_train)\n",
    "print('k-NN score for test set: %f' % knn_model_2.score(Xs_test, y_test))\n",
    "#print('k-NN score for training set: %f' % knn_model_2.score(Xs_train, y_train))"
   ]
  },
  {
   "cell_type": "code",
   "execution_count": 74,
   "metadata": {},
   "outputs": [
    {
     "data": {
      "text/plain": [
       "(660, 17)"
      ]
     },
     "execution_count": 74,
     "metadata": {},
     "output_type": "execute_result"
    }
   ],
   "source": [
    "X.shape"
   ]
  },
  {
   "cell_type": "code",
   "execution_count": 75,
   "metadata": {},
   "outputs": [
    {
     "data": {
      "text/plain": [
       "(660,)"
      ]
     },
     "execution_count": 75,
     "metadata": {},
     "output_type": "execute_result"
    }
   ],
   "source": [
    "Y1.shape"
   ]
  },
  {
   "cell_type": "code",
   "execution_count": 76,
   "metadata": {},
   "outputs": [
    {
     "data": {
      "text/plain": [
       "(660,)"
      ]
     },
     "execution_count": 76,
     "metadata": {},
     "output_type": "execute_result"
    }
   ],
   "source": [
    "Y2.shape"
   ]
  },
  {
   "cell_type": "code",
   "execution_count": 77,
   "metadata": {},
   "outputs": [],
   "source": [
    "# test and add to see if performance is going up or down "
   ]
  },
  {
   "cell_type": "code",
   "execution_count": 78,
   "metadata": {},
   "outputs": [
    {
     "data": {
      "text/plain": [
       "Index(['C2', 'C3`', 'C1', 'C4', 'C5', 'C6', 'C3_impute', 'C7_impute', 'C5`',\n",
       "       'T1prime', 'T2prime', 'T3prime', 'T4prime', 'T5prime', 'S1prime',\n",
       "       'S2prime', 'S3prime', 'I3_bin', 'Y1', 'Y2'],\n",
       "      dtype='object')"
      ]
     },
     "execution_count": 78,
     "metadata": {},
     "output_type": "execute_result"
    }
   ],
   "source": [
    "all_data.columns"
   ]
  },
  {
   "cell_type": "code",
   "execution_count": 81,
   "metadata": {},
   "outputs": [],
   "source": [
    "# select y1 features\n",
    "#all_data = all_data[['C2','S1prime_norm','C3_norm','C4','T4prime_norm','Y1','C2','C3_norm','C5_norm','C7_norm','T1prime','Y2']]\n",
    "all_data = all_data[['C2','C3`','C5','C3_impute','S3prime','Y1','C2', 'C3`','C4','C5','S3prime','Y2']]\n",
    "all_data.to_csv('all_data_y1y2_seperated.csv')"
   ]
  },
  {
   "cell_type": "code",
   "execution_count": 95,
   "metadata": {},
   "outputs": [
    {
     "ename": "KeyError",
     "evalue": "\"['T4prime_norm'] not in index\"",
     "output_type": "error",
     "traceback": [
      "\u001b[0;31m---------------------------------------------------------------------------\u001b[0m",
      "\u001b[0;31mKeyError\u001b[0m                                  Traceback (most recent call last)",
      "\u001b[0;32m<ipython-input-95-75f0a6dc0660>\u001b[0m in \u001b[0;36m<module>\u001b[0;34m\u001b[0m\n\u001b[0;32m----> 1\u001b[0;31m \u001b[0mall_data\u001b[0m \u001b[0;34m=\u001b[0m \u001b[0mall_data\u001b[0m\u001b[0;34m[\u001b[0m\u001b[0;34m[\u001b[0m\u001b[0;34m'C2'\u001b[0m\u001b[0;34m,\u001b[0m\u001b[0;34m'S1prime_norm'\u001b[0m\u001b[0;34m,\u001b[0m\u001b[0;34m'C3_norm'\u001b[0m\u001b[0;34m,\u001b[0m\u001b[0;34m'C4'\u001b[0m\u001b[0;34m,\u001b[0m\u001b[0;34m'T4prime_norm'\u001b[0m\u001b[0;34m,\u001b[0m\u001b[0;34m'Y1'\u001b[0m\u001b[0;34m]\u001b[0m\u001b[0;34m]\u001b[0m\u001b[0;34m\u001b[0m\u001b[0;34m\u001b[0m\u001b[0m\n\u001b[0m\u001b[1;32m      2\u001b[0m \u001b[0mall_data\u001b[0m\u001b[0;34m.\u001b[0m\u001b[0mto_csv\u001b[0m\u001b[0;34m(\u001b[0m\u001b[0;34m'y1_seperated.csv'\u001b[0m\u001b[0;34m)\u001b[0m\u001b[0;34m\u001b[0m\u001b[0;34m\u001b[0m\u001b[0m\n",
      "\u001b[0;32m/opt/tljh/user/lib/python3.6/site-packages/pandas/core/frame.py\u001b[0m in \u001b[0;36m__getitem__\u001b[0;34m(self, key)\u001b[0m\n\u001b[1;32m   2999\u001b[0m             \u001b[0;32mif\u001b[0m \u001b[0mis_iterator\u001b[0m\u001b[0;34m(\u001b[0m\u001b[0mkey\u001b[0m\u001b[0;34m)\u001b[0m\u001b[0;34m:\u001b[0m\u001b[0;34m\u001b[0m\u001b[0;34m\u001b[0m\u001b[0m\n\u001b[1;32m   3000\u001b[0m                 \u001b[0mkey\u001b[0m \u001b[0;34m=\u001b[0m \u001b[0mlist\u001b[0m\u001b[0;34m(\u001b[0m\u001b[0mkey\u001b[0m\u001b[0;34m)\u001b[0m\u001b[0;34m\u001b[0m\u001b[0;34m\u001b[0m\u001b[0m\n\u001b[0;32m-> 3001\u001b[0;31m             \u001b[0mindexer\u001b[0m \u001b[0;34m=\u001b[0m \u001b[0mself\u001b[0m\u001b[0;34m.\u001b[0m\u001b[0mloc\u001b[0m\u001b[0;34m.\u001b[0m\u001b[0m_convert_to_indexer\u001b[0m\u001b[0;34m(\u001b[0m\u001b[0mkey\u001b[0m\u001b[0;34m,\u001b[0m \u001b[0maxis\u001b[0m\u001b[0;34m=\u001b[0m\u001b[0;36m1\u001b[0m\u001b[0;34m,\u001b[0m \u001b[0mraise_missing\u001b[0m\u001b[0;34m=\u001b[0m\u001b[0;32mTrue\u001b[0m\u001b[0;34m)\u001b[0m\u001b[0;34m\u001b[0m\u001b[0;34m\u001b[0m\u001b[0m\n\u001b[0m\u001b[1;32m   3002\u001b[0m \u001b[0;34m\u001b[0m\u001b[0m\n\u001b[1;32m   3003\u001b[0m         \u001b[0;31m# take() does not accept boolean indexers\u001b[0m\u001b[0;34m\u001b[0m\u001b[0;34m\u001b[0m\u001b[0;34m\u001b[0m\u001b[0m\n",
      "\u001b[0;32m/opt/tljh/user/lib/python3.6/site-packages/pandas/core/indexing.py\u001b[0m in \u001b[0;36m_convert_to_indexer\u001b[0;34m(self, obj, axis, is_setter, raise_missing)\u001b[0m\n\u001b[1;32m   1283\u001b[0m                 \u001b[0;31m# When setting, missing keys are not allowed, even with .loc:\u001b[0m\u001b[0;34m\u001b[0m\u001b[0;34m\u001b[0m\u001b[0;34m\u001b[0m\u001b[0m\n\u001b[1;32m   1284\u001b[0m                 \u001b[0mkwargs\u001b[0m \u001b[0;34m=\u001b[0m \u001b[0;34m{\u001b[0m\u001b[0;34m\"raise_missing\"\u001b[0m\u001b[0;34m:\u001b[0m \u001b[0;32mTrue\u001b[0m \u001b[0;32mif\u001b[0m \u001b[0mis_setter\u001b[0m \u001b[0;32melse\u001b[0m \u001b[0mraise_missing\u001b[0m\u001b[0;34m}\u001b[0m\u001b[0;34m\u001b[0m\u001b[0;34m\u001b[0m\u001b[0m\n\u001b[0;32m-> 1285\u001b[0;31m                 \u001b[0;32mreturn\u001b[0m \u001b[0mself\u001b[0m\u001b[0;34m.\u001b[0m\u001b[0m_get_listlike_indexer\u001b[0m\u001b[0;34m(\u001b[0m\u001b[0mobj\u001b[0m\u001b[0;34m,\u001b[0m \u001b[0maxis\u001b[0m\u001b[0;34m,\u001b[0m \u001b[0;34m**\u001b[0m\u001b[0mkwargs\u001b[0m\u001b[0;34m)\u001b[0m\u001b[0;34m[\u001b[0m\u001b[0;36m1\u001b[0m\u001b[0;34m]\u001b[0m\u001b[0;34m\u001b[0m\u001b[0;34m\u001b[0m\u001b[0m\n\u001b[0m\u001b[1;32m   1286\u001b[0m         \u001b[0;32melse\u001b[0m\u001b[0;34m:\u001b[0m\u001b[0;34m\u001b[0m\u001b[0;34m\u001b[0m\u001b[0m\n\u001b[1;32m   1287\u001b[0m             \u001b[0;32mtry\u001b[0m\u001b[0;34m:\u001b[0m\u001b[0;34m\u001b[0m\u001b[0;34m\u001b[0m\u001b[0m\n",
      "\u001b[0;32m/opt/tljh/user/lib/python3.6/site-packages/pandas/core/indexing.py\u001b[0m in \u001b[0;36m_get_listlike_indexer\u001b[0;34m(self, key, axis, raise_missing)\u001b[0m\n\u001b[1;32m   1090\u001b[0m \u001b[0;34m\u001b[0m\u001b[0m\n\u001b[1;32m   1091\u001b[0m         self._validate_read_indexer(\n\u001b[0;32m-> 1092\u001b[0;31m             \u001b[0mkeyarr\u001b[0m\u001b[0;34m,\u001b[0m \u001b[0mindexer\u001b[0m\u001b[0;34m,\u001b[0m \u001b[0mo\u001b[0m\u001b[0;34m.\u001b[0m\u001b[0m_get_axis_number\u001b[0m\u001b[0;34m(\u001b[0m\u001b[0maxis\u001b[0m\u001b[0;34m)\u001b[0m\u001b[0;34m,\u001b[0m \u001b[0mraise_missing\u001b[0m\u001b[0;34m=\u001b[0m\u001b[0mraise_missing\u001b[0m\u001b[0;34m\u001b[0m\u001b[0;34m\u001b[0m\u001b[0m\n\u001b[0m\u001b[1;32m   1093\u001b[0m         )\n\u001b[1;32m   1094\u001b[0m         \u001b[0;32mreturn\u001b[0m \u001b[0mkeyarr\u001b[0m\u001b[0;34m,\u001b[0m \u001b[0mindexer\u001b[0m\u001b[0;34m\u001b[0m\u001b[0;34m\u001b[0m\u001b[0m\n",
      "\u001b[0;32m/opt/tljh/user/lib/python3.6/site-packages/pandas/core/indexing.py\u001b[0m in \u001b[0;36m_validate_read_indexer\u001b[0;34m(self, key, indexer, axis, raise_missing)\u001b[0m\n\u001b[1;32m   1183\u001b[0m             \u001b[0;32mif\u001b[0m \u001b[0;32mnot\u001b[0m \u001b[0;34m(\u001b[0m\u001b[0mself\u001b[0m\u001b[0;34m.\u001b[0m\u001b[0mname\u001b[0m \u001b[0;34m==\u001b[0m \u001b[0;34m\"loc\"\u001b[0m \u001b[0;32mand\u001b[0m \u001b[0;32mnot\u001b[0m \u001b[0mraise_missing\u001b[0m\u001b[0;34m)\u001b[0m\u001b[0;34m:\u001b[0m\u001b[0;34m\u001b[0m\u001b[0;34m\u001b[0m\u001b[0m\n\u001b[1;32m   1184\u001b[0m                 \u001b[0mnot_found\u001b[0m \u001b[0;34m=\u001b[0m \u001b[0mlist\u001b[0m\u001b[0;34m(\u001b[0m\u001b[0mset\u001b[0m\u001b[0;34m(\u001b[0m\u001b[0mkey\u001b[0m\u001b[0;34m)\u001b[0m \u001b[0;34m-\u001b[0m \u001b[0mset\u001b[0m\u001b[0;34m(\u001b[0m\u001b[0max\u001b[0m\u001b[0;34m)\u001b[0m\u001b[0;34m)\u001b[0m\u001b[0;34m\u001b[0m\u001b[0;34m\u001b[0m\u001b[0m\n\u001b[0;32m-> 1185\u001b[0;31m                 \u001b[0;32mraise\u001b[0m \u001b[0mKeyError\u001b[0m\u001b[0;34m(\u001b[0m\u001b[0;34m\"{} not in index\"\u001b[0m\u001b[0;34m.\u001b[0m\u001b[0mformat\u001b[0m\u001b[0;34m(\u001b[0m\u001b[0mnot_found\u001b[0m\u001b[0;34m)\u001b[0m\u001b[0;34m)\u001b[0m\u001b[0;34m\u001b[0m\u001b[0;34m\u001b[0m\u001b[0m\n\u001b[0m\u001b[1;32m   1186\u001b[0m \u001b[0;34m\u001b[0m\u001b[0m\n\u001b[1;32m   1187\u001b[0m             \u001b[0;31m# we skip the warning on Categorical/Interval\u001b[0m\u001b[0;34m\u001b[0m\u001b[0;34m\u001b[0m\u001b[0;34m\u001b[0m\u001b[0m\n",
      "\u001b[0;31mKeyError\u001b[0m: \"['T4prime_norm'] not in index\""
     ]
    }
   ],
   "source": [
    "all_data = all_data[['C2','S1prime_norm','C3_norm','C4','T4prime_norm','Y1']]\n",
    "all_data.to_csv('y1_seperated.csv')"
   ]
  },
  {
   "cell_type": "code",
   "execution_count": null,
   "metadata": {},
   "outputs": [],
   "source": [
    "#all_data = all_data[['C2','C3_norm','C5_norm','C7_norm','T1prime','Y2']]\n",
    "#all_data.to_csv('y2_seperated.csv')"
   ]
  },
  {
   "cell_type": "code",
   "execution_count": 79,
   "metadata": {},
   "outputs": [
    {
     "name": "stdout",
     "output_type": "stream",
     "text": [
      "Num Features: 5\n",
      "Selected Features: [ True  True False False  True False  True False False False False False\n",
      " False False False  True False]\n",
      "Feature Ranking: [ 1  1 11  4  1  8  1 13  5  3  9  2 12  6  7  1 10]\n"
     ]
    }
   ],
   "source": [
    "# Feature extraction\n",
    "model = LogisticRegression()\n",
    "rfe = RFE(model, 5)\n",
    "fit = rfe.fit(X, Y1)\n",
    "print(\"Num Features: %s\" % (fit.n_features_))\n",
    "print(\"Selected Features: %s\" % (fit.support_))\n",
    "print(\"Feature Ranking: %s\" % (fit.ranking_))"
   ]
  },
  {
   "cell_type": "code",
   "execution_count": null,
   "metadata": {},
   "outputs": [],
   "source": [
    "'C2', 'C3`', 'C1', 'C4', 'C5', 'C6', 'C3_impute', 'C7_impute', 'C5`',\n",
    "       'T1prime', 'T2prime', 'T3prime', 'T4prime', 'T5prime', 'S1prime',\n",
    "       'S2prime', 'S3prime', 'I3_bin'\n",
    "        \n",
    "        ['C2','C3`','C5','C3_impute','S3prime','Y1']"
   ]
  },
  {
   "cell_type": "code",
   "execution_count": 80,
   "metadata": {},
   "outputs": [
    {
     "name": "stdout",
     "output_type": "stream",
     "text": [
      "Num Features: 5\n",
      "Selected Features: [ True  True False  True  True False False False False False False False\n",
      " False False False  True False]\n",
      "Feature Ranking: [ 1  1 11  1  1 13  4  6  7  3  8  5 12  2 10  1  9]\n"
     ]
    }
   ],
   "source": [
    "# Feature extraction\n",
    "model = LogisticRegression()\n",
    "rfe = RFE(model, 5)\n",
    "fit = rfe.fit(X, Y2)\n",
    "print(\"Num Features: %s\" % (fit.n_features_))\n",
    "print(\"Selected Features: %s\" % (fit.support_))\n",
    "print(\"Feature Ranking: %s\" % (fit.ranking_))"
   ]
  },
  {
   "cell_type": "code",
   "execution_count": null,
   "metadata": {},
   "outputs": [],
   "source": [
    "'C2', 'C3`', 'C1', 'C4', 'C5', 'C6', 'C3_impute', 'C7_impute', 'C5`',\n",
    "       'T1prime', 'T2prime', 'T3prime', 'T4prime', 'T5prime', 'S1prime',\n",
    "       'S2prime', 'S3prime', 'I3_bin'\n",
    "        \n",
    "        ['C2', 'C3`','C4','C5','S3prime','Y2']"
   ]
  },
  {
   "cell_type": "code",
   "execution_count": null,
   "metadata": {},
   "outputs": [],
   "source": [
    "all_data_y2 = all_data[['C2','C3_norm','C5_norm','C7_norm','T1prime','Y2']]\n",
    "all_data_y2.to_csv('y2_features.csv')"
   ]
  },
  {
   "cell_type": "code",
   "execution_count": null,
   "metadata": {},
   "outputs": [],
   "source": []
  },
  {
   "cell_type": "code",
   "execution_count": null,
   "metadata": {},
   "outputs": [],
   "source": []
  },
  {
   "cell_type": "code",
   "execution_count": null,
   "metadata": {},
   "outputs": [],
   "source": []
  },
  {
   "cell_type": "code",
   "execution_count": null,
   "metadata": {},
   "outputs": [],
   "source": [
    "# END"
   ]
  },
  {
   "cell_type": "code",
   "execution_count": null,
   "metadata": {},
   "outputs": [],
   "source": [
    "# Feature extraction\n",
    "test = SelectKBest(score_func=chi2, k=4)\n",
    "fit = test.fit(X, Y)\n",
    "\n",
    "# Summarize scores\n",
    "np.set_printoptions(precision=3)\n",
    "print(fit.scores_)\n",
    "\n",
    "features = fit.transform(X)\n",
    "# Summarize selected features\n",
    "print(features[0:5,:])"
   ]
  },
  {
   "cell_type": "code",
   "execution_count": null,
   "metadata": {},
   "outputs": [],
   "source": []
  },
  {
   "cell_type": "code",
   "execution_count": null,
   "metadata": {},
   "outputs": [],
   "source": []
  },
  {
   "cell_type": "code",
   "execution_count": null,
   "metadata": {},
   "outputs": [],
   "source": [
    "Y"
   ]
  },
  {
   "cell_type": "code",
   "execution_count": null,
   "metadata": {},
   "outputs": [],
   "source": [
    "sklearn.feature_selection.f_classif(X, Y)"
   ]
  },
  {
   "cell_type": "code",
   "execution_count": null,
   "metadata": {},
   "outputs": [],
   "source": [
    "X_1 = sm.add_constant(X)\n",
    "#Fitting sm.OLS model\n",
    "model = sm.OLS(Y,X_1).fit()\n",
    "model.pvalues"
   ]
  },
  {
   "cell_type": "code",
   "execution_count": null,
   "metadata": {},
   "outputs": [],
   "source": [
    "model = LinearRegression()\n",
    "#Initializing RFE model\n",
    "rfe = RFE(model, 7)\n",
    "#Transforming data using RFE\n",
    "X_rfe = rfe.fit_transform(X,Y)  \n",
    "#Fitting the data to model\n",
    "model.fit(X_rfe,Y)\n",
    "print(rfe.support_)\n",
    "print(rfe.ranking_)"
   ]
  },
  {
   "cell_type": "code",
   "execution_count": null,
   "metadata": {},
   "outputs": [],
   "source": []
  }
 ],
 "metadata": {
  "kernelspec": {
   "display_name": "Python 3",
   "language": "python",
   "name": "python3"
  },
  "language_info": {
   "codemirror_mode": {
    "name": "ipython",
    "version": 3
   },
   "file_extension": ".py",
   "mimetype": "text/x-python",
   "name": "python",
   "nbconvert_exporter": "python",
   "pygments_lexer": "ipython3",
   "version": "3.6.7"
  }
 },
 "nbformat": 4,
 "nbformat_minor": 4
}
