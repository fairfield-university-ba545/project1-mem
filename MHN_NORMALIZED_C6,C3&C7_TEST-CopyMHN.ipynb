{
 "cells": [
  {
   "cell_type": "code",
   "execution_count": 4,
   "metadata": {},
   "outputs": [],
   "source": [
    "# imports\n",
    "import pandas as pd\n",
    "import numpy as np"
   ]
  },
  {
   "cell_type": "code",
   "execution_count": 5,
   "metadata": {},
   "outputs": [],
   "source": [
    "# NOTE WHAT COLUMN TO INCLUDE AND WHAT NOT TO INCLUDE"
   ]
  },
  {
   "cell_type": "markdown",
   "metadata": {},
   "source": [
    "C Column \n",
    "- can be 0 and less than 0, no dash\n",
    "- S can be 0 CANNOT be less than 0, no dash\n",
    "- T3-T5 --> can be 0, and less than 0, no dash\n",
    "- T1 --> CANNOT be 0, less than 0, no dashes \n",
    "- T2 --> CANNOT be 0, less than 0, no dashes\n",
    "- P --> CANNOT be 0, less than 0, no dashes"
   ]
  },
  {
   "cell_type": "code",
   "execution_count": 6,
   "metadata": {},
   "outputs": [
    {
     "data": {
      "text/html": [
       "<div>\n",
       "<style scoped>\n",
       "    .dataframe tbody tr th:only-of-type {\n",
       "        vertical-align: middle;\n",
       "    }\n",
       "\n",
       "    .dataframe tbody tr th {\n",
       "        vertical-align: top;\n",
       "    }\n",
       "\n",
       "    .dataframe thead th {\n",
       "        text-align: right;\n",
       "    }\n",
       "</style>\n",
       "<table border=\"1\" class=\"dataframe\">\n",
       "  <thead>\n",
       "    <tr style=\"text-align: right;\">\n",
       "      <th></th>\n",
       "      <th>I1</th>\n",
       "      <th>I2</th>\n",
       "      <th>I3</th>\n",
       "      <th>P(IPO)</th>\n",
       "      <th>P(H)</th>\n",
       "      <th>P(L)</th>\n",
       "      <th>P(1Day)</th>\n",
       "      <th>C1</th>\n",
       "      <th>C2</th>\n",
       "      <th>C3</th>\n",
       "      <th>...</th>\n",
       "      <th>C6</th>\n",
       "      <th>C7</th>\n",
       "      <th>T1</th>\n",
       "      <th>T2</th>\n",
       "      <th>T3</th>\n",
       "      <th>T4</th>\n",
       "      <th>T5</th>\n",
       "      <th>S1</th>\n",
       "      <th>S2</th>\n",
       "      <th>S3</th>\n",
       "    </tr>\n",
       "  </thead>\n",
       "  <tbody>\n",
       "    <tr>\n",
       "      <th>0</th>\n",
       "      <td>AATI</td>\n",
       "      <td>ADVANCED ANALOGIC TECHNOLOGIES INC</td>\n",
       "      <td>3674</td>\n",
       "      <td>10.0</td>\n",
       "      <td>9.5</td>\n",
       "      <td>8.5</td>\n",
       "      <td>11.870000</td>\n",
       "      <td>122.0</td>\n",
       "      <td>1.0</td>\n",
       "      <td>3.43</td>\n",
       "      <td>...</td>\n",
       "      <td>10600000.0</td>\n",
       "      <td>51.345</td>\n",
       "      <td>470.0</td>\n",
       "      <td>12719.0</td>\n",
       "      <td>11560.0</td>\n",
       "      <td>301.0</td>\n",
       "      <td>690.0</td>\n",
       "      <td>62.0</td>\n",
       "      <td>117.0</td>\n",
       "      <td>139.0</td>\n",
       "    </tr>\n",
       "    <tr>\n",
       "      <th>1</th>\n",
       "      <td>ABPI</td>\n",
       "      <td>ACCENTIA BIOPHARMACEUTICALS INC</td>\n",
       "      <td>2834</td>\n",
       "      <td>8.0</td>\n",
       "      <td>10.0</td>\n",
       "      <td>8.0</td>\n",
       "      <td>7.250000</td>\n",
       "      <td>259.0</td>\n",
       "      <td>0.0</td>\n",
       "      <td>-1.62</td>\n",
       "      <td>...</td>\n",
       "      <td>2400000.0</td>\n",
       "      <td>25.936</td>\n",
       "      <td>791.0</td>\n",
       "      <td>21792.0</td>\n",
       "      <td>19585.0</td>\n",
       "      <td>510.0</td>\n",
       "      <td>1120.0</td>\n",
       "      <td>71.0</td>\n",
       "      <td>242.0</td>\n",
       "      <td>237.0</td>\n",
       "    </tr>\n",
       "    <tr>\n",
       "      <th>2</th>\n",
       "      <td>ACAD</td>\n",
       "      <td>ACADIA PHARMACEUTICALS INC</td>\n",
       "      <td>2834</td>\n",
       "      <td>7.0</td>\n",
       "      <td>14.0</td>\n",
       "      <td>12.0</td>\n",
       "      <td>6.700000</td>\n",
       "      <td>90.0</td>\n",
       "      <td>1.0</td>\n",
       "      <td>-1.24</td>\n",
       "      <td>...</td>\n",
       "      <td>5000000.0</td>\n",
       "      <td>7.378</td>\n",
       "      <td>201.0</td>\n",
       "      <td>5262.0</td>\n",
       "      <td>4785.0</td>\n",
       "      <td>128.0</td>\n",
       "      <td>325.0</td>\n",
       "      <td>61.0</td>\n",
       "      <td>33.0</td>\n",
       "      <td>60.0</td>\n",
       "    </tr>\n",
       "    <tr>\n",
       "      <th>3</th>\n",
       "      <td>ACHN</td>\n",
       "      <td>ACHILLION PHARMACEUTICALS INC</td>\n",
       "      <td>2834</td>\n",
       "      <td>11.5</td>\n",
       "      <td>16.0</td>\n",
       "      <td>14.0</td>\n",
       "      <td>12.390000</td>\n",
       "      <td>209.0</td>\n",
       "      <td>1.0</td>\n",
       "      <td>-0.91</td>\n",
       "      <td>...</td>\n",
       "      <td>4500000.0</td>\n",
       "      <td>8.526</td>\n",
       "      <td>328.0</td>\n",
       "      <td>8259.0</td>\n",
       "      <td>7574.0</td>\n",
       "      <td>177.0</td>\n",
       "      <td>509.0</td>\n",
       "      <td>80.0</td>\n",
       "      <td>59.0</td>\n",
       "      <td>110.0</td>\n",
       "    </tr>\n",
       "    <tr>\n",
       "      <th>4</th>\n",
       "      <td>ACLI</td>\n",
       "      <td>AMERICAN COMMERCIAL LINES INC.</td>\n",
       "      <td>4492</td>\n",
       "      <td>21.0</td>\n",
       "      <td>21.0</td>\n",
       "      <td>19.0</td>\n",
       "      <td>56.599998</td>\n",
       "      <td>80.0</td>\n",
       "      <td>1.0</td>\n",
       "      <td>0.07</td>\n",
       "      <td>...</td>\n",
       "      <td>8250000.0</td>\n",
       "      <td>632.298</td>\n",
       "      <td>572.0</td>\n",
       "      <td>14830.0</td>\n",
       "      <td>13176.0</td>\n",
       "      <td>336.0</td>\n",
       "      <td>720.0</td>\n",
       "      <td>67.0</td>\n",
       "      <td>149.0</td>\n",
       "      <td>167.0</td>\n",
       "    </tr>\n",
       "  </tbody>\n",
       "</table>\n",
       "<p>5 rows × 22 columns</p>\n",
       "</div>"
      ],
      "text/plain": [
       "     I1                                  I2    I3  P(IPO)  P(H)  P(L)  \\\n",
       "0  AATI  ADVANCED ANALOGIC TECHNOLOGIES INC  3674    10.0   9.5   8.5   \n",
       "1  ABPI     ACCENTIA BIOPHARMACEUTICALS INC  2834     8.0  10.0   8.0   \n",
       "2  ACAD          ACADIA PHARMACEUTICALS INC  2834     7.0  14.0  12.0   \n",
       "3  ACHN       ACHILLION PHARMACEUTICALS INC  2834    11.5  16.0  14.0   \n",
       "4  ACLI     AMERICAN COMMERCIAL LINES INC.   4492    21.0  21.0  19.0   \n",
       "\n",
       "     P(1Day)     C1   C2    C3  ...          C6       C7     T1       T2  \\\n",
       "0  11.870000  122.0  1.0  3.43  ...  10600000.0   51.345  470.0  12719.0   \n",
       "1   7.250000  259.0  0.0 -1.62  ...   2400000.0   25.936  791.0  21792.0   \n",
       "2   6.700000   90.0  1.0 -1.24  ...   5000000.0    7.378  201.0   5262.0   \n",
       "3  12.390000  209.0  1.0 -0.91  ...   4500000.0    8.526  328.0   8259.0   \n",
       "4  56.599998   80.0  1.0  0.07  ...   8250000.0  632.298  572.0  14830.0   \n",
       "\n",
       "        T3     T4      T5    S1     S2     S3  \n",
       "0  11560.0  301.0   690.0  62.0  117.0  139.0  \n",
       "1  19585.0  510.0  1120.0  71.0  242.0  237.0  \n",
       "2   4785.0  128.0   325.0  61.0   33.0   60.0  \n",
       "3   7574.0  177.0   509.0  80.0   59.0  110.0  \n",
       "4  13176.0  336.0   720.0  67.0  149.0  167.0  \n",
       "\n",
       "[5 rows x 22 columns]"
      ]
     },
     "execution_count": 6,
     "metadata": {},
     "output_type": "execute_result"
    }
   ],
   "source": [
    "# read in the whole file and '-' as NA values \n",
    "data = pd.read_excel('Competition1_raw_data.xlsx', na_values=r'-')\n",
    "                    #dtype={'P(IPO)': float, 'P(1Day)': float})\n",
    "# define dashes as missing --> 0 or NaN\n",
    "data.head(5)"
   ]
  },
  {
   "cell_type": "code",
   "execution_count": 7,
   "metadata": {},
   "outputs": [],
   "source": [
    "# replace with nan\n",
    "data.loc[(data['S1'] < 0),'S1'] = np.nan\n",
    "data.loc[(data['T2'] == 0),'T2'] = np.nan\n",
    "data.loc[(data['T5'] < 0),'T5'] = np.nan\n",
    "\n",
    "# drop - for P values \n",
    "data.dropna(subset=['P(IPO)', 'P(H)', 'P(L)', 'P(1Day)'], inplace=True)\n",
    "\n",
    "# impute \n",
    "data['S1'] = data['S1'].fillna(data['S1'].median())\n",
    "data['T2'] = data['T2'].fillna(data['T2'].median())\n",
    "data['T5'] = data['T5'].fillna(data['T5'].median())\n",
    "data['C3_impute'] = data['C3'].fillna(data['C3'].median())\n",
    "data['C7_impute'] = data['C7'].fillna(data['C7'].median())\n",
    "\n",
    "# exclude not imputed C3 and C7\n",
    "data = data[['I1', 'I2', 'I3', 'P(IPO)', 'P(H)', 'P(L)', 'P(1Day)', 'C1', 'C2',\n",
    "       'C4', 'C5', 'C6', 'T1', 'T2', 'T3', 'T4', 'T5', 'S1', 'S2', 'S3',\n",
    "       'C3_impute', 'C7_impute']]"
   ]
  },
  {
   "cell_type": "code",
   "execution_count": 8,
   "metadata": {},
   "outputs": [
    {
     "data": {
      "text/plain": [
       "Index(['I1', 'I2', 'I3', 'P(IPO)', 'P(H)', 'P(L)', 'P(1Day)', 'C1', 'C2', 'C4',\n",
       "       'C5', 'C6', 'T1', 'T2', 'T3', 'T4', 'T5', 'S1', 'S2', 'S3', 'C3_impute',\n",
       "       'C7_impute'],\n",
       "      dtype='object')"
      ]
     },
     "execution_count": 8,
     "metadata": {},
     "output_type": "execute_result"
    }
   ],
   "source": [
    "data.columns"
   ]
  },
  {
   "cell_type": "code",
   "execution_count": 9,
   "metadata": {},
   "outputs": [],
   "source": [
    "# P's are taken care off \n",
    "# S taken care off \n",
    "# T taken care off \n",
    "# C taken care off "
   ]
  },
  {
   "cell_type": "code",
   "execution_count": 10,
   "metadata": {},
   "outputs": [
    {
     "data": {
      "text/html": [
       "<div>\n",
       "<style scoped>\n",
       "    .dataframe tbody tr th:only-of-type {\n",
       "        vertical-align: middle;\n",
       "    }\n",
       "\n",
       "    .dataframe tbody tr th {\n",
       "        vertical-align: top;\n",
       "    }\n",
       "\n",
       "    .dataframe thead th {\n",
       "        text-align: right;\n",
       "    }\n",
       "</style>\n",
       "<table border=\"1\" class=\"dataframe\">\n",
       "  <thead>\n",
       "    <tr style=\"text-align: right;\">\n",
       "      <th></th>\n",
       "      <th>I1</th>\n",
       "      <th>I2</th>\n",
       "      <th>I3</th>\n",
       "      <th>P(IPO)</th>\n",
       "      <th>P(H)</th>\n",
       "      <th>P(L)</th>\n",
       "      <th>P(1Day)</th>\n",
       "      <th>C1</th>\n",
       "      <th>C2</th>\n",
       "      <th>C4</th>\n",
       "      <th>...</th>\n",
       "      <th>T1</th>\n",
       "      <th>T2</th>\n",
       "      <th>T3</th>\n",
       "      <th>T4</th>\n",
       "      <th>T5</th>\n",
       "      <th>S1</th>\n",
       "      <th>S2</th>\n",
       "      <th>S3</th>\n",
       "      <th>C3_impute</th>\n",
       "      <th>C7_impute</th>\n",
       "    </tr>\n",
       "  </thead>\n",
       "  <tbody>\n",
       "  </tbody>\n",
       "</table>\n",
       "<p>0 rows × 22 columns</p>\n",
       "</div>"
      ],
      "text/plain": [
       "Empty DataFrame\n",
       "Columns: [I1, I2, I3, P(IPO), P(H), P(L), P(1Day), C1, C2, C4, C5, C6, T1, T2, T3, T4, T5, S1, S2, S3, C3_impute, C7_impute]\n",
       "Index: []\n",
       "\n",
       "[0 rows x 22 columns]"
      ]
     },
     "execution_count": 10,
     "metadata": {},
     "output_type": "execute_result"
    }
   ],
   "source": [
    "data[data['T5']==0]"
   ]
  },
  {
   "cell_type": "code",
   "execution_count": 11,
   "metadata": {},
   "outputs": [
    {
     "name": "stdout",
     "output_type": "stream",
     "text": [
      "<class 'pandas.core.frame.DataFrame'>\n",
      "Int64Index: 660 entries, 0 to 681\n",
      "Data columns (total 22 columns):\n",
      "I1           660 non-null object\n",
      "I2           660 non-null object\n",
      "I3           660 non-null object\n",
      "P(IPO)       660 non-null float64\n",
      "P(H)         660 non-null float64\n",
      "P(L)         660 non-null float64\n",
      "P(1Day)      660 non-null float64\n",
      "C1           660 non-null float64\n",
      "C2           660 non-null float64\n",
      "C4           660 non-null float64\n",
      "C5           660 non-null float64\n",
      "C6           660 non-null float64\n",
      "T1           660 non-null float64\n",
      "T2           660 non-null float64\n",
      "T3           660 non-null float64\n",
      "T4           660 non-null float64\n",
      "T5           660 non-null float64\n",
      "S1           660 non-null float64\n",
      "S2           660 non-null float64\n",
      "S3           660 non-null float64\n",
      "C3_impute    660 non-null float64\n",
      "C7_impute    660 non-null float64\n",
      "dtypes: float64(19), object(3)\n",
      "memory usage: 118.6+ KB\n"
     ]
    }
   ],
   "source": [
    "data.info()"
   ]
  },
  {
   "cell_type": "code",
   "execution_count": 12,
   "metadata": {},
   "outputs": [
    {
     "data": {
      "text/plain": [
       "I1           0\n",
       "I2           0\n",
       "I3           0\n",
       "P(IPO)       0\n",
       "P(H)         0\n",
       "P(L)         0\n",
       "P(1Day)      0\n",
       "C1           0\n",
       "C2           0\n",
       "C4           0\n",
       "C5           0\n",
       "C6           0\n",
       "T1           0\n",
       "T2           0\n",
       "T3           0\n",
       "T4           0\n",
       "T5           0\n",
       "S1           0\n",
       "S2           0\n",
       "S3           0\n",
       "C3_impute    0\n",
       "C7_impute    0\n",
       "dtype: int64"
      ]
     },
     "execution_count": 12,
     "metadata": {},
     "output_type": "execute_result"
    }
   ],
   "source": [
    "data.isnull().sum()"
   ]
  },
  {
   "cell_type": "code",
   "execution_count": 13,
   "metadata": {},
   "outputs": [
    {
     "data": {
      "text/html": [
       "<div>\n",
       "<style scoped>\n",
       "    .dataframe tbody tr th:only-of-type {\n",
       "        vertical-align: middle;\n",
       "    }\n",
       "\n",
       "    .dataframe tbody tr th {\n",
       "        vertical-align: top;\n",
       "    }\n",
       "\n",
       "    .dataframe thead th {\n",
       "        text-align: right;\n",
       "    }\n",
       "</style>\n",
       "<table border=\"1\" class=\"dataframe\">\n",
       "  <thead>\n",
       "    <tr style=\"text-align: right;\">\n",
       "      <th></th>\n",
       "      <th>I1</th>\n",
       "      <th>I2</th>\n",
       "      <th>I3</th>\n",
       "      <th>P(IPO)</th>\n",
       "      <th>P(H)</th>\n",
       "      <th>P(L)</th>\n",
       "      <th>P(1Day)</th>\n",
       "      <th>C1</th>\n",
       "      <th>C2</th>\n",
       "      <th>C4</th>\n",
       "      <th>...</th>\n",
       "      <th>T1</th>\n",
       "      <th>T2</th>\n",
       "      <th>T3</th>\n",
       "      <th>T4</th>\n",
       "      <th>T5</th>\n",
       "      <th>S1</th>\n",
       "      <th>S2</th>\n",
       "      <th>S3</th>\n",
       "      <th>C3_impute</th>\n",
       "      <th>C7_impute</th>\n",
       "    </tr>\n",
       "  </thead>\n",
       "  <tbody>\n",
       "  </tbody>\n",
       "</table>\n",
       "<p>0 rows × 22 columns</p>\n",
       "</div>"
      ],
      "text/plain": [
       "Empty DataFrame\n",
       "Columns: [I1, I2, I3, P(IPO), P(H), P(L), P(1Day), C1, C2, C4, C5, C6, T1, T2, T3, T4, T5, S1, S2, S3, C3_impute, C7_impute]\n",
       "Index: []\n",
       "\n",
       "[0 rows x 22 columns]"
      ]
     },
     "execution_count": 13,
     "metadata": {},
     "output_type": "execute_result"
    }
   ],
   "source": [
    "data[data['P(1Day)']<0]"
   ]
  },
  {
   "cell_type": "code",
   "execution_count": 14,
   "metadata": {},
   "outputs": [
    {
     "data": {
      "text/html": [
       "<div>\n",
       "<style scoped>\n",
       "    .dataframe tbody tr th:only-of-type {\n",
       "        vertical-align: middle;\n",
       "    }\n",
       "\n",
       "    .dataframe tbody tr th {\n",
       "        vertical-align: top;\n",
       "    }\n",
       "\n",
       "    .dataframe thead th {\n",
       "        text-align: right;\n",
       "    }\n",
       "</style>\n",
       "<table border=\"1\" class=\"dataframe\">\n",
       "  <thead>\n",
       "    <tr style=\"text-align: right;\">\n",
       "      <th></th>\n",
       "      <th>I1</th>\n",
       "      <th>I2</th>\n",
       "      <th>I3</th>\n",
       "      <th>P(IPO)</th>\n",
       "      <th>P(H)</th>\n",
       "      <th>P(L)</th>\n",
       "      <th>P(1Day)</th>\n",
       "      <th>C1</th>\n",
       "      <th>C2</th>\n",
       "      <th>C4</th>\n",
       "      <th>...</th>\n",
       "      <th>T1</th>\n",
       "      <th>T2</th>\n",
       "      <th>T3</th>\n",
       "      <th>T4</th>\n",
       "      <th>T5</th>\n",
       "      <th>S1</th>\n",
       "      <th>S2</th>\n",
       "      <th>S3</th>\n",
       "      <th>C3_impute</th>\n",
       "      <th>C7_impute</th>\n",
       "    </tr>\n",
       "  </thead>\n",
       "  <tbody>\n",
       "    <tr>\n",
       "      <th>9</th>\n",
       "      <td>ACW</td>\n",
       "      <td>ACCURIDE CORP</td>\n",
       "      <td>3714</td>\n",
       "      <td>9.0</td>\n",
       "      <td>19.0</td>\n",
       "      <td>17.0</td>\n",
       "      <td>0.0</td>\n",
       "      <td>106.0</td>\n",
       "      <td>1.0</td>\n",
       "      <td>-0.024925</td>\n",
       "      <td>...</td>\n",
       "      <td>385.0</td>\n",
       "      <td>9134.0</td>\n",
       "      <td>8107.0</td>\n",
       "      <td>198.0</td>\n",
       "      <td>459.0</td>\n",
       "      <td>81.0</td>\n",
       "      <td>90.0</td>\n",
       "      <td>147.0</td>\n",
       "      <td>1.49</td>\n",
       "      <td>494.008</td>\n",
       "    </tr>\n",
       "    <tr>\n",
       "      <th>266</th>\n",
       "      <td>GSAT</td>\n",
       "      <td>Globalstar, Inc.</td>\n",
       "      <td>4899</td>\n",
       "      <td>17.0</td>\n",
       "      <td>18.0</td>\n",
       "      <td>16.0</td>\n",
       "      <td>0.0</td>\n",
       "      <td>108.0</td>\n",
       "      <td>1.0</td>\n",
       "      <td>-0.006352</td>\n",
       "      <td>...</td>\n",
       "      <td>759.0</td>\n",
       "      <td>18196.0</td>\n",
       "      <td>16262.0</td>\n",
       "      <td>397.0</td>\n",
       "      <td>959.0</td>\n",
       "      <td>85.0</td>\n",
       "      <td>228.0</td>\n",
       "      <td>173.0</td>\n",
       "      <td>0.23</td>\n",
       "      <td>127.147</td>\n",
       "    </tr>\n",
       "    <tr>\n",
       "      <th>279</th>\n",
       "      <td>HERO</td>\n",
       "      <td>HERCULES OFFSHORE, INC.</td>\n",
       "      <td>1381</td>\n",
       "      <td>20.0</td>\n",
       "      <td>20.0</td>\n",
       "      <td>18.0</td>\n",
       "      <td>0.0</td>\n",
       "      <td>111.0</td>\n",
       "      <td>1.0</td>\n",
       "      <td>0.007191</td>\n",
       "      <td>...</td>\n",
       "      <td>494.0</td>\n",
       "      <td>12518.0</td>\n",
       "      <td>11207.0</td>\n",
       "      <td>297.0</td>\n",
       "      <td>603.0</td>\n",
       "      <td>49.0</td>\n",
       "      <td>103.0</td>\n",
       "      <td>135.0</td>\n",
       "      <td>0.00</td>\n",
       "      <td>107.462</td>\n",
       "    </tr>\n",
       "    <tr>\n",
       "      <th>364</th>\n",
       "      <td>MATH</td>\n",
       "      <td>SAJAN INC</td>\n",
       "      <td>3674</td>\n",
       "      <td>6.0</td>\n",
       "      <td>8.0</td>\n",
       "      <td>6.0</td>\n",
       "      <td>0.0</td>\n",
       "      <td>85.0</td>\n",
       "      <td>0.0</td>\n",
       "      <td>0.007191</td>\n",
       "      <td>...</td>\n",
       "      <td>235.0</td>\n",
       "      <td>5674.0</td>\n",
       "      <td>5085.0</td>\n",
       "      <td>132.0</td>\n",
       "      <td>284.0</td>\n",
       "      <td>27.0</td>\n",
       "      <td>66.0</td>\n",
       "      <td>63.0</td>\n",
       "      <td>-0.95</td>\n",
       "      <td>130.000</td>\n",
       "    </tr>\n",
       "  </tbody>\n",
       "</table>\n",
       "<p>4 rows × 22 columns</p>\n",
       "</div>"
      ],
      "text/plain": [
       "       I1                       I2    I3  P(IPO)  P(H)  P(L)  P(1Day)     C1  \\\n",
       "9     ACW            ACCURIDE CORP  3714     9.0  19.0  17.0      0.0  106.0   \n",
       "266  GSAT        Globalstar, Inc.   4899    17.0  18.0  16.0      0.0  108.0   \n",
       "279  HERO  HERCULES OFFSHORE, INC.  1381    20.0  20.0  18.0      0.0  111.0   \n",
       "364  MATH                SAJAN INC  3674     6.0   8.0   6.0      0.0   85.0   \n",
       "\n",
       "      C2        C4  ...     T1       T2       T3     T4     T5    S1     S2  \\\n",
       "9    1.0 -0.024925  ...  385.0   9134.0   8107.0  198.0  459.0  81.0   90.0   \n",
       "266  1.0 -0.006352  ...  759.0  18196.0  16262.0  397.0  959.0  85.0  228.0   \n",
       "279  1.0  0.007191  ...  494.0  12518.0  11207.0  297.0  603.0  49.0  103.0   \n",
       "364  0.0  0.007191  ...  235.0   5674.0   5085.0  132.0  284.0  27.0   66.0   \n",
       "\n",
       "        S3  C3_impute  C7_impute  \n",
       "9    147.0       1.49    494.008  \n",
       "266  173.0       0.23    127.147  \n",
       "279  135.0       0.00    107.462  \n",
       "364   63.0      -0.95    130.000  \n",
       "\n",
       "[4 rows x 22 columns]"
      ]
     },
     "execution_count": 14,
     "metadata": {},
     "output_type": "execute_result"
    }
   ],
   "source": [
    "data[data['P(1Day)']==0]"
   ]
  },
  {
   "cell_type": "code",
   "execution_count": 15,
   "metadata": {},
   "outputs": [
    {
     "name": "stdout",
     "output_type": "stream",
     "text": [
      "<class 'pandas.core.frame.DataFrame'>\n",
      "Int64Index: 660 entries, 0 to 681\n",
      "Data columns (total 22 columns):\n",
      "I1           660 non-null object\n",
      "I2           660 non-null object\n",
      "I3           660 non-null object\n",
      "P(IPO)       660 non-null float64\n",
      "P(H)         660 non-null float64\n",
      "P(L)         660 non-null float64\n",
      "P(1Day)      660 non-null float64\n",
      "C1           660 non-null float64\n",
      "C2           660 non-null float64\n",
      "C4           660 non-null float64\n",
      "C5           660 non-null float64\n",
      "C6           660 non-null float64\n",
      "T1           660 non-null float64\n",
      "T2           660 non-null float64\n",
      "T3           660 non-null float64\n",
      "T4           660 non-null float64\n",
      "T5           660 non-null float64\n",
      "S1           660 non-null float64\n",
      "S2           660 non-null float64\n",
      "S3           660 non-null float64\n",
      "C3_impute    660 non-null float64\n",
      "C7_impute    660 non-null float64\n",
      "dtypes: float64(19), object(3)\n",
      "memory usage: 118.6+ KB\n"
     ]
    }
   ],
   "source": [
    "data.info()"
   ]
  },
  {
   "cell_type": "code",
   "execution_count": 16,
   "metadata": {},
   "outputs": [],
   "source": [
    "# C2 to int (booleon)\n",
    "data['C2'] = data['C2'].astype(int)\n",
    "\n",
    "# P(mid) calculation and add it to the column \n",
    "# P(mid) = (P(H)+P(L))/2\n",
    "data['P(mid)'] = (data['P(H)'] + data['P(L)'])/2\n",
    "\n",
    "# targets to be calculated\n",
    "# make it equal to P(IPO) then we will just replace\n",
    "#data['Y1'] = data['P(IPO)']\n",
    "#data['Y2'] = data['P(IPO)']\n",
    "\n",
    "# replace Y1 and change dtype to binary\n",
    "data['Y1'] = np.where((data['P(IPO)'] < data['P(mid)']), 1, 0)\n",
    "data['Y2'] = np.where((data['P(IPO)'] > data['P(mid)']), 1, 0)\n",
    "#data.loc[(data['Y1'] < data['P(mid)']),'Y1'] = 1\n",
    "#data.loc[(data['Y1'] > data['P(mid)']),'Y1'] = 0\n",
    "#data['Y1'] = data['Y1'].astype(int)\n",
    "\n",
    "# replace Y2\n",
    "#data.loc[(data['Y2'] < data['P(1Day)']),'Y2'] = 1\n",
    "#data.loc[(data['Y2'] > data['P(1Day)']),'Y2'] = 0\n",
    "#data['Y2'] = data['Y2'].astype(int)\n",
    "\n",
    "# Control values to be calculated\n",
    "data['C3`'] = data['C3_impute']\n",
    "data['C3`'] = np.where((data['C3_impute'] > 0),1,data['C3_impute'])\n",
    "data['C3`'] = np.where((data['C3_impute'] < 0),0,data['C3_impute'])\n",
    "data['C3`'] = data['C3`'].astype(int)\n",
    "\n",
    "# C5`\n",
    "data['C5`'] = data['C5']/data['C6']\n",
    "data['C5`'] = data['C5`'].astype(float)\n",
    "\n",
    "# C6`\n",
    "data['C6calc'] = ((data['P(IPO)'] - data['P(mid)']) / data['P(mid)']) * 1\n",
    "data['C6`'] = 0\n",
    "data['C6`'] = np.where((data['P(IPO)'] > data['P(mid)']),data['C6calc'],data['C6`'])\n",
    "data['C6`'] = np.where((data['P(IPO)'] < data['P(mid)']),0,data['C6`'])\n",
    "data['C6`'] = np.where((data['P(mid)']==0),0,data['C6`'])\n",
    "data['C6`'] = data['C6`'].astype(float)"
   ]
  },
  {
   "cell_type": "code",
   "execution_count": 17,
   "metadata": {},
   "outputs": [
    {
     "data": {
      "text/html": [
       "<div>\n",
       "<style scoped>\n",
       "    .dataframe tbody tr th:only-of-type {\n",
       "        vertical-align: middle;\n",
       "    }\n",
       "\n",
       "    .dataframe tbody tr th {\n",
       "        vertical-align: top;\n",
       "    }\n",
       "\n",
       "    .dataframe thead th {\n",
       "        text-align: right;\n",
       "    }\n",
       "</style>\n",
       "<table border=\"1\" class=\"dataframe\">\n",
       "  <thead>\n",
       "    <tr style=\"text-align: right;\">\n",
       "      <th></th>\n",
       "      <th>I1</th>\n",
       "      <th>I2</th>\n",
       "      <th>I3</th>\n",
       "      <th>P(IPO)</th>\n",
       "      <th>P(H)</th>\n",
       "      <th>P(L)</th>\n",
       "      <th>P(1Day)</th>\n",
       "      <th>C1</th>\n",
       "      <th>C2</th>\n",
       "      <th>C4</th>\n",
       "      <th>...</th>\n",
       "      <th>S3</th>\n",
       "      <th>C3_impute</th>\n",
       "      <th>C7_impute</th>\n",
       "      <th>P(mid)</th>\n",
       "      <th>Y1</th>\n",
       "      <th>Y2</th>\n",
       "      <th>C3`</th>\n",
       "      <th>C5`</th>\n",
       "      <th>C6calc</th>\n",
       "      <th>C6`</th>\n",
       "    </tr>\n",
       "  </thead>\n",
       "  <tbody>\n",
       "    <tr>\n",
       "      <th>250</th>\n",
       "      <td>GGS</td>\n",
       "      <td>Global Geophysical Services Inc</td>\n",
       "      <td>1382</td>\n",
       "      <td>12.0</td>\n",
       "      <td>17.0</td>\n",
       "      <td>15.0</td>\n",
       "      <td>12.0</td>\n",
       "      <td>188.0</td>\n",
       "      <td>1</td>\n",
       "      <td>0.045263</td>\n",
       "      <td>...</td>\n",
       "      <td>123.0</td>\n",
       "      <td>0.05</td>\n",
       "      <td>312.796</td>\n",
       "      <td>16.0</td>\n",
       "      <td>1</td>\n",
       "      <td>0</td>\n",
       "      <td>0</td>\n",
       "      <td>4.783676</td>\n",
       "      <td>-0.250000</td>\n",
       "      <td>0.0</td>\n",
       "    </tr>\n",
       "    <tr>\n",
       "      <th>478</th>\n",
       "      <td>PSPT</td>\n",
       "      <td>PeopleSupport, Inc.</td>\n",
       "      <td>7389</td>\n",
       "      <td>7.0</td>\n",
       "      <td>12.0</td>\n",
       "      <td>10.0</td>\n",
       "      <td>6.5</td>\n",
       "      <td>144.0</td>\n",
       "      <td>0</td>\n",
       "      <td>0.006072</td>\n",
       "      <td>...</td>\n",
       "      <td>152.0</td>\n",
       "      <td>0.67</td>\n",
       "      <td>30.013</td>\n",
       "      <td>11.0</td>\n",
       "      <td>1</td>\n",
       "      <td>0</td>\n",
       "      <td>0</td>\n",
       "      <td>2.543337</td>\n",
       "      <td>-0.363636</td>\n",
       "      <td>0.0</td>\n",
       "    </tr>\n",
       "  </tbody>\n",
       "</table>\n",
       "<p>2 rows × 29 columns</p>\n",
       "</div>"
      ],
      "text/plain": [
       "       I1                                I2    I3  P(IPO)  P(H)  P(L)  \\\n",
       "250   GGS  Global Geophysical Services Inc   1382    12.0  17.0  15.0   \n",
       "478  PSPT              PeopleSupport, Inc.   7389     7.0  12.0  10.0   \n",
       "\n",
       "     P(1Day)     C1  C2        C4  ...     S3  C3_impute  C7_impute  P(mid)  \\\n",
       "250     12.0  188.0   1  0.045263  ...  123.0       0.05    312.796    16.0   \n",
       "478      6.5  144.0   0  0.006072  ...  152.0       0.67     30.013    11.0   \n",
       "\n",
       "     Y1  Y2  C3`       C5`    C6calc  C6`  \n",
       "250   1   0    0  4.783676 -0.250000  0.0  \n",
       "478   1   0    0  2.543337 -0.363636  0.0  \n",
       "\n",
       "[2 rows x 29 columns]"
      ]
     },
     "execution_count": 17,
     "metadata": {},
     "output_type": "execute_result"
    }
   ],
   "source": [
    "data[data['T4']==0]"
   ]
  },
  {
   "cell_type": "code",
   "execution_count": 18,
   "metadata": {},
   "outputs": [],
   "source": [
    "# replace T3, and T4\n",
    "data.loc[(data['T3'] == 0),'T3'] = np.nan\n",
    "data.loc[(data['T4'] == 0),'T4'] = np.nan\n",
    "\n",
    "# fillna\n",
    "data['T3'] = data['T3'].fillna(data['T3'].median())\n",
    "data['T4'] = data['T4'].fillna(data['T4'].median())"
   ]
  },
  {
   "cell_type": "code",
   "execution_count": 19,
   "metadata": {},
   "outputs": [],
   "source": [
    "#data.loc[data['T4'] == '-'] \n",
    "#data.drop(217,inplace=True)\n",
    "#percent of long sentences\n",
    "data[\"T1prime\"] = data[\"T4\"].astype(float)/data[\"T1\"].astype(float)\n",
    "# T2\n",
    "data['T2prime'] = data['T5'].astype(float)/data['T2'].astype(float)\n",
    "#percent of real words\n",
    "data[\"T3prime\"] = data[\"T3\"].astype(float)/data[\"T2\"].astype(float)\n",
    "#percent of long sentences\n",
    "data[\"T4prime\"] = data[\"T1\"].astype(float)/data[\"T4\"].astype(float)\n",
    "# percent of long words \n",
    "data[\"T5prime\"] = data[\"T5\"].astype(float)/data[\"T2\"].astype(float)\n",
    "#percent of positive words\n",
    "data[\"S1prime\"] = data[\"S1\"].astype(float)/data[\"T2\"].astype(float)\n",
    "#percent of negative words\n",
    "data[\"S2prime\"] = data[\"S2\"].astype(float)/data[\"T2\"].astype(float)\n",
    "#percent of uncertain words\n",
    "data[\"S3prime\"] = data[\"S3\"].astype(float)/data[\"T2\"].astype(float)"
   ]
  },
  {
   "cell_type": "code",
   "execution_count": 20,
   "metadata": {},
   "outputs": [
    {
     "data": {
      "text/html": [
       "<div>\n",
       "<style scoped>\n",
       "    .dataframe tbody tr th:only-of-type {\n",
       "        vertical-align: middle;\n",
       "    }\n",
       "\n",
       "    .dataframe tbody tr th {\n",
       "        vertical-align: top;\n",
       "    }\n",
       "\n",
       "    .dataframe thead th {\n",
       "        text-align: right;\n",
       "    }\n",
       "</style>\n",
       "<table border=\"1\" class=\"dataframe\">\n",
       "  <thead>\n",
       "    <tr style=\"text-align: right;\">\n",
       "      <th></th>\n",
       "      <th>I1</th>\n",
       "      <th>I2</th>\n",
       "      <th>I3</th>\n",
       "      <th>P(IPO)</th>\n",
       "      <th>P(H)</th>\n",
       "      <th>P(L)</th>\n",
       "      <th>P(1Day)</th>\n",
       "      <th>C1</th>\n",
       "      <th>C2</th>\n",
       "      <th>C4</th>\n",
       "      <th>...</th>\n",
       "      <th>C6calc</th>\n",
       "      <th>C6`</th>\n",
       "      <th>T1prime</th>\n",
       "      <th>T2prime</th>\n",
       "      <th>T3prime</th>\n",
       "      <th>T4prime</th>\n",
       "      <th>T5prime</th>\n",
       "      <th>S1prime</th>\n",
       "      <th>S2prime</th>\n",
       "      <th>S3prime</th>\n",
       "    </tr>\n",
       "  </thead>\n",
       "  <tbody>\n",
       "    <tr>\n",
       "      <th>0</th>\n",
       "      <td>AATI</td>\n",
       "      <td>ADVANCED ANALOGIC TECHNOLOGIES INC</td>\n",
       "      <td>3674</td>\n",
       "      <td>10.0</td>\n",
       "      <td>9.5</td>\n",
       "      <td>8.5</td>\n",
       "      <td>11.870000</td>\n",
       "      <td>122.0</td>\n",
       "      <td>1</td>\n",
       "      <td>0.029074</td>\n",
       "      <td>...</td>\n",
       "      <td>0.111111</td>\n",
       "      <td>0.111111</td>\n",
       "      <td>0.640426</td>\n",
       "      <td>0.054250</td>\n",
       "      <td>0.908876</td>\n",
       "      <td>1.561462</td>\n",
       "      <td>0.054250</td>\n",
       "      <td>0.004875</td>\n",
       "      <td>0.009199</td>\n",
       "      <td>0.010929</td>\n",
       "    </tr>\n",
       "    <tr>\n",
       "      <th>1</th>\n",
       "      <td>ABPI</td>\n",
       "      <td>ACCENTIA BIOPHARMACEUTICALS INC</td>\n",
       "      <td>2834</td>\n",
       "      <td>8.0</td>\n",
       "      <td>10.0</td>\n",
       "      <td>8.0</td>\n",
       "      <td>7.250000</td>\n",
       "      <td>259.0</td>\n",
       "      <td>0</td>\n",
       "      <td>-0.013352</td>\n",
       "      <td>...</td>\n",
       "      <td>-0.111111</td>\n",
       "      <td>0.000000</td>\n",
       "      <td>0.644753</td>\n",
       "      <td>0.051395</td>\n",
       "      <td>0.898724</td>\n",
       "      <td>1.550980</td>\n",
       "      <td>0.051395</td>\n",
       "      <td>0.003258</td>\n",
       "      <td>0.011105</td>\n",
       "      <td>0.010876</td>\n",
       "    </tr>\n",
       "    <tr>\n",
       "      <th>2</th>\n",
       "      <td>ACAD</td>\n",
       "      <td>ACADIA PHARMACEUTICALS INC</td>\n",
       "      <td>2834</td>\n",
       "      <td>7.0</td>\n",
       "      <td>14.0</td>\n",
       "      <td>12.0</td>\n",
       "      <td>6.700000</td>\n",
       "      <td>90.0</td>\n",
       "      <td>1</td>\n",
       "      <td>0.020715</td>\n",
       "      <td>...</td>\n",
       "      <td>-0.461538</td>\n",
       "      <td>0.000000</td>\n",
       "      <td>0.636816</td>\n",
       "      <td>0.061764</td>\n",
       "      <td>0.909350</td>\n",
       "      <td>1.570312</td>\n",
       "      <td>0.061764</td>\n",
       "      <td>0.011593</td>\n",
       "      <td>0.006271</td>\n",
       "      <td>0.011403</td>\n",
       "    </tr>\n",
       "    <tr>\n",
       "      <th>3</th>\n",
       "      <td>ACHN</td>\n",
       "      <td>ACHILLION PHARMACEUTICALS INC</td>\n",
       "      <td>2834</td>\n",
       "      <td>11.5</td>\n",
       "      <td>16.0</td>\n",
       "      <td>14.0</td>\n",
       "      <td>12.390000</td>\n",
       "      <td>209.0</td>\n",
       "      <td>1</td>\n",
       "      <td>0.020023</td>\n",
       "      <td>...</td>\n",
       "      <td>-0.233333</td>\n",
       "      <td>0.000000</td>\n",
       "      <td>0.539634</td>\n",
       "      <td>0.061630</td>\n",
       "      <td>0.917060</td>\n",
       "      <td>1.853107</td>\n",
       "      <td>0.061630</td>\n",
       "      <td>0.009686</td>\n",
       "      <td>0.007144</td>\n",
       "      <td>0.013319</td>\n",
       "    </tr>\n",
       "    <tr>\n",
       "      <th>4</th>\n",
       "      <td>ACLI</td>\n",
       "      <td>AMERICAN COMMERCIAL LINES INC.</td>\n",
       "      <td>4492</td>\n",
       "      <td>21.0</td>\n",
       "      <td>21.0</td>\n",
       "      <td>19.0</td>\n",
       "      <td>56.599998</td>\n",
       "      <td>80.0</td>\n",
       "      <td>1</td>\n",
       "      <td>-0.034895</td>\n",
       "      <td>...</td>\n",
       "      <td>0.050000</td>\n",
       "      <td>0.050000</td>\n",
       "      <td>0.587413</td>\n",
       "      <td>0.048550</td>\n",
       "      <td>0.888469</td>\n",
       "      <td>1.702381</td>\n",
       "      <td>0.048550</td>\n",
       "      <td>0.004518</td>\n",
       "      <td>0.010047</td>\n",
       "      <td>0.011261</td>\n",
       "    </tr>\n",
       "  </tbody>\n",
       "</table>\n",
       "<p>5 rows × 37 columns</p>\n",
       "</div>"
      ],
      "text/plain": [
       "     I1                                  I2    I3  P(IPO)  P(H)  P(L)  \\\n",
       "0  AATI  ADVANCED ANALOGIC TECHNOLOGIES INC  3674    10.0   9.5   8.5   \n",
       "1  ABPI     ACCENTIA BIOPHARMACEUTICALS INC  2834     8.0  10.0   8.0   \n",
       "2  ACAD          ACADIA PHARMACEUTICALS INC  2834     7.0  14.0  12.0   \n",
       "3  ACHN       ACHILLION PHARMACEUTICALS INC  2834    11.5  16.0  14.0   \n",
       "4  ACLI     AMERICAN COMMERCIAL LINES INC.   4492    21.0  21.0  19.0   \n",
       "\n",
       "     P(1Day)     C1  C2        C4  ...    C6calc       C6`   T1prime  \\\n",
       "0  11.870000  122.0   1  0.029074  ...  0.111111  0.111111  0.640426   \n",
       "1   7.250000  259.0   0 -0.013352  ... -0.111111  0.000000  0.644753   \n",
       "2   6.700000   90.0   1  0.020715  ... -0.461538  0.000000  0.636816   \n",
       "3  12.390000  209.0   1  0.020023  ... -0.233333  0.000000  0.539634   \n",
       "4  56.599998   80.0   1 -0.034895  ...  0.050000  0.050000  0.587413   \n",
       "\n",
       "    T2prime   T3prime   T4prime   T5prime   S1prime   S2prime   S3prime  \n",
       "0  0.054250  0.908876  1.561462  0.054250  0.004875  0.009199  0.010929  \n",
       "1  0.051395  0.898724  1.550980  0.051395  0.003258  0.011105  0.010876  \n",
       "2  0.061764  0.909350  1.570312  0.061764  0.011593  0.006271  0.011403  \n",
       "3  0.061630  0.917060  1.853107  0.061630  0.009686  0.007144  0.013319  \n",
       "4  0.048550  0.888469  1.702381  0.048550  0.004518  0.010047  0.011261  \n",
       "\n",
       "[5 rows x 37 columns]"
      ]
     },
     "execution_count": 20,
     "metadata": {},
     "output_type": "execute_result"
    }
   ],
   "source": [
    "data.head()"
   ]
  },
  {
   "cell_type": "code",
   "execution_count": 21,
   "metadata": {},
   "outputs": [
    {
     "name": "stdout",
     "output_type": "stream",
     "text": [
      "<class 'pandas.core.frame.DataFrame'>\n",
      "Int64Index: 660 entries, 0 to 681\n",
      "Data columns (total 37 columns):\n",
      "I1           660 non-null object\n",
      "I2           660 non-null object\n",
      "I3           660 non-null object\n",
      "P(IPO)       660 non-null float64\n",
      "P(H)         660 non-null float64\n",
      "P(L)         660 non-null float64\n",
      "P(1Day)      660 non-null float64\n",
      "C1           660 non-null float64\n",
      "C2           660 non-null int64\n",
      "C4           660 non-null float64\n",
      "C5           660 non-null float64\n",
      "C6           660 non-null float64\n",
      "T1           660 non-null float64\n",
      "T2           660 non-null float64\n",
      "T3           660 non-null float64\n",
      "T4           660 non-null float64\n",
      "T5           660 non-null float64\n",
      "S1           660 non-null float64\n",
      "S2           660 non-null float64\n",
      "S3           660 non-null float64\n",
      "C3_impute    660 non-null float64\n",
      "C7_impute    660 non-null float64\n",
      "P(mid)       660 non-null float64\n",
      "Y1           660 non-null int64\n",
      "Y2           660 non-null int64\n",
      "C3`          660 non-null int64\n",
      "C5`          660 non-null float64\n",
      "C6calc       660 non-null float64\n",
      "C6`          660 non-null float64\n",
      "T1prime      660 non-null float64\n",
      "T2prime      660 non-null float64\n",
      "T3prime      660 non-null float64\n",
      "T4prime      660 non-null float64\n",
      "T5prime      660 non-null float64\n",
      "S1prime      660 non-null float64\n",
      "S2prime      660 non-null float64\n",
      "S3prime      660 non-null float64\n",
      "dtypes: float64(30), int64(4), object(3)\n",
      "memory usage: 195.9+ KB\n"
     ]
    }
   ],
   "source": [
    "data.info()"
   ]
  },
  {
   "cell_type": "code",
   "execution_count": 22,
   "metadata": {},
   "outputs": [],
   "source": [
    "# exclude C6Calc and put Y1, Y2 at the end \n",
    "# no T3 --> zeroes \n",
    "data = data[['C1', 'C4',\n",
    "       'C5', 'C6', 'C3_impute',\n",
    "       'C7_impute', 'C5`', 'C6`',\n",
    "       'T1prime', 'T2prime','T3prime', 'T4prime', 'T5prime', 'S1prime',\n",
    "       'S2prime', 'S3prime','Y1', 'Y2']]"
   ]
  },
  {
   "cell_type": "code",
   "execution_count": 23,
   "metadata": {},
   "outputs": [
    {
     "data": {
      "text/plain": [
       "Index(['C1', 'C4', 'C5', 'C6', 'C3_impute', 'C7_impute', 'C5`', 'C6`',\n",
       "       'T1prime', 'T2prime', 'T3prime', 'T4prime', 'T5prime', 'S1prime',\n",
       "       'S2prime', 'S3prime', 'Y1', 'Y2'],\n",
       "      dtype='object')"
      ]
     },
     "execution_count": 23,
     "metadata": {},
     "output_type": "execute_result"
    }
   ],
   "source": [
    "data.columns"
   ]
  },
  {
   "cell_type": "code",
   "execution_count": 24,
   "metadata": {},
   "outputs": [],
   "source": [
    "#data['C2'] = data['C2'].astype(int)\n",
    "#data['I3'] = data['I3'].astype(str)\n",
    "# changing to correct type --> to continous \n",
    "#cols = ['P(IPO)','P(H)','P(L)','P(1Day)','C1','C3','C4','C5','C6','C7','T1','T2','T3','T4','T5','S1','S2','S3']\n",
    "#data[cols] = data[cols].astype(float)\n",
    "#data.info()"
   ]
  },
  {
   "cell_type": "code",
   "execution_count": 25,
   "metadata": {},
   "outputs": [],
   "source": [
    "data.to_csv('omg2.csv')"
   ]
  },
  {
   "cell_type": "code",
   "execution_count": null,
   "metadata": {},
   "outputs": [],
   "source": []
  },
  {
   "cell_type": "markdown",
   "metadata": {},
   "source": [
    "Outliers"
   ]
  },
  {
   "cell_type": "code",
   "execution_count": null,
   "metadata": {},
   "outputs": [],
   "source": [
    "my_col = data['C6']\n",
    "my_col.head()"
   ]
  },
  {
   "cell_type": "code",
   "execution_count": 70,
   "metadata": {},
   "outputs": [
    {
     "ename": "NameError",
     "evalue": "name 'my_col' is not defined",
     "output_type": "error",
     "traceback": [
      "\u001b[0;31m---------------------------------------------------------------------------\u001b[0m",
      "\u001b[0;31mNameError\u001b[0m                                 Traceback (most recent call last)",
      "\u001b[0;32m<ipython-input-70-1068499c3da5>\u001b[0m in \u001b[0;36m<module>\u001b[0;34m\u001b[0m\n\u001b[0;32m----> 1\u001b[0;31m \u001b[0mmy_col\u001b[0m\u001b[0;34m[\u001b[0m\u001b[0mmy_col\u001b[0m\u001b[0;34m>\u001b[0m\u001b[0mu_bound\u001b[0m\u001b[0;34m]\u001b[0m\u001b[0;34m\u001b[0m\u001b[0;34m\u001b[0m\u001b[0m\n\u001b[0m",
      "\u001b[0;31mNameError\u001b[0m: name 'my_col' is not defined"
     ]
    }
   ],
   "source": [
    "my_col[my_col>u_bound] = u_bound"
   ]
  },
  {
   "cell_type": "code",
   "execution_count": null,
   "metadata": {},
   "outputs": [],
   "source": [
    "pd.Series(my_col>u_bound).value_counts()"
   ]
  },
  {
   "cell_type": "markdown",
   "metadata": {},
   "source": [
    "# Descriptive"
   ]
  },
  {
   "cell_type": "markdown",
   "metadata": {},
   "source": [
    "REPORT IT with interpretation "
   ]
  },
  {
   "cell_type": "code",
   "execution_count": 26,
   "metadata": {},
   "outputs": [
    {
     "data": {
      "text/html": [
       "<div>\n",
       "<style scoped>\n",
       "    .dataframe tbody tr th:only-of-type {\n",
       "        vertical-align: middle;\n",
       "    }\n",
       "\n",
       "    .dataframe tbody tr th {\n",
       "        vertical-align: top;\n",
       "    }\n",
       "\n",
       "    .dataframe thead th {\n",
       "        text-align: right;\n",
       "    }\n",
       "</style>\n",
       "<table border=\"1\" class=\"dataframe\">\n",
       "  <thead>\n",
       "    <tr style=\"text-align: right;\">\n",
       "      <th></th>\n",
       "      <th>C1</th>\n",
       "      <th>C4</th>\n",
       "      <th>C5</th>\n",
       "      <th>C6</th>\n",
       "      <th>C3_impute</th>\n",
       "      <th>C7_impute</th>\n",
       "      <th>C5`</th>\n",
       "      <th>C6`</th>\n",
       "      <th>T1prime</th>\n",
       "      <th>T2prime</th>\n",
       "      <th>T3prime</th>\n",
       "      <th>T4prime</th>\n",
       "      <th>T5prime</th>\n",
       "      <th>S1prime</th>\n",
       "      <th>S2prime</th>\n",
       "      <th>S3prime</th>\n",
       "      <th>Y1</th>\n",
       "      <th>Y2</th>\n",
       "    </tr>\n",
       "  </thead>\n",
       "  <tbody>\n",
       "    <tr>\n",
       "      <th>count</th>\n",
       "      <td>660.000000</td>\n",
       "      <td>660.000000</td>\n",
       "      <td>6.600000e+02</td>\n",
       "      <td>6.600000e+02</td>\n",
       "      <td>660.000000</td>\n",
       "      <td>660.000000</td>\n",
       "      <td>660.000000</td>\n",
       "      <td>660.000000</td>\n",
       "      <td>660.000000</td>\n",
       "      <td>660.000000</td>\n",
       "      <td>660.000000</td>\n",
       "      <td>660.000000</td>\n",
       "      <td>660.000000</td>\n",
       "      <td>660.000000</td>\n",
       "      <td>660.000000</td>\n",
       "      <td>660.000000</td>\n",
       "      <td>660.000000</td>\n",
       "      <td>660.000000</td>\n",
       "    </tr>\n",
       "    <tr>\n",
       "      <th>mean</th>\n",
       "      <td>149.728788</td>\n",
       "      <td>0.007282</td>\n",
       "      <td>4.996285e+07</td>\n",
       "      <td>1.258248e+07</td>\n",
       "      <td>0.066724</td>\n",
       "      <td>470.631368</td>\n",
       "      <td>4.417255</td>\n",
       "      <td>0.054046</td>\n",
       "      <td>0.628496</td>\n",
       "      <td>0.052271</td>\n",
       "      <td>0.895157</td>\n",
       "      <td>1.611520</td>\n",
       "      <td>0.052271</td>\n",
       "      <td>0.005318</td>\n",
       "      <td>0.009059</td>\n",
       "      <td>0.011519</td>\n",
       "      <td>0.500000</td>\n",
       "      <td>0.383333</td>\n",
       "    </tr>\n",
       "    <tr>\n",
       "      <th>std</th>\n",
       "      <td>152.817467</td>\n",
       "      <td>0.033318</td>\n",
       "      <td>1.055377e+08</td>\n",
       "      <td>2.539940e+07</td>\n",
       "      <td>158.390378</td>\n",
       "      <td>1587.801852</td>\n",
       "      <td>5.133537</td>\n",
       "      <td>0.108776</td>\n",
       "      <td>0.069606</td>\n",
       "      <td>0.007144</td>\n",
       "      <td>0.044090</td>\n",
       "      <td>0.187237</td>\n",
       "      <td>0.007144</td>\n",
       "      <td>0.001744</td>\n",
       "      <td>0.003000</td>\n",
       "      <td>0.002851</td>\n",
       "      <td>0.500379</td>\n",
       "      <td>0.486567</td>\n",
       "    </tr>\n",
       "    <tr>\n",
       "      <th>min</th>\n",
       "      <td>10.000000</td>\n",
       "      <td>-0.162352</td>\n",
       "      <td>3.693227e+06</td>\n",
       "      <td>8.000000e+05</td>\n",
       "      <td>-786.239000</td>\n",
       "      <td>0.074000</td>\n",
       "      <td>0.283223</td>\n",
       "      <td>0.000000</td>\n",
       "      <td>0.395480</td>\n",
       "      <td>0.031595</td>\n",
       "      <td>0.669838</td>\n",
       "      <td>1.210145</td>\n",
       "      <td>0.031595</td>\n",
       "      <td>0.001602</td>\n",
       "      <td>0.002152</td>\n",
       "      <td>0.005326</td>\n",
       "      <td>0.000000</td>\n",
       "      <td>0.000000</td>\n",
       "    </tr>\n",
       "    <tr>\n",
       "      <th>25%</th>\n",
       "      <td>85.000000</td>\n",
       "      <td>-0.013927</td>\n",
       "      <td>1.877568e+07</td>\n",
       "      <td>5.124546e+06</td>\n",
       "      <td>-0.795000</td>\n",
       "      <td>41.458000</td>\n",
       "      <td>2.850622</td>\n",
       "      <td>0.000000</td>\n",
       "      <td>0.580706</td>\n",
       "      <td>0.047562</td>\n",
       "      <td>0.883417</td>\n",
       "      <td>1.482666</td>\n",
       "      <td>0.047562</td>\n",
       "      <td>0.004134</td>\n",
       "      <td>0.006966</td>\n",
       "      <td>0.009579</td>\n",
       "      <td>0.000000</td>\n",
       "      <td>0.000000</td>\n",
       "    </tr>\n",
       "    <tr>\n",
       "      <th>50%</th>\n",
       "      <td>107.000000</td>\n",
       "      <td>0.009125</td>\n",
       "      <td>2.745438e+07</td>\n",
       "      <td>7.500000e+06</td>\n",
       "      <td>0.000000</td>\n",
       "      <td>107.462000</td>\n",
       "      <td>3.731035</td>\n",
       "      <td>0.000000</td>\n",
       "      <td>0.628861</td>\n",
       "      <td>0.051943</td>\n",
       "      <td>0.897294</td>\n",
       "      <td>1.590177</td>\n",
       "      <td>0.051943</td>\n",
       "      <td>0.005041</td>\n",
       "      <td>0.008577</td>\n",
       "      <td>0.011301</td>\n",
       "      <td>0.500000</td>\n",
       "      <td>0.000000</td>\n",
       "    </tr>\n",
       "    <tr>\n",
       "      <th>75%</th>\n",
       "      <td>155.250000</td>\n",
       "      <td>0.031571</td>\n",
       "      <td>5.003986e+07</td>\n",
       "      <td>1.200000e+07</td>\n",
       "      <td>0.402500</td>\n",
       "      <td>300.764000</td>\n",
       "      <td>4.857904</td>\n",
       "      <td>0.076923</td>\n",
       "      <td>0.674461</td>\n",
       "      <td>0.056489</td>\n",
       "      <td>0.909693</td>\n",
       "      <td>1.722041</td>\n",
       "      <td>0.056489</td>\n",
       "      <td>0.006256</td>\n",
       "      <td>0.010521</td>\n",
       "      <td>0.012848</td>\n",
       "      <td>1.000000</td>\n",
       "      <td>1.000000</td>\n",
       "    </tr>\n",
       "    <tr>\n",
       "      <th>max</th>\n",
       "      <td>2087.000000</td>\n",
       "      <td>0.092896</td>\n",
       "      <td>2.138085e+09</td>\n",
       "      <td>4.212336e+08</td>\n",
       "      <td>3864.500000</td>\n",
       "      <td>30683.000000</td>\n",
       "      <td>99.787255</td>\n",
       "      <td>1.000000</td>\n",
       "      <td>0.826347</td>\n",
       "      <td>0.093585</td>\n",
       "      <td>1.579238</td>\n",
       "      <td>2.528571</td>\n",
       "      <td>0.093585</td>\n",
       "      <td>0.012839</td>\n",
       "      <td>0.024605</td>\n",
       "      <td>0.029397</td>\n",
       "      <td>1.000000</td>\n",
       "      <td>1.000000</td>\n",
       "    </tr>\n",
       "  </tbody>\n",
       "</table>\n",
       "</div>"
      ],
      "text/plain": [
       "                C1          C4            C5            C6    C3_impute  \\\n",
       "count   660.000000  660.000000  6.600000e+02  6.600000e+02   660.000000   \n",
       "mean    149.728788    0.007282  4.996285e+07  1.258248e+07     0.066724   \n",
       "std     152.817467    0.033318  1.055377e+08  2.539940e+07   158.390378   \n",
       "min      10.000000   -0.162352  3.693227e+06  8.000000e+05  -786.239000   \n",
       "25%      85.000000   -0.013927  1.877568e+07  5.124546e+06    -0.795000   \n",
       "50%     107.000000    0.009125  2.745438e+07  7.500000e+06     0.000000   \n",
       "75%     155.250000    0.031571  5.003986e+07  1.200000e+07     0.402500   \n",
       "max    2087.000000    0.092896  2.138085e+09  4.212336e+08  3864.500000   \n",
       "\n",
       "          C7_impute         C5`         C6`     T1prime     T2prime  \\\n",
       "count    660.000000  660.000000  660.000000  660.000000  660.000000   \n",
       "mean     470.631368    4.417255    0.054046    0.628496    0.052271   \n",
       "std     1587.801852    5.133537    0.108776    0.069606    0.007144   \n",
       "min        0.074000    0.283223    0.000000    0.395480    0.031595   \n",
       "25%       41.458000    2.850622    0.000000    0.580706    0.047562   \n",
       "50%      107.462000    3.731035    0.000000    0.628861    0.051943   \n",
       "75%      300.764000    4.857904    0.076923    0.674461    0.056489   \n",
       "max    30683.000000   99.787255    1.000000    0.826347    0.093585   \n",
       "\n",
       "          T3prime     T4prime     T5prime     S1prime     S2prime     S3prime  \\\n",
       "count  660.000000  660.000000  660.000000  660.000000  660.000000  660.000000   \n",
       "mean     0.895157    1.611520    0.052271    0.005318    0.009059    0.011519   \n",
       "std      0.044090    0.187237    0.007144    0.001744    0.003000    0.002851   \n",
       "min      0.669838    1.210145    0.031595    0.001602    0.002152    0.005326   \n",
       "25%      0.883417    1.482666    0.047562    0.004134    0.006966    0.009579   \n",
       "50%      0.897294    1.590177    0.051943    0.005041    0.008577    0.011301   \n",
       "75%      0.909693    1.722041    0.056489    0.006256    0.010521    0.012848   \n",
       "max      1.579238    2.528571    0.093585    0.012839    0.024605    0.029397   \n",
       "\n",
       "               Y1          Y2  \n",
       "count  660.000000  660.000000  \n",
       "mean     0.500000    0.383333  \n",
       "std      0.500379    0.486567  \n",
       "min      0.000000    0.000000  \n",
       "25%      0.000000    0.000000  \n",
       "50%      0.500000    0.000000  \n",
       "75%      1.000000    1.000000  \n",
       "max      1.000000    1.000000  "
      ]
     },
     "execution_count": 26,
     "metadata": {},
     "output_type": "execute_result"
    }
   ],
   "source": [
    "data.describe()"
   ]
  },
  {
   "cell_type": "code",
   "execution_count": 27,
   "metadata": {},
   "outputs": [
    {
     "name": "stdout",
     "output_type": "stream",
     "text": [
      "<class 'pandas.core.frame.DataFrame'>\n",
      "Int64Index: 660 entries, 0 to 681\n",
      "Data columns (total 18 columns):\n",
      "C1           660 non-null float64\n",
      "C4           660 non-null float64\n",
      "C5           660 non-null float64\n",
      "C6           660 non-null float64\n",
      "C3_impute    660 non-null float64\n",
      "C7_impute    660 non-null float64\n",
      "C5`          660 non-null float64\n",
      "C6`          660 non-null float64\n",
      "T1prime      660 non-null float64\n",
      "T2prime      660 non-null float64\n",
      "T3prime      660 non-null float64\n",
      "T4prime      660 non-null float64\n",
      "T5prime      660 non-null float64\n",
      "S1prime      660 non-null float64\n",
      "S2prime      660 non-null float64\n",
      "S3prime      660 non-null float64\n",
      "Y1           660 non-null int64\n",
      "Y2           660 non-null int64\n",
      "dtypes: float64(16), int64(2)\n",
      "memory usage: 98.0 KB\n"
     ]
    }
   ],
   "source": [
    "data.info()"
   ]
  },
  {
   "cell_type": "code",
   "execution_count": 28,
   "metadata": {},
   "outputs": [
    {
     "data": {
      "text/plain": [
       "C1           False\n",
       "C4           False\n",
       "C5           False\n",
       "C6           False\n",
       "C3_impute    False\n",
       "C7_impute    False\n",
       "C5`          False\n",
       "C6`          False\n",
       "T1prime      False\n",
       "T2prime      False\n",
       "T3prime      False\n",
       "T4prime      False\n",
       "T5prime      False\n",
       "S1prime      False\n",
       "S2prime      False\n",
       "S3prime      False\n",
       "Y1            True\n",
       "Y2            True\n",
       "Name: Y1, dtype: bool"
      ]
     },
     "execution_count": 28,
     "metadata": {},
     "output_type": "execute_result"
    }
   ],
   "source": [
    "s1 = data.corr()['Y1'] > 0.5 \n",
    "s2 = data.corr()['Y1'] < -0.5\n",
    "s1 | s2 # logical OR"
   ]
  },
  {
   "cell_type": "code",
   "execution_count": 29,
   "metadata": {},
   "outputs": [
    {
     "data": {
      "text/plain": [
       "C1           False\n",
       "C4           False\n",
       "C5           False\n",
       "C6           False\n",
       "C3_impute    False\n",
       "C7_impute    False\n",
       "C5`          False\n",
       "C6`           True\n",
       "T1prime      False\n",
       "T2prime      False\n",
       "T3prime      False\n",
       "T4prime      False\n",
       "T5prime      False\n",
       "S1prime      False\n",
       "S2prime      False\n",
       "S3prime      False\n",
       "Y1            True\n",
       "Y2            True\n",
       "Name: Y2, dtype: bool"
      ]
     },
     "execution_count": 29,
     "metadata": {},
     "output_type": "execute_result"
    }
   ],
   "source": [
    "s1 = data.corr()['Y2'] > 0.5 \n",
    "s2 = data.corr()['Y2'] < -0.5\n",
    "s1 | s2 # logical OR"
   ]
  },
  {
   "cell_type": "markdown",
   "metadata": {},
   "source": [
    "# Normality test"
   ]
  },
  {
   "cell_type": "code",
   "execution_count": 30,
   "metadata": {},
   "outputs": [
    {
     "data": {
      "text/plain": [
       "array([[<matplotlib.axes._subplots.AxesSubplot object at 0x7f4807613898>,\n",
       "        <matplotlib.axes._subplots.AxesSubplot object at 0x7f48055a8b70>,\n",
       "        <matplotlib.axes._subplots.AxesSubplot object at 0x7f4805550f98>],\n",
       "       [<matplotlib.axes._subplots.AxesSubplot object at 0x7f4805500668>,\n",
       "        <matplotlib.axes._subplots.AxesSubplot object at 0x7f4805525cf8>,\n",
       "        <matplotlib.axes._subplots.AxesSubplot object at 0x7f4805525d30>],\n",
       "       [<matplotlib.axes._subplots.AxesSubplot object at 0x7f4805478a20>,\n",
       "        <matplotlib.axes._subplots.AxesSubplot object at 0x7f48054aa0f0>,\n",
       "        <matplotlib.axes._subplots.AxesSubplot object at 0x7f480544e780>]],\n",
       "      dtype=object)"
      ]
     },
     "execution_count": 30,
     "metadata": {},
     "output_type": "execute_result"
    }
   ],
   "source": [
    "pd.plotting.scatter_matrix(data[['S1prime', 'S2prime', 'S3prime']], figsize=(14,14), hist_kwds={'bins':8}, alpha=.5, marker='o', s=50)"
   ]
  },
  {
   "cell_type": "code",
   "execution_count": 31,
   "metadata": {},
   "outputs": [
    {
     "data": {
      "text/plain": [
       "<matplotlib.axes._subplots.AxesSubplot at 0x7f4804b1a3c8>"
      ]
     },
     "execution_count": 31,
     "metadata": {},
     "output_type": "execute_result"
    },
    {
     "data": {
      "image/png": "[encoded data removed]",
      "text/plain": [
       "<Figure size 432x288 with 1 Axes>"
      ]
     },
     "metadata": {
      "needs_background": "light"
     },
     "output_type": "display_data"
    }
   ],
   "source": [
    "data['S1prime_sqrt']=np.log((data['S1prime']))\n",
    "data['S1prime_sqrt'].hist()"
   ]
  },
  {
   "cell_type": "code",
   "execution_count": 32,
   "metadata": {},
   "outputs": [
    {
     "data": {
      "text/plain": [
       "<matplotlib.axes._subplots.AxesSubplot at 0x7f4804ad5e80>"
      ]
     },
     "execution_count": 32,
     "metadata": {},
     "output_type": "execute_result"
    },
    {
     "data": {
      "image/png": "[encoded data removed]",
      "text/plain": [
       "<Figure size 432x288 with 1 Axes>"
      ]
     },
     "metadata": {
      "needs_background": "light"
     },
     "output_type": "display_data"
    }
   ],
   "source": [
    "data['S2prime_sqrt']=np.log((data['S2prime']))\n",
    "data['S2prime_sqrt'].hist()"
   ]
  },
  {
   "cell_type": "code",
   "execution_count": 33,
   "metadata": {},
   "outputs": [
    {
     "data": {
      "text/plain": [
       "<matplotlib.axes._subplots.AxesSubplot at 0x7f4804a04358>"
      ]
     },
     "execution_count": 33,
     "metadata": {},
     "output_type": "execute_result"
    },
    {
     "data": {
      "image/png": "[encoded data removed]",
      "text/plain": [
       "<Figure size 432x288 with 1 Axes>"
      ]
     },
     "metadata": {
      "needs_background": "light"
     },
     "output_type": "display_data"
    }
   ],
   "source": [
    "data['S3prime_sqrt'] = np.log(data['S3prime'])\n",
    "data['S3prime_sqrt'].hist()"
   ]
  },
  {
   "cell_type": "code",
   "execution_count": 34,
   "metadata": {},
   "outputs": [
    {
     "name": "stdout",
     "output_type": "stream",
     "text": [
      "Statistics=0.991, p=0.000\n",
      "Sample does not look Gaussian (reject H0)\n"
     ]
    }
   ],
   "source": [
    "# only for the continous \n",
    "# another skewness test --> request skewness from pandas \n",
    "# and look at the histograms \n",
    "from scipy.stats import shapiro\n",
    "stat, p = shapiro(data['S3prime_sqrt'])\n",
    "print('Statistics=%.3f, p=%.3f' % (stat, p))\n",
    "\n",
    "# interpret\n",
    "alpha = 0.05\n",
    "if p > alpha:\n",
    "    print('Sample looks Gaussian (fail to reject H0)')\n",
    "else:\n",
    "    print('Sample does not look Gaussian (reject H0)')"
   ]
  },
  {
   "cell_type": "code",
   "execution_count": 35,
   "metadata": {},
   "outputs": [
    {
     "data": {
      "text/plain": [
       "array([[<matplotlib.axes._subplots.AxesSubplot object at 0x7f4802e8d1d0>,\n",
       "        <matplotlib.axes._subplots.AxesSubplot object at 0x7f4802d24588>,\n",
       "        <matplotlib.axes._subplots.AxesSubplot object at 0x7f4802cccc18>,\n",
       "        <matplotlib.axes._subplots.AxesSubplot object at 0x7f4802d002e8>,\n",
       "        <matplotlib.axes._subplots.AxesSubplot object at 0x7f4802ca3978>,\n",
       "        <matplotlib.axes._subplots.AxesSubplot object at 0x7f4802ca39b0>],\n",
       "       [<matplotlib.axes._subplots.AxesSubplot object at 0x7f4802c7f6d8>,\n",
       "        <matplotlib.axes._subplots.AxesSubplot object at 0x7f4802c28d68>,\n",
       "        <matplotlib.axes._subplots.AxesSubplot object at 0x7f4802bda438>,\n",
       "        <matplotlib.axes._subplots.AxesSubplot object at 0x7f4802b84ac8>,\n",
       "        <matplotlib.axes._subplots.AxesSubplot object at 0x7f4802bb4198>,\n",
       "        <matplotlib.axes._subplots.AxesSubplot object at 0x7f4802b5c828>],\n",
       "       [<matplotlib.axes._subplots.AxesSubplot object at 0x7f4802b06eb8>,\n",
       "        <matplotlib.axes._subplots.AxesSubplot object at 0x7f4802b36588>,\n",
       "        <matplotlib.axes._subplots.AxesSubplot object at 0x7f4802adcc18>,\n",
       "        <matplotlib.axes._subplots.AxesSubplot object at 0x7f4802a902e8>,\n",
       "        <matplotlib.axes._subplots.AxesSubplot object at 0x7f4802ab7978>,\n",
       "        <matplotlib.axes._subplots.AxesSubplot object at 0x7f4802a69048>],\n",
       "       [<matplotlib.axes._subplots.AxesSubplot object at 0x7f4802a126d8>,\n",
       "        <matplotlib.axes._subplots.AxesSubplot object at 0x7f4802a3bd68>,\n",
       "        <matplotlib.axes._subplots.AxesSubplot object at 0x7f48029eb438>,\n",
       "        <matplotlib.axes._subplots.AxesSubplot object at 0x7f4802993ac8>,\n",
       "        <matplotlib.axes._subplots.AxesSubplot object at 0x7f4802946198>,\n",
       "        <matplotlib.axes._subplots.AxesSubplot object at 0x7f480296d828>],\n",
       "       [<matplotlib.axes._subplots.AxesSubplot object at 0x7f4802917eb8>,\n",
       "        <matplotlib.axes._subplots.AxesSubplot object at 0x7f48028c7588>,\n",
       "        <matplotlib.axes._subplots.AxesSubplot object at 0x7f48028efbe0>,\n",
       "        <matplotlib.axes._subplots.AxesSubplot object at 0x7f48028a32b0>,\n",
       "        <matplotlib.axes._subplots.AxesSubplot object at 0x7f480284a940>,\n",
       "        <matplotlib.axes._subplots.AxesSubplot object at 0x7f4802870fd0>],\n",
       "       [<matplotlib.axes._subplots.AxesSubplot object at 0x7f48028236a0>,\n",
       "        <matplotlib.axes._subplots.AxesSubplot object at 0x7f48027cbd30>,\n",
       "        <matplotlib.axes._subplots.AxesSubplot object at 0x7f48027fe400>,\n",
       "        <matplotlib.axes._subplots.AxesSubplot object at 0x7f48027a6a90>,\n",
       "        <matplotlib.axes._subplots.AxesSubplot object at 0x7f4802759160>,\n",
       "        <matplotlib.axes._subplots.AxesSubplot object at 0x7f48027807f0>]],\n",
       "      dtype=object)"
      ]
     },
     "execution_count": 35,
     "metadata": {},
     "output_type": "execute_result"
    },
    {
     "data": {
      "image/png": "[encoded data removed]",
      "text/plain": [
       "<Figure size 1008x1008 with 36 Axes>"
      ]
     },
     "metadata": {
      "needs_background": "light"
     },
     "output_type": "display_data"
    }
   ],
   "source": [
    "pd.plotting.scatter_matrix(data[['C1', 'C4',\n",
    "       'C5', 'C6','C3_impute','C7_impute']], figsize=(14,14), hist_kwds={'bins':8}, alpha=.5, marker='o', s=50)"
   ]
  },
  {
   "cell_type": "code",
   "execution_count": 36,
   "metadata": {},
   "outputs": [
    {
     "data": {
      "text/plain": [
       "Index(['C1', 'C4', 'C5', 'C6', 'C3_impute', 'C7_impute', 'C5`', 'C6`',\n",
       "       'T1prime', 'T2prime', 'T3prime', 'T4prime', 'T5prime', 'S1prime',\n",
       "       'S2prime', 'S3prime', 'Y1', 'Y2', 'S1prime_sqrt', 'S2prime_sqrt',\n",
       "       'S3prime_sqrt'],\n",
       "      dtype='object')"
      ]
     },
     "execution_count": 36,
     "metadata": {},
     "output_type": "execute_result"
    }
   ],
   "source": [
    "data.columns"
   ]
  },
  {
   "cell_type": "code",
   "execution_count": 78,
   "metadata": {},
   "outputs": [
    {
     "data": {
      "text/plain": [
       "<matplotlib.axes._subplots.AxesSubplot at 0x7f47fbe979e8>"
      ]
     },
     "execution_count": 78,
     "metadata": {},
     "output_type": "execute_result"
    },
    {
     "data": {
      "image/png": "[encoded data removed]",
      "text/plain": [
       "<Figure size 432x288 with 1 Axes>"
      ]
     },
     "metadata": {
      "needs_background": "light"
     },
     "output_type": "display_data"
    }
   ],
   "source": [
    "data['C6_norm']=1/(np.log(data['C6']))\n",
    "data['C6_norm'].hist()"
   ]
  },
  {
   "cell_type": "code",
   "execution_count": 80,
   "metadata": {},
   "outputs": [
    {
     "data": {
      "text/plain": [
       "-0.3936679536459565"
      ]
     },
     "execution_count": 80,
     "metadata": {},
     "output_type": "execute_result"
    }
   ],
   "source": [
    "data['C6_norm'].skew()"
   ]
  },
  {
   "cell_type": "code",
   "execution_count": 83,
   "metadata": {},
   "outputs": [
    {
     "data": {
      "text/plain": [
       "<matplotlib.axes._subplots.AxesSubplot at 0x7f47fbe30080>"
      ]
     },
     "execution_count": 83,
     "metadata": {},
     "output_type": "execute_result"
    },
    {
     "data": {
      "image/png": "[encoded data removed]",
      "text/plain": [
       "<Figure size 432x288 with 1 Axes>"
      ]
     },
     "metadata": {
      "needs_background": "light"
     },
     "output_type": "display_data"
    }
   ],
   "source": [
    "data['C3_norm']=np.tanh(data['C3_impute']+1)\n",
    "data['C3_norm'].hist()"
   ]
  },
  {
   "cell_type": "code",
   "execution_count": 84,
   "metadata": {},
   "outputs": [
    {
     "data": {
      "text/plain": [
       "-0.05853186707070183"
      ]
     },
     "execution_count": 84,
     "metadata": {},
     "output_type": "execute_result"
    }
   ],
   "source": [
    "data['C3_norm'].skew()"
   ]
  },
  {
   "cell_type": "code",
   "execution_count": 87,
   "metadata": {},
   "outputs": [
    {
     "data": {
      "text/plain": [
       "<matplotlib.axes._subplots.AxesSubplot at 0x7f47fbd19ef0>"
      ]
     },
     "execution_count": 87,
     "metadata": {},
     "output_type": "execute_result"
    },
    {
     "data": {
      "image/png": "[encoded data removed]",
      "text/plain": [
       "<Figure size 432x288 with 1 Axes>"
      ]
     },
     "metadata": {
      "needs_background": "light"
     },
     "output_type": "display_data"
    }
   ],
   "source": [
    "data['C7_norm']=np.log(data['C7_impute']+1)\n",
    "data['C7_norm'].hist()"
   ]
  },
  {
   "cell_type": "code",
   "execution_count": 88,
   "metadata": {},
   "outputs": [
    {
     "data": {
      "text/plain": [
       "-0.19508055631888138"
      ]
     },
     "execution_count": 88,
     "metadata": {},
     "output_type": "execute_result"
    }
   ],
   "source": [
    "data['C7_norm'].skew()"
   ]
  },
  {
   "cell_type": "code",
   "execution_count": null,
   "metadata": {},
   "outputs": [],
   "source": [
    "pd.plotting.scatter_matrix(data[['T1prime','T3prime', 'T4prime', 'T2prime','T5prime']], figsize=(14,14), hist_kwds={'bins':8}, alpha=.5, marker='o', s=50)"
   ]
  },
  {
   "cell_type": "code",
   "execution_count": null,
   "metadata": {},
   "outputs": [],
   "source": [
    "# T1 looks good "
   ]
  },
  {
   "cell_type": "code",
   "execution_count": null,
   "metadata": {},
   "outputs": [],
   "source": [
    "# only for the continous \n",
    "# another skewness test --> request skewness from pandas \n",
    "# and look at the histograms \n",
    "from scipy.stats import shapiro\n",
    "stat, p = shapiro(data['S1prime_sqrt'])\n",
    "print('Statistics=%.3f, p=%.3f' % (stat, p))\n",
    "\n",
    "# interpret\n",
    "alpha = 0.05\n",
    "if p > alpha:\n",
    "    print('Sample looks Gaussian (fail to reject H0)')\n",
    "else:\n",
    "    print('Sample does not look Gaussian (reject H0)')"
   ]
  },
  {
   "cell_type": "code",
   "execution_count": null,
   "metadata": {},
   "outputs": [],
   "source": [
    "# IQR, minmax, normalize, z-score "
   ]
  }
 ],
 "metadata": {
  "kernelspec": {
   "display_name": "Python 3",
   "language": "python",
   "name": "python3"
  },
  "language_info": {
   "codemirror_mode": {
    "name": "ipython",
    "version": 3
   },
   "file_extension": ".py",
   "mimetype": "text/x-python",
   "name": "python",
   "nbconvert_exporter": "python",
   "pygments_lexer": "ipython3",
   "version": "3.6.7"
  }
 },
 "nbformat": 4,
 "nbformat_minor": 4
}
