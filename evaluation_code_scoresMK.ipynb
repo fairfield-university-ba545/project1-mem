{
 "cells": [
  {
   "cell_type": "markdown",
   "metadata": {},
   "source": [
    "imputed with mean\n",
    "columns:['S2prime_norm', 'C3_norm', 'T2prime_norm', 'T5prime_norm', 'Y1', 'Y2']\n",
    "Y1:0.612\n",
    "Y2: 0.579"
   ]
  },
  {
   "cell_type": "code",
   "execution_count": null,
   "metadata": {},
   "outputs": [],
   "source": [
    "imputed with median\n",
    "columns:['S2prime_norm', 'C3_norm', 'T2prime_norm', 'T5prime_norm', 'Y1', 'Y2']\n",
    "Y1:0.612\n",
    "Y2: 0.586"
   ]
  },
  {
   "cell_type": "code",
   "execution_count": null,
   "metadata": {},
   "outputs": [],
   "source": [
    "imputed with median---ignore\n",
    "columns:['S1prime_norm', 'S2prime_norm', 'S3prime_norm', 'C3_norm', 'T2prime_norm', 'T5prime_norm', 'Y1', 'Y2']\n",
    "Y1:0.591\n",
    "Y2: 0.586"
   ]
  },
  {
   "cell_type": "code",
   "execution_count": null,
   "metadata": {},
   "outputs": [],
   "source": [
    "imputed with median---ignore\n",
    "columns:[only S values]\n",
    "Y1:0.568\n",
    "Y2: 0.436"
   ]
  },
  {
   "cell_type": "code",
   "execution_count": null,
   "metadata": {},
   "outputs": [],
   "source": [
    "imputed with median---ignore\n",
    "columns:['C3_norm', 'T2prime_norm', 'T5prime_norm', 'Y1', 'Y2']\n",
    "Y1:0.584\n",
    "Y2: 0.569"
   ]
  },
  {
   "cell_type": "code",
   "execution_count": null,
   "metadata": {},
   "outputs": [],
   "source": [
    "##### imputed with median\n",
    "Y1:['C1', 'C5','C6', 'C3_impute','C7_impute'] 0.500\n",
    "Y2: ['C1', 'C5','C6', 'C3_impute','C7_impute'] 0.491\n",
    "    \n",
    "Y1: ['C1', 'C5','C6', 'C3_impute','C7_impute','C5`'] 0.500\n",
    "Y2: ['C1', 'C5','C6', 'C3_impute','C7_impute','C5`'] 0.490\n",
    "    \n",
    "['C1', 'C5','C6'] same\n",
    "\n",
    "['C6', 'C3_impute','C7_impute']0.477, 0.500\n",
    "\n",
    "['C1', 'C5','C6', 'C5`']0.500, 0.494\n",
    "\n",
    "['C1','C6', 'C5`']0.477, 0.500\n",
    "\n",
    "['C5','C6', 'C5`']0.500, 0.503 ***\n",
    "\n",
    "['C5','C6', 'C5`', 'C3_impute','C7_impute'] 0.500, 0.488\n",
    "\n",
    "['C5','C6', 'C5`', 'C3_impute']0.500, 0.488\n",
    "\n",
    "['C5','C6', 'C5`', 'C7_impute'] 0.500, 0.465\n",
    "\n",
    "['C6', 'C5`']0.477,0.500\n",
    "\n",
    "['C5', 'C5`']0.477, 0.500\n",
    "\n",
    "['C1', 'C5', 'C5`'] 0.477, 0.500\n",
    "\n",
    "['C1', 'C5`']0.503, 0.330\n",
    "\n",
    "['C1', 'C5`', 'C3_impute']0.511, 0.366\n",
    "\n",
    "['C1','C5','C6', 'C5`']0.500, 0.473\n",
    "\n",
    "['C5','C6']0.500, 0.466\n",
    "\n",
    "['C5','C6', 'C5`','T1prime'] 0.500, 0.469\n",
    "\n",
    "['C5`', 'C3_impute','C7_impute'] 0.536, 0.390\n",
    "\n",
    "['C5`', 'C3_impute'] 0.578, 0.397\n",
    "\n",
    "['C5`', 'C7_impute'] 0.504, 0.352\n",
    "\n",
    "['C5`'] 0.504, 0.335\n",
    "\n",
    "['C5','C6', 'C5`', 'T4prime']0.500, 0.493\n",
    "\n",
    "['C5','C6', 'C5`', 'T3prime']0.500,0.463\n",
    "\n",
    "['C2','C5','C6', 'C5`'] 0.500, 0.473\n",
    "\n",
    "['C5','C6', 'C5`','bins']0.500, 0.471\n",
    "\n",
    "['C5`', 'T4prime']0.555, 0.424\n",
    "\n",
    "['C5','C6', 'T4prime']0.500, 0.485\n",
    "\n",
    "['C6', 'C5`', 'T3prime']0.477, 0.500\n",
    "\n"
   ]
  },
  {
   "cell_type": "code",
   "execution_count": null,
   "metadata": {},
   "outputs": [],
   "source": [
    "#imputed with median\n",
    "['C2','S1prime_norm','C3_norm','C4','T4prime_norm','Y1','C2','C3_norm','C5_norm','C7_norm','T1prime','Y2']\n",
    "0.600, 0.574**\n",
    "['C2','S1prime_norm','C3_norm','C4','Y1','C2','C3_norm','C5_norm','C7_norm','Y2']\n",
    "0.604, 0.570**\n",
    "['S1prime_norm','C3_norm','C4','T4prime_norm','Y1','C3_norm','C5_norm','C7_norm','T1prime','Y2']\n",
    "0.587, 0.588\n",
    "['C2','S1prime_norm','C4','T4prime_norm','Y1','C2','C5_norm','C7_norm','T1prime','Y2']\n",
    "0.555, 0.507\n",
    "['C2','S1prime_norm','C4','Y1','C2','C5_norm','C7_norm','Y2']\n",
    "0.555, 0.486"
   ]
  },
  {
   "cell_type": "code",
   "execution_count": null,
   "metadata": {},
   "outputs": [],
   "source": [
    "#imputed with median--no normalization\n",
    "['C3`', 'C1', 'C5', 'T1prime', 'S2prime']"
   ]
  }
 ],
 "metadata": {
  "kernelspec": {
   "display_name": "Python 3",
   "language": "python",
   "name": "python3"
  },
  "language_info": {
   "codemirror_mode": {
    "name": "ipython",
    "version": 3
   },
   "file_extension": ".py",
   "mimetype": "text/x-python",
   "name": "python",
   "nbconvert_exporter": "python",
   "pygments_lexer": "ipython3",
   "version": "3.6.7"
  }
 },
 "nbformat": 4,
 "nbformat_minor": 4
}
