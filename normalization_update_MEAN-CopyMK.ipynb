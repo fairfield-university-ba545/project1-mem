{
 "cells": [
  {
   "cell_type": "markdown",
   "metadata": {},
   "source": [
    "# Project 1: What are the determinants of IPO underpricing phenomena?"
   ]
  },
  {
   "cell_type": "markdown",
   "metadata": {},
   "source": [
    "The data used for this project includes successful U.S. IPOs from more than 600 companies. Our client is interested in which features are most important to the \"underpricing\" phenomenon most commenly seen in the stock market. By using advanced and novel methods to prepare the collected IPO data, we will break down the data in order to process it through pahses of a CRISP-DM model. "
   ]
  },
  {
   "cell_type": "markdown",
   "metadata": {},
   "source": [
    "Our project pipeline is as follows: \n",
    "- Descriptive\n",
    "- Imputation\n",
    "- Calcuation\n",
    "- Normalization **\n",
    "- Standardization **\n",
    "- Outlier Detection"
   ]
  },
  {
   "cell_type": "markdown",
   "metadata": {},
   "source": [
    "## Descriptive Statistics \n",
    "\n",
    "Descriptive statistics are a way to summerize a given set of data. They are used to give a quick snapshot of the data. Typically, descriptive statistics are broken down into measures of central tendency and measures of variability. Measures of central tendency would include mean, median, and mode, while measures of variability include standard deviation, variance, min/max values, and skewness. We used both methods of descriptive statistics in this project.  \n",
    "\n",
    "Descriptive statistics can also be used to decribe the number of overall records, the number of missing records, and any other information you think is useful for an outsider to understand the dataset. "
   ]
  },
  {
   "cell_type": "code",
   "execution_count": 2,
   "metadata": {},
   "outputs": [],
   "source": [
    "# imports\n",
    "import pandas as pd\n",
    "import numpy as np"
   ]
  },
  {
   "cell_type": "markdown",
   "metadata": {},
   "source": [
    "We read in the raw dataset in a pandas DataFrame with `read_csv()` and checked the contents with `.head()`."
   ]
  },
  {
   "cell_type": "code",
   "execution_count": 3,
   "metadata": {},
   "outputs": [
    {
     "data": {
      "text/html": [
       "<div>\n",
       "<style scoped>\n",
       "    .dataframe tbody tr th:only-of-type {\n",
       "        vertical-align: middle;\n",
       "    }\n",
       "\n",
       "    .dataframe tbody tr th {\n",
       "        vertical-align: top;\n",
       "    }\n",
       "\n",
       "    .dataframe thead th {\n",
       "        text-align: right;\n",
       "    }\n",
       "</style>\n",
       "<table border=\"1\" class=\"dataframe\">\n",
       "  <thead>\n",
       "    <tr style=\"text-align: right;\">\n",
       "      <th></th>\n",
       "      <th>I1</th>\n",
       "      <th>I2</th>\n",
       "      <th>I3</th>\n",
       "      <th>P(IPO)</th>\n",
       "      <th>P(H)</th>\n",
       "      <th>P(L)</th>\n",
       "      <th>P(1Day)</th>\n",
       "      <th>C1</th>\n",
       "      <th>C2</th>\n",
       "      <th>C3</th>\n",
       "      <th>...</th>\n",
       "      <th>C6</th>\n",
       "      <th>C7</th>\n",
       "      <th>T1</th>\n",
       "      <th>T2</th>\n",
       "      <th>T3</th>\n",
       "      <th>T4</th>\n",
       "      <th>T5</th>\n",
       "      <th>S1</th>\n",
       "      <th>S2</th>\n",
       "      <th>S3</th>\n",
       "    </tr>\n",
       "  </thead>\n",
       "  <tbody>\n",
       "    <tr>\n",
       "      <th>0</th>\n",
       "      <td>AATI</td>\n",
       "      <td>ADVANCED ANALOGIC TECHNOLOGIES INC</td>\n",
       "      <td>3674</td>\n",
       "      <td>10.0</td>\n",
       "      <td>9.5</td>\n",
       "      <td>8.5</td>\n",
       "      <td>11.870000</td>\n",
       "      <td>122.0</td>\n",
       "      <td>1.0</td>\n",
       "      <td>3.43</td>\n",
       "      <td>...</td>\n",
       "      <td>10600000.0</td>\n",
       "      <td>51.345</td>\n",
       "      <td>470.0</td>\n",
       "      <td>12719.0</td>\n",
       "      <td>11560.0</td>\n",
       "      <td>301.0</td>\n",
       "      <td>690.0</td>\n",
       "      <td>62.0</td>\n",
       "      <td>117.0</td>\n",
       "      <td>139.0</td>\n",
       "    </tr>\n",
       "    <tr>\n",
       "      <th>1</th>\n",
       "      <td>ABPI</td>\n",
       "      <td>ACCENTIA BIOPHARMACEUTICALS INC</td>\n",
       "      <td>2834</td>\n",
       "      <td>8.0</td>\n",
       "      <td>10.0</td>\n",
       "      <td>8.0</td>\n",
       "      <td>7.250000</td>\n",
       "      <td>259.0</td>\n",
       "      <td>0.0</td>\n",
       "      <td>-1.62</td>\n",
       "      <td>...</td>\n",
       "      <td>2400000.0</td>\n",
       "      <td>25.936</td>\n",
       "      <td>791.0</td>\n",
       "      <td>21792.0</td>\n",
       "      <td>19585.0</td>\n",
       "      <td>510.0</td>\n",
       "      <td>1120.0</td>\n",
       "      <td>71.0</td>\n",
       "      <td>242.0</td>\n",
       "      <td>237.0</td>\n",
       "    </tr>\n",
       "    <tr>\n",
       "      <th>2</th>\n",
       "      <td>ACAD</td>\n",
       "      <td>ACADIA PHARMACEUTICALS INC</td>\n",
       "      <td>2834</td>\n",
       "      <td>7.0</td>\n",
       "      <td>14.0</td>\n",
       "      <td>12.0</td>\n",
       "      <td>6.700000</td>\n",
       "      <td>90.0</td>\n",
       "      <td>1.0</td>\n",
       "      <td>-1.24</td>\n",
       "      <td>...</td>\n",
       "      <td>5000000.0</td>\n",
       "      <td>7.378</td>\n",
       "      <td>201.0</td>\n",
       "      <td>5262.0</td>\n",
       "      <td>4785.0</td>\n",
       "      <td>128.0</td>\n",
       "      <td>325.0</td>\n",
       "      <td>61.0</td>\n",
       "      <td>33.0</td>\n",
       "      <td>60.0</td>\n",
       "    </tr>\n",
       "    <tr>\n",
       "      <th>3</th>\n",
       "      <td>ACHN</td>\n",
       "      <td>ACHILLION PHARMACEUTICALS INC</td>\n",
       "      <td>2834</td>\n",
       "      <td>11.5</td>\n",
       "      <td>16.0</td>\n",
       "      <td>14.0</td>\n",
       "      <td>12.390000</td>\n",
       "      <td>209.0</td>\n",
       "      <td>1.0</td>\n",
       "      <td>-0.91</td>\n",
       "      <td>...</td>\n",
       "      <td>4500000.0</td>\n",
       "      <td>8.526</td>\n",
       "      <td>328.0</td>\n",
       "      <td>8259.0</td>\n",
       "      <td>7574.0</td>\n",
       "      <td>177.0</td>\n",
       "      <td>509.0</td>\n",
       "      <td>80.0</td>\n",
       "      <td>59.0</td>\n",
       "      <td>110.0</td>\n",
       "    </tr>\n",
       "    <tr>\n",
       "      <th>4</th>\n",
       "      <td>ACLI</td>\n",
       "      <td>AMERICAN COMMERCIAL LINES INC.</td>\n",
       "      <td>4492</td>\n",
       "      <td>21.0</td>\n",
       "      <td>21.0</td>\n",
       "      <td>19.0</td>\n",
       "      <td>56.599998</td>\n",
       "      <td>80.0</td>\n",
       "      <td>1.0</td>\n",
       "      <td>0.07</td>\n",
       "      <td>...</td>\n",
       "      <td>8250000.0</td>\n",
       "      <td>632.298</td>\n",
       "      <td>572.0</td>\n",
       "      <td>14830.0</td>\n",
       "      <td>13176.0</td>\n",
       "      <td>336.0</td>\n",
       "      <td>720.0</td>\n",
       "      <td>67.0</td>\n",
       "      <td>149.0</td>\n",
       "      <td>167.0</td>\n",
       "    </tr>\n",
       "  </tbody>\n",
       "</table>\n",
       "<p>5 rows × 22 columns</p>\n",
       "</div>"
      ],
      "text/plain": [
       "     I1                                  I2    I3  P(IPO)  P(H)  P(L)  \\\n",
       "0  AATI  ADVANCED ANALOGIC TECHNOLOGIES INC  3674    10.0   9.5   8.5   \n",
       "1  ABPI     ACCENTIA BIOPHARMACEUTICALS INC  2834     8.0  10.0   8.0   \n",
       "2  ACAD          ACADIA PHARMACEUTICALS INC  2834     7.0  14.0  12.0   \n",
       "3  ACHN       ACHILLION PHARMACEUTICALS INC  2834    11.5  16.0  14.0   \n",
       "4  ACLI     AMERICAN COMMERCIAL LINES INC.   4492    21.0  21.0  19.0   \n",
       "\n",
       "     P(1Day)     C1   C2    C3  ...          C6       C7     T1       T2  \\\n",
       "0  11.870000  122.0  1.0  3.43  ...  10600000.0   51.345  470.0  12719.0   \n",
       "1   7.250000  259.0  0.0 -1.62  ...   2400000.0   25.936  791.0  21792.0   \n",
       "2   6.700000   90.0  1.0 -1.24  ...   5000000.0    7.378  201.0   5262.0   \n",
       "3  12.390000  209.0  1.0 -0.91  ...   4500000.0    8.526  328.0   8259.0   \n",
       "4  56.599998   80.0  1.0  0.07  ...   8250000.0  632.298  572.0  14830.0   \n",
       "\n",
       "        T3     T4      T5    S1     S2     S3  \n",
       "0  11560.0  301.0   690.0  62.0  117.0  139.0  \n",
       "1  19585.0  510.0  1120.0  71.0  242.0  237.0  \n",
       "2   4785.0  128.0   325.0  61.0   33.0   60.0  \n",
       "3   7574.0  177.0   509.0  80.0   59.0  110.0  \n",
       "4  13176.0  336.0   720.0  67.0  149.0  167.0  \n",
       "\n",
       "[5 rows x 22 columns]"
      ]
     },
     "execution_count": 3,
     "metadata": {},
     "output_type": "execute_result"
    }
   ],
   "source": [
    "# read in the whole file and '-' as NA values \n",
    "data = pd.read_excel('Competition1_raw_data.xlsx', na_values=r'-')\n",
    "                    #dtype={'P(IPO)': float, 'P(1Day)': float})\n",
    "# define dashes as missing --> 0 or NaN\n",
    "data.head(5)"
   ]
  },
  {
   "cell_type": "markdown",
   "metadata": {},
   "source": [
    "We can see the dataset contains all kind of information about the company. For example, we can see the IPO pricing (`P(IPO`, `P(H)`, `P(L)`, `P(1day)`) for each company and IPO characteristics (`C1`, `C2`, `C3`, `C4`, `C5`, `C6`, `C7`)"
   ]
  },
  {
   "cell_type": "code",
   "execution_count": 4,
   "metadata": {},
   "outputs": [
    {
     "name": "stdout",
     "output_type": "stream",
     "text": [
      "<class 'pandas.core.frame.DataFrame'>\n",
      "RangeIndex: 682 entries, 0 to 681\n",
      "Data columns (total 22 columns):\n",
      "I1         682 non-null object\n",
      "I2         682 non-null object\n",
      "I3         674 non-null object\n",
      "P(IPO)     677 non-null float64\n",
      "P(H)       672 non-null float64\n",
      "P(L)       672 non-null float64\n",
      "P(1Day)    660 non-null float64\n",
      "C1         660 non-null float64\n",
      "C2         660 non-null float64\n",
      "C3         646 non-null float64\n",
      "C4         660 non-null float64\n",
      "C5         676 non-null float64\n",
      "C6         676 non-null float64\n",
      "C7         610 non-null float64\n",
      "T1         681 non-null float64\n",
      "T2         681 non-null float64\n",
      "T3         681 non-null float64\n",
      "T4         681 non-null float64\n",
      "T5         681 non-null float64\n",
      "S1         681 non-null float64\n",
      "S2         681 non-null float64\n",
      "S3         681 non-null float64\n",
      "dtypes: float64(19), object(3)\n",
      "memory usage: 117.3+ KB\n"
     ]
    }
   ],
   "source": [
    "data.info()"
   ]
  },
  {
   "cell_type": "markdown",
   "metadata": {},
   "source": [
    "We see there are missing values in all columns but `I1` and `I2`. Moreover, some do not have the correct data type."
   ]
  },
  {
   "cell_type": "markdown",
   "metadata": {},
   "source": [
    "## Descriptive Statistics- Part 1"
   ]
  },
  {
   "cell_type": "markdown",
   "metadata": {},
   "source": [
    "To begin, we wanted to take a look at the raw data. Here we have some statistics on the unchanged dataset. We can use this to compare to our imputed dataset, which we will perform a more extensive look on."
   ]
  },
  {
   "cell_type": "code",
   "execution_count": 5,
   "metadata": {},
   "outputs": [
    {
     "data": {
      "text/html": [
       "<div>\n",
       "<style scoped>\n",
       "    .dataframe tbody tr th:only-of-type {\n",
       "        vertical-align: middle;\n",
       "    }\n",
       "\n",
       "    .dataframe tbody tr th {\n",
       "        vertical-align: top;\n",
       "    }\n",
       "\n",
       "    .dataframe thead th {\n",
       "        text-align: right;\n",
       "    }\n",
       "</style>\n",
       "<table border=\"1\" class=\"dataframe\">\n",
       "  <thead>\n",
       "    <tr style=\"text-align: right;\">\n",
       "      <th></th>\n",
       "      <th>P(IPO)</th>\n",
       "      <th>P(H)</th>\n",
       "      <th>P(L)</th>\n",
       "      <th>P(1Day)</th>\n",
       "      <th>C1</th>\n",
       "      <th>C2</th>\n",
       "      <th>C3</th>\n",
       "      <th>C4</th>\n",
       "      <th>C5</th>\n",
       "      <th>C6</th>\n",
       "      <th>C7</th>\n",
       "      <th>T1</th>\n",
       "      <th>T2</th>\n",
       "      <th>T3</th>\n",
       "      <th>T4</th>\n",
       "      <th>T5</th>\n",
       "      <th>S1</th>\n",
       "      <th>S2</th>\n",
       "      <th>S3</th>\n",
       "    </tr>\n",
       "  </thead>\n",
       "  <tbody>\n",
       "    <tr>\n",
       "      <th>count</th>\n",
       "      <td>677.000000</td>\n",
       "      <td>672.000000</td>\n",
       "      <td>672.000000</td>\n",
       "      <td>660.000000</td>\n",
       "      <td>660.000000</td>\n",
       "      <td>660.000000</td>\n",
       "      <td>646.000000</td>\n",
       "      <td>660.000000</td>\n",
       "      <td>6.760000e+02</td>\n",
       "      <td>6.760000e+02</td>\n",
       "      <td>610.000000</td>\n",
       "      <td>681.000000</td>\n",
       "      <td>681.000000</td>\n",
       "      <td>681.000000</td>\n",
       "      <td>681.000000</td>\n",
       "      <td>681.000000</td>\n",
       "      <td>681.000000</td>\n",
       "      <td>681.000000</td>\n",
       "      <td>681.000000</td>\n",
       "    </tr>\n",
       "    <tr>\n",
       "      <th>mean</th>\n",
       "      <td>13.837666</td>\n",
       "      <td>15.481190</td>\n",
       "      <td>13.515045</td>\n",
       "      <td>25.934766</td>\n",
       "      <td>149.728788</td>\n",
       "      <td>0.859091</td>\n",
       "      <td>1.788904</td>\n",
       "      <td>0.007282</td>\n",
       "      <td>4.935776e+07</td>\n",
       "      <td>1.241519e+07</td>\n",
       "      <td>500.459962</td>\n",
       "      <td>465.634361</td>\n",
       "      <td>12758.606461</td>\n",
       "      <td>11395.844347</td>\n",
       "      <td>294.353891</td>\n",
       "      <td>679.220264</td>\n",
       "      <td>68.421439</td>\n",
       "      <td>120.104258</td>\n",
       "      <td>144.759178</td>\n",
       "    </tr>\n",
       "    <tr>\n",
       "      <th>std</th>\n",
       "      <td>6.053731</td>\n",
       "      <td>6.653429</td>\n",
       "      <td>5.835646</td>\n",
       "      <td>73.234948</td>\n",
       "      <td>152.817467</td>\n",
       "      <td>0.348192</td>\n",
       "      <td>162.666532</td>\n",
       "      <td>0.033318</td>\n",
       "      <td>1.043764e+08</td>\n",
       "      <td>2.512855e+07</td>\n",
       "      <td>1648.337634</td>\n",
       "      <td>175.741647</td>\n",
       "      <td>5449.644597</td>\n",
       "      <td>4839.670179</td>\n",
       "      <td>121.532637</td>\n",
       "      <td>472.914323</td>\n",
       "      <td>39.096525</td>\n",
       "      <td>84.828959</td>\n",
       "      <td>69.276285</td>\n",
       "    </tr>\n",
       "    <tr>\n",
       "      <th>min</th>\n",
       "      <td>3.000000</td>\n",
       "      <td>0.000000</td>\n",
       "      <td>3.000000</td>\n",
       "      <td>0.000000</td>\n",
       "      <td>10.000000</td>\n",
       "      <td>0.000000</td>\n",
       "      <td>-786.239000</td>\n",
       "      <td>-0.162352</td>\n",
       "      <td>3.693227e+06</td>\n",
       "      <td>5.250000e+05</td>\n",
       "      <td>0.074000</td>\n",
       "      <td>132.000000</td>\n",
       "      <td>0.000000</td>\n",
       "      <td>0.000000</td>\n",
       "      <td>0.000000</td>\n",
       "      <td>-1.000000</td>\n",
       "      <td>-1.000000</td>\n",
       "      <td>20.000000</td>\n",
       "      <td>26.000000</td>\n",
       "    </tr>\n",
       "    <tr>\n",
       "      <th>25%</th>\n",
       "      <td>10.000000</td>\n",
       "      <td>12.500000</td>\n",
       "      <td>11.000000</td>\n",
       "      <td>11.000000</td>\n",
       "      <td>85.000000</td>\n",
       "      <td>1.000000</td>\n",
       "      <td>-0.852500</td>\n",
       "      <td>-0.013927</td>\n",
       "      <td>1.871417e+07</td>\n",
       "      <td>5.000000e+06</td>\n",
       "      <td>37.245750</td>\n",
       "      <td>351.000000</td>\n",
       "      <td>9195.000000</td>\n",
       "      <td>8162.000000</td>\n",
       "      <td>213.000000</td>\n",
       "      <td>462.000000</td>\n",
       "      <td>45.000000</td>\n",
       "      <td>73.000000</td>\n",
       "      <td>100.000000</td>\n",
       "    </tr>\n",
       "    <tr>\n",
       "      <th>50%</th>\n",
       "      <td>13.500000</td>\n",
       "      <td>15.000000</td>\n",
       "      <td>13.000000</td>\n",
       "      <td>14.845000</td>\n",
       "      <td>107.000000</td>\n",
       "      <td>1.000000</td>\n",
       "      <td>0.010000</td>\n",
       "      <td>0.009125</td>\n",
       "      <td>2.740018e+07</td>\n",
       "      <td>7.398704e+06</td>\n",
       "      <td>103.833000</td>\n",
       "      <td>444.000000</td>\n",
       "      <td>12045.000000</td>\n",
       "      <td>10785.000000</td>\n",
       "      <td>279.000000</td>\n",
       "      <td>624.000000</td>\n",
       "      <td>60.000000</td>\n",
       "      <td>100.000000</td>\n",
       "      <td>134.000000</td>\n",
       "    </tr>\n",
       "    <tr>\n",
       "      <th>75%</th>\n",
       "      <td>17.000000</td>\n",
       "      <td>17.000000</td>\n",
       "      <td>15.000000</td>\n",
       "      <td>20.485000</td>\n",
       "      <td>155.250000</td>\n",
       "      <td>1.000000</td>\n",
       "      <td>0.470000</td>\n",
       "      <td>0.031571</td>\n",
       "      <td>4.980786e+07</td>\n",
       "      <td>1.200000e+07</td>\n",
       "      <td>331.138000</td>\n",
       "      <td>551.000000</td>\n",
       "      <td>15241.000000</td>\n",
       "      <td>13760.000000</td>\n",
       "      <td>354.000000</td>\n",
       "      <td>795.000000</td>\n",
       "      <td>85.000000</td>\n",
       "      <td>142.000000</td>\n",
       "      <td>173.000000</td>\n",
       "    </tr>\n",
       "    <tr>\n",
       "      <th>max</th>\n",
       "      <td>85.000000</td>\n",
       "      <td>135.000000</td>\n",
       "      <td>108.000000</td>\n",
       "      <td>1159.200562</td>\n",
       "      <td>2087.000000</td>\n",
       "      <td>1.000000</td>\n",
       "      <td>3864.500000</td>\n",
       "      <td>0.092896</td>\n",
       "      <td>2.138085e+09</td>\n",
       "      <td>4.212336e+08</td>\n",
       "      <td>30683.000000</td>\n",
       "      <td>1750.000000</td>\n",
       "      <td>49056.000000</td>\n",
       "      <td>43952.000000</td>\n",
       "      <td>1058.000000</td>\n",
       "      <td>10277.000000</td>\n",
       "      <td>309.000000</td>\n",
       "      <td>944.000000</td>\n",
       "      <td>883.000000</td>\n",
       "    </tr>\n",
       "  </tbody>\n",
       "</table>\n",
       "</div>"
      ],
      "text/plain": [
       "           P(IPO)        P(H)        P(L)      P(1Day)           C1  \\\n",
       "count  677.000000  672.000000  672.000000   660.000000   660.000000   \n",
       "mean    13.837666   15.481190   13.515045    25.934766   149.728788   \n",
       "std      6.053731    6.653429    5.835646    73.234948   152.817467   \n",
       "min      3.000000    0.000000    3.000000     0.000000    10.000000   \n",
       "25%     10.000000   12.500000   11.000000    11.000000    85.000000   \n",
       "50%     13.500000   15.000000   13.000000    14.845000   107.000000   \n",
       "75%     17.000000   17.000000   15.000000    20.485000   155.250000   \n",
       "max     85.000000  135.000000  108.000000  1159.200562  2087.000000   \n",
       "\n",
       "               C2           C3          C4            C5            C6  \\\n",
       "count  660.000000   646.000000  660.000000  6.760000e+02  6.760000e+02   \n",
       "mean     0.859091     1.788904    0.007282  4.935776e+07  1.241519e+07   \n",
       "std      0.348192   162.666532    0.033318  1.043764e+08  2.512855e+07   \n",
       "min      0.000000  -786.239000   -0.162352  3.693227e+06  5.250000e+05   \n",
       "25%      1.000000    -0.852500   -0.013927  1.871417e+07  5.000000e+06   \n",
       "50%      1.000000     0.010000    0.009125  2.740018e+07  7.398704e+06   \n",
       "75%      1.000000     0.470000    0.031571  4.980786e+07  1.200000e+07   \n",
       "max      1.000000  3864.500000    0.092896  2.138085e+09  4.212336e+08   \n",
       "\n",
       "                 C7           T1            T2            T3           T4  \\\n",
       "count    610.000000   681.000000    681.000000    681.000000   681.000000   \n",
       "mean     500.459962   465.634361  12758.606461  11395.844347   294.353891   \n",
       "std     1648.337634   175.741647   5449.644597   4839.670179   121.532637   \n",
       "min        0.074000   132.000000      0.000000      0.000000     0.000000   \n",
       "25%       37.245750   351.000000   9195.000000   8162.000000   213.000000   \n",
       "50%      103.833000   444.000000  12045.000000  10785.000000   279.000000   \n",
       "75%      331.138000   551.000000  15241.000000  13760.000000   354.000000   \n",
       "max    30683.000000  1750.000000  49056.000000  43952.000000  1058.000000   \n",
       "\n",
       "                 T5          S1          S2          S3  \n",
       "count    681.000000  681.000000  681.000000  681.000000  \n",
       "mean     679.220264   68.421439  120.104258  144.759178  \n",
       "std      472.914323   39.096525   84.828959   69.276285  \n",
       "min       -1.000000   -1.000000   20.000000   26.000000  \n",
       "25%      462.000000   45.000000   73.000000  100.000000  \n",
       "50%      624.000000   60.000000  100.000000  134.000000  \n",
       "75%      795.000000   85.000000  142.000000  173.000000  \n",
       "max    10277.000000  309.000000  944.000000  883.000000  "
      ]
     },
     "execution_count": 5,
     "metadata": {},
     "output_type": "execute_result"
    }
   ],
   "source": [
    "data.describe()"
   ]
  },
  {
   "cell_type": "markdown",
   "metadata": {},
   "source": [
    "## Imputation\n",
    "\n",
    "Unfortuantly, most data is not without missing values. As a result, imputation must be performed in order to replace those missing values with actual values. These missing values are typically seen as NaNs in the dataset. There are several imputation options, including: forward fill, backward fill, mean, median, mode, and filling with online research. \n",
    "\n",
    "- forward-fill \n",
    "`df.fillna(method='ffill')`\n",
    "\n",
    "- backward-fill \n",
    "`df.fillna(method='bfill')` \n",
    "\n",
    "- mean, median, mode \n",
    "`df.fillna(df.mean())`\n",
    "\n",
    "You may also drop data that is missing from a  dataset, however, this method is highly discouraged because you are loosing data.\n",
    "\n",
    "When filling any missing data within a dataset, you risk intorucing error. As a result, we began our imputation with online research. \n",
    "\n",
    "The missing Standard Industry Classifier (`I3`) values were filled using information we foudn online. By searching the Ticker (`I1`) and the Company Name (`I2`), we were able to determine which `I3` value would be most appropriate. \n",
    "\n",
    "The rest of our missing values were filled using the mean of the column. We also tested using the median, however, the end validation results were not as high. Forward fill and backward fill imputation cannot be used with this dataset because each row represents a different company. If either of these mehtods were used, incorrect data would be inserted. "
   ]
  },
  {
   "cell_type": "markdown",
   "metadata": {},
   "source": [
    "Some imputation notes:\n",
    "- C Column can be 0 and less than 0, no dash\n",
    "- S can be 0 CANNOT be less than 0, no dash\n",
    "- T3-T5 --> can be 0, and less than 0, no dash\n",
    "- T1 --> CANNOT be 0, less than 0, no dashes \n",
    "- T2 --> CANNOT be 0, less than 0, no dashes\n",
    "- P --> CANNOT be 0, less than 0, no dashes"
   ]
  },
  {
   "cell_type": "code",
   "execution_count": 8,
   "metadata": {},
   "outputs": [],
   "source": [
    "# replace with nan\n",
    "data.loc[(data['S1'] < 0),'S1'] = np.nan\n",
    "data.loc[(data['T2'] == 0),'T2'] = np.nan\n",
    "data.loc[(data['T5'] < 0),'T5'] = np.nan\n",
    "\n",
    "# drop - for P values \n",
    "data.dropna(subset=['P(IPO)', 'P(H)', 'P(L)', 'P(1Day)'], inplace=True)\n",
    "\n",
    "# impute--using mean for imputation since it gave consistent higher validation scores thoughout testing process\n",
    "# median gave second highest validation scores\n",
    "data['S1'] = data['S1'].fillna(data['S1'].mean())\n",
    "data['T2'] = data['T2'].fillna(data['T2'].mean())\n",
    "data['T5'] = data['T5'].fillna(data['T5'].mean())\n",
    "data['C3_impute'] = data['C3'].fillna(data['C3'].mean())\n",
    "data['C7_impute'] = data['C7'].fillna(data['C7'].mean())\n",
    "\n",
    "# exclude not imputed C3 and C7\n",
    "data = data[['I1', 'I2', 'I3', 'P(IPO)', 'P(H)', 'P(L)', 'P(1Day)', 'C1', 'C2',\n",
    "       'C4', 'C5', 'C6', 'T1', 'T2', 'T3', 'T4', 'T5', 'S1', 'S2', 'S3',\n",
    "       'C3_impute', 'C7_impute']]"
   ]
  },
  {
   "cell_type": "code",
   "execution_count": 9,
   "metadata": {},
   "outputs": [
    {
     "data": {
      "text/html": [
       "<div>\n",
       "<style scoped>\n",
       "    .dataframe tbody tr th:only-of-type {\n",
       "        vertical-align: middle;\n",
       "    }\n",
       "\n",
       "    .dataframe tbody tr th {\n",
       "        vertical-align: top;\n",
       "    }\n",
       "\n",
       "    .dataframe thead th {\n",
       "        text-align: right;\n",
       "    }\n",
       "</style>\n",
       "<table border=\"1\" class=\"dataframe\">\n",
       "  <thead>\n",
       "    <tr style=\"text-align: right;\">\n",
       "      <th></th>\n",
       "      <th>I1</th>\n",
       "      <th>I2</th>\n",
       "      <th>I3</th>\n",
       "      <th>P(IPO)</th>\n",
       "      <th>P(H)</th>\n",
       "      <th>P(L)</th>\n",
       "      <th>P(1Day)</th>\n",
       "      <th>C1</th>\n",
       "      <th>C2</th>\n",
       "      <th>C4</th>\n",
       "      <th>...</th>\n",
       "      <th>T1</th>\n",
       "      <th>T2</th>\n",
       "      <th>T3</th>\n",
       "      <th>T4</th>\n",
       "      <th>T5</th>\n",
       "      <th>S1</th>\n",
       "      <th>S2</th>\n",
       "      <th>S3</th>\n",
       "      <th>C3_impute</th>\n",
       "      <th>C7_impute</th>\n",
       "    </tr>\n",
       "  </thead>\n",
       "  <tbody>\n",
       "  </tbody>\n",
       "</table>\n",
       "<p>0 rows × 22 columns</p>\n",
       "</div>"
      ],
      "text/plain": [
       "Empty DataFrame\n",
       "Columns: [I1, I2, I3, P(IPO), P(H), P(L), P(1Day), C1, C2, C4, C5, C6, T1, T2, T3, T4, T5, S1, S2, S3, C3_impute, C7_impute]\n",
       "Index: []\n",
       "\n",
       "[0 rows x 22 columns]"
      ]
     },
     "execution_count": 9,
     "metadata": {},
     "output_type": "execute_result"
    }
   ],
   "source": [
    "data[data['T5']==0]"
   ]
  },
  {
   "cell_type": "code",
   "execution_count": 10,
   "metadata": {},
   "outputs": [
    {
     "name": "stdout",
     "output_type": "stream",
     "text": [
      "<class 'pandas.core.frame.DataFrame'>\n",
      "Int64Index: 660 entries, 0 to 681\n",
      "Data columns (total 22 columns):\n",
      "I1           660 non-null object\n",
      "I2           660 non-null object\n",
      "I3           660 non-null object\n",
      "P(IPO)       660 non-null float64\n",
      "P(H)         660 non-null float64\n",
      "P(L)         660 non-null float64\n",
      "P(1Day)      660 non-null float64\n",
      "C1           660 non-null float64\n",
      "C2           660 non-null float64\n",
      "C4           660 non-null float64\n",
      "C5           660 non-null float64\n",
      "C6           660 non-null float64\n",
      "T1           660 non-null float64\n",
      "T2           660 non-null float64\n",
      "T3           660 non-null float64\n",
      "T4           660 non-null float64\n",
      "T5           660 non-null float64\n",
      "S1           660 non-null float64\n",
      "S2           660 non-null float64\n",
      "S3           660 non-null float64\n",
      "C3_impute    660 non-null float64\n",
      "C7_impute    660 non-null float64\n",
      "dtypes: float64(19), object(3)\n",
      "memory usage: 118.6+ KB\n"
     ]
    }
   ],
   "source": [
    "data.info()"
   ]
  },
  {
   "cell_type": "code",
   "execution_count": 11,
   "metadata": {},
   "outputs": [
    {
     "data": {
      "text/plain": [
       "I1           0\n",
       "I2           0\n",
       "I3           0\n",
       "P(IPO)       0\n",
       "P(H)         0\n",
       "P(L)         0\n",
       "P(1Day)      0\n",
       "C1           0\n",
       "C2           0\n",
       "C4           0\n",
       "C5           0\n",
       "C6           0\n",
       "T1           0\n",
       "T2           0\n",
       "T3           0\n",
       "T4           0\n",
       "T5           0\n",
       "S1           0\n",
       "S2           0\n",
       "S3           0\n",
       "C3_impute    0\n",
       "C7_impute    0\n",
       "dtype: int64"
      ]
     },
     "execution_count": 11,
     "metadata": {},
     "output_type": "execute_result"
    }
   ],
   "source": [
    "data.isnull().sum()"
   ]
  },
  {
   "cell_type": "code",
   "execution_count": 12,
   "metadata": {},
   "outputs": [
    {
     "data": {
      "text/html": [
       "<div>\n",
       "<style scoped>\n",
       "    .dataframe tbody tr th:only-of-type {\n",
       "        vertical-align: middle;\n",
       "    }\n",
       "\n",
       "    .dataframe tbody tr th {\n",
       "        vertical-align: top;\n",
       "    }\n",
       "\n",
       "    .dataframe thead th {\n",
       "        text-align: right;\n",
       "    }\n",
       "</style>\n",
       "<table border=\"1\" class=\"dataframe\">\n",
       "  <thead>\n",
       "    <tr style=\"text-align: right;\">\n",
       "      <th></th>\n",
       "      <th>I1</th>\n",
       "      <th>I2</th>\n",
       "      <th>I3</th>\n",
       "      <th>P(IPO)</th>\n",
       "      <th>P(H)</th>\n",
       "      <th>P(L)</th>\n",
       "      <th>P(1Day)</th>\n",
       "      <th>C1</th>\n",
       "      <th>C2</th>\n",
       "      <th>C4</th>\n",
       "      <th>...</th>\n",
       "      <th>T1</th>\n",
       "      <th>T2</th>\n",
       "      <th>T3</th>\n",
       "      <th>T4</th>\n",
       "      <th>T5</th>\n",
       "      <th>S1</th>\n",
       "      <th>S2</th>\n",
       "      <th>S3</th>\n",
       "      <th>C3_impute</th>\n",
       "      <th>C7_impute</th>\n",
       "    </tr>\n",
       "  </thead>\n",
       "  <tbody>\n",
       "  </tbody>\n",
       "</table>\n",
       "<p>0 rows × 22 columns</p>\n",
       "</div>"
      ],
      "text/plain": [
       "Empty DataFrame\n",
       "Columns: [I1, I2, I3, P(IPO), P(H), P(L), P(1Day), C1, C2, C4, C5, C6, T1, T2, T3, T4, T5, S1, S2, S3, C3_impute, C7_impute]\n",
       "Index: []\n",
       "\n",
       "[0 rows x 22 columns]"
      ]
     },
     "execution_count": 12,
     "metadata": {},
     "output_type": "execute_result"
    }
   ],
   "source": [
    "data[data['P(1Day)']<0]"
   ]
  },
  {
   "cell_type": "markdown",
   "metadata": {},
   "source": [
    "## ERROR WITH C3`"
   ]
  },
  {
   "cell_type": "code",
   "execution_count": 13,
   "metadata": {},
   "outputs": [],
   "source": [
    "# C2 to int (booleon)\n",
    "data['C2'] = data['C2'].astype(int)\n",
    "\n",
    "# P(mid) calculation and add it to the column \n",
    "# P(mid) = (P(H)+P(L))/2\n",
    "data['P(mid)'] = (data['P(H)'] + data['P(L)'])/2\n",
    "\n",
    "# targets to be calculated\n",
    "# make it equal to P(IPO) then we will just replace\n",
    "#data['Y1'] = data['P(IPO)']\n",
    "#data['Y2'] = data['P(IPO)']\n",
    "\n",
    "# replace Y1 and change dtype to binary\n",
    "data['Y1'] = np.where((data['P(IPO)'] < data['P(mid)']), 1, 0)\n",
    "data['Y2'] = np.where((data['P(IPO)'] > data['P(mid)']), 1, 0)\n",
    "#data.loc[(data['Y1'] < data['P(mid)']),'Y1'] = 1\n",
    "#data.loc[(data['Y1'] > data['P(mid)']),'Y1'] = 0\n",
    "#data['Y1'] = data['Y1'].astype(int)\n",
    "\n",
    "# replace Y2\n",
    "#data.loc[(data['Y2'] < data['P(1Day)']),'Y2'] = 1\n",
    "#data.loc[(data['Y2'] > data['P(1Day)']),'Y2'] = 0\n",
    "#data['Y2'] = data['Y2'].astype(int)\n",
    "\n",
    "# Control values to be calculated\n",
    "#data['C3`'] = data['C3_impute']\n",
    "#df['Event'] = np.where((df.Event == 'Painting'),'Art',df.Event)\n",
    "#data['C3`'] = np.where((data['C3_impute'] > 0),1,data['C3_impute'])\n",
    "#data['C3`'] = np.where((data['C3_impute'] < 0),0,data['C3_impute'])\n",
    "#data['C3`'] = np.where((data['C3_impute'] == 0),1,data['C3_impute'])\n",
    "#data['C3`'] = data['C3_impute']\n",
    "def c3_prime(c3_impute):\n",
    "    if c3_impute > 0:\n",
    "        return (1)\n",
    "    else:\n",
    "        return (0)\n",
    "    \n",
    "data['C3`'] = data['C3_impute'].apply(c3_prime)\n",
    "data['C3`'] = data['C3`'].astype(int)\n",
    "\n",
    "# C5`\n",
    "data['C5`'] = data['C5']/data['C6']\n",
    "data['C5`'] = data['C5`'].astype(float)\n",
    "\n",
    "# C6`\n",
    "data['C6calc'] = ((data['P(IPO)'] - data['P(mid)']) / data['P(mid)']) * 1\n",
    "data['C6`'] = 0\n",
    "data['C6`'] = np.where((data['P(IPO)'] > data['P(mid)']),data['C6calc'],data['C6`'])\n",
    "data['C6`'] = np.where((data['P(IPO)'] < data['P(mid)']),0,data['C6`'])\n",
    "data['C6`'] = np.where((data['P(mid)']==0),0,data['C6`'])\n",
    "data['C6`'] = data['C6`'].astype(float)"
   ]
  },
  {
   "cell_type": "code",
   "execution_count": 14,
   "metadata": {},
   "outputs": [
    {
     "data": {
      "text/plain": [
       "1    339\n",
       "0    321\n",
       "Name: C3`, dtype: int64"
      ]
     },
     "execution_count": 14,
     "metadata": {},
     "output_type": "execute_result"
    }
   ],
   "source": [
    "data['C3`'].value_counts()"
   ]
  },
  {
   "cell_type": "code",
   "execution_count": 15,
   "metadata": {},
   "outputs": [],
   "source": [
    "# replace T3, and T4\n",
    "data.loc[(data['T3'] == 0),'T3'] = np.nan\n",
    "data.loc[(data['T4'] == 0),'T4'] = np.nan\n",
    "\n",
    "# fillna\n",
    "data['T3'] = data['T3'].fillna(data['T3'].mean())\n",
    "data['T4'] = data['T4'].fillna(data['T4'].mean())"
   ]
  },
  {
   "cell_type": "markdown",
   "metadata": {},
   "source": [
    "After imputing all missing values, we needed to create ratios for our Textual Characteristics: `T1`, `T2`, `T3`, `T4`, `T5` and our Sentiment Characteristics: `S1`, `S2`, `S3`\n",
    "\n",
    "Creating ratios is important because it gives a meaning to a value. You want to avoid using actual counts.  "
   ]
  },
  {
   "cell_type": "code",
   "execution_count": 17,
   "metadata": {},
   "outputs": [],
   "source": [
    "#ratios to create prime values\n",
    "data[\"T1prime\"] = data[\"T4\"].astype(float)/data[\"T1\"].astype(float)\n",
    "# T2\n",
    "data['T2prime'] = data['T5'].astype(float)/data['T2'].astype(float)\n",
    "#percent of real words\n",
    "data[\"T3prime\"] = data[\"T3\"].astype(float)/data[\"T2\"].astype(float)\n",
    "#percent of long sentences\n",
    "data[\"T4prime\"] = data[\"T1\"].astype(float)/data[\"T4\"].astype(float)\n",
    "# percent of long words \n",
    "data[\"T5prime\"] = data[\"T5\"].astype(float)/data[\"T2\"].astype(float)\n",
    "#percent of positive words\n",
    "data[\"S1prime\"] = data[\"S1\"].astype(float)/data[\"T2\"].astype(float)\n",
    "#percent of negative words\n",
    "data[\"S2prime\"] = data[\"S2\"].astype(float)/data[\"T2\"].astype(float)\n",
    "#percent of uncertain words\n",
    "data[\"S3prime\"] = data[\"S3\"].astype(float)/data[\"T2\"].astype(float)"
   ]
  },
  {
   "cell_type": "code",
   "execution_count": 18,
   "metadata": {},
   "outputs": [
    {
     "name": "stdout",
     "output_type": "stream",
     "text": [
      "<class 'pandas.core.frame.DataFrame'>\n",
      "Int64Index: 660 entries, 0 to 681\n",
      "Data columns (total 37 columns):\n",
      "I1           660 non-null object\n",
      "I2           660 non-null object\n",
      "I3           660 non-null object\n",
      "P(IPO)       660 non-null float64\n",
      "P(H)         660 non-null float64\n",
      "P(L)         660 non-null float64\n",
      "P(1Day)      660 non-null float64\n",
      "C1           660 non-null float64\n",
      "C2           660 non-null int64\n",
      "C4           660 non-null float64\n",
      "C5           660 non-null float64\n",
      "C6           660 non-null float64\n",
      "T1           660 non-null float64\n",
      "T2           660 non-null float64\n",
      "T3           660 non-null float64\n",
      "T4           660 non-null float64\n",
      "T5           660 non-null float64\n",
      "S1           660 non-null float64\n",
      "S2           660 non-null float64\n",
      "S3           660 non-null float64\n",
      "C3_impute    660 non-null float64\n",
      "C7_impute    660 non-null float64\n",
      "P(mid)       660 non-null float64\n",
      "Y1           660 non-null int64\n",
      "Y2           660 non-null int64\n",
      "C3`          660 non-null int64\n",
      "C5`          660 non-null float64\n",
      "C6calc       660 non-null float64\n",
      "C6`          660 non-null float64\n",
      "T1prime      660 non-null float64\n",
      "T2prime      660 non-null float64\n",
      "T3prime      660 non-null float64\n",
      "T4prime      660 non-null float64\n",
      "T5prime      660 non-null float64\n",
      "S1prime      660 non-null float64\n",
      "S2prime      660 non-null float64\n",
      "S3prime      660 non-null float64\n",
      "dtypes: float64(30), int64(4), object(3)\n",
      "memory usage: 195.9+ KB\n"
     ]
    }
   ],
   "source": [
    "data.info()"
   ]
  },
  {
   "cell_type": "code",
   "execution_count": 19,
   "metadata": {},
   "outputs": [],
   "source": [
    "# exclude C6Calc, C6' and put Y1, Y2 at the end\n",
    "# only include continous \n",
    "data_copy = data.copy()\n",
    "data1 = data_copy[['C1', 'C4',\n",
    "       'C5', 'C6', 'C3_impute',\n",
    "       'C7_impute', 'C5`',\n",
    "       'T1prime', 'T2prime','T3prime', 'T4prime', 'T5prime', 'S1prime',\n",
    "       'S2prime', 'S3prime','Y1', 'Y2']]"
   ]
  },
  {
   "cell_type": "code",
   "execution_count": 20,
   "metadata": {},
   "outputs": [],
   "source": [
    "# make a csv file\n",
    "data1.to_csv('omg2.csv')"
   ]
  },
  {
   "cell_type": "markdown",
   "metadata": {},
   "source": [
    "## Descriptive Statistics- Part 2"
   ]
  },
  {
   "cell_type": "markdown",
   "metadata": {},
   "source": [
    "Now that we have imputed all missing values and created our ratios, we can now perfrom another round of descriptive statistics on our altered dataset.\n",
    "\n",
    "Here we are using `data1`, which removed the original `T` and `S` columns and replaced them with the created ratios. We also have our new imputed columns with no missing values. We can see that our measures have changed significantly from our original output of `data`. "
   ]
  },
  {
   "cell_type": "code",
   "execution_count": null,
   "metadata": {},
   "outputs": [],
   "source": [
    "#it is important to note that all columns have 660 values--no missing values"
   ]
  },
  {
   "cell_type": "code",
   "execution_count": 24,
   "metadata": {},
   "outputs": [
    {
     "data": {
      "text/html": [
       "<div>\n",
       "<style scoped>\n",
       "    .dataframe tbody tr th:only-of-type {\n",
       "        vertical-align: middle;\n",
       "    }\n",
       "\n",
       "    .dataframe tbody tr th {\n",
       "        vertical-align: top;\n",
       "    }\n",
       "\n",
       "    .dataframe thead th {\n",
       "        text-align: right;\n",
       "    }\n",
       "</style>\n",
       "<table border=\"1\" class=\"dataframe\">\n",
       "  <thead>\n",
       "    <tr style=\"text-align: right;\">\n",
       "      <th></th>\n",
       "      <th>C1</th>\n",
       "      <th>C4</th>\n",
       "      <th>C5</th>\n",
       "      <th>C6</th>\n",
       "      <th>C3_impute</th>\n",
       "      <th>C7_impute</th>\n",
       "      <th>C5`</th>\n",
       "      <th>T1prime</th>\n",
       "      <th>T2prime</th>\n",
       "      <th>T3prime</th>\n",
       "      <th>T4prime</th>\n",
       "      <th>T5prime</th>\n",
       "      <th>S1prime</th>\n",
       "      <th>S2prime</th>\n",
       "      <th>S3prime</th>\n",
       "      <th>Y1</th>\n",
       "      <th>Y2</th>\n",
       "    </tr>\n",
       "  </thead>\n",
       "  <tbody>\n",
       "    <tr>\n",
       "      <th>count</th>\n",
       "      <td>660.000000</td>\n",
       "      <td>660.000000</td>\n",
       "      <td>6.600000e+02</td>\n",
       "      <td>6.600000e+02</td>\n",
       "      <td>660.000000</td>\n",
       "      <td>660.000000</td>\n",
       "      <td>660.000000</td>\n",
       "      <td>660.000000</td>\n",
       "      <td>660.000000</td>\n",
       "      <td>660.000000</td>\n",
       "      <td>660.000000</td>\n",
       "      <td>660.000000</td>\n",
       "      <td>660.000000</td>\n",
       "      <td>660.000000</td>\n",
       "      <td>660.000000</td>\n",
       "      <td>660.000000</td>\n",
       "      <td>660.000000</td>\n",
       "    </tr>\n",
       "    <tr>\n",
       "      <th>mean</th>\n",
       "      <td>149.728788</td>\n",
       "      <td>0.007282</td>\n",
       "      <td>4.996285e+07</td>\n",
       "      <td>1.258248e+07</td>\n",
       "      <td>0.069242</td>\n",
       "      <td>506.948305</td>\n",
       "      <td>4.417255</td>\n",
       "      <td>0.628602</td>\n",
       "      <td>0.052261</td>\n",
       "      <td>0.895091</td>\n",
       "      <td>1.611227</td>\n",
       "      <td>0.052261</td>\n",
       "      <td>0.005318</td>\n",
       "      <td>0.009055</td>\n",
       "      <td>0.011515</td>\n",
       "      <td>0.500000</td>\n",
       "      <td>0.383333</td>\n",
       "    </tr>\n",
       "    <tr>\n",
       "      <th>std</th>\n",
       "      <td>152.817467</td>\n",
       "      <td>0.033318</td>\n",
       "      <td>1.055377e+08</td>\n",
       "      <td>2.539940e+07</td>\n",
       "      <td>158.390377</td>\n",
       "      <td>1583.636798</td>\n",
       "      <td>5.133537</td>\n",
       "      <td>0.069568</td>\n",
       "      <td>0.007061</td>\n",
       "      <td>0.039542</td>\n",
       "      <td>0.187162</td>\n",
       "      <td>0.007061</td>\n",
       "      <td>0.001743</td>\n",
       "      <td>0.002990</td>\n",
       "      <td>0.002842</td>\n",
       "      <td>0.500379</td>\n",
       "      <td>0.486567</td>\n",
       "    </tr>\n",
       "    <tr>\n",
       "      <th>min</th>\n",
       "      <td>10.000000</td>\n",
       "      <td>-0.162352</td>\n",
       "      <td>3.693227e+06</td>\n",
       "      <td>8.000000e+05</td>\n",
       "      <td>-786.239000</td>\n",
       "      <td>0.074000</td>\n",
       "      <td>0.283223</td>\n",
       "      <td>0.395480</td>\n",
       "      <td>0.031595</td>\n",
       "      <td>0.711331</td>\n",
       "      <td>1.210145</td>\n",
       "      <td>0.031595</td>\n",
       "      <td>0.001602</td>\n",
       "      <td>0.002152</td>\n",
       "      <td>0.005326</td>\n",
       "      <td>0.000000</td>\n",
       "      <td>0.000000</td>\n",
       "    </tr>\n",
       "    <tr>\n",
       "      <th>25%</th>\n",
       "      <td>85.000000</td>\n",
       "      <td>-0.013927</td>\n",
       "      <td>1.877568e+07</td>\n",
       "      <td>5.124546e+06</td>\n",
       "      <td>-0.795000</td>\n",
       "      <td>41.458000</td>\n",
       "      <td>2.850622</td>\n",
       "      <td>0.580907</td>\n",
       "      <td>0.047562</td>\n",
       "      <td>0.883551</td>\n",
       "      <td>1.482666</td>\n",
       "      <td>0.047562</td>\n",
       "      <td>0.004134</td>\n",
       "      <td>0.006966</td>\n",
       "      <td>0.009579</td>\n",
       "      <td>0.000000</td>\n",
       "      <td>0.000000</td>\n",
       "    </tr>\n",
       "    <tr>\n",
       "      <th>50%</th>\n",
       "      <td>107.000000</td>\n",
       "      <td>0.009125</td>\n",
       "      <td>2.745438e+07</td>\n",
       "      <td>7.500000e+06</td>\n",
       "      <td>0.035000</td>\n",
       "      <td>133.102000</td>\n",
       "      <td>3.731035</td>\n",
       "      <td>0.628861</td>\n",
       "      <td>0.051943</td>\n",
       "      <td>0.897424</td>\n",
       "      <td>1.590177</td>\n",
       "      <td>0.051943</td>\n",
       "      <td>0.005041</td>\n",
       "      <td>0.008577</td>\n",
       "      <td>0.011301</td>\n",
       "      <td>0.500000</td>\n",
       "      <td>0.000000</td>\n",
       "    </tr>\n",
       "    <tr>\n",
       "      <th>75%</th>\n",
       "      <td>155.250000</td>\n",
       "      <td>0.031571</td>\n",
       "      <td>5.003986e+07</td>\n",
       "      <td>1.200000e+07</td>\n",
       "      <td>0.402500</td>\n",
       "      <td>506.948305</td>\n",
       "      <td>4.857904</td>\n",
       "      <td>0.674461</td>\n",
       "      <td>0.056544</td>\n",
       "      <td>0.909693</td>\n",
       "      <td>1.721447</td>\n",
       "      <td>0.056544</td>\n",
       "      <td>0.006256</td>\n",
       "      <td>0.010521</td>\n",
       "      <td>0.012848</td>\n",
       "      <td>1.000000</td>\n",
       "      <td>1.000000</td>\n",
       "    </tr>\n",
       "    <tr>\n",
       "      <th>max</th>\n",
       "      <td>2087.000000</td>\n",
       "      <td>0.092896</td>\n",
       "      <td>2.138085e+09</td>\n",
       "      <td>4.212336e+08</td>\n",
       "      <td>3864.500000</td>\n",
       "      <td>30683.000000</td>\n",
       "      <td>99.787255</td>\n",
       "      <td>0.826347</td>\n",
       "      <td>0.088061</td>\n",
       "      <td>1.486023</td>\n",
       "      <td>2.528571</td>\n",
       "      <td>0.088061</td>\n",
       "      <td>0.012839</td>\n",
       "      <td>0.024605</td>\n",
       "      <td>0.029397</td>\n",
       "      <td>1.000000</td>\n",
       "      <td>1.000000</td>\n",
       "    </tr>\n",
       "  </tbody>\n",
       "</table>\n",
       "</div>"
      ],
      "text/plain": [
       "                C1          C4            C5            C6    C3_impute  \\\n",
       "count   660.000000  660.000000  6.600000e+02  6.600000e+02   660.000000   \n",
       "mean    149.728788    0.007282  4.996285e+07  1.258248e+07     0.069242   \n",
       "std     152.817467    0.033318  1.055377e+08  2.539940e+07   158.390377   \n",
       "min      10.000000   -0.162352  3.693227e+06  8.000000e+05  -786.239000   \n",
       "25%      85.000000   -0.013927  1.877568e+07  5.124546e+06    -0.795000   \n",
       "50%     107.000000    0.009125  2.745438e+07  7.500000e+06     0.035000   \n",
       "75%     155.250000    0.031571  5.003986e+07  1.200000e+07     0.402500   \n",
       "max    2087.000000    0.092896  2.138085e+09  4.212336e+08  3864.500000   \n",
       "\n",
       "          C7_impute         C5`     T1prime     T2prime     T3prime  \\\n",
       "count    660.000000  660.000000  660.000000  660.000000  660.000000   \n",
       "mean     506.948305    4.417255    0.628602    0.052261    0.895091   \n",
       "std     1583.636798    5.133537    0.069568    0.007061    0.039542   \n",
       "min        0.074000    0.283223    0.395480    0.031595    0.711331   \n",
       "25%       41.458000    2.850622    0.580907    0.047562    0.883551   \n",
       "50%      133.102000    3.731035    0.628861    0.051943    0.897424   \n",
       "75%      506.948305    4.857904    0.674461    0.056544    0.909693   \n",
       "max    30683.000000   99.787255    0.826347    0.088061    1.486023   \n",
       "\n",
       "          T4prime     T5prime     S1prime     S2prime     S3prime          Y1  \\\n",
       "count  660.000000  660.000000  660.000000  660.000000  660.000000  660.000000   \n",
       "mean     1.611227    0.052261    0.005318    0.009055    0.011515    0.500000   \n",
       "std      0.187162    0.007061    0.001743    0.002990    0.002842    0.500379   \n",
       "min      1.210145    0.031595    0.001602    0.002152    0.005326    0.000000   \n",
       "25%      1.482666    0.047562    0.004134    0.006966    0.009579    0.000000   \n",
       "50%      1.590177    0.051943    0.005041    0.008577    0.011301    0.500000   \n",
       "75%      1.721447    0.056544    0.006256    0.010521    0.012848    1.000000   \n",
       "max      2.528571    0.088061    0.012839    0.024605    0.029397    1.000000   \n",
       "\n",
       "               Y2  \n",
       "count  660.000000  \n",
       "mean     0.383333  \n",
       "std      0.486567  \n",
       "min      0.000000  \n",
       "25%      0.000000  \n",
       "50%      0.000000  \n",
       "75%      1.000000  \n",
       "max      1.000000  "
      ]
     },
     "execution_count": 24,
     "metadata": {},
     "output_type": "execute_result"
    }
   ],
   "source": [
    "data1.describe()"
   ]
  },
  {
   "cell_type": "code",
   "execution_count": 25,
   "metadata": {},
   "outputs": [
    {
     "name": "stdout",
     "output_type": "stream",
     "text": [
      "<class 'pandas.core.frame.DataFrame'>\n",
      "Int64Index: 660 entries, 0 to 681\n",
      "Data columns (total 17 columns):\n",
      "C1           660 non-null float64\n",
      "C4           660 non-null float64\n",
      "C5           660 non-null float64\n",
      "C6           660 non-null float64\n",
      "C3_impute    660 non-null float64\n",
      "C7_impute    660 non-null float64\n",
      "C5`          660 non-null float64\n",
      "T1prime      660 non-null float64\n",
      "T2prime      660 non-null float64\n",
      "T3prime      660 non-null float64\n",
      "T4prime      660 non-null float64\n",
      "T5prime      660 non-null float64\n",
      "S1prime      660 non-null float64\n",
      "S2prime      660 non-null float64\n",
      "S3prime      660 non-null float64\n",
      "Y1           660 non-null int64\n",
      "Y2           660 non-null int64\n",
      "dtypes: float64(15), int64(2)\n",
      "memory usage: 92.8 KB\n"
     ]
    }
   ],
   "source": [
    "data1.info()"
   ]
  },
  {
   "cell_type": "markdown",
   "metadata": {},
   "source": [
    "# Normality test"
   ]
  },
  {
   "cell_type": "code",
   "execution_count": 26,
   "metadata": {},
   "outputs": [],
   "source": [
    "# categorical no standardization, normalization\n",
    "# if skew is between -0.5 and 0.5 it will be consider normalized "
   ]
  },
  {
   "cell_type": "code",
   "execution_count": 27,
   "metadata": {},
   "outputs": [
    {
     "data": {
      "text/plain": [
       "array([[<matplotlib.axes._subplots.AxesSubplot object at 0x7fbcaf278160>,\n",
       "        <matplotlib.axes._subplots.AxesSubplot object at 0x7fbcad180470>,\n",
       "        <matplotlib.axes._subplots.AxesSubplot object at 0x7fbcad1aa898>],\n",
       "       [<matplotlib.axes._subplots.AxesSubplot object at 0x7fbcad14ef28>,\n",
       "        <matplotlib.axes._subplots.AxesSubplot object at 0x7fbcad0fc5f8>,\n",
       "        <matplotlib.axes._subplots.AxesSubplot object at 0x7fbcad0fc630>],\n",
       "       [<matplotlib.axes._subplots.AxesSubplot object at 0x7fbcad0d2358>,\n",
       "        <matplotlib.axes._subplots.AxesSubplot object at 0x7fbcad0f69e8>,\n",
       "        <matplotlib.axes._subplots.AxesSubplot object at 0x7fbcad0a80b8>]],\n",
       "      dtype=object)"
      ]
     },
     "execution_count": 27,
     "metadata": {},
     "output_type": "execute_result"
    }
   ],
   "source": [
    "pd.plotting.scatter_matrix(data1[['S1prime', 'S2prime', 'S3prime']], figsize=(14,14), hist_kwds={'bins':8}, alpha=.5, marker='o', s=50)"
   ]
  },
  {
   "cell_type": "code",
   "execution_count": 28,
   "metadata": {},
   "outputs": [
    {
     "name": "stdout",
     "output_type": "stream",
     "text": [
      "S1prime:  0.9339775496433853\n",
      "S2prime:  1.1913004106056746\n",
      "S3prime:  1.3867722660900483\n"
     ]
    }
   ],
   "source": [
    "print('S1prime: ',data1['S1prime'].skew())\n",
    "print('S2prime: ',data1['S2prime'].skew())\n",
    "print('S3prime: ',data1['S3prime'].skew())"
   ]
  },
  {
   "cell_type": "code",
   "execution_count": 29,
   "metadata": {},
   "outputs": [
    {
     "name": "stdout",
     "output_type": "stream",
     "text": [
      "Statistics=0.954, p=0.000\n",
      "Sample does not look Gaussian (reject H0)\n"
     ]
    }
   ],
   "source": [
    "# alternative use Shapiro but its too strict\n",
    "# only for the continuous \n",
    "# another skewness test --> request skewness from pandas \n",
    "# and look at the histograms \n",
    "from scipy.stats import shapiro\n",
    "stat, p = shapiro(data['S1prime'])\n",
    "print('Statistics=%.3f, p=%.3f' % (stat, p))\n",
    "\n",
    "# interpret\n",
    "alpha = 0.05\n",
    "if p > alpha:\n",
    "    print('Sample looks Gaussian (fail to reject H0)')\n",
    "else:\n",
    "    print('Sample does not look Gaussian (reject H0)')"
   ]
  },
  {
   "cell_type": "code",
   "execution_count": 30,
   "metadata": {},
   "outputs": [
    {
     "name": "stderr",
     "output_type": "stream",
     "text": [
      "/opt/tljh/user/lib/python3.6/site-packages/ipykernel_launcher.py:1: SettingWithCopyWarning: \n",
      "A value is trying to be set on a copy of a slice from a DataFrame.\n",
      "Try using .loc[row_indexer,col_indexer] = value instead\n",
      "\n",
      "See the caveats in the documentation: http://pandas.pydata.org/pandas-docs/stable/user_guide/indexing.html#returning-a-view-versus-a-copy\n",
      "  \"\"\"Entry point for launching an IPython kernel.\n",
      "/opt/tljh/user/lib/python3.6/site-packages/ipykernel_launcher.py:2: SettingWithCopyWarning: \n",
      "A value is trying to be set on a copy of a slice from a DataFrame.\n",
      "Try using .loc[row_indexer,col_indexer] = value instead\n",
      "\n",
      "See the caveats in the documentation: http://pandas.pydata.org/pandas-docs/stable/user_guide/indexing.html#returning-a-view-versus-a-copy\n",
      "  \n",
      "/opt/tljh/user/lib/python3.6/site-packages/ipykernel_launcher.py:3: SettingWithCopyWarning: \n",
      "A value is trying to be set on a copy of a slice from a DataFrame.\n",
      "Try using .loc[row_indexer,col_indexer] = value instead\n",
      "\n",
      "See the caveats in the documentation: http://pandas.pydata.org/pandas-docs/stable/user_guide/indexing.html#returning-a-view-versus-a-copy\n",
      "  This is separate from the ipykernel package so we can avoid doing imports until\n"
     ]
    }
   ],
   "source": [
    "data1['S1prime_norm']=np.log((data1['S1prime']))\n",
    "data1['S2prime_norm']=np.log((data1['S2prime']))\n",
    "data1['S3prime_norm'] = np.log(data1['S3prime'])"
   ]
  },
  {
   "cell_type": "code",
   "execution_count": 31,
   "metadata": {},
   "outputs": [
    {
     "data": {
      "text/plain": [
       "<matplotlib.axes._subplots.AxesSubplot at 0x7fbcaf7e6080>"
      ]
     },
     "execution_count": 31,
     "metadata": {},
     "output_type": "execute_result"
    },
    {
     "data": {
      "image/png": "[encoded data removed]",
      "text/plain": [
       "<Figure size 432x288 with 1 Axes>"
      ]
     },
     "metadata": {
      "needs_background": "light"
     },
     "output_type": "display_data"
    }
   ],
   "source": [
    "data1['S1prime_norm'].hist()\n",
    "data1['S2prime_norm'].hist()\n",
    "data1['S3prime_norm'].hist()"
   ]
  },
  {
   "cell_type": "code",
   "execution_count": 33,
   "metadata": {},
   "outputs": [],
   "source": [
    "#histogram follows 'normal' bell shaped curve"
   ]
  },
  {
   "cell_type": "code",
   "execution_count": 34,
   "metadata": {},
   "outputs": [
    {
     "name": "stdout",
     "output_type": "stream",
     "text": [
      "S1prime normalized:  -0.12770139987558649\n",
      "S2prime normalized:  0.0767078840055317\n",
      "S3prime normalized:  0.2151506322337023\n"
     ]
    }
   ],
   "source": [
    "print('S1prime normalized: ' , data1['S1prime_norm'].skew())\n",
    "print('S2prime normalized: ' , data1['S2prime_norm'].skew())\n",
    "print('S3prime normalized: ' , data1['S3prime_norm'].skew())"
   ]
  },
  {
   "cell_type": "code",
   "execution_count": 35,
   "metadata": {},
   "outputs": [],
   "source": [
    "# outliers --> IQR and 3st dev method \n",
    "# we standardize all but Y's right? \n",
    "# binning? \n",
    "# select only continous variables to put into evaluation code"
   ]
  },
  {
   "cell_type": "code",
   "execution_count": 36,
   "metadata": {},
   "outputs": [
    {
     "data": {
      "text/plain": [
       "array([[<matplotlib.axes._subplots.AxesSubplot object at 0x7fbcaaada1d0>,\n",
       "        <matplotlib.axes._subplots.AxesSubplot object at 0x7fbcaaaaf588>,\n",
       "        <matplotlib.axes._subplots.AxesSubplot object at 0x7fbcaaa54c18>,\n",
       "        <matplotlib.axes._subplots.AxesSubplot object at 0x7fbcaaa882e8>,\n",
       "        <matplotlib.axes._subplots.AxesSubplot object at 0x7fbcaaa2f978>,\n",
       "        <matplotlib.axes._subplots.AxesSubplot object at 0x7fbcaaa2f9b0>,\n",
       "        <matplotlib.axes._subplots.AxesSubplot object at 0x7fbcaaa086d8>],\n",
       "       [<matplotlib.axes._subplots.AxesSubplot object at 0x7fbcaa9b2d68>,\n",
       "        <matplotlib.axes._subplots.AxesSubplot object at 0x7fbcaa963438>,\n",
       "        <matplotlib.axes._subplots.AxesSubplot object at 0x7fbcaa98bac8>,\n",
       "        <matplotlib.axes._subplots.AxesSubplot object at 0x7fbcaa93e198>,\n",
       "        <matplotlib.axes._subplots.AxesSubplot object at 0x7fbcaa8e4828>,\n",
       "        <matplotlib.axes._subplots.AxesSubplot object at 0x7fbcaa88eeb8>,\n",
       "        <matplotlib.axes._subplots.AxesSubplot object at 0x7fbcaa8bf588>],\n",
       "       [<matplotlib.axes._subplots.AxesSubplot object at 0x7fbcaa866c18>,\n",
       "        <matplotlib.axes._subplots.AxesSubplot object at 0x7fbcaa81a2e8>,\n",
       "        <matplotlib.axes._subplots.AxesSubplot object at 0x7fbcaa842978>,\n",
       "        <matplotlib.axes._subplots.AxesSubplot object at 0x7fbcaa7f3048>,\n",
       "        <matplotlib.axes._subplots.AxesSubplot object at 0x7fbcaa79b6d8>,\n",
       "        <matplotlib.axes._subplots.AxesSubplot object at 0x7fbcaa7c2d68>,\n",
       "        <matplotlib.axes._subplots.AxesSubplot object at 0x7fbcaa773438>],\n",
       "       [<matplotlib.axes._subplots.AxesSubplot object at 0x7fbcaa71dac8>,\n",
       "        <matplotlib.axes._subplots.AxesSubplot object at 0x7fbcaa6cf198>,\n",
       "        <matplotlib.axes._subplots.AxesSubplot object at 0x7fbcaa6f8828>,\n",
       "        <matplotlib.axes._subplots.AxesSubplot object at 0x7fbcaa69eeb8>,\n",
       "        <matplotlib.axes._subplots.AxesSubplot object at 0x7fbcaa64f588>,\n",
       "        <matplotlib.axes._subplots.AxesSubplot object at 0x7fbcaa67ac18>,\n",
       "        <matplotlib.axes._subplots.AxesSubplot object at 0x7fbcaa62c2e8>],\n",
       "       [<matplotlib.axes._subplots.AxesSubplot object at 0x7fbcaa5d2978>,\n",
       "        <matplotlib.axes._subplots.AxesSubplot object at 0x7fbcaa607048>,\n",
       "        <matplotlib.axes._subplots.AxesSubplot object at 0x7fbcaa5ad6d8>,\n",
       "        <matplotlib.axes._subplots.AxesSubplot object at 0x7fbcaa554d68>,\n",
       "        <matplotlib.axes._subplots.AxesSubplot object at 0x7fbcaa588438>,\n",
       "        <matplotlib.axes._subplots.AxesSubplot object at 0x7fbcaa52eac8>,\n",
       "        <matplotlib.axes._subplots.AxesSubplot object at 0x7fbcaa4e0198>],\n",
       "       [<matplotlib.axes._subplots.AxesSubplot object at 0x7fbcaa508828>,\n",
       "        <matplotlib.axes._subplots.AxesSubplot object at 0x7fbcaa4b1eb8>,\n",
       "        <matplotlib.axes._subplots.AxesSubplot object at 0x7fbcaa462588>,\n",
       "        <matplotlib.axes._subplots.AxesSubplot object at 0x7fbcaa48bc18>,\n",
       "        <matplotlib.axes._subplots.AxesSubplot object at 0x7fbcaa43d2e8>,\n",
       "        <matplotlib.axes._subplots.AxesSubplot object at 0x7fbcaa3e4978>,\n",
       "        <matplotlib.axes._subplots.AxesSubplot object at 0x7fbcaa396048>],\n",
       "       [<matplotlib.axes._subplots.AxesSubplot object at 0x7fbcaa3be6d8>,\n",
       "        <matplotlib.axes._subplots.AxesSubplot object at 0x7fbcaa367d68>,\n",
       "        <matplotlib.axes._subplots.AxesSubplot object at 0x7fbcaa318438>,\n",
       "        <matplotlib.axes._subplots.AxesSubplot object at 0x7fbcaa342ac8>,\n",
       "        <matplotlib.axes._subplots.AxesSubplot object at 0x7fbcaa2f2198>,\n",
       "        <matplotlib.axes._subplots.AxesSubplot object at 0x7fbcaa299828>,\n",
       "        <matplotlib.axes._subplots.AxesSubplot object at 0x7fbcaa2c2eb8>]],\n",
       "      dtype=object)"
      ]
     },
     "execution_count": 36,
     "metadata": {},
     "output_type": "execute_result"
    },
    {
     "data": {
      "image/png": "[encoded data removed]",
      "text/plain": [
       "<Figure size 1008x1008 with 49 Axes>"
      ]
     },
     "metadata": {
      "needs_background": "light"
     },
     "output_type": "display_data"
    }
   ],
   "source": [
    "pd.plotting.scatter_matrix(data1[['C1', 'C4',\n",
    "       'C5', 'C6', 'C3_impute',\n",
    "       'C7_impute', 'C5`']], figsize=(14,14), hist_kwds={'bins':8}, alpha=.5, marker='o', s=50)"
   ]
  },
  {
   "cell_type": "code",
   "execution_count": 38,
   "metadata": {},
   "outputs": [],
   "source": [
    "#must use .skew() to fix the right skews seen above"
   ]
  },
  {
   "cell_type": "code",
   "execution_count": 39,
   "metadata": {},
   "outputs": [
    {
     "name": "stdout",
     "output_type": "stream",
     "text": [
      "C1:  5.649484948760403\n",
      "C3_impute:  21.727205834622886\n",
      "C4:  -0.4778924619388421\n",
      "C5:  13.461311505350828\n",
      "C6:  12.439170657119098\n",
      "C7_impute:  12.192094800449242\n",
      "C5prime:  13.405535814317505\n"
     ]
    }
   ],
   "source": [
    "# test\n",
    "print('C1: ',data1['C1'].skew())\n",
    "print('C3_impute: ',data1['C3_impute'].skew())\n",
    "print('C4: ',data1['C4'].skew())\n",
    "print('C5: ',data1['C5'].skew())\n",
    "print('C6: ',data1['C6'].skew())\n",
    "print('C7_impute: ',data1['C7_impute'].skew())\n",
    "print('C5prime: ',data1['C5`'].skew())\n",
    "#print('C6prime: ',data1['C6`'].skew())"
   ]
  },
  {
   "cell_type": "code",
   "execution_count": 40,
   "metadata": {},
   "outputs": [
    {
     "name": "stderr",
     "output_type": "stream",
     "text": [
      "/opt/tljh/user/lib/python3.6/site-packages/ipykernel_launcher.py:1: SettingWithCopyWarning: \n",
      "A value is trying to be set on a copy of a slice from a DataFrame.\n",
      "Try using .loc[row_indexer,col_indexer] = value instead\n",
      "\n",
      "See the caveats in the documentation: http://pandas.pydata.org/pandas-docs/stable/user_guide/indexing.html#returning-a-view-versus-a-copy\n",
      "  \"\"\"Entry point for launching an IPython kernel.\n",
      "/opt/tljh/user/lib/python3.6/site-packages/ipykernel_launcher.py:2: SettingWithCopyWarning: \n",
      "A value is trying to be set on a copy of a slice from a DataFrame.\n",
      "Try using .loc[row_indexer,col_indexer] = value instead\n",
      "\n",
      "See the caveats in the documentation: http://pandas.pydata.org/pandas-docs/stable/user_guide/indexing.html#returning-a-view-versus-a-copy\n",
      "  \n",
      "/opt/tljh/user/lib/python3.6/site-packages/ipykernel_launcher.py:3: SettingWithCopyWarning: \n",
      "A value is trying to be set on a copy of a slice from a DataFrame.\n",
      "Try using .loc[row_indexer,col_indexer] = value instead\n",
      "\n",
      "See the caveats in the documentation: http://pandas.pydata.org/pandas-docs/stable/user_guide/indexing.html#returning-a-view-versus-a-copy\n",
      "  This is separate from the ipykernel package so we can avoid doing imports until\n",
      "/opt/tljh/user/lib/python3.6/site-packages/ipykernel_launcher.py:4: SettingWithCopyWarning: \n",
      "A value is trying to be set on a copy of a slice from a DataFrame.\n",
      "Try using .loc[row_indexer,col_indexer] = value instead\n",
      "\n",
      "See the caveats in the documentation: http://pandas.pydata.org/pandas-docs/stable/user_guide/indexing.html#returning-a-view-versus-a-copy\n",
      "  after removing the cwd from sys.path.\n",
      "/opt/tljh/user/lib/python3.6/site-packages/ipykernel_launcher.py:5: SettingWithCopyWarning: \n",
      "A value is trying to be set on a copy of a slice from a DataFrame.\n",
      "Try using .loc[row_indexer,col_indexer] = value instead\n",
      "\n",
      "See the caveats in the documentation: http://pandas.pydata.org/pandas-docs/stable/user_guide/indexing.html#returning-a-view-versus-a-copy\n",
      "  \"\"\"\n",
      "/opt/tljh/user/lib/python3.6/site-packages/ipykernel_launcher.py:6: SettingWithCopyWarning: \n",
      "A value is trying to be set on a copy of a slice from a DataFrame.\n",
      "Try using .loc[row_indexer,col_indexer] = value instead\n",
      "\n",
      "See the caveats in the documentation: http://pandas.pydata.org/pandas-docs/stable/user_guide/indexing.html#returning-a-view-versus-a-copy\n",
      "  \n"
     ]
    }
   ],
   "source": [
    "data1['C1_norm'] = np.log(data1['C1'])\n",
    "data1['C3_norm'] = np.tanh(data1['C3_impute']+1)\n",
    "data1['C5_norm'] = 1/(np.log(data1['C5']))\n",
    "data1['C6_norm'] = 1/(np.log(data1['C6']))\n",
    "data1['C7_norm'] = np.log(data1['C7_impute']+1)\n",
    "data1['C5prime_norm'] = np.log(data1['C5`'])\n",
    "#data1['C6prime_norm'] = np.sqrt(np.log(data1['C6`']+1))"
   ]
  },
  {
   "cell_type": "code",
   "execution_count": 41,
   "metadata": {},
   "outputs": [
    {
     "data": {
      "text/plain": [
       "<matplotlib.axes._subplots.AxesSubplot at 0x7fbca9aa0f98>"
      ]
     },
     "execution_count": 41,
     "metadata": {},
     "output_type": "execute_result"
    },
    {
     "data": {
      "image/png": "[encoded data removed]",
      "text/plain": [
       "<Figure size 432x288 with 1 Axes>"
      ]
     },
     "metadata": {
      "needs_background": "light"
     },
     "output_type": "display_data"
    }
   ],
   "source": [
    "data1['C1_norm'].hist()\n",
    "data1['C3_norm'].hist()\n",
    "data1['C5_norm'].hist()\n",
    "data1['C6_norm'].hist()\n",
    "data1['C7_norm'].hist()\n",
    "data1['C5prime_norm'].hist()\n",
    "#data1['C6prime_norm'].hist()"
   ]
  },
  {
   "cell_type": "code",
   "execution_count": 42,
   "metadata": {},
   "outputs": [
    {
     "name": "stdout",
     "output_type": "stream",
     "text": [
      "C1_normalized:  0.13206924296483574\n",
      "C3_normalized:  -1.2223933661755828\n",
      "C5_normalized:  -0.3913588014366576\n",
      "C6_normalized:  -0.3936679536459565\n",
      "C7_normalized:  -0.3531006261040392\n",
      "C5prime_normalized:  0.4273718005667461\n"
     ]
    }
   ],
   "source": [
    "print('C1_normalized: ', data1['C1_norm'].skew())\n",
    "print('C3_normalized: ', data1['C3_norm'].skew())\n",
    "print('C5_normalized: ', data1['C5_norm'].skew())\n",
    "print('C6_normalized: ', data1['C6_norm'].skew())\n",
    "print('C7_normalized: ', data1['C7_norm'].skew())\n",
    "print('C5prime_normalized: ', data1['C5prime_norm'].skew())\n",
    "#print('C6prime_normalized: ', data1['C6prime_norm'].skew())"
   ]
  },
  {
   "cell_type": "code",
   "execution_count": 43,
   "metadata": {},
   "outputs": [
    {
     "data": {
      "text/plain": [
       "array([[<matplotlib.axes._subplots.AxesSubplot object at 0x7fbca9e28240>,\n",
       "        <matplotlib.axes._subplots.AxesSubplot object at 0x7fbca9ded6d8>,\n",
       "        <matplotlib.axes._subplots.AxesSubplot object at 0x7fbca9d94d68>,\n",
       "        <matplotlib.axes._subplots.AxesSubplot object at 0x7fbca9dc6438>,\n",
       "        <matplotlib.axes._subplots.AxesSubplot object at 0x7fbca9d6bac8>],\n",
       "       [<matplotlib.axes._subplots.AxesSubplot object at 0x7fbca9d6bb00>,\n",
       "        <matplotlib.axes._subplots.AxesSubplot object at 0x7fbca9d44828>,\n",
       "        <matplotlib.axes._subplots.AxesSubplot object at 0x7fbca9cf0eb8>,\n",
       "        <matplotlib.axes._subplots.AxesSubplot object at 0x7fbca9c9f588>,\n",
       "        <matplotlib.axes._subplots.AxesSubplot object at 0x7fbca9cc6c18>],\n",
       "       [<matplotlib.axes._subplots.AxesSubplot object at 0x7fbca9c7a2e8>,\n",
       "        <matplotlib.axes._subplots.AxesSubplot object at 0x7fbca9c20978>,\n",
       "        <matplotlib.axes._subplots.AxesSubplot object at 0x7fbca9bd5048>,\n",
       "        <matplotlib.axes._subplots.AxesSubplot object at 0x7fbca9bfc6d8>,\n",
       "        <matplotlib.axes._subplots.AxesSubplot object at 0x7fbca9ba5d68>],\n",
       "       [<matplotlib.axes._subplots.AxesSubplot object at 0x7fbca9b56438>,\n",
       "        <matplotlib.axes._subplots.AxesSubplot object at 0x7fbca9b7dac8>,\n",
       "        <matplotlib.axes._subplots.AxesSubplot object at 0x7fbca9b2f198>,\n",
       "        <matplotlib.axes._subplots.AxesSubplot object at 0x7fbca9ad6828>,\n",
       "        <matplotlib.axes._subplots.AxesSubplot object at 0x7fbca9afeeb8>],\n",
       "       [<matplotlib.axes._subplots.AxesSubplot object at 0x7fbca8723588>,\n",
       "        <matplotlib.axes._subplots.AxesSubplot object at 0x7fbca86cc710>,\n",
       "        <matplotlib.axes._subplots.AxesSubplot object at 0x7fbca86f4da0>,\n",
       "        <matplotlib.axes._subplots.AxesSubplot object at 0x7fbca86a6470>,\n",
       "        <matplotlib.axes._subplots.AxesSubplot object at 0x7fbca864db00>]],\n",
       "      dtype=object)"
      ]
     },
     "execution_count": 43,
     "metadata": {},
     "output_type": "execute_result"
    },
    {
     "data": {
      "image/png": "[encoded data removed]",
      "text/plain": [
       "<Figure size 1008x1008 with 25 Axes>"
      ]
     },
     "metadata": {
      "needs_background": "light"
     },
     "output_type": "display_data"
    }
   ],
   "source": [
    "pd.plotting.scatter_matrix(data1[['T1prime','T3prime', 'T4prime', 'T2prime','T5prime']], figsize=(14,14), hist_kwds={'bins':8}, alpha=.5, marker='o', s=50)"
   ]
  },
  {
   "cell_type": "code",
   "execution_count": 45,
   "metadata": {},
   "outputs": [],
   "source": [
    "# T1 looks good "
   ]
  },
  {
   "cell_type": "code",
   "execution_count": 46,
   "metadata": {},
   "outputs": [
    {
     "name": "stdout",
     "output_type": "stream",
     "text": [
      "T1prime:  -0.07735461477710555\n",
      "T2prime:  0.41084438669301393\n",
      "T3prime:  7.979616847783\n",
      "T4prime:  0.8282140120955176\n",
      "T5prime:  0.41084438669301393\n"
     ]
    }
   ],
   "source": [
    "print('T1prime: ', data1['T1prime'].skew())\n",
    "print('T2prime: ', data1['T2prime'].skew())\n",
    "print('T3prime: ', data1['T3prime'].skew())\n",
    "print('T4prime: ', data1['T4prime'].skew())\n",
    "print('T5prime: ', data1['T5prime'].skew())"
   ]
  },
  {
   "cell_type": "code",
   "execution_count": 47,
   "metadata": {},
   "outputs": [
    {
     "name": "stderr",
     "output_type": "stream",
     "text": [
      "/opt/tljh/user/lib/python3.6/site-packages/ipykernel_launcher.py:1: SettingWithCopyWarning: \n",
      "A value is trying to be set on a copy of a slice from a DataFrame.\n",
      "Try using .loc[row_indexer,col_indexer] = value instead\n",
      "\n",
      "See the caveats in the documentation: http://pandas.pydata.org/pandas-docs/stable/user_guide/indexing.html#returning-a-view-versus-a-copy\n",
      "  \"\"\"Entry point for launching an IPython kernel.\n",
      "/opt/tljh/user/lib/python3.6/site-packages/ipykernel_launcher.py:2: SettingWithCopyWarning: \n",
      "A value is trying to be set on a copy of a slice from a DataFrame.\n",
      "Try using .loc[row_indexer,col_indexer] = value instead\n",
      "\n",
      "See the caveats in the documentation: http://pandas.pydata.org/pandas-docs/stable/user_guide/indexing.html#returning-a-view-versus-a-copy\n",
      "  \n",
      "/opt/tljh/user/lib/python3.6/site-packages/ipykernel_launcher.py:3: SettingWithCopyWarning: \n",
      "A value is trying to be set on a copy of a slice from a DataFrame.\n",
      "Try using .loc[row_indexer,col_indexer] = value instead\n",
      "\n",
      "See the caveats in the documentation: http://pandas.pydata.org/pandas-docs/stable/user_guide/indexing.html#returning-a-view-versus-a-copy\n",
      "  This is separate from the ipykernel package so we can avoid doing imports until\n",
      "/opt/tljh/user/lib/python3.6/site-packages/ipykernel_launcher.py:4: SettingWithCopyWarning: \n",
      "A value is trying to be set on a copy of a slice from a DataFrame.\n",
      "Try using .loc[row_indexer,col_indexer] = value instead\n",
      "\n",
      "See the caveats in the documentation: http://pandas.pydata.org/pandas-docs/stable/user_guide/indexing.html#returning-a-view-versus-a-copy\n",
      "  after removing the cwd from sys.path.\n"
     ]
    }
   ],
   "source": [
    "data1['T2prime_norm'] = np.sqrt(data1['T2prime'])\n",
    "data1['T3prime_norm'] = 1/(np.log(data1['T3prime']))\n",
    "data1['T4prime_norm'] = np.log(data1['T4prime'])\n",
    "data1['T5prime_norm'] = np.sqrt(data1['T5prime'])"
   ]
  },
  {
   "cell_type": "code",
   "execution_count": 48,
   "metadata": {},
   "outputs": [
    {
     "name": "stdout",
     "output_type": "stream",
     "text": [
      "T2prime_norm:  0.0968040448556735\n",
      "T3prime_norm:  -0.47402485520542714\n",
      "T4prime_norm:  0.42612462287499436\n",
      "T5prime_norm:  0.0968040448556735\n"
     ]
    }
   ],
   "source": [
    "print('T2prime_norm: ', data1['T2prime_norm'].skew())\n",
    "print('T3prime_norm: ', data1['T3prime_norm'].skew())\n",
    "print('T4prime_norm: ', data1['T4prime_norm'].skew())\n",
    "print('T5prime_norm: ', data1['T5prime_norm'].skew())"
   ]
  },
  {
   "cell_type": "code",
   "execution_count": 49,
   "metadata": {},
   "outputs": [
    {
     "data": {
      "text/plain": [
       "Index(['C1', 'C4', 'C5', 'C6', 'C3_impute', 'C7_impute', 'C5`', 'T1prime',\n",
       "       'T2prime', 'T3prime', 'T4prime', 'T5prime', 'S1prime', 'S2prime',\n",
       "       'S3prime', 'Y1', 'Y2', 'S1prime_norm', 'S2prime_norm', 'S3prime_norm',\n",
       "       'C1_norm', 'C3_norm', 'C5_norm', 'C6_norm', 'C7_norm', 'C5prime_norm',\n",
       "       'T2prime_norm', 'T3prime_norm', 'T4prime_norm', 'T5prime_norm'],\n",
       "      dtype='object')"
      ]
     },
     "execution_count": 49,
     "metadata": {},
     "output_type": "execute_result"
    }
   ],
   "source": [
    "data1.columns"
   ]
  },
  {
   "cell_type": "code",
   "execution_count": 51,
   "metadata": {},
   "outputs": [],
   "source": [
    "#we select the normalized columns and delete out the original columns---ie: replace S1prime with S1prime_norm"
   ]
  },
  {
   "cell_type": "code",
   "execution_count": 52,
   "metadata": {},
   "outputs": [
    {
     "data": {
      "text/html": [
       "<div>\n",
       "<style scoped>\n",
       "    .dataframe tbody tr th:only-of-type {\n",
       "        vertical-align: middle;\n",
       "    }\n",
       "\n",
       "    .dataframe tbody tr th {\n",
       "        vertical-align: top;\n",
       "    }\n",
       "\n",
       "    .dataframe thead th {\n",
       "        text-align: right;\n",
       "    }\n",
       "</style>\n",
       "<table border=\"1\" class=\"dataframe\">\n",
       "  <thead>\n",
       "    <tr style=\"text-align: right;\">\n",
       "      <th></th>\n",
       "      <th>S1prime_norm</th>\n",
       "      <th>S2prime_norm</th>\n",
       "      <th>S3prime_norm</th>\n",
       "      <th>C1_norm</th>\n",
       "      <th>C3_norm</th>\n",
       "      <th>C4</th>\n",
       "      <th>C5_norm</th>\n",
       "      <th>C6_norm</th>\n",
       "      <th>C7_norm</th>\n",
       "      <th>C5prime_norm</th>\n",
       "      <th>T1prime</th>\n",
       "      <th>T2prime_norm</th>\n",
       "      <th>T3prime_norm</th>\n",
       "      <th>T4prime_norm</th>\n",
       "      <th>T5prime_norm</th>\n",
       "      <th>Y1</th>\n",
       "      <th>Y2</th>\n",
       "    </tr>\n",
       "  </thead>\n",
       "  <tbody>\n",
       "    <tr>\n",
       "      <th>0</th>\n",
       "      <td>-5.323718</td>\n",
       "      <td>-4.688678</td>\n",
       "      <td>-4.516378</td>\n",
       "      <td>4.804021</td>\n",
       "      <td>0.999716</td>\n",
       "      <td>0.029074</td>\n",
       "      <td>0.057051</td>\n",
       "      <td>0.061819</td>\n",
       "      <td>3.957856</td>\n",
       "      <td>1.351792</td>\n",
       "      <td>0.640426</td>\n",
       "      <td>0.232915</td>\n",
       "      <td>-10.466155</td>\n",
       "      <td>0.445622</td>\n",
       "      <td>0.232915</td>\n",
       "      <td>0</td>\n",
       "      <td>1</td>\n",
       "    </tr>\n",
       "    <tr>\n",
       "      <th>1</th>\n",
       "      <td>-5.726618</td>\n",
       "      <td>-4.500360</td>\n",
       "      <td>-4.521238</td>\n",
       "      <td>5.556828</td>\n",
       "      <td>-0.551128</td>\n",
       "      <td>-0.013352</td>\n",
       "      <td>0.058213</td>\n",
       "      <td>0.068069</td>\n",
       "      <td>3.293464</td>\n",
       "      <td>2.487306</td>\n",
       "      <td>0.644753</td>\n",
       "      <td>0.226705</td>\n",
       "      <td>-9.365141</td>\n",
       "      <td>0.438887</td>\n",
       "      <td>0.226705</td>\n",
       "      <td>1</td>\n",
       "      <td>0</td>\n",
       "    </tr>\n",
       "    <tr>\n",
       "      <th>2</th>\n",
       "      <td>-4.457393</td>\n",
       "      <td>-5.071759</td>\n",
       "      <td>-4.473922</td>\n",
       "      <td>4.499810</td>\n",
       "      <td>-0.235496</td>\n",
       "      <td>0.020715</td>\n",
       "      <td>0.060098</td>\n",
       "      <td>0.064830</td>\n",
       "      <td>2.125609</td>\n",
       "      <td>1.214656</td>\n",
       "      <td>0.636816</td>\n",
       "      <td>0.248523</td>\n",
       "      <td>-10.523529</td>\n",
       "      <td>0.451275</td>\n",
       "      <td>0.248523</td>\n",
       "      <td>1</td>\n",
       "      <td>0</td>\n",
       "    </tr>\n",
       "    <tr>\n",
       "      <th>3</th>\n",
       "      <td>-4.637032</td>\n",
       "      <td>-4.941521</td>\n",
       "      <td>-4.318578</td>\n",
       "      <td>5.342334</td>\n",
       "      <td>0.089758</td>\n",
       "      <td>0.020023</td>\n",
       "      <td>0.060557</td>\n",
       "      <td>0.065276</td>\n",
       "      <td>2.254025</td>\n",
       "      <td>1.193831</td>\n",
       "      <td>0.539634</td>\n",
       "      <td>0.248253</td>\n",
       "      <td>-11.549720</td>\n",
       "      <td>0.616864</td>\n",
       "      <td>0.248253</td>\n",
       "      <td>1</td>\n",
       "      <td>0</td>\n",
       "    </tr>\n",
       "    <tr>\n",
       "      <th>4</th>\n",
       "      <td>-5.399715</td>\n",
       "      <td>-4.600461</td>\n",
       "      <td>-4.486414</td>\n",
       "      <td>4.382027</td>\n",
       "      <td>0.789461</td>\n",
       "      <td>-0.034895</td>\n",
       "      <td>0.058001</td>\n",
       "      <td>0.062791</td>\n",
       "      <td>6.450941</td>\n",
       "      <td>1.315407</td>\n",
       "      <td>0.587413</td>\n",
       "      <td>0.220341</td>\n",
       "      <td>-8.456290</td>\n",
       "      <td>0.532028</td>\n",
       "      <td>0.220341</td>\n",
       "      <td>0</td>\n",
       "      <td>1</td>\n",
       "    </tr>\n",
       "  </tbody>\n",
       "</table>\n",
       "</div>"
      ],
      "text/plain": [
       "   S1prime_norm  S2prime_norm  S3prime_norm   C1_norm   C3_norm        C4  \\\n",
       "0     -5.323718     -4.688678     -4.516378  4.804021  0.999716  0.029074   \n",
       "1     -5.726618     -4.500360     -4.521238  5.556828 -0.551128 -0.013352   \n",
       "2     -4.457393     -5.071759     -4.473922  4.499810 -0.235496  0.020715   \n",
       "3     -4.637032     -4.941521     -4.318578  5.342334  0.089758  0.020023   \n",
       "4     -5.399715     -4.600461     -4.486414  4.382027  0.789461 -0.034895   \n",
       "\n",
       "    C5_norm   C6_norm   C7_norm  C5prime_norm   T1prime  T2prime_norm  \\\n",
       "0  0.057051  0.061819  3.957856      1.351792  0.640426      0.232915   \n",
       "1  0.058213  0.068069  3.293464      2.487306  0.644753      0.226705   \n",
       "2  0.060098  0.064830  2.125609      1.214656  0.636816      0.248523   \n",
       "3  0.060557  0.065276  2.254025      1.193831  0.539634      0.248253   \n",
       "4  0.058001  0.062791  6.450941      1.315407  0.587413      0.220341   \n",
       "\n",
       "   T3prime_norm  T4prime_norm  T5prime_norm  Y1  Y2  \n",
       "0    -10.466155      0.445622      0.232915   0   1  \n",
       "1     -9.365141      0.438887      0.226705   1   0  \n",
       "2    -10.523529      0.451275      0.248523   1   0  \n",
       "3    -11.549720      0.616864      0.248253   1   0  \n",
       "4     -8.456290      0.532028      0.220341   0   1  "
      ]
     },
     "execution_count": 52,
     "metadata": {},
     "output_type": "execute_result"
    }
   ],
   "source": [
    "data1 = data1[['S1prime_norm', 'S2prime_norm',\n",
    "       'S3prime_norm', 'C1_norm', 'C3_norm','C4', 'C5_norm', 'C6_norm', 'C7_norm',\n",
    "       'C5prime_norm', 'T1prime','T2prime_norm', 'T3prime_norm',\n",
    "       'T4prime_norm', 'T5prime_norm','Y1','Y2']]\n",
    "data1.head()"
   ]
  },
  {
   "cell_type": "code",
   "execution_count": 53,
   "metadata": {},
   "outputs": [],
   "source": [
    "data1.to_csv('normalized.csv')"
   ]
  },
  {
   "cell_type": "markdown",
   "metadata": {},
   "source": [
    "# Outliers\n",
    "\n",
    "An outlier is a data point that is significantly different from all other data points. Usually, an outlier does not follow the pattern of the data. We removed ourliers because we do not want these rougue values to effect our final result. \n",
    "\n",
    "Here, we seperated investigating our `upper bound` and `lower bound` outliers. An upper bound outlier fall above the outer bound of the dataset, while a lower bound outlier falls below the lower bound. \n"
   ]
  },
  {
   "cell_type": "code",
   "execution_count": 54,
   "metadata": {},
   "outputs": [],
   "source": [
    "# try running before doing outliers and make assumption to why you would do this and maybe only for some columns \n",
    "# 3 standard deviation for normalization, IQR normalization not needed"
   ]
  },
  {
   "cell_type": "code",
   "execution_count": 57,
   "metadata": {},
   "outputs": [],
   "source": [
    "# exclude target variables\n",
    "data2 = data1[['S1prime_norm', 'S2prime_norm',\n",
    "       'S3prime_norm', 'C1_norm', 'C3_norm','C4', 'C5_norm', 'C6_norm', 'C7_norm',\n",
    "       'C5prime_norm', 'T1prime','T2prime_norm', 'T3prime_norm',\n",
    "       'T4prime_norm', 'T5prime_norm']]"
   ]
  },
  {
   "cell_type": "code",
   "execution_count": 58,
   "metadata": {},
   "outputs": [
    {
     "name": "stdout",
     "output_type": "stream",
     "text": [
      "Upper Bound:  -4.3163602943385\n",
      "S1prime_norm Series([], Name: S1prime_norm, dtype: float64) \n",
      "\n",
      "Upper Bound:  -3.8082170303642195\n",
      "S2prime_norm 275   -3.704811\n",
      "425   -3.789398\n",
      "Name: S2prime_norm, dtype: float64 \n",
      "\n",
      "Upper Bound:  -3.79103974525213\n",
      "S3prime_norm 50    -3.717956\n",
      "111   -3.790985\n",
      "188   -3.666246\n",
      "271   -3.784827\n",
      "382   -3.526857\n",
      "416   -3.704075\n",
      "Name: S3prime_norm, dtype: float64 \n",
      "\n",
      "Upper Bound:  6.768811483082619\n",
      "C1_norm 65     7.643483\n",
      "391    7.193686\n",
      "665    7.144407\n",
      "Name: C1_norm, dtype: float64 \n",
      "\n",
      "Upper Bound:  2.4677355191782175\n",
      "C3_norm Series([], Name: C3_norm, dtype: float64) \n",
      "\n",
      "Upper Bound:  0.10723513361722141\n",
      "C4 Series([], Name: C4, dtype: float64) \n",
      "\n",
      "Upper Bound:  0.06611599225840087\n",
      "C5_norm 313    0.066129\n",
      "Name: C5_norm, dtype: float64 \n",
      "\n",
      "Upper Bound:  0.07156774142647779\n",
      "C6_norm 58     0.073571\n",
      "78     0.071886\n",
      "204    0.073571\n",
      "Name: C6_norm, dtype: float64 \n",
      "\n",
      "Upper Bound:  10.247462888087924\n",
      "C7_norm 275    10.331497\n",
      "Name: C7_norm, dtype: float64 \n",
      "\n",
      "Upper Bound:  2.846098026634757\n",
      "C5prime_norm 58     4.603040\n",
      "161    4.234466\n",
      "204    3.690051\n",
      "265    2.902682\n",
      "Name: C5prime_norm, dtype: float64 \n",
      "\n",
      "Upper Bound:  0.8373061244016057\n",
      "T1prime Series([], Name: T1prime, dtype: float64) \n",
      "\n",
      "Upper Bound:  0.2742949583265896\n",
      "T2prime_norm 125    0.296751\n",
      "199    0.293200\n",
      "Name: T2prime_norm, dtype: float64 \n",
      "\n",
      "Upper Bound:  -2.53651061171068\n",
      "T3prime_norm 125    2.910519\n",
      "199    2.524591\n",
      "Name: T3prime_norm, dtype: float64 \n",
      "\n",
      "Upper Bound:  0.8093215985563893\n",
      "T4prime_norm 464    0.821176\n",
      "479    0.927654\n",
      "492    0.916291\n",
      "Name: T4prime_norm, dtype: float64 \n",
      "\n",
      "Upper Bound:  0.2742949583265896\n",
      "T5prime_norm 125    0.296751\n",
      "199    0.293200\n",
      "Name: T5prime_norm, dtype: float64 \n",
      "\n",
      "Upper Bound:  2.0011376565912995\n",
      "Y1 Series([], Name: Y1, dtype: int64) \n",
      "\n",
      "Upper Bound:  1.843034801554753\n",
      "Y2 Series([], Name: Y2, dtype: int64) \n",
      "\n",
      "Lower Bound:  -6.260522716062146\n",
      "S1prime_norm 635   -6.436265\n",
      "Name: S1prime_norm, dtype: float64 \n",
      "\n",
      "Lower Bound:  -5.701057376049884\n",
      "S2prime_norm 407   -6.141157\n",
      "Name: S2prime_norm, dtype: float64 \n",
      "\n",
      "Lower Bound:  -5.192730254387959\n",
      "S3prime_norm 454   -5.235159\n",
      "Name: S3prime_norm, dtype: float64 \n",
      "\n",
      "Lower Bound:  2.7466173986600495\n",
      "C1_norm 92     2.639057\n",
      "148    2.397895\n",
      "337    2.564949\n",
      "518    2.564949\n",
      "575    2.302585\n",
      "577    2.639057\n",
      "589    2.302585\n",
      "Name: C1_norm, dtype: float64 \n",
      "\n",
      "Lower Bound:  -1.628633316626575\n",
      "C3_norm Series([], Name: C3_norm, dtype: float64) \n",
      "\n",
      "Lower Bound:  -0.09267073079434433\n",
      "C4 107   -0.162352\n",
      "312   -0.092879\n",
      "Name: C4, dtype: float64 \n",
      "\n",
      "Lower Bound:  0.049969807841227405\n",
      "C5_norm 226    0.046548\n",
      "265    0.049325\n",
      "275    0.049850\n",
      "622    0.048361\n",
      "Name: C5_norm, dtype: float64 \n",
      "\n",
      "Lower Bound:  0.054139021377404783\n",
      "C6_norm 226    0.050356\n",
      "275    0.053610\n",
      "622    0.050449\n",
      "Name: C6_norm, dtype: float64 \n",
      "\n",
      "Lower Bound:  -0.6196563109982849\n",
      "C7_norm Series([], Name: C7_norm, dtype: float64) \n",
      "\n",
      "Lower Bound:  -0.20274677774616912\n",
      "C5prime_norm 169   -1.261521\n",
      "302   -0.828708\n",
      "536   -0.287682\n",
      "558   -0.804902\n",
      "Name: C5prime_norm, dtype: float64 \n",
      "\n",
      "Lower Bound:  0.4198986374546215\n",
      "T1prime 479    0.39548\n",
      "492    0.40000\n",
      "Name: T1prime, dtype: float64 \n",
      "\n",
      "Lower Bound:  0.18187931178526884\n",
      "T2prime_norm 106    0.177751\n",
      "298    0.178659\n",
      "454    0.180903\n",
      "Name: T2prime_norm, dtype: float64 \n",
      "\n",
      "Lower Bound:  -16.064850906415316\n",
      "T3prime_norm 63    -25.848291\n",
      "191   -16.189223\n",
      "397   -16.889482\n",
      "431   -19.137155\n",
      "575   -17.837720\n",
      "Name: T3prime_norm, dtype: float64 \n",
      "\n",
      "Lower Bound:  0.13172665389968524\n",
      "T4prime_norm Series([], Name: T4prime_norm, dtype: float64) \n",
      "\n",
      "Lower Bound:  0.18187931178526884\n",
      "T5prime_norm 106    0.177751\n",
      "298    0.178659\n",
      "454    0.180903\n",
      "Name: T5prime_norm, dtype: float64 \n",
      "\n",
      "Lower Bound:  -1.0011376565912997\n",
      "Y1 Series([], Name: Y1, dtype: int64) \n",
      "\n",
      "Lower Bound:  -1.0763681348880865\n",
      "Y2 Series([], Name: Y2, dtype: int64) \n",
      "\n"
     ]
    }
   ],
   "source": [
    "# investigating the nature of the outliers - upper bound\n",
    "for cols in data1.columns:\n",
    "    u_bound = data1[cols].mean() + 3* data1[cols].std()\n",
    "    print('Upper Bound: ', u_bound)\n",
    "    print(cols, data1[cols][data1[cols]>u_bound],'\\n')\n",
    "#my_col[my_col>u_bound]\n",
    "# investigating the nature of the outliers - lower bound\n",
    "for cols in data1.columns:\n",
    "    l_bound = data1[cols].mean() - 3* data1[cols].std()\n",
    "    print('Lower Bound: ', l_bound)\n",
    "    print(cols, data1[cols][data1[cols]<l_bound],'\\n')"
   ]
  },
  {
   "cell_type": "code",
   "execution_count": 59,
   "metadata": {},
   "outputs": [
    {
     "name": "stderr",
     "output_type": "stream",
     "text": [
      "/opt/tljh/user/lib/python3.6/site-packages/ipykernel_launcher.py:4: SettingWithCopyWarning: \n",
      "A value is trying to be set on a copy of a slice from a DataFrame\n",
      "\n",
      "See the caveats in the documentation: http://pandas.pydata.org/pandas-docs/stable/user_guide/indexing.html#returning-a-view-versus-a-copy\n",
      "  after removing the cwd from sys.path.\n"
     ]
    }
   ],
   "source": [
    "# going for all the columns - upper bound\n",
    "for col in data1.columns:\n",
    "    u_bound = data1[col].mean() + 3* data1[col].std()\n",
    "    data1[col][data1[col] > u_bound] = u_bound"
   ]
  },
  {
   "cell_type": "code",
   "execution_count": 60,
   "metadata": {},
   "outputs": [
    {
     "name": "stderr",
     "output_type": "stream",
     "text": [
      "/opt/tljh/user/lib/python3.6/site-packages/ipykernel_launcher.py:4: SettingWithCopyWarning: \n",
      "A value is trying to be set on a copy of a slice from a DataFrame\n",
      "\n",
      "See the caveats in the documentation: http://pandas.pydata.org/pandas-docs/stable/user_guide/indexing.html#returning-a-view-versus-a-copy\n",
      "  after removing the cwd from sys.path.\n"
     ]
    }
   ],
   "source": [
    "# going for all the columns - lower bound\n",
    "for col in data1.columns:\n",
    "    l_bound = data1[col].mean() - 3* data1[col].std()\n",
    "    data1[col][data1[col] < l_bound] = l_bound"
   ]
  },
  {
   "cell_type": "code",
   "execution_count": 61,
   "metadata": {},
   "outputs": [
    {
     "name": "stdout",
     "output_type": "stream",
     "text": [
      "S1prime_norm False    660\n",
      "Name: S1prime_norm, dtype: int64 \n",
      "\n",
      "S2prime_norm False    660\n",
      "Name: S2prime_norm, dtype: int64 \n",
      "\n",
      "S3prime_norm False    660\n",
      "Name: S3prime_norm, dtype: int64 \n",
      "\n",
      "C1_norm True    660\n",
      "Name: C1_norm, dtype: int64 \n",
      "\n",
      "C3_norm False    660\n",
      "Name: C3_norm, dtype: int64 \n",
      "\n",
      "C4 False    660\n",
      "Name: C4, dtype: int64 \n",
      "\n",
      "C5_norm False    660\n",
      "Name: C5_norm, dtype: int64 \n",
      "\n",
      "C6_norm False    660\n",
      "Name: C6_norm, dtype: int64 \n",
      "\n",
      "C7_norm True     608\n",
      "False     52\n",
      "Name: C7_norm, dtype: int64 \n",
      "\n",
      "C5prime_norm False    585\n",
      "True      75\n",
      "Name: C5prime_norm, dtype: int64 \n",
      "\n",
      "T1prime False    660\n",
      "Name: T1prime, dtype: int64 \n",
      "\n",
      "T2prime_norm False    660\n",
      "Name: T2prime_norm, dtype: int64 \n",
      "\n",
      "T3prime_norm False    660\n",
      "Name: T3prime_norm, dtype: int64 \n",
      "\n",
      "T4prime_norm False    660\n",
      "Name: T4prime_norm, dtype: int64 \n",
      "\n",
      "T5prime_norm False    660\n",
      "Name: T5prime_norm, dtype: int64 \n",
      "\n",
      "Y1 False    660\n",
      "Name: Y1, dtype: int64 \n",
      "\n",
      "Y2 False    660\n",
      "Name: Y2, dtype: int64 \n",
      "\n",
      "S1prime_norm True    660\n",
      "Name: S1prime_norm, dtype: int64 \n",
      "\n",
      "S2prime_norm True    660\n",
      "Name: S2prime_norm, dtype: int64 \n",
      "\n",
      "S3prime_norm True    660\n",
      "Name: S3prime_norm, dtype: int64 \n",
      "\n",
      "C1_norm False    660\n",
      "Name: C1_norm, dtype: int64 \n",
      "\n",
      "C3_norm False    660\n",
      "Name: C3_norm, dtype: int64 \n",
      "\n",
      "C4 False    660\n",
      "Name: C4, dtype: int64 \n",
      "\n",
      "C5_norm False    660\n",
      "Name: C5_norm, dtype: int64 \n",
      "\n",
      "C6_norm False    660\n",
      "Name: C6_norm, dtype: int64 \n",
      "\n",
      "C7_norm False    660\n",
      "Name: C7_norm, dtype: int64 \n",
      "\n",
      "C5prime_norm False    660\n",
      "Name: C5prime_norm, dtype: int64 \n",
      "\n",
      "T1prime False    660\n",
      "Name: T1prime, dtype: int64 \n",
      "\n",
      "T2prime_norm False    660\n",
      "Name: T2prime_norm, dtype: int64 \n",
      "\n",
      "T3prime_norm True    660\n",
      "Name: T3prime_norm, dtype: int64 \n",
      "\n",
      "T4prime_norm False    660\n",
      "Name: T4prime_norm, dtype: int64 \n",
      "\n",
      "T5prime_norm False    660\n",
      "Name: T5prime_norm, dtype: int64 \n",
      "\n",
      "Y1 False    660\n",
      "Name: Y1, dtype: int64 \n",
      "\n",
      "Y2 False    660\n",
      "Name: Y2, dtype: int64 \n",
      "\n"
     ]
    }
   ],
   "source": [
    "# verifying there is no value greater than the upper boundary--upper bound outliers removed\n",
    "for cols in data1.columns:\n",
    "    print(cols, (data1[cols]>u_bound).value_counts(),'\\n')\n",
    "    #print(cols,data1[cols]>u_bound.value_counts())\n",
    "#pd.Series(my_col>u_bound).value_counts()\n",
    "# checkin lower bound \n",
    "for cols in data1.columns:\n",
    "    print(cols, (data1[cols]<l_bound).value_counts(),'\\n')"
   ]
  },
  {
   "cell_type": "code",
   "execution_count": 62,
   "metadata": {},
   "outputs": [
    {
     "name": "stdout",
     "output_type": "stream",
     "text": [
      "<class 'pandas.core.frame.DataFrame'>\n",
      "Int64Index: 660 entries, 0 to 681\n",
      "Data columns (total 15 columns):\n",
      "S1prime_norm    660 non-null float64\n",
      "S2prime_norm    660 non-null float64\n",
      "S3prime_norm    660 non-null float64\n",
      "C1_norm         660 non-null float64\n",
      "C3_norm         660 non-null float64\n",
      "C4              660 non-null float64\n",
      "C5_norm         660 non-null float64\n",
      "C6_norm         660 non-null float64\n",
      "C7_norm         660 non-null float64\n",
      "C5prime_norm    660 non-null float64\n",
      "T1prime         660 non-null float64\n",
      "T2prime_norm    660 non-null float64\n",
      "T3prime_norm    660 non-null float64\n",
      "T4prime_norm    660 non-null float64\n",
      "T5prime_norm    660 non-null float64\n",
      "dtypes: float64(15)\n",
      "memory usage: 82.5 KB\n"
     ]
    }
   ],
   "source": [
    "data2.info()"
   ]
  },
  {
   "cell_type": "code",
   "execution_count": 65,
   "metadata": {},
   "outputs": [],
   "source": [
    "#continue to check for NaNs throughout "
   ]
  },
  {
   "cell_type": "code",
   "execution_count": 66,
   "metadata": {},
   "outputs": [
    {
     "data": {
      "text/plain": [
       "S1prime_norm    0\n",
       "S2prime_norm    0\n",
       "S3prime_norm    0\n",
       "C1_norm         0\n",
       "C3_norm         0\n",
       "C4              0\n",
       "C5_norm         0\n",
       "C6_norm         0\n",
       "C7_norm         0\n",
       "C5prime_norm    0\n",
       "T1prime         0\n",
       "T2prime_norm    0\n",
       "T3prime_norm    0\n",
       "T4prime_norm    0\n",
       "T5prime_norm    0\n",
       "dtype: int64"
      ]
     },
     "execution_count": 66,
     "metadata": {},
     "output_type": "execute_result"
    }
   ],
   "source": [
    "data2.isnull().sum()"
   ]
  },
  {
   "cell_type": "code",
   "execution_count": 67,
   "metadata": {},
   "outputs": [],
   "source": [
    "# add Y1 and Y2\n",
    "data3 = pd.concat([data2,data1[['Y1','Y2']]], axis = 1)"
   ]
  },
  {
   "cell_type": "code",
   "execution_count": 68,
   "metadata": {},
   "outputs": [
    {
     "data": {
      "text/html": [
       "<div>\n",
       "<style scoped>\n",
       "    .dataframe tbody tr th:only-of-type {\n",
       "        vertical-align: middle;\n",
       "    }\n",
       "\n",
       "    .dataframe tbody tr th {\n",
       "        vertical-align: top;\n",
       "    }\n",
       "\n",
       "    .dataframe thead th {\n",
       "        text-align: right;\n",
       "    }\n",
       "</style>\n",
       "<table border=\"1\" class=\"dataframe\">\n",
       "  <thead>\n",
       "    <tr style=\"text-align: right;\">\n",
       "      <th></th>\n",
       "      <th>S1prime_norm</th>\n",
       "      <th>S2prime_norm</th>\n",
       "      <th>S3prime_norm</th>\n",
       "      <th>C1_norm</th>\n",
       "      <th>C3_norm</th>\n",
       "      <th>C4</th>\n",
       "      <th>C5_norm</th>\n",
       "      <th>C6_norm</th>\n",
       "      <th>C7_norm</th>\n",
       "      <th>C5prime_norm</th>\n",
       "      <th>T1prime</th>\n",
       "      <th>T2prime_norm</th>\n",
       "      <th>T3prime_norm</th>\n",
       "      <th>T4prime_norm</th>\n",
       "      <th>T5prime_norm</th>\n",
       "      <th>Y1</th>\n",
       "      <th>Y2</th>\n",
       "    </tr>\n",
       "  </thead>\n",
       "  <tbody>\n",
       "    <tr>\n",
       "      <th>0</th>\n",
       "      <td>-5.323718</td>\n",
       "      <td>-4.688678</td>\n",
       "      <td>-4.516378</td>\n",
       "      <td>4.804021</td>\n",
       "      <td>0.999716</td>\n",
       "      <td>0.029074</td>\n",
       "      <td>0.057051</td>\n",
       "      <td>0.061819</td>\n",
       "      <td>3.957856</td>\n",
       "      <td>1.351792</td>\n",
       "      <td>0.640426</td>\n",
       "      <td>0.232915</td>\n",
       "      <td>-10.466155</td>\n",
       "      <td>0.445622</td>\n",
       "      <td>0.232915</td>\n",
       "      <td>0</td>\n",
       "      <td>1</td>\n",
       "    </tr>\n",
       "    <tr>\n",
       "      <th>1</th>\n",
       "      <td>-5.726618</td>\n",
       "      <td>-4.500360</td>\n",
       "      <td>-4.521238</td>\n",
       "      <td>5.556828</td>\n",
       "      <td>-0.551128</td>\n",
       "      <td>-0.013352</td>\n",
       "      <td>0.058213</td>\n",
       "      <td>0.068069</td>\n",
       "      <td>3.293464</td>\n",
       "      <td>2.487306</td>\n",
       "      <td>0.644753</td>\n",
       "      <td>0.226705</td>\n",
       "      <td>-9.365141</td>\n",
       "      <td>0.438887</td>\n",
       "      <td>0.226705</td>\n",
       "      <td>1</td>\n",
       "      <td>0</td>\n",
       "    </tr>\n",
       "    <tr>\n",
       "      <th>2</th>\n",
       "      <td>-4.457393</td>\n",
       "      <td>-5.071759</td>\n",
       "      <td>-4.473922</td>\n",
       "      <td>4.499810</td>\n",
       "      <td>-0.235496</td>\n",
       "      <td>0.020715</td>\n",
       "      <td>0.060098</td>\n",
       "      <td>0.064830</td>\n",
       "      <td>2.125609</td>\n",
       "      <td>1.214656</td>\n",
       "      <td>0.636816</td>\n",
       "      <td>0.248523</td>\n",
       "      <td>-10.523529</td>\n",
       "      <td>0.451275</td>\n",
       "      <td>0.248523</td>\n",
       "      <td>1</td>\n",
       "      <td>0</td>\n",
       "    </tr>\n",
       "    <tr>\n",
       "      <th>3</th>\n",
       "      <td>-4.637032</td>\n",
       "      <td>-4.941521</td>\n",
       "      <td>-4.318578</td>\n",
       "      <td>5.342334</td>\n",
       "      <td>0.089758</td>\n",
       "      <td>0.020023</td>\n",
       "      <td>0.060557</td>\n",
       "      <td>0.065276</td>\n",
       "      <td>2.254025</td>\n",
       "      <td>1.193831</td>\n",
       "      <td>0.539634</td>\n",
       "      <td>0.248253</td>\n",
       "      <td>-11.549720</td>\n",
       "      <td>0.616864</td>\n",
       "      <td>0.248253</td>\n",
       "      <td>1</td>\n",
       "      <td>0</td>\n",
       "    </tr>\n",
       "    <tr>\n",
       "      <th>4</th>\n",
       "      <td>-5.399715</td>\n",
       "      <td>-4.600461</td>\n",
       "      <td>-4.486414</td>\n",
       "      <td>4.382027</td>\n",
       "      <td>0.789461</td>\n",
       "      <td>-0.034895</td>\n",
       "      <td>0.058001</td>\n",
       "      <td>0.062791</td>\n",
       "      <td>6.450941</td>\n",
       "      <td>1.315407</td>\n",
       "      <td>0.587413</td>\n",
       "      <td>0.220341</td>\n",
       "      <td>-8.456290</td>\n",
       "      <td>0.532028</td>\n",
       "      <td>0.220341</td>\n",
       "      <td>0</td>\n",
       "      <td>1</td>\n",
       "    </tr>\n",
       "  </tbody>\n",
       "</table>\n",
       "</div>"
      ],
      "text/plain": [
       "   S1prime_norm  S2prime_norm  S3prime_norm   C1_norm   C3_norm        C4  \\\n",
       "0     -5.323718     -4.688678     -4.516378  4.804021  0.999716  0.029074   \n",
       "1     -5.726618     -4.500360     -4.521238  5.556828 -0.551128 -0.013352   \n",
       "2     -4.457393     -5.071759     -4.473922  4.499810 -0.235496  0.020715   \n",
       "3     -4.637032     -4.941521     -4.318578  5.342334  0.089758  0.020023   \n",
       "4     -5.399715     -4.600461     -4.486414  4.382027  0.789461 -0.034895   \n",
       "\n",
       "    C5_norm   C6_norm   C7_norm  C5prime_norm   T1prime  T2prime_norm  \\\n",
       "0  0.057051  0.061819  3.957856      1.351792  0.640426      0.232915   \n",
       "1  0.058213  0.068069  3.293464      2.487306  0.644753      0.226705   \n",
       "2  0.060098  0.064830  2.125609      1.214656  0.636816      0.248523   \n",
       "3  0.060557  0.065276  2.254025      1.193831  0.539634      0.248253   \n",
       "4  0.058001  0.062791  6.450941      1.315407  0.587413      0.220341   \n",
       "\n",
       "   T3prime_norm  T4prime_norm  T5prime_norm  Y1  Y2  \n",
       "0    -10.466155      0.445622      0.232915   0   1  \n",
       "1     -9.365141      0.438887      0.226705   1   0  \n",
       "2    -10.523529      0.451275      0.248523   1   0  \n",
       "3    -11.549720      0.616864      0.248253   1   0  \n",
       "4     -8.456290      0.532028      0.220341   0   1  "
      ]
     },
     "execution_count": 68,
     "metadata": {},
     "output_type": "execute_result"
    }
   ],
   "source": [
    "data3.head()"
   ]
  },
  {
   "cell_type": "code",
   "execution_count": 69,
   "metadata": {},
   "outputs": [
    {
     "name": "stdout",
     "output_type": "stream",
     "text": [
      "<class 'pandas.core.frame.DataFrame'>\n",
      "Int64Index: 660 entries, 0 to 681\n",
      "Data columns (total 17 columns):\n",
      "S1prime_norm    660 non-null float64\n",
      "S2prime_norm    660 non-null float64\n",
      "S3prime_norm    660 non-null float64\n",
      "C1_norm         660 non-null float64\n",
      "C3_norm         660 non-null float64\n",
      "C4              660 non-null float64\n",
      "C5_norm         660 non-null float64\n",
      "C6_norm         660 non-null float64\n",
      "C7_norm         660 non-null float64\n",
      "C5prime_norm    660 non-null float64\n",
      "T1prime         660 non-null float64\n",
      "T2prime_norm    660 non-null float64\n",
      "T3prime_norm    660 non-null float64\n",
      "T4prime_norm    660 non-null float64\n",
      "T5prime_norm    660 non-null float64\n",
      "Y1              660 non-null int64\n",
      "Y2              660 non-null int64\n",
      "dtypes: float64(15), int64(2)\n",
      "memory usage: 92.8 KB\n"
     ]
    }
   ],
   "source": [
    "data3.info()"
   ]
  },
  {
   "cell_type": "code",
   "execution_count": 70,
   "metadata": {},
   "outputs": [
    {
     "data": {
      "text/plain": [
       "S1prime_norm    0\n",
       "S2prime_norm    0\n",
       "S3prime_norm    0\n",
       "C1_norm         0\n",
       "C3_norm         0\n",
       "C4              0\n",
       "C5_norm         0\n",
       "C6_norm         0\n",
       "C7_norm         0\n",
       "C5prime_norm    0\n",
       "T1prime         0\n",
       "T2prime_norm    0\n",
       "T3prime_norm    0\n",
       "T4prime_norm    0\n",
       "T5prime_norm    0\n",
       "Y1              0\n",
       "Y2              0\n",
       "dtype: int64"
      ]
     },
     "execution_count": 70,
     "metadata": {},
     "output_type": "execute_result"
    }
   ],
   "source": [
    "data3.isnull().sum()"
   ]
  },
  {
   "cell_type": "code",
   "execution_count": 71,
   "metadata": {},
   "outputs": [],
   "source": [
    "data3.to_csv('Outlier_normalized.csv')"
   ]
  },
  {
   "cell_type": "code",
   "execution_count": 72,
   "metadata": {},
   "outputs": [
    {
     "data": {
      "text/plain": [
       "Index(['S1prime_norm', 'S2prime_norm', 'S3prime_norm', 'C1_norm', 'C3_norm',\n",
       "       'C4', 'C5_norm', 'C6_norm', 'C7_norm', 'C5prime_norm', 'T1prime',\n",
       "       'T2prime_norm', 'T3prime_norm', 'T4prime_norm', 'T5prime_norm', 'Y1',\n",
       "       'Y2'],\n",
       "      dtype='object')"
      ]
     },
     "execution_count": 72,
     "metadata": {},
     "output_type": "execute_result"
    }
   ],
   "source": [
    "data3.columns"
   ]
  },
  {
   "cell_type": "markdown",
   "metadata": {},
   "source": [
    "# Standardization - zscore"
   ]
  },
  {
   "cell_type": "code",
   "execution_count": 74,
   "metadata": {},
   "outputs": [],
   "source": [
    "# exclude the Y1, Y2"
   ]
  },
  {
   "cell_type": "code",
   "execution_count": 75,
   "metadata": {},
   "outputs": [
    {
     "data": {
      "text/html": [
       "<div>\n",
       "<style scoped>\n",
       "    .dataframe tbody tr th:only-of-type {\n",
       "        vertical-align: middle;\n",
       "    }\n",
       "\n",
       "    .dataframe tbody tr th {\n",
       "        vertical-align: top;\n",
       "    }\n",
       "\n",
       "    .dataframe thead th {\n",
       "        text-align: right;\n",
       "    }\n",
       "</style>\n",
       "<table border=\"1\" class=\"dataframe\">\n",
       "  <thead>\n",
       "    <tr style=\"text-align: right;\">\n",
       "      <th></th>\n",
       "      <th>S1prime_norm</th>\n",
       "      <th>S2prime_norm</th>\n",
       "      <th>S3prime_norm</th>\n",
       "      <th>C1_norm</th>\n",
       "      <th>C3_norm</th>\n",
       "      <th>C4</th>\n",
       "      <th>C5_norm</th>\n",
       "      <th>C6_norm</th>\n",
       "      <th>C7_norm</th>\n",
       "      <th>C5prime_norm</th>\n",
       "      <th>T1prime</th>\n",
       "      <th>T2prime_norm</th>\n",
       "      <th>T3prime_norm</th>\n",
       "      <th>T4prime_norm</th>\n",
       "      <th>T5prime_norm</th>\n",
       "    </tr>\n",
       "  </thead>\n",
       "  <tbody>\n",
       "    <tr>\n",
       "      <th>0</th>\n",
       "      <td>0.108951</td>\n",
       "      <td>0.209238</td>\n",
       "      <td>0.104924</td>\n",
       "      <td>0.069129</td>\n",
       "      <td>0.850419</td>\n",
       "      <td>0.654566</td>\n",
       "      <td>0.368850</td>\n",
       "      <td>0.356508</td>\n",
       "      <td>0.473003</td>\n",
       "      <td>0.059313</td>\n",
       "      <td>0.170080</td>\n",
       "      <td>0.313703</td>\n",
       "      <td>0.517295</td>\n",
       "      <td>0.220668</td>\n",
       "      <td>0.313703</td>\n",
       "    </tr>\n",
       "    <tr>\n",
       "      <th>1</th>\n",
       "      <td>1.353310</td>\n",
       "      <td>0.806628</td>\n",
       "      <td>0.125742</td>\n",
       "      <td>1.192960</td>\n",
       "      <td>1.422844</td>\n",
       "      <td>0.619777</td>\n",
       "      <td>0.063268</td>\n",
       "      <td>1.796881</td>\n",
       "      <td>0.840108</td>\n",
       "      <td>2.295653</td>\n",
       "      <td>0.232339</td>\n",
       "      <td>0.089823</td>\n",
       "      <td>0.028610</td>\n",
       "      <td>0.280352</td>\n",
       "      <td>0.089823</td>\n",
       "    </tr>\n",
       "    <tr>\n",
       "      <th>2</th>\n",
       "      <td>2.566697</td>\n",
       "      <td>1.005987</td>\n",
       "      <td>0.076950</td>\n",
       "      <td>0.385014</td>\n",
       "      <td>0.960183</td>\n",
       "      <td>0.403480</td>\n",
       "      <td>0.764109</td>\n",
       "      <td>0.680999</td>\n",
       "      <td>1.485398</td>\n",
       "      <td>0.210771</td>\n",
       "      <td>0.118155</td>\n",
       "      <td>1.327774</td>\n",
       "      <td>0.542761</td>\n",
       "      <td>0.170581</td>\n",
       "      <td>1.327774</td>\n",
       "    </tr>\n",
       "    <tr>\n",
       "      <th>3</th>\n",
       "      <td>2.011879</td>\n",
       "      <td>0.592842</td>\n",
       "      <td>0.742409</td>\n",
       "      <td>0.872752</td>\n",
       "      <td>0.483419</td>\n",
       "      <td>0.382698</td>\n",
       "      <td>0.934891</td>\n",
       "      <td>0.834610</td>\n",
       "      <td>1.414443</td>\n",
       "      <td>0.251784</td>\n",
       "      <td>1.279839</td>\n",
       "      <td>1.310267</td>\n",
       "      <td>0.998236</td>\n",
       "      <td>1.296799</td>\n",
       "      <td>1.310267</td>\n",
       "    </tr>\n",
       "    <tr>\n",
       "      <th>4</th>\n",
       "      <td>0.343668</td>\n",
       "      <td>0.489084</td>\n",
       "      <td>0.023438</td>\n",
       "      <td>0.560847</td>\n",
       "      <td>0.542223</td>\n",
       "      <td>1.266863</td>\n",
       "      <td>0.015643</td>\n",
       "      <td>0.021321</td>\n",
       "      <td>0.904534</td>\n",
       "      <td>0.012345</td>\n",
       "      <td>0.592529</td>\n",
       "      <td>0.503280</td>\n",
       "      <td>0.374782</td>\n",
       "      <td>0.545019</td>\n",
       "      <td>0.503280</td>\n",
       "    </tr>\n",
       "  </tbody>\n",
       "</table>\n",
       "</div>"
      ],
      "text/plain": [
       "   S1prime_norm  S2prime_norm  S3prime_norm   C1_norm   C3_norm        C4  \\\n",
       "0      0.108951      0.209238      0.104924  0.069129  0.850419  0.654566   \n",
       "1      1.353310      0.806628      0.125742  1.192960  1.422844  0.619777   \n",
       "2      2.566697      1.005987      0.076950  0.385014  0.960183  0.403480   \n",
       "3      2.011879      0.592842      0.742409  0.872752  0.483419  0.382698   \n",
       "4      0.343668      0.489084      0.023438  0.560847  0.542223  1.266863   \n",
       "\n",
       "    C5_norm   C6_norm   C7_norm  C5prime_norm   T1prime  T2prime_norm  \\\n",
       "0  0.368850  0.356508  0.473003      0.059313  0.170080      0.313703   \n",
       "1  0.063268  1.796881  0.840108      2.295653  0.232339      0.089823   \n",
       "2  0.764109  0.680999  1.485398      0.210771  0.118155      1.327774   \n",
       "3  0.934891  0.834610  1.414443      0.251784  1.279839      1.310267   \n",
       "4  0.015643  0.021321  0.904534      0.012345  0.592529      0.503280   \n",
       "\n",
       "   T3prime_norm  T4prime_norm  T5prime_norm  \n",
       "0      0.517295      0.220668      0.313703  \n",
       "1      0.028610      0.280352      0.089823  \n",
       "2      0.542761      0.170581      1.327774  \n",
       "3      0.998236      1.296799      1.310267  \n",
       "4      0.374782      0.545019      0.503280  "
      ]
     },
     "execution_count": 75,
     "metadata": {},
     "output_type": "execute_result"
    }
   ],
   "source": [
    "# import z score\n",
    "from scipy import stats\n",
    "\n",
    "data4 = data3[['S1prime_norm', 'S2prime_norm', 'S3prime_norm', 'C1_norm', 'C3_norm',\n",
    "       'C4', 'C5_norm', 'C6_norm', 'C7_norm', 'C5prime_norm',\n",
    "       'T1prime', 'T2prime_norm', 'T3prime_norm', 'T4prime_norm',\n",
    "       'T5prime_norm']]\n",
    "\n",
    "# make sure to exclude the Y1 and Y2\n",
    "data4 = np.abs(stats.zscore(data4))\n",
    "data4 = pd.DataFrame(data4)\n",
    "data4.columns = ['S1prime_norm', 'S2prime_norm', 'S3prime_norm', 'C1_norm', 'C3_norm',\n",
    "       'C4', 'C5_norm', 'C6_norm', 'C7_norm', 'C5prime_norm',\n",
    "       'T1prime', 'T2prime_norm', 'T3prime_norm', 'T4prime_norm',\n",
    "       'T5prime_norm']\n",
    "data4.head()"
   ]
  },
  {
   "cell_type": "code",
   "execution_count": 76,
   "metadata": {},
   "outputs": [
    {
     "name": "stdout",
     "output_type": "stream",
     "text": [
      "<class 'pandas.core.frame.DataFrame'>\n",
      "RangeIndex: 660 entries, 0 to 659\n",
      "Data columns (total 15 columns):\n",
      "S1prime_norm    660 non-null float64\n",
      "S2prime_norm    660 non-null float64\n",
      "S3prime_norm    660 non-null float64\n",
      "C1_norm         660 non-null float64\n",
      "C3_norm         660 non-null float64\n",
      "C4              660 non-null float64\n",
      "C5_norm         660 non-null float64\n",
      "C6_norm         660 non-null float64\n",
      "C7_norm         660 non-null float64\n",
      "C5prime_norm    660 non-null float64\n",
      "T1prime         660 non-null float64\n",
      "T2prime_norm    660 non-null float64\n",
      "T3prime_norm    660 non-null float64\n",
      "T4prime_norm    660 non-null float64\n",
      "T5prime_norm    660 non-null float64\n",
      "dtypes: float64(15)\n",
      "memory usage: 77.5 KB\n"
     ]
    }
   ],
   "source": [
    "data4.info()"
   ]
  },
  {
   "cell_type": "code",
   "execution_count": 77,
   "metadata": {},
   "outputs": [
    {
     "data": {
      "text/plain": [
       "S1prime_norm    0\n",
       "S2prime_norm    0\n",
       "S3prime_norm    0\n",
       "C1_norm         0\n",
       "C3_norm         0\n",
       "C4              0\n",
       "C5_norm         0\n",
       "C6_norm         0\n",
       "C7_norm         0\n",
       "C5prime_norm    0\n",
       "T1prime         0\n",
       "T2prime_norm    0\n",
       "T3prime_norm    0\n",
       "T4prime_norm    0\n",
       "T5prime_norm    0\n",
       "dtype: int64"
      ]
     },
     "execution_count": 77,
     "metadata": {},
     "output_type": "execute_result"
    }
   ],
   "source": [
    "data4.isnull().sum()"
   ]
  },
  {
   "cell_type": "code",
   "execution_count": 78,
   "metadata": {},
   "outputs": [],
   "source": [
    "data3 = data3.reset_index()\n",
    "data3 = data3.drop('index',axis=1)\n",
    "data4 = data4.reset_index()\n",
    "data4 = data4.drop('index',axis=1)"
   ]
  },
  {
   "cell_type": "code",
   "execution_count": 79,
   "metadata": {},
   "outputs": [
    {
     "data": {
      "text/html": [
       "<div>\n",
       "<style scoped>\n",
       "    .dataframe tbody tr th:only-of-type {\n",
       "        vertical-align: middle;\n",
       "    }\n",
       "\n",
       "    .dataframe tbody tr th {\n",
       "        vertical-align: top;\n",
       "    }\n",
       "\n",
       "    .dataframe thead th {\n",
       "        text-align: right;\n",
       "    }\n",
       "</style>\n",
       "<table border=\"1\" class=\"dataframe\">\n",
       "  <thead>\n",
       "    <tr style=\"text-align: right;\">\n",
       "      <th></th>\n",
       "      <th>S1prime_norm</th>\n",
       "      <th>S2prime_norm</th>\n",
       "      <th>S3prime_norm</th>\n",
       "      <th>C1_norm</th>\n",
       "      <th>C3_norm</th>\n",
       "      <th>C4</th>\n",
       "      <th>C5_norm</th>\n",
       "      <th>C6_norm</th>\n",
       "      <th>C7_norm</th>\n",
       "      <th>C5prime_norm</th>\n",
       "      <th>T1prime</th>\n",
       "      <th>T2prime_norm</th>\n",
       "      <th>T3prime_norm</th>\n",
       "      <th>T4prime_norm</th>\n",
       "      <th>T5prime_norm</th>\n",
       "      <th>Y1</th>\n",
       "      <th>Y2</th>\n",
       "    </tr>\n",
       "  </thead>\n",
       "  <tbody>\n",
       "    <tr>\n",
       "      <th>0</th>\n",
       "      <td>0.108951</td>\n",
       "      <td>0.209238</td>\n",
       "      <td>0.104924</td>\n",
       "      <td>0.069129</td>\n",
       "      <td>0.850419</td>\n",
       "      <td>0.654566</td>\n",
       "      <td>0.368850</td>\n",
       "      <td>0.356508</td>\n",
       "      <td>0.473003</td>\n",
       "      <td>0.059313</td>\n",
       "      <td>0.170080</td>\n",
       "      <td>0.313703</td>\n",
       "      <td>0.517295</td>\n",
       "      <td>0.220668</td>\n",
       "      <td>0.313703</td>\n",
       "      <td>0</td>\n",
       "      <td>1</td>\n",
       "    </tr>\n",
       "    <tr>\n",
       "      <th>1</th>\n",
       "      <td>1.353310</td>\n",
       "      <td>0.806628</td>\n",
       "      <td>0.125742</td>\n",
       "      <td>1.192960</td>\n",
       "      <td>1.422844</td>\n",
       "      <td>0.619777</td>\n",
       "      <td>0.063268</td>\n",
       "      <td>1.796881</td>\n",
       "      <td>0.840108</td>\n",
       "      <td>2.295653</td>\n",
       "      <td>0.232339</td>\n",
       "      <td>0.089823</td>\n",
       "      <td>0.028610</td>\n",
       "      <td>0.280352</td>\n",
       "      <td>0.089823</td>\n",
       "      <td>1</td>\n",
       "      <td>0</td>\n",
       "    </tr>\n",
       "    <tr>\n",
       "      <th>2</th>\n",
       "      <td>2.566697</td>\n",
       "      <td>1.005987</td>\n",
       "      <td>0.076950</td>\n",
       "      <td>0.385014</td>\n",
       "      <td>0.960183</td>\n",
       "      <td>0.403480</td>\n",
       "      <td>0.764109</td>\n",
       "      <td>0.680999</td>\n",
       "      <td>1.485398</td>\n",
       "      <td>0.210771</td>\n",
       "      <td>0.118155</td>\n",
       "      <td>1.327774</td>\n",
       "      <td>0.542761</td>\n",
       "      <td>0.170581</td>\n",
       "      <td>1.327774</td>\n",
       "      <td>1</td>\n",
       "      <td>0</td>\n",
       "    </tr>\n",
       "    <tr>\n",
       "      <th>3</th>\n",
       "      <td>2.011879</td>\n",
       "      <td>0.592842</td>\n",
       "      <td>0.742409</td>\n",
       "      <td>0.872752</td>\n",
       "      <td>0.483419</td>\n",
       "      <td>0.382698</td>\n",
       "      <td>0.934891</td>\n",
       "      <td>0.834610</td>\n",
       "      <td>1.414443</td>\n",
       "      <td>0.251784</td>\n",
       "      <td>1.279839</td>\n",
       "      <td>1.310267</td>\n",
       "      <td>0.998236</td>\n",
       "      <td>1.296799</td>\n",
       "      <td>1.310267</td>\n",
       "      <td>1</td>\n",
       "      <td>0</td>\n",
       "    </tr>\n",
       "    <tr>\n",
       "      <th>4</th>\n",
       "      <td>0.343668</td>\n",
       "      <td>0.489084</td>\n",
       "      <td>0.023438</td>\n",
       "      <td>0.560847</td>\n",
       "      <td>0.542223</td>\n",
       "      <td>1.266863</td>\n",
       "      <td>0.015643</td>\n",
       "      <td>0.021321</td>\n",
       "      <td>0.904534</td>\n",
       "      <td>0.012345</td>\n",
       "      <td>0.592529</td>\n",
       "      <td>0.503280</td>\n",
       "      <td>0.374782</td>\n",
       "      <td>0.545019</td>\n",
       "      <td>0.503280</td>\n",
       "      <td>0</td>\n",
       "      <td>1</td>\n",
       "    </tr>\n",
       "  </tbody>\n",
       "</table>\n",
       "</div>"
      ],
      "text/plain": [
       "   S1prime_norm  S2prime_norm  S3prime_norm   C1_norm   C3_norm        C4  \\\n",
       "0      0.108951      0.209238      0.104924  0.069129  0.850419  0.654566   \n",
       "1      1.353310      0.806628      0.125742  1.192960  1.422844  0.619777   \n",
       "2      2.566697      1.005987      0.076950  0.385014  0.960183  0.403480   \n",
       "3      2.011879      0.592842      0.742409  0.872752  0.483419  0.382698   \n",
       "4      0.343668      0.489084      0.023438  0.560847  0.542223  1.266863   \n",
       "\n",
       "    C5_norm   C6_norm   C7_norm  C5prime_norm   T1prime  T2prime_norm  \\\n",
       "0  0.368850  0.356508  0.473003      0.059313  0.170080      0.313703   \n",
       "1  0.063268  1.796881  0.840108      2.295653  0.232339      0.089823   \n",
       "2  0.764109  0.680999  1.485398      0.210771  0.118155      1.327774   \n",
       "3  0.934891  0.834610  1.414443      0.251784  1.279839      1.310267   \n",
       "4  0.015643  0.021321  0.904534      0.012345  0.592529      0.503280   \n",
       "\n",
       "   T3prime_norm  T4prime_norm  T5prime_norm  Y1  Y2  \n",
       "0      0.517295      0.220668      0.313703   0   1  \n",
       "1      0.028610      0.280352      0.089823   1   0  \n",
       "2      0.542761      0.170581      1.327774   1   0  \n",
       "3      0.998236      1.296799      1.310267   1   0  \n",
       "4      0.374782      0.545019      0.503280   0   1  "
      ]
     },
     "execution_count": 79,
     "metadata": {},
     "output_type": "execute_result"
    }
   ],
   "source": [
    "# add back the Y1 and Y2 (maybe also the categoricals)\n",
    "data4 = pd.concat([data4, data3[['Y1','Y2']]],axis = 1)\n",
    "data4.head()"
   ]
  },
  {
   "cell_type": "code",
   "execution_count": 80,
   "metadata": {},
   "outputs": [
    {
     "data": {
      "text/plain": [
       "1    330\n",
       "0    330\n",
       "Name: Y1, dtype: int64"
      ]
     },
     "execution_count": 80,
     "metadata": {},
     "output_type": "execute_result"
    }
   ],
   "source": [
    "data4.Y1.value_counts()"
   ]
  },
  {
   "cell_type": "code",
   "execution_count": 81,
   "metadata": {},
   "outputs": [
    {
     "name": "stdout",
     "output_type": "stream",
     "text": [
      "<class 'pandas.core.frame.DataFrame'>\n",
      "RangeIndex: 660 entries, 0 to 659\n",
      "Data columns (total 17 columns):\n",
      "S1prime_norm    660 non-null float64\n",
      "S2prime_norm    660 non-null float64\n",
      "S3prime_norm    660 non-null float64\n",
      "C1_norm         660 non-null float64\n",
      "C3_norm         660 non-null float64\n",
      "C4              660 non-null float64\n",
      "C5_norm         660 non-null float64\n",
      "C6_norm         660 non-null float64\n",
      "C7_norm         660 non-null float64\n",
      "C5prime_norm    660 non-null float64\n",
      "T1prime         660 non-null float64\n",
      "T2prime_norm    660 non-null float64\n",
      "T3prime_norm    660 non-null float64\n",
      "T4prime_norm    660 non-null float64\n",
      "T5prime_norm    660 non-null float64\n",
      "Y1              660 non-null int64\n",
      "Y2              660 non-null int64\n",
      "dtypes: float64(15), int64(2)\n",
      "memory usage: 87.8 KB\n"
     ]
    }
   ],
   "source": [
    "data4.info()"
   ]
  },
  {
   "cell_type": "code",
   "execution_count": 82,
   "metadata": {},
   "outputs": [
    {
     "data": {
      "text/plain": [
       "S1prime_norm    0\n",
       "S2prime_norm    0\n",
       "S3prime_norm    0\n",
       "C1_norm         0\n",
       "C3_norm         0\n",
       "C4              0\n",
       "C5_norm         0\n",
       "C6_norm         0\n",
       "C7_norm         0\n",
       "C5prime_norm    0\n",
       "T1prime         0\n",
       "T2prime_norm    0\n",
       "T3prime_norm    0\n",
       "T4prime_norm    0\n",
       "T5prime_norm    0\n",
       "Y1              0\n",
       "Y2              0\n",
       "dtype: int64"
      ]
     },
     "execution_count": 82,
     "metadata": {},
     "output_type": "execute_result"
    }
   ],
   "source": [
    "data4.isnull().sum()"
   ]
  },
  {
   "cell_type": "code",
   "execution_count": 83,
   "metadata": {},
   "outputs": [],
   "source": [
    "data4.to_csv('norm_outlier_zscore.csv')"
   ]
  },
  {
   "cell_type": "code",
   "execution_count": 84,
   "metadata": {},
   "outputs": [],
   "source": [
    "# add back categoricals: C3` and C2 \n",
    "# Bin I3 and add it back to the dataframe"
   ]
  },
  {
   "cell_type": "markdown",
   "metadata": {},
   "source": [
    "Binning and including categorical values in a dataframe"
   ]
  },
  {
   "cell_type": "code",
   "execution_count": 85,
   "metadata": {},
   "outputs": [
    {
     "data": {
      "text/plain": [
       "1    339\n",
       "0    321\n",
       "Name: C3`, dtype: int64"
      ]
     },
     "execution_count": 85,
     "metadata": {},
     "output_type": "execute_result"
    }
   ],
   "source": [
    "data['C3`'].value_counts()"
   ]
  },
  {
   "cell_type": "code",
   "execution_count": 86,
   "metadata": {},
   "outputs": [
    {
     "data": {
      "text/plain": [
       "660"
      ]
     },
     "execution_count": 86,
     "metadata": {},
     "output_type": "execute_result"
    }
   ],
   "source": [
    "data['C3`'].count()"
   ]
  },
  {
   "cell_type": "markdown",
   "metadata": {},
   "source": [
    "# Here"
   ]
  },
  {
   "cell_type": "markdown",
   "metadata": {},
   "source": [
    "## ADD C3` later"
   ]
  },
  {
   "cell_type": "code",
   "execution_count": 87,
   "metadata": {},
   "outputs": [],
   "source": [
    "data = data.reset_index()\n",
    "data = data.drop('index',axis=1)"
   ]
  },
  {
   "cell_type": "code",
   "execution_count": 88,
   "metadata": {},
   "outputs": [
    {
     "data": {
      "text/html": [
       "<div>\n",
       "<style scoped>\n",
       "    .dataframe tbody tr th:only-of-type {\n",
       "        vertical-align: middle;\n",
       "    }\n",
       "\n",
       "    .dataframe tbody tr th {\n",
       "        vertical-align: top;\n",
       "    }\n",
       "\n",
       "    .dataframe thead th {\n",
       "        text-align: right;\n",
       "    }\n",
       "</style>\n",
       "<table border=\"1\" class=\"dataframe\">\n",
       "  <thead>\n",
       "    <tr style=\"text-align: right;\">\n",
       "      <th></th>\n",
       "      <th>S1prime_norm</th>\n",
       "      <th>S2prime_norm</th>\n",
       "      <th>S3prime_norm</th>\n",
       "      <th>C1_norm</th>\n",
       "      <th>C3_norm</th>\n",
       "      <th>C4</th>\n",
       "      <th>C5_norm</th>\n",
       "      <th>C6_norm</th>\n",
       "      <th>C7_norm</th>\n",
       "      <th>C5prime_norm</th>\n",
       "      <th>T1prime</th>\n",
       "      <th>T2prime_norm</th>\n",
       "      <th>T3prime_norm</th>\n",
       "      <th>T4prime_norm</th>\n",
       "      <th>T5prime_norm</th>\n",
       "      <th>Y1</th>\n",
       "      <th>Y2</th>\n",
       "      <th>C2</th>\n",
       "      <th>I3</th>\n",
       "      <th>C3`</th>\n",
       "    </tr>\n",
       "  </thead>\n",
       "  <tbody>\n",
       "    <tr>\n",
       "      <th>0</th>\n",
       "      <td>0.108951</td>\n",
       "      <td>0.209238</td>\n",
       "      <td>0.104924</td>\n",
       "      <td>0.069129</td>\n",
       "      <td>0.850419</td>\n",
       "      <td>0.654566</td>\n",
       "      <td>0.368850</td>\n",
       "      <td>0.356508</td>\n",
       "      <td>0.473003</td>\n",
       "      <td>0.059313</td>\n",
       "      <td>0.170080</td>\n",
       "      <td>0.313703</td>\n",
       "      <td>0.517295</td>\n",
       "      <td>0.220668</td>\n",
       "      <td>0.313703</td>\n",
       "      <td>0</td>\n",
       "      <td>1</td>\n",
       "      <td>1</td>\n",
       "      <td>3674</td>\n",
       "      <td>1</td>\n",
       "    </tr>\n",
       "    <tr>\n",
       "      <th>1</th>\n",
       "      <td>1.353310</td>\n",
       "      <td>0.806628</td>\n",
       "      <td>0.125742</td>\n",
       "      <td>1.192960</td>\n",
       "      <td>1.422844</td>\n",
       "      <td>0.619777</td>\n",
       "      <td>0.063268</td>\n",
       "      <td>1.796881</td>\n",
       "      <td>0.840108</td>\n",
       "      <td>2.295653</td>\n",
       "      <td>0.232339</td>\n",
       "      <td>0.089823</td>\n",
       "      <td>0.028610</td>\n",
       "      <td>0.280352</td>\n",
       "      <td>0.089823</td>\n",
       "      <td>1</td>\n",
       "      <td>0</td>\n",
       "      <td>0</td>\n",
       "      <td>2834</td>\n",
       "      <td>0</td>\n",
       "    </tr>\n",
       "    <tr>\n",
       "      <th>2</th>\n",
       "      <td>2.566697</td>\n",
       "      <td>1.005987</td>\n",
       "      <td>0.076950</td>\n",
       "      <td>0.385014</td>\n",
       "      <td>0.960183</td>\n",
       "      <td>0.403480</td>\n",
       "      <td>0.764109</td>\n",
       "      <td>0.680999</td>\n",
       "      <td>1.485398</td>\n",
       "      <td>0.210771</td>\n",
       "      <td>0.118155</td>\n",
       "      <td>1.327774</td>\n",
       "      <td>0.542761</td>\n",
       "      <td>0.170581</td>\n",
       "      <td>1.327774</td>\n",
       "      <td>1</td>\n",
       "      <td>0</td>\n",
       "      <td>1</td>\n",
       "      <td>2834</td>\n",
       "      <td>0</td>\n",
       "    </tr>\n",
       "    <tr>\n",
       "      <th>3</th>\n",
       "      <td>2.011879</td>\n",
       "      <td>0.592842</td>\n",
       "      <td>0.742409</td>\n",
       "      <td>0.872752</td>\n",
       "      <td>0.483419</td>\n",
       "      <td>0.382698</td>\n",
       "      <td>0.934891</td>\n",
       "      <td>0.834610</td>\n",
       "      <td>1.414443</td>\n",
       "      <td>0.251784</td>\n",
       "      <td>1.279839</td>\n",
       "      <td>1.310267</td>\n",
       "      <td>0.998236</td>\n",
       "      <td>1.296799</td>\n",
       "      <td>1.310267</td>\n",
       "      <td>1</td>\n",
       "      <td>0</td>\n",
       "      <td>1</td>\n",
       "      <td>2834</td>\n",
       "      <td>0</td>\n",
       "    </tr>\n",
       "    <tr>\n",
       "      <th>4</th>\n",
       "      <td>0.343668</td>\n",
       "      <td>0.489084</td>\n",
       "      <td>0.023438</td>\n",
       "      <td>0.560847</td>\n",
       "      <td>0.542223</td>\n",
       "      <td>1.266863</td>\n",
       "      <td>0.015643</td>\n",
       "      <td>0.021321</td>\n",
       "      <td>0.904534</td>\n",
       "      <td>0.012345</td>\n",
       "      <td>0.592529</td>\n",
       "      <td>0.503280</td>\n",
       "      <td>0.374782</td>\n",
       "      <td>0.545019</td>\n",
       "      <td>0.503280</td>\n",
       "      <td>0</td>\n",
       "      <td>1</td>\n",
       "      <td>1</td>\n",
       "      <td>4492</td>\n",
       "      <td>1</td>\n",
       "    </tr>\n",
       "  </tbody>\n",
       "</table>\n",
       "</div>"
      ],
      "text/plain": [
       "   S1prime_norm  S2prime_norm  S3prime_norm   C1_norm   C3_norm        C4  \\\n",
       "0      0.108951      0.209238      0.104924  0.069129  0.850419  0.654566   \n",
       "1      1.353310      0.806628      0.125742  1.192960  1.422844  0.619777   \n",
       "2      2.566697      1.005987      0.076950  0.385014  0.960183  0.403480   \n",
       "3      2.011879      0.592842      0.742409  0.872752  0.483419  0.382698   \n",
       "4      0.343668      0.489084      0.023438  0.560847  0.542223  1.266863   \n",
       "\n",
       "    C5_norm   C6_norm   C7_norm  C5prime_norm   T1prime  T2prime_norm  \\\n",
       "0  0.368850  0.356508  0.473003      0.059313  0.170080      0.313703   \n",
       "1  0.063268  1.796881  0.840108      2.295653  0.232339      0.089823   \n",
       "2  0.764109  0.680999  1.485398      0.210771  0.118155      1.327774   \n",
       "3  0.934891  0.834610  1.414443      0.251784  1.279839      1.310267   \n",
       "4  0.015643  0.021321  0.904534      0.012345  0.592529      0.503280   \n",
       "\n",
       "   T3prime_norm  T4prime_norm  T5prime_norm  Y1  Y2  C2    I3  C3`  \n",
       "0      0.517295      0.220668      0.313703   0   1   1  3674    1  \n",
       "1      0.028610      0.280352      0.089823   1   0   0  2834    0  \n",
       "2      0.542761      0.170581      1.327774   1   0   1  2834    0  \n",
       "3      0.998236      1.296799      1.310267   1   0   1  2834    0  \n",
       "4      0.374782      0.545019      0.503280   0   1   1  4492    1  "
      ]
     },
     "execution_count": 88,
     "metadata": {},
     "output_type": "execute_result"
    }
   ],
   "source": [
    "data4 = pd.concat([data4, data[['C2','I3','C3`']]], axis=1)\n",
    "data4.head()"
   ]
  },
  {
   "cell_type": "code",
   "execution_count": 89,
   "metadata": {},
   "outputs": [
    {
     "name": "stdout",
     "output_type": "stream",
     "text": [
      "<class 'pandas.core.frame.DataFrame'>\n",
      "RangeIndex: 660 entries, 0 to 659\n",
      "Data columns (total 20 columns):\n",
      "S1prime_norm    660 non-null float64\n",
      "S2prime_norm    660 non-null float64\n",
      "S3prime_norm    660 non-null float64\n",
      "C1_norm         660 non-null float64\n",
      "C3_norm         660 non-null float64\n",
      "C4              660 non-null float64\n",
      "C5_norm         660 non-null float64\n",
      "C6_norm         660 non-null float64\n",
      "C7_norm         660 non-null float64\n",
      "C5prime_norm    660 non-null float64\n",
      "T1prime         660 non-null float64\n",
      "T2prime_norm    660 non-null float64\n",
      "T3prime_norm    660 non-null float64\n",
      "T4prime_norm    660 non-null float64\n",
      "T5prime_norm    660 non-null float64\n",
      "Y1              660 non-null int64\n",
      "Y2              660 non-null int64\n",
      "C2              660 non-null int64\n",
      "I3              660 non-null object\n",
      "C3`             660 non-null int64\n",
      "dtypes: float64(15), int64(4), object(1)\n",
      "memory usage: 103.2+ KB\n"
     ]
    }
   ],
   "source": [
    "data4.info()"
   ]
  },
  {
   "cell_type": "code",
   "execution_count": 90,
   "metadata": {},
   "outputs": [
    {
     "data": {
      "text/plain": [
       "S1prime_norm    0\n",
       "S2prime_norm    0\n",
       "S3prime_norm    0\n",
       "C1_norm         0\n",
       "C3_norm         0\n",
       "C4              0\n",
       "C5_norm         0\n",
       "C6_norm         0\n",
       "C7_norm         0\n",
       "C5prime_norm    0\n",
       "T1prime         0\n",
       "T2prime_norm    0\n",
       "T3prime_norm    0\n",
       "T4prime_norm    0\n",
       "T5prime_norm    0\n",
       "Y1              0\n",
       "Y2              0\n",
       "C2              0\n",
       "I3              0\n",
       "C3`             0\n",
       "dtype: int64"
      ]
     },
     "execution_count": 90,
     "metadata": {},
     "output_type": "execute_result"
    }
   ],
   "source": [
    "data4.isnull().sum()"
   ]
  },
  {
   "cell_type": "markdown",
   "metadata": {},
   "source": [
    "1\n",
    "0100-0999\tAgriculture, Forestry and Fishing\n",
    "1000-1499\tMining\n",
    "4000-4999\tTransportation, Communications, Electric, Gas and Sanitary service\n",
    "1500-1799\tConstruction\n",
    "2000-3999\tManufacturing\n",
    "2\n",
    "5000-5199\tWholesale Trade\n",
    "5200-5999\tRetail Trade\n",
    "6000-6799\tFinance, Insurance and Real Estate\n",
    "7000-8999\tServices\n",
    "9100-9729\tPublic Administration\n",
    "3\n",
    "9900-9999\tNonclassifiable"
   ]
  },
  {
   "cell_type": "markdown",
   "metadata": {},
   "source": [
    "We notice an error in I3 for Dolby Laboratories. It seems they are participating in many industries. However, when searching online we found out that the its a company specializing in audio noise reduction and audio encoding/compression. Dolby licenses its technologies to consumer electronics manufacturers. Therefore we will change its I3 to 4000. "
   ]
  },
  {
   "cell_type": "markdown",
   "metadata": {},
   "source": [
    "DTS, Inc. is an American company that makes multichannel audio technologies for film and video. Based in Calabasas, California, the company introduced its DTS technology in 1993 as a higher-quality competitor to Dolby Laboratories. So we will change it to 4000. "
   ]
  },
  {
   "cell_type": "markdown",
   "metadata": {},
   "source": [
    "RealD Inc. is a private company known for its RealD 3D system, which is used for projecting films in stereoscopic 3D using circularly polarized light."
   ]
  },
  {
   "cell_type": "markdown",
   "metadata": {},
   "source": [
    "UPG's energy storage solutions"
   ]
  },
  {
   "cell_type": "code",
   "execution_count": null,
   "metadata": {},
   "outputs": [],
   "source": [
    "data4[data4['I3']=='6794, 3861, 3663, 7819']"
   ]
  },
  {
   "cell_type": "code",
   "execution_count": 92,
   "metadata": {},
   "outputs": [
    {
     "data": {
      "text/plain": [
       "174    D. MEDICAL INDUSTRIES LTD. \n",
       "175              Diamond Foods Inc\n",
       "176    DUNKIN' BRANDS GROUP, INC. \n",
       "177               DOLE FOOD CO INC\n",
       "178             DOMINOS PIZZA INC \n",
       "                  ...             \n",
       "655                     ZIPCAR INC\n",
       "656         Zeltiq Aesthetics Inc \n",
       "657     ZST Digital Networks, Inc.\n",
       "658                    Zumiez Inc \n",
       "659                     SEALY CORP\n",
       "Name: I2, Length: 486, dtype: object"
      ]
     },
     "execution_count": 92,
     "metadata": {},
     "output_type": "execute_result"
    }
   ],
   "source": [
    "data['I2'].loc[174:,]"
   ]
  },
  {
   "cell_type": "code",
   "execution_count": 93,
   "metadata": {},
   "outputs": [
    {
     "data": {
      "text/html": [
       "<div>\n",
       "<style scoped>\n",
       "    .dataframe tbody tr th:only-of-type {\n",
       "        vertical-align: middle;\n",
       "    }\n",
       "\n",
       "    .dataframe tbody tr th {\n",
       "        vertical-align: top;\n",
       "    }\n",
       "\n",
       "    .dataframe thead th {\n",
       "        text-align: right;\n",
       "    }\n",
       "</style>\n",
       "<table border=\"1\" class=\"dataframe\">\n",
       "  <thead>\n",
       "    <tr style=\"text-align: right;\">\n",
       "      <th></th>\n",
       "      <th>S1prime_norm</th>\n",
       "      <th>S2prime_norm</th>\n",
       "      <th>S3prime_norm</th>\n",
       "      <th>C1_norm</th>\n",
       "      <th>C3_norm</th>\n",
       "      <th>C4</th>\n",
       "      <th>C5_norm</th>\n",
       "      <th>C6_norm</th>\n",
       "      <th>C7_norm</th>\n",
       "      <th>C5prime_norm</th>\n",
       "      <th>T1prime</th>\n",
       "      <th>T2prime_norm</th>\n",
       "      <th>T3prime_norm</th>\n",
       "      <th>T4prime_norm</th>\n",
       "      <th>T5prime_norm</th>\n",
       "      <th>Y1</th>\n",
       "      <th>Y2</th>\n",
       "      <th>C2</th>\n",
       "      <th>I3</th>\n",
       "      <th>C3`</th>\n",
       "    </tr>\n",
       "  </thead>\n",
       "  <tbody>\n",
       "    <tr>\n",
       "      <th>183</th>\n",
       "      <td>0.492272</td>\n",
       "      <td>0.912467</td>\n",
       "      <td>1.201574</td>\n",
       "      <td>0.637421</td>\n",
       "      <td>0.79706</td>\n",
       "      <td>1.103217</td>\n",
       "      <td>1.107354</td>\n",
       "      <td>1.069875</td>\n",
       "      <td>0.593929</td>\n",
       "      <td>0.186588</td>\n",
       "      <td>0.385994</td>\n",
       "      <td>0.163481</td>\n",
       "      <td>0.312618</td>\n",
       "      <td>0.331032</td>\n",
       "      <td>0.163481</td>\n",
       "      <td>0</td>\n",
       "      <td>1</td>\n",
       "      <td>0</td>\n",
       "      <td>3651, 6794, 7819</td>\n",
       "      <td>1</td>\n",
       "    </tr>\n",
       "  </tbody>\n",
       "</table>\n",
       "</div>"
      ],
      "text/plain": [
       "     S1prime_norm  S2prime_norm  S3prime_norm   C1_norm  C3_norm        C4  \\\n",
       "183      0.492272      0.912467      1.201574  0.637421  0.79706  1.103217   \n",
       "\n",
       "      C5_norm   C6_norm   C7_norm  C5prime_norm   T1prime  T2prime_norm  \\\n",
       "183  1.107354  1.069875  0.593929      0.186588  0.385994      0.163481   \n",
       "\n",
       "     T3prime_norm  T4prime_norm  T5prime_norm  Y1  Y2  C2                I3  \\\n",
       "183      0.312618      0.331032      0.163481   0   1   0  3651, 6794, 7819   \n",
       "\n",
       "     C3`  \n",
       "183    1  "
      ]
     },
     "execution_count": 93,
     "metadata": {},
     "output_type": "execute_result"
    }
   ],
   "source": [
    "data4[data4['I3']=='3651, 6794, 7819']"
   ]
  },
  {
   "cell_type": "code",
   "execution_count": 94,
   "metadata": {},
   "outputs": [
    {
     "data": {
      "text/plain": [
       "187     DreamWorks Animation, LLC\n",
       "188                Demandware Inc\n",
       "189       DESIGN WITHIN REACH INC\n",
       "190                    DEXCOM INC\n",
       "191        DUOYUAN PRINTING, INC.\n",
       "                  ...            \n",
       "655                    ZIPCAR INC\n",
       "656        Zeltiq Aesthetics Inc \n",
       "657    ZST Digital Networks, Inc.\n",
       "658                   Zumiez Inc \n",
       "659                    SEALY CORP\n",
       "Name: I2, Length: 473, dtype: object"
      ]
     },
     "execution_count": 94,
     "metadata": {},
     "output_type": "execute_result"
    }
   ],
   "source": [
    "data['I2'].loc[187:,]"
   ]
  },
  {
   "cell_type": "code",
   "execution_count": 95,
   "metadata": {},
   "outputs": [
    {
     "data": {
      "text/html": [
       "<div>\n",
       "<style scoped>\n",
       "    .dataframe tbody tr th:only-of-type {\n",
       "        vertical-align: middle;\n",
       "    }\n",
       "\n",
       "    .dataframe tbody tr th {\n",
       "        vertical-align: top;\n",
       "    }\n",
       "\n",
       "    .dataframe thead th {\n",
       "        text-align: right;\n",
       "    }\n",
       "</style>\n",
       "<table border=\"1\" class=\"dataframe\">\n",
       "  <thead>\n",
       "    <tr style=\"text-align: right;\">\n",
       "      <th></th>\n",
       "      <th>S1prime_norm</th>\n",
       "      <th>S2prime_norm</th>\n",
       "      <th>S3prime_norm</th>\n",
       "      <th>C1_norm</th>\n",
       "      <th>C3_norm</th>\n",
       "      <th>C4</th>\n",
       "      <th>C5_norm</th>\n",
       "      <th>C6_norm</th>\n",
       "      <th>C7_norm</th>\n",
       "      <th>C5prime_norm</th>\n",
       "      <th>T1prime</th>\n",
       "      <th>T2prime_norm</th>\n",
       "      <th>T3prime_norm</th>\n",
       "      <th>T4prime_norm</th>\n",
       "      <th>T5prime_norm</th>\n",
       "      <th>Y1</th>\n",
       "      <th>Y2</th>\n",
       "      <th>C2</th>\n",
       "      <th>I3</th>\n",
       "      <th>C3`</th>\n",
       "    </tr>\n",
       "  </thead>\n",
       "  <tbody>\n",
       "    <tr>\n",
       "      <th>483</th>\n",
       "      <td>0.798398</td>\n",
       "      <td>0.046902</td>\n",
       "      <td>1.038858</td>\n",
       "      <td>0.257886</td>\n",
       "      <td>0.242489</td>\n",
       "      <td>0.14346</td>\n",
       "      <td>0.550055</td>\n",
       "      <td>0.571391</td>\n",
       "      <td>0.612378</td>\n",
       "      <td>0.031973</td>\n",
       "      <td>0.717916</td>\n",
       "      <td>0.628047</td>\n",
       "      <td>1.716798</td>\n",
       "      <td>0.677495</td>\n",
       "      <td>0.628047</td>\n",
       "      <td>0</td>\n",
       "      <td>1</td>\n",
       "      <td>1</td>\n",
       "      <td>3663, 3861, 6794</td>\n",
       "      <td>0</td>\n",
       "    </tr>\n",
       "  </tbody>\n",
       "</table>\n",
       "</div>"
      ],
      "text/plain": [
       "     S1prime_norm  S2prime_norm  S3prime_norm   C1_norm   C3_norm       C4  \\\n",
       "483      0.798398      0.046902      1.038858  0.257886  0.242489  0.14346   \n",
       "\n",
       "      C5_norm   C6_norm   C7_norm  C5prime_norm   T1prime  T2prime_norm  \\\n",
       "483  0.550055  0.571391  0.612378      0.031973  0.717916      0.628047   \n",
       "\n",
       "     T3prime_norm  T4prime_norm  T5prime_norm  Y1  Y2  C2                I3  \\\n",
       "483      1.716798      0.677495      0.628047   0   1   1  3663, 3861, 6794   \n",
       "\n",
       "     C3`  \n",
       "483    0  "
      ]
     },
     "execution_count": 95,
     "metadata": {},
     "output_type": "execute_result"
    }
   ],
   "source": [
    "data4[data4['I3']=='3663, 3861, 6794']"
   ]
  },
  {
   "cell_type": "code",
   "execution_count": 96,
   "metadata": {},
   "outputs": [
    {
     "data": {
      "text/plain": [
       "499            Leidos Holdings, Inc. \n",
       "500              Spirit Airlines, Inc\n",
       "501               SAFE BULKERS, INC. \n",
       "502    Sucampo Pharmaceuticals, Inc. \n",
       "503       Scopus Video Networks Ltd. \n",
       "                    ...              \n",
       "655                        ZIPCAR INC\n",
       "656            Zeltiq Aesthetics Inc \n",
       "657        ZST Digital Networks, Inc.\n",
       "658                       Zumiez Inc \n",
       "659                        SEALY CORP\n",
       "Name: I2, Length: 161, dtype: object"
      ]
     },
     "execution_count": 96,
     "metadata": {},
     "output_type": "execute_result"
    }
   ],
   "source": [
    "data['I2'].loc[499:,]"
   ]
  },
  {
   "cell_type": "code",
   "execution_count": 97,
   "metadata": {},
   "outputs": [
    {
     "data": {
      "text/html": [
       "<div>\n",
       "<style scoped>\n",
       "    .dataframe tbody tr th:only-of-type {\n",
       "        vertical-align: middle;\n",
       "    }\n",
       "\n",
       "    .dataframe tbody tr th {\n",
       "        vertical-align: top;\n",
       "    }\n",
       "\n",
       "    .dataframe thead th {\n",
       "        text-align: right;\n",
       "    }\n",
       "</style>\n",
       "<table border=\"1\" class=\"dataframe\">\n",
       "  <thead>\n",
       "    <tr style=\"text-align: right;\">\n",
       "      <th></th>\n",
       "      <th>S1prime_norm</th>\n",
       "      <th>S2prime_norm</th>\n",
       "      <th>S3prime_norm</th>\n",
       "      <th>C1_norm</th>\n",
       "      <th>C3_norm</th>\n",
       "      <th>C4</th>\n",
       "      <th>C5_norm</th>\n",
       "      <th>C6_norm</th>\n",
       "      <th>C7_norm</th>\n",
       "      <th>C5prime_norm</th>\n",
       "      <th>T1prime</th>\n",
       "      <th>T2prime_norm</th>\n",
       "      <th>T3prime_norm</th>\n",
       "      <th>T4prime_norm</th>\n",
       "      <th>T5prime_norm</th>\n",
       "      <th>Y1</th>\n",
       "      <th>Y2</th>\n",
       "      <th>C2</th>\n",
       "      <th>I3</th>\n",
       "      <th>C3`</th>\n",
       "    </tr>\n",
       "  </thead>\n",
       "  <tbody>\n",
       "    <tr>\n",
       "      <th>599</th>\n",
       "      <td>0.568652</td>\n",
       "      <td>0.081383</td>\n",
       "      <td>0.678195</td>\n",
       "      <td>0.212872</td>\n",
       "      <td>0.676331</td>\n",
       "      <td>0.223859</td>\n",
       "      <td>2.524046</td>\n",
       "      <td>1.446007</td>\n",
       "      <td>0.223137</td>\n",
       "      <td>1.596929</td>\n",
       "      <td>2.086591</td>\n",
       "      <td>1.572332</td>\n",
       "      <td>0.219835</td>\n",
       "      <td>2.269189</td>\n",
       "      <td>1.572332</td>\n",
       "      <td>1</td>\n",
       "      <td>0</td>\n",
       "      <td>0</td>\n",
       "      <td>7389, 5063</td>\n",
       "      <td>1</td>\n",
       "    </tr>\n",
       "  </tbody>\n",
       "</table>\n",
       "</div>"
      ],
      "text/plain": [
       "     S1prime_norm  S2prime_norm  S3prime_norm   C1_norm   C3_norm        C4  \\\n",
       "599      0.568652      0.081383      0.678195  0.212872  0.676331  0.223859   \n",
       "\n",
       "      C5_norm   C6_norm   C7_norm  C5prime_norm   T1prime  T2prime_norm  \\\n",
       "599  2.524046  1.446007  0.223137      1.596929  2.086591      1.572332   \n",
       "\n",
       "     T3prime_norm  T4prime_norm  T5prime_norm  Y1  Y2  C2          I3  C3`  \n",
       "599      0.219835      2.269189      1.572332   1   0   0  7389, 5063    1  "
      ]
     },
     "execution_count": 97,
     "metadata": {},
     "output_type": "execute_result"
    }
   ],
   "source": [
    "data4[data4['I3']=='7389, 5063']"
   ]
  },
  {
   "cell_type": "code",
   "execution_count": 98,
   "metadata": {},
   "outputs": [
    {
     "data": {
      "text/plain": [
       "620                         Dialogic Inc. \n",
       "621                           Verigy Ltd. \n",
       "622                Verisk Analytics, Inc. \n",
       "623                          VIRTUSA CORP \n",
       "624                    VERASUN ENERGY CORP\n",
       "625                  Vitamin Shoppe, Inc. \n",
       "626                         Verastem, Inc.\n",
       "627            ASSEMBLY BIOSCIENCES, INC. \n",
       "628                       WAGEWORKS, INC. \n",
       "629           Wesco Aircraft Holdings, Inc\n",
       "630                     WebMD Health Corp.\n",
       "631                         WCA WASTE CORP\n",
       "632           WELLCARE HEALTH PLANS, INC. \n",
       "633                   Warner Chilcott plc \n",
       "634                         Workday, Inc. \n",
       "635                    BOINGO WIRELESS INC\n",
       "636                   Willdan Group, Inc. \n",
       "637                 WESTLAKE CHEMICAL CORP\n",
       "638                WHITING PETROLEUM CORP \n",
       "639    WILLIAMS SCOTSMAN INTERNATIONAL INC\n",
       "640              Warner Music Group Corp. \n",
       "641                 Western Refining, Inc.\n",
       "642               Great Wolf Resorts, Inc.\n",
       "643                  VISUAL SCIENCES, INC.\n",
       "644                              WEST CORP\n",
       "645                      W&T OFFSHORE INC \n",
       "646          Cyclacel Pharmaceuticals, Inc\n",
       "647                          XENOGEN CORP \n",
       "648                             LECG CORP \n",
       "649                XERIUM TECHNOLOGIES INC\n",
       "650                              XTENT INC\n",
       "651                 ENLINK MIDSTREAM, INC.\n",
       "652                             ZILLOW INC\n",
       "653                           EnSync, Inc.\n",
       "654                Horsehead Holding Corp \n",
       "655                             ZIPCAR INC\n",
       "656                 Zeltiq Aesthetics Inc \n",
       "657             ZST Digital Networks, Inc.\n",
       "658                            Zumiez Inc \n",
       "659                             SEALY CORP\n",
       "Name: I2, dtype: object"
      ]
     },
     "execution_count": 98,
     "metadata": {},
     "output_type": "execute_result"
    }
   ],
   "source": [
    "data['I2'].loc[620:,]"
   ]
  },
  {
   "cell_type": "code",
   "execution_count": 99,
   "metadata": {},
   "outputs": [],
   "source": [
    "data4['I3'] = pd.to_numeric(data4['I3'], errors = 'coerce')\n",
    "data4['I3'] = data4['I3'].fillna(4000)\n",
    "data4['I3'] = data4['I3'].astype(int)"
   ]
  },
  {
   "cell_type": "code",
   "execution_count": 100,
   "metadata": {},
   "outputs": [
    {
     "name": "stdout",
     "output_type": "stream",
     "text": [
      "<class 'pandas.core.frame.DataFrame'>\n",
      "RangeIndex: 660 entries, 0 to 659\n",
      "Data columns (total 20 columns):\n",
      "S1prime_norm    660 non-null float64\n",
      "S2prime_norm    660 non-null float64\n",
      "S3prime_norm    660 non-null float64\n",
      "C1_norm         660 non-null float64\n",
      "C3_norm         660 non-null float64\n",
      "C4              660 non-null float64\n",
      "C5_norm         660 non-null float64\n",
      "C6_norm         660 non-null float64\n",
      "C7_norm         660 non-null float64\n",
      "C5prime_norm    660 non-null float64\n",
      "T1prime         660 non-null float64\n",
      "T2prime_norm    660 non-null float64\n",
      "T3prime_norm    660 non-null float64\n",
      "T4prime_norm    660 non-null float64\n",
      "T5prime_norm    660 non-null float64\n",
      "Y1              660 non-null int64\n",
      "Y2              660 non-null int64\n",
      "C2              660 non-null int64\n",
      "I3              660 non-null int64\n",
      "C3`             660 non-null int64\n",
      "dtypes: float64(15), int64(5)\n",
      "memory usage: 103.2 KB\n"
     ]
    }
   ],
   "source": [
    "# convert to numeric\n",
    "#all_data['I3'] = all_data['I3'].astype(int)\n",
    "data4.info()"
   ]
  },
  {
   "cell_type": "code",
   "execution_count": 101,
   "metadata": {},
   "outputs": [
    {
     "data": {
      "text/plain": [
       "S1prime_norm    0\n",
       "S2prime_norm    0\n",
       "S3prime_norm    0\n",
       "C1_norm         0\n",
       "C3_norm         0\n",
       "C4              0\n",
       "C5_norm         0\n",
       "C6_norm         0\n",
       "C7_norm         0\n",
       "C5prime_norm    0\n",
       "T1prime         0\n",
       "T2prime_norm    0\n",
       "T3prime_norm    0\n",
       "T4prime_norm    0\n",
       "T5prime_norm    0\n",
       "Y1              0\n",
       "Y2              0\n",
       "C2              0\n",
       "I3              0\n",
       "C3`             0\n",
       "dtype: int64"
      ]
     },
     "execution_count": 101,
     "metadata": {},
     "output_type": "execute_result"
    }
   ],
   "source": [
    "data4.isnull().sum()"
   ]
  },
  {
   "cell_type": "markdown",
   "metadata": {},
   "source": [
    "## Encoding"
   ]
  },
  {
   "cell_type": "code",
   "execution_count": 102,
   "metadata": {},
   "outputs": [
    {
     "data": {
      "text/html": [
       "<div>\n",
       "<style scoped>\n",
       "    .dataframe tbody tr th:only-of-type {\n",
       "        vertical-align: middle;\n",
       "    }\n",
       "\n",
       "    .dataframe tbody tr th {\n",
       "        vertical-align: top;\n",
       "    }\n",
       "\n",
       "    .dataframe thead th {\n",
       "        text-align: right;\n",
       "    }\n",
       "</style>\n",
       "<table border=\"1\" class=\"dataframe\">\n",
       "  <thead>\n",
       "    <tr style=\"text-align: right;\">\n",
       "      <th></th>\n",
       "      <th>S1prime_norm</th>\n",
       "      <th>S2prime_norm</th>\n",
       "      <th>S3prime_norm</th>\n",
       "      <th>C1_norm</th>\n",
       "      <th>C3_norm</th>\n",
       "      <th>C4</th>\n",
       "      <th>C5_norm</th>\n",
       "      <th>C6_norm</th>\n",
       "      <th>C7_norm</th>\n",
       "      <th>C5prime_norm</th>\n",
       "      <th>...</th>\n",
       "      <th>T2prime_norm</th>\n",
       "      <th>T3prime_norm</th>\n",
       "      <th>T4prime_norm</th>\n",
       "      <th>T5prime_norm</th>\n",
       "      <th>Y1</th>\n",
       "      <th>Y2</th>\n",
       "      <th>C2</th>\n",
       "      <th>I3</th>\n",
       "      <th>C3`</th>\n",
       "      <th>I3_bin</th>\n",
       "    </tr>\n",
       "  </thead>\n",
       "  <tbody>\n",
       "    <tr>\n",
       "      <th>0</th>\n",
       "      <td>0.108951</td>\n",
       "      <td>0.209238</td>\n",
       "      <td>0.104924</td>\n",
       "      <td>0.069129</td>\n",
       "      <td>0.850419</td>\n",
       "      <td>0.654566</td>\n",
       "      <td>0.368850</td>\n",
       "      <td>0.356508</td>\n",
       "      <td>0.473003</td>\n",
       "      <td>0.059313</td>\n",
       "      <td>...</td>\n",
       "      <td>0.313703</td>\n",
       "      <td>0.517295</td>\n",
       "      <td>0.220668</td>\n",
       "      <td>0.313703</td>\n",
       "      <td>0</td>\n",
       "      <td>1</td>\n",
       "      <td>1</td>\n",
       "      <td>3674</td>\n",
       "      <td>1</td>\n",
       "      <td>1</td>\n",
       "    </tr>\n",
       "    <tr>\n",
       "      <th>1</th>\n",
       "      <td>1.353310</td>\n",
       "      <td>0.806628</td>\n",
       "      <td>0.125742</td>\n",
       "      <td>1.192960</td>\n",
       "      <td>1.422844</td>\n",
       "      <td>0.619777</td>\n",
       "      <td>0.063268</td>\n",
       "      <td>1.796881</td>\n",
       "      <td>0.840108</td>\n",
       "      <td>2.295653</td>\n",
       "      <td>...</td>\n",
       "      <td>0.089823</td>\n",
       "      <td>0.028610</td>\n",
       "      <td>0.280352</td>\n",
       "      <td>0.089823</td>\n",
       "      <td>1</td>\n",
       "      <td>0</td>\n",
       "      <td>0</td>\n",
       "      <td>2834</td>\n",
       "      <td>0</td>\n",
       "      <td>1</td>\n",
       "    </tr>\n",
       "    <tr>\n",
       "      <th>2</th>\n",
       "      <td>2.566697</td>\n",
       "      <td>1.005987</td>\n",
       "      <td>0.076950</td>\n",
       "      <td>0.385014</td>\n",
       "      <td>0.960183</td>\n",
       "      <td>0.403480</td>\n",
       "      <td>0.764109</td>\n",
       "      <td>0.680999</td>\n",
       "      <td>1.485398</td>\n",
       "      <td>0.210771</td>\n",
       "      <td>...</td>\n",
       "      <td>1.327774</td>\n",
       "      <td>0.542761</td>\n",
       "      <td>0.170581</td>\n",
       "      <td>1.327774</td>\n",
       "      <td>1</td>\n",
       "      <td>0</td>\n",
       "      <td>1</td>\n",
       "      <td>2834</td>\n",
       "      <td>0</td>\n",
       "      <td>1</td>\n",
       "    </tr>\n",
       "    <tr>\n",
       "      <th>3</th>\n",
       "      <td>2.011879</td>\n",
       "      <td>0.592842</td>\n",
       "      <td>0.742409</td>\n",
       "      <td>0.872752</td>\n",
       "      <td>0.483419</td>\n",
       "      <td>0.382698</td>\n",
       "      <td>0.934891</td>\n",
       "      <td>0.834610</td>\n",
       "      <td>1.414443</td>\n",
       "      <td>0.251784</td>\n",
       "      <td>...</td>\n",
       "      <td>1.310267</td>\n",
       "      <td>0.998236</td>\n",
       "      <td>1.296799</td>\n",
       "      <td>1.310267</td>\n",
       "      <td>1</td>\n",
       "      <td>0</td>\n",
       "      <td>1</td>\n",
       "      <td>2834</td>\n",
       "      <td>0</td>\n",
       "      <td>1</td>\n",
       "    </tr>\n",
       "    <tr>\n",
       "      <th>4</th>\n",
       "      <td>0.343668</td>\n",
       "      <td>0.489084</td>\n",
       "      <td>0.023438</td>\n",
       "      <td>0.560847</td>\n",
       "      <td>0.542223</td>\n",
       "      <td>1.266863</td>\n",
       "      <td>0.015643</td>\n",
       "      <td>0.021321</td>\n",
       "      <td>0.904534</td>\n",
       "      <td>0.012345</td>\n",
       "      <td>...</td>\n",
       "      <td>0.503280</td>\n",
       "      <td>0.374782</td>\n",
       "      <td>0.545019</td>\n",
       "      <td>0.503280</td>\n",
       "      <td>0</td>\n",
       "      <td>1</td>\n",
       "      <td>1</td>\n",
       "      <td>4492</td>\n",
       "      <td>1</td>\n",
       "      <td>1</td>\n",
       "    </tr>\n",
       "  </tbody>\n",
       "</table>\n",
       "<p>5 rows × 21 columns</p>\n",
       "</div>"
      ],
      "text/plain": [
       "   S1prime_norm  S2prime_norm  S3prime_norm   C1_norm   C3_norm        C4  \\\n",
       "0      0.108951      0.209238      0.104924  0.069129  0.850419  0.654566   \n",
       "1      1.353310      0.806628      0.125742  1.192960  1.422844  0.619777   \n",
       "2      2.566697      1.005987      0.076950  0.385014  0.960183  0.403480   \n",
       "3      2.011879      0.592842      0.742409  0.872752  0.483419  0.382698   \n",
       "4      0.343668      0.489084      0.023438  0.560847  0.542223  1.266863   \n",
       "\n",
       "    C5_norm   C6_norm   C7_norm  C5prime_norm  ...  T2prime_norm  \\\n",
       "0  0.368850  0.356508  0.473003      0.059313  ...      0.313703   \n",
       "1  0.063268  1.796881  0.840108      2.295653  ...      0.089823   \n",
       "2  0.764109  0.680999  1.485398      0.210771  ...      1.327774   \n",
       "3  0.934891  0.834610  1.414443      0.251784  ...      1.310267   \n",
       "4  0.015643  0.021321  0.904534      0.012345  ...      0.503280   \n",
       "\n",
       "   T3prime_norm  T4prime_norm  T5prime_norm  Y1  Y2  C2    I3  C3`  I3_bin  \n",
       "0      0.517295      0.220668      0.313703   0   1   1  3674    1       1  \n",
       "1      0.028610      0.280352      0.089823   1   0   0  2834    0       1  \n",
       "2      0.542761      0.170581      1.327774   1   0   1  2834    0       1  \n",
       "3      0.998236      1.296799      1.310267   1   0   1  2834    0       1  \n",
       "4      0.374782      0.545019      0.503280   0   1   1  4492    1       1  \n",
       "\n",
       "[5 rows x 21 columns]"
      ]
     },
     "execution_count": 102,
     "metadata": {},
     "output_type": "execute_result"
    }
   ],
   "source": [
    "# bin I3 into 4 quantiles \n",
    "#all_data['I3_cat'] = pd.qcut(all_data.I3, q=4, labels=False )\n",
    "def assign_bins(I3):\n",
    "    if I3 >= 100 and I3 <= 4999:       \n",
    "        return 1 \n",
    "    elif (I3 >= 5000) and (I3 <= 9729):       \n",
    "        return 2\n",
    "    elif (I3 >= 5200) and (I3 <= 5999):       \n",
    "        return 2\n",
    "    elif (I3 >= 9900) and (I3 <= 9999):       \n",
    "        return 3\n",
    "    else:       \n",
    "        return 0\n",
    "\n",
    "data4['I3_bin'] = data4['I3'].apply(assign_bins)\n",
    "data4.head()"
   ]
  },
  {
   "cell_type": "code",
   "execution_count": 103,
   "metadata": {},
   "outputs": [
    {
     "data": {
      "text/plain": [
       "S1prime_norm    0\n",
       "S2prime_norm    0\n",
       "S3prime_norm    0\n",
       "C1_norm         0\n",
       "C3_norm         0\n",
       "C4              0\n",
       "C5_norm         0\n",
       "C6_norm         0\n",
       "C7_norm         0\n",
       "C5prime_norm    0\n",
       "T1prime         0\n",
       "T2prime_norm    0\n",
       "T3prime_norm    0\n",
       "T4prime_norm    0\n",
       "T5prime_norm    0\n",
       "Y1              0\n",
       "Y2              0\n",
       "C2              0\n",
       "I3              0\n",
       "C3`             0\n",
       "I3_bin          0\n",
       "dtype: int64"
      ]
     },
     "execution_count": 103,
     "metadata": {},
     "output_type": "execute_result"
    }
   ],
   "source": [
    "data4.isnull().sum()"
   ]
  },
  {
   "cell_type": "markdown",
   "metadata": {},
   "source": [
    "## One-hot encoding\n",
    "all_data_one_hot = all_data.copy()\n",
    "\n",
    "all_data_one_hot = pd.get_dummies(all_data_one_hot, columns=['I3'], prefix = ['industry'])\n",
    "\n",
    "all_data_one_hot.head()"
   ]
  },
  {
   "cell_type": "code",
   "execution_count": 104,
   "metadata": {},
   "outputs": [],
   "source": [
    "# we drop I3 because we have bins now and we do not need the I3 column anymore\n",
    "data4 = data4.drop('I3',axis=1)"
   ]
  },
  {
   "cell_type": "code",
   "execution_count": 105,
   "metadata": {},
   "outputs": [
    {
     "data": {
      "text/html": [
       "<div>\n",
       "<style scoped>\n",
       "    .dataframe tbody tr th:only-of-type {\n",
       "        vertical-align: middle;\n",
       "    }\n",
       "\n",
       "    .dataframe tbody tr th {\n",
       "        vertical-align: top;\n",
       "    }\n",
       "\n",
       "    .dataframe thead th {\n",
       "        text-align: right;\n",
       "    }\n",
       "</style>\n",
       "<table border=\"1\" class=\"dataframe\">\n",
       "  <thead>\n",
       "    <tr style=\"text-align: right;\">\n",
       "      <th></th>\n",
       "      <th>S1prime_norm</th>\n",
       "      <th>S2prime_norm</th>\n",
       "      <th>S3prime_norm</th>\n",
       "      <th>C1_norm</th>\n",
       "      <th>C3_norm</th>\n",
       "      <th>C4</th>\n",
       "      <th>C5_norm</th>\n",
       "      <th>C6_norm</th>\n",
       "      <th>C7_norm</th>\n",
       "      <th>C5prime_norm</th>\n",
       "      <th>...</th>\n",
       "      <th>T3prime_norm</th>\n",
       "      <th>T4prime_norm</th>\n",
       "      <th>T5prime_norm</th>\n",
       "      <th>Y1</th>\n",
       "      <th>Y2</th>\n",
       "      <th>C2</th>\n",
       "      <th>C3`</th>\n",
       "      <th>industry_0</th>\n",
       "      <th>industry_1</th>\n",
       "      <th>industry_2</th>\n",
       "    </tr>\n",
       "  </thead>\n",
       "  <tbody>\n",
       "    <tr>\n",
       "      <th>0</th>\n",
       "      <td>0.108951</td>\n",
       "      <td>0.209238</td>\n",
       "      <td>0.104924</td>\n",
       "      <td>0.069129</td>\n",
       "      <td>0.850419</td>\n",
       "      <td>0.654566</td>\n",
       "      <td>0.368850</td>\n",
       "      <td>0.356508</td>\n",
       "      <td>0.473003</td>\n",
       "      <td>0.059313</td>\n",
       "      <td>...</td>\n",
       "      <td>0.517295</td>\n",
       "      <td>0.220668</td>\n",
       "      <td>0.313703</td>\n",
       "      <td>0</td>\n",
       "      <td>1</td>\n",
       "      <td>1</td>\n",
       "      <td>1</td>\n",
       "      <td>0</td>\n",
       "      <td>1</td>\n",
       "      <td>0</td>\n",
       "    </tr>\n",
       "    <tr>\n",
       "      <th>1</th>\n",
       "      <td>1.353310</td>\n",
       "      <td>0.806628</td>\n",
       "      <td>0.125742</td>\n",
       "      <td>1.192960</td>\n",
       "      <td>1.422844</td>\n",
       "      <td>0.619777</td>\n",
       "      <td>0.063268</td>\n",
       "      <td>1.796881</td>\n",
       "      <td>0.840108</td>\n",
       "      <td>2.295653</td>\n",
       "      <td>...</td>\n",
       "      <td>0.028610</td>\n",
       "      <td>0.280352</td>\n",
       "      <td>0.089823</td>\n",
       "      <td>1</td>\n",
       "      <td>0</td>\n",
       "      <td>0</td>\n",
       "      <td>0</td>\n",
       "      <td>0</td>\n",
       "      <td>1</td>\n",
       "      <td>0</td>\n",
       "    </tr>\n",
       "    <tr>\n",
       "      <th>2</th>\n",
       "      <td>2.566697</td>\n",
       "      <td>1.005987</td>\n",
       "      <td>0.076950</td>\n",
       "      <td>0.385014</td>\n",
       "      <td>0.960183</td>\n",
       "      <td>0.403480</td>\n",
       "      <td>0.764109</td>\n",
       "      <td>0.680999</td>\n",
       "      <td>1.485398</td>\n",
       "      <td>0.210771</td>\n",
       "      <td>...</td>\n",
       "      <td>0.542761</td>\n",
       "      <td>0.170581</td>\n",
       "      <td>1.327774</td>\n",
       "      <td>1</td>\n",
       "      <td>0</td>\n",
       "      <td>1</td>\n",
       "      <td>0</td>\n",
       "      <td>0</td>\n",
       "      <td>1</td>\n",
       "      <td>0</td>\n",
       "    </tr>\n",
       "    <tr>\n",
       "      <th>3</th>\n",
       "      <td>2.011879</td>\n",
       "      <td>0.592842</td>\n",
       "      <td>0.742409</td>\n",
       "      <td>0.872752</td>\n",
       "      <td>0.483419</td>\n",
       "      <td>0.382698</td>\n",
       "      <td>0.934891</td>\n",
       "      <td>0.834610</td>\n",
       "      <td>1.414443</td>\n",
       "      <td>0.251784</td>\n",
       "      <td>...</td>\n",
       "      <td>0.998236</td>\n",
       "      <td>1.296799</td>\n",
       "      <td>1.310267</td>\n",
       "      <td>1</td>\n",
       "      <td>0</td>\n",
       "      <td>1</td>\n",
       "      <td>0</td>\n",
       "      <td>0</td>\n",
       "      <td>1</td>\n",
       "      <td>0</td>\n",
       "    </tr>\n",
       "    <tr>\n",
       "      <th>4</th>\n",
       "      <td>0.343668</td>\n",
       "      <td>0.489084</td>\n",
       "      <td>0.023438</td>\n",
       "      <td>0.560847</td>\n",
       "      <td>0.542223</td>\n",
       "      <td>1.266863</td>\n",
       "      <td>0.015643</td>\n",
       "      <td>0.021321</td>\n",
       "      <td>0.904534</td>\n",
       "      <td>0.012345</td>\n",
       "      <td>...</td>\n",
       "      <td>0.374782</td>\n",
       "      <td>0.545019</td>\n",
       "      <td>0.503280</td>\n",
       "      <td>0</td>\n",
       "      <td>1</td>\n",
       "      <td>1</td>\n",
       "      <td>1</td>\n",
       "      <td>0</td>\n",
       "      <td>1</td>\n",
       "      <td>0</td>\n",
       "    </tr>\n",
       "  </tbody>\n",
       "</table>\n",
       "<p>5 rows × 22 columns</p>\n",
       "</div>"
      ],
      "text/plain": [
       "   S1prime_norm  S2prime_norm  S3prime_norm   C1_norm   C3_norm        C4  \\\n",
       "0      0.108951      0.209238      0.104924  0.069129  0.850419  0.654566   \n",
       "1      1.353310      0.806628      0.125742  1.192960  1.422844  0.619777   \n",
       "2      2.566697      1.005987      0.076950  0.385014  0.960183  0.403480   \n",
       "3      2.011879      0.592842      0.742409  0.872752  0.483419  0.382698   \n",
       "4      0.343668      0.489084      0.023438  0.560847  0.542223  1.266863   \n",
       "\n",
       "    C5_norm   C6_norm   C7_norm  C5prime_norm  ...  T3prime_norm  \\\n",
       "0  0.368850  0.356508  0.473003      0.059313  ...      0.517295   \n",
       "1  0.063268  1.796881  0.840108      2.295653  ...      0.028610   \n",
       "2  0.764109  0.680999  1.485398      0.210771  ...      0.542761   \n",
       "3  0.934891  0.834610  1.414443      0.251784  ...      0.998236   \n",
       "4  0.015643  0.021321  0.904534      0.012345  ...      0.374782   \n",
       "\n",
       "   T4prime_norm  T5prime_norm  Y1  Y2  C2  C3`  industry_0  industry_1  \\\n",
       "0      0.220668      0.313703   0   1   1    1           0           1   \n",
       "1      0.280352      0.089823   1   0   0    0           0           1   \n",
       "2      0.170581      1.327774   1   0   1    0           0           1   \n",
       "3      1.296799      1.310267   1   0   1    0           0           1   \n",
       "4      0.545019      0.503280   0   1   1    1           0           1   \n",
       "\n",
       "   industry_2  \n",
       "0           0  \n",
       "1           0  \n",
       "2           0  \n",
       "3           0  \n",
       "4           0  \n",
       "\n",
       "[5 rows x 22 columns]"
      ]
     },
     "execution_count": 105,
     "metadata": {},
     "output_type": "execute_result"
    }
   ],
   "source": [
    "I3_one_hot = data4.copy()\n",
    "I3bin_one_hot = pd.get_dummies(I3_one_hot, columns=['I3_bin'], prefix = ['industry'])\n",
    "I3bin_one_hot.head()"
   ]
  },
  {
   "cell_type": "code",
   "execution_count": 106,
   "metadata": {},
   "outputs": [
    {
     "data": {
      "text/plain": [
       "1    330\n",
       "0    330\n",
       "Name: Y1, dtype: int64"
      ]
     },
     "execution_count": 106,
     "metadata": {},
     "output_type": "execute_result"
    }
   ],
   "source": [
    "I3bin_one_hot.Y1.value_counts()"
   ]
  },
  {
   "cell_type": "code",
   "execution_count": 108,
   "metadata": {},
   "outputs": [
    {
     "data": {
      "text/html": [
       "<div>\n",
       "<style scoped>\n",
       "    .dataframe tbody tr th:only-of-type {\n",
       "        vertical-align: middle;\n",
       "    }\n",
       "\n",
       "    .dataframe tbody tr th {\n",
       "        vertical-align: top;\n",
       "    }\n",
       "\n",
       "    .dataframe thead th {\n",
       "        text-align: right;\n",
       "    }\n",
       "</style>\n",
       "<table border=\"1\" class=\"dataframe\">\n",
       "  <thead>\n",
       "    <tr style=\"text-align: right;\">\n",
       "      <th></th>\n",
       "      <th>S1prime_norm</th>\n",
       "      <th>S2prime_norm</th>\n",
       "      <th>S3prime_norm</th>\n",
       "      <th>C1_norm</th>\n",
       "      <th>C2</th>\n",
       "      <th>C3`</th>\n",
       "      <th>C3_norm</th>\n",
       "      <th>C4</th>\n",
       "      <th>C5_norm</th>\n",
       "      <th>C6_norm</th>\n",
       "      <th>...</th>\n",
       "      <th>T1prime</th>\n",
       "      <th>T2prime_norm</th>\n",
       "      <th>T3prime_norm</th>\n",
       "      <th>T4prime_norm</th>\n",
       "      <th>T5prime_norm</th>\n",
       "      <th>industry_0</th>\n",
       "      <th>industry_1</th>\n",
       "      <th>industry_2</th>\n",
       "      <th>Y1</th>\n",
       "      <th>Y2</th>\n",
       "    </tr>\n",
       "  </thead>\n",
       "  <tbody>\n",
       "    <tr>\n",
       "      <th>0</th>\n",
       "      <td>0.108951</td>\n",
       "      <td>0.209238</td>\n",
       "      <td>0.104924</td>\n",
       "      <td>0.069129</td>\n",
       "      <td>1</td>\n",
       "      <td>1</td>\n",
       "      <td>0.850419</td>\n",
       "      <td>0.654566</td>\n",
       "      <td>0.368850</td>\n",
       "      <td>0.356508</td>\n",
       "      <td>...</td>\n",
       "      <td>0.170080</td>\n",
       "      <td>0.313703</td>\n",
       "      <td>0.517295</td>\n",
       "      <td>0.220668</td>\n",
       "      <td>0.313703</td>\n",
       "      <td>0</td>\n",
       "      <td>1</td>\n",
       "      <td>0</td>\n",
       "      <td>0</td>\n",
       "      <td>1</td>\n",
       "    </tr>\n",
       "    <tr>\n",
       "      <th>1</th>\n",
       "      <td>1.353310</td>\n",
       "      <td>0.806628</td>\n",
       "      <td>0.125742</td>\n",
       "      <td>1.192960</td>\n",
       "      <td>0</td>\n",
       "      <td>0</td>\n",
       "      <td>1.422844</td>\n",
       "      <td>0.619777</td>\n",
       "      <td>0.063268</td>\n",
       "      <td>1.796881</td>\n",
       "      <td>...</td>\n",
       "      <td>0.232339</td>\n",
       "      <td>0.089823</td>\n",
       "      <td>0.028610</td>\n",
       "      <td>0.280352</td>\n",
       "      <td>0.089823</td>\n",
       "      <td>0</td>\n",
       "      <td>1</td>\n",
       "      <td>0</td>\n",
       "      <td>1</td>\n",
       "      <td>0</td>\n",
       "    </tr>\n",
       "    <tr>\n",
       "      <th>2</th>\n",
       "      <td>2.566697</td>\n",
       "      <td>1.005987</td>\n",
       "      <td>0.076950</td>\n",
       "      <td>0.385014</td>\n",
       "      <td>1</td>\n",
       "      <td>0</td>\n",
       "      <td>0.960183</td>\n",
       "      <td>0.403480</td>\n",
       "      <td>0.764109</td>\n",
       "      <td>0.680999</td>\n",
       "      <td>...</td>\n",
       "      <td>0.118155</td>\n",
       "      <td>1.327774</td>\n",
       "      <td>0.542761</td>\n",
       "      <td>0.170581</td>\n",
       "      <td>1.327774</td>\n",
       "      <td>0</td>\n",
       "      <td>1</td>\n",
       "      <td>0</td>\n",
       "      <td>1</td>\n",
       "      <td>0</td>\n",
       "    </tr>\n",
       "  </tbody>\n",
       "</table>\n",
       "<p>3 rows × 22 columns</p>\n",
       "</div>"
      ],
      "text/plain": [
       "   S1prime_norm  S2prime_norm  S3prime_norm   C1_norm  C2  C3`   C3_norm  \\\n",
       "0      0.108951      0.209238      0.104924  0.069129   1    1  0.850419   \n",
       "1      1.353310      0.806628      0.125742  1.192960   0    0  1.422844   \n",
       "2      2.566697      1.005987      0.076950  0.385014   1    0  0.960183   \n",
       "\n",
       "         C4   C5_norm   C6_norm  ...   T1prime  T2prime_norm  T3prime_norm  \\\n",
       "0  0.654566  0.368850  0.356508  ...  0.170080      0.313703      0.517295   \n",
       "1  0.619777  0.063268  1.796881  ...  0.232339      0.089823      0.028610   \n",
       "2  0.403480  0.764109  0.680999  ...  0.118155      1.327774      0.542761   \n",
       "\n",
       "   T4prime_norm  T5prime_norm  industry_0  industry_1  industry_2  Y1  Y2  \n",
       "0      0.220668      0.313703           0           1           0   0   1  \n",
       "1      0.280352      0.089823           0           1           0   1   0  \n",
       "2      0.170581      1.327774           0           1           0   1   0  \n",
       "\n",
       "[3 rows x 22 columns]"
      ]
     },
     "execution_count": 108,
     "metadata": {},
     "output_type": "execute_result"
    }
   ],
   "source": [
    "# reorganize df--place cateogries created in one hot before the Y1 and Y2\n",
    "# one hot encoding allows for less machine confusion that the numerics of binning can cause\n",
    "I3bin_one_hot = I3bin_one_hot[['S1prime_norm', 'S2prime_norm', 'S3prime_norm', 'C1_norm','C2', \n",
    "        'C3`', 'C3_norm','C4', 'C5_norm', 'C6_norm', 'C7_norm', 'C5prime_norm', 'T1prime',\n",
    "       'T2prime_norm', 'T3prime_norm', 'T4prime_norm', 'T5prime_norm', 'industry_0', 'industry_1', 'industry_2',\n",
    "        'Y1','Y2']]\n",
    "I3bin_one_hot.head(3)"
   ]
  },
  {
   "cell_type": "code",
   "execution_count": 109,
   "metadata": {},
   "outputs": [
    {
     "name": "stdout",
     "output_type": "stream",
     "text": [
      "<class 'pandas.core.frame.DataFrame'>\n",
      "RangeIndex: 660 entries, 0 to 659\n",
      "Data columns (total 22 columns):\n",
      "S1prime_norm    660 non-null float64\n",
      "S2prime_norm    660 non-null float64\n",
      "S3prime_norm    660 non-null float64\n",
      "C1_norm         660 non-null float64\n",
      "C2              660 non-null int64\n",
      "C3`             660 non-null int64\n",
      "C3_norm         660 non-null float64\n",
      "C4              660 non-null float64\n",
      "C5_norm         660 non-null float64\n",
      "C6_norm         660 non-null float64\n",
      "C7_norm         660 non-null float64\n",
      "C5prime_norm    660 non-null float64\n",
      "T1prime         660 non-null float64\n",
      "T2prime_norm    660 non-null float64\n",
      "T3prime_norm    660 non-null float64\n",
      "T4prime_norm    660 non-null float64\n",
      "T5prime_norm    660 non-null float64\n",
      "industry_0      660 non-null uint8\n",
      "industry_1      660 non-null uint8\n",
      "industry_2      660 non-null uint8\n",
      "Y1              660 non-null int64\n",
      "Y2              660 non-null int64\n",
      "dtypes: float64(15), int64(4), uint8(3)\n",
      "memory usage: 100.0 KB\n"
     ]
    }
   ],
   "source": [
    "I3bin_one_hot.info()"
   ]
  },
  {
   "cell_type": "code",
   "execution_count": 110,
   "metadata": {},
   "outputs": [
    {
     "name": "stdout",
     "output_type": "stream",
     "text": [
      "<class 'pandas.core.frame.DataFrame'>\n",
      "RangeIndex: 660 entries, 0 to 659\n",
      "Data columns (total 22 columns):\n",
      "S1prime_norm    660 non-null float64\n",
      "S2prime_norm    660 non-null float64\n",
      "S3prime_norm    660 non-null float64\n",
      "C1_norm         660 non-null float64\n",
      "C2              660 non-null int64\n",
      "C3`             660 non-null int64\n",
      "C3_norm         660 non-null float64\n",
      "C4              660 non-null float64\n",
      "C5_norm         660 non-null float64\n",
      "C6_norm         660 non-null float64\n",
      "C7_norm         660 non-null float64\n",
      "C5prime_norm    660 non-null float64\n",
      "T1prime         660 non-null float64\n",
      "T2prime_norm    660 non-null float64\n",
      "T3prime_norm    660 non-null float64\n",
      "T4prime_norm    660 non-null float64\n",
      "T5prime_norm    660 non-null float64\n",
      "industry_0      660 non-null int64\n",
      "industry_1      660 non-null int64\n",
      "industry_2      660 non-null int64\n",
      "Y1              660 non-null int64\n",
      "Y2              660 non-null int64\n",
      "dtypes: float64(15), int64(7)\n",
      "memory usage: 113.6 KB\n"
     ]
    }
   ],
   "source": [
    "I3bin_one_hot[['industry_0','industry_1','industry_2']] = I3bin_one_hot[['industry_0','industry_1','industry_2']].astype(int)\n",
    "I3bin_one_hot.info()"
   ]
  },
  {
   "cell_type": "code",
   "execution_count": 111,
   "metadata": {},
   "outputs": [
    {
     "data": {
      "text/plain": [
       "1    330\n",
       "0    330\n",
       "Name: Y1, dtype: int64"
      ]
     },
     "execution_count": 111,
     "metadata": {},
     "output_type": "execute_result"
    }
   ],
   "source": [
    "I3bin_one_hot.Y1.value_counts()"
   ]
  },
  {
   "cell_type": "code",
   "execution_count": 112,
   "metadata": {},
   "outputs": [
    {
     "data": {
      "text/plain": [
       "S1prime_norm    0\n",
       "S2prime_norm    0\n",
       "S3prime_norm    0\n",
       "C1_norm         0\n",
       "C2              0\n",
       "C3`             0\n",
       "C3_norm         0\n",
       "C4              0\n",
       "C5_norm         0\n",
       "C6_norm         0\n",
       "C7_norm         0\n",
       "C5prime_norm    0\n",
       "T1prime         0\n",
       "T2prime_norm    0\n",
       "T3prime_norm    0\n",
       "T4prime_norm    0\n",
       "T5prime_norm    0\n",
       "industry_0      0\n",
       "industry_1      0\n",
       "industry_2      0\n",
       "Y1              0\n",
       "Y2              0\n",
       "dtype: int64"
      ]
     },
     "execution_count": 112,
     "metadata": {},
     "output_type": "execute_result"
    }
   ],
   "source": [
    "I3bin_one_hot.isnull().sum()"
   ]
  },
  {
   "cell_type": "code",
   "execution_count": 113,
   "metadata": {},
   "outputs": [
    {
     "data": {
      "text/html": [
       "<div>\n",
       "<style scoped>\n",
       "    .dataframe tbody tr th:only-of-type {\n",
       "        vertical-align: middle;\n",
       "    }\n",
       "\n",
       "    .dataframe tbody tr th {\n",
       "        vertical-align: top;\n",
       "    }\n",
       "\n",
       "    .dataframe thead th {\n",
       "        text-align: right;\n",
       "    }\n",
       "</style>\n",
       "<table border=\"1\" class=\"dataframe\">\n",
       "  <thead>\n",
       "    <tr style=\"text-align: right;\">\n",
       "      <th></th>\n",
       "      <th>S1prime_norm</th>\n",
       "      <th>S2prime_norm</th>\n",
       "      <th>S3prime_norm</th>\n",
       "      <th>C1_norm</th>\n",
       "      <th>C2</th>\n",
       "      <th>C3`</th>\n",
       "      <th>C3_norm</th>\n",
       "      <th>C4</th>\n",
       "      <th>C5_norm</th>\n",
       "      <th>C6_norm</th>\n",
       "      <th>...</th>\n",
       "      <th>T1prime</th>\n",
       "      <th>T2prime_norm</th>\n",
       "      <th>T3prime_norm</th>\n",
       "      <th>T4prime_norm</th>\n",
       "      <th>T5prime_norm</th>\n",
       "      <th>industry_0</th>\n",
       "      <th>industry_1</th>\n",
       "      <th>industry_2</th>\n",
       "      <th>Y1</th>\n",
       "      <th>Y2</th>\n",
       "    </tr>\n",
       "  </thead>\n",
       "  <tbody>\n",
       "    <tr>\n",
       "      <th>count</th>\n",
       "      <td>660.000000</td>\n",
       "      <td>660.000000</td>\n",
       "      <td>660.000000</td>\n",
       "      <td>660.000000</td>\n",
       "      <td>660.000000</td>\n",
       "      <td>660.000000</td>\n",
       "      <td>660.000000</td>\n",
       "      <td>660.000000</td>\n",
       "      <td>660.000000</td>\n",
       "      <td>660.000000</td>\n",
       "      <td>...</td>\n",
       "      <td>660.000000</td>\n",
       "      <td>660.000000</td>\n",
       "      <td>660.000000</td>\n",
       "      <td>660.000000</td>\n",
       "      <td>660.000000</td>\n",
       "      <td>660.000000</td>\n",
       "      <td>660.000000</td>\n",
       "      <td>660.000000</td>\n",
       "      <td>660.000000</td>\n",
       "      <td>660.000000</td>\n",
       "    </tr>\n",
       "    <tr>\n",
       "      <th>mean</th>\n",
       "      <td>0.789102</td>\n",
       "      <td>0.786657</td>\n",
       "      <td>0.772983</td>\n",
       "      <td>0.695735</td>\n",
       "      <td>0.859091</td>\n",
       "      <td>0.513636</td>\n",
       "      <td>0.818081</td>\n",
       "      <td>0.801209</td>\n",
       "      <td>0.767458</td>\n",
       "      <td>0.756162</td>\n",
       "      <td>...</td>\n",
       "      <td>0.792187</td>\n",
       "      <td>0.777712</td>\n",
       "      <td>0.726460</td>\n",
       "      <td>0.785824</td>\n",
       "      <td>0.777712</td>\n",
       "      <td>0.003030</td>\n",
       "      <td>0.593939</td>\n",
       "      <td>0.403030</td>\n",
       "      <td>0.500000</td>\n",
       "      <td>0.383333</td>\n",
       "    </tr>\n",
       "    <tr>\n",
       "      <th>std</th>\n",
       "      <td>0.614729</td>\n",
       "      <td>0.617859</td>\n",
       "      <td>0.634908</td>\n",
       "      <td>0.718843</td>\n",
       "      <td>0.348192</td>\n",
       "      <td>0.500193</td>\n",
       "      <td>0.575539</td>\n",
       "      <td>0.598839</td>\n",
       "      <td>0.641586</td>\n",
       "      <td>0.654881</td>\n",
       "      <td>...</td>\n",
       "      <td>0.610741</td>\n",
       "      <td>0.629098</td>\n",
       "      <td>0.687729</td>\n",
       "      <td>0.618919</td>\n",
       "      <td>0.629098</td>\n",
       "      <td>0.055006</td>\n",
       "      <td>0.491469</td>\n",
       "      <td>0.490879</td>\n",
       "      <td>0.500379</td>\n",
       "      <td>0.486567</td>\n",
       "    </tr>\n",
       "    <tr>\n",
       "      <th>min</th>\n",
       "      <td>0.000100</td>\n",
       "      <td>0.000250</td>\n",
       "      <td>0.003368</td>\n",
       "      <td>0.006157</td>\n",
       "      <td>0.000000</td>\n",
       "      <td>0.000000</td>\n",
       "      <td>0.003442</td>\n",
       "      <td>0.002729</td>\n",
       "      <td>0.002108</td>\n",
       "      <td>0.006411</td>\n",
       "      <td>...</td>\n",
       "      <td>0.001478</td>\n",
       "      <td>0.000677</td>\n",
       "      <td>0.001344</td>\n",
       "      <td>0.002997</td>\n",
       "      <td>0.000677</td>\n",
       "      <td>0.000000</td>\n",
       "      <td>0.000000</td>\n",
       "      <td>0.000000</td>\n",
       "      <td>0.000000</td>\n",
       "      <td>0.000000</td>\n",
       "    </tr>\n",
       "    <tr>\n",
       "      <th>25%</th>\n",
       "      <td>0.334165</td>\n",
       "      <td>0.310960</td>\n",
       "      <td>0.281559</td>\n",
       "      <td>0.227726</td>\n",
       "      <td>1.000000</td>\n",
       "      <td>0.000000</td>\n",
       "      <td>0.501374</td>\n",
       "      <td>0.334753</td>\n",
       "      <td>0.289990</td>\n",
       "      <td>0.279514</td>\n",
       "      <td>...</td>\n",
       "      <td>0.295665</td>\n",
       "      <td>0.304787</td>\n",
       "      <td>0.274809</td>\n",
       "      <td>0.289071</td>\n",
       "      <td>0.304787</td>\n",
       "      <td>0.000000</td>\n",
       "      <td>0.000000</td>\n",
       "      <td>0.000000</td>\n",
       "      <td>0.000000</td>\n",
       "      <td>0.000000</td>\n",
       "    </tr>\n",
       "    <tr>\n",
       "      <th>50%</th>\n",
       "      <td>0.647312</td>\n",
       "      <td>0.647161</td>\n",
       "      <td>0.628639</td>\n",
       "      <td>0.470343</td>\n",
       "      <td>1.000000</td>\n",
       "      <td>1.000000</td>\n",
       "      <td>0.655564</td>\n",
       "      <td>0.696636</td>\n",
       "      <td>0.614215</td>\n",
       "      <td>0.578639</td>\n",
       "      <td>...</td>\n",
       "      <td>0.668986</td>\n",
       "      <td>0.648346</td>\n",
       "      <td>0.556980</td>\n",
       "      <td>0.661530</td>\n",
       "      <td>0.648346</td>\n",
       "      <td>0.000000</td>\n",
       "      <td>1.000000</td>\n",
       "      <td>0.000000</td>\n",
       "      <td>0.500000</td>\n",
       "      <td>0.000000</td>\n",
       "    </tr>\n",
       "    <tr>\n",
       "      <th>75%</th>\n",
       "      <td>1.114168</td>\n",
       "      <td>1.123199</td>\n",
       "      <td>1.092139</td>\n",
       "      <td>0.816339</td>\n",
       "      <td>1.000000</td>\n",
       "      <td>1.000000</td>\n",
       "      <td>0.846186</td>\n",
       "      <td>1.202282</td>\n",
       "      <td>1.046389</td>\n",
       "      <td>1.008853</td>\n",
       "      <td>...</td>\n",
       "      <td>1.180596</td>\n",
       "      <td>1.075661</td>\n",
       "      <td>1.041857</td>\n",
       "      <td>1.150786</td>\n",
       "      <td>1.075661</td>\n",
       "      <td>0.000000</td>\n",
       "      <td>1.000000</td>\n",
       "      <td>1.000000</td>\n",
       "      <td>1.000000</td>\n",
       "      <td>1.000000</td>\n",
       "    </tr>\n",
       "    <tr>\n",
       "      <th>max</th>\n",
       "      <td>3.545055</td>\n",
       "      <td>4.398379</td>\n",
       "      <td>4.133980</td>\n",
       "      <td>4.308033</td>\n",
       "      <td>1.000000</td>\n",
       "      <td>1.000000</td>\n",
       "      <td>2.080810</td>\n",
       "      <td>5.095282</td>\n",
       "      <td>4.274781</td>\n",
       "      <td>4.305683</td>\n",
       "      <td>...</td>\n",
       "      <td>3.353543</td>\n",
       "      <td>4.461326</td>\n",
       "      <td>7.344653</td>\n",
       "      <td>4.050890</td>\n",
       "      <td>4.461326</td>\n",
       "      <td>1.000000</td>\n",
       "      <td>1.000000</td>\n",
       "      <td>1.000000</td>\n",
       "      <td>1.000000</td>\n",
       "      <td>1.000000</td>\n",
       "    </tr>\n",
       "  </tbody>\n",
       "</table>\n",
       "<p>8 rows × 22 columns</p>\n",
       "</div>"
      ],
      "text/plain": [
       "       S1prime_norm  S2prime_norm  S3prime_norm     C1_norm          C2  \\\n",
       "count    660.000000    660.000000    660.000000  660.000000  660.000000   \n",
       "mean       0.789102      0.786657      0.772983    0.695735    0.859091   \n",
       "std        0.614729      0.617859      0.634908    0.718843    0.348192   \n",
       "min        0.000100      0.000250      0.003368    0.006157    0.000000   \n",
       "25%        0.334165      0.310960      0.281559    0.227726    1.000000   \n",
       "50%        0.647312      0.647161      0.628639    0.470343    1.000000   \n",
       "75%        1.114168      1.123199      1.092139    0.816339    1.000000   \n",
       "max        3.545055      4.398379      4.133980    4.308033    1.000000   \n",
       "\n",
       "              C3`     C3_norm          C4     C5_norm     C6_norm  ...  \\\n",
       "count  660.000000  660.000000  660.000000  660.000000  660.000000  ...   \n",
       "mean     0.513636    0.818081    0.801209    0.767458    0.756162  ...   \n",
       "std      0.500193    0.575539    0.598839    0.641586    0.654881  ...   \n",
       "min      0.000000    0.003442    0.002729    0.002108    0.006411  ...   \n",
       "25%      0.000000    0.501374    0.334753    0.289990    0.279514  ...   \n",
       "50%      1.000000    0.655564    0.696636    0.614215    0.578639  ...   \n",
       "75%      1.000000    0.846186    1.202282    1.046389    1.008853  ...   \n",
       "max      1.000000    2.080810    5.095282    4.274781    4.305683  ...   \n",
       "\n",
       "          T1prime  T2prime_norm  T3prime_norm  T4prime_norm  T5prime_norm  \\\n",
       "count  660.000000    660.000000    660.000000    660.000000    660.000000   \n",
       "mean     0.792187      0.777712      0.726460      0.785824      0.777712   \n",
       "std      0.610741      0.629098      0.687729      0.618919      0.629098   \n",
       "min      0.001478      0.000677      0.001344      0.002997      0.000677   \n",
       "25%      0.295665      0.304787      0.274809      0.289071      0.304787   \n",
       "50%      0.668986      0.648346      0.556980      0.661530      0.648346   \n",
       "75%      1.180596      1.075661      1.041857      1.150786      1.075661   \n",
       "max      3.353543      4.461326      7.344653      4.050890      4.461326   \n",
       "\n",
       "       industry_0  industry_1  industry_2          Y1          Y2  \n",
       "count  660.000000  660.000000  660.000000  660.000000  660.000000  \n",
       "mean     0.003030    0.593939    0.403030    0.500000    0.383333  \n",
       "std      0.055006    0.491469    0.490879    0.500379    0.486567  \n",
       "min      0.000000    0.000000    0.000000    0.000000    0.000000  \n",
       "25%      0.000000    0.000000    0.000000    0.000000    0.000000  \n",
       "50%      0.000000    1.000000    0.000000    0.500000    0.000000  \n",
       "75%      0.000000    1.000000    1.000000    1.000000    1.000000  \n",
       "max      1.000000    1.000000    1.000000    1.000000    1.000000  \n",
       "\n",
       "[8 rows x 22 columns]"
      ]
     },
     "execution_count": 113,
     "metadata": {},
     "output_type": "execute_result"
    }
   ],
   "source": [
    "I3bin_one_hot.describe()"
   ]
  },
  {
   "cell_type": "code",
   "execution_count": 114,
   "metadata": {},
   "outputs": [],
   "source": [
    "#we still have retained all 660 values thoughout the process"
   ]
  },
  {
   "cell_type": "markdown",
   "metadata": {},
   "source": [
    "## Correlation\n",
    "\n",
    "Correlation will show how strongly pairs of variables are related. In our case, we want to see which variables are most correlated to `Y1` and `Y2`\n"
   ]
  },
  {
   "cell_type": "code",
   "execution_count": 115,
   "metadata": {},
   "outputs": [
    {
     "data": {
      "text/plain": [
       "S1prime_norm    False\n",
       "S2prime_norm    False\n",
       "S3prime_norm    False\n",
       "C1_norm         False\n",
       "C2              False\n",
       "C3`             False\n",
       "C3_norm         False\n",
       "C4              False\n",
       "C5_norm         False\n",
       "C6_norm         False\n",
       "C7_norm         False\n",
       "C5prime_norm    False\n",
       "T1prime         False\n",
       "T2prime_norm    False\n",
       "T3prime_norm    False\n",
       "T4prime_norm    False\n",
       "T5prime_norm    False\n",
       "industry_0      False\n",
       "industry_1      False\n",
       "industry_2      False\n",
       "Y1               True\n",
       "Y2               True\n",
       "Name: Y1, dtype: bool"
      ]
     },
     "execution_count": 115,
     "metadata": {},
     "output_type": "execute_result"
    }
   ],
   "source": [
    "s1 = I3bin_one_hot.corr()['Y1'] > 0.3 \n",
    "s2 = I3bin_one_hot.corr()['Y1'] < -0.3\n",
    "s1 | s2 # logical OR"
   ]
  },
  {
   "cell_type": "code",
   "execution_count": 116,
   "metadata": {},
   "outputs": [
    {
     "data": {
      "text/plain": [
       "S1prime_norm    False\n",
       "S2prime_norm    False\n",
       "S3prime_norm    False\n",
       "C1_norm         False\n",
       "C2              False\n",
       "C3`             False\n",
       "C3_norm         False\n",
       "C4              False\n",
       "C5_norm         False\n",
       "C6_norm         False\n",
       "C7_norm         False\n",
       "C5prime_norm    False\n",
       "T1prime         False\n",
       "T2prime_norm    False\n",
       "T3prime_norm    False\n",
       "T4prime_norm    False\n",
       "T5prime_norm    False\n",
       "industry_0      False\n",
       "industry_1      False\n",
       "industry_2      False\n",
       "Y1               True\n",
       "Y2               True\n",
       "Name: Y2, dtype: bool"
      ]
     },
     "execution_count": 116,
     "metadata": {},
     "output_type": "execute_result"
    }
   ],
   "source": [
    "s3 = I3bin_one_hot.corr()['Y2'] > 0.3\n",
    "s4 = I3bin_one_hot.corr()['Y2'] < -0.3\n",
    "s3 | s4 # logical OR"
   ]
  },
  {
   "cell_type": "markdown",
   "metadata": {},
   "source": [
    "A `heatmap` is a usefull tool to show correlation between two variables. Here we ignore the negative and positive values, but instead try to focus on how close to 1 the value between two variables is. Here, the darker the color, the higher the correlation.\n",
    "\n",
    "We selected which variables looked the most correlated and compared to those selected in feature selection. The features chosen in feature selection served as a base for our first validation score. We then added or removed features based on their score from the heatmap to see if our validation score would increase. "
   ]
  },
  {
   "cell_type": "code",
   "execution_count": 118,
   "metadata": {},
   "outputs": [
    {
     "data": {
      "image/png": "[encoded data removed]",
      "text/plain": [
       "<Figure size 1152x720 with 2 Axes>"
      ]
     },
     "metadata": {},
     "output_type": "display_data"
    }
   ],
   "source": [
    "import seaborn as sns\n",
    "import matplotlib.pyplot as plt\n",
    "\n",
    "corrMatrix = I3bin_one_hot.corr()\n",
    "\n",
    "mask = np.zeros_like(corrMatrix)\n",
    "with sns.axes_style(\"white\"):\n",
    "    f, ax = plt.subplots(figsize=(16, 10))\n",
    "    ax = sns.heatmap(corrMatrix, mask=mask, vmax=.3, square=True,annot=True)"
   ]
  },
  {
   "cell_type": "markdown",
   "metadata": {},
   "source": [
    "## Feature Selections "
   ]
  },
  {
   "cell_type": "code",
   "execution_count": 120,
   "metadata": {},
   "outputs": [],
   "source": [
    "# Import your necessary dependencies\n",
    "from sklearn.feature_selection import RFE\n",
    "from sklearn.linear_model import LogisticRegression"
   ]
  },
  {
   "cell_type": "code",
   "execution_count": 121,
   "metadata": {},
   "outputs": [
    {
     "data": {
      "text/plain": [
       "22"
      ]
     },
     "execution_count": 121,
     "metadata": {},
     "output_type": "execute_result"
    }
   ],
   "source": [
    "len(I3bin_one_hot.columns)"
   ]
  },
  {
   "cell_type": "code",
   "execution_count": 122,
   "metadata": {},
   "outputs": [
    {
     "data": {
      "text/plain": [
       "22"
      ]
     },
     "execution_count": 122,
     "metadata": {},
     "output_type": "execute_result"
    }
   ],
   "source": [
    "len(I3bin_one_hot.columns)"
   ]
  },
  {
   "cell_type": "code",
   "execution_count": 123,
   "metadata": {},
   "outputs": [],
   "source": [
    "# because we add 3 this will be different \n",
    "# X = array[:,0:17] #features\n",
    "# Y1 = array[:,18] #target\n",
    "# Y2 = array[:,19]\n",
    "array = I3bin_one_hot.values\n",
    "X = array[:,0:19] #features\n",
    "Y1 = array[:,20] #target\n",
    "Y2 = array[:,21]"
   ]
  },
  {
   "cell_type": "code",
   "execution_count": 124,
   "metadata": {},
   "outputs": [
    {
     "data": {
      "text/plain": [
       "(660, 19)"
      ]
     },
     "execution_count": 124,
     "metadata": {},
     "output_type": "execute_result"
    }
   ],
   "source": [
    "X.shape"
   ]
  },
  {
   "cell_type": "code",
   "execution_count": 125,
   "metadata": {},
   "outputs": [
    {
     "data": {
      "text/plain": [
       "(660,)"
      ]
     },
     "execution_count": 125,
     "metadata": {},
     "output_type": "execute_result"
    }
   ],
   "source": [
    "Y1.shape"
   ]
  },
  {
   "cell_type": "code",
   "execution_count": 126,
   "metadata": {},
   "outputs": [
    {
     "data": {
      "text/plain": [
       "(660,)"
      ]
     },
     "execution_count": 126,
     "metadata": {},
     "output_type": "execute_result"
    }
   ],
   "source": [
    "Y2.shape"
   ]
  },
  {
   "cell_type": "code",
   "execution_count": 127,
   "metadata": {},
   "outputs": [
    {
     "data": {
      "text/plain": [
       "Index(['S1prime_norm', 'S2prime_norm', 'S3prime_norm', 'C1_norm', 'C2', 'C3`',\n",
       "       'C3_norm', 'C4', 'C5_norm', 'C6_norm', 'C7_norm', 'C5prime_norm',\n",
       "       'T1prime', 'T2prime_norm', 'T3prime_norm', 'T4prime_norm',\n",
       "       'T5prime_norm', 'industry_0', 'industry_1', 'industry_2', 'Y1', 'Y2'],\n",
       "      dtype='object')"
      ]
     },
     "execution_count": 127,
     "metadata": {},
     "output_type": "execute_result"
    }
   ],
   "source": [
    "I3bin_one_hot.columns"
   ]
  },
  {
   "cell_type": "markdown",
   "metadata": {},
   "source": [
    "These are our features selected for `Y1`. These features will be put into the Evaluation Code for our 'base score'. We can then use the `heatmap` created above to assist in added or subtracting features to get a better score. "
   ]
  },
  {
   "cell_type": "code",
   "execution_count": 128,
   "metadata": {},
   "outputs": [
    {
     "name": "stdout",
     "output_type": "stream",
     "text": [
      "Num Features: 5\n",
      "Selected Features: [False False False False  True False  True False False False  True False\n",
      "  True False False  True False False False]\n",
      "Feature Ranking: [15 14 10  7  1  6  1  3  2 11  1  5  1 12 13  1  8  9  4]\n"
     ]
    }
   ],
   "source": [
    "# Feature extraction\n",
    "model = LogisticRegression()\n",
    "rfe = RFE(model, 5)\n",
    "fit = rfe.fit(X, Y1)\n",
    "print(\"Num Features: %s\" % (fit.n_features_))\n",
    "print(\"Selected Features: %s\" % (fit.support_))\n",
    "print(\"Feature Ranking: %s\" % (fit.ranking_))"
   ]
  },
  {
   "cell_type": "code",
   "execution_count": 129,
   "metadata": {},
   "outputs": [],
   "source": [
    "# select y1 features\n",
    "y1_features = I3bin_one_hot[['C2','C3_norm','C7_norm','T1prime','T3prime_norm','Y1']]\n",
    "#y1_features = I3bin_one_hot[['S1prime_norm', 'S2prime_norm', 'S3prime_norm', 'C1_norm', 'C2', 'C3`',\n",
    "      # 'C3_norm', 'C4', 'C5_norm', 'C6_norm', 'C7_norm', 'C5prime_norm',\n",
    "      # 'T1prime', 'T2prime_norm', 'T3prime_norm', 'T4prime_norm',\n",
    "      # 'T5prime_norm', 'industry_0', 'industry_1', 'industry_2','Y1']]\n",
    "\n",
    "\n",
    "y1_features.to_csv('y1_features.csv')"
   ]
  },
  {
   "cell_type": "code",
   "execution_count": 130,
   "metadata": {},
   "outputs": [
    {
     "data": {
      "text/plain": [
       "Index(['S1prime_norm', 'S2prime_norm', 'S3prime_norm', 'C1_norm', 'C2', 'C3`',\n",
       "       'C3_norm', 'C4', 'C5_norm', 'C6_norm', 'C7_norm', 'C5prime_norm',\n",
       "       'T1prime', 'T2prime_norm', 'T3prime_norm', 'T4prime_norm',\n",
       "       'T5prime_norm', 'industry_0', 'industry_1', 'industry_2', 'Y1', 'Y2'],\n",
       "      dtype='object')"
      ]
     },
     "execution_count": 130,
     "metadata": {},
     "output_type": "execute_result"
    }
   ],
   "source": [
    "I3bin_one_hot.columns"
   ]
  },
  {
   "cell_type": "markdown",
   "metadata": {},
   "source": [
    "These are our features for `Y2`. "
   ]
  },
  {
   "cell_type": "code",
   "execution_count": 131,
   "metadata": {},
   "outputs": [
    {
     "name": "stdout",
     "output_type": "stream",
     "text": [
      "Num Features: 5\n",
      "Selected Features: [False False False False  True  True  True False False False False False\n",
      "  True False False  True False False False]\n",
      "Feature Ranking: [12 15  8 10  1  1  1  4  3 13  2  6  1  9 11  1  7 14  5]\n"
     ]
    }
   ],
   "source": [
    "# Feature extraction\n",
    "model = LogisticRegression()\n",
    "rfe = RFE(model, 5)\n",
    "fit = rfe.fit(X, Y2)\n",
    "print(\"Num Features: %s\" % (fit.n_features_))\n",
    "print(\"Selected Features: %s\" % (fit.support_))\n",
    "print(\"Feature Ranking: %s\" % (fit.ranking_))"
   ]
  },
  {
   "cell_type": "code",
   "execution_count": 132,
   "metadata": {},
   "outputs": [],
   "source": [
    "y2_features = I3bin_one_hot[['C2', 'C3`','C3_norm','T1prime','T3prime_norm','Y2']]\n",
    "#y2_features = I3bin_one_hot[['S1prime_norm', 'S2prime_norm', 'S3prime_norm', 'C1_norm', 'C2', 'C3`',\n",
    "     #  'C3_norm', 'C4', 'C5_norm', 'C6_norm', 'C7_norm', 'C5prime_norm',\n",
    "     #  'T1prime', 'T2prime_norm', 'T3prime_norm', 'T4prime_norm',\n",
    "     #  'T5prime_norm', 'industry_0', 'industry_1', 'industry_2','Y2']]\n",
    "\n",
    "y2_features.to_csv('y2_features.csv')"
   ]
  },
  {
   "cell_type": "markdown",
   "metadata": {},
   "source": [
    "## Conclusions \n",
    "\n",
    "After several rounds of feature selection and trial and error, we were able to acieve our highest validation scores. The most relevent features were as follows:\n",
    "- Y1 [`C7_norm, T3prime_norm, Y1`] \n",
    "validation score: 0.600\n",
    "\n",
    "- Y2 [`C3', T3prime_norm, Y2`]\n",
    "validation score: 0.594\n",
    "\n",
    "\n",
    "As a result, we can answer for our client which features are most important to the \"underpricing\" phenomenon most commenly seen in the stock market.\n",
    "\n",
    "For Pre-IPO Price Revision `Y1` the most influencial features are sales `C7` and number of real words used `T3`.\n",
    "For Post-IPO Initial Return `Y2` the most influencial features are the positive EPS dummy `C3'`* and the number of real words used `T3`.\n",
    "\n",
    "*It is important to note that `C3'` was a dummy variable set to one if `C3` was positive at the time of IPO. As a result, you could assume that a psoitive earnings per share `C3` value is important was discussing 'underpricing'"
   ]
  },
  {
   "cell_type": "markdown",
   "metadata": {},
   "source": [
    "# END"
   ]
  }
 ],
 "metadata": {
  "kernelspec": {
   "display_name": "Python 3",
   "language": "python",
   "name": "python3"
  },
  "language_info": {
   "codemirror_mode": {
    "name": "ipython",
    "version": 3
   },
   "file_extension": ".py",
   "mimetype": "text/x-python",
   "name": "python",
   "nbconvert_exporter": "python",
   "pygments_lexer": "ipython3",
   "version": "3.6.7"
  }
 },
 "nbformat": 4,
 "nbformat_minor": 4
}
