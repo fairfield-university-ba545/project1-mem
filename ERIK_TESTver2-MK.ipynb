{
 "cells": [
  {
   "cell_type": "code",
   "execution_count": 2,
   "metadata": {},
   "outputs": [],
   "source": [
    "# imports\n",
    "import pandas as pd\n",
    "import numpy as np"
   ]
  },
  {
   "cell_type": "code",
   "execution_count": 3,
   "metadata": {},
   "outputs": [],
   "source": [
    "# NOTE WHAT COLUMN TO INCLUDE AND WHAT NOT TO INCLUDE"
   ]
  },
  {
   "cell_type": "markdown",
   "metadata": {},
   "source": [
    "C Column \n",
    "- can be 0 and less than 0, no dash\n",
    "- S can be 0 CANNOT be less than 0, no dash\n",
    "- T3-T5 --> can be 0, and less than 0, no dash\n",
    "- T1 --> CANNOT be 0, less than 0, no dashes \n",
    "- T2 --> CANNOT be 0, less than 0, no dashes\n",
    "- P --> CANNOT be 0, less than 0, no dashes"
   ]
  },
  {
   "cell_type": "code",
   "execution_count": 4,
   "metadata": {},
   "outputs": [
    {
     "data": {
      "text/html": [
       "<div>\n",
       "<style scoped>\n",
       "    .dataframe tbody tr th:only-of-type {\n",
       "        vertical-align: middle;\n",
       "    }\n",
       "\n",
       "    .dataframe tbody tr th {\n",
       "        vertical-align: top;\n",
       "    }\n",
       "\n",
       "    .dataframe thead th {\n",
       "        text-align: right;\n",
       "    }\n",
       "</style>\n",
       "<table border=\"1\" class=\"dataframe\">\n",
       "  <thead>\n",
       "    <tr style=\"text-align: right;\">\n",
       "      <th></th>\n",
       "      <th>I1</th>\n",
       "      <th>I2</th>\n",
       "      <th>I3</th>\n",
       "      <th>P(IPO)</th>\n",
       "      <th>P(H)</th>\n",
       "      <th>P(L)</th>\n",
       "      <th>P(1Day)</th>\n",
       "      <th>C1</th>\n",
       "      <th>C2</th>\n",
       "      <th>C3</th>\n",
       "      <th>...</th>\n",
       "      <th>C6</th>\n",
       "      <th>C7</th>\n",
       "      <th>T1</th>\n",
       "      <th>T2</th>\n",
       "      <th>T3</th>\n",
       "      <th>T4</th>\n",
       "      <th>T5</th>\n",
       "      <th>S1</th>\n",
       "      <th>S2</th>\n",
       "      <th>S3</th>\n",
       "    </tr>\n",
       "  </thead>\n",
       "  <tbody>\n",
       "    <tr>\n",
       "      <th>0</th>\n",
       "      <td>AATI</td>\n",
       "      <td>ADVANCED ANALOGIC TECHNOLOGIES INC</td>\n",
       "      <td>3674</td>\n",
       "      <td>10.0</td>\n",
       "      <td>9.5</td>\n",
       "      <td>8.5</td>\n",
       "      <td>11.870000</td>\n",
       "      <td>122.0</td>\n",
       "      <td>1.0</td>\n",
       "      <td>3.43</td>\n",
       "      <td>...</td>\n",
       "      <td>10600000.0</td>\n",
       "      <td>51.345</td>\n",
       "      <td>470.0</td>\n",
       "      <td>12719.0</td>\n",
       "      <td>11560.0</td>\n",
       "      <td>301.0</td>\n",
       "      <td>690.0</td>\n",
       "      <td>62.0</td>\n",
       "      <td>117.0</td>\n",
       "      <td>139.0</td>\n",
       "    </tr>\n",
       "    <tr>\n",
       "      <th>1</th>\n",
       "      <td>ABPI</td>\n",
       "      <td>ACCENTIA BIOPHARMACEUTICALS INC</td>\n",
       "      <td>2834</td>\n",
       "      <td>8.0</td>\n",
       "      <td>10.0</td>\n",
       "      <td>8.0</td>\n",
       "      <td>7.250000</td>\n",
       "      <td>259.0</td>\n",
       "      <td>0.0</td>\n",
       "      <td>-1.62</td>\n",
       "      <td>...</td>\n",
       "      <td>2400000.0</td>\n",
       "      <td>25.936</td>\n",
       "      <td>791.0</td>\n",
       "      <td>21792.0</td>\n",
       "      <td>19585.0</td>\n",
       "      <td>510.0</td>\n",
       "      <td>1120.0</td>\n",
       "      <td>71.0</td>\n",
       "      <td>242.0</td>\n",
       "      <td>237.0</td>\n",
       "    </tr>\n",
       "    <tr>\n",
       "      <th>2</th>\n",
       "      <td>ACAD</td>\n",
       "      <td>ACADIA PHARMACEUTICALS INC</td>\n",
       "      <td>2834</td>\n",
       "      <td>7.0</td>\n",
       "      <td>14.0</td>\n",
       "      <td>12.0</td>\n",
       "      <td>6.700000</td>\n",
       "      <td>90.0</td>\n",
       "      <td>1.0</td>\n",
       "      <td>-1.24</td>\n",
       "      <td>...</td>\n",
       "      <td>5000000.0</td>\n",
       "      <td>7.378</td>\n",
       "      <td>201.0</td>\n",
       "      <td>5262.0</td>\n",
       "      <td>4785.0</td>\n",
       "      <td>128.0</td>\n",
       "      <td>325.0</td>\n",
       "      <td>61.0</td>\n",
       "      <td>33.0</td>\n",
       "      <td>60.0</td>\n",
       "    </tr>\n",
       "    <tr>\n",
       "      <th>3</th>\n",
       "      <td>ACHN</td>\n",
       "      <td>ACHILLION PHARMACEUTICALS INC</td>\n",
       "      <td>2834</td>\n",
       "      <td>11.5</td>\n",
       "      <td>16.0</td>\n",
       "      <td>14.0</td>\n",
       "      <td>12.390000</td>\n",
       "      <td>209.0</td>\n",
       "      <td>1.0</td>\n",
       "      <td>-0.91</td>\n",
       "      <td>...</td>\n",
       "      <td>4500000.0</td>\n",
       "      <td>8.526</td>\n",
       "      <td>328.0</td>\n",
       "      <td>8259.0</td>\n",
       "      <td>7574.0</td>\n",
       "      <td>177.0</td>\n",
       "      <td>509.0</td>\n",
       "      <td>80.0</td>\n",
       "      <td>59.0</td>\n",
       "      <td>110.0</td>\n",
       "    </tr>\n",
       "    <tr>\n",
       "      <th>4</th>\n",
       "      <td>ACLI</td>\n",
       "      <td>AMERICAN COMMERCIAL LINES INC.</td>\n",
       "      <td>4492</td>\n",
       "      <td>21.0</td>\n",
       "      <td>21.0</td>\n",
       "      <td>19.0</td>\n",
       "      <td>56.599998</td>\n",
       "      <td>80.0</td>\n",
       "      <td>1.0</td>\n",
       "      <td>0.07</td>\n",
       "      <td>...</td>\n",
       "      <td>8250000.0</td>\n",
       "      <td>632.298</td>\n",
       "      <td>572.0</td>\n",
       "      <td>14830.0</td>\n",
       "      <td>13176.0</td>\n",
       "      <td>336.0</td>\n",
       "      <td>720.0</td>\n",
       "      <td>67.0</td>\n",
       "      <td>149.0</td>\n",
       "      <td>167.0</td>\n",
       "    </tr>\n",
       "  </tbody>\n",
       "</table>\n",
       "<p>5 rows × 22 columns</p>\n",
       "</div>"
      ],
      "text/plain": [
       "     I1                                  I2    I3  P(IPO)  P(H)  P(L)  \\\n",
       "0  AATI  ADVANCED ANALOGIC TECHNOLOGIES INC  3674    10.0   9.5   8.5   \n",
       "1  ABPI     ACCENTIA BIOPHARMACEUTICALS INC  2834     8.0  10.0   8.0   \n",
       "2  ACAD          ACADIA PHARMACEUTICALS INC  2834     7.0  14.0  12.0   \n",
       "3  ACHN       ACHILLION PHARMACEUTICALS INC  2834    11.5  16.0  14.0   \n",
       "4  ACLI     AMERICAN COMMERCIAL LINES INC.   4492    21.0  21.0  19.0   \n",
       "\n",
       "     P(1Day)     C1   C2    C3  ...          C6       C7     T1       T2  \\\n",
       "0  11.870000  122.0  1.0  3.43  ...  10600000.0   51.345  470.0  12719.0   \n",
       "1   7.250000  259.0  0.0 -1.62  ...   2400000.0   25.936  791.0  21792.0   \n",
       "2   6.700000   90.0  1.0 -1.24  ...   5000000.0    7.378  201.0   5262.0   \n",
       "3  12.390000  209.0  1.0 -0.91  ...   4500000.0    8.526  328.0   8259.0   \n",
       "4  56.599998   80.0  1.0  0.07  ...   8250000.0  632.298  572.0  14830.0   \n",
       "\n",
       "        T3     T4      T5    S1     S2     S3  \n",
       "0  11560.0  301.0   690.0  62.0  117.0  139.0  \n",
       "1  19585.0  510.0  1120.0  71.0  242.0  237.0  \n",
       "2   4785.0  128.0   325.0  61.0   33.0   60.0  \n",
       "3   7574.0  177.0   509.0  80.0   59.0  110.0  \n",
       "4  13176.0  336.0   720.0  67.0  149.0  167.0  \n",
       "\n",
       "[5 rows x 22 columns]"
      ]
     },
     "execution_count": 4,
     "metadata": {},
     "output_type": "execute_result"
    }
   ],
   "source": [
    "# read in the whole file and '-' as NA values \n",
    "data = pd.read_excel('Competition1_raw_data.xlsx', na_values=r'-')\n",
    "                    #dtype={'P(IPO)': float, 'P(1Day)': float})\n",
    "# define dashes as missing --> 0 or NaN\n",
    "data.head(5)"
   ]
  },
  {
   "cell_type": "code",
   "execution_count": 5,
   "metadata": {},
   "outputs": [
    {
     "name": "stdout",
     "output_type": "stream",
     "text": [
      "<class 'pandas.core.frame.DataFrame'>\n",
      "RangeIndex: 682 entries, 0 to 681\n",
      "Data columns (total 22 columns):\n",
      "I1         682 non-null object\n",
      "I2         682 non-null object\n",
      "I3         674 non-null object\n",
      "P(IPO)     677 non-null float64\n",
      "P(H)       672 non-null float64\n",
      "P(L)       672 non-null float64\n",
      "P(1Day)    660 non-null float64\n",
      "C1         660 non-null float64\n",
      "C2         660 non-null float64\n",
      "C3         646 non-null float64\n",
      "C4         660 non-null float64\n",
      "C5         676 non-null float64\n",
      "C6         676 non-null float64\n",
      "C7         610 non-null float64\n",
      "T1         681 non-null float64\n",
      "T2         681 non-null float64\n",
      "T3         681 non-null float64\n",
      "T4         681 non-null float64\n",
      "T5         681 non-null float64\n",
      "S1         681 non-null float64\n",
      "S2         681 non-null float64\n",
      "S3         681 non-null float64\n",
      "dtypes: float64(19), object(3)\n",
      "memory usage: 117.3+ KB\n"
     ]
    }
   ],
   "source": [
    "data.info()"
   ]
  },
  {
   "cell_type": "code",
   "execution_count": 6,
   "metadata": {},
   "outputs": [
    {
     "data": {
      "text/html": [
       "<div>\n",
       "<style scoped>\n",
       "    .dataframe tbody tr th:only-of-type {\n",
       "        vertical-align: middle;\n",
       "    }\n",
       "\n",
       "    .dataframe tbody tr th {\n",
       "        vertical-align: top;\n",
       "    }\n",
       "\n",
       "    .dataframe thead th {\n",
       "        text-align: right;\n",
       "    }\n",
       "</style>\n",
       "<table border=\"1\" class=\"dataframe\">\n",
       "  <thead>\n",
       "    <tr style=\"text-align: right;\">\n",
       "      <th></th>\n",
       "      <th>P(IPO)</th>\n",
       "      <th>P(H)</th>\n",
       "      <th>P(L)</th>\n",
       "      <th>P(1Day)</th>\n",
       "      <th>C1</th>\n",
       "      <th>C2</th>\n",
       "      <th>C3</th>\n",
       "      <th>C4</th>\n",
       "      <th>C5</th>\n",
       "      <th>C6</th>\n",
       "      <th>C7</th>\n",
       "      <th>T1</th>\n",
       "      <th>T2</th>\n",
       "      <th>T3</th>\n",
       "      <th>T4</th>\n",
       "      <th>T5</th>\n",
       "      <th>S1</th>\n",
       "      <th>S2</th>\n",
       "      <th>S3</th>\n",
       "    </tr>\n",
       "  </thead>\n",
       "  <tbody>\n",
       "    <tr>\n",
       "      <th>count</th>\n",
       "      <td>677.000000</td>\n",
       "      <td>672.000000</td>\n",
       "      <td>672.000000</td>\n",
       "      <td>660.000000</td>\n",
       "      <td>660.000000</td>\n",
       "      <td>660.000000</td>\n",
       "      <td>646.000000</td>\n",
       "      <td>660.000000</td>\n",
       "      <td>6.760000e+02</td>\n",
       "      <td>6.760000e+02</td>\n",
       "      <td>610.000000</td>\n",
       "      <td>681.000000</td>\n",
       "      <td>681.000000</td>\n",
       "      <td>681.000000</td>\n",
       "      <td>681.000000</td>\n",
       "      <td>681.000000</td>\n",
       "      <td>681.000000</td>\n",
       "      <td>681.000000</td>\n",
       "      <td>681.000000</td>\n",
       "    </tr>\n",
       "    <tr>\n",
       "      <th>mean</th>\n",
       "      <td>13.837666</td>\n",
       "      <td>15.481190</td>\n",
       "      <td>13.515045</td>\n",
       "      <td>25.934766</td>\n",
       "      <td>149.728788</td>\n",
       "      <td>0.859091</td>\n",
       "      <td>1.788904</td>\n",
       "      <td>0.007282</td>\n",
       "      <td>4.935776e+07</td>\n",
       "      <td>1.241519e+07</td>\n",
       "      <td>500.459962</td>\n",
       "      <td>465.634361</td>\n",
       "      <td>12758.606461</td>\n",
       "      <td>11395.844347</td>\n",
       "      <td>294.353891</td>\n",
       "      <td>679.220264</td>\n",
       "      <td>68.421439</td>\n",
       "      <td>120.104258</td>\n",
       "      <td>144.759178</td>\n",
       "    </tr>\n",
       "    <tr>\n",
       "      <th>std</th>\n",
       "      <td>6.053731</td>\n",
       "      <td>6.653429</td>\n",
       "      <td>5.835646</td>\n",
       "      <td>73.234948</td>\n",
       "      <td>152.817467</td>\n",
       "      <td>0.348192</td>\n",
       "      <td>162.666532</td>\n",
       "      <td>0.033318</td>\n",
       "      <td>1.043764e+08</td>\n",
       "      <td>2.512855e+07</td>\n",
       "      <td>1648.337634</td>\n",
       "      <td>175.741647</td>\n",
       "      <td>5449.644597</td>\n",
       "      <td>4839.670179</td>\n",
       "      <td>121.532637</td>\n",
       "      <td>472.914323</td>\n",
       "      <td>39.096525</td>\n",
       "      <td>84.828959</td>\n",
       "      <td>69.276285</td>\n",
       "    </tr>\n",
       "    <tr>\n",
       "      <th>min</th>\n",
       "      <td>3.000000</td>\n",
       "      <td>0.000000</td>\n",
       "      <td>3.000000</td>\n",
       "      <td>0.000000</td>\n",
       "      <td>10.000000</td>\n",
       "      <td>0.000000</td>\n",
       "      <td>-786.239000</td>\n",
       "      <td>-0.162352</td>\n",
       "      <td>3.693227e+06</td>\n",
       "      <td>5.250000e+05</td>\n",
       "      <td>0.074000</td>\n",
       "      <td>132.000000</td>\n",
       "      <td>0.000000</td>\n",
       "      <td>0.000000</td>\n",
       "      <td>0.000000</td>\n",
       "      <td>-1.000000</td>\n",
       "      <td>-1.000000</td>\n",
       "      <td>20.000000</td>\n",
       "      <td>26.000000</td>\n",
       "    </tr>\n",
       "    <tr>\n",
       "      <th>25%</th>\n",
       "      <td>10.000000</td>\n",
       "      <td>12.500000</td>\n",
       "      <td>11.000000</td>\n",
       "      <td>11.000000</td>\n",
       "      <td>85.000000</td>\n",
       "      <td>1.000000</td>\n",
       "      <td>-0.852500</td>\n",
       "      <td>-0.013927</td>\n",
       "      <td>1.871417e+07</td>\n",
       "      <td>5.000000e+06</td>\n",
       "      <td>37.245750</td>\n",
       "      <td>351.000000</td>\n",
       "      <td>9195.000000</td>\n",
       "      <td>8162.000000</td>\n",
       "      <td>213.000000</td>\n",
       "      <td>462.000000</td>\n",
       "      <td>45.000000</td>\n",
       "      <td>73.000000</td>\n",
       "      <td>100.000000</td>\n",
       "    </tr>\n",
       "    <tr>\n",
       "      <th>50%</th>\n",
       "      <td>13.500000</td>\n",
       "      <td>15.000000</td>\n",
       "      <td>13.000000</td>\n",
       "      <td>14.845000</td>\n",
       "      <td>107.000000</td>\n",
       "      <td>1.000000</td>\n",
       "      <td>0.010000</td>\n",
       "      <td>0.009125</td>\n",
       "      <td>2.740018e+07</td>\n",
       "      <td>7.398704e+06</td>\n",
       "      <td>103.833000</td>\n",
       "      <td>444.000000</td>\n",
       "      <td>12045.000000</td>\n",
       "      <td>10785.000000</td>\n",
       "      <td>279.000000</td>\n",
       "      <td>624.000000</td>\n",
       "      <td>60.000000</td>\n",
       "      <td>100.000000</td>\n",
       "      <td>134.000000</td>\n",
       "    </tr>\n",
       "    <tr>\n",
       "      <th>75%</th>\n",
       "      <td>17.000000</td>\n",
       "      <td>17.000000</td>\n",
       "      <td>15.000000</td>\n",
       "      <td>20.485000</td>\n",
       "      <td>155.250000</td>\n",
       "      <td>1.000000</td>\n",
       "      <td>0.470000</td>\n",
       "      <td>0.031571</td>\n",
       "      <td>4.980786e+07</td>\n",
       "      <td>1.200000e+07</td>\n",
       "      <td>331.138000</td>\n",
       "      <td>551.000000</td>\n",
       "      <td>15241.000000</td>\n",
       "      <td>13760.000000</td>\n",
       "      <td>354.000000</td>\n",
       "      <td>795.000000</td>\n",
       "      <td>85.000000</td>\n",
       "      <td>142.000000</td>\n",
       "      <td>173.000000</td>\n",
       "    </tr>\n",
       "    <tr>\n",
       "      <th>max</th>\n",
       "      <td>85.000000</td>\n",
       "      <td>135.000000</td>\n",
       "      <td>108.000000</td>\n",
       "      <td>1159.200562</td>\n",
       "      <td>2087.000000</td>\n",
       "      <td>1.000000</td>\n",
       "      <td>3864.500000</td>\n",
       "      <td>0.092896</td>\n",
       "      <td>2.138085e+09</td>\n",
       "      <td>4.212336e+08</td>\n",
       "      <td>30683.000000</td>\n",
       "      <td>1750.000000</td>\n",
       "      <td>49056.000000</td>\n",
       "      <td>43952.000000</td>\n",
       "      <td>1058.000000</td>\n",
       "      <td>10277.000000</td>\n",
       "      <td>309.000000</td>\n",
       "      <td>944.000000</td>\n",
       "      <td>883.000000</td>\n",
       "    </tr>\n",
       "  </tbody>\n",
       "</table>\n",
       "</div>"
      ],
      "text/plain": [
       "           P(IPO)        P(H)        P(L)      P(1Day)           C1  \\\n",
       "count  677.000000  672.000000  672.000000   660.000000   660.000000   \n",
       "mean    13.837666   15.481190   13.515045    25.934766   149.728788   \n",
       "std      6.053731    6.653429    5.835646    73.234948   152.817467   \n",
       "min      3.000000    0.000000    3.000000     0.000000    10.000000   \n",
       "25%     10.000000   12.500000   11.000000    11.000000    85.000000   \n",
       "50%     13.500000   15.000000   13.000000    14.845000   107.000000   \n",
       "75%     17.000000   17.000000   15.000000    20.485000   155.250000   \n",
       "max     85.000000  135.000000  108.000000  1159.200562  2087.000000   \n",
       "\n",
       "               C2           C3          C4            C5            C6  \\\n",
       "count  660.000000   646.000000  660.000000  6.760000e+02  6.760000e+02   \n",
       "mean     0.859091     1.788904    0.007282  4.935776e+07  1.241519e+07   \n",
       "std      0.348192   162.666532    0.033318  1.043764e+08  2.512855e+07   \n",
       "min      0.000000  -786.239000   -0.162352  3.693227e+06  5.250000e+05   \n",
       "25%      1.000000    -0.852500   -0.013927  1.871417e+07  5.000000e+06   \n",
       "50%      1.000000     0.010000    0.009125  2.740018e+07  7.398704e+06   \n",
       "75%      1.000000     0.470000    0.031571  4.980786e+07  1.200000e+07   \n",
       "max      1.000000  3864.500000    0.092896  2.138085e+09  4.212336e+08   \n",
       "\n",
       "                 C7           T1            T2            T3           T4  \\\n",
       "count    610.000000   681.000000    681.000000    681.000000   681.000000   \n",
       "mean     500.459962   465.634361  12758.606461  11395.844347   294.353891   \n",
       "std     1648.337634   175.741647   5449.644597   4839.670179   121.532637   \n",
       "min        0.074000   132.000000      0.000000      0.000000     0.000000   \n",
       "25%       37.245750   351.000000   9195.000000   8162.000000   213.000000   \n",
       "50%      103.833000   444.000000  12045.000000  10785.000000   279.000000   \n",
       "75%      331.138000   551.000000  15241.000000  13760.000000   354.000000   \n",
       "max    30683.000000  1750.000000  49056.000000  43952.000000  1058.000000   \n",
       "\n",
       "                 T5          S1          S2          S3  \n",
       "count    681.000000  681.000000  681.000000  681.000000  \n",
       "mean     679.220264   68.421439  120.104258  144.759178  \n",
       "std      472.914323   39.096525   84.828959   69.276285  \n",
       "min       -1.000000   -1.000000   20.000000   26.000000  \n",
       "25%      462.000000   45.000000   73.000000  100.000000  \n",
       "50%      624.000000   60.000000  100.000000  134.000000  \n",
       "75%      795.000000   85.000000  142.000000  173.000000  \n",
       "max    10277.000000  309.000000  944.000000  883.000000  "
      ]
     },
     "execution_count": 6,
     "metadata": {},
     "output_type": "execute_result"
    }
   ],
   "source": [
    "data.describe()"
   ]
  },
  {
   "cell_type": "code",
   "execution_count": 7,
   "metadata": {},
   "outputs": [],
   "source": [
    "# replace with nan\n",
    "data.loc[(data['S1'] < 0),'S1'] = np.nan\n",
    "data.loc[(data['T2'] == 0),'T2'] = np.nan\n",
    "data.loc[(data['T5'] < 0),'T5'] = np.nan\n",
    "\n",
    "# drop - for P values \n",
    "data.dropna(subset=['P(IPO)', 'P(H)', 'P(L)', 'P(1Day)'], inplace=True)\n",
    "\n",
    "# impute \n",
    "data['S1'] = data['S1'].fillna(data['S1'].median())\n",
    "data['T2'] = data['T2'].fillna(data['T2'].median())\n",
    "data['T5'] = data['T5'].fillna(data['T5'].median())\n",
    "data['C3_impute'] = data['C3'].fillna(data['C3'].median())\n",
    "data['C7_impute'] = data['C7'].fillna(data['C7'].median())\n",
    "\n",
    "# exclude not imputed C3 and C7\n",
    "data = data[['I1', 'I2', 'I3', 'P(IPO)', 'P(H)', 'P(L)', 'P(1Day)', 'C1', 'C2',\n",
    "       'C4', 'C5', 'C6', 'T1', 'T2', 'T3', 'T4', 'T5', 'S1', 'S2', 'S3',\n",
    "       'C3_impute', 'C7_impute']]"
   ]
  },
  {
   "cell_type": "code",
   "execution_count": 8,
   "metadata": {},
   "outputs": [],
   "source": [
    "# P's are taken care off \n",
    "# S taken care off \n",
    "# T taken care off \n",
    "# C taken care off "
   ]
  },
  {
   "cell_type": "code",
   "execution_count": 9,
   "metadata": {},
   "outputs": [
    {
     "data": {
      "text/html": [
       "<div>\n",
       "<style scoped>\n",
       "    .dataframe tbody tr th:only-of-type {\n",
       "        vertical-align: middle;\n",
       "    }\n",
       "\n",
       "    .dataframe tbody tr th {\n",
       "        vertical-align: top;\n",
       "    }\n",
       "\n",
       "    .dataframe thead th {\n",
       "        text-align: right;\n",
       "    }\n",
       "</style>\n",
       "<table border=\"1\" class=\"dataframe\">\n",
       "  <thead>\n",
       "    <tr style=\"text-align: right;\">\n",
       "      <th></th>\n",
       "      <th>I1</th>\n",
       "      <th>I2</th>\n",
       "      <th>I3</th>\n",
       "      <th>P(IPO)</th>\n",
       "      <th>P(H)</th>\n",
       "      <th>P(L)</th>\n",
       "      <th>P(1Day)</th>\n",
       "      <th>C1</th>\n",
       "      <th>C2</th>\n",
       "      <th>C4</th>\n",
       "      <th>...</th>\n",
       "      <th>T1</th>\n",
       "      <th>T2</th>\n",
       "      <th>T3</th>\n",
       "      <th>T4</th>\n",
       "      <th>T5</th>\n",
       "      <th>S1</th>\n",
       "      <th>S2</th>\n",
       "      <th>S3</th>\n",
       "      <th>C3_impute</th>\n",
       "      <th>C7_impute</th>\n",
       "    </tr>\n",
       "  </thead>\n",
       "  <tbody>\n",
       "  </tbody>\n",
       "</table>\n",
       "<p>0 rows × 22 columns</p>\n",
       "</div>"
      ],
      "text/plain": [
       "Empty DataFrame\n",
       "Columns: [I1, I2, I3, P(IPO), P(H), P(L), P(1Day), C1, C2, C4, C5, C6, T1, T2, T3, T4, T5, S1, S2, S3, C3_impute, C7_impute]\n",
       "Index: []\n",
       "\n",
       "[0 rows x 22 columns]"
      ]
     },
     "execution_count": 9,
     "metadata": {},
     "output_type": "execute_result"
    }
   ],
   "source": [
    "data[data['T5']==0]"
   ]
  },
  {
   "cell_type": "code",
   "execution_count": 10,
   "metadata": {},
   "outputs": [
    {
     "name": "stdout",
     "output_type": "stream",
     "text": [
      "<class 'pandas.core.frame.DataFrame'>\n",
      "Int64Index: 660 entries, 0 to 681\n",
      "Data columns (total 22 columns):\n",
      "I1           660 non-null object\n",
      "I2           660 non-null object\n",
      "I3           660 non-null object\n",
      "P(IPO)       660 non-null float64\n",
      "P(H)         660 non-null float64\n",
      "P(L)         660 non-null float64\n",
      "P(1Day)      660 non-null float64\n",
      "C1           660 non-null float64\n",
      "C2           660 non-null float64\n",
      "C4           660 non-null float64\n",
      "C5           660 non-null float64\n",
      "C6           660 non-null float64\n",
      "T1           660 non-null float64\n",
      "T2           660 non-null float64\n",
      "T3           660 non-null float64\n",
      "T4           660 non-null float64\n",
      "T5           660 non-null float64\n",
      "S1           660 non-null float64\n",
      "S2           660 non-null float64\n",
      "S3           660 non-null float64\n",
      "C3_impute    660 non-null float64\n",
      "C7_impute    660 non-null float64\n",
      "dtypes: float64(19), object(3)\n",
      "memory usage: 118.6+ KB\n"
     ]
    }
   ],
   "source": [
    "data.info()"
   ]
  },
  {
   "cell_type": "code",
   "execution_count": 11,
   "metadata": {},
   "outputs": [
    {
     "data": {
      "text/plain": [
       "I1           0\n",
       "I2           0\n",
       "I3           0\n",
       "P(IPO)       0\n",
       "P(H)         0\n",
       "P(L)         0\n",
       "P(1Day)      0\n",
       "C1           0\n",
       "C2           0\n",
       "C4           0\n",
       "C5           0\n",
       "C6           0\n",
       "T1           0\n",
       "T2           0\n",
       "T3           0\n",
       "T4           0\n",
       "T5           0\n",
       "S1           0\n",
       "S2           0\n",
       "S3           0\n",
       "C3_impute    0\n",
       "C7_impute    0\n",
       "dtype: int64"
      ]
     },
     "execution_count": 11,
     "metadata": {},
     "output_type": "execute_result"
    }
   ],
   "source": [
    "data.isnull().sum()"
   ]
  },
  {
   "cell_type": "code",
   "execution_count": 12,
   "metadata": {},
   "outputs": [
    {
     "data": {
      "text/html": [
       "<div>\n",
       "<style scoped>\n",
       "    .dataframe tbody tr th:only-of-type {\n",
       "        vertical-align: middle;\n",
       "    }\n",
       "\n",
       "    .dataframe tbody tr th {\n",
       "        vertical-align: top;\n",
       "    }\n",
       "\n",
       "    .dataframe thead th {\n",
       "        text-align: right;\n",
       "    }\n",
       "</style>\n",
       "<table border=\"1\" class=\"dataframe\">\n",
       "  <thead>\n",
       "    <tr style=\"text-align: right;\">\n",
       "      <th></th>\n",
       "      <th>I1</th>\n",
       "      <th>I2</th>\n",
       "      <th>I3</th>\n",
       "      <th>P(IPO)</th>\n",
       "      <th>P(H)</th>\n",
       "      <th>P(L)</th>\n",
       "      <th>P(1Day)</th>\n",
       "      <th>C1</th>\n",
       "      <th>C2</th>\n",
       "      <th>C4</th>\n",
       "      <th>...</th>\n",
       "      <th>T1</th>\n",
       "      <th>T2</th>\n",
       "      <th>T3</th>\n",
       "      <th>T4</th>\n",
       "      <th>T5</th>\n",
       "      <th>S1</th>\n",
       "      <th>S2</th>\n",
       "      <th>S3</th>\n",
       "      <th>C3_impute</th>\n",
       "      <th>C7_impute</th>\n",
       "    </tr>\n",
       "  </thead>\n",
       "  <tbody>\n",
       "  </tbody>\n",
       "</table>\n",
       "<p>0 rows × 22 columns</p>\n",
       "</div>"
      ],
      "text/plain": [
       "Empty DataFrame\n",
       "Columns: [I1, I2, I3, P(IPO), P(H), P(L), P(1Day), C1, C2, C4, C5, C6, T1, T2, T3, T4, T5, S1, S2, S3, C3_impute, C7_impute]\n",
       "Index: []\n",
       "\n",
       "[0 rows x 22 columns]"
      ]
     },
     "execution_count": 12,
     "metadata": {},
     "output_type": "execute_result"
    }
   ],
   "source": [
    "data[data['P(1Day)']<0]"
   ]
  },
  {
   "cell_type": "code",
   "execution_count": 13,
   "metadata": {},
   "outputs": [],
   "source": [
    "# C2 to int (booleon)\n",
    "data['C2'] = data['C2'].astype(int)\n",
    "\n",
    "# P(mid) calculation and add it to the column \n",
    "# P(mid) = (P(H)+P(L))/2\n",
    "data['P(mid)'] = (data['P(H)'] + data['P(L)'])/2\n",
    "\n",
    "# targets to be calculated\n",
    "# make it equal to P(IPO) then we will just replace\n",
    "#data['Y1'] = data['P(IPO)']\n",
    "#data['Y2'] = data['P(IPO)']\n",
    "\n",
    "# replace Y1 and change dtype to binary\n",
    "data['Y1'] = np.where((data['P(IPO)'] < data['P(mid)']), 1, 0)\n",
    "data['Y2'] = np.where((data['P(IPO)'] > data['P(mid)']), 1, 0)\n",
    "#data.loc[(data['Y1'] < data['P(mid)']),'Y1'] = 1\n",
    "#data.loc[(data['Y1'] > data['P(mid)']),'Y1'] = 0\n",
    "#data['Y1'] = data['Y1'].astype(int)\n",
    "\n",
    "# replace Y2\n",
    "#data.loc[(data['Y2'] < data['P(1Day)']),'Y2'] = 1\n",
    "#data.loc[(data['Y2'] > data['P(1Day)']),'Y2'] = 0\n",
    "#data['Y2'] = data['Y2'].astype(int)\n",
    "\n",
    "# Control values to be calculated\n",
    "data['C3`'] = data['C3_impute']\n",
    "data['C3`'] = np.where((data['C3_impute'] > 0),1,data['C3_impute'])\n",
    "data['C3`'] = np.where((data['C3_impute'] < 0),0,data['C3_impute'])\n",
    "data['C3`'] = data['C3`'].astype(int)\n",
    "\n",
    "# C5`\n",
    "data['C5`'] = data['C5']/data['C6']\n",
    "data['C5`'] = data['C5`'].astype(float)\n",
    "\n",
    "# C6`\n",
    "data['C6calc'] = ((data['P(IPO)'] - data['P(mid)']) / data['P(mid)']) * 1\n",
    "data['C6`'] = 0\n",
    "data['C6`'] = np.where((data['P(IPO)'] > data['P(mid)']),data['C6calc'],data['C6`'])\n",
    "data['C6`'] = np.where((data['P(IPO)'] < data['P(mid)']),0,data['C6`'])\n",
    "data['C6`'] = np.where((data['P(mid)']==0),0,data['C6`'])\n",
    "data['C6`'] = data['C6`'].astype(float)"
   ]
  },
  {
   "cell_type": "code",
   "execution_count": 14,
   "metadata": {},
   "outputs": [],
   "source": [
    "# replace T3, and T4\n",
    "data.loc[(data['T3'] == 0),'T3'] = np.nan\n",
    "data.loc[(data['T4'] == 0),'T4'] = np.nan\n",
    "\n",
    "# fillna\n",
    "data['T3'] = data['T3'].fillna(data['T3'].median())\n",
    "data['T4'] = data['T4'].fillna(data['T4'].median())"
   ]
  },
  {
   "cell_type": "code",
   "execution_count": 15,
   "metadata": {},
   "outputs": [],
   "source": [
    "#data.loc[data['T4'] == '-'] \n",
    "#data.drop(217,inplace=True)\n",
    "#percent of long sentences\n",
    "data[\"T1prime\"] = data[\"T4\"].astype(float)/data[\"T1\"].astype(float)\n",
    "# T2\n",
    "data['T2prime'] = data['T5'].astype(float)/data['T2'].astype(float)\n",
    "#percent of real words\n",
    "data[\"T3prime\"] = data[\"T3\"].astype(float)/data[\"T2\"].astype(float)\n",
    "#percent of long sentences\n",
    "data[\"T4prime\"] = data[\"T1\"].astype(float)/data[\"T4\"].astype(float)\n",
    "# percent of long words \n",
    "data[\"T5prime\"] = data[\"T5\"].astype(float)/data[\"T2\"].astype(float)\n",
    "#percent of positive words\n",
    "data[\"S1prime\"] = data[\"S1\"].astype(float)/data[\"T2\"].astype(float)\n",
    "#percent of negative words\n",
    "data[\"S2prime\"] = data[\"S2\"].astype(float)/data[\"T2\"].astype(float)\n",
    "#percent of uncertain words\n",
    "data[\"S3prime\"] = data[\"S3\"].astype(float)/data[\"T2\"].astype(float)"
   ]
  },
  {
   "cell_type": "code",
   "execution_count": 16,
   "metadata": {},
   "outputs": [
    {
     "name": "stdout",
     "output_type": "stream",
     "text": [
      "<class 'pandas.core.frame.DataFrame'>\n",
      "Int64Index: 660 entries, 0 to 681\n",
      "Data columns (total 37 columns):\n",
      "I1           660 non-null object\n",
      "I2           660 non-null object\n",
      "I3           660 non-null object\n",
      "P(IPO)       660 non-null float64\n",
      "P(H)         660 non-null float64\n",
      "P(L)         660 non-null float64\n",
      "P(1Day)      660 non-null float64\n",
      "C1           660 non-null float64\n",
      "C2           660 non-null int64\n",
      "C4           660 non-null float64\n",
      "C5           660 non-null float64\n",
      "C6           660 non-null float64\n",
      "T1           660 non-null float64\n",
      "T2           660 non-null float64\n",
      "T3           660 non-null float64\n",
      "T4           660 non-null float64\n",
      "T5           660 non-null float64\n",
      "S1           660 non-null float64\n",
      "S2           660 non-null float64\n",
      "S3           660 non-null float64\n",
      "C3_impute    660 non-null float64\n",
      "C7_impute    660 non-null float64\n",
      "P(mid)       660 non-null float64\n",
      "Y1           660 non-null int64\n",
      "Y2           660 non-null int64\n",
      "C3`          660 non-null int64\n",
      "C5`          660 non-null float64\n",
      "C6calc       660 non-null float64\n",
      "C6`          660 non-null float64\n",
      "T1prime      660 non-null float64\n",
      "T2prime      660 non-null float64\n",
      "T3prime      660 non-null float64\n",
      "T4prime      660 non-null float64\n",
      "T5prime      660 non-null float64\n",
      "S1prime      660 non-null float64\n",
      "S2prime      660 non-null float64\n",
      "S3prime      660 non-null float64\n",
      "dtypes: float64(30), int64(4), object(3)\n",
      "memory usage: 195.9+ KB\n"
     ]
    }
   ],
   "source": [
    "data.info()"
   ]
  },
  {
   "cell_type": "code",
   "execution_count": 17,
   "metadata": {},
   "outputs": [],
   "source": [
    "# exclude C6Calc and put Y1, Y2 at the end \n",
    "# only include continous \n",
    "data = data[['C1', 'C4',\n",
    "       'C5', 'C6', 'C3_impute',\n",
    "       'C7_impute', 'C5`', 'C6`',\n",
    "       'T1prime', 'T2prime','T3prime', 'T4prime', 'T5prime', 'S1prime',\n",
    "       'S2prime', 'S3prime','Y1', 'Y2']]"
   ]
  },
  {
   "cell_type": "code",
   "execution_count": 18,
   "metadata": {},
   "outputs": [],
   "source": [
    "# make a csv file\n",
    "data.to_csv('omg2.csv')"
   ]
  },
  {
   "cell_type": "markdown",
   "metadata": {},
   "source": [
    "# Descriptive"
   ]
  },
  {
   "cell_type": "markdown",
   "metadata": {},
   "source": [
    "REPORT IT with interpretation "
   ]
  },
  {
   "cell_type": "code",
   "execution_count": 19,
   "metadata": {},
   "outputs": [
    {
     "data": {
      "text/html": [
       "<div>\n",
       "<style scoped>\n",
       "    .dataframe tbody tr th:only-of-type {\n",
       "        vertical-align: middle;\n",
       "    }\n",
       "\n",
       "    .dataframe tbody tr th {\n",
       "        vertical-align: top;\n",
       "    }\n",
       "\n",
       "    .dataframe thead th {\n",
       "        text-align: right;\n",
       "    }\n",
       "</style>\n",
       "<table border=\"1\" class=\"dataframe\">\n",
       "  <thead>\n",
       "    <tr style=\"text-align: right;\">\n",
       "      <th></th>\n",
       "      <th>C1</th>\n",
       "      <th>C4</th>\n",
       "      <th>C5</th>\n",
       "      <th>C6</th>\n",
       "      <th>C3_impute</th>\n",
       "      <th>C7_impute</th>\n",
       "      <th>C5`</th>\n",
       "      <th>C6`</th>\n",
       "      <th>T1prime</th>\n",
       "      <th>T2prime</th>\n",
       "      <th>T3prime</th>\n",
       "      <th>T4prime</th>\n",
       "      <th>T5prime</th>\n",
       "      <th>S1prime</th>\n",
       "      <th>S2prime</th>\n",
       "      <th>S3prime</th>\n",
       "      <th>Y1</th>\n",
       "      <th>Y2</th>\n",
       "    </tr>\n",
       "  </thead>\n",
       "  <tbody>\n",
       "    <tr>\n",
       "      <th>count</th>\n",
       "      <td>660.000000</td>\n",
       "      <td>660.000000</td>\n",
       "      <td>6.600000e+02</td>\n",
       "      <td>6.600000e+02</td>\n",
       "      <td>660.000000</td>\n",
       "      <td>660.000000</td>\n",
       "      <td>660.000000</td>\n",
       "      <td>660.000000</td>\n",
       "      <td>660.000000</td>\n",
       "      <td>660.000000</td>\n",
       "      <td>660.000000</td>\n",
       "      <td>660.000000</td>\n",
       "      <td>660.000000</td>\n",
       "      <td>660.000000</td>\n",
       "      <td>660.000000</td>\n",
       "      <td>660.000000</td>\n",
       "      <td>660.000000</td>\n",
       "      <td>660.000000</td>\n",
       "    </tr>\n",
       "    <tr>\n",
       "      <th>mean</th>\n",
       "      <td>149.728788</td>\n",
       "      <td>0.007282</td>\n",
       "      <td>4.996285e+07</td>\n",
       "      <td>1.258248e+07</td>\n",
       "      <td>0.066724</td>\n",
       "      <td>470.631368</td>\n",
       "      <td>4.417255</td>\n",
       "      <td>0.054046</td>\n",
       "      <td>0.628496</td>\n",
       "      <td>0.052271</td>\n",
       "      <td>0.895157</td>\n",
       "      <td>1.611520</td>\n",
       "      <td>0.052271</td>\n",
       "      <td>0.005318</td>\n",
       "      <td>0.009059</td>\n",
       "      <td>0.011519</td>\n",
       "      <td>0.500000</td>\n",
       "      <td>0.383333</td>\n",
       "    </tr>\n",
       "    <tr>\n",
       "      <th>std</th>\n",
       "      <td>152.817467</td>\n",
       "      <td>0.033318</td>\n",
       "      <td>1.055377e+08</td>\n",
       "      <td>2.539940e+07</td>\n",
       "      <td>158.390378</td>\n",
       "      <td>1587.801852</td>\n",
       "      <td>5.133537</td>\n",
       "      <td>0.108776</td>\n",
       "      <td>0.069606</td>\n",
       "      <td>0.007144</td>\n",
       "      <td>0.044090</td>\n",
       "      <td>0.187237</td>\n",
       "      <td>0.007144</td>\n",
       "      <td>0.001744</td>\n",
       "      <td>0.003000</td>\n",
       "      <td>0.002851</td>\n",
       "      <td>0.500379</td>\n",
       "      <td>0.486567</td>\n",
       "    </tr>\n",
       "    <tr>\n",
       "      <th>min</th>\n",
       "      <td>10.000000</td>\n",
       "      <td>-0.162352</td>\n",
       "      <td>3.693227e+06</td>\n",
       "      <td>8.000000e+05</td>\n",
       "      <td>-786.239000</td>\n",
       "      <td>0.074000</td>\n",
       "      <td>0.283223</td>\n",
       "      <td>0.000000</td>\n",
       "      <td>0.395480</td>\n",
       "      <td>0.031595</td>\n",
       "      <td>0.669838</td>\n",
       "      <td>1.210145</td>\n",
       "      <td>0.031595</td>\n",
       "      <td>0.001602</td>\n",
       "      <td>0.002152</td>\n",
       "      <td>0.005326</td>\n",
       "      <td>0.000000</td>\n",
       "      <td>0.000000</td>\n",
       "    </tr>\n",
       "    <tr>\n",
       "      <th>25%</th>\n",
       "      <td>85.000000</td>\n",
       "      <td>-0.013927</td>\n",
       "      <td>1.877568e+07</td>\n",
       "      <td>5.124546e+06</td>\n",
       "      <td>-0.795000</td>\n",
       "      <td>41.458000</td>\n",
       "      <td>2.850622</td>\n",
       "      <td>0.000000</td>\n",
       "      <td>0.580706</td>\n",
       "      <td>0.047562</td>\n",
       "      <td>0.883417</td>\n",
       "      <td>1.482666</td>\n",
       "      <td>0.047562</td>\n",
       "      <td>0.004134</td>\n",
       "      <td>0.006966</td>\n",
       "      <td>0.009579</td>\n",
       "      <td>0.000000</td>\n",
       "      <td>0.000000</td>\n",
       "    </tr>\n",
       "    <tr>\n",
       "      <th>50%</th>\n",
       "      <td>107.000000</td>\n",
       "      <td>0.009125</td>\n",
       "      <td>2.745438e+07</td>\n",
       "      <td>7.500000e+06</td>\n",
       "      <td>0.000000</td>\n",
       "      <td>107.462000</td>\n",
       "      <td>3.731035</td>\n",
       "      <td>0.000000</td>\n",
       "      <td>0.628861</td>\n",
       "      <td>0.051943</td>\n",
       "      <td>0.897294</td>\n",
       "      <td>1.590177</td>\n",
       "      <td>0.051943</td>\n",
       "      <td>0.005041</td>\n",
       "      <td>0.008577</td>\n",
       "      <td>0.011301</td>\n",
       "      <td>0.500000</td>\n",
       "      <td>0.000000</td>\n",
       "    </tr>\n",
       "    <tr>\n",
       "      <th>75%</th>\n",
       "      <td>155.250000</td>\n",
       "      <td>0.031571</td>\n",
       "      <td>5.003986e+07</td>\n",
       "      <td>1.200000e+07</td>\n",
       "      <td>0.402500</td>\n",
       "      <td>300.764000</td>\n",
       "      <td>4.857904</td>\n",
       "      <td>0.076923</td>\n",
       "      <td>0.674461</td>\n",
       "      <td>0.056489</td>\n",
       "      <td>0.909693</td>\n",
       "      <td>1.722041</td>\n",
       "      <td>0.056489</td>\n",
       "      <td>0.006256</td>\n",
       "      <td>0.010521</td>\n",
       "      <td>0.012848</td>\n",
       "      <td>1.000000</td>\n",
       "      <td>1.000000</td>\n",
       "    </tr>\n",
       "    <tr>\n",
       "      <th>max</th>\n",
       "      <td>2087.000000</td>\n",
       "      <td>0.092896</td>\n",
       "      <td>2.138085e+09</td>\n",
       "      <td>4.212336e+08</td>\n",
       "      <td>3864.500000</td>\n",
       "      <td>30683.000000</td>\n",
       "      <td>99.787255</td>\n",
       "      <td>1.000000</td>\n",
       "      <td>0.826347</td>\n",
       "      <td>0.093585</td>\n",
       "      <td>1.579238</td>\n",
       "      <td>2.528571</td>\n",
       "      <td>0.093585</td>\n",
       "      <td>0.012839</td>\n",
       "      <td>0.024605</td>\n",
       "      <td>0.029397</td>\n",
       "      <td>1.000000</td>\n",
       "      <td>1.000000</td>\n",
       "    </tr>\n",
       "  </tbody>\n",
       "</table>\n",
       "</div>"
      ],
      "text/plain": [
       "                C1          C4            C5            C6    C3_impute  \\\n",
       "count   660.000000  660.000000  6.600000e+02  6.600000e+02   660.000000   \n",
       "mean    149.728788    0.007282  4.996285e+07  1.258248e+07     0.066724   \n",
       "std     152.817467    0.033318  1.055377e+08  2.539940e+07   158.390378   \n",
       "min      10.000000   -0.162352  3.693227e+06  8.000000e+05  -786.239000   \n",
       "25%      85.000000   -0.013927  1.877568e+07  5.124546e+06    -0.795000   \n",
       "50%     107.000000    0.009125  2.745438e+07  7.500000e+06     0.000000   \n",
       "75%     155.250000    0.031571  5.003986e+07  1.200000e+07     0.402500   \n",
       "max    2087.000000    0.092896  2.138085e+09  4.212336e+08  3864.500000   \n",
       "\n",
       "          C7_impute         C5`         C6`     T1prime     T2prime  \\\n",
       "count    660.000000  660.000000  660.000000  660.000000  660.000000   \n",
       "mean     470.631368    4.417255    0.054046    0.628496    0.052271   \n",
       "std     1587.801852    5.133537    0.108776    0.069606    0.007144   \n",
       "min        0.074000    0.283223    0.000000    0.395480    0.031595   \n",
       "25%       41.458000    2.850622    0.000000    0.580706    0.047562   \n",
       "50%      107.462000    3.731035    0.000000    0.628861    0.051943   \n",
       "75%      300.764000    4.857904    0.076923    0.674461    0.056489   \n",
       "max    30683.000000   99.787255    1.000000    0.826347    0.093585   \n",
       "\n",
       "          T3prime     T4prime     T5prime     S1prime     S2prime     S3prime  \\\n",
       "count  660.000000  660.000000  660.000000  660.000000  660.000000  660.000000   \n",
       "mean     0.895157    1.611520    0.052271    0.005318    0.009059    0.011519   \n",
       "std      0.044090    0.187237    0.007144    0.001744    0.003000    0.002851   \n",
       "min      0.669838    1.210145    0.031595    0.001602    0.002152    0.005326   \n",
       "25%      0.883417    1.482666    0.047562    0.004134    0.006966    0.009579   \n",
       "50%      0.897294    1.590177    0.051943    0.005041    0.008577    0.011301   \n",
       "75%      0.909693    1.722041    0.056489    0.006256    0.010521    0.012848   \n",
       "max      1.579238    2.528571    0.093585    0.012839    0.024605    0.029397   \n",
       "\n",
       "               Y1          Y2  \n",
       "count  660.000000  660.000000  \n",
       "mean     0.500000    0.383333  \n",
       "std      0.500379    0.486567  \n",
       "min      0.000000    0.000000  \n",
       "25%      0.000000    0.000000  \n",
       "50%      0.500000    0.000000  \n",
       "75%      1.000000    1.000000  \n",
       "max      1.000000    1.000000  "
      ]
     },
     "execution_count": 19,
     "metadata": {},
     "output_type": "execute_result"
    }
   ],
   "source": [
    "data.describe()"
   ]
  },
  {
   "cell_type": "code",
   "execution_count": 20,
   "metadata": {},
   "outputs": [
    {
     "name": "stdout",
     "output_type": "stream",
     "text": [
      "<class 'pandas.core.frame.DataFrame'>\n",
      "Int64Index: 660 entries, 0 to 681\n",
      "Data columns (total 18 columns):\n",
      "C1           660 non-null float64\n",
      "C4           660 non-null float64\n",
      "C5           660 non-null float64\n",
      "C6           660 non-null float64\n",
      "C3_impute    660 non-null float64\n",
      "C7_impute    660 non-null float64\n",
      "C5`          660 non-null float64\n",
      "C6`          660 non-null float64\n",
      "T1prime      660 non-null float64\n",
      "T2prime      660 non-null float64\n",
      "T3prime      660 non-null float64\n",
      "T4prime      660 non-null float64\n",
      "T5prime      660 non-null float64\n",
      "S1prime      660 non-null float64\n",
      "S2prime      660 non-null float64\n",
      "S3prime      660 non-null float64\n",
      "Y1           660 non-null int64\n",
      "Y2           660 non-null int64\n",
      "dtypes: float64(16), int64(2)\n",
      "memory usage: 98.0 KB\n"
     ]
    }
   ],
   "source": [
    "data.info()"
   ]
  },
  {
   "cell_type": "markdown",
   "metadata": {},
   "source": [
    "# Normality test"
   ]
  },
  {
   "cell_type": "code",
   "execution_count": 21,
   "metadata": {},
   "outputs": [],
   "source": [
    "# categorical no standardization, normalization"
   ]
  },
  {
   "cell_type": "code",
   "execution_count": 22,
   "metadata": {},
   "outputs": [
    {
     "data": {
      "text/plain": [
       "array([[<matplotlib.axes._subplots.AxesSubplot object at 0x7fa9e72ca7f0>,\n",
       "        <matplotlib.axes._subplots.AxesSubplot object at 0x7fa9e51e2b00>,\n",
       "        <matplotlib.axes._subplots.AxesSubplot object at 0x7fa9e5209f28>],\n",
       "       [<matplotlib.axes._subplots.AxesSubplot object at 0x7fa9e51b75f8>,\n",
       "        <matplotlib.axes._subplots.AxesSubplot object at 0x7fa9e515ec88>,\n",
       "        <matplotlib.axes._subplots.AxesSubplot object at 0x7fa9e515ecc0>],\n",
       "       [<matplotlib.axes._subplots.AxesSubplot object at 0x7fa9e51329e8>,\n",
       "        <matplotlib.axes._subplots.AxesSubplot object at 0x7fa9e50e20b8>,\n",
       "        <matplotlib.axes._subplots.AxesSubplot object at 0x7fa9e5107748>]],\n",
       "      dtype=object)"
      ]
     },
     "execution_count": 22,
     "metadata": {},
     "output_type": "execute_result"
    }
   ],
   "source": [
    "pd.plotting.scatter_matrix(data[['S1prime', 'S2prime', 'S3prime']], figsize=(14,14), hist_kwds={'bins':8}, alpha=.5, marker='o', s=50)"
   ]
  },
  {
   "cell_type": "code",
   "execution_count": 23,
   "metadata": {},
   "outputs": [
    {
     "data": {
      "text/plain": [
       "<matplotlib.axes._subplots.AxesSubplot at 0x7fa9e47d6240>"
      ]
     },
     "execution_count": 23,
     "metadata": {},
     "output_type": "execute_result"
    },
    {
     "data": {
      "image/png": "[encoded data removed]",
      "text/plain": [
       "<Figure size 432x288 with 1 Axes>"
      ]
     },
     "metadata": {
      "needs_background": "light"
     },
     "output_type": "display_data"
    }
   ],
   "source": [
    "data['S1prime_log']=np.log((data['S1prime']))\n",
    "data['S1prime_log'].hist()"
   ]
  },
  {
   "cell_type": "code",
   "execution_count": 24,
   "metadata": {},
   "outputs": [
    {
     "data": {
      "text/plain": [
       "-0.12556376950788897"
      ]
     },
     "execution_count": 24,
     "metadata": {},
     "output_type": "execute_result"
    }
   ],
   "source": [
    "data['S1prime_log'].skew()"
   ]
  },
  {
   "cell_type": "code",
   "execution_count": 25,
   "metadata": {},
   "outputs": [
    {
     "data": {
      "text/plain": [
       "<matplotlib.axes._subplots.AxesSubplot at 0x7fa9e4744dd8>"
      ]
     },
     "execution_count": 25,
     "metadata": {},
     "output_type": "execute_result"
    },
    {
     "data": {
      "image/png": "[encoded data removed]",
      "text/plain": [
       "<Figure size 432x288 with 1 Axes>"
      ]
     },
     "metadata": {
      "needs_background": "light"
     },
     "output_type": "display_data"
    }
   ],
   "source": [
    "data['S2prime_log']=np.log((data['S2prime']))\n",
    "data['S2prime_log'].hist()"
   ]
  },
  {
   "cell_type": "code",
   "execution_count": 26,
   "metadata": {},
   "outputs": [
    {
     "data": {
      "text/plain": [
       "0.08438832634954983"
      ]
     },
     "execution_count": 26,
     "metadata": {},
     "output_type": "execute_result"
    }
   ],
   "source": [
    "data['S2prime_log'].skew()"
   ]
  },
  {
   "cell_type": "code",
   "execution_count": 27,
   "metadata": {},
   "outputs": [],
   "source": [
    "# outliers --> IQR and 3st dev method \n",
    "# we standardize all but Y's right? \n",
    "# binning? \n",
    "# select only continous variables to put into evaluation code"
   ]
  },
  {
   "cell_type": "code",
   "execution_count": 28,
   "metadata": {},
   "outputs": [
    {
     "data": {
      "text/plain": [
       "<matplotlib.axes._subplots.AxesSubplot at 0x7fa9e4798e10>"
      ]
     },
     "execution_count": 28,
     "metadata": {},
     "output_type": "execute_result"
    },
    {
     "data": {
      "image/png": "[encoded data removed]",
      "text/plain": [
       "<Figure size 432x288 with 1 Axes>"
      ]
     },
     "metadata": {
      "needs_background": "light"
     },
     "output_type": "display_data"
    }
   ],
   "source": [
    "data['S3prime_log'] = np.log(data['S3prime'])\n",
    "data['S3prime_log'].hist()"
   ]
  },
  {
   "cell_type": "code",
   "execution_count": 29,
   "metadata": {},
   "outputs": [
    {
     "data": {
      "text/plain": [
       "0.2235856617352291"
      ]
     },
     "execution_count": 29,
     "metadata": {},
     "output_type": "execute_result"
    }
   ],
   "source": [
    "# -.5 and .5\n",
    "data['S3prime_log'].skew()"
   ]
  },
  {
   "cell_type": "code",
   "execution_count": 30,
   "metadata": {},
   "outputs": [
    {
     "ename": "KeyError",
     "evalue": "'C5_norm'",
     "output_type": "error",
     "traceback": [
      "\u001b[0;31m---------------------------------------------------------------------------\u001b[0m",
      "\u001b[0;31mKeyError\u001b[0m                                  Traceback (most recent call last)",
      "\u001b[0;32m/opt/tljh/user/lib/python3.6/site-packages/pandas/core/indexes/base.py\u001b[0m in \u001b[0;36mget_loc\u001b[0;34m(self, key, method, tolerance)\u001b[0m\n\u001b[1;32m   2896\u001b[0m             \u001b[0;32mtry\u001b[0m\u001b[0;34m:\u001b[0m\u001b[0;34m\u001b[0m\u001b[0;34m\u001b[0m\u001b[0m\n\u001b[0;32m-> 2897\u001b[0;31m                 \u001b[0;32mreturn\u001b[0m \u001b[0mself\u001b[0m\u001b[0;34m.\u001b[0m\u001b[0m_engine\u001b[0m\u001b[0;34m.\u001b[0m\u001b[0mget_loc\u001b[0m\u001b[0;34m(\u001b[0m\u001b[0mkey\u001b[0m\u001b[0;34m)\u001b[0m\u001b[0;34m\u001b[0m\u001b[0;34m\u001b[0m\u001b[0m\n\u001b[0m\u001b[1;32m   2898\u001b[0m             \u001b[0;32mexcept\u001b[0m \u001b[0mKeyError\u001b[0m\u001b[0;34m:\u001b[0m\u001b[0;34m\u001b[0m\u001b[0;34m\u001b[0m\u001b[0m\n",
      "\u001b[0;32mpandas/_libs/index.pyx\u001b[0m in \u001b[0;36mpandas._libs.index.IndexEngine.get_loc\u001b[0;34m()\u001b[0m\n",
      "\u001b[0;32mpandas/_libs/index.pyx\u001b[0m in \u001b[0;36mpandas._libs.index.IndexEngine.get_loc\u001b[0;34m()\u001b[0m\n",
      "\u001b[0;32mpandas/_libs/hashtable_class_helper.pxi\u001b[0m in \u001b[0;36mpandas._libs.hashtable.PyObjectHashTable.get_item\u001b[0;34m()\u001b[0m\n",
      "\u001b[0;32mpandas/_libs/hashtable_class_helper.pxi\u001b[0m in \u001b[0;36mpandas._libs.hashtable.PyObjectHashTable.get_item\u001b[0;34m()\u001b[0m\n",
      "\u001b[0;31mKeyError\u001b[0m: 'C5_norm'",
      "\nDuring handling of the above exception, another exception occurred:\n",
      "\u001b[0;31mKeyError\u001b[0m                                  Traceback (most recent call last)",
      "\u001b[0;32m<ipython-input-30-f46c958c797c>\u001b[0m in \u001b[0;36m<module>\u001b[0;34m\u001b[0m\n\u001b[1;32m      3\u001b[0m \u001b[0;31m# and look at the histograms\u001b[0m\u001b[0;34m\u001b[0m\u001b[0;34m\u001b[0m\u001b[0;34m\u001b[0m\u001b[0m\n\u001b[1;32m      4\u001b[0m \u001b[0;32mfrom\u001b[0m \u001b[0mscipy\u001b[0m\u001b[0;34m.\u001b[0m\u001b[0mstats\u001b[0m \u001b[0;32mimport\u001b[0m \u001b[0mshapiro\u001b[0m\u001b[0;34m\u001b[0m\u001b[0;34m\u001b[0m\u001b[0m\n\u001b[0;32m----> 5\u001b[0;31m \u001b[0mstat\u001b[0m\u001b[0;34m,\u001b[0m \u001b[0mp\u001b[0m \u001b[0;34m=\u001b[0m \u001b[0mshapiro\u001b[0m\u001b[0;34m(\u001b[0m\u001b[0mdata\u001b[0m\u001b[0;34m[\u001b[0m\u001b[0;34m'C5_norm'\u001b[0m\u001b[0;34m]\u001b[0m\u001b[0;34m)\u001b[0m\u001b[0;34m\u001b[0m\u001b[0;34m\u001b[0m\u001b[0m\n\u001b[0m\u001b[1;32m      6\u001b[0m \u001b[0mprint\u001b[0m\u001b[0;34m(\u001b[0m\u001b[0;34m'Statistics=%.3f, p=%.3f'\u001b[0m \u001b[0;34m%\u001b[0m \u001b[0;34m(\u001b[0m\u001b[0mstat\u001b[0m\u001b[0;34m,\u001b[0m \u001b[0mp\u001b[0m\u001b[0;34m)\u001b[0m\u001b[0;34m)\u001b[0m\u001b[0;34m\u001b[0m\u001b[0;34m\u001b[0m\u001b[0m\n\u001b[1;32m      7\u001b[0m \u001b[0;34m\u001b[0m\u001b[0m\n",
      "\u001b[0;32m/opt/tljh/user/lib/python3.6/site-packages/pandas/core/frame.py\u001b[0m in \u001b[0;36m__getitem__\u001b[0;34m(self, key)\u001b[0m\n\u001b[1;32m   2993\u001b[0m             \u001b[0;32mif\u001b[0m \u001b[0mself\u001b[0m\u001b[0;34m.\u001b[0m\u001b[0mcolumns\u001b[0m\u001b[0;34m.\u001b[0m\u001b[0mnlevels\u001b[0m \u001b[0;34m>\u001b[0m \u001b[0;36m1\u001b[0m\u001b[0;34m:\u001b[0m\u001b[0;34m\u001b[0m\u001b[0;34m\u001b[0m\u001b[0m\n\u001b[1;32m   2994\u001b[0m                 \u001b[0;32mreturn\u001b[0m \u001b[0mself\u001b[0m\u001b[0;34m.\u001b[0m\u001b[0m_getitem_multilevel\u001b[0m\u001b[0;34m(\u001b[0m\u001b[0mkey\u001b[0m\u001b[0;34m)\u001b[0m\u001b[0;34m\u001b[0m\u001b[0;34m\u001b[0m\u001b[0m\n\u001b[0;32m-> 2995\u001b[0;31m             \u001b[0mindexer\u001b[0m \u001b[0;34m=\u001b[0m \u001b[0mself\u001b[0m\u001b[0;34m.\u001b[0m\u001b[0mcolumns\u001b[0m\u001b[0;34m.\u001b[0m\u001b[0mget_loc\u001b[0m\u001b[0;34m(\u001b[0m\u001b[0mkey\u001b[0m\u001b[0;34m)\u001b[0m\u001b[0;34m\u001b[0m\u001b[0;34m\u001b[0m\u001b[0m\n\u001b[0m\u001b[1;32m   2996\u001b[0m             \u001b[0;32mif\u001b[0m \u001b[0mis_integer\u001b[0m\u001b[0;34m(\u001b[0m\u001b[0mindexer\u001b[0m\u001b[0;34m)\u001b[0m\u001b[0;34m:\u001b[0m\u001b[0;34m\u001b[0m\u001b[0;34m\u001b[0m\u001b[0m\n\u001b[1;32m   2997\u001b[0m                 \u001b[0mindexer\u001b[0m \u001b[0;34m=\u001b[0m \u001b[0;34m[\u001b[0m\u001b[0mindexer\u001b[0m\u001b[0;34m]\u001b[0m\u001b[0;34m\u001b[0m\u001b[0;34m\u001b[0m\u001b[0m\n",
      "\u001b[0;32m/opt/tljh/user/lib/python3.6/site-packages/pandas/core/indexes/base.py\u001b[0m in \u001b[0;36mget_loc\u001b[0;34m(self, key, method, tolerance)\u001b[0m\n\u001b[1;32m   2897\u001b[0m                 \u001b[0;32mreturn\u001b[0m \u001b[0mself\u001b[0m\u001b[0;34m.\u001b[0m\u001b[0m_engine\u001b[0m\u001b[0;34m.\u001b[0m\u001b[0mget_loc\u001b[0m\u001b[0;34m(\u001b[0m\u001b[0mkey\u001b[0m\u001b[0;34m)\u001b[0m\u001b[0;34m\u001b[0m\u001b[0;34m\u001b[0m\u001b[0m\n\u001b[1;32m   2898\u001b[0m             \u001b[0;32mexcept\u001b[0m \u001b[0mKeyError\u001b[0m\u001b[0;34m:\u001b[0m\u001b[0;34m\u001b[0m\u001b[0;34m\u001b[0m\u001b[0m\n\u001b[0;32m-> 2899\u001b[0;31m                 \u001b[0;32mreturn\u001b[0m \u001b[0mself\u001b[0m\u001b[0;34m.\u001b[0m\u001b[0m_engine\u001b[0m\u001b[0;34m.\u001b[0m\u001b[0mget_loc\u001b[0m\u001b[0;34m(\u001b[0m\u001b[0mself\u001b[0m\u001b[0;34m.\u001b[0m\u001b[0m_maybe_cast_indexer\u001b[0m\u001b[0;34m(\u001b[0m\u001b[0mkey\u001b[0m\u001b[0;34m)\u001b[0m\u001b[0;34m)\u001b[0m\u001b[0;34m\u001b[0m\u001b[0;34m\u001b[0m\u001b[0m\n\u001b[0m\u001b[1;32m   2900\u001b[0m         \u001b[0mindexer\u001b[0m \u001b[0;34m=\u001b[0m \u001b[0mself\u001b[0m\u001b[0;34m.\u001b[0m\u001b[0mget_indexer\u001b[0m\u001b[0;34m(\u001b[0m\u001b[0;34m[\u001b[0m\u001b[0mkey\u001b[0m\u001b[0;34m]\u001b[0m\u001b[0;34m,\u001b[0m \u001b[0mmethod\u001b[0m\u001b[0;34m=\u001b[0m\u001b[0mmethod\u001b[0m\u001b[0;34m,\u001b[0m \u001b[0mtolerance\u001b[0m\u001b[0;34m=\u001b[0m\u001b[0mtolerance\u001b[0m\u001b[0;34m)\u001b[0m\u001b[0;34m\u001b[0m\u001b[0;34m\u001b[0m\u001b[0m\n\u001b[1;32m   2901\u001b[0m         \u001b[0;32mif\u001b[0m \u001b[0mindexer\u001b[0m\u001b[0;34m.\u001b[0m\u001b[0mndim\u001b[0m \u001b[0;34m>\u001b[0m \u001b[0;36m1\u001b[0m \u001b[0;32mor\u001b[0m \u001b[0mindexer\u001b[0m\u001b[0;34m.\u001b[0m\u001b[0msize\u001b[0m \u001b[0;34m>\u001b[0m \u001b[0;36m1\u001b[0m\u001b[0;34m:\u001b[0m\u001b[0;34m\u001b[0m\u001b[0;34m\u001b[0m\u001b[0m\n",
      "\u001b[0;32mpandas/_libs/index.pyx\u001b[0m in \u001b[0;36mpandas._libs.index.IndexEngine.get_loc\u001b[0;34m()\u001b[0m\n",
      "\u001b[0;32mpandas/_libs/index.pyx\u001b[0m in \u001b[0;36mpandas._libs.index.IndexEngine.get_loc\u001b[0;34m()\u001b[0m\n",
      "\u001b[0;32mpandas/_libs/hashtable_class_helper.pxi\u001b[0m in \u001b[0;36mpandas._libs.hashtable.PyObjectHashTable.get_item\u001b[0;34m()\u001b[0m\n",
      "\u001b[0;32mpandas/_libs/hashtable_class_helper.pxi\u001b[0m in \u001b[0;36mpandas._libs.hashtable.PyObjectHashTable.get_item\u001b[0;34m()\u001b[0m\n",
      "\u001b[0;31mKeyError\u001b[0m: 'C5_norm'"
     ]
    }
   ],
   "source": [
    "# only for the continous \n",
    "# another skewness test --> request skewness from pandas \n",
    "# and look at the histograms \n",
    "from scipy.stats import shapiro\n",
    "stat, p = shapiro(data['C5_norm'])\n",
    "print('Statistics=%.3f, p=%.3f' % (stat, p))\n",
    "\n",
    "# interpret\n",
    "alpha = 0.05\n",
    "if p > alpha:\n",
    "    print('Sample looks Gaussian (fail to reject H0)')\n",
    "else:\n",
    "    print('Sample does not look Gaussian (reject H0)')"
   ]
  },
  {
   "cell_type": "code",
   "execution_count": 31,
   "metadata": {},
   "outputs": [
    {
     "data": {
      "text/plain": [
       "array([[<matplotlib.axes._subplots.AxesSubplot object at 0x7fa9e29a2f98>,\n",
       "        <matplotlib.axes._subplots.AxesSubplot object at 0x7fa9e283d320>,\n",
       "        <matplotlib.axes._subplots.AxesSubplot object at 0x7fa9e28649b0>,\n",
       "        <matplotlib.axes._subplots.AxesSubplot object at 0x7fa9e2816080>,\n",
       "        <matplotlib.axes._subplots.AxesSubplot object at 0x7fa9e27bd710>,\n",
       "        <matplotlib.axes._subplots.AxesSubplot object at 0x7fa9e27bd748>,\n",
       "        <matplotlib.axes._subplots.AxesSubplot object at 0x7fa9e2795470>,\n",
       "        <matplotlib.axes._subplots.AxesSubplot object at 0x7fa9e273cb00>],\n",
       "       [<matplotlib.axes._subplots.AxesSubplot object at 0x7fa9e26f01d0>,\n",
       "        <matplotlib.axes._subplots.AxesSubplot object at 0x7fa9e2716860>,\n",
       "        <matplotlib.axes._subplots.AxesSubplot object at 0x7fa9e26bfef0>,\n",
       "        <matplotlib.axes._subplots.AxesSubplot object at 0x7fa9e26705c0>,\n",
       "        <matplotlib.axes._subplots.AxesSubplot object at 0x7fa9e2697c50>,\n",
       "        <matplotlib.axes._subplots.AxesSubplot object at 0x7fa9e2648320>,\n",
       "        <matplotlib.axes._subplots.AxesSubplot object at 0x7fa9e25ed9b0>,\n",
       "        <matplotlib.axes._subplots.AxesSubplot object at 0x7fa9e2620080>],\n",
       "       [<matplotlib.axes._subplots.AxesSubplot object at 0x7fa9e25c8710>,\n",
       "        <matplotlib.axes._subplots.AxesSubplot object at 0x7fa9e2570da0>,\n",
       "        <matplotlib.axes._subplots.AxesSubplot object at 0x7fa9e25a0470>,\n",
       "        <matplotlib.axes._subplots.AxesSubplot object at 0x7fa9e2549b00>,\n",
       "        <matplotlib.axes._subplots.AxesSubplot object at 0x7fa9e24fa1d0>,\n",
       "        <matplotlib.axes._subplots.AxesSubplot object at 0x7fa9e2520860>,\n",
       "        <matplotlib.axes._subplots.AxesSubplot object at 0x7fa9e24caef0>,\n",
       "        <matplotlib.axes._subplots.AxesSubplot object at 0x7fa9e247b5c0>],\n",
       "       [<matplotlib.axes._subplots.AxesSubplot object at 0x7fa9e24a1c50>,\n",
       "        <matplotlib.axes._subplots.AxesSubplot object at 0x7fa9e2454320>,\n",
       "        <matplotlib.axes._subplots.AxesSubplot object at 0x7fa9e23fa9b0>,\n",
       "        <matplotlib.axes._subplots.AxesSubplot object at 0x7fa9e23ae080>,\n",
       "        <matplotlib.axes._subplots.AxesSubplot object at 0x7fa9e23d3710>,\n",
       "        <matplotlib.axes._subplots.AxesSubplot object at 0x7fa9e237cda0>,\n",
       "        <matplotlib.axes._subplots.AxesSubplot object at 0x7fa9e232c470>,\n",
       "        <matplotlib.axes._subplots.AxesSubplot object at 0x7fa9e2352b00>],\n",
       "       [<matplotlib.axes._subplots.AxesSubplot object at 0x7fa9e23041d0>,\n",
       "        <matplotlib.axes._subplots.AxesSubplot object at 0x7fa9e22ad860>,\n",
       "        <matplotlib.axes._subplots.AxesSubplot object at 0x7fa9e22d3ef0>,\n",
       "        <matplotlib.axes._subplots.AxesSubplot object at 0x7fa9e22855c0>,\n",
       "        <matplotlib.axes._subplots.AxesSubplot object at 0x7fa9e222cc50>,\n",
       "        <matplotlib.axes._subplots.AxesSubplot object at 0x7fa9e225d320>,\n",
       "        <matplotlib.axes._subplots.AxesSubplot object at 0x7fa9e22039b0>,\n",
       "        <matplotlib.axes._subplots.AxesSubplot object at 0x7fa9e21b6080>],\n",
       "       [<matplotlib.axes._subplots.AxesSubplot object at 0x7fa9e21df710>,\n",
       "        <matplotlib.axes._subplots.AxesSubplot object at 0x7fa9e2187da0>,\n",
       "        <matplotlib.axes._subplots.AxesSubplot object at 0x7fa9e2138470>,\n",
       "        <matplotlib.axes._subplots.AxesSubplot object at 0x7fa9e215eb00>,\n",
       "        <matplotlib.axes._subplots.AxesSubplot object at 0x7fa9e21121d0>,\n",
       "        <matplotlib.axes._subplots.AxesSubplot object at 0x7fa9e20b9860>,\n",
       "        <matplotlib.axes._subplots.AxesSubplot object at 0x7fa9e20e1ef0>,\n",
       "        <matplotlib.axes._subplots.AxesSubplot object at 0x7fa9e20935c0>],\n",
       "       [<matplotlib.axes._subplots.AxesSubplot object at 0x7fa9e203cc50>,\n",
       "        <matplotlib.axes._subplots.AxesSubplot object at 0x7fa9e1fed320>,\n",
       "        <matplotlib.axes._subplots.AxesSubplot object at 0x7fa9e20149b0>,\n",
       "        <matplotlib.axes._subplots.AxesSubplot object at 0x7fa9e1fc9080>,\n",
       "        <matplotlib.axes._subplots.AxesSubplot object at 0x7fa9e1f70710>,\n",
       "        <matplotlib.axes._subplots.AxesSubplot object at 0x7fa9e1f98da0>,\n",
       "        <matplotlib.axes._subplots.AxesSubplot object at 0x7fa9e1f47470>,\n",
       "        <matplotlib.axes._subplots.AxesSubplot object at 0x7fa9e1ef1b00>],\n",
       "       [<matplotlib.axes._subplots.AxesSubplot object at 0x7fa9e1f241d0>,\n",
       "        <matplotlib.axes._subplots.AxesSubplot object at 0x7fa9e1eca860>,\n",
       "        <matplotlib.axes._subplots.AxesSubplot object at 0x7fa9e1e74ef0>,\n",
       "        <matplotlib.axes._subplots.AxesSubplot object at 0x7fa9e1ea55c0>,\n",
       "        <matplotlib.axes._subplots.AxesSubplot object at 0x7fa9e1e4cc50>,\n",
       "        <matplotlib.axes._subplots.AxesSubplot object at 0x7fa9e1dfe320>,\n",
       "        <matplotlib.axes._subplots.AxesSubplot object at 0x7fa9e1da69b0>,\n",
       "        <matplotlib.axes._subplots.AxesSubplot object at 0x7fa9e1dd7080>]],\n",
       "      dtype=object)"
      ]
     },
     "execution_count": 31,
     "metadata": {},
     "output_type": "execute_result"
    },
    {
     "data": {
      "image/png": "[encoded data removed]",
      "text/plain": [
       "<Figure size 1008x1008 with 64 Axes>"
      ]
     },
     "metadata": {
      "needs_background": "light"
     },
     "output_type": "display_data"
    }
   ],
   "source": [
    "pd.plotting.scatter_matrix(data[['C1', 'C4',\n",
    "       'C5', 'C6','C3_impute','C7_impute','C5`','C6`']], figsize=(14,14), hist_kwds={'bins':8}, alpha=.5, marker='o', s=50)"
   ]
  },
  {
   "cell_type": "code",
   "execution_count": 32,
   "metadata": {},
   "outputs": [
    {
     "data": {
      "text/plain": [
       "5.649484948760403"
      ]
     },
     "execution_count": 32,
     "metadata": {},
     "output_type": "execute_result"
    }
   ],
   "source": [
    "# -.5 and .5\n",
    "data['C1'].skew()"
   ]
  },
  {
   "cell_type": "code",
   "execution_count": 33,
   "metadata": {},
   "outputs": [
    {
     "data": {
      "text/plain": [
       "<matplotlib.axes._subplots.AxesSubplot at 0x7fa9e1998550>"
      ]
     },
     "execution_count": 33,
     "metadata": {},
     "output_type": "execute_result"
    },
    {
     "data": {
      "image/png": "[encoded data removed]",
      "text/plain": [
       "<Figure size 432x288 with 1 Axes>"
      ]
     },
     "metadata": {
      "needs_background": "light"
     },
     "output_type": "display_data"
    }
   ],
   "source": [
    "data['C1_norm'] = np.log(data['C1'])\n",
    "data['C1_norm'].hist()"
   ]
  },
  {
   "cell_type": "code",
   "execution_count": 34,
   "metadata": {},
   "outputs": [
    {
     "data": {
      "text/plain": [
       "0.13206924296483574"
      ]
     },
     "execution_count": 34,
     "metadata": {},
     "output_type": "execute_result"
    }
   ],
   "source": [
    "data['C1_norm'].skew()"
   ]
  },
  {
   "cell_type": "code",
   "execution_count": 35,
   "metadata": {},
   "outputs": [],
   "source": [
    "data['C3_norm'] = np.tanh(data['C3_impute']+1)"
   ]
  },
  {
   "cell_type": "code",
   "execution_count": 36,
   "metadata": {},
   "outputs": [
    {
     "data": {
      "text/plain": [
       "-0.4778924619388421"
      ]
     },
     "execution_count": 36,
     "metadata": {},
     "output_type": "execute_result"
    }
   ],
   "source": [
    "# -.5 and .5\n",
    "data['C4'].skew()"
   ]
  },
  {
   "cell_type": "code",
   "execution_count": 37,
   "metadata": {},
   "outputs": [
    {
     "data": {
      "text/plain": [
       "13.461311505350828"
      ]
     },
     "execution_count": 37,
     "metadata": {},
     "output_type": "execute_result"
    }
   ],
   "source": [
    "# -.5 and .5\n",
    "data['C5'].skew()"
   ]
  },
  {
   "cell_type": "code",
   "execution_count": 38,
   "metadata": {},
   "outputs": [
    {
     "data": {
      "text/plain": [
       "<matplotlib.axes._subplots.AxesSubplot at 0x7fa9e14b9080>"
      ]
     },
     "execution_count": 38,
     "metadata": {},
     "output_type": "execute_result"
    },
    {
     "data": {
      "image/png": "[encoded data removed]",
      "text/plain": [
       "<Figure size 432x288 with 1 Axes>"
      ]
     },
     "metadata": {
      "needs_background": "light"
     },
     "output_type": "display_data"
    }
   ],
   "source": [
    "data['C5_norm'] = 1/(np.log(data['C5']))\n",
    "data['C5_norm'].hist()"
   ]
  },
  {
   "cell_type": "code",
   "execution_count": 39,
   "metadata": {},
   "outputs": [
    {
     "data": {
      "text/plain": [
       "-0.3913588014366576"
      ]
     },
     "execution_count": 39,
     "metadata": {},
     "output_type": "execute_result"
    }
   ],
   "source": [
    "# -.5 and .5\n",
    "data['C5_norm'].skew()"
   ]
  },
  {
   "cell_type": "code",
   "execution_count": 40,
   "metadata": {},
   "outputs": [],
   "source": [
    "# C6\n",
    "data['C6_norm'] = 1/(np.log(data['C6']))"
   ]
  },
  {
   "cell_type": "code",
   "execution_count": 41,
   "metadata": {},
   "outputs": [
    {
     "data": {
      "text/plain": [
       "12.163784427357575"
      ]
     },
     "execution_count": 41,
     "metadata": {},
     "output_type": "execute_result"
    }
   ],
   "source": [
    "# -.5 and .5\n",
    "data['C7_impute'].skew()"
   ]
  },
  {
   "cell_type": "code",
   "execution_count": 42,
   "metadata": {},
   "outputs": [
    {
     "data": {
      "text/plain": [
       "<matplotlib.axes._subplots.AxesSubplot at 0x7fa9e18fb518>"
      ]
     },
     "execution_count": 42,
     "metadata": {},
     "output_type": "execute_result"
    },
    {
     "data": {
      "image/png": "[encoded data removed]",
      "text/plain": [
       "<Figure size 432x288 with 1 Axes>"
      ]
     },
     "metadata": {
      "needs_background": "light"
     },
     "output_type": "display_data"
    }
   ],
   "source": [
    "data['C7_norm'] = np.log(data['C7_impute']+1)\n",
    "data['C7_norm'].hist()"
   ]
  },
  {
   "cell_type": "code",
   "execution_count": 43,
   "metadata": {},
   "outputs": [
    {
     "data": {
      "text/plain": [
       "-0.19508055631888138"
      ]
     },
     "execution_count": 43,
     "metadata": {},
     "output_type": "execute_result"
    }
   ],
   "source": [
    "# -.5 and .5\n",
    "data['C7_norm'].skew()"
   ]
  },
  {
   "cell_type": "code",
   "execution_count": 44,
   "metadata": {},
   "outputs": [
    {
     "data": {
      "text/plain": [
       "13.405535814317505"
      ]
     },
     "execution_count": 44,
     "metadata": {},
     "output_type": "execute_result"
    }
   ],
   "source": [
    "# -.5 and .5\n",
    "data['C5`'].skew()"
   ]
  },
  {
   "cell_type": "code",
   "execution_count": 45,
   "metadata": {},
   "outputs": [
    {
     "data": {
      "text/plain": [
       "<matplotlib.axes._subplots.AxesSubplot at 0x7fa9e14a9668>"
      ]
     },
     "execution_count": 45,
     "metadata": {},
     "output_type": "execute_result"
    },
    {
     "data": {
      "image/png": "[encoded data removed]",
      "text/plain": [
       "<Figure size 432x288 with 1 Axes>"
      ]
     },
     "metadata": {
      "needs_background": "light"
     },
     "output_type": "display_data"
    }
   ],
   "source": [
    "# normalize\n",
    "data['C5prime_norm'] = np.log(data['C5`'])\n",
    "data['C5prime_norm'].hist()"
   ]
  },
  {
   "cell_type": "code",
   "execution_count": 46,
   "metadata": {},
   "outputs": [
    {
     "data": {
      "text/plain": [
       "0.4273718005667461"
      ]
     },
     "execution_count": 46,
     "metadata": {},
     "output_type": "execute_result"
    }
   ],
   "source": [
    "# -.5 and .5\n",
    "data['C5prime_norm'].skew()"
   ]
  },
  {
   "cell_type": "code",
   "execution_count": 47,
   "metadata": {},
   "outputs": [
    {
     "data": {
      "text/plain": [
       "4.372685140448282"
      ]
     },
     "execution_count": 47,
     "metadata": {},
     "output_type": "execute_result"
    }
   ],
   "source": [
    "# -.5 and .5\n",
    "data['C6`'].skew()"
   ]
  },
  {
   "cell_type": "code",
   "execution_count": 48,
   "metadata": {},
   "outputs": [
    {
     "data": {
      "text/html": [
       "<div>\n",
       "<style scoped>\n",
       "    .dataframe tbody tr th:only-of-type {\n",
       "        vertical-align: middle;\n",
       "    }\n",
       "\n",
       "    .dataframe tbody tr th {\n",
       "        vertical-align: top;\n",
       "    }\n",
       "\n",
       "    .dataframe thead th {\n",
       "        text-align: right;\n",
       "    }\n",
       "</style>\n",
       "<table border=\"1\" class=\"dataframe\">\n",
       "  <thead>\n",
       "    <tr style=\"text-align: right;\">\n",
       "      <th></th>\n",
       "      <th>C1</th>\n",
       "      <th>C4</th>\n",
       "      <th>C5</th>\n",
       "      <th>C6</th>\n",
       "      <th>C3_impute</th>\n",
       "      <th>C7_impute</th>\n",
       "      <th>C5`</th>\n",
       "      <th>C6`</th>\n",
       "      <th>T1prime</th>\n",
       "      <th>T2prime</th>\n",
       "      <th>...</th>\n",
       "      <th>Y2</th>\n",
       "      <th>S1prime_log</th>\n",
       "      <th>S2prime_log</th>\n",
       "      <th>S3prime_log</th>\n",
       "      <th>C1_norm</th>\n",
       "      <th>C3_norm</th>\n",
       "      <th>C5_norm</th>\n",
       "      <th>C6_norm</th>\n",
       "      <th>C7_norm</th>\n",
       "      <th>C5prime_norm</th>\n",
       "    </tr>\n",
       "  </thead>\n",
       "  <tbody>\n",
       "    <tr>\n",
       "      <th>0</th>\n",
       "      <td>122.0</td>\n",
       "      <td>0.029074</td>\n",
       "      <td>40962052.0</td>\n",
       "      <td>10600000.0</td>\n",
       "      <td>3.43</td>\n",
       "      <td>51.345</td>\n",
       "      <td>3.864345</td>\n",
       "      <td>0.111111</td>\n",
       "      <td>0.640426</td>\n",
       "      <td>0.054250</td>\n",
       "      <td>...</td>\n",
       "      <td>1</td>\n",
       "      <td>-5.323718</td>\n",
       "      <td>-4.688678</td>\n",
       "      <td>-4.516378</td>\n",
       "      <td>4.804021</td>\n",
       "      <td>0.999716</td>\n",
       "      <td>0.057051</td>\n",
       "      <td>0.061819</td>\n",
       "      <td>3.957856</td>\n",
       "      <td>1.351792</td>\n",
       "    </tr>\n",
       "    <tr>\n",
       "      <th>1</th>\n",
       "      <td>259.0</td>\n",
       "      <td>-0.013352</td>\n",
       "      <td>28869196.0</td>\n",
       "      <td>2400000.0</td>\n",
       "      <td>-1.62</td>\n",
       "      <td>25.936</td>\n",
       "      <td>12.028832</td>\n",
       "      <td>0.000000</td>\n",
       "      <td>0.644753</td>\n",
       "      <td>0.051395</td>\n",
       "      <td>...</td>\n",
       "      <td>0</td>\n",
       "      <td>-5.726618</td>\n",
       "      <td>-4.500360</td>\n",
       "      <td>-4.521238</td>\n",
       "      <td>5.556828</td>\n",
       "      <td>-0.551128</td>\n",
       "      <td>0.058213</td>\n",
       "      <td>0.068069</td>\n",
       "      <td>3.293464</td>\n",
       "      <td>2.487306</td>\n",
       "    </tr>\n",
       "    <tr>\n",
       "      <th>2</th>\n",
       "      <td>90.0</td>\n",
       "      <td>0.020715</td>\n",
       "      <td>16845668.0</td>\n",
       "      <td>5000000.0</td>\n",
       "      <td>-1.24</td>\n",
       "      <td>7.378</td>\n",
       "      <td>3.369134</td>\n",
       "      <td>0.000000</td>\n",
       "      <td>0.636816</td>\n",
       "      <td>0.061764</td>\n",
       "      <td>...</td>\n",
       "      <td>0</td>\n",
       "      <td>-4.457393</td>\n",
       "      <td>-5.071759</td>\n",
       "      <td>-4.473922</td>\n",
       "      <td>4.499810</td>\n",
       "      <td>-0.235496</td>\n",
       "      <td>0.060098</td>\n",
       "      <td>0.064830</td>\n",
       "      <td>2.125609</td>\n",
       "      <td>1.214656</td>\n",
       "    </tr>\n",
       "    <tr>\n",
       "      <th>3</th>\n",
       "      <td>209.0</td>\n",
       "      <td>0.020023</td>\n",
       "      <td>14848637.0</td>\n",
       "      <td>4500000.0</td>\n",
       "      <td>-0.91</td>\n",
       "      <td>8.526</td>\n",
       "      <td>3.299697</td>\n",
       "      <td>0.000000</td>\n",
       "      <td>0.539634</td>\n",
       "      <td>0.061630</td>\n",
       "      <td>...</td>\n",
       "      <td>0</td>\n",
       "      <td>-4.637032</td>\n",
       "      <td>-4.941521</td>\n",
       "      <td>-4.318578</td>\n",
       "      <td>5.342334</td>\n",
       "      <td>0.089758</td>\n",
       "      <td>0.060557</td>\n",
       "      <td>0.065276</td>\n",
       "      <td>2.254025</td>\n",
       "      <td>1.193831</td>\n",
       "    </tr>\n",
       "    <tr>\n",
       "      <th>4</th>\n",
       "      <td>80.0</td>\n",
       "      <td>-0.034895</td>\n",
       "      <td>30741716.0</td>\n",
       "      <td>8250000.0</td>\n",
       "      <td>0.07</td>\n",
       "      <td>632.298</td>\n",
       "      <td>3.726269</td>\n",
       "      <td>0.050000</td>\n",
       "      <td>0.587413</td>\n",
       "      <td>0.048550</td>\n",
       "      <td>...</td>\n",
       "      <td>1</td>\n",
       "      <td>-5.399715</td>\n",
       "      <td>-4.600461</td>\n",
       "      <td>-4.486414</td>\n",
       "      <td>4.382027</td>\n",
       "      <td>0.789461</td>\n",
       "      <td>0.058001</td>\n",
       "      <td>0.062791</td>\n",
       "      <td>6.450941</td>\n",
       "      <td>1.315407</td>\n",
       "    </tr>\n",
       "    <tr>\n",
       "      <th>...</th>\n",
       "      <td>...</td>\n",
       "      <td>...</td>\n",
       "      <td>...</td>\n",
       "      <td>...</td>\n",
       "      <td>...</td>\n",
       "      <td>...</td>\n",
       "      <td>...</td>\n",
       "      <td>...</td>\n",
       "      <td>...</td>\n",
       "      <td>...</td>\n",
       "      <td>...</td>\n",
       "      <td>...</td>\n",
       "      <td>...</td>\n",
       "      <td>...</td>\n",
       "      <td>...</td>\n",
       "      <td>...</td>\n",
       "      <td>...</td>\n",
       "      <td>...</td>\n",
       "      <td>...</td>\n",
       "      <td>...</td>\n",
       "      <td>...</td>\n",
       "    </tr>\n",
       "    <tr>\n",
       "      <th>677</th>\n",
       "      <td>317.0</td>\n",
       "      <td>0.004670</td>\n",
       "      <td>38386565.0</td>\n",
       "      <td>9684109.0</td>\n",
       "      <td>-0.37</td>\n",
       "      <td>186.101</td>\n",
       "      <td>3.963872</td>\n",
       "      <td>0.200000</td>\n",
       "      <td>0.612663</td>\n",
       "      <td>0.050603</td>\n",
       "      <td>...</td>\n",
       "      <td>1</td>\n",
       "      <td>-5.034037</td>\n",
       "      <td>-4.836506</td>\n",
       "      <td>-4.346654</td>\n",
       "      <td>5.758902</td>\n",
       "      <td>0.558052</td>\n",
       "      <td>0.057263</td>\n",
       "      <td>0.062166</td>\n",
       "      <td>5.231649</td>\n",
       "      <td>1.377221</td>\n",
       "    </tr>\n",
       "    <tr>\n",
       "      <th>678</th>\n",
       "      <td>98.0</td>\n",
       "      <td>0.058689</td>\n",
       "      <td>32758082.0</td>\n",
       "      <td>7000000.0</td>\n",
       "      <td>-0.41</td>\n",
       "      <td>25.461</td>\n",
       "      <td>4.679726</td>\n",
       "      <td>0.000000</td>\n",
       "      <td>0.647177</td>\n",
       "      <td>0.056770</td>\n",
       "      <td>...</td>\n",
       "      <td>0</td>\n",
       "      <td>-5.284653</td>\n",
       "      <td>-4.696866</td>\n",
       "      <td>-4.379857</td>\n",
       "      <td>4.584967</td>\n",
       "      <td>0.529896</td>\n",
       "      <td>0.057788</td>\n",
       "      <td>0.063446</td>\n",
       "      <td>3.275672</td>\n",
       "      <td>1.543240</td>\n",
       "    </tr>\n",
       "    <tr>\n",
       "      <th>679</th>\n",
       "      <td>112.0</td>\n",
       "      <td>0.030425</td>\n",
       "      <td>11479826.0</td>\n",
       "      <td>3125000.0</td>\n",
       "      <td>0.60</td>\n",
       "      <td>55.431</td>\n",
       "      <td>3.673544</td>\n",
       "      <td>0.000000</td>\n",
       "      <td>0.647761</td>\n",
       "      <td>0.047976</td>\n",
       "      <td>...</td>\n",
       "      <td>0</td>\n",
       "      <td>-5.474811</td>\n",
       "      <td>-4.705677</td>\n",
       "      <td>-4.612587</td>\n",
       "      <td>4.718499</td>\n",
       "      <td>0.921669</td>\n",
       "      <td>0.061515</td>\n",
       "      <td>0.066868</td>\n",
       "      <td>4.033019</td>\n",
       "      <td>1.301157</td>\n",
       "    </tr>\n",
       "    <tr>\n",
       "      <th>680</th>\n",
       "      <td>78.0</td>\n",
       "      <td>0.032284</td>\n",
       "      <td>13180261.0</td>\n",
       "      <td>3125000.0</td>\n",
       "      <td>0.20</td>\n",
       "      <td>117.857</td>\n",
       "      <td>4.217684</td>\n",
       "      <td>0.187500</td>\n",
       "      <td>0.710938</td>\n",
       "      <td>0.043178</td>\n",
       "      <td>...</td>\n",
       "      <td>1</td>\n",
       "      <td>-4.994816</td>\n",
       "      <td>-5.228431</td>\n",
       "      <td>-4.260847</td>\n",
       "      <td>4.356709</td>\n",
       "      <td>0.833655</td>\n",
       "      <td>0.060997</td>\n",
       "      <td>0.066868</td>\n",
       "      <td>4.777921</td>\n",
       "      <td>1.439286</td>\n",
       "    </tr>\n",
       "    <tr>\n",
       "      <th>681</th>\n",
       "      <td>281.0</td>\n",
       "      <td>0.024687</td>\n",
       "      <td>90734200.0</td>\n",
       "      <td>28000000.0</td>\n",
       "      <td>0.76</td>\n",
       "      <td>1469.574</td>\n",
       "      <td>3.240507</td>\n",
       "      <td>0.066667</td>\n",
       "      <td>0.670702</td>\n",
       "      <td>0.054545</td>\n",
       "      <td>...</td>\n",
       "      <td>1</td>\n",
       "      <td>-4.820625</td>\n",
       "      <td>-4.729190</td>\n",
       "      <td>-4.301324</td>\n",
       "      <td>5.638355</td>\n",
       "      <td>0.942503</td>\n",
       "      <td>0.054575</td>\n",
       "      <td>0.058317</td>\n",
       "      <td>7.293408</td>\n",
       "      <td>1.175730</td>\n",
       "    </tr>\n",
       "  </tbody>\n",
       "</table>\n",
       "<p>660 rows × 27 columns</p>\n",
       "</div>"
      ],
      "text/plain": [
       "        C1        C4          C5          C6  C3_impute  C7_impute        C5`  \\\n",
       "0    122.0  0.029074  40962052.0  10600000.0       3.43     51.345   3.864345   \n",
       "1    259.0 -0.013352  28869196.0   2400000.0      -1.62     25.936  12.028832   \n",
       "2     90.0  0.020715  16845668.0   5000000.0      -1.24      7.378   3.369134   \n",
       "3    209.0  0.020023  14848637.0   4500000.0      -0.91      8.526   3.299697   \n",
       "4     80.0 -0.034895  30741716.0   8250000.0       0.07    632.298   3.726269   \n",
       "..     ...       ...         ...         ...        ...        ...        ...   \n",
       "677  317.0  0.004670  38386565.0   9684109.0      -0.37    186.101   3.963872   \n",
       "678   98.0  0.058689  32758082.0   7000000.0      -0.41     25.461   4.679726   \n",
       "679  112.0  0.030425  11479826.0   3125000.0       0.60     55.431   3.673544   \n",
       "680   78.0  0.032284  13180261.0   3125000.0       0.20    117.857   4.217684   \n",
       "681  281.0  0.024687  90734200.0  28000000.0       0.76   1469.574   3.240507   \n",
       "\n",
       "          C6`   T1prime   T2prime  ...  Y2  S1prime_log  S2prime_log  \\\n",
       "0    0.111111  0.640426  0.054250  ...   1    -5.323718    -4.688678   \n",
       "1    0.000000  0.644753  0.051395  ...   0    -5.726618    -4.500360   \n",
       "2    0.000000  0.636816  0.061764  ...   0    -4.457393    -5.071759   \n",
       "3    0.000000  0.539634  0.061630  ...   0    -4.637032    -4.941521   \n",
       "4    0.050000  0.587413  0.048550  ...   1    -5.399715    -4.600461   \n",
       "..        ...       ...       ...  ...  ..          ...          ...   \n",
       "677  0.200000  0.612663  0.050603  ...   1    -5.034037    -4.836506   \n",
       "678  0.000000  0.647177  0.056770  ...   0    -5.284653    -4.696866   \n",
       "679  0.000000  0.647761  0.047976  ...   0    -5.474811    -4.705677   \n",
       "680  0.187500  0.710938  0.043178  ...   1    -4.994816    -5.228431   \n",
       "681  0.066667  0.670702  0.054545  ...   1    -4.820625    -4.729190   \n",
       "\n",
       "     S3prime_log   C1_norm   C3_norm   C5_norm   C6_norm   C7_norm  \\\n",
       "0      -4.516378  4.804021  0.999716  0.057051  0.061819  3.957856   \n",
       "1      -4.521238  5.556828 -0.551128  0.058213  0.068069  3.293464   \n",
       "2      -4.473922  4.499810 -0.235496  0.060098  0.064830  2.125609   \n",
       "3      -4.318578  5.342334  0.089758  0.060557  0.065276  2.254025   \n",
       "4      -4.486414  4.382027  0.789461  0.058001  0.062791  6.450941   \n",
       "..           ...       ...       ...       ...       ...       ...   \n",
       "677    -4.346654  5.758902  0.558052  0.057263  0.062166  5.231649   \n",
       "678    -4.379857  4.584967  0.529896  0.057788  0.063446  3.275672   \n",
       "679    -4.612587  4.718499  0.921669  0.061515  0.066868  4.033019   \n",
       "680    -4.260847  4.356709  0.833655  0.060997  0.066868  4.777921   \n",
       "681    -4.301324  5.638355  0.942503  0.054575  0.058317  7.293408   \n",
       "\n",
       "     C5prime_norm  \n",
       "0        1.351792  \n",
       "1        2.487306  \n",
       "2        1.214656  \n",
       "3        1.193831  \n",
       "4        1.315407  \n",
       "..            ...  \n",
       "677      1.377221  \n",
       "678      1.543240  \n",
       "679      1.301157  \n",
       "680      1.439286  \n",
       "681      1.175730  \n",
       "\n",
       "[660 rows x 27 columns]"
      ]
     },
     "execution_count": 48,
     "metadata": {},
     "output_type": "execute_result"
    }
   ],
   "source": [
    "data[np.isfinite(data['C6`'])]"
   ]
  },
  {
   "cell_type": "code",
   "execution_count": 49,
   "metadata": {},
   "outputs": [
    {
     "data": {
      "text/plain": [
       "<matplotlib.axes._subplots.AxesSubplot at 0x7fa9e18de1d0>"
      ]
     },
     "execution_count": 49,
     "metadata": {},
     "output_type": "execute_result"
    },
    {
     "data": {
      "image/png": "[encoded data removed]",
      "text/plain": [
       "<Figure size 432x288 with 1 Axes>"
      ]
     },
     "metadata": {
      "needs_background": "light"
     },
     "output_type": "display_data"
    }
   ],
   "source": [
    "# normalize\n",
    "data['C6prime_norm'] = np.sqrt(np.log(data['C6`']+1))\n",
    "data['C6prime_norm'].hist()"
   ]
  },
  {
   "cell_type": "code",
   "execution_count": 50,
   "metadata": {},
   "outputs": [
    {
     "data": {
      "text/plain": [
       "1.0925667377524533"
      ]
     },
     "execution_count": 50,
     "metadata": {},
     "output_type": "execute_result"
    }
   ],
   "source": [
    "# -.5 and .5\n",
    "data['C6prime_norm'].skew()"
   ]
  },
  {
   "cell_type": "code",
   "execution_count": 51,
   "metadata": {},
   "outputs": [
    {
     "data": {
      "text/plain": [
       "-0.19508055631888138"
      ]
     },
     "execution_count": 51,
     "metadata": {},
     "output_type": "execute_result"
    }
   ],
   "source": [
    "# -.5 and .5\n",
    "data['C7_norm'].skew()"
   ]
  },
  {
   "cell_type": "code",
   "execution_count": 52,
   "metadata": {},
   "outputs": [
    {
     "data": {
      "text/plain": [
       "Index(['C1', 'C4', 'C5', 'C6', 'C3_impute', 'C7_impute', 'C5`', 'C6`',\n",
       "       'T1prime', 'T2prime', 'T3prime', 'T4prime', 'T5prime', 'S1prime',\n",
       "       'S2prime', 'S3prime', 'Y1', 'Y2', 'S1prime_log', 'S2prime_log',\n",
       "       'S3prime_log', 'C1_norm', 'C3_norm', 'C5_norm', 'C6_norm', 'C7_norm',\n",
       "       'C5prime_norm', 'C6prime_norm'],\n",
       "      dtype='object')"
      ]
     },
     "execution_count": 52,
     "metadata": {},
     "output_type": "execute_result"
    }
   ],
   "source": [
    "data.columns"
   ]
  },
  {
   "cell_type": "code",
   "execution_count": 53,
   "metadata": {},
   "outputs": [
    {
     "data": {
      "text/plain": [
       "array([[<matplotlib.axes._subplots.AxesSubplot object at 0x7fa9e17e3be0>,\n",
       "        <matplotlib.axes._subplots.AxesSubplot object at 0x7fa9e1797358>,\n",
       "        <matplotlib.axes._subplots.AxesSubplot object at 0x7fa9e173e9b0>,\n",
       "        <matplotlib.axes._subplots.AxesSubplot object at 0x7fa9e1765f60>,\n",
       "        <matplotlib.axes._subplots.AxesSubplot object at 0x7fa9e1715630>],\n",
       "       [<matplotlib.axes._subplots.AxesSubplot object at 0x7fa9e1715668>,\n",
       "        <matplotlib.axes._subplots.AxesSubplot object at 0x7fa9e1670390>,\n",
       "        <matplotlib.axes._subplots.AxesSubplot object at 0x7fa9e1697a20>,\n",
       "        <matplotlib.axes._subplots.AxesSubplot object at 0x7fa9e1640c18>,\n",
       "        <matplotlib.axes._subplots.AxesSubplot object at 0x7fa9e15f32e8>],\n",
       "       [<matplotlib.axes._subplots.AxesSubplot object at 0x7fa9e1618978>,\n",
       "        <matplotlib.axes._subplots.AxesSubplot object at 0x7fa9e15cd048>,\n",
       "        <matplotlib.axes._subplots.AxesSubplot object at 0x7fa9e01a76d8>,\n",
       "        <matplotlib.axes._subplots.AxesSubplot object at 0x7fa9e01cfd68>,\n",
       "        <matplotlib.axes._subplots.AxesSubplot object at 0x7fa9e0180438>],\n",
       "       [<matplotlib.axes._subplots.AxesSubplot object at 0x7fa9e0129ac8>,\n",
       "        <matplotlib.axes._subplots.AxesSubplot object at 0x7fa9e00db198>,\n",
       "        <matplotlib.axes._subplots.AxesSubplot object at 0x7fa9e0101828>,\n",
       "        <matplotlib.axes._subplots.AxesSubplot object at 0x7fa9e00aceb8>,\n",
       "        <matplotlib.axes._subplots.AxesSubplot object at 0x7fa9e005b588>],\n",
       "       [<matplotlib.axes._subplots.AxesSubplot object at 0x7fa9e0083c18>,\n",
       "        <matplotlib.axes._subplots.AxesSubplot object at 0x7fa9e00362e8>,\n",
       "        <matplotlib.axes._subplots.AxesSubplot object at 0x7fa9db7c4978>,\n",
       "        <matplotlib.axes._subplots.AxesSubplot object at 0x7fa9db7f7048>,\n",
       "        <matplotlib.axes._subplots.AxesSubplot object at 0x7fa9db7a06d8>]],\n",
       "      dtype=object)"
      ]
     },
     "execution_count": 53,
     "metadata": {},
     "output_type": "execute_result"
    },
    {
     "data": {
      "image/png": "[encoded data removed]",
      "text/plain": [
       "<Figure size 1008x1008 with 25 Axes>"
      ]
     },
     "metadata": {
      "needs_background": "light"
     },
     "output_type": "display_data"
    }
   ],
   "source": [
    "pd.plotting.scatter_matrix(data[['T1prime','T3prime', 'T4prime', 'T2prime','T5prime']], figsize=(14,14), hist_kwds={'bins':8}, alpha=.5, marker='o', s=50)"
   ]
  },
  {
   "cell_type": "code",
   "execution_count": 54,
   "metadata": {},
   "outputs": [],
   "source": [
    "# T1 looks good "
   ]
  },
  {
   "cell_type": "code",
   "execution_count": 55,
   "metadata": {},
   "outputs": [
    {
     "name": "stdout",
     "output_type": "stream",
     "text": [
      "Statistics=0.998, p=0.819\n",
      "Sample looks Gaussian (fail to reject H0)\n"
     ]
    }
   ],
   "source": [
    "# only for the continous \n",
    "# another skewness test --> request skewness from pandas \n",
    "# and look at the histograms \n",
    "from scipy.stats import shapiro\n",
    "stat, p = shapiro(data['T1prime'])\n",
    "print('Statistics=%.3f, p=%.3f' % (stat, p))\n",
    "\n",
    "# interpret\n",
    "alpha = 0.05\n",
    "if p > alpha:\n",
    "    print('Sample looks Gaussian (fail to reject H0)')\n",
    "else:\n",
    "    print('Sample does not look Gaussian (reject H0)')"
   ]
  },
  {
   "cell_type": "code",
   "execution_count": 56,
   "metadata": {},
   "outputs": [],
   "source": [
    "# T1 looks good "
   ]
  },
  {
   "cell_type": "code",
   "execution_count": 57,
   "metadata": {},
   "outputs": [
    {
     "data": {
      "text/plain": [
       "0.5833786957119567"
      ]
     },
     "execution_count": 57,
     "metadata": {},
     "output_type": "execute_result"
    }
   ],
   "source": [
    "data['T2prime'].skew()"
   ]
  },
  {
   "cell_type": "code",
   "execution_count": 58,
   "metadata": {},
   "outputs": [],
   "source": [
    "data['T2prime_norm'] = np.sqrt(data['T2prime'])"
   ]
  },
  {
   "cell_type": "code",
   "execution_count": 59,
   "metadata": {},
   "outputs": [
    {
     "data": {
      "text/plain": [
       "0.2039439029069943"
      ]
     },
     "execution_count": 59,
     "metadata": {},
     "output_type": "execute_result"
    }
   ],
   "source": [
    "data['T2prime_norm'].skew()"
   ]
  },
  {
   "cell_type": "code",
   "execution_count": 60,
   "metadata": {},
   "outputs": [
    {
     "data": {
      "text/plain": [
       "9.101177497494934"
      ]
     },
     "execution_count": 60,
     "metadata": {},
     "output_type": "execute_result"
    }
   ],
   "source": [
    "data['T3prime'].skew()"
   ]
  },
  {
   "cell_type": "code",
   "execution_count": 61,
   "metadata": {},
   "outputs": [],
   "source": [
    "data['T3prime_norm'] = 1/(np.log(data['T3prime']))"
   ]
  },
  {
   "cell_type": "code",
   "execution_count": 62,
   "metadata": {},
   "outputs": [
    {
     "data": {
      "text/plain": [
       "-0.5010146548567442"
      ]
     },
     "execution_count": 62,
     "metadata": {},
     "output_type": "execute_result"
    }
   ],
   "source": [
    "data['T3prime_norm'].skew()"
   ]
  },
  {
   "cell_type": "code",
   "execution_count": 63,
   "metadata": {},
   "outputs": [
    {
     "data": {
      "text/plain": [
       "0.8229552871858807"
      ]
     },
     "execution_count": 63,
     "metadata": {},
     "output_type": "execute_result"
    }
   ],
   "source": [
    "data['T4prime'].skew()"
   ]
  },
  {
   "cell_type": "code",
   "execution_count": 64,
   "metadata": {},
   "outputs": [],
   "source": [
    "data['T4prime_norm'] = np.log(data['T4prime'])"
   ]
  },
  {
   "cell_type": "code",
   "execution_count": 65,
   "metadata": {},
   "outputs": [
    {
     "data": {
      "text/plain": [
       "0.42138586072652406"
      ]
     },
     "execution_count": 65,
     "metadata": {},
     "output_type": "execute_result"
    }
   ],
   "source": [
    "data['T4prime_norm'].skew()"
   ]
  },
  {
   "cell_type": "code",
   "execution_count": 66,
   "metadata": {},
   "outputs": [
    {
     "data": {
      "text/plain": [
       "0.5833786957119567"
      ]
     },
     "execution_count": 66,
     "metadata": {},
     "output_type": "execute_result"
    }
   ],
   "source": [
    "data['T5prime'].skew()"
   ]
  },
  {
   "cell_type": "code",
   "execution_count": 67,
   "metadata": {},
   "outputs": [],
   "source": [
    "data['T5prime_norm'] = np.sqrt(data['T5prime'])"
   ]
  },
  {
   "cell_type": "code",
   "execution_count": 68,
   "metadata": {},
   "outputs": [
    {
     "data": {
      "text/plain": [
       "0.2039439029069943"
      ]
     },
     "execution_count": 68,
     "metadata": {},
     "output_type": "execute_result"
    }
   ],
   "source": [
    "data['T5prime_norm'].skew()"
   ]
  },
  {
   "cell_type": "code",
   "execution_count": 69,
   "metadata": {},
   "outputs": [
    {
     "data": {
      "text/plain": [
       "Index(['C1', 'C4', 'C5', 'C6', 'C3_impute', 'C7_impute', 'C5`', 'C6`',\n",
       "       'T1prime', 'T2prime', 'T3prime', 'T4prime', 'T5prime', 'S1prime',\n",
       "       'S2prime', 'S3prime', 'Y1', 'Y2', 'S1prime_log', 'S2prime_log',\n",
       "       'S3prime_log', 'C1_norm', 'C3_norm', 'C5_norm', 'C6_norm', 'C7_norm',\n",
       "       'C5prime_norm', 'C6prime_norm', 'T2prime_norm', 'T3prime_norm',\n",
       "       'T4prime_norm', 'T5prime_norm'],\n",
       "      dtype='object')"
      ]
     },
     "execution_count": 69,
     "metadata": {},
     "output_type": "execute_result"
    }
   ],
   "source": [
    "data.columns"
   ]
  },
  {
   "cell_type": "code",
   "execution_count": 70,
   "metadata": {},
   "outputs": [
    {
     "data": {
      "text/html": [
       "<div>\n",
       "<style scoped>\n",
       "    .dataframe tbody tr th:only-of-type {\n",
       "        vertical-align: middle;\n",
       "    }\n",
       "\n",
       "    .dataframe tbody tr th {\n",
       "        vertical-align: top;\n",
       "    }\n",
       "\n",
       "    .dataframe thead th {\n",
       "        text-align: right;\n",
       "    }\n",
       "</style>\n",
       "<table border=\"1\" class=\"dataframe\">\n",
       "  <thead>\n",
       "    <tr style=\"text-align: right;\">\n",
       "      <th></th>\n",
       "      <th>S1prime_log</th>\n",
       "      <th>S2prime_log</th>\n",
       "      <th>S3prime_log</th>\n",
       "      <th>C1_norm</th>\n",
       "      <th>C5_norm</th>\n",
       "      <th>C6_norm</th>\n",
       "      <th>C3_norm</th>\n",
       "      <th>C7_norm</th>\n",
       "      <th>C4</th>\n",
       "      <th>C5prime_norm</th>\n",
       "      <th>C6prime_norm</th>\n",
       "      <th>T2prime_norm</th>\n",
       "      <th>T3prime_norm</th>\n",
       "      <th>T4prime_norm</th>\n",
       "      <th>T5prime_norm</th>\n",
       "      <th>Y1</th>\n",
       "      <th>Y2</th>\n",
       "    </tr>\n",
       "  </thead>\n",
       "  <tbody>\n",
       "    <tr>\n",
       "      <th>0</th>\n",
       "      <td>-5.323718</td>\n",
       "      <td>-4.688678</td>\n",
       "      <td>-4.516378</td>\n",
       "      <td>4.804021</td>\n",
       "      <td>0.057051</td>\n",
       "      <td>0.061819</td>\n",
       "      <td>0.999716</td>\n",
       "      <td>3.957856</td>\n",
       "      <td>0.029074</td>\n",
       "      <td>1.351792</td>\n",
       "      <td>0.324593</td>\n",
       "      <td>0.232915</td>\n",
       "      <td>-10.466155</td>\n",
       "      <td>0.445622</td>\n",
       "      <td>0.232915</td>\n",
       "      <td>0</td>\n",
       "      <td>1</td>\n",
       "    </tr>\n",
       "    <tr>\n",
       "      <th>1</th>\n",
       "      <td>-5.726618</td>\n",
       "      <td>-4.500360</td>\n",
       "      <td>-4.521238</td>\n",
       "      <td>5.556828</td>\n",
       "      <td>0.058213</td>\n",
       "      <td>0.068069</td>\n",
       "      <td>-0.551128</td>\n",
       "      <td>3.293464</td>\n",
       "      <td>-0.013352</td>\n",
       "      <td>2.487306</td>\n",
       "      <td>0.000000</td>\n",
       "      <td>0.226705</td>\n",
       "      <td>-9.365141</td>\n",
       "      <td>0.438887</td>\n",
       "      <td>0.226705</td>\n",
       "      <td>1</td>\n",
       "      <td>0</td>\n",
       "    </tr>\n",
       "    <tr>\n",
       "      <th>2</th>\n",
       "      <td>-4.457393</td>\n",
       "      <td>-5.071759</td>\n",
       "      <td>-4.473922</td>\n",
       "      <td>4.499810</td>\n",
       "      <td>0.060098</td>\n",
       "      <td>0.064830</td>\n",
       "      <td>-0.235496</td>\n",
       "      <td>2.125609</td>\n",
       "      <td>0.020715</td>\n",
       "      <td>1.214656</td>\n",
       "      <td>0.000000</td>\n",
       "      <td>0.248523</td>\n",
       "      <td>-10.523529</td>\n",
       "      <td>0.451275</td>\n",
       "      <td>0.248523</td>\n",
       "      <td>1</td>\n",
       "      <td>0</td>\n",
       "    </tr>\n",
       "    <tr>\n",
       "      <th>3</th>\n",
       "      <td>-4.637032</td>\n",
       "      <td>-4.941521</td>\n",
       "      <td>-4.318578</td>\n",
       "      <td>5.342334</td>\n",
       "      <td>0.060557</td>\n",
       "      <td>0.065276</td>\n",
       "      <td>0.089758</td>\n",
       "      <td>2.254025</td>\n",
       "      <td>0.020023</td>\n",
       "      <td>1.193831</td>\n",
       "      <td>0.000000</td>\n",
       "      <td>0.248253</td>\n",
       "      <td>-11.549720</td>\n",
       "      <td>0.616864</td>\n",
       "      <td>0.248253</td>\n",
       "      <td>1</td>\n",
       "      <td>0</td>\n",
       "    </tr>\n",
       "    <tr>\n",
       "      <th>4</th>\n",
       "      <td>-5.399715</td>\n",
       "      <td>-4.600461</td>\n",
       "      <td>-4.486414</td>\n",
       "      <td>4.382027</td>\n",
       "      <td>0.058001</td>\n",
       "      <td>0.062791</td>\n",
       "      <td>0.789461</td>\n",
       "      <td>6.450941</td>\n",
       "      <td>-0.034895</td>\n",
       "      <td>1.315407</td>\n",
       "      <td>0.220885</td>\n",
       "      <td>0.220341</td>\n",
       "      <td>-8.456290</td>\n",
       "      <td>0.532028</td>\n",
       "      <td>0.220341</td>\n",
       "      <td>0</td>\n",
       "      <td>1</td>\n",
       "    </tr>\n",
       "  </tbody>\n",
       "</table>\n",
       "</div>"
      ],
      "text/plain": [
       "   S1prime_log  S2prime_log  S3prime_log   C1_norm   C5_norm   C6_norm  \\\n",
       "0    -5.323718    -4.688678    -4.516378  4.804021  0.057051  0.061819   \n",
       "1    -5.726618    -4.500360    -4.521238  5.556828  0.058213  0.068069   \n",
       "2    -4.457393    -5.071759    -4.473922  4.499810  0.060098  0.064830   \n",
       "3    -4.637032    -4.941521    -4.318578  5.342334  0.060557  0.065276   \n",
       "4    -5.399715    -4.600461    -4.486414  4.382027  0.058001  0.062791   \n",
       "\n",
       "    C3_norm   C7_norm        C4  C5prime_norm  C6prime_norm  T2prime_norm  \\\n",
       "0  0.999716  3.957856  0.029074      1.351792      0.324593      0.232915   \n",
       "1 -0.551128  3.293464 -0.013352      2.487306      0.000000      0.226705   \n",
       "2 -0.235496  2.125609  0.020715      1.214656      0.000000      0.248523   \n",
       "3  0.089758  2.254025  0.020023      1.193831      0.000000      0.248253   \n",
       "4  0.789461  6.450941 -0.034895      1.315407      0.220885      0.220341   \n",
       "\n",
       "   T3prime_norm  T4prime_norm  T5prime_norm  Y1  Y2  \n",
       "0    -10.466155      0.445622      0.232915   0   1  \n",
       "1     -9.365141      0.438887      0.226705   1   0  \n",
       "2    -10.523529      0.451275      0.248523   1   0  \n",
       "3    -11.549720      0.616864      0.248253   1   0  \n",
       "4     -8.456290      0.532028      0.220341   0   1  "
      ]
     },
     "execution_count": 70,
     "metadata": {},
     "output_type": "execute_result"
    }
   ],
   "source": [
    "data = data[['S1prime_log', 'S2prime_log','S3prime_log',\n",
    "             'C1_norm', 'C5_norm', 'C6_norm', 'C3_norm', 'C7_norm', 'C4',\n",
    "       'C5prime_norm', 'C6prime_norm', 'T2prime_norm', 'T3prime_norm',\n",
    "       'T4prime_norm', 'T5prime_norm','Y1','Y2']]\n",
    "data.head()"
   ]
  },
  {
   "cell_type": "code",
   "execution_count": 71,
   "metadata": {},
   "outputs": [],
   "source": [
    "data.to_csv('normalized.csv')"
   ]
  },
  {
   "cell_type": "markdown",
   "metadata": {},
   "source": [
    "# Outliers"
   ]
  },
  {
   "cell_type": "code",
   "execution_count": 72,
   "metadata": {},
   "outputs": [],
   "source": [
    "# try running before doing outliers and make assumption to why you would do this and maybe only for some columns \n",
    "# 3 standard deviation for normalization, IQR normalization not needed"
   ]
  },
  {
   "cell_type": "code",
   "execution_count": 73,
   "metadata": {},
   "outputs": [],
   "source": [
    "# exclude target variables\n",
    "data1 = data[['S1prime_log', 'S2prime_log','S3prime_log',\n",
    "             'C1_norm', 'C5_norm', 'C6_norm', 'C3_norm', 'C7_norm', 'C4',\n",
    "       'C5prime_norm', 'C6prime_norm', 'T2prime_norm', 'T3prime_norm',\n",
    "       'T4prime_norm', 'T5prime_norm']]"
   ]
  },
  {
   "cell_type": "code",
   "execution_count": 76,
   "metadata": {},
   "outputs": [
    {
     "name": "stdout",
     "output_type": "stream",
     "text": [
      "Upper Bound:  -4.316107279769483\n",
      "S1prime_log Series([], Name: S1prime_log, dtype: float64) \n",
      "\n",
      "Upper Bound:  -3.8086159873827192\n",
      "S2prime_log 275   -3.806728\n",
      "425   -3.806728\n",
      "Name: S2prime_log, dtype: float64 \n",
      "\n",
      "Upper Bound:  -3.7989386331103803\n",
      "S3prime_log 50    -3.789625\n",
      "111   -3.790985\n",
      "188   -3.789625\n",
      "271   -3.789625\n",
      "382   -3.789625\n",
      "416   -3.789625\n",
      "Name: S3prime_log, dtype: float64 \n",
      "\n",
      "Upper Bound:  6.73951381646821\n",
      "C1_norm 65     6.768811\n",
      "228    6.767343\n",
      "391    6.768811\n",
      "665    6.768811\n",
      "Name: C1_norm, dtype: float64 \n",
      "\n",
      "Upper Bound:  0.06611579824955284\n",
      "C5_norm 313    0.066116\n",
      "Name: C5_norm, dtype: float64 \n",
      "\n",
      "Upper Bound:  0.07149548986880197\n",
      "C6_norm 58     0.071568\n",
      "78     0.071568\n",
      "204    0.071568\n",
      "Name: C6_norm, dtype: float64 \n",
      "\n",
      "Upper Bound:  2.4651591547137874\n",
      "C3_norm Series([], Name: C3_norm, dtype: float64) \n",
      "\n",
      "Upper Bound:  9.931892336149449\n",
      "C7_norm 275    9.938066\n",
      "Name: C7_norm, dtype: float64 \n",
      "\n",
      "Upper Bound:  0.10723513361722141\n",
      "C4 Series([], Name: C4, dtype: float64) \n",
      "\n",
      "Upper Bound:  2.7566596427024574\n",
      "C5prime_norm 58     2.846098\n",
      "161    2.846098\n",
      "204    2.846098\n",
      "265    2.846098\n",
      "Name: C5prime_norm, dtype: float64 \n",
      "\n",
      "Upper Bound:  0.6525969219901518\n",
      "C6prime_norm 33     0.658510\n",
      "65     0.664021\n",
      "332    0.664021\n",
      "399    0.664021\n",
      "416    0.664021\n",
      "449    0.664021\n",
      "469    0.664021\n",
      "673    0.656341\n",
      "Name: C6prime_norm, dtype: float64 \n",
      "\n",
      "Upper Bound:  0.2735032801440801\n",
      "T2prime_norm 125    0.274664\n",
      "199    0.274664\n",
      "Name: T2prime_norm, dtype: float64 \n",
      "\n",
      "Upper Bound:  -2.7219489824515524\n",
      "T3prime_norm 125   -2.524009\n",
      "199   -2.524009\n",
      "484   -2.524009\n",
      "Name: T3prime_norm, dtype: float64 \n",
      "\n",
      "Upper Bound:  0.8055459606004189\n",
      "T4prime_norm 464    0.809663\n",
      "479    0.809663\n",
      "492    0.809663\n",
      "Name: T4prime_norm, dtype: float64 \n",
      "\n",
      "Upper Bound:  0.2735032801440801\n",
      "T5prime_norm 125    0.274664\n",
      "199    0.274664\n",
      "Name: T5prime_norm, dtype: float64 \n",
      "\n",
      "Lower Bound:  -6.260820920064223\n",
      "S1prime_log 635   -6.436265\n",
      "Name: S1prime_log, dtype: float64 \n",
      "\n",
      "Lower Bound:  -5.7006510553942835\n",
      "S2prime_log 407   -6.141157\n",
      "Name: S2prime_log, dtype: float64 \n",
      "\n",
      "Lower Bound:  -5.186123753457234\n",
      "S3prime_log 165   -5.190485\n",
      "288   -5.189290\n",
      "454   -5.235159\n",
      "Name: S3prime_log, dtype: float64 \n",
      "\n",
      "Lower Bound:  2.770838879042503\n",
      "C1_norm 92     2.639057\n",
      "148    2.397895\n",
      "337    2.564949\n",
      "518    2.564949\n",
      "575    2.302585\n",
      "577    2.639057\n",
      "589    2.302585\n",
      "Name: C1_norm, dtype: float64 \n",
      "\n",
      "Lower Bound:  0.04996996312922751\n",
      "C5_norm 226    0.046548\n",
      "265    0.049325\n",
      "275    0.049850\n",
      "622    0.048361\n",
      "Name: C5_norm, dtype: float64 \n",
      "\n",
      "Lower Bound:  0.054198167884052295\n",
      "C6_norm 226    0.050356\n",
      "275    0.053610\n",
      "622    0.050449\n",
      "Name: C6_norm, dtype: float64 \n",
      "\n",
      "Lower Bound:  -1.628062869908115\n",
      "C3_norm Series([], Name: C3_norm, dtype: float64) \n",
      "\n",
      "Lower Bound:  -0.5860015742182352\n",
      "C7_norm Series([], Name: C7_norm, dtype: float64) \n",
      "\n",
      "Lower Bound:  -0.09267073079434433\n",
      "C4 107   -0.162352\n",
      "312   -0.092879\n",
      "Name: C4, dtype: float64 \n",
      "\n",
      "Lower Bound:  -0.1255685364625203\n",
      "C5prime_norm 169   -1.261521\n",
      "302   -0.828708\n",
      "536   -0.287682\n",
      "558   -0.804902\n",
      "Name: C5prime_norm, dtype: float64 \n",
      "\n",
      "Lower Bound:  -0.3969321595869678\n",
      "C6prime_norm Series([], Name: C6prime_norm, dtype: float64) \n",
      "\n",
      "Lower Bound:  0.18252323743951623\n",
      "T2prime_norm 106    0.177751\n",
      "298    0.178659\n",
      "454    0.180903\n",
      "Name: T2prime_norm, dtype: float64 \n",
      "\n",
      "Lower Bound:  -15.89776897754849\n",
      "T3prime_norm 63    -25.848291\n",
      "80    -15.980222\n",
      "191   -16.189223\n",
      "397   -16.889482\n",
      "431   -19.137155\n",
      "575   -17.837720\n",
      "Name: T3prime_norm, dtype: float64 \n",
      "\n",
      "Lower Bound:  0.13514105519653152\n",
      "T4prime_norm Series([], Name: T4prime_norm, dtype: float64) \n",
      "\n",
      "Lower Bound:  0.18252323743951623\n",
      "T5prime_norm 106    0.177751\n",
      "298    0.178659\n",
      "454    0.180903\n",
      "Name: T5prime_norm, dtype: float64 \n",
      "\n"
     ]
    }
   ],
   "source": [
    "# investigating the nature of the outliers - upper bound\n",
    "for cols in data1.columns:\n",
    "    u_bound = data1[cols].mean() + 3* data1[cols].std()\n",
    "    print('Upper Bound: ', u_bound)\n",
    "    print(cols, data1[cols][data1[cols]>u_bound],'\\n')\n",
    "#my_col[my_col>u_bound]\n",
    "# investigating the nature of the outliers - lower bound\n",
    "for cols in data1.columns:\n",
    "    l_bound = data1[cols].mean() - 3* data1[cols].std()\n",
    "    print('Lower Bound: ', l_bound)\n",
    "    print(cols, data1[cols][data1[cols]<l_bound],'\\n')"
   ]
  },
  {
   "cell_type": "code",
   "execution_count": 77,
   "metadata": {},
   "outputs": [],
   "source": [
    "# going for all the columns - upper bound\n",
    "for col in data1.columns:\n",
    "    u_bound = data1[col].mean() + 3* data1[col].std()\n",
    "    data1[col][data1[col] > u_bound] = u_bound"
   ]
  },
  {
   "cell_type": "code",
   "execution_count": 78,
   "metadata": {},
   "outputs": [],
   "source": [
    "# going for all the columns - lower bound\n",
    "for col in data1.columns:\n",
    "    l_bound = data1[col].mean() - 3* data1[col].std()\n",
    "    data1[col][data1[col] < l_bound] = l_bound"
   ]
  },
  {
   "cell_type": "code",
   "execution_count": 79,
   "metadata": {},
   "outputs": [
    {
     "name": "stdout",
     "output_type": "stream",
     "text": [
      "S1prime_log False    660\n",
      "Name: S1prime_log, dtype: int64 \n",
      "\n",
      "S2prime_log False    660\n",
      "Name: S2prime_log, dtype: int64 \n",
      "\n",
      "S3prime_log False    660\n",
      "Name: S3prime_log, dtype: int64 \n",
      "\n",
      "C1_norm True    660\n",
      "Name: C1_norm, dtype: int64 \n",
      "\n",
      "C5_norm False    660\n",
      "Name: C5_norm, dtype: int64 \n",
      "\n",
      "C6_norm False    660\n",
      "Name: C6_norm, dtype: int64 \n",
      "\n",
      "C3_norm True     483\n",
      "False    177\n",
      "Name: C3_norm, dtype: int64 \n",
      "\n",
      "C7_norm True     654\n",
      "False      6\n",
      "Name: C7_norm, dtype: int64 \n",
      "\n",
      "C4 False    660\n",
      "Name: C4, dtype: int64 \n",
      "\n",
      "C5prime_norm True     646\n",
      "False     14\n",
      "Name: C5prime_norm, dtype: int64 \n",
      "\n",
      "C6prime_norm False    502\n",
      "True     158\n",
      "Name: C6prime_norm, dtype: int64 \n",
      "\n",
      "T2prime_norm False    660\n",
      "Name: T2prime_norm, dtype: int64 \n",
      "\n",
      "T3prime_norm False    660\n",
      "Name: T3prime_norm, dtype: int64 \n",
      "\n",
      "T4prime_norm True     644\n",
      "False     16\n",
      "Name: T4prime_norm, dtype: int64 \n",
      "\n",
      "T5prime_norm False    660\n",
      "Name: T5prime_norm, dtype: int64 \n",
      "\n",
      "S1prime_log True    660\n",
      "Name: S1prime_log, dtype: int64 \n",
      "\n",
      "S2prime_log True    660\n",
      "Name: S2prime_log, dtype: int64 \n",
      "\n",
      "S3prime_log True    660\n",
      "Name: S3prime_log, dtype: int64 \n",
      "\n",
      "C1_norm False    660\n",
      "Name: C1_norm, dtype: int64 \n",
      "\n",
      "C5_norm True    660\n",
      "Name: C5_norm, dtype: int64 \n",
      "\n",
      "C6_norm True    660\n",
      "Name: C6_norm, dtype: int64 \n",
      "\n",
      "C3_norm False    496\n",
      "True     164\n",
      "Name: C3_norm, dtype: int64 \n",
      "\n",
      "C7_norm False    655\n",
      "True       5\n",
      "Name: C7_norm, dtype: int64 \n",
      "\n",
      "C4 True    660\n",
      "Name: C4, dtype: int64 \n",
      "\n",
      "C5prime_norm False    649\n",
      "True      11\n",
      "Name: C5prime_norm, dtype: int64 \n",
      "\n",
      "C6prime_norm True     416\n",
      "False    244\n",
      "Name: C6prime_norm, dtype: int64 \n",
      "\n",
      "T2prime_norm False    660\n",
      "Name: T2prime_norm, dtype: int64 \n",
      "\n",
      "T3prime_norm True    660\n",
      "Name: T3prime_norm, dtype: int64 \n",
      "\n",
      "T4prime_norm False    660\n",
      "Name: T4prime_norm, dtype: int64 \n",
      "\n",
      "T5prime_norm False    660\n",
      "Name: T5prime_norm, dtype: int64 \n",
      "\n"
     ]
    }
   ],
   "source": [
    "# verifying there is no value greater than the upper boundary\n",
    "for cols in data1.columns:\n",
    "    print(cols, (data1[cols]>u_bound).value_counts(),'\\n')\n",
    "    #print(cols,data1[cols]>u_bound.value_counts())\n",
    "#pd.Series(my_col>u_bound).value_counts()\n",
    "# checkin lower bound \n",
    "for cols in data1.columns:\n",
    "    print(cols, (data1[cols]<l_bound).value_counts(),'\\n')"
   ]
  },
  {
   "cell_type": "code",
   "execution_count": 80,
   "metadata": {},
   "outputs": [],
   "source": [
    "# IQR, minmax, normalize, z-score "
   ]
  },
  {
   "cell_type": "markdown",
   "metadata": {},
   "source": [
    "# Standardization - zscore"
   ]
  },
  {
   "cell_type": "code",
   "execution_count": 81,
   "metadata": {},
   "outputs": [],
   "source": [
    "# exclude the Y1, Y2"
   ]
  },
  {
   "cell_type": "code",
   "execution_count": 82,
   "metadata": {},
   "outputs": [
    {
     "data": {
      "text/html": [
       "<div>\n",
       "<style scoped>\n",
       "    .dataframe tbody tr th:only-of-type {\n",
       "        vertical-align: middle;\n",
       "    }\n",
       "\n",
       "    .dataframe tbody tr th {\n",
       "        vertical-align: top;\n",
       "    }\n",
       "\n",
       "    .dataframe thead th {\n",
       "        text-align: right;\n",
       "    }\n",
       "</style>\n",
       "<table border=\"1\" class=\"dataframe\">\n",
       "  <thead>\n",
       "    <tr style=\"text-align: right;\">\n",
       "      <th></th>\n",
       "      <th>S1prime_log</th>\n",
       "      <th>S2prime_log</th>\n",
       "      <th>S3prime_log</th>\n",
       "      <th>C1_norm</th>\n",
       "      <th>C5_norm</th>\n",
       "      <th>C6_norm</th>\n",
       "      <th>C3_norm</th>\n",
       "      <th>C7_norm</th>\n",
       "      <th>C4</th>\n",
       "      <th>C5prime_norm</th>\n",
       "      <th>C6prime_norm</th>\n",
       "      <th>T2prime_norm</th>\n",
       "      <th>T3prime_norm</th>\n",
       "      <th>T4prime_norm</th>\n",
       "      <th>T5prime_norm</th>\n",
       "    </tr>\n",
       "  </thead>\n",
       "  <tbody>\n",
       "    <tr>\n",
       "      <th>0</th>\n",
       "      <td>-0.109967</td>\n",
       "      <td>0.208871</td>\n",
       "      <td>-0.103486</td>\n",
       "      <td>0.070717</td>\n",
       "      <td>-0.376415</td>\n",
       "      <td>-0.367033</td>\n",
       "      <td>0.852544</td>\n",
       "      <td>-0.408238</td>\n",
       "      <td>0.659936</td>\n",
       "      <td>0.070760</td>\n",
       "      <td>1.128704</td>\n",
       "      <td>0.324008</td>\n",
       "      <td>-0.569337</td>\n",
       "      <td>-0.221361</td>\n",
       "      <td>0.324008</td>\n",
       "    </tr>\n",
       "    <tr>\n",
       "      <th>1</th>\n",
       "      <td>-1.357329</td>\n",
       "      <td>0.811292</td>\n",
       "      <td>-0.124570</td>\n",
       "      <td>1.228076</td>\n",
       "      <td>0.060704</td>\n",
       "      <td>1.838158</td>\n",
       "      <td>-1.422466</td>\n",
       "      <td>-0.787538</td>\n",
       "      <td>-0.631135</td>\n",
       "      <td>2.527940</td>\n",
       "      <td>-0.732182</td>\n",
       "      <td>-0.087513</td>\n",
       "      <td>-0.038315</td>\n",
       "      <td>-0.281716</td>\n",
       "      <td>-0.087513</td>\n",
       "    </tr>\n",
       "    <tr>\n",
       "      <th>2</th>\n",
       "      <td>2.572138</td>\n",
       "      <td>-1.016588</td>\n",
       "      <td>0.080709</td>\n",
       "      <td>-0.396976</td>\n",
       "      <td>0.769656</td>\n",
       "      <td>0.695432</td>\n",
       "      <td>-0.959449</td>\n",
       "      <td>-1.454264</td>\n",
       "      <td>0.405554</td>\n",
       "      <td>-0.225994</td>\n",
       "      <td>-0.732182</td>\n",
       "      <td>1.358166</td>\n",
       "      <td>-0.597009</td>\n",
       "      <td>-0.170711</td>\n",
       "      <td>1.358166</td>\n",
       "    </tr>\n",
       "    <tr>\n",
       "      <th>3</th>\n",
       "      <td>2.015982</td>\n",
       "      <td>-0.599963</td>\n",
       "      <td>0.754657</td>\n",
       "      <td>0.898315</td>\n",
       "      <td>0.942413</td>\n",
       "      <td>0.852738</td>\n",
       "      <td>-0.482319</td>\n",
       "      <td>-1.380952</td>\n",
       "      <td>0.384499</td>\n",
       "      <td>-0.271058</td>\n",
       "      <td>-0.732182</td>\n",
       "      <td>1.340313</td>\n",
       "      <td>-1.091944</td>\n",
       "      <td>1.313158</td>\n",
       "      <td>1.340313</td>\n",
       "    </tr>\n",
       "    <tr>\n",
       "      <th>4</th>\n",
       "      <td>-0.345250</td>\n",
       "      <td>0.491074</td>\n",
       "      <td>0.026514</td>\n",
       "      <td>-0.578054</td>\n",
       "      <td>-0.019120</td>\n",
       "      <td>-0.023783</td>\n",
       "      <td>0.544111</td>\n",
       "      <td>1.015060</td>\n",
       "      <td>-1.286716</td>\n",
       "      <td>-0.007974</td>\n",
       "      <td>0.534148</td>\n",
       "      <td>-0.509160</td>\n",
       "      <td>0.400026</td>\n",
       "      <td>0.552930</td>\n",
       "      <td>-0.509160</td>\n",
       "    </tr>\n",
       "    <tr>\n",
       "      <th>...</th>\n",
       "      <td>...</td>\n",
       "      <td>...</td>\n",
       "      <td>...</td>\n",
       "      <td>...</td>\n",
       "      <td>...</td>\n",
       "      <td>...</td>\n",
       "      <td>...</td>\n",
       "      <td>...</td>\n",
       "      <td>...</td>\n",
       "      <td>...</td>\n",
       "      <td>...</td>\n",
       "      <td>...</td>\n",
       "      <td>...</td>\n",
       "      <td>...</td>\n",
       "      <td>...</td>\n",
       "    </tr>\n",
       "    <tr>\n",
       "      <th>677</th>\n",
       "      <td>0.786871</td>\n",
       "      <td>-0.264025</td>\n",
       "      <td>0.632853</td>\n",
       "      <td>1.538743</td>\n",
       "      <td>-0.296606</td>\n",
       "      <td>-0.244509</td>\n",
       "      <td>0.204645</td>\n",
       "      <td>0.318968</td>\n",
       "      <td>-0.082726</td>\n",
       "      <td>0.125787</td>\n",
       "      <td>1.715753</td>\n",
       "      <td>-0.203765</td>\n",
       "      <td>-1.378426</td>\n",
       "      <td>0.175778</td>\n",
       "      <td>-0.203765</td>\n",
       "    </tr>\n",
       "    <tr>\n",
       "      <th>678</th>\n",
       "      <td>0.010976</td>\n",
       "      <td>0.182678</td>\n",
       "      <td>0.488805</td>\n",
       "      <td>-0.266055</td>\n",
       "      <td>-0.099224</td>\n",
       "      <td>0.207152</td>\n",
       "      <td>0.163341</td>\n",
       "      <td>-0.797696</td>\n",
       "      <td>1.561144</td>\n",
       "      <td>0.485040</td>\n",
       "      <td>-0.732182</td>\n",
       "      <td>0.678514</td>\n",
       "      <td>-0.419695</td>\n",
       "      <td>-0.315342</td>\n",
       "      <td>0.678514</td>\n",
       "    </tr>\n",
       "    <tr>\n",
       "      <th>679</th>\n",
       "      <td>-0.577744</td>\n",
       "      <td>0.154491</td>\n",
       "      <td>-0.520882</td>\n",
       "      <td>-0.060765</td>\n",
       "      <td>1.303011</td>\n",
       "      <td>1.414271</td>\n",
       "      <td>0.738052</td>\n",
       "      <td>-0.365328</td>\n",
       "      <td>0.701050</td>\n",
       "      <td>-0.038811</td>\n",
       "      <td>-0.732182</td>\n",
       "      <td>-0.595732</td>\n",
       "      <td>0.355700</td>\n",
       "      <td>-0.323422</td>\n",
       "      <td>-0.595732</td>\n",
       "    </tr>\n",
       "    <tr>\n",
       "      <th>680</th>\n",
       "      <td>0.908298</td>\n",
       "      <td>-1.517776</td>\n",
       "      <td>1.005120</td>\n",
       "      <td>-0.616978</td>\n",
       "      <td>1.108033</td>\n",
       "      <td>1.414271</td>\n",
       "      <td>0.608940</td>\n",
       "      <td>0.059936</td>\n",
       "      <td>0.757621</td>\n",
       "      <td>0.260092</td>\n",
       "      <td>1.644417</td>\n",
       "      <td>-1.340653</td>\n",
       "      <td>-0.600626</td>\n",
       "      <td>-1.157368</td>\n",
       "      <td>-1.340653</td>\n",
       "    </tr>\n",
       "    <tr>\n",
       "      <th>681</th>\n",
       "      <td>1.447588</td>\n",
       "      <td>0.079274</td>\n",
       "      <td>0.829512</td>\n",
       "      <td>1.353415</td>\n",
       "      <td>-1.307927</td>\n",
       "      <td>-1.602490</td>\n",
       "      <td>0.768615</td>\n",
       "      <td>1.496023</td>\n",
       "      <td>0.526437</td>\n",
       "      <td>-0.310227</td>\n",
       "      <td>0.724250</td>\n",
       "      <td>0.366041</td>\n",
       "      <td>-0.315401</td>\n",
       "      <td>-0.635298</td>\n",
       "      <td>0.366041</td>\n",
       "    </tr>\n",
       "  </tbody>\n",
       "</table>\n",
       "<p>660 rows × 15 columns</p>\n",
       "</div>"
      ],
      "text/plain": [
       "     S1prime_log  S2prime_log  S3prime_log   C1_norm   C5_norm   C6_norm  \\\n",
       "0      -0.109967     0.208871    -0.103486  0.070717 -0.376415 -0.367033   \n",
       "1      -1.357329     0.811292    -0.124570  1.228076  0.060704  1.838158   \n",
       "2       2.572138    -1.016588     0.080709 -0.396976  0.769656  0.695432   \n",
       "3       2.015982    -0.599963     0.754657  0.898315  0.942413  0.852738   \n",
       "4      -0.345250     0.491074     0.026514 -0.578054 -0.019120 -0.023783   \n",
       "..           ...          ...          ...       ...       ...       ...   \n",
       "677     0.786871    -0.264025     0.632853  1.538743 -0.296606 -0.244509   \n",
       "678     0.010976     0.182678     0.488805 -0.266055 -0.099224  0.207152   \n",
       "679    -0.577744     0.154491    -0.520882 -0.060765  1.303011  1.414271   \n",
       "680     0.908298    -1.517776     1.005120 -0.616978  1.108033  1.414271   \n",
       "681     1.447588     0.079274     0.829512  1.353415 -1.307927 -1.602490   \n",
       "\n",
       "      C3_norm   C7_norm        C4  C5prime_norm  C6prime_norm  T2prime_norm  \\\n",
       "0    0.852544 -0.408238  0.659936      0.070760      1.128704      0.324008   \n",
       "1   -1.422466 -0.787538 -0.631135      2.527940     -0.732182     -0.087513   \n",
       "2   -0.959449 -1.454264  0.405554     -0.225994     -0.732182      1.358166   \n",
       "3   -0.482319 -1.380952  0.384499     -0.271058     -0.732182      1.340313   \n",
       "4    0.544111  1.015060 -1.286716     -0.007974      0.534148     -0.509160   \n",
       "..        ...       ...       ...           ...           ...           ...   \n",
       "677  0.204645  0.318968 -0.082726      0.125787      1.715753     -0.203765   \n",
       "678  0.163341 -0.797696  1.561144      0.485040     -0.732182      0.678514   \n",
       "679  0.738052 -0.365328  0.701050     -0.038811     -0.732182     -0.595732   \n",
       "680  0.608940  0.059936  0.757621      0.260092      1.644417     -1.340653   \n",
       "681  0.768615  1.496023  0.526437     -0.310227      0.724250      0.366041   \n",
       "\n",
       "     T3prime_norm  T4prime_norm  T5prime_norm  \n",
       "0       -0.569337     -0.221361      0.324008  \n",
       "1       -0.038315     -0.281716     -0.087513  \n",
       "2       -0.597009     -0.170711      1.358166  \n",
       "3       -1.091944      1.313158      1.340313  \n",
       "4        0.400026      0.552930     -0.509160  \n",
       "..            ...           ...           ...  \n",
       "677     -1.378426      0.175778     -0.203765  \n",
       "678     -0.419695     -0.315342      0.678514  \n",
       "679      0.355700     -0.323422     -0.595732  \n",
       "680     -0.600626     -1.157368     -1.340653  \n",
       "681     -0.315401     -0.635298      0.366041  \n",
       "\n",
       "[660 rows x 15 columns]"
      ]
     },
     "execution_count": 82,
     "metadata": {},
     "output_type": "execute_result"
    }
   ],
   "source": [
    "# import z score\n",
    "from scipy.stats import zscore\n",
    "\n",
    "# make sure to exclude the Y1 and Y2\n",
    "data1.apply(zscore)"
   ]
  },
  {
   "cell_type": "code",
   "execution_count": 83,
   "metadata": {},
   "outputs": [],
   "source": [
    "# add back the Y1 and Y2 (maybe also the categoricals)\n"
   ]
  },
  {
   "cell_type": "markdown",
   "metadata": {},
   "source": [
    "# Correlation"
   ]
  },
  {
   "cell_type": "code",
   "execution_count": 84,
   "metadata": {},
   "outputs": [
    {
     "data": {
      "text/plain": [
       "S1prime_log     False\n",
       "S2prime_log     False\n",
       "S3prime_log     False\n",
       "C1_norm         False\n",
       "C5_norm         False\n",
       "C6_norm         False\n",
       "C3_norm         False\n",
       "C7_norm         False\n",
       "C4              False\n",
       "C5prime_norm    False\n",
       "C6prime_norm     True\n",
       "T2prime_norm    False\n",
       "T3prime_norm    False\n",
       "T4prime_norm    False\n",
       "T5prime_norm    False\n",
       "Y1               True\n",
       "Y2               True\n",
       "Name: Y1, dtype: bool"
      ]
     },
     "execution_count": 84,
     "metadata": {},
     "output_type": "execute_result"
    }
   ],
   "source": [
    "s1 = data.corr()['Y1'] > 0.5 \n",
    "s2 = data.corr()['Y1'] < -0.5\n",
    "s1 | s2 # logical OR"
   ]
  },
  {
   "cell_type": "code",
   "execution_count": 85,
   "metadata": {},
   "outputs": [
    {
     "data": {
      "text/plain": [
       "S1prime_log     False\n",
       "S2prime_log     False\n",
       "S3prime_log     False\n",
       "C1_norm         False\n",
       "C5_norm         False\n",
       "C6_norm         False\n",
       "C3_norm         False\n",
       "C7_norm         False\n",
       "C4              False\n",
       "C5prime_norm    False\n",
       "C6prime_norm     True\n",
       "T2prime_norm    False\n",
       "T3prime_norm    False\n",
       "T4prime_norm    False\n",
       "T5prime_norm    False\n",
       "Y1               True\n",
       "Y2               True\n",
       "Name: Y2, dtype: bool"
      ]
     },
     "execution_count": 85,
     "metadata": {},
     "output_type": "execute_result"
    }
   ],
   "source": [
    "s3 = data.corr()['Y2'] > 0.5 \n",
    "s4 = data.corr()['Y2'] < -0.5\n",
    "s3 | s4 # logical OR"
   ]
  },
  {
   "cell_type": "code",
   "execution_count": 86,
   "metadata": {},
   "outputs": [],
   "source": [
    "# feature selections "
   ]
  },
  {
   "cell_type": "markdown",
   "metadata": {},
   "source": [
    "# Binning"
   ]
  },
  {
   "cell_type": "markdown",
   "metadata": {},
   "source": [
    "0100-0999\tAgriculture, Forestry and Fishing\n",
    "1000-1499\tMining\n",
    "1500-1799\tConstruction\n",
    "\n",
    "2000-3999\tManufacturing\n",
    "4000-4999\tTransportation, Communications, Electric, Gas and Sanitary service\n",
    "5000-5199\tWholesale Trade\n",
    "5200-5999\tRetail Trade\n",
    "6000-6799\tFinance, Insurance and Real Estate\n",
    "7000-8999\tServices\n",
    "9100-9729\tPublic Administration\n",
    "9900-9999\tNonclassifiable"
   ]
  },
  {
   "cell_type": "code",
   "execution_count": 96,
   "metadata": {},
   "outputs": [],
   "source": [
    "#what should we bin? do we bin all or seperate?"
   ]
  },
  {
   "cell_type": "markdown",
   "metadata": {},
   "source": [
    "# Feature Selection"
   ]
  },
  {
   "cell_type": "code",
   "execution_count": null,
   "metadata": {},
   "outputs": [],
   "source": [
    "[['S1prime_log', 'S2prime_log','S3prime_log',\n",
    "             'C1_norm', 'C5_norm', 'C6_norm', 'C3_norm', 'C7_norm', 'C4',\n",
    "       'C5prime_norm', 'C6prime_norm', 'T2prime_norm', 'T3prime_norm',\n",
    "       'T4prime_norm', 'T5prime_norm']]"
   ]
  },
  {
   "cell_type": "code",
   "execution_count": 87,
   "metadata": {},
   "outputs": [],
   "source": [
    "# Recursive Feature Elimination\n",
    "from sklearn import datasets\n",
    "from sklearn.feature_selection import RFE\n",
    "from sklearn.linear_model import LogisticRegression"
   ]
  },
  {
   "cell_type": "code",
   "execution_count": 88,
   "metadata": {},
   "outputs": [],
   "source": [
    "#https://www.datacamp.com/community/tutorials/feature-selection-python\n",
    "array = data.values\n",
    "X = array[:,0:16]\n",
    "Y = array[:,16]"
   ]
  },
  {
   "cell_type": "code",
   "execution_count": 92,
   "metadata": {},
   "outputs": [
    {
     "name": "stderr",
     "output_type": "stream",
     "text": [
      "/opt/tljh/user/lib/python3.6/site-packages/sklearn/linear_model/_logistic.py:940: ConvergenceWarning: lbfgs failed to converge (status=1):\n",
      "STOP: TOTAL NO. of ITERATIONS REACHED LIMIT.\n",
      "\n",
      "Increase the number of iterations (max_iter) or scale the data as shown in:\n",
      "    https://scikit-learn.org/stable/modules/preprocessing.html\n",
      "Please also refer to the documentation for alternative solver options:\n",
      "    https://scikit-learn.org/stable/modules/linear_model.html#logistic-regression\n",
      "  extra_warning_msg=_LOGISTIC_SOLVER_CONVERGENCE_MSG)\n",
      "/opt/tljh/user/lib/python3.6/site-packages/sklearn/linear_model/_logistic.py:940: ConvergenceWarning: lbfgs failed to converge (status=1):\n",
      "STOP: TOTAL NO. of ITERATIONS REACHED LIMIT.\n",
      "\n",
      "Increase the number of iterations (max_iter) or scale the data as shown in:\n",
      "    https://scikit-learn.org/stable/modules/preprocessing.html\n",
      "Please also refer to the documentation for alternative solver options:\n",
      "    https://scikit-learn.org/stable/modules/linear_model.html#logistic-regression\n",
      "  extra_warning_msg=_LOGISTIC_SOLVER_CONVERGENCE_MSG)\n",
      "/opt/tljh/user/lib/python3.6/site-packages/sklearn/linear_model/_logistic.py:940: ConvergenceWarning: lbfgs failed to converge (status=1):\n",
      "STOP: TOTAL NO. of ITERATIONS REACHED LIMIT.\n",
      "\n",
      "Increase the number of iterations (max_iter) or scale the data as shown in:\n",
      "    https://scikit-learn.org/stable/modules/preprocessing.html\n",
      "Please also refer to the documentation for alternative solver options:\n",
      "    https://scikit-learn.org/stable/modules/linear_model.html#logistic-regression\n",
      "  extra_warning_msg=_LOGISTIC_SOLVER_CONVERGENCE_MSG)\n",
      "/opt/tljh/user/lib/python3.6/site-packages/sklearn/linear_model/_logistic.py:940: ConvergenceWarning: lbfgs failed to converge (status=1):\n",
      "STOP: TOTAL NO. of ITERATIONS REACHED LIMIT.\n",
      "\n",
      "Increase the number of iterations (max_iter) or scale the data as shown in:\n",
      "    https://scikit-learn.org/stable/modules/preprocessing.html\n",
      "Please also refer to the documentation for alternative solver options:\n",
      "    https://scikit-learn.org/stable/modules/linear_model.html#logistic-regression\n",
      "  extra_warning_msg=_LOGISTIC_SOLVER_CONVERGENCE_MSG)\n",
      "/opt/tljh/user/lib/python3.6/site-packages/sklearn/linear_model/_logistic.py:940: ConvergenceWarning: lbfgs failed to converge (status=1):\n",
      "STOP: TOTAL NO. of ITERATIONS REACHED LIMIT.\n",
      "\n",
      "Increase the number of iterations (max_iter) or scale the data as shown in:\n",
      "    https://scikit-learn.org/stable/modules/preprocessing.html\n",
      "Please also refer to the documentation for alternative solver options:\n",
      "    https://scikit-learn.org/stable/modules/linear_model.html#logistic-regression\n",
      "  extra_warning_msg=_LOGISTIC_SOLVER_CONVERGENCE_MSG)\n"
     ]
    },
    {
     "name": "stdout",
     "output_type": "stream",
     "text": [
      "[False False False False False False  True False False False  True False\n",
      " False False False  True]\n",
      "[ 5  2  7  6  9  8  1 11 12  3  1 14 13  4 10  1]\n"
     ]
    },
    {
     "name": "stderr",
     "output_type": "stream",
     "text": [
      "/opt/tljh/user/lib/python3.6/site-packages/sklearn/linear_model/_logistic.py:940: ConvergenceWarning: lbfgs failed to converge (status=1):\n",
      "STOP: TOTAL NO. of ITERATIONS REACHED LIMIT.\n",
      "\n",
      "Increase the number of iterations (max_iter) or scale the data as shown in:\n",
      "    https://scikit-learn.org/stable/modules/preprocessing.html\n",
      "Please also refer to the documentation for alternative solver options:\n",
      "    https://scikit-learn.org/stable/modules/linear_model.html#logistic-regression\n",
      "  extra_warning_msg=_LOGISTIC_SOLVER_CONVERGENCE_MSG)\n"
     ]
    }
   ],
   "source": [
    "# create a base classifier used to evaluate a subset of attributes\n",
    "model = LogisticRegression()\n",
    "# create the RFE model and select 3 attributes\n",
    "rfe = RFE(model, 3)\n",
    "rfe = rfe.fit(X,Y)\n",
    "# summarize the selection of the attributes\n",
    "print(rfe.support_)\n",
    "print(rfe.ranking_)\n",
    "\n",
    "##feature 3,4,6 selected (S3prime_log','C1_norm', 'C6_norm')\n",
    "##7, 11, 16 ('C3_norm','C6prime_norm', 'T5prime_norm' )\n",
    "#marked with a 1 ranking\n"
   ]
  },
  {
   "cell_type": "code",
   "execution_count": 94,
   "metadata": {},
   "outputs": [],
   "source": [
    "data3= [['C3_norm','C6prime_norm', 'T5prime_norm']]"
   ]
  },
  {
   "cell_type": "code",
   "execution_count": 95,
   "metadata": {},
   "outputs": [],
   "source": [
    "data.to_csv('219#2.csv')"
   ]
  },
  {
   "cell_type": "code",
   "execution_count": null,
   "metadata": {},
   "outputs": [],
   "source": []
  }
 ],
 "metadata": {
  "kernelspec": {
   "display_name": "Python 3",
   "language": "python",
   "name": "python3"
  },
  "language_info": {
   "codemirror_mode": {
    "name": "ipython",
    "version": 3
   },
   "file_extension": ".py",
   "mimetype": "text/x-python",
   "name": "python",
   "nbconvert_exporter": "python",
   "pygments_lexer": "ipython3",
   "version": "3.6.7"
  }
 },
 "nbformat": 4,
 "nbformat_minor": 4
}
